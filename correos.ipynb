{
 "cells": [
  {
   "cell_type": "code",
   "execution_count": null,
   "metadata": {},
   "outputs": [],
   "source": [
    "import pandas as pd\n",
    "from cryptography.fernet import Fernet\n",
    "\n",
    "class EncryptionService:\n",
    "    def __init__(self, key_path='secret.key'):\n",
    "        self.key = self.load_or_generate_key(key_path)\n",
    "        self.cipher_suite = Fernet(self.key)\n",
    "    \n",
    "    def load_or_generate_key(self, key_path: str) -> bytes:\n",
    "        try:\n",
    "            with open(key_path, 'rb') as key_file:\n",
    "                return key_file.read()\n",
    "        except FileNotFoundError:\n",
    "            key = Fernet.generate_key()\n",
    "            with open(key_path, 'wb') as key_file:\n",
    "                key_file.write(key)\n",
    "            return key\n",
    "    \n",
    "    def encrypt(self, data: str) -> str:\n",
    "        try:\n",
    "            return self.cipher_suite.encrypt(data.encode()).decode()\n",
    "        except Exception:\n",
    "            raise ValueError('Error al encriptar los datos')\n",
    "    \n",
    "    def decrypt(self, encrypted_data: str) -> str:\n",
    "        try:\n",
    "            return self.cipher_suite.decrypt(encrypted_data.encode()).decode()\n",
    "        except Exception:\n",
    "            raise ValueError('Error al desencriptar los datos')\n",
    "\n",
    "class ExcelService:\n",
    "    def __init__(self, file_path: str):\n",
    "        self.file_path = file_path\n",
    "    \n",
    "    def read_sheet(self, sheet_name: str|None = None) -> pd.DataFrame:\n",
    "        return pd.read_excel(self.file_path, sheet_name=sheet_name)\n",
    "    \n",
    "    def write_sheet(self, df: pd.DataFrame, sheet_name: str):\n",
    "        with pd.ExcelWriter(self.file_path, mode='a', if_sheet_exists='replace') as writer:\n",
    "            df.to_excel(writer, sheet_name=sheet_name, index=False)\n",
    "\n",
    "class Correos:\n",
    "    def __init__(self):\n",
    "        self.excel_service = ExcelService('email/correos.xlsx')\n",
    "        self.encryption_service = EncryptionService()\n",
    "        self.df_credenciales = self.excel_service.read_sheet('Credenciales')\n",
    "        self.df_destinatarios = self.excel_service.read_sheet('Destinatarios')\n",
    "    \n",
    "    @property\n",
    "    def credenciales(self) -> dict[str, list[str]]:\n",
    "        encrypted_password = self.df_credenciales['PASSWORD'][0]\n",
    "        return {\n",
    "            'EMAIL': self.df_credenciales['EMAIL'][0],\n",
    "            'PASSWORD': self.encryption_service.decrypt(encrypted_password),\n",
    "        }\n",
    "    \n",
    "    def get_recipients(self, tipo: str|None = None) -> tuple[list[str], list[str]]:\n",
    "        destinatarios = None\n",
    "        con_copia = None\n",
    "        \n",
    "        for _, row in self.df_destinatarios.iterrows():\n",
    "            if row['CORREO'] == tipo:\n",
    "                destinatarios = list(map(str.strip, str(row['DESTINATARIOS']).split(',')))\n",
    "                con_copia = list(map(str.strip, str(row['CON_COPIA']).split(',')))\n",
    "        \n",
    "        if destinatarios == None and con_copia == None:\n",
    "            raise ValueError(f'No se encontraron destinatarios para el tipo de correo: {tipo}')\n",
    "        \n",
    "        return destinatarios, con_copia"
   ]
  },
  {
   "cell_type": "code",
   "execution_count": null,
   "metadata": {},
   "outputs": [],
   "source": [
    "correos = Correos()\n",
    "correos.credenciales"
   ]
  },
  {
   "cell_type": "code",
   "execution_count": null,
   "metadata": {},
   "outputs": [],
   "source": [
    "destinatarios, con_copia = correos.get_recipients('MULTIPRODUCTO')\n",
    "print('Destinatarios:', destinatarios)\n",
    "print('Con copia:', con_copia)"
   ]
  },
  {
   "cell_type": "code",
   "execution_count": null,
   "metadata": {},
   "outputs": [],
   "source": [
    "try:\n",
    "    password = 'password123'\n",
    "    encrypted_password = correos.encryption_service.encrypt(password)\n",
    "    print(f'Contraseña encriptada: {encrypted_password}')\n",
    "except Exception as e:\n",
    "    print(e)"
   ]
  },
  {
   "cell_type": "code",
   "execution_count": null,
   "metadata": {},
   "outputs": [],
   "source": [
    "try:\n",
    "    decrypted_password = correos.encryption_service.decrypt(encrypted_password)\n",
    "    print(f'Contraseña desencriptada: {decrypted_password}')\n",
    "except Exception as e:\n",
    "    print(e)"
   ]
  }
 ],
 "metadata": {
  "kernelspec": {
   "display_name": "Python 3",
   "language": "python",
   "name": "python3"
  },
  "language_info": {
   "codemirror_mode": {
    "name": "ipython",
    "version": 3
   },
   "file_extension": ".py",
   "mimetype": "text/x-python",
   "name": "python",
   "nbconvert_exporter": "python",
   "pygments_lexer": "ipython3",
   "version": "3.10.9"
  }
 },
 "nbformat": 4,
 "nbformat_minor": 2
}
