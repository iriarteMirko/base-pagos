{
 "cells": [
  {
   "cell_type": "code",
   "execution_count": null,
   "metadata": {},
   "outputs": [],
   "source": [
    "import pandas as pd\n",
    "import warnings\n",
    "import os\n",
    "\n",
    "warnings.filterwarnings(\"ignore\")   \n",
    "\n",
    "base_pagos_efect_path = 'bases/efectividades/BasePagos_Efectividades_20240919_Contrato.xlsx'\n",
    "df_pagos = pd.read_excel(base_pagos_efect_path, sheet_name=\"BD\")\n",
    "\n",
    "dashboard_efect_path = 'dashboard/DASHBOARD_EFECTIVIDADES_SEP19.xlsx'\n",
    "dashboard_saldos_path = 'dashboard/DASHBOARD_SALDOS_SEP19.xlsx'\n",
    "dashboard_indicadores_path = 'dashboard/DASHBOARD_INDICADORES_SEP19.xlsx'\n",
    "\n",
    "dashboard_efect_path = os.path.abspath(dashboard_efect_path)\n",
    "dashboard_saldos_path = os.path.abspath(dashboard_saldos_path)\n",
    "dashboard_indicadores_path = os.path.abspath(dashboard_indicadores_path)\n",
    "\n",
    "print(dashboard_efect_path)\n",
    "print(dashboard_saldos_path)\n",
    "print(dashboard_indicadores_path)"
   ]
  },
  {
   "cell_type": "code",
   "execution_count": null,
   "metadata": {},
   "outputs": [],
   "source": [
    "df_pagos_efect = df_pagos.copy()\n",
    "df_pagos_saldos = df_pagos.copy()\n",
    "df_pagos_indicadores = df_pagos.copy()\n",
    "\n",
    "print(df_pagos.shape)\n",
    "df_pagos.head(3)"
   ]
  },
  {
   "cell_type": "code",
   "execution_count": null,
   "metadata": {},
   "outputs": [],
   "source": [
    "cols =  [\"fecha\", \"periodo\", \"dia\", \"Dia_Util\", \"codcent\", \"contrato\", \"clave\", \"CapitalSoles\", \"PagoTotalSoles\", \"PagoEfectTotalSoles\", \"PagoEfectTotalSolesAgencia\", \"PagoEfectTotalSolesAgenciaCont\", \"Agencia\", \"desc_tramo\", \"foco\"]\n",
    "df_pagos_efect = df_pagos_efect[cols]\n",
    "print(df_pagos_efect.shape)\n",
    "\n",
    "df_pagos_efect = df_pagos_efect[df_pagos_efect[\"PagoEfectTotalSolesAgenciaCont\"]!=0]\n",
    "print(df_pagos_efect.shape)\n",
    "\n",
    "def marca_kst(row):\n",
    "    if row[\"clave\"] == \"KSTBC\":\n",
    "        if row[\"desc_tramo\"] in [\"< 01 año\", \"De 90 a 180 dias\", \"< 02 años\"]:\n",
    "            return \"KSTBC\"\n",
    "        else:\n",
    "            return \"KSTBC_2\"\n",
    "    return \"\"\n",
    "\n",
    "df_pagos_efect[\"MARCA KST\"] = df_pagos_efect.apply(marca_kst, axis=1)\n",
    "df_pagos_efect[\"codcent\"] = df_pagos_efect[\"codcent\"].astype(str)\n",
    "df_pagos_efect[\"contrato\"] = df_pagos_efect[\"contrato\"].astype(str).str.zfill(20)\n",
    "df_pagos_efect[\"cont_18\"] = df_pagos_efect[\"contrato\"].apply(lambda x: x[:8] + x[-10:])\n",
    "\n",
    "cols =  [\"fecha\", \"periodo\", \"dia\", \"Dia_Util\", \"codcent\", \"contrato\", \"cont_18\", \"clave\", \"CapitalSoles\", \"PagoTotalSoles\", \"PagoEfectTotalSoles\", \"PagoEfectTotalSolesAgencia\", \"PagoEfectTotalSolesAgenciaCont\", \"Agencia\", \"foco\", \"MARCA KST\"]\n",
    "df_pagos_efect = df_pagos_efect[cols]\n",
    "df_pagos_efect.to_excel(dashboard_efect_path, index=False)\n",
    "\n",
    "df_pagos_efect.head(3)"
   ]
  },
  {
   "cell_type": "code",
   "execution_count": 4,
   "metadata": {},
   "outputs": [],
   "source": [
    "###################################################################################################################"
   ]
  },
  {
   "cell_type": "code",
   "execution_count": null,
   "metadata": {},
   "outputs": [],
   "source": [
    "cols =  ['Agencia', 'clave', 'SEGMENTO_RIESGO', 'AMBITO_RCD_FINAL', 'CapitalSoles']\n",
    "df_pagos_saldos = df_pagos_saldos[cols]\n",
    "print(df_pagos_saldos.shape)\n",
    "\n",
    "df_pagos_saldos.rename(columns={'clave': 'CLAVE', 'Agencia': 'AGENCIA', 'CapitalSoles': 'CAPITAL', 'AMBITO_RCD_FINAL': 'PRODUCTO', 'SEGMENTO_RIESGO': 'SEGMENTO'}, inplace=True)\n",
    "print(df_pagos_saldos.shape)\n",
    "\n",
    "df_pagos_saldos = df_pagos_saldos[df_pagos_saldos['AGENCIA'].isin([\"ASESCOM RJ\", \"CLASA MORA\", \"MORNESE MORA\", \"SIN AGENCIA\"])]\n",
    "\n",
    "df_pagos_saldos['SEGMENTO'] = df_pagos_saldos['SEGMENTO'].apply(lambda x: 'PYME / EMP MIN' if x != 'PARTICULARES' else x)\n",
    "df_pagos_saldos['PRODUCTO'] = df_pagos_saldos['PRODUCTO'].str.replace(r'\\d+', '', regex=True).str.replace('.', '').str.upper()\n",
    "df_pagos_saldos['PRODUCTO'] = df_pagos_saldos['PRODUCTO'].str.strip().replace(' ', '')\n",
    "df_pagos_saldos['CAPITAL'] = df_pagos_saldos['CAPITAL'].round(2)\n",
    "\n",
    "df_pagos_saldos = df_pagos_saldos.groupby(['AGENCIA', 'CLAVE', 'SEGMENTO', 'PRODUCTO']).agg({'CAPITAL': 'sum'}).reset_index()\n",
    "df_pagos_saldos.to_excel(dashboard_saldos_path, index=False)\n",
    "\n",
    "df_pagos_saldos.head(3)"
   ]
  },
  {
   "cell_type": "code",
   "execution_count": 6,
   "metadata": {},
   "outputs": [],
   "source": [
    "###################################################################################################################"
   ]
  },
  {
   "cell_type": "code",
   "execution_count": null,
   "metadata": {},
   "outputs": [],
   "source": [
    "cols =  ['Agencia', 'clave', 'Intensidad', 'Contacto_Efectivo', 'Tasa_Cierre', 'PDP_Cumplida']\n",
    "df_pagos_indicadores = df_pagos_indicadores[cols]\n",
    "print(df_pagos_indicadores.shape)\n",
    "\n",
    "df_pagos_indicadores.rename(columns={\n",
    "    'Agencia': 'AGENCIA', \n",
    "    'clave': 'CLAVE', \n",
    "    'Intensidad': 'INTENSIDAD TOTAL', \n",
    "    'Contacto_Efectivo': 'CONTACTABILIDAD DIRECTA', \n",
    "    'Tasa_Cierre': 'TASA CIERRE', \n",
    "    'PDP_Cumplida': 'CALIDAD PROMESAS'\n",
    "    }, inplace=True)\n",
    "\n",
    "df_pagos_indicadores = df_pagos_indicadores[df_pagos_indicadores['AGENCIA'].isin([\"ASESCOM RJ\", \"CLASA MORA\", \"MORNESE MORA\"])]\n",
    "\n",
    "df_pagos_indicadores['INTENSIDAD TOTAL'] = df_pagos_indicadores['INTENSIDAD TOTAL'].fillna(0)\n",
    "df_pagos_indicadores['CONTACTABILIDAD DIRECTA'] = df_pagos_indicadores['CONTACTABILIDAD DIRECTA'].fillna('NULL')\n",
    "df_pagos_indicadores['TASA CIERRE'] = df_pagos_indicadores['TASA CIERRE'].fillna('NULL')\n",
    "df_pagos_indicadores['CALIDAD PROMESAS'] = df_pagos_indicadores['CALIDAD PROMESAS'].fillna('NULL')\n",
    "# convierte 'NULL' en NaN\n",
    "df_pagos_indicadores['CONTACTABILIDAD DIRECTA'] = pd.to_numeric(df_pagos_indicadores['CONTACTABILIDAD DIRECTA'], errors='coerce')\n",
    "df_pagos_indicadores['TASA CIERRE'] = pd.to_numeric(df_pagos_indicadores['TASA CIERRE'], errors='coerce')\n",
    "df_pagos_indicadores['CALIDAD PROMESAS'] = pd.to_numeric(df_pagos_indicadores['CALIDAD PROMESAS'], errors='coerce')\n",
    "\n",
    "df_pagos_indicadores = df_pagos_indicadores.groupby(['AGENCIA', 'CLAVE']).agg({\n",
    "    'INTENSIDAD TOTAL': 'mean', \n",
    "    'CONTACTABILIDAD DIRECTA': lambda x: x.mean(skipna=True), \n",
    "    'TASA CIERRE': lambda x: x.mean(skipna=True), \n",
    "    'CALIDAD PROMESAS': lambda x: x.mean(skipna=True)\n",
    "    }).reset_index()\n",
    "\n",
    "df_pagos_indicadores['INTENSIDAD TOTAL'] = df_pagos_indicadores['INTENSIDAD TOTAL'].round(2)\n",
    "df_pagos_indicadores['CONTACTABILIDAD DIRECTA'] = df_pagos_indicadores['CONTACTABILIDAD DIRECTA'].round(2)\n",
    "df_pagos_indicadores['TASA CIERRE'] = df_pagos_indicadores['TASA CIERRE'].round(2)\n",
    "df_pagos_indicadores['CALIDAD PROMESAS'] = df_pagos_indicadores['CALIDAD PROMESAS'].round(2)\n",
    "\n",
    "df_pagos_indicadores.to_excel(dashboard_saldos_path, index=False)\n",
    "\n",
    "df_pagos_indicadores.head(3)"
   ]
  },
  {
   "cell_type": "code",
   "execution_count": 7,
   "metadata": {},
   "outputs": [],
   "source": [
    "os.startfile(dashboard_efect_path)\n",
    "os.startfile(dashboard_saldos_path)\n",
    "os.startfile(dashboard_indicadores_path)"
   ]
  }
 ],
 "metadata": {
  "kernelspec": {
   "display_name": "Python 3",
   "language": "python",
   "name": "python3"
  },
  "language_info": {
   "codemirror_mode": {
    "name": "ipython",
    "version": 3
   },
   "file_extension": ".py",
   "mimetype": "text/x-python",
   "name": "python",
   "nbconvert_exporter": "python",
   "pygments_lexer": "ipython3",
   "version": "3.10.9"
  }
 },
 "nbformat": 4,
 "nbformat_minor": 2
}
