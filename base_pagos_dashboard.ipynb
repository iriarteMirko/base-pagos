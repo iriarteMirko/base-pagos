{
 "cells": [
  {
   "cell_type": "code",
   "execution_count": null,
   "metadata": {},
   "outputs": [],
   "source": [
    "import pandas as pd\n",
    "import numpy as np\n",
    "import tkinter as tk\n",
    "import calendar\n",
    "import warnings\n",
    "import locale\n",
    "import os\n",
    "from tkinter import messagebox\n",
    "from datetime import datetime\n",
    "\n",
    "warnings.filterwarnings('ignore')\n",
    "locale.setlocale(locale.LC_TIME, 'es_ES.UTF-8')\n",
    "\n",
    "def obtener_fecha(mes_anterior=False):\n",
    "    hoy = datetime.now()\n",
    "    \n",
    "    if mes_anterior:\n",
    "        if hoy.month == 1:\n",
    "            mes = 12\n",
    "            año = hoy.year - 1\n",
    "        else:\n",
    "            mes = hoy.month - 1\n",
    "            año = hoy.year\n",
    "    else:\n",
    "        mes = hoy.month\n",
    "        año = hoy.year\n",
    "    \n",
    "    mes_nombre = calendar.month_abbr[mes].upper()[:3] # ENE\n",
    "    mes_año = f\"{mes_nombre}{str(año)[2:]}\" # ENE24\n",
    "    fecha = f\"{año}{str(mes).zfill(2)}\" # 202401\n",
    "    \n",
    "    return mes_año, fecha\n",
    "\n",
    "root = tk.Tk()\n",
    "root.attributes('-topmost', True)\n",
    "root.withdraw()\n",
    "\n",
    "result = messagebox.askquestion('Confirmación', '¿Cargar mes anterior?', icon='warning')\n",
    "if result == 'yes':\n",
    "    mes_año, fecha = obtener_fecha(mes_anterior=True)\n",
    "else:\n",
    "    mes_año, fecha = obtener_fecha()\n",
    "root.destroy()\n",
    "\n",
    "efectividades_path = f'bases/efectividades/{fecha}/Efectividades_{fecha}.xlsx'\n",
    "dashboard_efect_path = f'dashboard/{fecha}/DASHBOARD_EFECTIVIDADES_{mes_año}.xlsx'\n",
    "dashboard_saldos_path = f'dashboard/{fecha}/DASHBOARD_SALDOS_{mes_año}.xlsx'\n",
    "dashboard_indicadores_path = f'dashboard/{fecha}/DASHBOARD_INDICADORES_{mes_año}.xlsx'\n",
    "\n",
    "dashboard_efect_path = os.path.abspath(dashboard_efect_path)\n",
    "dashboard_saldos_path = os.path.abspath(dashboard_saldos_path)\n",
    "dashboard_indicadores_path = os.path.abspath(dashboard_indicadores_path)\n",
    "\n",
    "print(efectividades_path)\n",
    "print(dashboard_efect_path)\n",
    "print(dashboard_saldos_path)\n",
    "print(dashboard_indicadores_path)"
   ]
  },
  {
   "cell_type": "code",
   "execution_count": 3,
   "metadata": {},
   "outputs": [],
   "source": [
    "def clean_columns(columns_list: list[str]) -> list[str]:\n",
    "    return [column.strip().replace('.', '').replace(' ', '_').upper() for column in columns_list]"
   ]
  },
  {
   "cell_type": "code",
   "execution_count": null,
   "metadata": {},
   "outputs": [],
   "source": [
    "root = tk.Tk()\n",
    "root.attributes('-topmost', True)\n",
    "root.withdraw()\n",
    "\n",
    "result = messagebox.askquestion('Confirmación', '¿Cargar efectividades?', icon='warning')\n",
    "if result == 'yes':\n",
    "    df_pagos = pd.read_excel(efectividades_path)\n",
    "    print('Base Efectividades:', df_pagos.shape)\n",
    "\n",
    "root.destroy()"
   ]
  },
  {
   "cell_type": "code",
   "execution_count": 5,
   "metadata": {},
   "outputs": [],
   "source": [
    "df_pagos_test = df_pagos.copy()\n",
    "df_pagos_test.columns = clean_columns(df_pagos_test.columns)\n",
    "\n",
    "#mapping = {\n",
    "#    'a.<=6 meses': 'a. <=6 meses',\n",
    "#    'a.<=1 año': 'b. >6 meses - <=1 año',\n",
    "#    'b.>6meses-<=1año': 'b. >6 meses - <=1 año',\n",
    "#    'b.>1año-<=2 años': 'c. >1 - <=2 años',\n",
    "#    'c.>1año-<=2 años': 'c. >1 - <=2 años',\n",
    "#    'c.>2años-<=3años': 'd. >2 - <=3 años',\n",
    "#    'd.>2años': 'd. >2 - <=3 años',\n",
    "#    'd.>3años': 'e. >3 años'\n",
    "#}\n",
    "\n",
    "#df_pagos_test['DESC_TRAMO'] = df_pagos_test['DESC_TRAMO'].replace(mapping)\n",
    "\n",
    "#df_pagos_test['CLAVE'] = np.where(\n",
    "#    (df_pagos_test['CLAVE'] == 'KSTBC') & (df_pagos_test['DESC_TRAMO'].isin(['d. >2 - <=3 años', 'e. >3 años'])),\n",
    "#    'KSTBC_2',\n",
    "#    df_pagos_test['CLAVE']\n",
    "#)"
   ]
  },
  {
   "cell_type": "code",
   "execution_count": 6,
   "metadata": {},
   "outputs": [],
   "source": [
    "#df_pagos_test['DESC_TRAMO'].value_counts(dropna=False).sort_index()"
   ]
  },
  {
   "cell_type": "code",
   "execution_count": 7,
   "metadata": {},
   "outputs": [],
   "source": [
    "#df_pagos_test['CLAVE'].value_counts(dropna=False).sort_index()"
   ]
  },
  {
   "cell_type": "code",
   "execution_count": 8,
   "metadata": {},
   "outputs": [],
   "source": [
    "df_pagos_efect = df_pagos_test.copy()\n",
    "df_pagos_saldos = df_pagos_test.copy()\n",
    "df_pagos_indicadores = df_pagos_test.copy()"
   ]
  },
  {
   "cell_type": "code",
   "execution_count": 9,
   "metadata": {},
   "outputs": [],
   "source": [
    "def dashboard_efectividades(df_pagos_efect: pd.DataFrame) -> pd.DataFrame:\n",
    "    df_pagos_efect.columns = clean_columns(df_pagos_efect.columns)\n",
    "    cols =  ['PERIODO', 'CLAVE', 'AGENCIA', 'CAPITALSOLES', 'PAGOEFECTTOTALSOLESAGENCIACONT']\n",
    "    df_pagos_efect = df_pagos_efect[cols]\n",
    "    print(df_pagos_efect.shape)\n",
    "    \n",
    "    df_pagos_efect.rename(columns={\n",
    "        'CLAVE': 'CARTERA', \n",
    "        'CAPITALSOLES': 'CAPITAL', \n",
    "        'PAGOEFECTTOTALSOLESAGENCIACONT': 'RECUPERO', \n",
    "    }, inplace=True)\n",
    "    \n",
    "    df_pagos_efect = df_pagos_efect[df_pagos_efect['AGENCIA'].isin(['ASESCOM RJ', 'CLASA MORA', 'MORNESE MORA'])]\n",
    "    df_pagos_efect['CAPITAL'] = df_pagos_efect['CAPITAL'].round(2)\n",
    "    df_pagos_efect['RECUPERO'] = df_pagos_efect['RECUPERO'].round(2)\n",
    "    \n",
    "    df_pagos_efect = df_pagos_efect.groupby(['PERIODO', 'CARTERA', 'AGENCIA']).agg({'RECUPERO': 'sum', 'CAPITAL': 'sum'}).reset_index()\n",
    "    \n",
    "    return df_pagos_efect"
   ]
  },
  {
   "cell_type": "code",
   "execution_count": 10,
   "metadata": {},
   "outputs": [],
   "source": [
    "def dashboard_saldos(df_pagos_saldos: pd.DataFrame) -> pd.DataFrame:\n",
    "    df_pagos_saldos.columns = clean_columns(df_pagos_saldos.columns)\n",
    "    cols =  ['PERIODO', 'CLAVE', 'AGENCIA', 'CAPITALSOLES', 'SEGMENTO_RIESGO', 'AMBITO_RCD_FINAL']\n",
    "    df_pagos_saldos = df_pagos_saldos[cols]\n",
    "    print(df_pagos_saldos.shape)\n",
    "    \n",
    "    df_pagos_saldos.rename(columns={\n",
    "        'CLAVE': 'CARTERA', \n",
    "        'CAPITALSOLES': 'CAPITAL', \n",
    "        'SEGMENTO_RIESGO': 'SEGMENTO', \n",
    "        'AMBITO_RCD_FINAL': 'PRODUCTO'\n",
    "    }, inplace=True)\n",
    "    \n",
    "    df_pagos_saldos = df_pagos_saldos[df_pagos_saldos['AGENCIA'].isin(['ASESCOM RJ', 'CLASA MORA', 'MORNESE MORA', 'SIN AGENCIA'])]\n",
    "    \n",
    "    df_pagos_saldos['SEGMENTO'] = df_pagos_saldos['SEGMENTO'].apply(lambda x: 'PYME / EMP MIN' if x != 'PARTICULARES' else x)\n",
    "    df_pagos_saldos['PRODUCTO'] = df_pagos_saldos['PRODUCTO'].str.replace(r'\\d+', '', regex=True).str.replace('.', '').str.upper()\n",
    "    df_pagos_saldos['PRODUCTO'] = df_pagos_saldos['PRODUCTO'].str.strip().replace(' ', '')\n",
    "    df_pagos_saldos['CAPITAL'] = df_pagos_saldos['CAPITAL'].round(2)\n",
    "    \n",
    "    df_pagos_saldos = df_pagos_saldos.groupby(['PERIODO', 'CARTERA', 'AGENCIA', 'SEGMENTO', 'PRODUCTO']).agg({'CAPITAL': 'sum'}).reset_index()\n",
    "    \n",
    "    return df_pagos_saldos"
   ]
  },
  {
   "cell_type": "code",
   "execution_count": 11,
   "metadata": {},
   "outputs": [],
   "source": [
    "def dashboard_indicadores(df_pagos_indicadores: pd.DataFrame) -> pd.DataFrame:\n",
    "    df_pagos_indicadores.columns = clean_columns(df_pagos_indicadores.columns)\n",
    "    cols =  ['PERIODO', 'CLAVE', 'AGENCIA', 'INTENSIDAD', 'DIRECTO_CALL', 'COBERTURA', 'CONTACTO_EFECTIVO', 'TASA_CIERRE', 'PDP_CUMPLIDA']\n",
    "    df_pagos_indicadores = df_pagos_indicadores[cols]\n",
    "    print(df_pagos_indicadores.shape)\n",
    "    \n",
    "    df_pagos_indicadores.rename(columns={\n",
    "        'CLAVE': 'CARTERA', \n",
    "        'INTENSIDAD': 'INTENSIDAD_TOTAL', \n",
    "        'DIRECTO_CALL': 'INTENSIDAD_DIRECTA', \n",
    "        'CONTACTO_EFECTIVO': 'CONTACTABILIDAD_DIRECTA', \n",
    "        'PDP_CUMPLIDA': 'CALIDAD_PROMESAS'\n",
    "        }, inplace=True)\n",
    "    \n",
    "    df_pagos_indicadores = df_pagos_indicadores[df_pagos_indicadores['AGENCIA'].isin(['ASESCOM RJ', 'CLASA MORA', 'MORNESE MORA'])]\n",
    "    \n",
    "    df_pagos_indicadores['INTENSIDAD_TOTAL'] = df_pagos_indicadores['INTENSIDAD_TOTAL'].fillna(0)\n",
    "    df_pagos_indicadores['INTENSIDAD_DIRECTA'] = df_pagos_indicadores['INTENSIDAD_DIRECTA'].fillna(0)\n",
    "    df_pagos_indicadores['COBERTURA'] = df_pagos_indicadores['COBERTURA'].fillna(0)\n",
    "    df_pagos_indicadores['CONTACTABILIDAD_DIRECTA'] = df_pagos_indicadores['CONTACTABILIDAD_DIRECTA'].fillna('NULL')\n",
    "    df_pagos_indicadores['TASA_CIERRE'] = df_pagos_indicadores['TASA_CIERRE'].fillna('NULL')\n",
    "    df_pagos_indicadores['CALIDAD_PROMESAS'] = df_pagos_indicadores['CALIDAD_PROMESAS'].fillna('NULL')\n",
    "    # convierte 'NULL' en NaN\n",
    "    df_pagos_indicadores['COBERTURA'] = pd.to_numeric(df_pagos_indicadores['COBERTURA'], errors='coerce')\n",
    "    df_pagos_indicadores['CONTACTABILIDAD_DIRECTA'] = pd.to_numeric(df_pagos_indicadores['CONTACTABILIDAD_DIRECTA'], errors='coerce')\n",
    "    df_pagos_indicadores['TASA_CIERRE'] = pd.to_numeric(df_pagos_indicadores['TASA_CIERRE'], errors='coerce')\n",
    "    df_pagos_indicadores['CALIDAD_PROMESAS'] = pd.to_numeric(df_pagos_indicadores['CALIDAD_PROMESAS'], errors='coerce')\n",
    "    \n",
    "    df_pagos_indicadores = df_pagos_indicadores.groupby(['PERIODO', 'CARTERA', 'AGENCIA']).agg({\n",
    "        'INTENSIDAD_TOTAL': 'mean', \n",
    "        'INTENSIDAD_DIRECTA': lambda x: x[x != 0].mean(), \n",
    "        'COBERTURA': 'mean', \n",
    "        'CONTACTABILIDAD_DIRECTA': lambda x: x.mean(skipna=True), \n",
    "        'TASA_CIERRE': lambda x: x.mean(skipna=True), \n",
    "        'CALIDAD_PROMESAS': lambda x: x.mean(skipna=True)\n",
    "    }).reset_index()\n",
    "    \n",
    "    df_pagos_indicadores['INTENSIDAD_TOTAL'] = df_pagos_indicadores['INTENSIDAD_TOTAL'].round(2)\n",
    "    df_pagos_indicadores['INTENSIDAD_DIRECTA'] = df_pagos_indicadores['INTENSIDAD_DIRECTA'].round(2)\n",
    "    df_pagos_indicadores['COBERTURA'] = df_pagos_indicadores['COBERTURA'].round(4)\n",
    "    df_pagos_indicadores['CONTACTABILIDAD_DIRECTA'] = df_pagos_indicadores['CONTACTABILIDAD_DIRECTA'].round(2)\n",
    "    df_pagos_indicadores['TASA_CIERRE'] = df_pagos_indicadores['TASA_CIERRE'].round(2)\n",
    "    df_pagos_indicadores['CALIDAD_PROMESAS'] = df_pagos_indicadores['CALIDAD_PROMESAS'].round(2)\n",
    "    \n",
    "    df_pagos_indicadores.sort_values(by=['PERIODO', 'CARTERA', 'AGENCIA'], inplace=True)\n",
    "    \n",
    "    return df_pagos_indicadores"
   ]
  },
  {
   "cell_type": "code",
   "execution_count": null,
   "metadata": {},
   "outputs": [],
   "source": [
    "df_pagos_efect = dashboard_efectividades(df_pagos_efect)\n",
    "df_pagos_efect.to_excel(dashboard_efect_path, index=False)\n",
    "print(df_pagos_efect.shape)\n",
    "df_pagos_efect.head()"
   ]
  },
  {
   "cell_type": "code",
   "execution_count": null,
   "metadata": {},
   "outputs": [],
   "source": [
    "df_pagos_saldos = dashboard_saldos(df_pagos_saldos)\n",
    "df_pagos_saldos.to_excel(dashboard_saldos_path, index=False)\n",
    "print(df_pagos_saldos.shape)\n",
    "df_pagos_saldos.head()"
   ]
  },
  {
   "cell_type": "code",
   "execution_count": null,
   "metadata": {},
   "outputs": [],
   "source": [
    "df_pagos_indicadores = dashboard_indicadores(df_pagos_indicadores)\n",
    "df_pagos_indicadores.to_excel(dashboard_indicadores_path, index=False)\n",
    "print(df_pagos_indicadores.shape)\n",
    "df_pagos_indicadores.head()"
   ]
  },
  {
   "cell_type": "code",
   "execution_count": 15,
   "metadata": {},
   "outputs": [],
   "source": [
    "os.startfile(dashboard_efect_path)\n",
    "os.startfile(dashboard_saldos_path)\n",
    "os.startfile(dashboard_indicadores_path)"
   ]
  }
 ],
 "metadata": {
  "kernelspec": {
   "display_name": "Python 3",
   "language": "python",
   "name": "python3"
  },
  "language_info": {
   "codemirror_mode": {
    "name": "ipython",
    "version": 3
   },
   "file_extension": ".py",
   "mimetype": "text/x-python",
   "name": "python",
   "nbconvert_exporter": "python",
   "pygments_lexer": "ipython3",
   "version": "3.12.4"
  }
 },
 "nbformat": 4,
 "nbformat_minor": 2
}
