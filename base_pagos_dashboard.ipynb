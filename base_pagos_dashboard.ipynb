{
 "cells": [
  {
   "cell_type": "code",
   "execution_count": 25,
   "metadata": {},
   "outputs": [],
   "source": [
    "import pandas as pd\n",
    "import warnings\n",
    "\n",
    "warnings.filterwarnings(\"ignore\")"
   ]
  },
  {
   "cell_type": "code",
   "execution_count": 2,
   "metadata": {},
   "outputs": [],
   "source": [
    "pagos_efect = \"BASE_PAGOS_EFECTIVIDADES.xlsx\"\n",
    "df_pagos_efect = pd.read_excel(pagos_efect, sheet_name=\"BD\")"
   ]
  },
  {
   "cell_type": "code",
   "execution_count": 26,
   "metadata": {},
   "outputs": [
    {
     "name": "stdout",
     "output_type": "stream",
     "text": [
      "(230445, 5)\n",
      "clave                object\n",
      "Agencia              object\n",
      "CapitalSoles        float64\n",
      "AMBITO_RCD_FINAL     object\n",
      "SEGMENTO_RIESGO      object\n",
      "dtype: object\n"
     ]
    },
    {
     "data": {
      "text/html": [
       "<div>\n",
       "<style scoped>\n",
       "    .dataframe tbody tr th:only-of-type {\n",
       "        vertical-align: middle;\n",
       "    }\n",
       "\n",
       "    .dataframe tbody tr th {\n",
       "        vertical-align: top;\n",
       "    }\n",
       "\n",
       "    .dataframe thead th {\n",
       "        text-align: right;\n",
       "    }\n",
       "</style>\n",
       "<table border=\"1\" class=\"dataframe\">\n",
       "  <thead>\n",
       "    <tr style=\"text-align: right;\">\n",
       "      <th></th>\n",
       "      <th>clave</th>\n",
       "      <th>Agencia</th>\n",
       "      <th>CapitalSoles</th>\n",
       "      <th>AMBITO_RCD_FINAL</th>\n",
       "      <th>SEGMENTO_RIESGO</th>\n",
       "    </tr>\n",
       "  </thead>\n",
       "  <tbody>\n",
       "    <tr>\n",
       "      <th>0</th>\n",
       "      <td>EXJ</td>\n",
       "      <td>MORNESE MORA</td>\n",
       "      <td>2427.01</td>\n",
       "      <td>3.Tarjetas</td>\n",
       "      <td>PARTICULARES</td>\n",
       "    </tr>\n",
       "    <tr>\n",
       "      <th>1</th>\n",
       "      <td>KSTBC</td>\n",
       "      <td>MORNESE MORA</td>\n",
       "      <td>8508.97</td>\n",
       "      <td>3.Tarjetas</td>\n",
       "      <td>PARTICULARES</td>\n",
       "    </tr>\n",
       "    <tr>\n",
       "      <th>2</th>\n",
       "      <td>EXJ</td>\n",
       "      <td>MORNESE MORA</td>\n",
       "      <td>1753.36</td>\n",
       "      <td>3.Tarjetas</td>\n",
       "      <td>PARTICULARES</td>\n",
       "    </tr>\n",
       "  </tbody>\n",
       "</table>\n",
       "</div>"
      ],
      "text/plain": [
       "   clave       Agencia  CapitalSoles AMBITO_RCD_FINAL SEGMENTO_RIESGO\n",
       "0    EXJ  MORNESE MORA       2427.01       3.Tarjetas    PARTICULARES\n",
       "1  KSTBC  MORNESE MORA       8508.97       3.Tarjetas    PARTICULARES\n",
       "2    EXJ  MORNESE MORA       1753.36       3.Tarjetas    PARTICULARES"
      ]
     },
     "execution_count": 26,
     "metadata": {},
     "output_type": "execute_result"
    }
   ],
   "source": [
    "df_pagos_test = df_pagos_efect.copy()\n",
    "print(df_pagos_test.shape)\n",
    "print(df_pagos_test.dtypes)\n",
    "df_pagos_test.head(3)"
   ]
  },
  {
   "cell_type": "code",
   "execution_count": 27,
   "metadata": {},
   "outputs": [
    {
     "data": {
      "text/plain": [
       "Index(['clave', 'Agencia', 'CapitalSoles', 'AMBITO_RCD_FINAL',\n",
       "       'SEGMENTO_RIESGO'],\n",
       "      dtype='object')"
      ]
     },
     "execution_count": 27,
     "metadata": {},
     "output_type": "execute_result"
    }
   ],
   "source": [
    "df_pagos_test.columns"
   ]
  },
  {
   "cell_type": "code",
   "execution_count": 28,
   "metadata": {},
   "outputs": [
    {
     "name": "stdout",
     "output_type": "stream",
     "text": [
      "(230445, 5)\n"
     ]
    }
   ],
   "source": [
    "cols =  ['Agencia', 'clave', 'SEGMENTO_RIESGO', 'AMBITO_RCD_FINAL', 'CapitalSoles']\n",
    "df_pagos_test = df_pagos_test[cols]\n",
    "print(df_pagos_test.shape)"
   ]
  },
  {
   "cell_type": "code",
   "execution_count": 29,
   "metadata": {},
   "outputs": [
    {
     "data": {
      "text/html": [
       "<div>\n",
       "<style scoped>\n",
       "    .dataframe tbody tr th:only-of-type {\n",
       "        vertical-align: middle;\n",
       "    }\n",
       "\n",
       "    .dataframe tbody tr th {\n",
       "        vertical-align: top;\n",
       "    }\n",
       "\n",
       "    .dataframe thead th {\n",
       "        text-align: right;\n",
       "    }\n",
       "</style>\n",
       "<table border=\"1\" class=\"dataframe\">\n",
       "  <thead>\n",
       "    <tr style=\"text-align: right;\">\n",
       "      <th></th>\n",
       "      <th>AGENCIA</th>\n",
       "      <th>CLAVE</th>\n",
       "      <th>SEGMENTO</th>\n",
       "      <th>PRODUCTO</th>\n",
       "      <th>CAPITAL</th>\n",
       "    </tr>\n",
       "  </thead>\n",
       "  <tbody>\n",
       "    <tr>\n",
       "      <th>0</th>\n",
       "      <td>MORNESE MORA</td>\n",
       "      <td>EXJ</td>\n",
       "      <td>PARTICULARES</td>\n",
       "      <td>3.Tarjetas</td>\n",
       "      <td>2427.01</td>\n",
       "    </tr>\n",
       "    <tr>\n",
       "      <th>1</th>\n",
       "      <td>MORNESE MORA</td>\n",
       "      <td>KSTBC</td>\n",
       "      <td>PARTICULARES</td>\n",
       "      <td>3.Tarjetas</td>\n",
       "      <td>8508.97</td>\n",
       "    </tr>\n",
       "    <tr>\n",
       "      <th>2</th>\n",
       "      <td>MORNESE MORA</td>\n",
       "      <td>EXJ</td>\n",
       "      <td>PARTICULARES</td>\n",
       "      <td>3.Tarjetas</td>\n",
       "      <td>1753.36</td>\n",
       "    </tr>\n",
       "    <tr>\n",
       "      <th>3</th>\n",
       "      <td>CLASA MORA</td>\n",
       "      <td>KSTBC</td>\n",
       "      <td>PARTICULARES</td>\n",
       "      <td>3.Tarjetas</td>\n",
       "      <td>2599.03</td>\n",
       "    </tr>\n",
       "    <tr>\n",
       "      <th>4</th>\n",
       "      <td>CLASA MORA</td>\n",
       "      <td>KSTBC</td>\n",
       "      <td>PARTICULARES</td>\n",
       "      <td>3.Tarjetas</td>\n",
       "      <td>966.92</td>\n",
       "    </tr>\n",
       "  </tbody>\n",
       "</table>\n",
       "</div>"
      ],
      "text/plain": [
       "        AGENCIA  CLAVE      SEGMENTO    PRODUCTO  CAPITAL\n",
       "0  MORNESE MORA    EXJ  PARTICULARES  3.Tarjetas  2427.01\n",
       "1  MORNESE MORA  KSTBC  PARTICULARES  3.Tarjetas  8508.97\n",
       "2  MORNESE MORA    EXJ  PARTICULARES  3.Tarjetas  1753.36\n",
       "3    CLASA MORA  KSTBC  PARTICULARES  3.Tarjetas  2599.03\n",
       "4    CLASA MORA  KSTBC  PARTICULARES  3.Tarjetas   966.92"
      ]
     },
     "execution_count": 29,
     "metadata": {},
     "output_type": "execute_result"
    }
   ],
   "source": [
    "df_pagos_test.rename(columns={'clave': 'CLAVE', 'Agencia': 'AGENCIA', 'CapitalSoles': 'CAPITAL', 'AMBITO_RCD_FINAL': 'PRODUCTO', 'SEGMENTO_RIESGO': 'SEGMENTO'}, inplace=True)\n",
    "df_pagos_test.head()"
   ]
  },
  {
   "cell_type": "code",
   "execution_count": null,
   "metadata": {},
   "outputs": [],
   "source": [
    "df_pagos_test = df_pagos_test[df_pagos_test['AGENCIA'].isin([\"ASESCOM RJ\", \"CLASA MORA\", \"MORNESE MORA\", \"SIN AGENCIA\"])]\n",
    "df_pagos_test[\"AGENCIA\"].unique()"
   ]
  },
  {
   "cell_type": "code",
   "execution_count": null,
   "metadata": {},
   "outputs": [],
   "source": [
    "df_pagos_test[\"AGENCIA\"].value_counts()"
   ]
  },
  {
   "cell_type": "code",
   "execution_count": null,
   "metadata": {},
   "outputs": [],
   "source": [
    "df_pagos_test['SEGMENTO'] = df_pagos_test['SEGMENTO'].apply(lambda x: 'PYME / EMP MIN' if x != 'PARTICULARES' else x)\n",
    "df_pagos_test['SEGMENTO'].unique()"
   ]
  },
  {
   "cell_type": "code",
   "execution_count": null,
   "metadata": {},
   "outputs": [],
   "source": [
    "df_pagos_test[\"SEGMENTO\"].value_counts()"
   ]
  },
  {
   "cell_type": "code",
   "execution_count": null,
   "metadata": {},
   "outputs": [],
   "source": [
    "df_pagos_test['PRODUCTO'] = df_pagos_test['PRODUCTO'].str.replace(r'\\d+', '', regex=True).str.replace('.', '').str.upper()\n",
    "df_pagos_test['PRODUCTO'] = df_pagos_test['PRODUCTO'].str.strip().replace(' ', '')\n",
    "df_pagos_test['PRODUCTO'].unique()"
   ]
  },
  {
   "cell_type": "code",
   "execution_count": null,
   "metadata": {},
   "outputs": [],
   "source": [
    "df_pagos_test[\"PRODUCTO\"].value_counts()"
   ]
  },
  {
   "cell_type": "code",
   "execution_count": null,
   "metadata": {},
   "outputs": [],
   "source": [
    "df_pagos_test['CAPITAL'] = df_pagos_test['CAPITAL'].round(2)\n",
    "df_pagos_test.head()"
   ]
  },
  {
   "cell_type": "code",
   "execution_count": null,
   "metadata": {},
   "outputs": [],
   "source": [
    "df_final = df_pagos_test.groupby(['AGENCIA', 'CLAVE', 'SEGMENTO', 'PRODUCTO']).agg({'CAPITAL': 'sum'}).reset_index()\n",
    "df_final.head()"
   ]
  },
  {
   "cell_type": "code",
   "execution_count": 24,
   "metadata": {},
   "outputs": [],
   "source": [
    "df_final.to_excel(\"BASE_PAGOS_EFECTIVIDADES_SEPTIEMBRE.xlsx\", index=False)"
   ]
  }
 ],
 "metadata": {
  "kernelspec": {
   "display_name": "Python 3",
   "language": "python",
   "name": "python3"
  },
  "language_info": {
   "codemirror_mode": {
    "name": "ipython",
    "version": 3
   },
   "file_extension": ".py",
   "mimetype": "text/x-python",
   "name": "python",
   "nbconvert_exporter": "python",
   "pygments_lexer": "ipython3",
   "version": "3.10.9"
  }
 },
 "nbformat": 4,
 "nbformat_minor": 2
}
