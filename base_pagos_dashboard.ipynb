{
 "cells": [
  {
   "cell_type": "code",
   "execution_count": null,
   "metadata": {},
   "outputs": [],
   "source": [
    "import pandas as pd\n",
    "import tkinter as tk\n",
    "import warnings\n",
    "import os\n",
    "from tkinter import messagebox\n",
    "from datetime import datetime\n",
    "\n",
    "warnings.filterwarnings('ignore')\n",
    "\n",
    "hoy = datetime.now()\n",
    "año = hoy.year\n",
    "mes = hoy.month\n",
    "\n",
    "mes_nombre = hoy.strftime('%b').upper()[:3] # ENE\n",
    "mes_año = f\"{mes_nombre}{str(año)[2:]}\" # ENE24\n",
    "\n",
    "fecha = f\"{año}{str(mes).zfill(2)}\" # 202401\n",
    "\n",
    "base_pagos_efect_path = 'bases/efectividades/'+ fecha +'/BasePagos_Efectividades_20240930_Contrato.xlsx'\n",
    "\n",
    "root = tk.Tk()\n",
    "root.attributes('-topmost', True)\n",
    "root.withdraw()\n",
    "\n",
    "result = messagebox.askquestion('Confirmación', '¿Cargar efectividades?', icon='warning')\n",
    "if result == 'yes':\n",
    "    df_pagos = pd.read_excel(base_pagos_efect_path, sheet_name='BD')\n",
    "\n",
    "dashboard_efect_path = 'dashboard/'+ fecha +'/DASHBOARD_EFECTIVIDADES_'+ mes_año +'.xlsx'\n",
    "dashboard_saldos_path = 'dashboard/'+ fecha +'/DASHBOARD_SALDOS_'+ mes_año +'.xlsx'\n",
    "dashboard_indicadores_path = 'dashboard/'+ fecha +'/DASHBOARD_INDICADORES_'+ mes_año +'.xlsx'\n",
    "\n",
    "dashboard_efect_path = os.path.abspath(dashboard_efect_path)\n",
    "dashboard_saldos_path = os.path.abspath(dashboard_saldos_path)\n",
    "dashboard_indicadores_path = os.path.abspath(dashboard_indicadores_path)\n",
    "\n",
    "print(dashboard_efect_path)\n",
    "print(dashboard_saldos_path)\n",
    "print(dashboard_indicadores_path)"
   ]
  },
  {
   "cell_type": "code",
   "execution_count": 2,
   "metadata": {},
   "outputs": [],
   "source": [
    "df_pagos_efect = df_pagos.copy()\n",
    "df_pagos_saldos = df_pagos.copy()\n",
    "df_pagos_indicadores = df_pagos.copy()"
   ]
  },
  {
   "cell_type": "code",
   "execution_count": 3,
   "metadata": {},
   "outputs": [],
   "source": [
    "def clean_columns(columns_list: list[str]) -> list[str]:\n",
    "    return [column.strip().replace('  ', ' ').replace('  ', ' ').replace('.', '').replace(' ', '_').upper() for column in columns_list]"
   ]
  },
  {
   "cell_type": "code",
   "execution_count": 4,
   "metadata": {},
   "outputs": [],
   "source": [
    "def dashboard_efectividades(df_pagos_efect: pd.DataFrame) -> pd.DataFrame:\n",
    "    df_pagos_efect.columns = clean_columns(df_pagos_efect.columns)\n",
    "    cols =  ['PERIODO', 'CLAVE', 'AGENCIA', 'CAPITALSOLES', 'PAGOEFECTTOTALSOLESAGENCIACONT']\n",
    "    df_pagos_efect = df_pagos_efect[cols]\n",
    "    print(df_pagos_efect.shape)\n",
    "    \n",
    "    df_pagos_efect.rename(columns={\n",
    "        'CLAVE': 'CARTERA', \n",
    "        'CAPITALSOLES': 'CAPITAL', \n",
    "        'PAGOEFECTTOTALSOLESAGENCIACONT': 'RECUPERO', \n",
    "    }, inplace=True)\n",
    "    \n",
    "    df_pagos_efect = df_pagos_efect[df_pagos_efect['AGENCIA'].isin(['ASESCOM RJ', 'CLASA MORA', 'MORNESE MORA'])]\n",
    "    df_pagos_efect['CAPITAL'] = df_pagos_efect['CAPITAL'].round(2)\n",
    "    df_pagos_efect['RECUPERO'] = df_pagos_efect['RECUPERO'].round(2)\n",
    "    \n",
    "    df_pagos_efect = df_pagos_efect.groupby(['PERIODO', 'CARTERA', 'AGENCIA']).agg({'RECUPERO': 'sum', 'CAPITAL': 'sum'}).reset_index()\n",
    "    \n",
    "    return df_pagos_efect"
   ]
  },
  {
   "cell_type": "code",
   "execution_count": 5,
   "metadata": {},
   "outputs": [],
   "source": [
    "def dashboard_saldos(df_pagos_saldos: pd.DataFrame) -> pd.DataFrame:\n",
    "    df_pagos_saldos.columns = clean_columns(df_pagos_saldos.columns)\n",
    "    cols =  ['PERIODO', 'CLAVE', 'AGENCIA', 'CAPITALSOLES', 'SEGMENTO_RIESGO', 'AMBITO_RCD_FINAL']\n",
    "    df_pagos_saldos = df_pagos_saldos[cols]\n",
    "    print(df_pagos_saldos.shape)\n",
    "    \n",
    "    df_pagos_saldos.rename(columns={\n",
    "        'CLAVE': 'CARTERA', \n",
    "        'CAPITALSOLES': 'CAPITAL', \n",
    "        'SEGMENTO_RIESGO': 'SEGMENTO', \n",
    "        'AMBITO_RCD_FINAL': 'PRODUCTO'\n",
    "    }, inplace=True)\n",
    "    \n",
    "    df_pagos_saldos = df_pagos_saldos[df_pagos_saldos['AGENCIA'].isin(['ASESCOM RJ', 'CLASA MORA', 'MORNESE MORA', 'SIN AGENCIA'])]\n",
    "    \n",
    "    df_pagos_saldos['SEGMENTO'] = df_pagos_saldos['SEGMENTO'].apply(lambda x: 'PYME / EMP MIN' if x != 'PARTICULARES' else x)\n",
    "    df_pagos_saldos['PRODUCTO'] = df_pagos_saldos['PRODUCTO'].str.replace(r'\\d+', '', regex=True).str.replace('.', '').str.upper()\n",
    "    df_pagos_saldos['PRODUCTO'] = df_pagos_saldos['PRODUCTO'].str.strip().replace(' ', '')\n",
    "    df_pagos_saldos['CAPITAL'] = df_pagos_saldos['CAPITAL'].round(2)\n",
    "    \n",
    "    df_pagos_saldos = df_pagos_saldos.groupby(['PERIODO', 'CARTERA', 'AGENCIA', 'SEGMENTO', 'PRODUCTO']).agg({'CAPITAL': 'sum'}).reset_index()\n",
    "    \n",
    "    return df_pagos_saldos"
   ]
  },
  {
   "cell_type": "code",
   "execution_count": 6,
   "metadata": {},
   "outputs": [],
   "source": [
    "def dashboard_indicadores(df_pagos_indicadores: pd.DataFrame) -> pd.DataFrame:\n",
    "    df_pagos_indicadores.columns = clean_columns(df_pagos_indicadores.columns)\n",
    "    cols =  ['PERIODO', 'CLAVE', 'AGENCIA', 'INTENSIDAD', 'DIRECTO_CALL', 'CONTACTO_EFECTIVO', 'TASA_CIERRE', 'PDP_CUMPLIDA']\n",
    "    df_pagos_indicadores = df_pagos_indicadores[cols]\n",
    "    print(df_pagos_indicadores.shape)\n",
    "    \n",
    "    df_pagos_indicadores.rename(columns={\n",
    "        'CLAVE': 'CARTERA', \n",
    "        'INTENSIDAD': 'INTENSIDAD_TOTAL', \n",
    "        'DIRECTO_CALL': 'INTENSIDAD_DIRECTA', \n",
    "        'CONTACTO_EFECTIVO': 'CONTACTABILIDAD_DIRECTA', \n",
    "        'PDP_CUMPLIDA': 'CALIDAD_PROMESAS'\n",
    "        }, inplace=True)\n",
    "    \n",
    "    df_pagos_indicadores = df_pagos_indicadores[df_pagos_indicadores['AGENCIA'].isin(['ASESCOM RJ', 'CLASA MORA', 'MORNESE MORA'])]\n",
    "    \n",
    "    df_pagos_indicadores['INTENSIDAD_TOTAL'] = df_pagos_indicadores['INTENSIDAD_TOTAL'].fillna(0)\n",
    "    df_pagos_indicadores['INTENSIDAD_DIRECTA'] = df_pagos_indicadores['INTENSIDAD_DIRECTA'].fillna(0)\n",
    "    df_pagos_indicadores['CONTACTABILIDAD_DIRECTA'] = df_pagos_indicadores['CONTACTABILIDAD_DIRECTA'].fillna('NULL')\n",
    "    df_pagos_indicadores['TASA_CIERRE'] = df_pagos_indicadores['TASA_CIERRE'].fillna('NULL')\n",
    "    df_pagos_indicadores['CALIDAD_PROMESAS'] = df_pagos_indicadores['CALIDAD_PROMESAS'].fillna('NULL')\n",
    "    # convierte 'NULL' en NaN\n",
    "    df_pagos_indicadores['CONTACTABILIDAD_DIRECTA'] = pd.to_numeric(df_pagos_indicadores['CONTACTABILIDAD_DIRECTA'], errors='coerce')\n",
    "    df_pagos_indicadores['TASA_CIERRE'] = pd.to_numeric(df_pagos_indicadores['TASA_CIERRE'], errors='coerce')\n",
    "    df_pagos_indicadores['CALIDAD_PROMESAS'] = pd.to_numeric(df_pagos_indicadores['CALIDAD_PROMESAS'], errors='coerce')\n",
    "    \n",
    "    df_pagos_indicadores = df_pagos_indicadores.groupby(['PERIODO', 'CARTERA', 'AGENCIA']).agg({\n",
    "        'INTENSIDAD_TOTAL': 'mean', \n",
    "        'INTENSIDAD_DIRECTA': lambda x: x[x != 0].mean(),\n",
    "        'CONTACTABILIDAD_DIRECTA': lambda x: x.mean(skipna=True), \n",
    "        'TASA_CIERRE': lambda x: x.mean(skipna=True), \n",
    "        'CALIDAD_PROMESAS': lambda x: x.mean(skipna=True)\n",
    "        }).reset_index()\n",
    "    \n",
    "    df_pagos_indicadores['INTENSIDAD_TOTAL'] = df_pagos_indicadores['INTENSIDAD_TOTAL'].round(2)\n",
    "    df_pagos_indicadores['INTENSIDAD_DIRECTA'] = df_pagos_indicadores['INTENSIDAD_DIRECTA'].round(2)\n",
    "    df_pagos_indicadores['CONTACTABILIDAD_DIRECTA'] = df_pagos_indicadores['CONTACTABILIDAD_DIRECTA'].round(2)\n",
    "    df_pagos_indicadores['TASA_CIERRE'] = df_pagos_indicadores['TASA_CIERRE'].round(2)\n",
    "    df_pagos_indicadores['CALIDAD_PROMESAS'] = df_pagos_indicadores['CALIDAD_PROMESAS'].round(2)\n",
    "    \n",
    "    df_pagos_indicadores.sort_values(by=['PERIODO', 'CARTERA', 'AGENCIA'], inplace=True)\n",
    "    \n",
    "    return df_pagos_indicadores"
   ]
  },
  {
   "cell_type": "code",
   "execution_count": null,
   "metadata": {},
   "outputs": [],
   "source": [
    "df_pagos_efect = dashboard_efectividades(df_pagos_efect)\n",
    "df_pagos_efect.to_excel(dashboard_efect_path, index=False)\n",
    "print(df_pagos_efect.shape)\n",
    "df_pagos_efect.head()"
   ]
  },
  {
   "cell_type": "code",
   "execution_count": null,
   "metadata": {},
   "outputs": [],
   "source": [
    "df_pagos_saldos = dashboard_saldos(df_pagos_saldos)\n",
    "df_pagos_saldos.to_excel(dashboard_saldos_path, index=False)\n",
    "print(df_pagos_saldos.shape)\n",
    "df_pagos_saldos.head()"
   ]
  },
  {
   "cell_type": "code",
   "execution_count": null,
   "metadata": {},
   "outputs": [],
   "source": [
    "df_pagos_indicadores = dashboard_indicadores(df_pagos_indicadores)\n",
    "df_pagos_indicadores.to_excel(dashboard_indicadores_path, index=False)\n",
    "print(df_pagos_indicadores.shape)\n",
    "df_pagos_indicadores.head()"
   ]
  },
  {
   "cell_type": "code",
   "execution_count": 10,
   "metadata": {},
   "outputs": [],
   "source": [
    "os.startfile(dashboard_efect_path)\n",
    "os.startfile(dashboard_saldos_path)\n",
    "os.startfile(dashboard_indicadores_path)"
   ]
  }
 ],
 "metadata": {
  "kernelspec": {
   "display_name": "Python 3",
   "language": "python",
   "name": "python3"
  },
  "language_info": {
   "codemirror_mode": {
    "name": "ipython",
    "version": 3
   },
   "file_extension": ".py",
   "mimetype": "text/x-python",
   "name": "python",
   "nbconvert_exporter": "python",
   "pygments_lexer": "ipython3",
   "version": "3.10.9"
  }
 },
 "nbformat": 4,
 "nbformat_minor": 2
}
