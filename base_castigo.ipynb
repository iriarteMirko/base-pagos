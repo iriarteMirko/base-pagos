{
 "cells": [
  {
   "cell_type": "code",
   "execution_count": null,
   "metadata": {},
   "outputs": [],
   "source": [
    "import pandas as pd\n",
    "import tkinter as tk\n",
    "import warnings\n",
    "import os\n",
    "from tkinter import messagebox\n",
    "from datetime import datetime\n",
    "import calendar\n",
    "\n",
    "warnings.filterwarnings('ignore')\n",
    "\n",
    "def obtener_fecha(mes_anterior=False):\n",
    "    hoy = datetime.now()\n",
    "    \n",
    "    if mes_anterior:\n",
    "        if hoy.month == 1:\n",
    "            mes = 12\n",
    "            año = hoy.year - 1\n",
    "        else:\n",
    "            mes = hoy.month - 1\n",
    "            año = hoy.year\n",
    "    else:\n",
    "        mes = hoy.month\n",
    "        año = hoy.year\n",
    "    \n",
    "    mes_nombre = calendar.month_abbr[mes].upper()[:3] # ENE\n",
    "    mes_año = f\"{mes_nombre}{str(año)[2:]}\" # ENE24\n",
    "    fecha = f\"{año}{str(mes).zfill(2)}\" # 202401\n",
    "    \n",
    "    return mes_año, fecha\n",
    "\n",
    "mes_año, fecha = obtener_fecha()\n",
    "\n",
    "base_pagos_efect_path = f'bases/efectividades/{fecha}/BasePagos_Efectividades_20241031_Contrato.xlsx'\n",
    "base_propuesta_castigo_path = f'bases/efectividades/{fecha}/Propuesta de Castigo_Perímetro 2024 - 10.xlsx'\n",
    "base_asignacion_path = f'bases/asignacion/{fecha}/base_asignacion_NOV24_.xlsx'\n",
    "base_castigo_path = f'bases/efectividades/{fecha}/base_castigo_{mes_año}.xlsx'\n",
    "\n",
    "base_propuesta_castigo_path = os.path.abspath(base_propuesta_castigo_path)\n",
    "base_asignacion_path = os.path.abspath(base_asignacion_path)\n",
    "base_castigo_path = os.path.abspath(base_castigo_path)\n",
    "\n",
    "print(base_pagos_efect_path)\n",
    "print(base_propuesta_castigo_path)\n",
    "print(base_asignacion_path)\n",
    "print(base_castigo_path)"
   ]
  },
  {
   "cell_type": "code",
   "execution_count": null,
   "metadata": {},
   "outputs": [],
   "source": [
    "def clean_columns(columns_list: list[str]) -> list[str]:\n",
    "    return [column.strip().replace('.', '').replace(' ', '_').upper() for column in columns_list]"
   ]
  },
  {
   "cell_type": "code",
   "execution_count": null,
   "metadata": {},
   "outputs": [],
   "source": [
    "root = tk.Tk()\n",
    "root.attributes('-topmost', True)\n",
    "root.withdraw()\n",
    "\n",
    "result = messagebox.askquestion('Confirmación', '¿Cargar efectividades?', icon='warning')\n",
    "if result == 'yes':\n",
    "    df_pagos = pd.read_excel(base_pagos_efect_path, sheet_name='BD')\n",
    "\n",
    "root.destroy()"
   ]
  },
  {
   "cell_type": "code",
   "execution_count": null,
   "metadata": {},
   "outputs": [],
   "source": [
    "df_pagos_test = df_pagos.copy()\n",
    "\n",
    "df_pagos_test['contrato'] = df_pagos_test['contrato'].apply(lambda x: str(int(x)).zfill(20) if pd.notna(x) else x)\n",
    "df_pagos_test['contrato'] = df_pagos_test['contrato'].apply(lambda x: x[:8] + x[-10:] if pd.notna(x) else x)\n",
    "\n",
    "cols_req = ['fecha', 'periodo', 'dia', 'Dia_Util', 'codcent', 'clave', 'Agencia', 'CodAgenciaDist', 'foco', \n",
    "    'contrato', 'META', 'flag_exclusion_findemes', 'oficina', 'MaxDA', 'NUM', 'CapitalSoles', 'PagoTotalSoles', \n",
    "    'PagoTotalDistribuida', 'PagoEfectTotalSoles', 'PagoEfectTotalSolesAgencia', 'PagoEfectTotalSolesAgenciaCont']\n",
    "\n",
    "df_pagos_test = df_pagos_test[cols_req]\n",
    "df_pagos_test.shape"
   ]
  },
  {
   "cell_type": "code",
   "execution_count": null,
   "metadata": {},
   "outputs": [],
   "source": [
    "df_bc = pd.read_excel(base_propuesta_castigo_path, sheet_name='BC')\n",
    "df_exj = pd.read_excel(base_propuesta_castigo_path, sheet_name='EXJ')\n",
    "df_concat = pd.concat([df_bc, df_exj], axis=0)\n",
    "\n",
    "df_concat['CONTRATO'] = df_concat['CONTRATO'].apply(lambda x: str(int(x)).zfill(18) if pd.notna(x) else x)\n",
    "df_concat['CODCENTRAL'] = df_concat['CODCENTRAL'].astype(str)\n",
    "df_concat.shape"
   ]
  },
  {
   "cell_type": "code",
   "execution_count": null,
   "metadata": {},
   "outputs": [],
   "source": [
    "df_merged = pd.merge(df_pagos_test, df_concat, left_on='contrato', right_on='CONTRATO', how='left')\n",
    "df_merged.drop(columns=['CONTRATO', 'INHIBIR', 'MOTIVO'], inplace=True)\n",
    "df_merged['FLAG_CASTIGO'] = df_merged['CODCENTRAL'].apply(lambda x: 1 if pd.notna(x) else 0)\n",
    "df_merged.shape"
   ]
  },
  {
   "cell_type": "code",
   "execution_count": null,
   "metadata": {},
   "outputs": [],
   "source": [
    "df_merged['FLAG_CASTIGO'].value_counts()"
   ]
  },
  {
   "cell_type": "code",
   "execution_count": null,
   "metadata": {},
   "outputs": [],
   "source": [
    "df_base_castigo = df_merged[df_merged['FLAG_CASTIGO']==1]\n",
    "df_base_castigo.columns = clean_columns(df_base_castigo.columns)\n",
    "df_base_castigo.shape"
   ]
  },
  {
   "cell_type": "code",
   "execution_count": null,
   "metadata": {},
   "outputs": [],
   "source": [
    "df_asignacion = pd.read_excel(base_asignacion_path)\n",
    "df_asignacion['CONTRATO'] = df_asignacion['CONTRATO'].apply(lambda x: str(int(x)).zfill(18) if pd.notna(x) else x)\n",
    "df_asignacion.shape"
   ]
  },
  {
   "cell_type": "code",
   "execution_count": null,
   "metadata": {},
   "outputs": [],
   "source": [
    "df_cartera_final = pd.merge(df_base_castigo, df_asignacion, on='CONTRATO', how='left')\n",
    "df_cartera_final.rename(columns={'AGENCIA_x': 'AGENCIA', 'CLAVE': 'CARTERA', 'CARTERA': 'CARTERA_ASIGNACION'}, inplace=True)\n",
    "\n",
    "cols_final = ['FECHA', 'PERIODO', 'DIA', 'DIA_UTIL', 'CODCENT', 'CARTERA', 'CARTERA_ASIGNACION', 'AGENCIA',\n",
    "    'CODAGENCIADIST', 'FOCO', 'CONTRATO', 'META', 'FLAG_EXCLUSION_FINDEMES',\n",
    "    'OFICINA', 'MAXDA', 'NUM', 'CAPITALSOLES', 'PAGOTOTALSOLES',\n",
    "    'PAGOTOTALDISTRIBUIDA', 'PAGOEFECTTOTALSOLES',\n",
    "    'PAGOEFECTTOTALSOLESAGENCIA', 'PAGOEFECTTOTALSOLESAGENCIACONT',\n",
    "    'CODCENTRAL', 'CLIENTE', 'FLAG_CASTIGO']\n",
    "\n",
    "df_cartera_final = df_cartera_final[cols_final]\n",
    "df_cartera_final.shape"
   ]
  },
  {
   "cell_type": "code",
   "execution_count": null,
   "metadata": {},
   "outputs": [],
   "source": [
    "df_cartera_final.to_excel(base_castigo_path, index=False)"
   ]
  }
 ],
 "metadata": {
  "kernelspec": {
   "display_name": "Python 3",
   "language": "python",
   "name": "python3"
  },
  "language_info": {
   "codemirror_mode": {
    "name": "ipython",
    "version": 3
   },
   "file_extension": ".py",
   "mimetype": "text/x-python",
   "name": "python",
   "nbconvert_exporter": "python",
   "pygments_lexer": "ipython3",
   "version": "3.12.4"
  }
 },
 "nbformat": 4,
 "nbformat_minor": 2
}
