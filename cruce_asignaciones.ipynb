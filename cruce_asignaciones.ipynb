{
 "cells": [
  {
   "cell_type": "code",
   "execution_count": null,
   "metadata": {},
   "outputs": [],
   "source": [
    "import pandas as pd\n",
    "import numpy as np\n",
    "import warnings\n",
    "from datetime import datetime\n",
    "\n",
    "warnings.filterwarnings(\"ignore\")\n",
    "\n",
    "hoy = datetime.now()\n",
    "año_actual = hoy.year\n",
    "mes_actual = hoy.month\n",
    "\n",
    "if mes_actual == 1:\n",
    "    mes_anterior = 12\n",
    "    año_anterior = año_actual - 1\n",
    "else:\n",
    "    mes_anterior = mes_actual - 1\n",
    "    año_anterior = año_actual\n",
    "\n",
    "mes_anterior_str = (hoy - pd.DateOffset(months=1)).strftime('%b').upper()[:3] # DIC\n",
    "mes_actual_str = hoy.strftime('%b').upper()[:3] # ENE\n",
    "\n",
    "mes_año_anterior = f\"{mes_anterior_str}{str(año_anterior)[2:]}\" # DIC23\n",
    "mes_año_actual = f\"{mes_actual_str}{str(año_actual)[2:]}\" # ENE24\n",
    "\n",
    "fecha_anterior = f\"{año_anterior}{str(mes_anterior).zfill(2)}\" # 202312\n",
    "fecha_actual = f\"{año_actual}{str(mes_actual).zfill(2)}\" # 202401\n",
    "\n",
    "asignacion_1 = f\"bases/asignacion/{fecha_anterior}/base_asignacion_{mes_año_anterior}.xlsx\"\n",
    "asignacion_2 = f\"bases/asignacion/{fecha_actual}/base_asignacion_{mes_año_actual}.xlsx\"\n",
    "\n",
    "cruce_asignacion_path = f\"bases/asignacion/cruce_asignacion_{mes_año_anterior}-{mes_año_actual}.xlsx\"\n",
    "\n",
    "print(asignacion_1)\n",
    "print(asignacion_2)"
   ]
  },
  {
   "cell_type": "code",
   "execution_count": 11,
   "metadata": {},
   "outputs": [],
   "source": [
    "df_asig_1 = pd.read_excel(asignacion_1, usecols=['CODIGO', 'ID_FLAG', 'AGENCIA_CORRECTA'])\n",
    "df_asig_1['CODIGO'] = df_asig_1['CODIGO'].astype('Int64').astype(str).str.zfill(8)\n",
    "df_asig_1.rename(columns={'ID_FLAG': 'FLAG', 'AGENCIA_CORRECTA': 'AGENCIA'}, inplace=True)\n",
    "\n",
    "df_asig_2 = pd.read_excel(asignacion_2, usecols=['CODIGO', 'FLAG', 'AGENCIA'])\n",
    "df_asig_2['CODIGO'] = df_asig_2['CODIGO'].astype('Int64').astype(str).str.zfill(8)\n",
    "\n",
    "df_asig_1.groupby('CODIGO').agg({'FLAG': 'first'}).reset_index().sort_values('CODIGO', ascending=False, inplace=True)\n",
    "df_asig_2.groupby('CODIGO').agg({'FLAG': 'first'}).reset_index().sort_values('CODIGO', ascending=False, inplace=True)"
   ]
  },
  {
   "cell_type": "code",
   "execution_count": 15,
   "metadata": {},
   "outputs": [],
   "source": [
    "df_asig = pd.merge(df_asig_1, df_asig_2, on='CODIGO', how='outer', suffixes=('_1', '_2'))\n",
    "\n",
    "df_asig[['FLAG_1', 'FLAG_2']] = df_asig[['FLAG_1', 'FLAG_2']].fillna(0).astype(int)\n",
    "\n",
    "conditions = [\n",
    "    (df_asig['FLAG_1'] == df_asig['FLAG_2']) | ((df_asig['FLAG_1'] > 1) & (df_asig['FLAG_2'] > 1)),\n",
    "    (df_asig['FLAG_1'] == 1) & (df_asig['FLAG_2'] > 1),\n",
    "    (df_asig['FLAG_1'] > 1) & (df_asig['FLAG_2'] == 1),\n",
    "    (df_asig['FLAG_1'] == 0) & (df_asig['FLAG_2'] == 1),\n",
    "    (df_asig['FLAG_1'] == 0) & (df_asig['FLAG_2'] > 1),\n",
    "    (df_asig['FLAG_1'] == 1) & (df_asig['FLAG_2'] == 0),\n",
    "    (df_asig['FLAG_1'] > 1) & (df_asig['FLAG_2'] == 0)\n",
    "]\n",
    "choices = [\n",
    "    'IGUAL', 'MONO -> MULTI', 'MULTI -> MONO', 'NULL -> MONO', 'NULL -> MULTI', 'MONO -> NULL', 'MULTI -> NULL'\n",
    "]\n",
    "df_asig['FLAG'] = np.select(conditions, choices, default='NULL')\n",
    "\n",
    "df_asig['AGENCIA_1'] = df_asig['AGENCIA_1'].fillna('SIN AGENCIA').astype(str).str.upper()\n",
    "df_asig['AGENCIA_2'] = df_asig['AGENCIA_2'].fillna('SIN AGENCIA').astype(str).str.upper()\n",
    "df_asig['AGENCIA'] = np.where(df_asig['AGENCIA_1'] == df_asig['AGENCIA_2'], df_asig['AGENCIA_1'], df_asig['AGENCIA_1'] + ' -> ' + df_asig['AGENCIA_2'])\n",
    "\n",
    "df_asig = df_asig[['CODIGO', 'FLAG_1', 'FLAG_2', 'FLAG', 'AGENCIA_1', 'AGENCIA_2', 'AGENCIA']]"
   ]
  },
  {
   "cell_type": "code",
   "execution_count": 16,
   "metadata": {},
   "outputs": [],
   "source": [
    "df_asig.to_excel(cruce_asignacion_path, index=False)"
   ]
  }
 ],
 "metadata": {
  "kernelspec": {
   "display_name": "Python 3",
   "language": "python",
   "name": "python3"
  },
  "language_info": {
   "codemirror_mode": {
    "name": "ipython",
    "version": 3
   },
   "file_extension": ".py",
   "mimetype": "text/x-python",
   "name": "python",
   "nbconvert_exporter": "python",
   "pygments_lexer": "ipython3",
   "version": "3.10.9"
  }
 },
 "nbformat": 4,
 "nbformat_minor": 2
}
