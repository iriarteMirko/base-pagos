{
 "cells": [
  {
   "cell_type": "code",
   "execution_count": 12,
   "metadata": {},
   "outputs": [],
   "source": [
    "import pandas as pd\n",
    "import warnings\n",
    "\n",
    "warnings.filterwarnings(\"ignore\")\n",
    "\n",
    "asignacion_1 = 'bases/asignacion/09. Septiembre/base_asignacion_septiembre.xlsx'\n",
    "asignacion_2 = 'bases/asignacion/10. Octubre/base_asignacion_octubre.xlsx'"
   ]
  },
  {
   "cell_type": "code",
   "execution_count": 13,
   "metadata": {},
   "outputs": [],
   "source": [
    "df_asig_1 = pd.read_excel(asignacion_1, usecols=['CODIGO', 'ID_FLAG', 'AGENCIA_CORRECTA'])\n",
    "df_asig_1['CODIGO'] = df_asig_1['CODIGO'].astype('Int64').astype(str).str.zfill(8)\n",
    "df_asig_1.rename(columns={'ID_FLAG': 'FLAG', 'AGENCIA_CORRECTA': 'AGENCIA'}, inplace=True)\n",
    "\n",
    "df_asig_2 = pd.read_excel(asignacion_2, usecols=['CODIGO', 'FLAG', 'AGENCIA'])\n",
    "df_asig_2['CODIGO'] = df_asig_2['CODIGO'].astype('Int64').astype(str).str.zfill(8)\n",
    "\n",
    "df_asig_1.groupby('CODIGO').agg({'FLAG': 'first'}).reset_index().sort_values('CODIGO', ascending=False, inplace=True)\n",
    "df_asig_2.groupby('CODIGO').agg({'FLAG': 'first'}).reset_index().sort_values('CODIGO', ascending=False, inplace=True)"
   ]
  },
  {
   "cell_type": "code",
   "execution_count": 22,
   "metadata": {},
   "outputs": [],
   "source": [
    "df_asig = pd.merge(df_asig_1, df_asig_2, on='CODIGO', how='outer', suffixes=('_1', '_2'))\n",
    "df_asig['FLAG_1'] = df_asig['FLAG_1'].fillna(0)\n",
    "df_asig['FLAG_2'] = df_asig['FLAG_2'].fillna(0)\n",
    "df_asig['FLAG_1'] = df_asig['FLAG_1'].astype(int)\n",
    "df_asig['FLAG_2'] = df_asig['FLAG_2'].astype(int)\n",
    "\n",
    "def determine_flag(row):\n",
    "    if (row['FLAG_1'] == row['FLAG_2']) or (row['FLAG_1'] > 1 and row['FLAG_2'] > 1):\n",
    "        return 'IGUAL'\n",
    "    elif row['FLAG_1'] == 1 and row['FLAG_2'] > 1:\n",
    "        return 'MONO A MULTI'\n",
    "    elif row['FLAG_1'] > 1 and row['FLAG_2'] == 1:\n",
    "        return 'MULTI A MONO'\n",
    "    elif row['FLAG_1'] == 0 and row['FLAG_2'] == 1:\n",
    "        return 'NO A MONO'\n",
    "    elif row['FLAG_1'] == 0 and row['FLAG_2'] > 1:\n",
    "        return 'NO A MULTI'\n",
    "    elif row['FLAG_1'] > 1 and row['FLAG_2'] == 0:\n",
    "        return 'MULTI A NO'\n",
    "    elif row['FLAG_1'] == 1 and row['FLAG_2'] == 0:\n",
    "        return 'MONO A NO'\n",
    "    else:\n",
    "        return 'NO A NO'\n",
    "\n",
    "def determine_agencia(row):\n",
    "    if row['AGENCIA_1'] == row['AGENCIA_2']:\n",
    "        return row['AGENCIA_1']\n",
    "    else:\n",
    "        return f\"{row['AGENCIA_1']} - {row['AGENCIA_2']}\"\n",
    "\n",
    "df_asig['FLAG'] = df_asig.apply(determine_flag, axis=1)\n",
    "df_asig['AGENCIA_1'] = df_asig['AGENCIA_1'].fillna('SIN AGENCIA')\n",
    "df_asig['AGENCIA_2'] = df_asig['AGENCIA_2'].fillna('SIN AGENCIA')\n",
    "df_asig['AGENCIA'] = df_asig.apply(determine_agencia, axis=1)\n",
    "df_asig = df_asig[['CODIGO', 'FLAG_1', 'FLAG_2', 'FLAG', 'AGENCIA_1', 'AGENCIA_2', 'AGENCIA']]"
   ]
  },
  {
   "cell_type": "code",
   "execution_count": 23,
   "metadata": {},
   "outputs": [],
   "source": [
    "df_asig.to_excel('bases/asignacion/base_asignacion_cruce.xlsx', index=False)"
   ]
  }
 ],
 "metadata": {
  "kernelspec": {
   "display_name": "Python 3",
   "language": "python",
   "name": "python3"
  },
  "language_info": {
   "codemirror_mode": {
    "name": "ipython",
    "version": 3
   },
   "file_extension": ".py",
   "mimetype": "text/x-python",
   "name": "python",
   "nbconvert_exporter": "python",
   "pygments_lexer": "ipython3",
   "version": "3.10.9"
  }
 },
 "nbformat": 4,
 "nbformat_minor": 2
}
