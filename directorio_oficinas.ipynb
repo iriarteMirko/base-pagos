{
 "cells": [
  {
   "cell_type": "code",
   "execution_count": 1,
   "metadata": {},
   "outputs": [],
   "source": [
    "import pandas as pd\n",
    "import os\n",
    "import warnings\n",
    "\n",
    "warnings.filterwarnings(\"ignore\")\n",
    "\n",
    "base_correos = 'bases/directorios/Base Correos.xlsx'\n",
    "directorios_oficinas = 'bases/directorios/T&C - Lista de Gof y Sgof.csv'"
   ]
  },
  {
   "cell_type": "code",
   "execution_count": 2,
   "metadata": {},
   "outputs": [],
   "source": [
    "def clean_columns(columns_list: list[str]) -> list[str]:\n",
    "    return [column.strip().replace('.', '').replace(' ', '_').upper() for column in columns_list]"
   ]
  },
  {
   "cell_type": "code",
   "execution_count": null,
   "metadata": {},
   "outputs": [],
   "source": [
    "df_base = pd.read_excel(base_correos, dtype={'OFICINA': str, 'ID_OFICINA': str})\n",
    "df_base.columns = clean_columns(df_base.columns)\n",
    "\n",
    "df_base.rename(columns={\n",
    "    'OFICINA': 'ID_OFICINA', \n",
    "    'CORREOS': 'CORREO',\n",
    "    'CARGO': 'PUESTO',\n",
    "    }, inplace=True)\n",
    "\n",
    "df_base['CORREO'] = df_base['CORREO'].str.upper()\n",
    "\n",
    "df_base.dropna(inplace=True)\n",
    "\n",
    "print(df_base.shape)\n",
    "df_base.head(3)"
   ]
  },
  {
   "cell_type": "code",
   "execution_count": null,
   "metadata": {},
   "outputs": [],
   "source": [
    "df_directorio = pd.read_csv(directorios_oficinas, sep=';', dtype={'ID Oficina': str}, encoding='utf-8')\n",
    "df_directorio.columns = clean_columns(df_directorio.columns)\n",
    "\n",
    "df_directorio.rename(columns={\n",
    "    'OFICINA': 'NOMBRE_OFICINA',\n",
    "    }, inplace=True)\n",
    "\n",
    "cols_req = ['ID_OFICINA', 'NOMBRE_OFICINA', 'REGISTRO', 'NOMBRE', 'CORREO', 'PUESTO']\n",
    "df_directorio = df_directorio[cols_req]\n",
    "\n",
    "df_directorio.dropna(inplace=True)\n",
    "\n",
    "df_directorio = df_directorio[df_directorio['PUESTO'].str.contains('GERENTE', case=False)].reset_index(drop=True)\n",
    "\n",
    "df_directorio['PUESTO'] = df_directorio['PUESTO'].replace({\n",
    "    '(?i).*SUB GERENTE.*': 2,\n",
    "    '(?i).*GERENTE.*': 1\n",
    "    }, regex=True)\n",
    "\n",
    "df_directorio.sort_values(by=['ID_OFICINA','PUESTO'], inplace=True, ignore_index=True)\n",
    "df_directorio.reset_index(drop=True, inplace=True)\n",
    "\n",
    "print(df_directorio.shape)\n",
    "df_directorio.head(3)"
   ]
  },
  {
   "cell_type": "code",
   "execution_count": null,
   "metadata": {},
   "outputs": [],
   "source": [
    "def concatenar_correos(grupo: pd.DataFrame) -> pd.Series:\n",
    "    gerente_correo = grupo.loc[grupo['PUESTO'] == 1, 'CORREO'].values\n",
    "    subgerente_correo = grupo.loc[grupo['PUESTO'] == 2, 'CORREO'].values\n",
    "    \n",
    "    if len(gerente_correo) > 0 and len(subgerente_correo) > 0:\n",
    "        correos_concatenados = gerente_correo[0] + ', ' + subgerente_correo[0]\n",
    "    elif len(gerente_correo) > 0:\n",
    "        correos_concatenados = gerente_correo[0]\n",
    "    else:\n",
    "        correos_concatenados = subgerente_correo[0]\n",
    "    \n",
    "    return pd.Series({\n",
    "        'ID_OFICINA': grupo['ID_OFICINA'].iloc[0],\n",
    "        'PUESTO': 'GERENTE DE OFICINA',\n",
    "        'CORREO': correos_concatenados,\n",
    "        'REGISTRO': grupo['REGISTRO'].iloc[0],\n",
    "        'NOMBRE': grupo['NOMBRE'].iloc[0]\n",
    "        })\n",
    "\n",
    "df_directorio_final = df_directorio.groupby('ID_OFICINA').apply(concatenar_correos).reset_index(drop=True)\n",
    "\n",
    "print(df_directorio_final.shape)\n",
    "df_directorio_final.head(3)"
   ]
  },
  {
   "cell_type": "code",
   "execution_count": null,
   "metadata": {},
   "outputs": [],
   "source": [
    "df_actualizado = pd.merge(df_base, df_directorio_final, on='ID_OFICINA', how='left', suffixes=('_x', ''))\n",
    "\n",
    "df_actualizado['REGISTRO'] = df_actualizado['REGISTRO'].fillna(df_actualizado['REGISTRO_x'])\n",
    "df_actualizado['NOMBRE'] = df_actualizado['NOMBRE'].fillna(df_actualizado['NOMBRE_x'])\n",
    "df_actualizado['PUESTO'] = df_actualizado['PUESTO'].fillna(df_actualizado['PUESTO_x'])\n",
    "df_actualizado['CORREO'] = df_actualizado['CORREO'].fillna(df_actualizado['CORREO_x']).str.upper()\n",
    "df_actualizado['ID_OFICINA'] = df_actualizado['ID_OFICINA'].astype(str).str.zfill(4)\n",
    "\n",
    "df_actualizado.drop(columns=['REGISTRO_x', 'NOMBRE_x', 'PUESTO_x', 'CORREO_x'], inplace=True)\n",
    "\n",
    "correos_nuevos = ['MIRKO.IRIARTE@BBVA.COM', 'PAULA.ZUNIGA@BBVA.COM']\n",
    "\n",
    "def agregar_correos(lista_correos: list) -> str:\n",
    "    for correo in correos_nuevos:\n",
    "        if correo not in lista_correos:\n",
    "            lista_correos.append(correo)\n",
    "    return ', '.join(lista_correos)\n",
    "\n",
    "df_actualizado['CORREO'] = df_actualizado['CORREO'].str.split(', ').apply(agregar_correos)\n",
    "\n",
    "cols_req_final = ['ID_OFICINA', 'CORREO', 'TERRITORIO', 'NOMBRE_OFICINA', 'PUESTO', 'REGISTRO', 'NOMBRE']\n",
    "df_actualizado = df_actualizado[cols_req_final]\n",
    "print(df_actualizado.shape)\n",
    "df_actualizado.head(3)"
   ]
  },
  {
   "cell_type": "code",
   "execution_count": 7,
   "metadata": {},
   "outputs": [],
   "source": [
    "df_actualizado.to_excel(base_correos, index=False)\n",
    "os.startfile(os.path.abspath(base_correos))"
   ]
  }
 ],
 "metadata": {
  "kernelspec": {
   "display_name": "Python 3",
   "language": "python",
   "name": "python3"
  },
  "language_info": {
   "codemirror_mode": {
    "name": "ipython",
    "version": 3
   },
   "file_extension": ".py",
   "mimetype": "text/x-python",
   "name": "python",
   "nbconvert_exporter": "python",
   "pygments_lexer": "ipython3",
   "version": "3.12.4"
  }
 },
 "nbformat": 4,
 "nbformat_minor": 2
}
