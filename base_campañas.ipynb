{
 "cells": [
  {
   "cell_type": "code",
   "execution_count": 1,
   "metadata": {},
   "outputs": [],
   "source": [
    "import pandas as pd\n",
    "import warnings\n",
    "\n",
    "warnings.filterwarnings(\"ignore\")"
   ]
  },
  {
   "cell_type": "code",
   "execution_count": null,
   "metadata": {},
   "outputs": [],
   "source": [
    "asignacion_path = 'bases/asignacion/base_asignacion_20240904_ TRABAJADA.xlsx'\n",
    "df_asignacion = pd.read_excel(asignacion_path)\n",
    "df_asignacion.shape"
   ]
  },
  {
   "cell_type": "code",
   "execution_count": null,
   "metadata": {},
   "outputs": [],
   "source": [
    "def clean_columns(columns_list: list[str]) -> list[str]:\n",
    "    return [column.strip().replace('  ', ' ').replace('  ', ' ').replace('.', '').replace(' ', '_').upper() for column in columns_list]"
   ]
  },
  {
   "cell_type": "code",
   "execution_count": null,
   "metadata": {},
   "outputs": [],
   "source": [
    "df_asignacion_test = df_asignacion.copy()\n",
    "print(df_asignacion_test.columns)\n",
    "\n",
    "df_asignacion_test.columns = clean_columns(df_asignacion_test.columns)\n",
    "cols_required = ['CODIGO', 'CONT_18', 'CLAVE', 'NOMBRE', 'MONEDA', 'CAPITAL', 'CAMP', 'CAMPAÑA', 'TIPO_CARTERA', 'AGENCIA_CORRECTA', 'TIPO_FONDO', 'OFICINA', 'TERRITORIO', 'ID_VTA']\n",
    "df_asignacion_test = df_asignacion_test[cols_required]\n",
    "\n",
    "df_asignacion_test.rename(columns={\n",
    "    'CODIGO': 'CODIGO CENTRAL', \n",
    "    'CONT_18': 'N° CONTRATO', \n",
    "    'CLAVE': 'CARTERA', \n",
    "    'NOMBRE': 'NOMBRE DEL CLIENTE', \n",
    "    'Capital': 'DEUDA CAPITAL', \n",
    "    'CAMP': '% CONDONACIÓN', \n",
    "    'CAMPAÑA': 'MONTO A PAGAR', \n",
    "    'TIPO_CARTERA': 'TIPO CARTERA', \n",
    "    'AGENCIA_CORRECTA': 'AGENCIA DE COBRANZA', \n",
    "    'TIPO_FONDO': 'TIPO DE FONDO', \n",
    "    'ID_VTA': 'ID_VENTA'\n",
    "}, inplace=True)\n",
    "\n",
    "df_asignacion_test = df_asignacion_test[df_asignacion_test['TIPO CARTERA'] == 'UNSECURED']\n",
    "df_asignacion_test = df_asignacion_test[df_asignacion_test['ID_VENTA'].isin(['-'])]\n",
    "df_asignacion_test = df_asignacion_test[~df_asignacion_test['AGENCIA DE COBRANZA'].isin(['SIN AGENCIA'])]\n",
    "\n",
    "df_asignacion_test['CODIGO CENTRAL'] = df_asignacion_test['CODIGO CENTRAL'].astype('Int64').astype(str).str.zfill(8)\n",
    "df_asignacion_test['N° CONTRATO'] = df_asignacion_test['N° CONTRATO'].apply(lambda x: str(int(x)).zfill(18) if pd.notna(x) else x)\n",
    "df_asignacion_test['MONTO A CONDONAR'] = df_asignacion_test['DEUDA CAPITAL'] * df_asignacion_test['% CONDONACIÓN']\n",
    "df_asignacion_test['TIPO DE FONDO'] = df_asignacion_test['TIPO DE FONDO'].fillna('NULL')\n",
    "df_asignacion_test['MONTO A PAGAR'] = df_asignacion_test.apply(lambda x: \"DEUDA TOTAL\" if x['TIPO DE FONDO'] in ['REACTIVA', 'FAE', 'CRECER'] else x['MONTO A PAGAR'], axis=1)\n",
    "\n",
    "correos = {\n",
    "    ('ASESCOM RJ', 'BC'): 'karol.lopez@rjabogados.com',\n",
    "    ('ASESCOM RJ', 'EXJ'): 'lilia.gonzales@rjabogados.com',\n",
    "    ('ASESCOM RJ', 'KSTBC'): 'rosa.hoyos@rjabogados.com',\n",
    "    ('CLASA MORA', 'BC'): 'jsalazar@clasaperu.com',\n",
    "    ('CLASA MORA', 'EXJ'): 'jayra@clasaperu.com',\n",
    "    ('CLASA MORA', 'KSTBC'): 'jsolis@clasaperu.com',\n",
    "    ('MORNESE MORA', 'BC'): 'brenda.paz@mornese.pe, juan.mendoza@mornese.pe, informes@mornese.pe',\n",
    "    ('MORNESE MORA', 'EXJ'): 'aparco@mornese.pe, juan.mendoza@mornese.pe, informes@mornese.pe',\n",
    "    ('MORNESE MORA', 'KSTBC'): 'juan.mendoza@mornese.pe, geraldine.hinojosa@mornese.pe, informes@mornese.pe',\n",
    "    ('Muñiz', None): 'szegarra@munizlaw.com',\n",
    "    ('RodriguezAngobaldo', None): 'ysifuentes@er.com.pe'\n",
    "}\n",
    "\n",
    "telefonos = {\n",
    "    ('ASESCOM RJ', 'BC'): '955013048, 932811608',\n",
    "    ('ASESCOM RJ', 'EXJ'): '932812578, 932811752',\n",
    "    ('ASESCOM RJ', 'KSTBC'): '979270273, 932810247, 945309798',\n",
    "    ('CLASA MORA', 'BC'): '940125238, 977746384',\n",
    "    ('CLASA MORA', 'EXJ'): '940619571, 977746384',\n",
    "    ('CLASA MORA', 'KSTBC'): '936994661, 977746384',\n",
    "    ('MORNESE MORA', 'BC'): '017057808, 953090160',\n",
    "    ('MORNESE MORA', 'EXJ'): '01-7057893, 977288425',\n",
    "    ('MORNESE MORA', 'KSTBC'): '017057807, 967140068, 994376233',\n",
    "    ('Muñiz', None): '999868827',\n",
    "    ('RodriguezAngobaldo', None): '924104114'\n",
    "}\n",
    "\n",
    "def asignar_correo(row):\n",
    "    return correos.get((row['AGENCIA DE COBRANZA'], row['CARTERA']), correos.get((row['AGENCIA DE COBRANZA'], None), None))\n",
    "\n",
    "def asignar_telefono(row):\n",
    "    return telefonos.get((row['AGENCIA DE COBRANZA'], row['CARTERA']), telefonos.get((row['AGENCIA DE COBRANZA'], None), None))\n",
    "\n",
    "df_asignacion_test['CORREO DE LA AGENCIA'] = df_asignacion_test.apply(asignar_correo, axis=1)\n",
    "df_asignacion_test['TELÉFONO DE AGENCIA'] = df_asignacion_test.apply(asignar_telefono, axis=1)\n",
    "\n",
    "df_asignacion_test['CONTACTO BBVA'] = 'recuperaciones@opplus.bbva.com'\n",
    "df_asignacion_test['CORREO BBVAA'] = 'recuperaciones@opplus.bbva.com'\n",
    "df_asignacion_test['TELÉFONO'] = '595-0030'\n",
    "\n",
    "df_asignacion_test.sort_values(by=['CARTERA', 'CODIGO CENTRAL', '% CONDONACIÓN'], inplace=True)\n",
    "df_asignacion_test.reset_index(drop=True, inplace=True)\n",
    "\n",
    "cols_final = ['CODIGO CENTRAL', 'N° CONTRATO', 'CARTERA', 'NOMBRE DEL CLIENTE', 'MONEDA', 'DEUDA CAPITAL', '% CONDONACIÓN', 'MONTO A CONDONAR', 'MONTO A PAGAR', 'AGENCIA DE COBRANZA', 'TIPO DE FONDO', 'TELÉFONO DE AGENCIA', 'CORREO DE LA AGENCIA', 'CONTACTO BBVA', 'CORREO BBVAA' , 'TELÉFONO', 'OFICINA', 'TERRITORIO']\n",
    "df_asignacion_test = df_asignacion_test[cols_final]\n",
    "\n",
    "print(df_asignacion_test.shape)\n",
    "df_asignacion_test.head(5)"
   ]
  },
  {
   "cell_type": "code",
   "execution_count": 4,
   "metadata": {},
   "outputs": [],
   "source": [
    "#df_asignacion_test.to_excel('bases/campañas/CAMPAÑAS SEPTIEMBRE 2024.xlsx', index=False)"
   ]
  },
  {
   "cell_type": "code",
   "execution_count": 5,
   "metadata": {},
   "outputs": [],
   "source": [
    "##########################################################################################################################"
   ]
  },
  {
   "cell_type": "code",
   "execution_count": null,
   "metadata": {},
   "outputs": [],
   "source": [
    "base_impago_path = 'bases/campañas/BASE_CONDONACION_202409.xlsx'\n",
    "df_impago = pd.read_excel(base_impago_path, sheet_name='DATA')\n",
    "df_impago.shape"
   ]
  },
  {
   "cell_type": "code",
   "execution_count": null,
   "metadata": {},
   "outputs": [],
   "source": [
    "df_impago_test = df_impago.copy()\n",
    "print(df_impago_test.columns)\n",
    "\n",
    "cols_required = ['CODCENTRAL', 'CONTRATO', 'CLIENTE', 'MONEDA', 'DIRECTA', 'TASA_DSCTO', 'MONTOPAGO', 'ENTIDAD_COB', 'OFICINA', 'TERRITORIO', 'SEGMENTO']\n",
    "df_impago_test = df_impago_test[cols_required]\n",
    "\n",
    "df_impago_test.rename(columns={\n",
    "    'CODCENTRAL': 'CODIGO CENTRAL', \n",
    "    'CONTRATO': 'N° CONTRATO', \n",
    "    'CLIENTE': 'NOMBRE DEL CLIENTE', \n",
    "    'DIRECTA': 'DEUDA CAPITAL', \n",
    "    'TASA_DSCTO': '% CONDONACIÓN', \n",
    "    'MONTOPAGO': 'MONTO A PAGAR', \n",
    "    'ENTIDAD_COB': 'AGENCIA DE COBRANZA', \n",
    "}, inplace=True)\n",
    "\n",
    "df_impago_test['CARTERA'] = 'IMPAGO'\n",
    "df_impago_test['TIPO DE FONDO'] = 'NULL'\n",
    "\n",
    "df_impago_test['CODIGO CENTRAL'] = df_impago_test['CODIGO CENTRAL'].astype(str).astype('Int64').astype(str).str.zfill(8)\n",
    "df_impago_test['N° CONTRATO'] = df_impago_test['N° CONTRATO'].apply(lambda x: str(int(x)).zfill(18) if pd.notna(x) else x)\n",
    "df_impago_test['MONTO A CONDONAR'] = df_impago_test['DEUDA CAPITAL'] * df_impago_test['% CONDONACIÓN']\n",
    "df_impago_test['TERRITORIO'] = df_impago_test['TERRITORIO'].fillna('NULL').astype(str)\n",
    "\n",
    "correos = {\n",
    "    ('RECSA', 'PARTICULARES'): 'alfonso.moises@recsa.com / jean.yanqui@recsa.com',\n",
    "    ('RECSA', 'PARTICULARES CONVENIOS'): 'alfonso.moises@recsa.com / jean.yanqui@recsa.com',\n",
    "    ('RECSA', 'PYME'): 'sandra.clavo@recsa.com / katiuska.vera@recsa.com',\n",
    "    ('ATENTO', 'PARTICULARES'): 'cvillarj@atento.com',\n",
    "    ('ATENTO', 'PARTICULARES CONVENIOS'): 'cvillarj@atento.com',\n",
    "    ('ATENTO', 'PYME'): 'jtumialanp@atento.com',\n",
    "    ('ASESCOM RJ', 'PARTICULARES'): 'virginia.sifuentes@rjabogados.com',\n",
    "    ('ASESCOM RJ', 'PARTICULARES CONVENIOS'): 'virginia.sifuentes@rjabogados.com',\n",
    "    ('ASESCOM RJ', 'PYME'): 'bety.cabrera@rjabogados.com',\n",
    "}\n",
    "\n",
    "telefonos = {\n",
    "    ('RECSA', 'PARTICULARES'): '01 7010519 / 961370088',\n",
    "    ('RECSA', 'PARTICULARES CONVENIOS'): '01 7010519 / 961370088',\n",
    "    ('RECSA', 'PYME'): '01 7099302',\n",
    "    ('ATENTO', 'PARTICULARES'): '996044852 / 990384855 / 967683768',\n",
    "    ('ATENTO', 'PARTICULARES CONVENIOS'): '996044852 / 990384855 / 967683768',\n",
    "    ('ATENTO', 'PYME'): '987708366',\n",
    "    ('ASESCOM RJ', 'PARTICULARES'): '938562012',\n",
    "    ('ASESCOM RJ', 'PARTICULARES CONVENIOS'): '938562012',\n",
    "    ('ASESCOM RJ', 'PYME'): '908874634',\n",
    "}\n",
    "\n",
    "def asignar_correo(row):\n",
    "    return correos.get((row['AGENCIA DE COBRANZA'], row['SEGMENTO']), correos.get((row['AGENCIA DE COBRANZA'], None), None))\n",
    "\n",
    "def asignar_telefono(row):\n",
    "    return telefonos.get((row['AGENCIA DE COBRANZA'], row['SEGMENTO']), telefonos.get((row['AGENCIA DE COBRANZA'], None), None))\n",
    "\n",
    "\n",
    "df_impago_test['CORREO DE LA AGENCIA'] = df_impago_test.apply(asignar_correo, axis=1)\n",
    "df_impago_test['TELÉFONO DE AGENCIA'] = df_impago_test.apply(asignar_telefono, axis=1)\n",
    "\n",
    "df_impago_test['CONTACTO BBVA'] = 'recuperaciones@opplus.bbva.com'\n",
    "df_impago_test['CORREO BBVAA'] = 'recuperaciones@opplus.bbva.com'\n",
    "df_impago_test['TELÉFONO'] = '595-0030'\n",
    "\n",
    "df_impago_test.sort_values(by=['CARTERA', 'CODIGO CENTRAL', '% CONDONACIÓN'], inplace=True)\n",
    "df_impago_test.reset_index(drop=True, inplace=True)\n",
    "\n",
    "cols_final = ['CODIGO CENTRAL', 'N° CONTRATO', 'CARTERA', 'NOMBRE DEL CLIENTE', 'MONEDA', 'DEUDA CAPITAL', '% CONDONACIÓN', 'MONTO A CONDONAR', 'MONTO A PAGAR', 'AGENCIA DE COBRANZA', 'TIPO DE FONDO', 'TELÉFONO DE AGENCIA', 'CORREO DE LA AGENCIA', 'CONTACTO BBVA', 'CORREO BBVAA' , 'TELÉFONO', 'OFICINA', 'TERRITORIO']\n",
    "df_impago_test = df_impago_test[cols_final]\n",
    "\n",
    "print(df_impago_test.shape)\n",
    "df_impago_test.head(5)"
   ]
  },
  {
   "cell_type": "code",
   "execution_count": 37,
   "metadata": {},
   "outputs": [],
   "source": [
    "#df_impago_test.to_excel('bases/campañas/CAMPAÑAS SEPTIEMBRE 2024_IMPAGO.xlsx', index=False)"
   ]
  },
  {
   "cell_type": "code",
   "execution_count": null,
   "metadata": {},
   "outputs": [],
   "source": [
    "##########################################################################################################################"
   ]
  },
  {
   "cell_type": "code",
   "execution_count": null,
   "metadata": {},
   "outputs": [],
   "source": [
    "df_camp_final = pd.concat([df_asignacion_test, df_impago_test])\n",
    "df_camp_final.shape"
   ]
  },
  {
   "cell_type": "code",
   "execution_count": 16,
   "metadata": {},
   "outputs": [],
   "source": [
    "df_camp_final['CODIGO CENTRAL'] = df_camp_final['CODIGO CENTRAL'].astype(str).astype(\"Int64\").astype(str).str.zfill(8)\n",
    "df_camp_final['N° CONTRATO'] = df_camp_final['N° CONTRATO'].apply(lambda x: str(int(x)).zfill(18) if pd.notna(x) else x)"
   ]
  },
  {
   "cell_type": "code",
   "execution_count": 17,
   "metadata": {},
   "outputs": [],
   "source": [
    "df_camp_final.to_excel('bases/campañas/CAMPAÑAS SEPTIEMBRE 2024 FINAL.xlsx', index=False, sheet_name='BASE')"
   ]
  }
 ],
 "metadata": {
  "kernelspec": {
   "display_name": "Python 3",
   "language": "python",
   "name": "python3"
  },
  "language_info": {
   "codemirror_mode": {
    "name": "ipython",
    "version": 3
   },
   "file_extension": ".py",
   "mimetype": "text/x-python",
   "name": "python",
   "nbconvert_exporter": "python",
   "pygments_lexer": "ipython3",
   "version": "3.10.9"
  }
 },
 "nbformat": 4,
 "nbformat_minor": 2
}
