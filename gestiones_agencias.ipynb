{
 "cells": [
  {
   "cell_type": "code",
   "execution_count": null,
   "metadata": {},
   "outputs": [],
   "source": [
    "import pandas as pd\n",
    "import tkinter as tk\n",
    "import warnings\n",
    "import os\n",
    "from tkinter import messagebox\n",
    "from datetime import datetime\n",
    "from unidecode import unidecode\n",
    "import calendar\n",
    "\n",
    "warnings.filterwarnings('ignore')\n",
    "\n",
    "rj_path = 'bases/gestiones/RJ'\n",
    "clasa_path = 'bases/gestiones/CLASA'\n",
    "mornese_path = 'bases/gestiones/MORNESE'\n",
    "\n",
    "rj_archivos = [file for file in os.listdir(rj_path) if file.startswith('REP_GESTIONES _ BBVA') and file.endswith('.xlsx')]\n",
    "clasa_archivos = [file for file in os.listdir(clasa_path) if file.startswith('REP_GESTIONES _ BBVA') and file.endswith('.xlsx')]\n",
    "mornese_archivos = [file for file in os.listdir(mornese_path) if file.startswith('REP_GESTIONES _ BBVA') and file.endswith('.xlsx')]"
   ]
  },
  {
   "cell_type": "code",
   "execution_count": null,
   "metadata": {},
   "outputs": [],
   "source": [
    "def consolidar_archivos(agencia_path: str, archivos: list) -> pd.DataFrame:\n",
    "    dataframes = []\n",
    "    for archivo in archivos:\n",
    "        df = pd.read_excel(os.path.join(agencia_path, archivo), dtype={'CONTRATO': str, 'COD_CENTRAL': str, 'NRO_DOC': str})\n",
    "        dataframes.append(df)\n",
    "    \n",
    "    df_consolidado = pd.concat(dataframes, ignore_index=True)\n",
    "    df_consolidado.to_excel(os.path.join(agencia_path, f'CONSOLIDADO_GESTIONES_{agencia_path.split('/')[-1]}.xlsx'), index = False)\n",
    "    return df_consolidado"
   ]
  },
  {
   "cell_type": "code",
   "execution_count": null,
   "metadata": {},
   "outputs": [],
   "source": [
    "root = tk.Tk()\n",
    "root.attributes('-topmost', True)\n",
    "root.withdraw()\n",
    "\n",
    "result = messagebox.askquestion('Confirmación', '¿Cargar 3 meses RJ?', icon='warning')\n",
    "if result == 'yes':\n",
    "    path_rj_ = f'{rj_path}/Cortes de gestion RJ Sep,Oct al 13.11.xlsx'\n",
    "    df_rj_ = pd.read_excel(path_rj_, dtype={'CONTRATO': str, 'COD_CENTRAL': str, 'NRO_DOC': str})\n",
    "    df_rj_.drop(columns=['Hora'], inplace=True)\n",
    "    print('RJ Sep,Oct,Nov:', df_rj_.shape)\n",
    "    \n",
    "    df_09 = df_rj_[(df_rj_['TIPO_CONTACTO'] == 'CONTACTO DIRECTO') & (df_rj_['FECHA_LLAMADA'].dt.month == 9)]\n",
    "    df_09.to_excel(f'{rj_path}/REP_GESTIONES _ BBVA _0924.xlsx', index=False)\n",
    "    \n",
    "    df_10 = df_rj_[(df_rj_['TIPO_CONTACTO'] == 'CONTACTO DIRECTO') & (df_rj_['FECHA_LLAMADA'].dt.month == 10)]\n",
    "    df_10.to_excel(f'{rj_path}/REP_GESTIONES _ BBVA _1024.xlsx', index=False)\n",
    "    \n",
    "    df_11 = df_rj_[(df_rj_['TIPO_CONTACTO'] == 'CONTACTO DIRECTO') & (df_rj_['FECHA_LLAMADA'].dt.month == 11)]\n",
    "    df_11.to_excel(f'{rj_path}/REP_GESTIONES _ BBVA _1124.xlsx', index=False)\n",
    "    \n",
    "    print('RJ Sep,Oct,Nov Contacto Directo:', df_09.shape[0] + df_10.shape[0] + df_11.shape[0])\n",
    "\n",
    "root.destroy()"
   ]
  },
  {
   "cell_type": "code",
   "execution_count": null,
   "metadata": {},
   "outputs": [],
   "source": [
    "import tkinter as tk\n",
    "from tkinter import messagebox\n",
    "\n",
    "root = tk.Tk()\n",
    "root.attributes('-topmost', True)\n",
    "root.withdraw()\n",
    "\n",
    "result = messagebox.askquestion('Confirmación', '¿Consolidar archivos de gestiones?', icon='warning')\n",
    "if result == 'yes':\n",
    "    archivos = {\n",
    "        'RJ': (rj_path, rj_archivos),\n",
    "        'CLASA': (clasa_path, clasa_archivos),\n",
    "        'MORNESE': (mornese_path, mornese_archivos)\n",
    "    }\n",
    "    \n",
    "    dataframes = {}\n",
    "    \n",
    "    for key, (path, file_list) in archivos.items():\n",
    "        if file_list:\n",
    "            dataframes[key] = consolidar_archivos(path, file_list)\n",
    "            print(f'Consolidado {key}:', dataframes[key].shape)\n",
    "        else:\n",
    "            print(f'No hay archivos para consolidar en {key}.')\n",
    "\n",
    "root.destroy()"
   ]
  },
  {
   "cell_type": "code",
   "execution_count": null,
   "metadata": {},
   "outputs": [],
   "source": [
    "root = tk.Tk()\n",
    "root.attributes('-topmost', True)\n",
    "root.withdraw()\n",
    "\n",
    "result = messagebox.askquestion('Confirmación', '¿Leer consolidados?', icon='warning')\n",
    "if result == 'yes':\n",
    "    archivos = {\n",
    "        'RJ': f'{rj_path}/CONSOLIDADO_GESTIONES_RJ.xlsx',\n",
    "        'CLASA': f'{clasa_path}/CONSOLIDADO_GESTIONES_CLASA.xlsx',\n",
    "        'MORNESE': f'{mornese_path}/CONSOLIDADO_GESTIONES_MORNESE.xlsx'\n",
    "    }\n",
    "    \n",
    "    dataframes = {}\n",
    "    \n",
    "    for key, file_path in archivos.items():\n",
    "        if os.path.exists(file_path):\n",
    "            dataframes[key] = pd.read_excel(file_path, dtype={'CONTRATO': str, 'COD_CENTRAL': str, 'NRO_DOC': str})\n",
    "            print(f'Consolidado {key} leído:', dataframes[key].shape)\n",
    "        else:\n",
    "            print(f'El archivo CONSOLIDADO_GESTIONES_{key}.xlsx no existe.')\n",
    "\n",
    "root.destroy()"
   ]
  },
  {
   "cell_type": "code",
   "execution_count": null,
   "metadata": {},
   "outputs": [],
   "source": [
    "df_rj_test = dataframes['RJ'].copy()\n",
    "df_clasa_test = dataframes['CLASA'].copy()\n",
    "df_mornese_test = dataframes['MORNESE'].copy()"
   ]
  },
  {
   "cell_type": "code",
   "execution_count": null,
   "metadata": {},
   "outputs": [],
   "source": [
    "def resumir_consolidado(df: pd.DataFrame, agencia: str) -> pd.DataFrame:\n",
    "    df['AGENCIA'] = 'ASESCOM RJ' if agencia == 'RJ' else 'CLASA MORA' if agencia == 'CLASA' else 'MORNESE MORA'\n",
    "    df['HORA_INICIO_LLAMADA'] = pd.to_datetime(df['HORA_INICIO_LLAMADA']).dt.hour.astype('Int64').fillna(0)\n",
    "    df['ESTADO_LLAMADA'] = df['ESTADO_LLAMADA'].str.upper().str.strip().fillna('NULL')\n",
    "    df['ESTADO_LLAMADA'] = df['ESTADO_LLAMADA'].apply(unidecode)\n",
    "    df['MOTIVO_NO_PAGO'] = df['MOTIVO_NO_PAGO'].str.upper().str.strip().fillna('NULL')\n",
    "    df['MOTIVO_NO_PAGO'] = df['MOTIVO_NO_PAGO'].apply(unidecode)\n",
    "    df['TIPO_MARCADOR'] = df['TIPO_MARCADOR'].str.upper().replace(' ', '', regex=True).fillna('NULL')\n",
    "    df['MARCA'] = df['MARCA'].str.upper().replace(' ', '', regex=True)\n",
    "    df['PDP'] = df.apply(lambda x: 1 if pd.notna(x['FECHA_PDP']) else 0, axis=1)\n",
    "    df = df[[\n",
    "        'AGENCIA', 'FECHA_LLAMADA', 'HORA_INICIO_LLAMADA', 'ESTADO_LLAMADA', 'MOTIVO_NO_PAGO', \n",
    "        'MARCA', 'PDP', 'TRAMO', 'PRODUCTO', 'ZONA', 'TIPO_MARCADOR']]\n",
    "    df.to_excel(f'bases/gestiones/{agencia}/RESUMEN_GESTIONES_{agencia}.xlsx', index=False, sheet_name='BASE')\n",
    "    return df"
   ]
  },
  {
   "cell_type": "code",
   "execution_count": null,
   "metadata": {},
   "outputs": [],
   "source": [
    "df_rj_final = resumir_consolidado(df_rj_test, 'RJ')\n",
    "print(df_rj_final.shape)\n",
    "df_rj_final.head()"
   ]
  },
  {
   "cell_type": "code",
   "execution_count": null,
   "metadata": {},
   "outputs": [],
   "source": [
    "df_clasa_final = resumir_consolidado(df_clasa_test, 'CLASA')\n",
    "print(df_clasa_final.shape)\n",
    "df_clasa_final.head()"
   ]
  },
  {
   "cell_type": "code",
   "execution_count": null,
   "metadata": {},
   "outputs": [],
   "source": [
    "df_mornese_final = resumir_consolidado(df_mornese_test, 'MORNESE')\n",
    "print(df_mornese_final.shape)\n",
    "df_mornese_final.head()"
   ]
  }
 ],
 "metadata": {
  "kernelspec": {
   "display_name": "Python 3",
   "language": "python",
   "name": "python3"
  },
  "language_info": {
   "codemirror_mode": {
    "name": "ipython",
    "version": 3
   },
   "file_extension": ".py",
   "mimetype": "text/x-python",
   "name": "python",
   "nbconvert_exporter": "python",
   "pygments_lexer": "ipython3",
   "version": "3.12.4"
  }
 },
 "nbformat": 4,
 "nbformat_minor": 2
}
