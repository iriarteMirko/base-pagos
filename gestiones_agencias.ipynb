{
 "cells": [
  {
   "cell_type": "code",
   "execution_count": null,
   "metadata": {},
   "outputs": [],
   "source": [
    "import pandas as pd\n",
    "import numpy as np\n",
    "import tkinter as tk\n",
    "import warnings\n",
    "import locale\n",
    "import calendar\n",
    "import chardet\n",
    "import os\n",
    "from tkinter import messagebox\n",
    "from datetime import datetime\n",
    "from unidecode import unidecode\n",
    "\n",
    "warnings.filterwarnings('ignore')\n",
    "locale.setlocale(locale.LC_TIME, 'es_ES.UTF-8')\n",
    "\n",
    "rj_path = 'bases/gestiones/RJ'\n",
    "clasa_path = 'bases/gestiones/CLASA'\n",
    "mornese_path = 'bases/gestiones/MORNESE'\n",
    "\n",
    "rj_archivos = [file for file in os.listdir(rj_path) if file.startswith('REPORTE_CORTES_BBVA_') and file.endswith('.xlsx')]\n",
    "clasa_archivos = [file for file in os.listdir(clasa_path) if file.startswith('REPORTE_CORTES_BBVA_') and file.endswith('.txt')]\n",
    "mornese_archivos = [file for file in os.listdir(mornese_path) if file.startswith('REPORTE_CORTES_BBVA_') and file.endswith('.xlsx')]\n",
    "\n",
    "print(rj_archivos)\n",
    "print(clasa_archivos)\n",
    "print(mornese_archivos)"
   ]
  },
  {
   "cell_type": "code",
   "execution_count": null,
   "metadata": {},
   "outputs": [],
   "source": [
    "def clean_columns(columns_list: list[str]) -> list[str]:\n",
    "    return [column.strip().replace('.', '').replace(' ', '_').upper() for column in columns_list]"
   ]
  },
  {
   "cell_type": "code",
   "execution_count": null,
   "metadata": {},
   "outputs": [],
   "source": [
    "def detectar_codificacion(ruta_archivo):\n",
    "    with open(ruta_archivo, 'rb') as f:\n",
    "        resultado = chardet.detect(f.read())\n",
    "    return resultado['encoding']"
   ]
  },
  {
   "cell_type": "code",
   "execution_count": null,
   "metadata": {},
   "outputs": [],
   "source": [
    "def clean_dataframe(df: pd.DataFrame) -> pd.DataFrame:\n",
    "    if 'AGENCIA' in df.columns:\n",
    "        df['AGENCIA'] = df['AGENCIA'].str.upper().replace('ASESCOM RJ ABOGADOS', 'ASESCOM RJ')\n",
    "    if 'TIPO_DE_MARCACIÓN' in df.columns:\n",
    "        df.rename(columns={'TIPO_DE_MARCACIÓN': 'TIPO_MARCADOR'}, inplace=True)\n",
    "    if 'TIPO_DE_DISCADO' in df.columns:\n",
    "        df.rename(columns={'TIPO_DE_DISCADO': 'TIPO_MARCADOR'}, inplace=True)\n",
    "    if 'PRIORIDAD_TELEFONO' not in df.columns:\n",
    "        df['PRIORIDAD_TELEFONO'] = np.nan\n",
    "    \n",
    "    df['MARCA'] = df['MARCA'].str.strip().str.upper().replace(' ', '', regex=True)\n",
    "    df['MARCA'] = np.where(df['MARCA'] == 'KST', 'KSTBC', df['MARCA'])\n",
    "    df = df[df['MARCA'].isin(['BC', 'EXJ', 'KSTBC'])]\n",
    "    df['FECHA_LLAMADA'] = pd.to_datetime(df['FECHA_LLAMADA'], errors='coerce')\n",
    "    df['HORA_INICIO_LLAMADA'] = pd.to_datetime(df['HORA_INICIO_LLAMADA']).dt.hour.astype('Int64').fillna(0)\n",
    "    df['TIPO_CONTACTO'] = df['TIPO_CONTACTO'].str.upper().replace('TERCERO', 'CONTACTO INDIRECTO').replace('CONTACTO EFECTIVO', 'CONTACTO DIRECTO').replace('EFECTIVO', 'CONTACTO DIRECTO')\n",
    "    df['TRAMO'] = df['TRAMO'].str.strip().str.upper().replace(' ', '', regex=True).replace(['T1', 'T2', 'T3', 'T4'], 'NULL').fillna('NULL')\n",
    "    df['PDP'] = df.apply(lambda x: 1 if pd.notna(x['FECHA_PDP']) else 0, axis=1)\n",
    "    df['TIPO_MARCADOR'] = df['TIPO_MARCADOR'].str.strip().str.upper().replace(' ', '', regex=True).fillna('NULL')\n",
    "    \n",
    "    df = df[['AGENCIA', 'COD_CENTRAL', 'CONTRATO', 'MARCA', 'FECHA_LLAMADA', 'HORA_INICIO_LLAMADA', 'TIPO_CONTACTO', 'TRAMO', 'PDP', 'TIPO_MARCADOR', 'PRIORIDAD_TELEFONO']]\n",
    "    return df"
   ]
  },
  {
   "cell_type": "code",
   "execution_count": null,
   "metadata": {},
   "outputs": [],
   "source": [
    "def consolidar_archivos(agencia_path: str, archivos: list) -> pd.DataFrame:\n",
    "    dataframes = []\n",
    "    for archivo in archivos:\n",
    "        ruta_completa = os.path.join(agencia_path, archivo)\n",
    "        if archivo.endswith('.txt'):\n",
    "            df = pd.read_csv(\n",
    "                ruta_completa, \n",
    "                sep=',', \n",
    "                dtype={'CONTRATO': str, 'COD_CENTRAL': str, 'NRO_DOC': str}, \n",
    "                encoding='ISO-8859-1'\n",
    "                )\n",
    "        else:\n",
    "            df = pd.read_excel(\n",
    "                ruta_completa, \n",
    "                dtype={'CONTRATO': str, 'COD_CENTRAL': str, 'NRO_DOC': str}\n",
    "                )\n",
    "        \n",
    "        df.columns = clean_columns(df.columns)\n",
    "        dataframes.append(df)\n",
    "        print(f'{archivo} leído correctamente')\n",
    "    \n",
    "    df_consolidado = pd.concat(dataframes, ignore_index=True)\n",
    "    df_consolidado = clean_dataframe(df_consolidado)\n",
    "    \n",
    "    df_consolidado.to_csv(\n",
    "        os.path.join(agencia_path, f'CONSOLIDADO_GESTIONES_{agencia_path.split(\"/\")[-1]}.csv'), \n",
    "        index=False, \n",
    "        sep='|'\n",
    "        )\n",
    "    \n",
    "    return df_consolidado"
   ]
  },
  {
   "cell_type": "code",
   "execution_count": null,
   "metadata": {},
   "outputs": [],
   "source": [
    "root = tk.Tk()\n",
    "root.attributes('-topmost', True)\n",
    "root.withdraw()\n",
    "\n",
    "result = messagebox.askquestion('Confirmación', '¿Consolidar archivos de gestiones?', icon='warning')\n",
    "\n",
    "if result == 'yes':\n",
    "    dataframes = {}\n",
    "    archivos = {\n",
    "        'RJ': (rj_path, rj_archivos),\n",
    "        'CLASA': (clasa_path, clasa_archivos),\n",
    "        #'MORNESE': (mornese_path, mornese_archivos)\n",
    "    }\n",
    "    \n",
    "    for key, (path, file_list) in archivos.items():\n",
    "        if file_list:\n",
    "            dataframes[key] = consolidar_archivos(path, file_list)\n",
    "            print(f'Consolidado {key}:', dataframes[key].shape)\n",
    "        else:\n",
    "            print(f'No hay archivos para consolidar en {key}.')\n",
    "\n",
    "root.destroy()"
   ]
  },
  {
   "cell_type": "code",
   "execution_count": null,
   "metadata": {},
   "outputs": [],
   "source": [
    "root = tk.Tk()\n",
    "root.attributes('-topmost', True)\n",
    "root.withdraw()\n",
    "\n",
    "result = messagebox.askquestion('Confirmación', '¿Leer consolidados?', icon='warning')\n",
    "\n",
    "if result == 'yes':\n",
    "    dataframes = {}\n",
    "    archivos = {\n",
    "        'RJ': f'{rj_path}/CONSOLIDADO_GESTIONES_RJ.csv',\n",
    "        'CLASA': f'{clasa_path}/CONSOLIDADO_GESTIONES_CLASA.csv',\n",
    "        #'MORNESE': f'{mornese_path}/CONSOLIDADO_GESTIONES_MORNESE.csv'\n",
    "    }\n",
    "    \n",
    "    for key, file_path in archivos.items():\n",
    "        if os.path.exists(file_path):\n",
    "            dataframes[key] = pd.read_csv(\n",
    "                file_path, \n",
    "                sep='|', \n",
    "                dtype={'CONTRATO': str, 'COD_CENTRAL': str, 'NRO_DOC': str}, \n",
    "                encoding='ISO-8859-1'\n",
    "                )\n",
    "            print(f'Consolidado {key} leído:', dataframes[key].shape)\n",
    "        else:\n",
    "            print(f'El archivo CONSOLIDADO_GESTIONES_{key}.csv no existe.')\n",
    "\n",
    "root.destroy()"
   ]
  },
  {
   "cell_type": "code",
   "execution_count": null,
   "metadata": {},
   "outputs": [],
   "source": [
    "df_rj_test: pd.DataFrame = dataframes['RJ'].copy()\n",
    "df_clasa_test: pd.DataFrame = dataframes['CLASA'].copy()\n",
    "#df_mornese_test: pd.DataFrame = dataframes['MORNESE'].copy()\n",
    "\n",
    "print(df_rj_test.columns)\n",
    "print(df_clasa_test.columns)"
   ]
  },
  {
   "cell_type": "code",
   "execution_count": null,
   "metadata": {},
   "outputs": [],
   "source": [
    "cod_central_counts = df_rj_test.groupby('COD_CENTRAL')['PERIODO'].nunique()\n",
    "cod_central_in_three_months = cod_central_counts[cod_central_counts == 3].index\n",
    "cod_central_in_three_months"
   ]
  },
  {
   "cell_type": "code",
   "execution_count": null,
   "metadata": {},
   "outputs": [],
   "source": [
    "df_rj_test[df_rj_test['COD_CENTRAL'] == '31625450']"
   ]
  },
  {
   "cell_type": "code",
   "execution_count": null,
   "metadata": {},
   "outputs": [],
   "source": [
    "df_rj_test['PERIODO'] = pd.to_datetime(df_rj_test['FECHA_LLAMADA']).dt.strftime('%Y%m').astype(str)\n",
    "df_rj_test['INTENSITDAD_TOTAL'] = df_rj_test.groupby(['COD_CENTRAL', 'PERIODO'])['COD_CENTRAL'].transform('count')"
   ]
  },
  {
   "cell_type": "code",
   "execution_count": null,
   "metadata": {},
   "outputs": [],
   "source": [
    "df_rj_test['DIRECTO_CALL'] = df_rj_test.groupby(['CONTRATO', 'PERIODO'])['CONTRATO'].transform('count')\n",
    "\n",
    "df_rj_test['INTENSIDAD_DIRECTA'] = df_rj_test['DIRECTO_CALL'] / df_rj_test['DIRECTO_CALL']"
   ]
  },
  {
   "cell_type": "code",
   "execution_count": null,
   "metadata": {},
   "outputs": [],
   "source": [
    "def add_new_columns(df: pd.DataFrame) -> pd.DataFrame:\n",
    "    \n",
    "    df['INTENSIDAD_TOTAL'] = np.nan\n",
    "    df['INTENSIDAD_DIRECTA'] = np.nan\n",
    "    df['COBERTURA'] = np.nan\n",
    "    df['CONTACTO_DIRECTO'] = np.nan\n",
    "    df['TASA_CIERRE'] = np.nan\n",
    "    \n",
    "    return df"
   ]
  },
  {
   "cell_type": "code",
   "execution_count": null,
   "metadata": {},
   "outputs": [],
   "source": [
    "df_rj_indicadores = df_rj_test.groupby(['AGENCIA', 'FECHA_LLAMADA', 'MARCA', 'TRAMO', 'TIPO_MARCADOR', 'PRIORIDAD_TELEFONO']).agg({\n",
    "    'INTENSIDAD_TOTAL': 'mean', \n",
    "    'INTENSIDAD_DIRECTA': lambda x: x[x != 0].mean(), \n",
    "    'COBERTURA': 'mean', \n",
    "    'CONTACTO_DIRECTO': lambda x: x.mean(skipna=True), \n",
    "    'TASA_CIERRE': lambda x: x.mean(skipna=True), \n",
    "    'CALIDAD_PROMESAS': lambda x: x.mean(skipna=True)\n",
    "}).reset_index()\n",
    "\n",
    "df_rj_indicadores.head()"
   ]
  },
  {
   "cell_type": "code",
   "execution_count": null,
   "metadata": {},
   "outputs": [],
   "source": [
    "df_rj_indicadores = df_rj_test.groupby(['AGENCIA', 'MARCA', 'FECHA_LLAMADA', 'TIPO_CONTACTO', 'TRAMO', 'PDP', 'TIPO_MARCADOR', 'PRIORIDAD_TELEFONO']).agg({\n",
    "    'INTENSIDAD_TOTAL': 'mean', \n",
    "    'INTENSIDAD_DIRECTA': lambda x: x[x != 0].mean(), \n",
    "    'COBERTURA': 'mean', \n",
    "    'CONTACTABILIDAD_DIRECTA': lambda x: x.mean(skipna=True), \n",
    "    'TASA_CIERRE': lambda x: x.mean(skipna=True), \n",
    "    'CALIDAD_PROMESAS': lambda x: x.mean(skipna=True)\n",
    "}).reset_index()\n",
    "\n",
    "df_rj_indicadores['INTENSIDAD_TOTAL'] = df_rj_indicadores['INTENSIDAD_TOTAL'].round(2)\n",
    "df_rj_indicadores['INTENSIDAD_DIRECTA'] = df_rj_indicadores['INTENSIDAD_DIRECTA'].round(2)\n",
    "df_rj_indicadores['COBERTURA'] = df_rj_indicadores['COBERTURA'].round(4)\n",
    "df_rj_indicadores['CONTACTABILIDAD_DIRECTA'] = df_rj_indicadores['CONTACTABILIDAD_DIRECTA'].round(2)\n",
    "df_rj_indicadores['TASA_CIERRE'] = df_rj_indicadores['TASA_CIERRE'].round(2)\n",
    "df_rj_indicadores['CALIDAD_PROMESAS'] = df_rj_indicadores['CALIDAD_PROMESAS'].round(2)\n",
    "\n",
    "df_rj_indicadores.sort_values(by=['PERIODO', 'CARTERA', 'AGENCIA'], inplace=True)\n",
    "df_rj_indicadores"
   ]
  },
  {
   "cell_type": "code",
   "execution_count": null,
   "metadata": {},
   "outputs": [],
   "source": [
    "print(df_clasa_test['MARCA'].value_counts(dropna=False))\n",
    "print('---')\n",
    "print(df_rj_test['MARCA'].value_counts(dropna=False))"
   ]
  },
  {
   "cell_type": "code",
   "execution_count": null,
   "metadata": {},
   "outputs": [],
   "source": [
    "print(df_clasa_test['TIPO_CONTACTO'].value_counts(dropna=False))\n",
    "print('---')\n",
    "print(df_rj_test['TIPO_CONTACTO'].value_counts(dropna=False))"
   ]
  },
  {
   "cell_type": "code",
   "execution_count": null,
   "metadata": {},
   "outputs": [],
   "source": [
    "print(df_clasa_test['TRAMO'].value_counts(dropna=False))\n",
    "print('---')\n",
    "print(df_rj_test['TRAMO'].value_counts(dropna=False))"
   ]
  },
  {
   "cell_type": "code",
   "execution_count": null,
   "metadata": {},
   "outputs": [],
   "source": [
    "print(df_clasa_test['PDP'].value_counts(dropna=False))\n",
    "print('---')\n",
    "print(df_rj_test['PDP'].value_counts(dropna=False))"
   ]
  },
  {
   "cell_type": "code",
   "execution_count": null,
   "metadata": {},
   "outputs": [],
   "source": [
    "print(df_clasa_test['TIPO_MARCADOR'].value_counts(dropna=False))\n",
    "print('---')\n",
    "print(df_rj_test['TIPO_MARCADOR'].value_counts(dropna=False))"
   ]
  }
 ],
 "metadata": {
  "kernelspec": {
   "display_name": "Python 3",
   "language": "python",
   "name": "python3"
  },
  "language_info": {
   "codemirror_mode": {
    "name": "ipython",
    "version": 3
   },
   "file_extension": ".py",
   "mimetype": "text/x-python",
   "name": "python",
   "nbconvert_exporter": "python",
   "pygments_lexer": "ipython3",
   "version": "3.12.4"
  }
 },
 "nbformat": 4,
 "nbformat_minor": 2
}
