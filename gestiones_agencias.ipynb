{
 "cells": [
  {
   "cell_type": "code",
   "execution_count": null,
   "metadata": {},
   "outputs": [],
   "source": [
    "import pandas as pd\n",
    "import numpy as np\n",
    "import tkinter as tk\n",
    "import warnings\n",
    "import locale\n",
    "import calendar\n",
    "import chardet\n",
    "import os\n",
    "from tkinter import messagebox\n",
    "from datetime import datetime\n",
    "from unidecode import unidecode\n",
    "\n",
    "warnings.filterwarnings('ignore')\n",
    "locale.setlocale(locale.LC_TIME, 'es_ES.UTF-8')\n",
    "\n",
    "rj_path = 'bases/gestiones/RJ'\n",
    "clasa_path = 'bases/gestiones/CLASA'\n",
    "mornese_path = 'bases/gestiones/MORNESE'\n",
    "\n",
    "rj_archivos = [file for file in os.listdir(rj_path) if file.startswith('REPORTE_CORTES_BBVA_') and file.endswith('.xlsx')]\n",
    "clasa_archivos = [file for file in os.listdir(clasa_path) if file.startswith('REPORTE_CORTES_BBVA_') and file.endswith('.txt')]\n",
    "mornese_archivos = [file for file in os.listdir(mornese_path) if file.startswith('REPORTE_CORTES_BBVA_') and file.endswith('.xlsx')]\n",
    "\n",
    "print(rj_archivos)\n",
    "print(clasa_archivos)\n",
    "print(mornese_archivos)"
   ]
  },
  {
   "cell_type": "code",
   "execution_count": 5,
   "metadata": {},
   "outputs": [],
   "source": [
    "def clean_columns(columns_list: list[str]) -> list[str]:\n",
    "    return [column.strip().replace('.', '').replace(' ', '_').upper() for column in columns_list]"
   ]
  },
  {
   "cell_type": "code",
   "execution_count": 6,
   "metadata": {},
   "outputs": [],
   "source": [
    "def detectar_codificacion(ruta_archivo):\n",
    "    with open(ruta_archivo, 'rb') as f:\n",
    "        resultado = chardet.detect(f.read())\n",
    "    return resultado['encoding']"
   ]
  },
  {
   "cell_type": "code",
   "execution_count": null,
   "metadata": {},
   "outputs": [],
   "source": [
    "import rarfile\n",
    "\n",
    "def descomprimir_rar(archivo_rar, directorio_destino):\n",
    "    if not os.path.exists(archivo_rar):\n",
    "        print(f\"El archivo {archivo_rar} no existe.\")\n",
    "        return\n",
    "    \n",
    "    if not os.path.exists(directorio_destino):\n",
    "        os.makedirs(directorio_destino)\n",
    "    \n",
    "    with rarfile.RarFile(archivo_rar) as archivo:\n",
    "        archivo.extractall(path=directorio_destino)\n",
    "        print(f\"Archivos extraídos en {directorio_destino}\")\n",
    "\n",
    "descomprimir_rar('JUDICIAL.rar', 'bases/')"
   ]
  },
  {
   "cell_type": "code",
   "execution_count": 4,
   "metadata": {},
   "outputs": [],
   "source": [
    "def clean_dataframe(df: pd.DataFrame) -> pd.DataFrame:\n",
    "    if 'AGENCIA' in df.columns:\n",
    "        df['AGENCIA'] = df['AGENCIA'].str.upper().replace('ASESCOM RJ ABOGADOS', 'ASESCOM RJ')\n",
    "    if 'TIPO_DE_MARCACIÓN' in df.columns:\n",
    "        df.rename(columns={'TIPO_DE_MARCACIÓN': 'TIPO_MARCADOR'}, inplace=True)\n",
    "    if 'TIPO_DE_DISCADO' in df.columns:\n",
    "        df.rename(columns={'TIPO_DE_DISCADO': 'TIPO_MARCADOR'}, inplace=True)\n",
    "    if 'PRIORIDAD_TELEFONO' not in df.columns:\n",
    "        df['PRIORIDAD_TELEFONO'] = np.nan\n",
    "    \n",
    "    df['MARCA'] = df['MARCA'].str.strip().str.upper().replace(' ', '', regex=True)\n",
    "    df['MARCA'] = np.where(df['MARCA'] == 'KST', 'KSTBC', df['MARCA'])\n",
    "    df = df[df['MARCA'].isin(['BC', 'EXJ', 'KSTBC'])]\n",
    "    df['FECHA_LLAMADA'] = pd.to_datetime(df['FECHA_LLAMADA'], errors='coerce')\n",
    "    df['HORA_INICIO_LLAMADA'] = pd.to_datetime(df['HORA_INICIO_LLAMADA']).dt.hour.astype('Int64').fillna(0)\n",
    "    df['TIPO_CONTACTO'] = df['TIPO_CONTACTO'].str.upper().replace('TERCERO', 'CONTACTO INDIRECTO').replace('CONTACTO EFECTIVO', 'CONTACTO DIRECTO').replace('EFECTIVO', 'CONTACTO DIRECTO')\n",
    "    df['TRAMO'] = df['TRAMO'].str.strip().str.upper().replace(' ', '', regex=True).replace(['T1', 'T2', 'T3', 'T4'], 'NULL').fillna('NULL')\n",
    "    df['PDP'] = df.apply(lambda x: 1 if pd.notna(x['FECHA_PDP']) else 0, axis=1)\n",
    "    df['TIPO_MARCADOR'] = df['TIPO_MARCADOR'].str.strip().str.upper().replace(' ', '', regex=True).fillna('NULL')\n",
    "    \n",
    "    df = df[['AGENCIA', 'COD_CENTRAL', 'CONTRATO', 'MARCA', 'FECHA_LLAMADA', 'HORA_INICIO_LLAMADA', 'TIPO_CONTACTO', 'TRAMO', 'PDP', 'TIPO_MARCADOR', 'PRIORIDAD_TELEFONO']]\n",
    "    return df"
   ]
  },
  {
   "cell_type": "code",
   "execution_count": 5,
   "metadata": {},
   "outputs": [],
   "source": [
    "def consolidar_archivos(agencia_path: str, archivos: list) -> pd.DataFrame:\n",
    "    dataframes = []\n",
    "    for archivo in archivos:\n",
    "        ruta_completa = os.path.join(agencia_path, archivo)\n",
    "        if archivo.endswith('.txt'):\n",
    "            df = pd.read_csv(\n",
    "                ruta_completa, \n",
    "                sep=',', \n",
    "                dtype={'CONTRATO': str, 'COD_CENTRAL': str, 'NRO_DOC': str}, \n",
    "                encoding='ISO-8859-1'\n",
    "                )\n",
    "        else:\n",
    "            df = pd.read_excel(\n",
    "                ruta_completa, \n",
    "                dtype={'CONTRATO': str, 'COD_CENTRAL': str, 'NRO_DOC': str}\n",
    "                )\n",
    "        \n",
    "        df.columns = clean_columns(df.columns)\n",
    "        dataframes.append(df)\n",
    "        print(f'{archivo} leído correctamente')\n",
    "    \n",
    "    df_consolidado = pd.concat(dataframes, ignore_index=True)\n",
    "    df_consolidado = clean_dataframe(df_consolidado)\n",
    "    \n",
    "    df_consolidado.to_csv(\n",
    "        os.path.join(agencia_path, f'CONSOLIDADO_GESTIONES_{agencia_path.split(\"/\")[-1]}.csv'), \n",
    "        index=False, \n",
    "        sep='|'\n",
    "        )\n",
    "    return df_consolidado"
   ]
  },
  {
   "cell_type": "code",
   "execution_count": 6,
   "metadata": {},
   "outputs": [],
   "source": [
    "root = tk.Tk()\n",
    "root.attributes('-topmost', True)\n",
    "root.withdraw()\n",
    "\n",
    "result = messagebox.askquestion('Confirmación', '¿Consolidar archivos de gestiones?', icon='warning')\n",
    "\n",
    "if result == 'yes':\n",
    "    dataframes = {}\n",
    "    archivos = {\n",
    "        #'RJ': (rj_path, rj_archivos),\n",
    "        'CLASA': (clasa_path, clasa_archivos),\n",
    "        #'MORNESE': (mornese_path, mornese_archivos)\n",
    "    }\n",
    "    \n",
    "    for key, (path, file_list) in archivos.items():\n",
    "        if file_list:\n",
    "            dataframes[key] = consolidar_archivos(path, file_list)\n",
    "            print(f'Consolidado {key}:', dataframes[key].shape)\n",
    "        else:\n",
    "            print(f'No hay archivos para consolidar en {key}.')\n",
    "\n",
    "root.destroy()"
   ]
  },
  {
   "cell_type": "code",
   "execution_count": null,
   "metadata": {},
   "outputs": [],
   "source": [
    "root = tk.Tk()\n",
    "root.attributes('-topmost', True)\n",
    "root.withdraw()\n",
    "\n",
    "result = messagebox.askquestion('Confirmación', '¿Leer consolidados?', icon='warning')\n",
    "\n",
    "if result == 'yes':\n",
    "    dataframes = {}\n",
    "    archivos = {\n",
    "        #'RJ': f'{rj_path}/CONSOLIDADO_GESTIONES_RJ.csv',\n",
    "        'CLASA': f'{clasa_path}/CONSOLIDADO_GESTIONES_CLASA.csv',\n",
    "        #'MORNESE': f'{mornese_path}/CONSOLIDADO_GESTIONES_MORNESE.csv'\n",
    "    }\n",
    "    \n",
    "    for key, file_path in archivos.items():\n",
    "        if os.path.exists(file_path):\n",
    "            dataframes[key] = pd.read_csv(\n",
    "                file_path, \n",
    "                sep='|', \n",
    "                dtype={'CONTRATO': str, 'COD_CENTRAL': str, 'NRO_DOC': str}, \n",
    "                encoding='ISO-8859-1'\n",
    "                )\n",
    "            print(f'Consolidado {key} leído:', dataframes[key].shape)\n",
    "        else:\n",
    "            print(f'El archivo CONSOLIDADO_GESTIONES_{key}.csv no existe.')\n",
    "\n",
    "root.destroy()"
   ]
  },
  {
   "cell_type": "code",
   "execution_count": null,
   "metadata": {},
   "outputs": [],
   "source": [
    "def sort_columns(df: pd.DataFrame) -> pd.DataFrame:\n",
    "    cols = ['AGENCIA', 'COD_CENTRAL', 'CONTRATO', 'PERIODO', 'DIA', 'MARCA', 'TRAMO', 'TIPO_CONTACTO', 'PRIORIDAD_TELEFONO', 'TIPO_MARCADOR', 'INTENSIDAD_TOTAL', 'INTENSIDAD_DIRECTA', 'CONTACTO_DIRECTO', 'PDP']\n",
    "    return df[cols]\n",
    "\n",
    "df_clasa_test: pd.DataFrame = dataframes['CLASA'].copy()\n",
    "df_clasa_test.sort_values(by='FECHA_LLAMADA', inplace=True)\n",
    "df_clasa_test.reset_index(inplace=True, drop=True)\n",
    "df_clasa_test.drop(columns={'HORA_INICIO_LLAMADA'}, inplace=True)\n",
    "df_clasa_test['TRAMO'] = df_clasa_test['TRAMO'].fillna('NULL')\n",
    "print(df_clasa_test.columns)\n",
    "df_clasa_test.head(5)"
   ]
  },
  {
   "cell_type": "code",
   "execution_count": null,
   "metadata": {},
   "outputs": [],
   "source": [
    "df_clasa_test['PERIODO'] = pd.to_datetime(df_clasa_test['FECHA_LLAMADA']).dt.strftime('%Y%m').astype(str)\n",
    "\n",
    "fechas_unicas = df_clasa_test[['PERIODO', 'FECHA_LLAMADA']].drop_duplicates().sort_values(by='FECHA_LLAMADA')\n",
    "orden_fechas = fechas_unicas.groupby('PERIODO').cumcount() + 1\n",
    "fechas_unicas['DIA'] = orden_fechas\n",
    "df_clasa_test = df_clasa_test.merge(fechas_unicas[['PERIODO', 'FECHA_LLAMADA', 'DIA']], on=['PERIODO', 'FECHA_LLAMADA'], how='left')\n",
    "df_clasa_test.drop(columns={'FECHA_LLAMADA'}, inplace=True)\n",
    "\n",
    "df_clasa_test['INTENSIDAD_TOTAL'] = 1\n",
    "df_clasa_test['INTENSIDAD_DIRECTA'] = np.where(df_clasa_test['TIPO_CONTACTO'] == 'CONTACTO DIRECTO', 1, 0)\n",
    "df_clasa_test['CONTACTO_DIRECTO'] = np.where(df_clasa_test['INTENSIDAD_DIRECTA'] != 0, 1, 0)\n",
    "\n",
    "df_clasa_test.sort_values(by=['AGENCIA', 'PERIODO', 'DIA', 'MARCA', 'TRAMO', 'PRIORIDAD_TELEFONO', 'TIPO_MARCADOR'], inplace=True)\n",
    "df_clasa_test.reset_index(drop=True, inplace=True)\n",
    "\n",
    "df_clasa_test = df_clasa_test[df_clasa_test['PERIODO'] == '202411']\n",
    "df_clasa_test"
   ]
  },
  {
   "cell_type": "code",
   "execution_count": null,
   "metadata": {},
   "outputs": [],
   "source": [
    "# asignacion\n",
    "#df_asig = pd.read_excel('bases/asignacion/202411/base_asignacion_NOV24.xlsx', sheet_name='BASE', dtype={'CONTRATO': str, 'COD_CENTRAL': str})\n",
    "#df_asig = df_asig[df_asig['AGENCIA'] == 'CLASA MORA']\n",
    "#df_asig['KEY'] = 'ASIGNACION'\n",
    "#df_asig.shape"
   ]
  },
  {
   "cell_type": "code",
   "execution_count": 645,
   "metadata": {},
   "outputs": [],
   "source": [
    "#df_asig.rename(columns={\n",
    "#    'CC': 'COD_CENTRAL', \n",
    "#    'CARTERA': 'MARCA', \n",
    "#}, inplace=True)\n",
    "\n",
    "#df_asig = df_asig[['COD_CENTRAL', 'CONTRATO','MARCA', 'AGENCIA', 'KEY']]\n",
    "#df_asig['COD_CENTRAL'] = df_asig['COD_CENTRAL'].astype('Int64').astype(str).str.zfill(8)"
   ]
  },
  {
   "cell_type": "code",
   "execution_count": 684,
   "metadata": {},
   "outputs": [],
   "source": [
    "#df_cruce = df_asig.merge(df_clasa_test, on='CONTRATO', how='left', suffixes=('', '_CLASA'))\n",
    "\n",
    "#df_cruce.drop(columns={\n",
    "#    'AGENCIA_CLASA',\n",
    "#    'COD_CENTRAL_CLASA', \n",
    "#    'MARCA_CLASA', \n",
    "#}, inplace=True)\n",
    "\n",
    "#df_cruce['TIPO_CONTACTO'] = df_cruce['TIPO_CONTACTO'].fillna('SIN GESTION')\n",
    "#df_cruce['TRAMO'] = df_cruce['TRAMO'].fillna('NULL')\n",
    "#df_cruce['PDP'] = df_cruce['PDP'].fillna(0)\n",
    "#df_cruce['TIPO_MARCADOR'] = df_cruce['TIPO_MARCADOR'].fillna('SIN GESTION')\n",
    "#df_cruce['PRIORIDAD_TELEFONO'] = df_cruce['PRIORIDAD_TELEFONO'].fillna('NULL')\n",
    "#df_cruce['PERIODO'] = '202411'\n",
    "#df_cruce['DIA'] = df_cruce['DIA'].fillna('NULL')"
   ]
  },
  {
   "cell_type": "code",
   "execution_count": null,
   "metadata": {},
   "outputs": [],
   "source": [
    "#df_cruce['INTENSIDAD_TOTAL'] = np.where(df_cruce['INTENSIDAD_TOTAL'] == 1, 1, 0)\n",
    "#df_cruce['INTENSIDAD_DIRECTA'] = np.where(df_cruce['TIPO_CONTACTO'] == 'CONTACTO DIRECTO', 1, 0)\n",
    "#df_cruce['CONTACTO_DIRECTO'] = np.where(df_cruce['INTENSIDAD_DIRECTA'] != 0, 1, 0)\n",
    "\n",
    "#df_cruce.sort_values(by=['AGENCIA', 'PERIODO', 'DIA', 'MARCA', 'TRAMO', 'PRIORIDAD_TELEFONO', 'TIPO_MARCADOR'], inplace=True)\n",
    "#df_cruce.reset_index(drop=True, inplace=True)\n",
    "#df_cruce"
   ]
  },
  {
   "cell_type": "code",
   "execution_count": null,
   "metadata": {},
   "outputs": [],
   "source": [
    "df_clasa_test = sort_columns(df_clasa_test)\n",
    "df_clasa_test"
   ]
  },
  {
   "cell_type": "code",
   "execution_count": null,
   "metadata": {},
   "outputs": [],
   "source": [
    "df_clasa_test_5 = df_clasa_test[df_clasa_test['DIA'].isin([1,2,3,4,5])]\n",
    "df_clasa_test_5['DIA'].value_counts(dropna=False)"
   ]
  },
  {
   "cell_type": "code",
   "execution_count": null,
   "metadata": {},
   "outputs": [],
   "source": [
    "dias_unicos = sorted(df_clasa_test_5['DIA'].unique())\n",
    "dias_unicos"
   ]
  },
  {
   "cell_type": "code",
   "execution_count": null,
   "metadata": {},
   "outputs": [],
   "source": [
    "df_test_groupped_5 = pd.DataFrame()\n",
    "\n",
    "for dia in dias_unicos:\n",
    "    df_acumulado = df_clasa_test[df_clasa_test['DIA'] <= dia]\n",
    "    print('Dia acumulado:', dia, df_acumulado.shape, df_acumulado['DIA'].unique())\n",
    "    \n",
    "    df_grouped = df_acumulado.groupby(['AGENCIA', 'PERIODO', 'COD_CENTRAL', 'CONTRATO', 'MARCA', 'TRAMO', 'PRIORIDAD_TELEFONO', 'TIPO_MARCADOR']).agg({\n",
    "        'INTENSIDAD_TOTAL': 'sum', \n",
    "        'INTENSIDAD_DIRECTA': 'sum', \n",
    "        'CONTACTO_DIRECTO': 'max', \n",
    "        'PDP': 'max'\n",
    "    }).reset_index()\n",
    "    \n",
    "    df_grouped['TASA_CIERRE'] = np.where(\n",
    "        (df_grouped['INTENSIDAD_DIRECTA'] > 0) & (df_grouped['PDP'] == 1), \n",
    "        1, \n",
    "        np.where(\n",
    "            (df_grouped['INTENSIDAD_DIRECTA'] > 0) & (df_grouped['PDP'] == 0), \n",
    "            0, \n",
    "            np.nan\n",
    "            )\n",
    "        )\n",
    "    df_grouped['TASA_CIERRE'] = df_grouped['TASA_CIERRE'].apply(lambda x: int(x) if pd.notna(x) else x)\n",
    "    \n",
    "    df_grouped['DIA'] = dia\n",
    "    \n",
    "    df_test_groupped_5 = pd.concat([df_test_groupped_5, df_grouped])\n",
    "\n",
    "df_test_groupped_5.sort_values(by=['AGENCIA', 'PERIODO', 'DIA', 'MARCA', 'TRAMO', 'PRIORIDAD_TELEFONO', 'TIPO_MARCADOR'], inplace=True)\n",
    "df_test_groupped_5.reset_index(drop=True, inplace=True)"
   ]
  },
  {
   "cell_type": "code",
   "execution_count": null,
   "metadata": {},
   "outputs": [],
   "source": [
    "def sort_columns(df: pd.DataFrame) -> pd.DataFrame:\n",
    "    cols = ['AGENCIA', 'PERIODO', 'DIA', 'MARCA', 'TRAMO', 'PRIORIDAD_TELEFONO', 'TIPO_MARCADOR', 'INTENSIDAD_TOTAL', 'INTENSIDAD_DIRECTA', 'CONTACTO_DIRECTO', 'PDP']\n",
    "    return df[cols]\n",
    "\n",
    "df_test_groupped_5 = sort_columns(df_test_groupped_5)\n",
    "df_test_groupped_5"
   ]
  },
  {
   "cell_type": "code",
   "execution_count": 77,
   "metadata": {},
   "outputs": [],
   "source": [
    "df_test_groupped_5.to_excel('bases/gestiones/CLASA/RESUMEN_5_DIAS_CLASA.xlsx', index=False)\n",
    "os.startfile('C://Users//p042833//Documents//GitHub//base-pagos//bases//gestiones//CLASA//RESUMEN_5_DIAS_CLASA.xlsx')"
   ]
  },
  {
   "cell_type": "code",
   "execution_count": null,
   "metadata": {},
   "outputs": [],
   "source": [
    "df_clasa_test.isnull().sum()"
   ]
  },
  {
   "cell_type": "code",
   "execution_count": null,
   "metadata": {},
   "outputs": [],
   "source": [
    "df_clasa_test['DIA'].value_counts(dropna=False).sort_index()"
   ]
  },
  {
   "cell_type": "code",
   "execution_count": 84,
   "metadata": {},
   "outputs": [],
   "source": [
    "def sort_columns(df: pd.DataFrame) -> pd.DataFrame:\n",
    "    cols = ['AGENCIA', 'PERIODO', 'DIA', 'MARCA', 'TRAMO', 'PRIORIDAD_TELEFONO', 'TIPO_MARCADOR', 'INTENSIDAD_TOTAL', 'INTENSIDAD_DIRECTA', 'CONTACTO_DIRECTO', 'TASA_CIERRE']\n",
    "    return df[cols]"
   ]
  },
  {
   "cell_type": "code",
   "execution_count": null,
   "metadata": {},
   "outputs": [],
   "source": [
    "dias_unicos = sorted(df_clasa_test['DIA'].unique())\n",
    "dias_unicos"
   ]
  },
  {
   "cell_type": "code",
   "execution_count": null,
   "metadata": {},
   "outputs": [],
   "source": [
    "df_test_groupped = pd.DataFrame()\n",
    "\n",
    "for dia in dias_unicos:\n",
    "    df_acumulado = df_clasa_test[df_clasa_test['DIA'] <= dia]\n",
    "    print('Dia acumulado:', dia, df_acumulado.shape, df_acumulado['DIA'].unique())\n",
    "    \n",
    "    df_grouped = df_acumulado.groupby(['AGENCIA', 'PERIODO', 'COD_CENTRAL', 'CONTRATO', 'MARCA', 'TRAMO', 'PRIORIDAD_TELEFONO', 'TIPO_MARCADOR']).agg({\n",
    "        'INTENSIDAD_TOTAL': 'sum', \n",
    "        'INTENSIDAD_DIRECTA': 'sum', \n",
    "        'CONTACTO_DIRECTO': 'max', \n",
    "        'PDP': 'max'\n",
    "    }).reset_index()\n",
    "    \n",
    "    df_grouped['TASA_CIERRE'] = np.where(\n",
    "        (df_grouped['INTENSIDAD_DIRECTA'] > 0) & (df_grouped['PDP'] == 1), \n",
    "        1, \n",
    "        np.where(\n",
    "            (df_grouped['INTENSIDAD_DIRECTA'] > 0) & (df_grouped['PDP'] == 0), \n",
    "            0, \n",
    "            np.nan\n",
    "            )\n",
    "        )\n",
    "    df_grouped['TASA_CIERRE'] = df_grouped['TASA_CIERRE'].apply(lambda x: int(x) if pd.notna(x) else x)\n",
    "    \n",
    "    df_grouped = df_grouped.groupby(['AGENCIA', 'PERIODO', 'MARCA', 'TRAMO', 'TIPO_MARCADOR', 'PRIORIDAD_TELEFONO']).agg({\n",
    "        'INTENSIDAD_TOTAL': 'mean', \n",
    "        'INTENSIDAD_DIRECTA': lambda x: x[x != 0].mean(), \n",
    "        'CONTACTO_DIRECTO': lambda x: x.mean(skipna=True), \n",
    "        'TASA_CIERRE': lambda x: x.mean(skipna=True), \n",
    "    }).reset_index()\n",
    "    \n",
    "    df_grouped['INTENSIDAD_TOTAL'] = df_grouped['INTENSIDAD_TOTAL'].round(2)\n",
    "    df_grouped['INTENSIDAD_DIRECTA'] = df_grouped['INTENSIDAD_DIRECTA'].round(2)\n",
    "    df_grouped['CONTACTO_DIRECTO'] = df_grouped['CONTACTO_DIRECTO'].round(2)\n",
    "    df_grouped['TASA_CIERRE'] = df_grouped['TASA_CIERRE'].round(2)\n",
    "    df_grouped['DIA'] = dia\n",
    "    \n",
    "    df_test_groupped = pd.concat([df_test_groupped, df_grouped])\n",
    "\n",
    "df_test_groupped.sort_values(by=['AGENCIA', 'PERIODO', 'DIA', 'MARCA', 'TRAMO', 'PRIORIDAD_TELEFONO', 'TIPO_MARCADOR'], inplace=True)\n",
    "df_test_groupped.reset_index(drop=True, inplace=True)\n",
    "df_test_groupped.shape"
   ]
  },
  {
   "cell_type": "code",
   "execution_count": null,
   "metadata": {},
   "outputs": [],
   "source": [
    "df_test_groupped = sort_columns(df_test_groupped)\n",
    "df_test_groupped"
   ]
  },
  {
   "cell_type": "code",
   "execution_count": null,
   "metadata": {},
   "outputs": [],
   "source": [
    "df_test_groupped.isnull().sum()"
   ]
  },
  {
   "cell_type": "code",
   "execution_count": 89,
   "metadata": {},
   "outputs": [],
   "source": [
    "df_test_groupped.fillna(0, inplace=True)"
   ]
  },
  {
   "cell_type": "code",
   "execution_count": null,
   "metadata": {},
   "outputs": [],
   "source": [
    "df_test_groupped.isnull().sum()"
   ]
  },
  {
   "cell_type": "code",
   "execution_count": null,
   "metadata": {},
   "outputs": [],
   "source": [
    "df_test_groupped['DIA'].value_counts(dropna=False).sort_index()"
   ]
  },
  {
   "cell_type": "code",
   "execution_count": 69,
   "metadata": {},
   "outputs": [],
   "source": [
    "df_test_groupped.to_excel('bases/gestiones/CLASA/PRUEBA.xlsx', index=False)\n",
    "os.startfile('C://Users//p042833//Documents//GitHub//base-pagos//bases//gestiones//CLASA//PRUEBA.xlsx')"
   ]
  }
 ],
 "metadata": {
  "kernelspec": {
   "display_name": "Python 3",
   "language": "python",
   "name": "python3"
  },
  "language_info": {
   "codemirror_mode": {
    "name": "ipython",
    "version": 3
   },
   "file_extension": ".py",
   "mimetype": "text/x-python",
   "name": "python",
   "nbconvert_exporter": "python",
   "pygments_lexer": "ipython3",
   "version": "3.12.4"
  }
 },
 "nbformat": 4,
 "nbformat_minor": 2
}
