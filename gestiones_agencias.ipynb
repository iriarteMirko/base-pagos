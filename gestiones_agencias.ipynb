{
 "cells": [
  {
   "cell_type": "code",
   "execution_count": null,
   "metadata": {},
   "outputs": [],
   "source": [
    "import pandas as pd\n",
    "import tkinter as tk\n",
    "import warnings\n",
    "import os\n",
    "from tkinter import messagebox\n",
    "from datetime import datetime\n",
    "import calendar\n",
    "\n",
    "warnings.filterwarnings('ignore')\n",
    "\n",
    "def consolidar_archivos(agencia_path: str, archivos: list) -> pd.DataFrame:\n",
    "    dataframes = []\n",
    "    for archivo in archivos:\n",
    "        df = pd.read_excel(os.path.join(agencia_path, archivo), dtype={'CONTRATO': str, 'COD_CENTRAL': str, 'NRO_DOC': str})\n",
    "        dataframes.append(df)\n",
    "    \n",
    "    df_consolidado = pd.concat(dataframes, ignore_index=True)\n",
    "    df_consolidado.to_excel(os.path.join(agencia_path, f'CONSOLIDADO_GESTIONES_{agencia_path.split('/')[-1]}.xlsx'), index = False)\n",
    "    return df_consolidado\n",
    "\n",
    "rj_path = 'bases/gestiones/RJ'\n",
    "clasa_path = 'bases/gestiones/CLASA'\n",
    "mornese_path = 'bases/gestiones/MORNESE'\n",
    "\n",
    "rj_archivos = [file for file in os.listdir(rj_path) if file.startswith('REP_GESTIONES _ BBVA') and file.endswith('.xlsx')]\n",
    "clasa_archivos = [file for file in os.listdir(clasa_path) if file.startswith('REP_GESTIONES _ BBVA') and file.endswith('.xlsx')]\n",
    "mornese_archivos = [file for file in os.listdir(mornese_path) if file.startswith('REP_GESTIONES _ BBVA') and file.endswith('.xlsx')]"
   ]
  },
  {
   "cell_type": "code",
   "execution_count": null,
   "metadata": {},
   "outputs": [],
   "source": [
    "root = tk.Tk()\n",
    "root.attributes('-topmost', True)\n",
    "root.withdraw()\n",
    "\n",
    "result = messagebox.askquestion('Confirmación', '¿Cargar 3 meses RJ?', icon='warning')\n",
    "if result == 'yes':\n",
    "    path_rj_ = f'{rj_path}/Cortes de gestion RJ Sep,Oct al 13.11.xlsx'\n",
    "    df_rj_ = pd.read_excel(path_rj_, dtype={'CONTRATO': str, 'COD_CENTRAL': str, 'NRO_DOC': str})\n",
    "    df_rj_.drop(columns=['Hora'], inplace=True)\n",
    "    print('RJ Sep,Oct,Nov:', df_rj_.shape)\n",
    "    \n",
    "    df_09 = df_rj_[(df_rj_['TIPO_CONTACTO'] == 'CONTACTO DIRECTO') & (df_rj_['FECHA_LLAMADA'].dt.month == 9)]\n",
    "    df_09.to_excel(f'{rj_path}/REP_GESTIONES _ BBVA _0924.xlsx', index=False)\n",
    "    \n",
    "    df_10 = df_rj_[(df_rj_['TIPO_CONTACTO'] == 'CONTACTO DIRECTO') & (df_rj_['FECHA_LLAMADA'].dt.month == 10)]\n",
    "    df_10.to_excel(f'{rj_path}/REP_GESTIONES _ BBVA _1024.xlsx', index=False)\n",
    "    \n",
    "    df_11 = df_rj_[(df_rj_['TIPO_CONTACTO'] == 'CONTACTO DIRECTO') & (df_rj_['FECHA_LLAMADA'].dt.month == 11)]\n",
    "    df_11.to_excel(f'{rj_path}/REP_GESTIONES _ BBVA _1124.xlsx', index=False)\n",
    "    \n",
    "    print('RJ Sep,Oct,Nov Contacto Directo:', df_09.shape[0] + df_10.shape[0] + df_11.shape[0])\n",
    "\n",
    "root.destroy()"
   ]
  },
  {
   "cell_type": "code",
   "execution_count": null,
   "metadata": {},
   "outputs": [],
   "source": [
    "root = tk.Tk()\n",
    "root.attributes('-topmost', True)\n",
    "root.withdraw()\n",
    "\n",
    "result = messagebox.askquestion('Confirmación', '¿Consolidar archivos de gestiones?', icon='warning')\n",
    "if result == 'yes':\n",
    "    df_rj = consolidar_archivos(rj_path, rj_archivos)\n",
    "    print('Consolidado RJ:', df_rj.shape)\n",
    "    \n",
    "    #df_clasa = consolidar_archivos(clasa_path, clasa_archivos)\n",
    "    #print('Consolidado CLASA:', df_clasa.shape)\n",
    "    \n",
    "    #df_mornese = consolidar_archivos(mornese_path, mornese_archivos)\n",
    "    #print('Consolidado Mornese:', df_mornese.shape)\n",
    "\n",
    "root.destroy()"
   ]
  },
  {
   "cell_type": "code",
   "execution_count": null,
   "metadata": {},
   "outputs": [],
   "source": [
    "root = tk.Tk()\n",
    "root.attributes('-topmost', True)\n",
    "root.withdraw()\n",
    "\n",
    "result = messagebox.askquestion('Confirmación', '¿Leer consolidados?', icon='warning')\n",
    "if result == 'yes':\n",
    "    df_rj = pd.read_excel(f'{rj_path}/CONSOLIDADO_GESTIONES_RJ.xlsx', dtype={'CONTRATO': str, 'COD_CENTRAL': str, 'NRO_DOC': str})\n",
    "    #df_clasa = pd.read_excel(f'{clasa_path}/CONSOLIDADO_GESTIONES_CLASA.xlsx', dtype={'CONTRATO': str, 'COD_CENTRAL': str, 'NRO_DOC': str})\n",
    "    #df_mornese = pd.read_excel(f'{mornese_path}/CONSOLIDADO_GESTIONES_MORNESE.xlsx', dtype={'CONTRATO': str, 'COD_CENTRAL': str, 'NRO_DOC': str})\n",
    "\n",
    "root.destroy()"
   ]
  },
  {
   "cell_type": "code",
   "execution_count": null,
   "metadata": {},
   "outputs": [],
   "source": [
    "df_rj_test = df_rj.copy()\n",
    "#df_clasa_test = df_clasa.copy()\n",
    "#df_mornese_test = df_mornese.copy()"
   ]
  },
  {
   "cell_type": "code",
   "execution_count": null,
   "metadata": {},
   "outputs": [],
   "source": [
    "df_rj_test.columns"
   ]
  },
  {
   "cell_type": "code",
   "execution_count": null,
   "metadata": {},
   "outputs": [],
   "source": [
    "df_rj_test.dtypes"
   ]
  },
  {
   "cell_type": "code",
   "execution_count": null,
   "metadata": {},
   "outputs": [],
   "source": [
    "df_rj_test['TIPO_CONTACTO'].value_counts(dropna=False)"
   ]
  },
  {
   "cell_type": "code",
   "execution_count": null,
   "metadata": {},
   "outputs": [],
   "source": [
    "df_rj_test['FECHA_LLAMADA'].dt.month.value_counts(dropna=False)"
   ]
  },
  {
   "cell_type": "code",
   "execution_count": null,
   "metadata": {},
   "outputs": [],
   "source": [
    "df_rj_test.isna().sum()"
   ]
  },
  {
   "cell_type": "code",
   "execution_count": null,
   "metadata": {},
   "outputs": [],
   "source": [
    "df_rj_test['HORA_INICIO_LLAMADA']"
   ]
  },
  {
   "cell_type": "code",
   "execution_count": null,
   "metadata": {},
   "outputs": [],
   "source": [
    "df_rj_test['HORA_INICIO_LLAMADA'] = pd.to_datetime(df_rj_test['HORA_INICIO_LLAMADA'])\n",
    "df_rj_test['HORA_INICIO_LLAMADA_HORA'] = df_rj_test['HORA_INICIO_LLAMADA'].dt.hour\n",
    "df_rj_test['HORA_INICIO_LLAMADA_HORA']"
   ]
  },
  {
   "cell_type": "code",
   "execution_count": null,
   "metadata": {},
   "outputs": [],
   "source": [
    "df_rj_test['TRAMO'].value_counts(dropna=False)"
   ]
  },
  {
   "cell_type": "code",
   "execution_count": null,
   "metadata": {},
   "outputs": [],
   "source": [
    "df_rj_test['PRODUCTO'].value_counts(dropna=False)"
   ]
  },
  {
   "cell_type": "code",
   "execution_count": null,
   "metadata": {},
   "outputs": [],
   "source": [
    "df_rj_test['MARCA'] = df_rj_test['MARCA'].str.upper().replace(' ', '', regex=True)"
   ]
  },
  {
   "cell_type": "code",
   "execution_count": null,
   "metadata": {},
   "outputs": [],
   "source": [
    "df_rj_test['MARCA'].value_counts(dropna=False)"
   ]
  },
  {
   "cell_type": "code",
   "execution_count": null,
   "metadata": {},
   "outputs": [],
   "source": [
    "df_rj_test"
   ]
  }
 ],
 "metadata": {
  "kernelspec": {
   "display_name": "Python 3",
   "language": "python",
   "name": "python3"
  },
  "language_info": {
   "codemirror_mode": {
    "name": "ipython",
    "version": 3
   },
   "file_extension": ".py",
   "mimetype": "text/x-python",
   "name": "python",
   "nbconvert_exporter": "python",
   "pygments_lexer": "ipython3",
   "version": "3.11.5"
  }
 },
 "nbformat": 4,
 "nbformat_minor": 2
}
