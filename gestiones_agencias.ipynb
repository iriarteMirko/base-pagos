{
 "cells": [
  {
   "cell_type": "code",
   "execution_count": null,
   "metadata": {},
   "outputs": [],
   "source": [
    "import pandas as pd\n",
    "import numpy as np\n",
    "import tkinter as tk\n",
    "import warnings\n",
    "import locale\n",
    "import calendar\n",
    "import chardet\n",
    "import os\n",
    "from tkinter import messagebox\n",
    "from datetime import datetime\n",
    "from unidecode import unidecode\n",
    "\n",
    "warnings.filterwarnings('ignore')\n",
    "locale.setlocale(locale.LC_TIME, 'es_ES.UTF-8')\n",
    "\n",
    "rj_path = 'bases/gestiones/RJ'\n",
    "clasa_path = 'bases/gestiones/CLASA'\n",
    "mornese_path = 'bases/gestiones/MORNESE'\n",
    "\n",
    "rj_archivos = [file for file in os.listdir(rj_path) if file.startswith('REPORTE_CORTES_BBVA_') and file.endswith('.xlsx')]\n",
    "clasa_archivos = [file for file in os.listdir(clasa_path) if file.startswith('REPORTE_CORTES_BBVA_') and file.endswith('.txt')]\n",
    "mornese_archivos = [file for file in os.listdir(mornese_path) if file.startswith('REPORTE_CORTES_BBVA_') and file.endswith('.txt')]\n",
    "\n",
    "print(rj_archivos)\n",
    "print(clasa_archivos)\n",
    "print(mornese_archivos)"
   ]
  },
  {
   "cell_type": "code",
   "execution_count": 112,
   "metadata": {},
   "outputs": [],
   "source": [
    "def clean_columns(columns_list: list[str]) -> list[str]:\n",
    "    return [column.strip().replace('.', '').replace(' ', '_').upper() for column in columns_list]"
   ]
  },
  {
   "cell_type": "code",
   "execution_count": 113,
   "metadata": {},
   "outputs": [],
   "source": [
    "def detectar_codificacion(ruta_archivo):\n",
    "    with open(ruta_archivo, 'rb') as f:\n",
    "        resultado = chardet.detect(f.read())\n",
    "    return resultado['encoding']"
   ]
  },
  {
   "cell_type": "code",
   "execution_count": null,
   "metadata": {},
   "outputs": [],
   "source": [
    "ruta = 'bases/gestiones/MORNESE/202412/202412_03.txt'\n",
    "encoding = detectar_codificacion(ruta)\n",
    "encoding"
   ]
  },
  {
   "cell_type": "code",
   "execution_count": null,
   "metadata": {},
   "outputs": [],
   "source": [
    "input_path = 'txt/ARCHIVO_RESPUESTA_PARTICULARES_13_12_2024.txt'\n",
    "output_path = 'txt/ARCHIVO_RESPUESTA_PARTICULARES_13_12_2024_ASCII.txt'\n",
    "\n",
    "try:\n",
    "    # Leer el contenido del archivo en UTF-8\n",
    "    with open(input_path, 'r', encoding='utf-8', errors='ignore') as infile:\n",
    "        content = infile.read()\n",
    "    \n",
    "    # Guardar el contenido en el nuevo archivo con codificación ASCII\n",
    "    with open(output_path, 'w', encoding='ascii', errors='ignore') as outfile:\n",
    "        outfile.write(content)\n",
    "    \n",
    "    print(f\"Archivo convertido a ASCII: {output_path}\")\n",
    "\n",
    "except FileNotFoundError:\n",
    "    print(f\"El archivo '{input_path}' no fue encontrado.\")\n",
    "except Exception as e:\n",
    "    print(f\"Se produjo un error: {e}\")"
   ]
  },
  {
   "cell_type": "code",
   "execution_count": 143,
   "metadata": {},
   "outputs": [],
   "source": [
    "def clean_dataframe(df: pd.DataFrame) -> pd.DataFrame:\n",
    "    if 'AGENCIA' in df.columns:\n",
    "        df['AGENCIA'] = df['AGENCIA'].str.upper().replace('ASESCOM RJ ABOGADOS', 'ASESCOM RJ')\n",
    "    if 'TIPO_DE_MARCACIÓN' in df.columns:\n",
    "        df.rename(columns={'TIPO_DE_MARCACIÓN': 'TIPO_MARCADOR'}, inplace=True)\n",
    "    if 'TIPO_DE_DISCADO' in df.columns:\n",
    "        df.rename(columns={'TIPO_DE_DISCADO': 'TIPO_MARCADOR'}, inplace=True)\n",
    "    if 'PRIORIDAD_TELEFONO' not in df.columns:\n",
    "        df['PRIORIDAD_TELEFONO'] = np.nan\n",
    "    \n",
    "    df['MARCA'] = df['MARCA'].str.strip().str.upper().replace(' ', '', regex=True)\n",
    "    df['MARCA'] = np.where(df['MARCA'] == 'KST', 'KSTBC', df['MARCA'])\n",
    "    df = df[df['MARCA'].isin(['BC', 'EXJ', 'KSTBC'])]\n",
    "    df['FECHA_LLAMADA'] = pd.to_datetime(df['FECHA_LLAMADA'], format='%d/%m/%Y', errors='coerce')\n",
    "    df['HORA_INICIO_LLAMADA'] = pd.to_datetime(df['HORA_INICIO_LLAMADA']).dt.hour.astype('Int64').fillna(0)\n",
    "    df['TIPO_CONTACTO'] = df['TIPO_CONTACTO'].str.upper().replace('TERCERO', 'CONTACTO INDIRECTO').replace('CONTACTO EFECTIVO', 'CONTACTO DIRECTO').replace('EFECTIVO', 'CONTACTO DIRECTO')\n",
    "    df['TRAMO'] = df['TRAMO'].str.strip().str.upper().replace(' ', '', regex=True).replace(['T1', 'T2', 'T3', 'T4'], 'NULL')\n",
    "    df['TRAMO'] = df['TRAMO'].fillna('NULL')\n",
    "    df['TIPO_MARCADOR'] = df['TIPO_MARCADOR'].str.strip().str.upper().replace(' ', '', regex=True)\n",
    "    df['TIPO_MARCADOR'] = df['TIPO_MARCADOR'].fillna('NULL')\n",
    "    df['PDP'] = df.apply(lambda x: 1 if pd.notna(x['FECHA_PDP']) else 0, axis=1)\n",
    "    \n",
    "    df.sort_values(by='FECHA_LLAMADA', inplace=True)\n",
    "    df.reset_index(inplace=True, drop=True)\n",
    "    df.drop(columns={'HORA_INICIO_LLAMADA'}, inplace=True)\n",
    "    \n",
    "    df = df[['AGENCIA', 'COD_CENTRAL', 'CONTRATO', 'MARCA', 'FECHA_LLAMADA', 'TIPO_CONTACTO', 'TRAMO', 'PDP', 'TIPO_MARCADOR', 'PRIORIDAD_TELEFONO']]\n",
    "    return df"
   ]
  },
  {
   "cell_type": "code",
   "execution_count": 145,
   "metadata": {},
   "outputs": [],
   "source": [
    "def consolidar_archivos(agencia_path: str, archivos: list) -> pd.DataFrame:\n",
    "    dataframes = []\n",
    "    for archivo in archivos:\n",
    "        ruta_completa = os.path.join(agencia_path, archivo)\n",
    "        if archivo.endswith('.txt'):\n",
    "            df = pd.read_csv(\n",
    "                ruta_completa, \n",
    "                sep='|', \n",
    "                dtype={'CONTRATO': str, 'COD_CENTRAL': str, 'NRO_DOC': str}, \n",
    "                encoding='UTF-8-SIG'\n",
    "                )\n",
    "        else:\n",
    "            df = pd.read_excel(\n",
    "                ruta_completa, \n",
    "                dtype={'CONTRATO': str, 'COD_CENTRAL': str, 'NRO_DOC': str}\n",
    "                )\n",
    "        \n",
    "        df.columns = clean_columns(df.columns)\n",
    "        print(df.columns)\n",
    "        dataframes.append(df)\n",
    "        print(f'{archivo} leído correctamente')\n",
    "    \n",
    "    df_consolidado = pd.concat(dataframes, ignore_index=True)\n",
    "    df_consolidado = clean_dataframe(df_consolidado)\n",
    "    \n",
    "    df_consolidado.to_csv(\n",
    "        os.path.join(agencia_path, f'CONSOLIDADO_GESTIONES_{agencia_path.split(\"/\")[-1]}.txt'), \n",
    "        index=False, \n",
    "        sep='|',\n",
    "    )\n",
    "    return df_consolidado"
   ]
  },
  {
   "cell_type": "code",
   "execution_count": null,
   "metadata": {},
   "outputs": [],
   "source": [
    "root = tk.Tk()\n",
    "root.attributes('-topmost', True)\n",
    "root.withdraw()\n",
    "\n",
    "result = messagebox.askquestion('Confirmación', '¿Consolidar archivos de gestiones?', icon='warning')\n",
    "\n",
    "if result == 'yes':\n",
    "    dataframes = {}\n",
    "    archivos = {\n",
    "        #'RJ': (rj_path, rj_archivos),\n",
    "        #'CLASA': (clasa_path, clasa_archivos),\n",
    "        'MORNESE': (mornese_path, mornese_archivos)\n",
    "    }\n",
    "    \n",
    "    for key, (path, file_list) in archivos.items():\n",
    "        if file_list:\n",
    "            dataframes[key] = consolidar_archivos(path, file_list)\n",
    "            print(f'Consolidado {key}:', dataframes[key].shape)\n",
    "        else:\n",
    "            print(f'No hay archivos para consolidar en {key}.')\n",
    "\n",
    "root.destroy()"
   ]
  },
  {
   "cell_type": "code",
   "execution_count": null,
   "metadata": {},
   "outputs": [],
   "source": [
    "root = tk.Tk()\n",
    "root.attributes('-topmost', True)\n",
    "root.withdraw()\n",
    "\n",
    "result = messagebox.askquestion('Confirmación', '¿Leer consolidados?', icon='warning')\n",
    "\n",
    "if result == 'yes':\n",
    "    dataframes = {}\n",
    "    archivos = {\n",
    "        #'RJ': f'{rj_path}/CONSOLIDADO_GESTIONES_RJ.txt',\n",
    "        #'CLASA': f'{clasa_path}/CONSOLIDADO_GESTIONES_CLASA.txt',\n",
    "        'MORNESE': f'{mornese_path}/CONSOLIDADO_GESTIONES_MORNESE.txt'\n",
    "    }\n",
    "    \n",
    "    for key, file_path in archivos.items():\n",
    "        if os.path.exists(file_path):\n",
    "            dataframes[key] = pd.read_csv(\n",
    "                file_path, \n",
    "                sep='|', \n",
    "                dtype={'CONTRATO': str, 'COD_CENTRAL': str, 'NRO_DOC': str}, \n",
    "                encoding='UTF-8-SIG'\n",
    "                )\n",
    "            print(f'Consolidado {key} leído:', dataframes[key].shape)\n",
    "        else:\n",
    "            print(f'El archivo CONSOLIDADO_GESTIONES_{key}.csv no existe.')\n",
    "\n",
    "root.destroy()"
   ]
  },
  {
   "cell_type": "code",
   "execution_count": null,
   "metadata": {},
   "outputs": [],
   "source": [
    "def sort_columns(df: pd.DataFrame) -> pd.DataFrame:\n",
    "    cols = ['AGENCIA', 'COD_CENTRAL', 'CONTRATO', 'PERIODO', 'DIA', 'MARCA', 'TRAMO', 'TIPO_CONTACTO', 'PRIORIDAD_TELEFONO', \n",
    "            'TIPO_MARCADOR', 'INTENSIDAD_TOTAL', 'INTENSIDAD_DIRECTA', 'CONTACTO_DIRECTO', 'PDP']\n",
    "    return df[cols]\n",
    "\n",
    "df_test: pd.DataFrame = dataframes['MORNESE'].copy()\n",
    "df_test['TRAMO'] = df_test['TRAMO'].fillna('NULL')\n",
    "\n",
    "print(df_test.columns)\n",
    "print(df_test.shape)\n",
    "df_test.head(5)"
   ]
  },
  {
   "cell_type": "code",
   "execution_count": null,
   "metadata": {},
   "outputs": [],
   "source": [
    "df_test['PERIODO'] = pd.to_datetime(df_test['FECHA_LLAMADA']).dt.strftime('%Y%m').astype(str)\n",
    "\n",
    "fechas_unicas = df_test[['PERIODO', 'FECHA_LLAMADA']].drop_duplicates().sort_values(by='FECHA_LLAMADA')\n",
    "orden_fechas = fechas_unicas.groupby('PERIODO').cumcount() + 1\n",
    "fechas_unicas['DIA'] = orden_fechas\n",
    "df_test = df_test.merge(fechas_unicas[['PERIODO', 'FECHA_LLAMADA', 'DIA']], on=['PERIODO', 'FECHA_LLAMADA'], how='left')\n",
    "df_test.drop(columns={'FECHA_LLAMADA'}, inplace=True)\n",
    "\n",
    "df_test['INTENSIDAD_TOTAL'] = 1\n",
    "df_test['INTENSIDAD_DIRECTA'] = np.where(df_test['TIPO_CONTACTO'] == 'CONTACTO DIRECTO', 1, 0)\n",
    "df_test['CONTACTO_DIRECTO'] = np.where(df_test['INTENSIDAD_DIRECTA'] != 0, 1, 0)\n",
    "df_test['PRIORIDAD_TELEFONO'] = df_test['PRIORIDAD_TELEFONO'].replace('+', 'NULL', regex=False)\n",
    "\n",
    "df_test.sort_values(by=['AGENCIA', 'PERIODO', 'DIA', 'MARCA', 'TRAMO', 'PRIORIDAD_TELEFONO', 'TIPO_MARCADOR'], inplace=True)\n",
    "df_test.reset_index(drop=True, inplace=True)\n",
    "\n",
    "#df_test = df_test[df_test['PERIODO'] == '202411']\n",
    "#df_test = df_test[df_test['DIA'] <= 5]\n",
    "\n",
    "df_test = sort_columns(df_test)\n",
    "df_test"
   ]
  },
  {
   "cell_type": "code",
   "execution_count": null,
   "metadata": {},
   "outputs": [],
   "source": [
    "df_test['PRIORIDAD_TELEFONO'].value_counts(dropna=False)"
   ]
  },
  {
   "cell_type": "code",
   "execution_count": 151,
   "metadata": {},
   "outputs": [],
   "source": [
    "fecha_actual = datetime.now()\n",
    "\n",
    "def obtener_fecha_texto(fecha):\n",
    "    mes = fecha.month\n",
    "    año = fecha.year\n",
    "    mes_nombre = calendar.month_abbr[mes].upper()[:3]  # ENE\n",
    "    mes_año = f\"{mes_nombre}{str(año)[2:]}\"  # ENE24\n",
    "    fecha_formato = f\"{año}{str(mes).zfill(2)}\"  # 202401\n",
    "    return fecha_formato, mes_año\n",
    "\n",
    "fecha_1, fecha_texto_1 = obtener_fecha_texto(fecha_actual)\n",
    "\n",
    "fecha_un_mes_atras = fecha_actual - pd.DateOffset(months=1)\n",
    "fecha_2, fecha_texto_2 = obtener_fecha_texto(fecha_un_mes_atras)\n",
    "\n",
    "fecha_dos_meses_atras = fecha_actual - pd.DateOffset(months=2)\n",
    "fecha_3, fecha_texto_3 = obtener_fecha_texto(fecha_dos_meses_atras)"
   ]
  },
  {
   "cell_type": "code",
   "execution_count": null,
   "metadata": {},
   "outputs": [],
   "source": [
    "df_asignacion_1 = pd.read_excel(f'bases/asignacion/{fecha_1}/base_asignacion_gestiones_{fecha_texto_1}.xlsx', sheet_name='BASE', dtype={'CONTRATO': str, 'CC': str})\n",
    "df_asignacion_2 = pd.read_excel(f'bases/asignacion/{fecha_2}/base_asignacion_gestiones_{fecha_texto_2}.xlsx', sheet_name='BASE', dtype={'CONTRATO': str, 'CC': str})\n",
    "df_asignacion_3 = pd.read_excel(f'bases/asignacion/{fecha_3}/base_asignacion_gestiones_{fecha_texto_3}.xlsx', sheet_name='BASE', dtype={'CONTRATO': str, 'CC': str})\n",
    "\n",
    "print(df_asignacion_1.shape)\n",
    "print(df_asignacion_2.shape)\n",
    "print(df_asignacion_3.shape)"
   ]
  },
  {
   "cell_type": "code",
   "execution_count": null,
   "metadata": {},
   "outputs": [],
   "source": [
    "df_asignacion_mornese_1 = df_asignacion_1[df_asignacion_1['AGENCIA'] == 'MORNESE MORA']\n",
    "print(df_asignacion_mornese_1.shape)\n",
    "\n",
    "df_asignacion_mornese_2 = df_asignacion_2[df_asignacion_2['AGENCIA'] == 'MORNESE MORA']\n",
    "print(df_asignacion_mornese_2.shape)\n",
    "\n",
    "df_asignacion_mornese_3 = df_asignacion_3[df_asignacion_3['AGENCIA'] == 'MORNESE MORA']\n",
    "print(df_asignacion_mornese_3.shape)"
   ]
  },
  {
   "cell_type": "code",
   "execution_count": 169,
   "metadata": {},
   "outputs": [],
   "source": [
    "df_asignacion_mornese_1.rename(columns={\n",
    "    'CC': 'COD_CENTRAL', \n",
    "    'CARTERA': 'MARCA', \n",
    "}, inplace=True)\n",
    "\n",
    "df_asignacion_mornese_2.rename(columns={\n",
    "    'CC': 'COD_CENTRAL', \n",
    "    'CARTERA': 'MARCA', \n",
    "}, inplace=True)\n",
    "\n",
    "df_asignacion_mornese_3.rename(columns={\n",
    "    'CC': 'COD_CENTRAL', \n",
    "    'CARTERA': 'MARCA', \n",
    "}, inplace=True)\n",
    "\n",
    "df_asignacion_mornese_1 = df_asignacion_mornese_1[['COD_CENTRAL', 'CONTRATO', 'MARCA']]\n",
    "df_asignacion_mornese_2 = df_asignacion_mornese_2[['COD_CENTRAL', 'CONTRATO', 'MARCA']]\n",
    "df_asignacion_mornese_3 = df_asignacion_mornese_3[['COD_CENTRAL', 'CONTRATO', 'MARCA']]"
   ]
  },
  {
   "cell_type": "code",
   "execution_count": null,
   "metadata": {},
   "outputs": [],
   "source": [
    "df_test"
   ]
  },
  {
   "cell_type": "code",
   "execution_count": 172,
   "metadata": {},
   "outputs": [],
   "source": [
    "df_test_202412 = df_test[df_test['PERIODO'] == '202412']\n",
    "df_test_202411 = df_test[df_test['PERIODO'] == '202411']\n",
    "df_test_202410 = df_test[df_test['PERIODO'] == '202410']"
   ]
  },
  {
   "cell_type": "code",
   "execution_count": null,
   "metadata": {},
   "outputs": [],
   "source": []
  },
  {
   "cell_type": "code",
   "execution_count": 173,
   "metadata": {},
   "outputs": [],
   "source": [
    "def cruzar_y_agregar(df_test_periodo, df_asignacion, periodo):\n",
    "    df_cruce = pd.merge(df_test_periodo, df_asignacion, on=['COD_CENTRAL', 'CONTRATO', 'MARCA'], how='outer', indicator=True)\n",
    "    \n",
    "    df_faltantes = df_cruce[df_cruce['_merge'] == 'right_only'].drop(columns=['_merge'])\n",
    "    \n",
    "    df_faltantes['AGENCIA'] = 'MORNESE'\n",
    "    df_faltantes['PERIODO'] = periodo\n",
    "    df_faltantes['DIA'] = 'NULL'\n",
    "    df_faltantes['MARCA'] = df_faltantes['MARCA'].fillna('NULL')\n",
    "    df_faltantes['TRAMO'] = df_faltantes['TRAMO'].fillna('NULL')\n",
    "    df_faltantes['TIPO_CONTACTO'] = df_faltantes['TIPO_CONTACTO'].fillna('SIN GESTION')\n",
    "    df_faltantes['PDP'] = df_faltantes['PDP'].fillna(0)\n",
    "    df_faltantes['TIPO_MARCADOR'] = df_faltantes['TIPO_MARCADOR'].fillna('SIN GESTION')\n",
    "    df_faltantes['PRIORIDAD_TELEFONO'] = df_faltantes['PRIORIDAD_TELEFONO'].fillna('NULL')\n",
    "    \n",
    "    df_faltantes['INTENSIDAD_TOTAL'] = np.where(df_faltantes['INTENSIDAD_TOTAL'] == 1, 1, 0)\n",
    "    df_faltantes['INTENSIDAD_DIRECTA'] = np.where(df_faltantes['TIPO_CONTACTO'] == 'CONTACTO DIRECTO', 1, 0)\n",
    "    df_faltantes['CONTACTO_DIRECTO'] = np.where(df_faltantes['INTENSIDAD_DIRECTA'] != 0, 1, 0)\n",
    "    \n",
    "    df_resultado = pd.concat([df_test_periodo, df_faltantes], ignore_index=True)\n",
    "    \n",
    "    return df_resultado"
   ]
  },
  {
   "cell_type": "code",
   "execution_count": 174,
   "metadata": {},
   "outputs": [],
   "source": [
    "df_resultado_202412 = cruzar_y_agregar(df_test_202412, df_asignacion_mornese_1, '202412')\n",
    "df_resultado_202411 = cruzar_y_agregar(df_test_202411, df_asignacion_mornese_2, '202411')\n",
    "df_resultado_202410 = cruzar_y_agregar(df_test_202410, df_asignacion_mornese_3, '202410')"
   ]
  },
  {
   "cell_type": "code",
   "execution_count": null,
   "metadata": {},
   "outputs": [],
   "source": [
    "df_resultado_final = pd.concat([df_resultado_202412, df_resultado_202411, df_resultado_202410], ignore_index=True)\n",
    "\n",
    "df_resultado_final.sort_values(by=['AGENCIA', 'PERIODO', 'DIA', 'MARCA', 'TRAMO', 'PRIORIDAD_TELEFONO', 'TIPO_MARCADOR'], inplace=True)\n",
    "df_resultado_final.reset_index(drop=True, inplace=True)"
   ]
  },
  {
   "cell_type": "code",
   "execution_count": 684,
   "metadata": {},
   "outputs": [],
   "source": [
    "df_cruce = df_asignacion_mornese_1.merge(df_test, on='CONTRATO', how='left')\n",
    "\n",
    "df_cruce.drop(columns={\n",
    "    'AGENCIA_CLASA',\n",
    "    'COD_CENTRAL_CLASA', \n",
    "    'MARCA_CLASA', \n",
    "}, inplace=True)\n",
    "\n",
    "df_cruce['TIPO_CONTACTO'] = df_cruce['TIPO_CONTACTO'].fillna('SIN GESTION')\n",
    "df_cruce['TRAMO'] = df_cruce['TRAMO'].fillna('NULL')\n",
    "df_cruce['PDP'] = df_cruce['PDP'].fillna(0)\n",
    "df_cruce['TIPO_MARCADOR'] = df_cruce['TIPO_MARCADOR'].fillna('SIN GESTION')\n",
    "df_cruce['PRIORIDAD_TELEFONO'] = df_cruce['PRIORIDAD_TELEFONO'].fillna('NULL')\n",
    "df_cruce['PERIODO'] = '202411'\n",
    "df_cruce['DIA'] = df_cruce['DIA'].fillna('NULL')"
   ]
  },
  {
   "cell_type": "code",
   "execution_count": null,
   "metadata": {},
   "outputs": [],
   "source": [
    "df_cruce['INTENSIDAD_TOTAL'] = np.where(df_cruce['INTENSIDAD_TOTAL'] == 1, 1, 0)\n",
    "df_cruce['INTENSIDAD_DIRECTA'] = np.where(df_cruce['TIPO_CONTACTO'] == 'CONTACTO DIRECTO', 1, 0)\n",
    "df_cruce['CONTACTO_DIRECTO'] = np.where(df_cruce['INTENSIDAD_DIRECTA'] != 0, 1, 0)\n",
    "\n",
    "df_cruce.sort_values(by=['AGENCIA', 'PERIODO', 'DIA', 'MARCA', 'TRAMO', 'PRIORIDAD_TELEFONO', 'TIPO_MARCADOR'], inplace=True)\n",
    "df_cruce.reset_index(drop=True, inplace=True)\n",
    "df_cruce"
   ]
  },
  {
   "cell_type": "code",
   "execution_count": null,
   "metadata": {},
   "outputs": [],
   "source": [
    "df_test_5_dias = df_test[(df_test['DIA']<=5) & (df_test['PERIODO']=='202411')]\n",
    "df_test_5_dias.shape"
   ]
  },
  {
   "cell_type": "code",
   "execution_count": 72,
   "metadata": {},
   "outputs": [],
   "source": [
    "df_test_5_dias.to_excel('bases/gestiones/CLASA/CONSOLIDADO_5_DIAS_CLASA.xlsx')"
   ]
  },
  {
   "cell_type": "code",
   "execution_count": null,
   "metadata": {},
   "outputs": [],
   "source": [
    "dias_unicos = sorted(df_test['DIA'].unique())\n",
    "dias_unicos"
   ]
  },
  {
   "cell_type": "code",
   "execution_count": null,
   "metadata": {},
   "outputs": [],
   "source": [
    "df_test_groupped_1 = pd.DataFrame()\n",
    "\n",
    "for dia in dias_unicos:\n",
    "    df_acumulado = df_test[df_test['DIA'] <= dia]\n",
    "    print('Dia acumulado:', dia, df_acumulado.shape, df_acumulado['DIA'].unique())\n",
    "    \n",
    "    df_grouped = df_acumulado.groupby(['AGENCIA', 'PERIODO', 'COD_CENTRAL', 'CONTRATO', 'MARCA', 'TRAMO', 'PRIORIDAD_TELEFONO', 'TIPO_MARCADOR']).agg({\n",
    "        'INTENSIDAD_TOTAL': 'sum', \n",
    "        'INTENSIDAD_DIRECTA': 'sum', \n",
    "        'CONTACTO_DIRECTO': 'max', \n",
    "        'PDP': 'max'\n",
    "    }).reset_index()\n",
    "    \n",
    "    df_grouped['TASA_CIERRE'] = np.where(\n",
    "        (df_grouped['INTENSIDAD_DIRECTA'] > 0) & (df_grouped['PDP'] == 1), \n",
    "        1, \n",
    "        np.where(\n",
    "            (df_grouped['INTENSIDAD_DIRECTA'] > 0) & (df_grouped['PDP'] == 0), \n",
    "            0, \n",
    "            np.nan\n",
    "            )\n",
    "        )\n",
    "    df_grouped['TASA_CIERRE'] = df_grouped['TASA_CIERRE'].apply(lambda x: int(x) if pd.notna(x) else x)\n",
    "    \n",
    "    df_grouped['DIA'] = dia\n",
    "    \n",
    "    df_test_groupped_1 = pd.concat([df_test_groupped_1, df_grouped])\n",
    "\n",
    "df_test_groupped_1.sort_values(by=['AGENCIA', 'PERIODO', 'DIA', 'MARCA', 'TRAMO', 'PRIORIDAD_TELEFONO', 'TIPO_MARCADOR'], inplace=True)\n",
    "df_test_groupped_1.reset_index(drop=True, inplace=True)"
   ]
  },
  {
   "cell_type": "code",
   "execution_count": null,
   "metadata": {},
   "outputs": [],
   "source": [
    "def sort_columns(df: pd.DataFrame) -> pd.DataFrame:\n",
    "    cols = ['AGENCIA', 'PERIODO', 'DIA', 'COD_CENTRAL', 'CONTRATO', 'MARCA', 'TRAMO', 'PRIORIDAD_TELEFONO', 'TIPO_MARCADOR', 'INTENSIDAD_TOTAL', 'INTENSIDAD_DIRECTA', 'CONTACTO_DIRECTO', 'TASA_CIERRE']\n",
    "    return df[cols]\n",
    "\n",
    "df_test_groupped_1 = sort_columns(df_test_groupped_1)\n",
    "df_test_groupped_1"
   ]
  },
  {
   "cell_type": "code",
   "execution_count": null,
   "metadata": {},
   "outputs": [],
   "source": [
    "df_test_groupped_1 = df_test_groupped_1[(df_test_groupped_1['PERIODO']=='202411') & (df_test_groupped_1['DIA']<=5)]\n",
    "df_test_groupped_1.shape"
   ]
  },
  {
   "cell_type": "code",
   "execution_count": 52,
   "metadata": {},
   "outputs": [],
   "source": [
    "path_1 = os.path.abspath('bases/gestiones/CLASA/PRIMERA_AGRUPACION_5_DIAS.xlsx')\n",
    "df_test_groupped_1.to_excel(path_1, index=False)\n",
    "os.startfile(path_1)"
   ]
  },
  {
   "cell_type": "code",
   "execution_count": null,
   "metadata": {},
   "outputs": [],
   "source": [
    "df_test.isnull().sum()"
   ]
  },
  {
   "cell_type": "code",
   "execution_count": null,
   "metadata": {},
   "outputs": [],
   "source": [
    "df_test['DIA'].value_counts(dropna=False).sort_index()"
   ]
  },
  {
   "cell_type": "code",
   "execution_count": 84,
   "metadata": {},
   "outputs": [],
   "source": [
    "def sort_columns(df: pd.DataFrame) -> pd.DataFrame:\n",
    "    cols = ['AGENCIA', 'PERIODO', 'DIA', 'MARCA', 'TRAMO', 'PRIORIDAD_TELEFONO', 'TIPO_MARCADOR', 'INTENSIDAD_TOTAL', 'INTENSIDAD_DIRECTA', 'CONTACTO_DIRECTO', 'TASA_CIERRE']\n",
    "    return df[cols]"
   ]
  },
  {
   "cell_type": "code",
   "execution_count": null,
   "metadata": {},
   "outputs": [],
   "source": [
    "dias_unicos = sorted(df_test['DIA'].unique())\n",
    "dias_unicos"
   ]
  },
  {
   "cell_type": "code",
   "execution_count": null,
   "metadata": {},
   "outputs": [],
   "source": [
    "df_test_groupped_2 = pd.DataFrame()\n",
    "\n",
    "for dia in dias_unicos:\n",
    "    df_acumulado = df_test[df_test['DIA'] <= dia]\n",
    "    print('Dia acumulado:', dia, df_acumulado.shape, df_acumulado['DIA'].unique())\n",
    "    \n",
    "    df_grouped = df_acumulado.groupby(['AGENCIA', 'PERIODO', 'COD_CENTRAL', 'CONTRATO', 'MARCA', 'TRAMO', 'PRIORIDAD_TELEFONO', 'TIPO_MARCADOR']).agg({\n",
    "        'INTENSIDAD_TOTAL': 'sum', \n",
    "        'INTENSIDAD_DIRECTA': 'sum', \n",
    "        'CONTACTO_DIRECTO': 'max', \n",
    "        'PDP': 'max'\n",
    "    }).reset_index()\n",
    "    \n",
    "    df_grouped['TASA_CIERRE'] = np.where(\n",
    "        (df_grouped['INTENSIDAD_DIRECTA'] > 0) & (df_grouped['PDP'] == 1), \n",
    "        1, \n",
    "        np.where(\n",
    "            (df_grouped['INTENSIDAD_DIRECTA'] > 0) & (df_grouped['PDP'] == 0), \n",
    "            0, \n",
    "            np.nan\n",
    "            )\n",
    "        )\n",
    "    df_grouped['TASA_CIERRE'] = df_grouped['TASA_CIERRE'].apply(lambda x: int(x) if pd.notna(x) else x)\n",
    "    \n",
    "    df_grouped = df_grouped.groupby(['AGENCIA', 'PERIODO', 'MARCA', 'TRAMO', 'TIPO_MARCADOR', 'PRIORIDAD_TELEFONO']).agg({\n",
    "        'INTENSIDAD_TOTAL': 'mean', \n",
    "        'INTENSIDAD_DIRECTA': lambda x: x[x != 0].mean(), \n",
    "        'CONTACTO_DIRECTO': lambda x: x.mean(skipna=True), \n",
    "        'TASA_CIERRE': lambda x: x.mean(skipna=True), \n",
    "    }).reset_index()\n",
    "    \n",
    "    df_grouped['INTENSIDAD_TOTAL'] = df_grouped['INTENSIDAD_TOTAL'].round(2)\n",
    "    df_grouped['INTENSIDAD_DIRECTA'] = df_grouped['INTENSIDAD_DIRECTA'].round(2)\n",
    "    df_grouped['CONTACTO_DIRECTO'] = df_grouped['CONTACTO_DIRECTO'].round(2)\n",
    "    df_grouped['TASA_CIERRE'] = df_grouped['TASA_CIERRE'].round(2)\n",
    "    df_grouped['DIA'] = dia\n",
    "    \n",
    "    df_test_groupped_2 = pd.concat([df_test_groupped_2, df_grouped])\n",
    "\n",
    "df_test_groupped_2.sort_values(by=['AGENCIA', 'PERIODO', 'DIA', 'MARCA', 'TRAMO', 'PRIORIDAD_TELEFONO', 'TIPO_MARCADOR'], inplace=True)\n",
    "df_test_groupped_2.reset_index(drop=True, inplace=True)\n",
    "df_test_groupped_2.shape"
   ]
  },
  {
   "cell_type": "code",
   "execution_count": null,
   "metadata": {},
   "outputs": [],
   "source": [
    "df_test_groupped_2 = sort_columns(df_test_groupped_2)\n",
    "df_test_groupped_2"
   ]
  },
  {
   "cell_type": "code",
   "execution_count": null,
   "metadata": {},
   "outputs": [],
   "source": [
    "df_test_groupped_2['INTENSIDAD_TOTAL'].sum()"
   ]
  },
  {
   "cell_type": "code",
   "execution_count": null,
   "metadata": {},
   "outputs": [],
   "source": [
    "df_test_groupped_2.isnull().sum()"
   ]
  },
  {
   "cell_type": "code",
   "execution_count": 88,
   "metadata": {},
   "outputs": [],
   "source": [
    "df_test_groupped_2.fillna(0, inplace=True)"
   ]
  },
  {
   "cell_type": "code",
   "execution_count": null,
   "metadata": {},
   "outputs": [],
   "source": [
    "df_test_groupped_2.isnull().sum()"
   ]
  },
  {
   "cell_type": "code",
   "execution_count": null,
   "metadata": {},
   "outputs": [],
   "source": [
    "df_test_groupped_2['DIA'].value_counts(dropna=False).sort_index()"
   ]
  },
  {
   "cell_type": "code",
   "execution_count": 64,
   "metadata": {},
   "outputs": [],
   "source": [
    "path_2 = os.path.abspath('bases/gestiones/CLASA/SEGUNDA_AGRUPACION.xlsx')\n",
    "df_test_groupped_2.to_excel(path_2, index=False)\n",
    "os.startfile(path_2)"
   ]
  }
 ],
 "metadata": {
  "kernelspec": {
   "display_name": "Python 3",
   "language": "python",
   "name": "python3"
  },
  "language_info": {
   "codemirror_mode": {
    "name": "ipython",
    "version": 3
   },
   "file_extension": ".py",
   "mimetype": "text/x-python",
   "name": "python",
   "nbconvert_exporter": "python",
   "pygments_lexer": "ipython3",
   "version": "3.12.4"
  }
 },
 "nbformat": 4,
 "nbformat_minor": 2
}
