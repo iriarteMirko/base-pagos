{
 "cells": [
  {
   "cell_type": "code",
   "execution_count": null,
   "metadata": {},
   "outputs": [],
   "source": [
    "import pandas as pd\n",
    "import tkinter as tk\n",
    "import warnings\n",
    "import os\n",
    "from tkinter import messagebox\n",
    "from datetime import datetime\n",
    "from unidecode import unidecode\n",
    "import calendar\n",
    "\n",
    "warnings.filterwarnings('ignore')\n",
    "\n",
    "rj_path = 'bases/gestiones/RJ'\n",
    "clasa_path = 'bases/gestiones/CLASA'\n",
    "mornese_path = 'bases/gestiones/MORNESE'\n",
    "\n",
    "rj_archivos = [file for file in os.listdir(rj_path) if file.startswith('RJ_REPORTE_CORTES_BBVA_') and file.endswith('.xlsx')]\n",
    "clasa_archivos = [file for file in os.listdir(clasa_path) if file.startswith('CLASA_REPORTE_CORTES_BBVA_') and file.endswith('.xlsx')]\n",
    "mornese_archivos = [file for file in os.listdir(mornese_path) if file.startswith('MORNESE_REPORTE_CORTES_BBVA_') and file.endswith('.xlsx')]"
   ]
  },
  {
   "cell_type": "code",
   "execution_count": null,
   "metadata": {},
   "outputs": [],
   "source": [
    "def clean_columns(columns_list: list[str]) -> list[str]:\n",
    "    return [column.strip().replace('.', '').replace(' ', '_').upper() for column in columns_list]"
   ]
  },
  {
   "cell_type": "code",
   "execution_count": null,
   "metadata": {},
   "outputs": [],
   "source": [
    "def consolidar_archivos(agencia_path: str, archivos: list) -> pd.DataFrame:\n",
    "    dataframes = []\n",
    "    for archivo in archivos:\n",
    "        df = pd.read_excel(os.path.join(agencia_path, archivo), dtype={'CONTRATO': str, 'COD_CENTRAL': str, 'NRO_DOC': str})\n",
    "        df.columns = clean_columns(df.columns)\n",
    "        dataframes.append(df)\n",
    "    \n",
    "    df_consolidado = pd.concat(dataframes, ignore_index=True)\n",
    "    df_consolidado.to_excel(os.path.join(agencia_path, f'CONSOLIDADO_GESTIONES_{agencia_path.split('/')[-1]}.xlsx'), index = False)\n",
    "    return df_consolidado"
   ]
  },
  {
   "cell_type": "code",
   "execution_count": null,
   "metadata": {},
   "outputs": [],
   "source": [
    "import tkinter as tk\n",
    "from tkinter import messagebox\n",
    "\n",
    "root = tk.Tk()\n",
    "root.attributes('-topmost', True)\n",
    "root.withdraw()\n",
    "\n",
    "result = messagebox.askquestion('Confirmación', '¿Consolidar archivos de gestiones?', icon='warning')\n",
    "if result == 'yes':\n",
    "    archivos = {\n",
    "        'RJ': (rj_path, rj_archivos),\n",
    "        'CLASA': (clasa_path, clasa_archivos),\n",
    "        'MORNESE': (mornese_path, mornese_archivos)\n",
    "    }\n",
    "    \n",
    "    dataframes = {}\n",
    "    \n",
    "    for key, (path, file_list) in archivos.items():\n",
    "        if file_list:\n",
    "            dataframes[key] = consolidar_archivos(path, file_list)\n",
    "            print(f'Consolidado {key}:', dataframes[key].shape)\n",
    "        else:\n",
    "            print(f'No hay archivos para consolidar en {key}.')\n",
    "\n",
    "root.destroy()"
   ]
  },
  {
   "cell_type": "code",
   "execution_count": null,
   "metadata": {},
   "outputs": [],
   "source": [
    "root = tk.Tk()\n",
    "root.attributes('-topmost', True)\n",
    "root.withdraw()\n",
    "\n",
    "result = messagebox.askquestion('Confirmación', '¿Leer consolidados?', icon='warning')\n",
    "if result == 'yes':\n",
    "    archivos = {\n",
    "        'RJ': f'{rj_path}/CONSOLIDADO_GESTIONES_RJ.xlsx',\n",
    "        'CLASA': f'{clasa_path}/CONSOLIDADO_GESTIONES_CLASA.xlsx',\n",
    "        'MORNESE': f'{mornese_path}/CONSOLIDADO_GESTIONES_MORNESE.xlsx'\n",
    "    }\n",
    "    \n",
    "    dataframes = {}\n",
    "    \n",
    "    for key, file_path in archivos.items():\n",
    "        if os.path.exists(file_path):\n",
    "            dataframes[key] = pd.read_excel(file_path, dtype={'CONTRATO': str, 'COD_CENTRAL': str, 'NRO_DOC': str})\n",
    "            print(f'Consolidado {key} leído:', dataframes[key].shape)\n",
    "        else:\n",
    "            print(f'El archivo CONSOLIDADO_GESTIONES_{key}.xlsx no existe.')\n",
    "\n",
    "root.destroy()"
   ]
  },
  {
   "cell_type": "code",
   "execution_count": null,
   "metadata": {},
   "outputs": [],
   "source": [
    "df_rj_test: pd.DataFrame = dataframes['RJ'].copy()\n",
    "df_clasa_test: pd.DataFrame = dataframes['CLASA'].copy()\n",
    "df_mornese_test: pd.DataFrame = dataframes['MORNESE'].copy()\n",
    "\n",
    "df_rj_test['AGENCIA'].replace({'ASESCOM RJ ABOGADOS': 'ASESCOM RJ'}, inplace=True)\n",
    "df_clasa_test.rename(columns={'TELEFNO': 'TELEFONO'}, inplace=True)\n",
    "df_clasa_test.rename(columns={'TIPO_DE_MARCACIÓN': 'TIPO_MARCADOR'}, inplace=True)\n",
    "df_mornese_test.rename(columns={'TIPO_DE_DISCADO': 'TIPO_MARCADOR'}, inplace=True)"
   ]
  },
  {
   "cell_type": "code",
   "execution_count": null,
   "metadata": {},
   "outputs": [],
   "source": [
    "valid_tramos = ['T1', 'T2', 'T3', 'T4']\n",
    "df_rj_test = df_rj_test[df_rj_test['TRAMO'].isin(valid_tramos)]"
   ]
  },
  {
   "cell_type": "code",
   "execution_count": null,
   "metadata": {},
   "outputs": [],
   "source": [
    "df_rj_test['TIPO_MARCADOR'].value_counts(dropna=False)"
   ]
  },
  {
   "cell_type": "code",
   "execution_count": null,
   "metadata": {},
   "outputs": [],
   "source": [
    "df_clasa_test['TRAMO'].replace({'<1 año': 'T1', \n",
    "                                '<2 años': 'T2', \n",
    "                                '<3 años': 'T3', \n",
    "                                }, inplace=True)"
   ]
  },
  {
   "cell_type": "code",
   "execution_count": null,
   "metadata": {},
   "outputs": [],
   "source": [
    "df_mornese_test['PRODUCTO'].replace({'PRSTAMOS CONSUMO': 'PRESTAMOS CONSUMO', \n",
    "                                    'PRSTAMOS PYMES': 'PRESTAMOS PYMES', \n",
    "                                    'PRSTAMOS COMERCIALES': 'PRESTAMOS COMERCIALES', \n",
    "                                    }, inplace=True)"
   ]
  },
  {
   "cell_type": "code",
   "execution_count": null,
   "metadata": {},
   "outputs": [],
   "source": [
    "df_clasa_test['PRODUCTO'].replace({'PRÉSTAMOS CONSUMO': 'PRESTAMOS CONSUMO', \n",
    "                                    'PRÉSTAMOS PYMES': 'PRESTAMOS PYMES', \n",
    "                                    'PRÉSTAMOS COMERCIALES': 'PRESTAMOS COMERCIALES', \n",
    "                                    'PRÉSTAMO VEHICULAR': 'PRESTAMO VEHICULAR',\n",
    "                                    }, inplace=True)"
   ]
  },
  {
   "cell_type": "code",
   "execution_count": null,
   "metadata": {},
   "outputs": [],
   "source": [
    "def resumir_consolidado(df: pd.DataFrame, agencia: str) -> pd.DataFrame:\n",
    "    df['AGENCIA'] = 'ASESCOM RJ' if agencia == 'RJ' else 'CLASA MORA' if agencia == 'CLASA' else 'MORNESE MORA'\n",
    "    df['HORA_INICIO_LLAMADA'] = pd.to_datetime(df['HORA_INICIO_LLAMADA']).dt.hour.astype('Int64').fillna(0)\n",
    "    df['ESTADO_LLAMADA'] = df['ESTADO_LLAMADA'].str.upper().str.strip().fillna('NULL')\n",
    "    df['ESTADO_LLAMADA'] = df['ESTADO_LLAMADA'].apply(unidecode)\n",
    "    df['MOTIVO_NO_PAGO'] = df['MOTIVO_NO_PAGO'].str.upper().str.strip().fillna('NULL')\n",
    "    df['MOTIVO_NO_PAGO'] = df['MOTIVO_NO_PAGO'].apply(unidecode)\n",
    "    df['TIPO_MARCADOR'] = df['TIPO_MARCADOR'].str.upper().replace(' ', '', regex=True).fillna('NULL')\n",
    "    df['MARCA'] = df['MARCA'].str.upper().replace(' ', '', regex=True)\n",
    "    df['PDP'] = df.apply(lambda x: 1 if pd.notna(x['FECHA_PDP']) else 0, axis=1)\n",
    "    df = df[[\n",
    "        'AGENCIA', 'FECHA_LLAMADA', 'HORA_INICIO_LLAMADA', 'ESTADO_LLAMADA', 'MARCA', 'PDP', 'TRAMO', 'PRODUCTO', 'TIPO_MARCADOR']]\n",
    "    df.to_excel(f'bases/gestiones/{agencia}/RESUMEN_GESTIONES_{agencia}.xlsx', index=False, sheet_name='BASE')\n",
    "    return df"
   ]
  },
  {
   "cell_type": "code",
   "execution_count": null,
   "metadata": {},
   "outputs": [],
   "source": [
    "df_rj_final = resumir_consolidado(df_rj_test, 'RJ')\n",
    "print(df_rj_final.shape)\n",
    "df_rj_final.head()"
   ]
  },
  {
   "cell_type": "code",
   "execution_count": null,
   "metadata": {},
   "outputs": [],
   "source": [
    "df_clasa_final = resumir_consolidado(df_clasa_test, 'CLASA')\n",
    "print(df_clasa_final.shape)\n",
    "df_clasa_final.head()"
   ]
  },
  {
   "cell_type": "code",
   "execution_count": null,
   "metadata": {},
   "outputs": [],
   "source": [
    "df_mornese_final = resumir_consolidado(df_mornese_test, 'MORNESE')\n",
    "print(df_mornese_final.shape)\n",
    "df_mornese_final.head()"
   ]
  }
 ],
 "metadata": {
  "kernelspec": {
   "display_name": "Python 3",
   "language": "python",
   "name": "python3"
  },
  "language_info": {
   "codemirror_mode": {
    "name": "ipython",
    "version": 3
   },
   "file_extension": ".py",
   "mimetype": "text/x-python",
   "name": "python",
   "nbconvert_exporter": "python",
   "pygments_lexer": "ipython3",
   "version": "3.12.4"
  }
 },
 "nbformat": 4,
 "nbformat_minor": 2
}
