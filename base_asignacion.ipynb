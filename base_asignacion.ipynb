{
 "cells": [
  {
   "cell_type": "code",
   "execution_count": 1,
   "metadata": {},
   "outputs": [],
   "source": [
    "import pandas as pd\n",
    "import warnings\n",
    "\n",
    "warnings.filterwarnings(\"ignore\")\n",
    "\n",
    "asignacion_path = 'bases/asignacion/base_asignacion_20240902_ TRABAJADA _ v2.xlsx'\n",
    "df_asignacion = pd.read_excel(asignacion_path)"
   ]
  },
  {
   "cell_type": "code",
   "execution_count": 2,
   "metadata": {},
   "outputs": [
    {
     "name": "stdout",
     "output_type": "stream",
     "text": [
      "(247387, 8)\n"
     ]
    },
    {
     "data": {
      "text/html": [
       "<div>\n",
       "<style scoped>\n",
       "    .dataframe tbody tr th:only-of-type {\n",
       "        vertical-align: middle;\n",
       "    }\n",
       "\n",
       "    .dataframe tbody tr th {\n",
       "        vertical-align: top;\n",
       "    }\n",
       "\n",
       "    .dataframe thead th {\n",
       "        text-align: right;\n",
       "    }\n",
       "</style>\n",
       "<table border=\"1\" class=\"dataframe\">\n",
       "  <thead>\n",
       "    <tr style=\"text-align: right;\">\n",
       "      <th></th>\n",
       "      <th>codigo</th>\n",
       "      <th>ID_FLAG</th>\n",
       "      <th>cont_18</th>\n",
       "      <th>nombre</th>\n",
       "      <th>TIPO_CARTERA</th>\n",
       "      <th>tipo_fondo</th>\n",
       "      <th>clave</th>\n",
       "      <th>AGENCIA CORRECTA</th>\n",
       "    </tr>\n",
       "  </thead>\n",
       "  <tbody>\n",
       "    <tr>\n",
       "      <th>0</th>\n",
       "      <td>00002569</td>\n",
       "      <td>1</td>\n",
       "      <td>001101075001274140</td>\n",
       "      <td>GLADYS MERELYN ABANTO GONZALES</td>\n",
       "      <td>UNSECURED</td>\n",
       "      <td>NaN</td>\n",
       "      <td>KSTBC</td>\n",
       "      <td>ASESCOM RJ</td>\n",
       "    </tr>\n",
       "    <tr>\n",
       "      <th>1</th>\n",
       "      <td>00014583</td>\n",
       "      <td>2</td>\n",
       "      <td>001101235001222660</td>\n",
       "      <td>ADMINISTRACION DE EMPRESAS LIBRERIA EDITORIAL SAC</td>\n",
       "      <td>UNSECURED</td>\n",
       "      <td>FAE</td>\n",
       "      <td>BC</td>\n",
       "      <td>SIN AGENCIA</td>\n",
       "    </tr>\n",
       "    <tr>\n",
       "      <th>2</th>\n",
       "      <td>00014583</td>\n",
       "      <td>2</td>\n",
       "      <td>001101235001218442</td>\n",
       "      <td>ADMINISTRACION DE EMPRESAS LIBRERIA EDITORIAL SAC</td>\n",
       "      <td>UNSECURED</td>\n",
       "      <td>FAE</td>\n",
       "      <td>BC</td>\n",
       "      <td>SIN AGENCIA</td>\n",
       "    </tr>\n",
       "    <tr>\n",
       "      <th>3</th>\n",
       "      <td>00016896</td>\n",
       "      <td>1</td>\n",
       "      <td>001101305001000046</td>\n",
       "      <td>PABLO AGARIE MIYASATO</td>\n",
       "      <td>UNSECURED</td>\n",
       "      <td>NaN</td>\n",
       "      <td>KSTBC</td>\n",
       "      <td>ASESCOM RJ</td>\n",
       "    </tr>\n",
       "    <tr>\n",
       "      <th>4</th>\n",
       "      <td>00017507</td>\n",
       "      <td>1</td>\n",
       "      <td>001108098100538643</td>\n",
       "      <td>AGENCIA DE ADUANA YVAPORES LABARTHE SA</td>\n",
       "      <td>SECURED</td>\n",
       "      <td>NaN</td>\n",
       "      <td>BC</td>\n",
       "      <td>SIN AGENCIA</td>\n",
       "    </tr>\n",
       "  </tbody>\n",
       "</table>\n",
       "</div>"
      ],
      "text/plain": [
       "     codigo  ID_FLAG             cont_18  \\\n",
       "0  00002569        1  001101075001274140   \n",
       "1  00014583        2  001101235001222660   \n",
       "2  00014583        2  001101235001218442   \n",
       "3  00016896        1  001101305001000046   \n",
       "4  00017507        1  001108098100538643   \n",
       "\n",
       "                                              nombre TIPO_CARTERA tipo_fondo  \\\n",
       "0                     GLADYS MERELYN ABANTO GONZALES    UNSECURED        NaN   \n",
       "1  ADMINISTRACION DE EMPRESAS LIBRERIA EDITORIAL SAC    UNSECURED        FAE   \n",
       "2  ADMINISTRACION DE EMPRESAS LIBRERIA EDITORIAL SAC    UNSECURED        FAE   \n",
       "3                              PABLO AGARIE MIYASATO    UNSECURED        NaN   \n",
       "4             AGENCIA DE ADUANA YVAPORES LABARTHE SA      SECURED        NaN   \n",
       "\n",
       "   clave AGENCIA CORRECTA  \n",
       "0  KSTBC       ASESCOM RJ  \n",
       "1     BC      SIN AGENCIA  \n",
       "2     BC      SIN AGENCIA  \n",
       "3  KSTBC       ASESCOM RJ  \n",
       "4     BC      SIN AGENCIA  "
      ]
     },
     "execution_count": 2,
     "metadata": {},
     "output_type": "execute_result"
    }
   ],
   "source": [
    "cols_asignacion = ['codigo', 'ID_FLAG', 'cont_18', 'nombre', 'TIPO_CARTERA', 'tipo_fondo', 'clave', 'AGENCIA CORRECTA']\n",
    "df_asignacion = df_asignacion[cols_asignacion]\n",
    "\n",
    "df_asignacion['cont_18'] = df_asignacion['cont_18'].apply(lambda x: str(int(x)).zfill(18) if pd.notna(x) else x)\n",
    "df_asignacion['codigo'] = df_asignacion['codigo'].astype('Int64').astype(str).str.zfill(8)\n",
    "\n",
    "df_asignacion['ID_FLAG'] = 0\n",
    "conteo_cc = df_asignacion['codigo'].value_counts()\n",
    "df_asignacion['ID_FLAG'] = df_asignacion['codigo'].map(conteo_cc)\n",
    "\n",
    "print(df_asignacion.shape)\n",
    "df_asignacion.head()"
   ]
  },
  {
   "cell_type": "code",
   "execution_count": 3,
   "metadata": {},
   "outputs": [],
   "source": [
    "df_asignacion.to_excel('bases/asignacion/base_asignacion.xlsx', index=False)"
   ]
  }
 ],
 "metadata": {
  "kernelspec": {
   "display_name": "Python 3",
   "language": "python",
   "name": "python3"
  },
  "language_info": {
   "codemirror_mode": {
    "name": "ipython",
    "version": 3
   },
   "file_extension": ".py",
   "mimetype": "text/x-python",
   "name": "python",
   "nbconvert_exporter": "python",
   "pygments_lexer": "ipython3",
   "version": "3.10.9"
  }
 },
 "nbformat": 4,
 "nbformat_minor": 2
}
