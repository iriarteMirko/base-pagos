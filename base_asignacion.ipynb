{
 "cells": [
  {
   "cell_type": "code",
   "execution_count": 2,
   "metadata": {},
   "outputs": [],
   "source": [
    "import pandas as pd\n",
    "import numpy as np\n",
    "import warnings\n",
    "from datetime import datetime\n",
    "\n",
    "warnings.filterwarnings(\"ignore\")\n",
    "\n",
    "hoy = datetime.now()\n",
    "año = hoy.year\n",
    "mes = hoy.month\n",
    "\n",
    "mes_nombre = hoy.strftime('%b').upper()[:3] # ENE\n",
    "mes_año = f\"{mes_nombre}{str(año)[2:]}\" # ENE24\n",
    "\n",
    "fecha = f\"{año}{str(mes).zfill(2)}\" # 202401\n",
    "\n",
    "nombre_base = f\"base_asignacion_20241004_ TRABAJADA.xlsx\"\n",
    "asignacion_path = f\"bases/asignacion/{fecha}/{nombre_base}\"\n",
    "asignacion_final_path = f\"bases/asignacion/{fecha}/base_asignacion_{mes_año}.xlsx\"\n",
    "\n",
    "df_asignacion = pd.read_excel(asignacion_path, sheet_name='BTOTAL')"
   ]
  },
  {
   "cell_type": "code",
   "execution_count": null,
   "metadata": {},
   "outputs": [],
   "source": [
    "df_asignacion_test = df_asignacion.copy()\n",
    "df_asignacion.shape"
   ]
  },
  {
   "cell_type": "code",
   "execution_count": null,
   "metadata": {},
   "outputs": [],
   "source": [
    "def clean_columns(columns_list: list[str]) -> list[str]:\n",
    "    return [column.strip().replace('  ', ' ').replace('  ', ' ').replace('.', '').replace(' ', '_').upper() for column in columns_list]\n",
    "\n",
    "df_asignacion_test.columns = clean_columns(df_asignacion_test.columns)\n",
    "\n",
    "if 'AGENCIA_CORRECTA' in df_asignacion_test.columns:\n",
    "    if 'AGENCIA' not in df_asignacion_test.columns:\n",
    "        df_asignacion_test.rename(columns={'AGENCIA_CORRECTA': 'AGENCIA'}, inplace=True)\n",
    "    else:\n",
    "        df_asignacion_test['AGENCIA'] = np.where(\n",
    "            df_asignacion_test['AGENCIA_CORRECTA'].notna() & (df_asignacion_test['AGENCIA_CORRECTA'].astype(str).str.len() >= 4),\n",
    "            df_asignacion_test['AGENCIA_CORRECTA'],\n",
    "            df_asignacion_test['AGENCIA']\n",
    "        )\n",
    "        df_asignacion_test.drop(columns=['AGENCIA_CORRECTA'], inplace=True)\n",
    "\n",
    "cols_asignacion = ['CODIGO', 'CONT_18', 'NOMBRE', 'TIPO_CARTERA', 'TIPO_FONDO', 'CLAVE', 'AGENCIA']\n",
    "df_asignacion_test = df_asignacion_test[cols_asignacion]\n",
    "\n",
    "df_asignacion_test['CONT_18'] = df_asignacion_test['CONT_18'].apply(lambda x: str(int(x)).zfill(18) if pd.notna(x) else x)\n",
    "df_asignacion_test['CODIGO'] = df_asignacion_test['CODIGO'].astype('Int64').astype(str).str.zfill(8)\n",
    "\n",
    "conteo_cc = df_asignacion_test['CODIGO'].value_counts()\n",
    "df_asignacion_test['FLAG'] = df_asignacion_test['CODIGO'].map(conteo_cc)\n",
    "\n",
    "print(df_asignacion_test.shape)\n",
    "df_asignacion_test.head()"
   ]
  },
  {
   "cell_type": "code",
   "execution_count": null,
   "metadata": {},
   "outputs": [],
   "source": [
    "df_asignacion_test['AGENCIA'].value_counts()"
   ]
  },
  {
   "cell_type": "code",
   "execution_count": 6,
   "metadata": {},
   "outputs": [],
   "source": [
    "df_asignacion_test.to_excel(asignacion_final_path, index=False)"
   ]
  }
 ],
 "metadata": {
  "kernelspec": {
   "display_name": "Python 3",
   "language": "python",
   "name": "python3"
  },
  "language_info": {
   "codemirror_mode": {
    "name": "ipython",
    "version": 3
   },
   "file_extension": ".py",
   "mimetype": "text/x-python",
   "name": "python",
   "nbconvert_exporter": "python",
   "pygments_lexer": "ipython3",
   "version": "3.10.9"
  }
 },
 "nbformat": 4,
 "nbformat_minor": 2
}
