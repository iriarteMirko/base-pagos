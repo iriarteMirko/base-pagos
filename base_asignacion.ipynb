{
 "cells": [
  {
   "cell_type": "code",
   "execution_count": 1,
   "metadata": {},
   "outputs": [],
   "source": [
    "import pandas as pd\n",
    "import warnings\n",
    "\n",
    "warnings.filterwarnings(\"ignore\")\n",
    "\n",
    "asignacion_path = 'bases/asignacion/base_asignacion_20240904_ TRABAJADA.xlsx'\n",
    "df_asignacion = pd.read_excel(asignacion_path)"
   ]
  },
  {
   "cell_type": "code",
   "execution_count": null,
   "metadata": {},
   "outputs": [],
   "source": [
    "df_asignacion.columns"
   ]
  },
  {
   "cell_type": "code",
   "execution_count": null,
   "metadata": {},
   "outputs": [],
   "source": [
    "cols_asignacion = ['codigo', 'ID_FLAG', 'cont_18', 'nombre', 'TIPO_CARTERA', 'tipo_fondo', 'clave', 'AGENCIA CORRECTA']\n",
    "df_asignacion = df_asignacion[cols_asignacion]\n",
    "\n",
    "df_asignacion['cont_18'] = df_asignacion['cont_18'].apply(lambda x: str(int(x)).zfill(18) if pd.notna(x) else x)\n",
    "df_asignacion['codigo'] = df_asignacion['codigo'].astype('Int64').astype(str).str.zfill(8)\n",
    "\n",
    "df_asignacion['ID_FLAG'] = 0\n",
    "conteo_cc = df_asignacion['codigo'].value_counts()\n",
    "df_asignacion['ID_FLAG'] = df_asignacion['codigo'].map(conteo_cc)\n",
    "\n",
    "print(df_asignacion.shape)\n",
    "df_asignacion.head()"
   ]
  },
  {
   "cell_type": "code",
   "execution_count": 4,
   "metadata": {},
   "outputs": [],
   "source": [
    "df_asignacion.to_excel('bases/asignacion/base_asignacion.xlsx', index=False)"
   ]
  }
 ],
 "metadata": {
  "kernelspec": {
   "display_name": "Python 3",
   "language": "python",
   "name": "python3"
  },
  "language_info": {
   "codemirror_mode": {
    "name": "ipython",
    "version": 3
   },
   "file_extension": ".py",
   "mimetype": "text/x-python",
   "name": "python",
   "nbconvert_exporter": "python",
   "pygments_lexer": "ipython3",
   "version": "3.10.9"
  }
 },
 "nbformat": 4,
 "nbformat_minor": 2
}
