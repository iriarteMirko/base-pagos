{
 "cells": [
  {
   "cell_type": "code",
   "execution_count": null,
   "metadata": {},
   "outputs": [],
   "source": [
    "import pandas as pd\n",
    "import numpy as np\n",
    "import warnings\n",
    "import tkinter as tk\n",
    "from tkinter import messagebox\n",
    "from datetime import datetime\n",
    "\n",
    "warnings.filterwarnings(\"ignore\")\n",
    "\n",
    "hoy = datetime.now()\n",
    "año = hoy.year\n",
    "mes = hoy.month\n",
    "\n",
    "mes_nombre = hoy.strftime('%b').upper()[:3] # ENE\n",
    "mes_año = f\"{mes_nombre}{str(año)[2:]}\" # ENE24\n",
    "fecha = f\"{año}{str(mes).zfill(2)}\" # 202401\n",
    "\n",
    "nombre_base = f\"base_asignacion_202411.xlsx\" # Modificar\n",
    "asignacion_path = f\"bases/asignacion/{fecha}/{nombre_base}\"\n",
    "asignacion_pagos_path = f\"bases/asignacion/{fecha}/base_asignacion_{mes_año}.xlsx\"\n",
    "asignacion_camp_path = f\"bases/asignacion/{fecha}/base_asignacion_{mes_año}_CAMP.xlsx\"\n",
    "\n",
    "print(asignacion_path)\n",
    "print(asignacion_pagos_path)\n",
    "print(asignacion_camp_path)\n",
    "\n",
    "df_asignacion = pd.read_excel(asignacion_path, sheet_name='Hoja1')\n",
    "print(\"Base asignación pagos:\", df_asignacion.shape)"
   ]
  },
  {
   "cell_type": "code",
   "execution_count": null,
   "metadata": {},
   "outputs": [],
   "source": [
    "df_asignacion_test = df_asignacion.copy()\n",
    "\n",
    "def clean_columns(columns_list: list[str]) -> list[str]:\n",
    "    return [column.strip().replace('.', '').replace(' ', '_').upper() for column in columns_list]\n",
    "\n",
    "def rename_columns(df: pd.DataFrame) -> pd.DataFrame:\n",
    "    if 'AGENCIA_CORRECTA' in df.columns:\n",
    "        df['AGENCIA_CORRECTA'].replace(' ', '', inplace=True)\n",
    "        \n",
    "        if 'AGENCIA' not in df.columns:\n",
    "            df.rename(columns={'AGENCIA_CORRECTA': 'AGENCIA'}, inplace=True)\n",
    "        else:\n",
    "            df['AGENCIA'] = np.where(\n",
    "                df['AGENCIA'].notna() & (df['AGENCIA'].astype(str).str.len() > 0),\n",
    "                df['AGENCIA'],\n",
    "                df['AGENCIA_CORRECTA']\n",
    "            )\n",
    "            df.drop(columns=['AGENCIA_CORRECTA'], inplace=True)\n",
    "    \n",
    "    if 'CONTRATO' in df.columns:\n",
    "        df.drop(columns=['CONTRATO'], inplace=True)\n",
    "    \n",
    "    if 'ID_VTA' not in df.columns:\n",
    "        df['ID_VTA'] = np.nan\n",
    "    \n",
    "    if 'CAMPAÑA' not in df.columns:\n",
    "        df['CAMPAÑA'] = np.nan\n",
    "    \n",
    "    df.rename(columns={'CODIGO': 'CC', 'CONT_18': 'CONTRATO', 'NOMBRE': 'NOMBRE_CLIENTE', 'CLAVE': 'CARTERA'}, inplace=True)\n",
    "    \n",
    "    return df\n",
    "\n",
    "def update_columns(df: pd.DataFrame, cols: list[str]) -> pd.DataFrame:\n",
    "    df = rename_columns(df)\n",
    "    \n",
    "    df['TIPO_FONDO'].fillna('NULL', inplace=True)\n",
    "    df['ID_VTA'].fillna('NULL', inplace=True)\n",
    "    df['ID_VTA'].replace('-', 'NULL', inplace=True)\n",
    "    \n",
    "    df['CONTRATO'] = df['CONTRATO'].apply(lambda x: str(int(x)).zfill(18) if pd.notna(x) else x)\n",
    "    df['CC'] = df['CC'].astype('Int64').astype(str).str.zfill(8)\n",
    "    \n",
    "    conteo_cc = df['CC'].value_counts()\n",
    "    df['FLAG'] = df['CC'].map(conteo_cc)\n",
    "    \n",
    "    df.sort_values(by=['CC', 'CONTRATO', 'CAPITAL'], ascending=True, inplace=True)\n",
    "    df.reset_index(drop=True, inplace=True)\n",
    "    \n",
    "    return df[cols]"
   ]
  },
  {
   "cell_type": "code",
   "execution_count": null,
   "metadata": {},
   "outputs": [],
   "source": [
    "cols_required = ['CC', 'CONTRATO', 'NOMBRE_CLIENTE', 'MONEDA', 'CAPITAL', 'CAMP', 'CAMPAÑA', 'CARTERA', 'TIPO_FONDO', 'TIPO_CARTERA', 'AGENCIA', 'FLAG', 'OFICINA', 'TERRITORIO', 'ID_VTA']\n",
    "\n",
    "df_asignacion_test.columns = clean_columns(df_asignacion_test.columns)\n",
    "df_asignacion_test = update_columns(df_asignacion_test, cols_required)\n",
    "df_asignacion_test.head(5)"
   ]
  },
  {
   "cell_type": "code",
   "execution_count": null,
   "metadata": {},
   "outputs": [],
   "source": [
    "cols_asig_pagos = ['CC', 'CONTRATO', 'NOMBRE_CLIENTE', 'MONEDA', 'CAPITAL', 'CARTERA', 'TIPO_FONDO', 'TIPO_CARTERA', 'AGENCIA', 'FLAG']\n",
    "df_asignacion_pagos = df_asignacion_test[cols_asig_pagos]\n",
    "\n",
    "cols_asig_camp = ['CC', 'CONTRATO', 'NOMBRE_CLIENTE', 'MONEDA', 'CAPITAL', 'CAMP', 'CAMPAÑA', 'CARTERA', 'TIPO_FONDO', 'TIPO_CARTERA', 'AGENCIA', 'OFICINA', 'TERRITORIO', 'ID_VTA']\n",
    "df_asignacion_camp = df_asignacion_test[cols_asig_camp]"
   ]
  },
  {
   "cell_type": "code",
   "execution_count": null,
   "metadata": {},
   "outputs": [],
   "source": [
    "root = tk.Tk()\n",
    "root.attributes(\"-topmost\", True)\n",
    "root.withdraw()\n",
    "\n",
    "result = messagebox.askquestion(\"Confirmación\", \"¿Cargar base asignacion para campañas?\", icon='warning')\n",
    "\n",
    "df_asignacion_pagos.to_excel(asignacion_pagos_path, index=False, sheet_name='BASE')\n",
    "print(\"Base asignación pagos:\", df_asignacion_pagos.shape)\n",
    "\n",
    "if result == 'yes':\n",
    "    df_asignacion_camp.to_excel(asignacion_camp_path, index=False, sheet_name='BASE')\n",
    "    print(\"Base asignación campañas:\", df_asignacion_camp.shape)\n",
    "\n",
    "root.destroy()"
   ]
  }
 ],
 "metadata": {
  "kernelspec": {
   "display_name": "Python 3",
   "language": "python",
   "name": "python3"
  },
  "language_info": {
   "codemirror_mode": {
    "name": "ipython",
    "version": 3
   },
   "file_extension": ".py",
   "mimetype": "text/x-python",
   "name": "python",
   "nbconvert_exporter": "python",
   "pygments_lexer": "ipython3",
   "version": "3.12.4"
  }
 },
 "nbformat": 4,
 "nbformat_minor": 2
}
