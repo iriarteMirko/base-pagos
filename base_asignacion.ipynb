{
 "cells": [
  {
   "cell_type": "code",
   "execution_count": null,
   "metadata": {},
   "outputs": [],
   "source": [
    "import pandas as pd\n",
    "\n",
    "asignacion_path = 'bases/asignacion/base_asignacion_20240902.xlsx'\n",
    "df_asignacion = pd.read_excel(asignacion_path)\n",
    "\n",
    "cols_asignacion = ['codigo', 'ID_FLAG', 'cont_18', 'nombre', 'TIPO_CARTERA', 'TIPO_FONDO', 'clave', 'AGENCIA CORRECTA']\n",
    "df_asignacion = df_asignacion[cols_asignacion]\n",
    "\n",
    "df_asignacion['cont_18'] = df_asignacion['cont_18'].apply(lambda x: str(int(x)).zfill(18) if pd.notna(x) else x)\n",
    "df_asignacion['codigo'] = df_asignacion['codigo'].astype('Int64').astype(str).str.zfill(8)\n",
    "\n",
    "df_asignacion.to_excel('bases/base_asignacion_.xlsx', index=False)"
   ]
  }
 ],
 "metadata": {
  "kernelspec": {
   "display_name": "Python 3",
   "language": "python",
   "name": "python3"
  },
  "language_info": {
   "codemirror_mode": {
    "name": "ipython",
    "version": 3
   },
   "file_extension": ".py",
   "mimetype": "text/x-python",
   "name": "python",
   "nbconvert_exporter": "python",
   "pygments_lexer": "ipython3",
   "version": "3.10.9"
  }
 },
 "nbformat": 4,
 "nbformat_minor": 2
}
