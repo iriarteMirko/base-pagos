{
 "cells": [
  {
   "cell_type": "code",
   "execution_count": null,
   "metadata": {},
   "outputs": [],
   "source": [
    "import pandas as pd\n",
    "import warnings\n",
    "\n",
    "warnings.filterwarnings(\"ignore\")\n",
    "\n",
    "asignacion_path = 'bases/asignacion/base_asignacion_20241002.xlsx'\n",
    "df_asignacion = pd.read_excel(asignacion_path, sheet_name='BASE')\n",
    "df_asignacion.shape"
   ]
  },
  {
   "cell_type": "code",
   "execution_count": null,
   "metadata": {},
   "outputs": [],
   "source": [
    "def clean_columns(columns_list: list[str]) -> list[str]:\n",
    "    return [column.strip().replace('  ', ' ').replace('  ', ' ').replace('.', '').replace(' ', '_').upper() for column in columns_list]\n",
    "\n",
    "df_asignacion.columns = clean_columns(df_asignacion.columns)\n",
    "\n",
    "if 'AGENCIA_CORRECTA' in df_asignacion.columns:\n",
    "    df_asignacion.rename(columns={'AGENCIA_CORRECTA': 'AGENCIA'}, inplace=True)\n",
    "\n",
    "cols_asignacion = ['CODIGO', 'CONT_18', 'NOMBRE', 'TIPO_CARTERA', 'TIPO_FONDO', 'CLAVE', 'AGENCIA']\n",
    "df_asignacion = df_asignacion[cols_asignacion]\n",
    "\n",
    "df_asignacion['CONT_18'] = df_asignacion['CONT_18'].apply(lambda x: str(int(x)).zfill(18) if pd.notna(x) else x)\n",
    "df_asignacion['CODIGO'] = df_asignacion['CODIGO'].astype('Int64').astype(str).str.zfill(8)\n",
    "\n",
    "df_asignacion['FLAG'] = 0\n",
    "conteo_cc = df_asignacion['CODIGO'].value_counts()\n",
    "df_asignacion['FLAG'] = df_asignacion['CODIGO'].map(conteo_cc)\n",
    "\n",
    "print(df_asignacion.shape)\n",
    "df_asignacion.head()"
   ]
  },
  {
   "cell_type": "code",
   "execution_count": 13,
   "metadata": {},
   "outputs": [],
   "source": [
    "df_asignacion.to_excel('bases/asignacion/base_asignacion.xlsx', index=False)"
   ]
  }
 ],
 "metadata": {
  "kernelspec": {
   "display_name": "Python 3",
   "language": "python",
   "name": "python3"
  },
  "language_info": {
   "codemirror_mode": {
    "name": "ipython",
    "version": 3
   },
   "file_extension": ".py",
   "mimetype": "text/x-python",
   "name": "python",
   "nbconvert_exporter": "python",
   "pygments_lexer": "ipython3",
   "version": "3.11.5"
  }
 },
 "nbformat": 4,
 "nbformat_minor": 2
}
