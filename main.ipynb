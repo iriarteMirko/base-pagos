{
 "cells": [
  {
   "cell_type": "code",
   "execution_count": 915,
   "metadata": {},
   "outputs": [],
   "source": [
    "from datetime import datetime\n",
    "from tkinter import messagebox\n",
    "import tkinter as tk\n",
    "import pandas as pd\n",
    "import locale\n",
    "import warnings\n",
    "import os\n",
    "\n",
    "locale.setlocale(locale.LC_TIME, 'es_ES.UTF-8')\n",
    "warnings.filterwarnings(\"ignore\")"
   ]
  },
  {
   "cell_type": "code",
   "execution_count": 916,
   "metadata": {},
   "outputs": [
    {
     "data": {
      "text/plain": [
       "'29.08.2024'"
      ]
     },
     "execution_count": 916,
     "metadata": {},
     "output_type": "execute_result"
    }
   ],
   "source": [
    "def get_file_name() -> list[str]:\n",
    "    file_list = []\n",
    "    for file in os.listdir('bases/'):\n",
    "        if file.endswith('.xlsx') and 'Base Pagos' in file:\n",
    "            file_list.append(file)\n",
    "    return file_list\n",
    "\n",
    "def get_last_date(dates_list: list[datetime]) -> datetime:\n",
    "    last_date = dates_list[0]\n",
    "    for date in dates_list:\n",
    "        if date > last_date:\n",
    "            last_date = date\n",
    "    return last_date\n",
    "\n",
    "def get_date(file_list: list[str]) -> str:\n",
    "    dates_list = []\n",
    "    for file in file_list:\n",
    "        fecha_list =  file.split(' ')[-1].split('.')[:3]\n",
    "        dates_list.append(datetime.strptime(fecha_list[0] + '.' + fecha_list[1] + '.' + fecha_list[2], '%d.%m.%Y'))\n",
    "    return get_last_date(dates_list).strftime('%d.%m.%Y')\n",
    "\n",
    "fecha = get_date(get_file_name())\n",
    "fecha"
   ]
  },
  {
   "cell_type": "code",
   "execution_count": 917,
   "metadata": {},
   "outputs": [
    {
     "name": "stdout",
     "output_type": "stream",
     "text": [
      "La carpeta ya existe: reporte\\2024.09.01\n"
     ]
    },
    {
     "data": {
      "text/plain": [
       "'reporte\\\\2024.09.01'"
      ]
     },
     "execution_count": 917,
     "metadata": {},
     "output_type": "execute_result"
    }
   ],
   "source": [
    "def validar_o_crear_carpeta() -> str:\n",
    "    fecha_hoy = datetime.today().strftime('%Y.%m.%d')\n",
    "    \n",
    "    carpeta_reporte = 'reporte'\n",
    "    \n",
    "    carpeta_hoy = os.path.join(carpeta_reporte, fecha_hoy)\n",
    "    \n",
    "    if not os.path.exists(carpeta_hoy):\n",
    "        os.makedirs(carpeta_hoy)\n",
    "        print(f'Carpeta creada: {carpeta_hoy}')\n",
    "    else:\n",
    "        print(f'La carpeta ya existe: {carpeta_hoy}')\n",
    "    \n",
    "    return carpeta_hoy\n",
    "\n",
    "file_path = validar_o_crear_carpeta()\n",
    "file_path"
   ]
  },
  {
   "cell_type": "code",
   "execution_count": 918,
   "metadata": {},
   "outputs": [
    {
     "name": "stdout",
     "output_type": "stream",
     "text": [
      "bases/Base Pagos 29.08.2024.xlsx\n",
      "bases/base_asignacion.xlsx\n",
      "c:\\Users\\miria\\Documents\\BBVA\\GitHub\\base-pagos\\reporte\\2024.09.01\\MONOPRODUCTO 29.08.2024.xlsx\n",
      "c:\\Users\\miria\\Documents\\BBVA\\GitHub\\base-pagos\\reporte\\2024.09.01\\MULTIPRODUCTO 29.08.2024.xlsx\n",
      "c:\\Users\\miria\\Documents\\BBVA\\GitHub\\base-pagos\\reporte\\2024.09.01\\REACTIVA 29.08.2024.xlsx\n",
      "c:\\Users\\miria\\Documents\\BBVA\\GitHub\\base-pagos\\reporte\\2024.09.01\\NO ENVIADOS 29.08.2024.xlsx\n"
     ]
    }
   ],
   "source": [
    "base_pagos_path = 'bases/Base Pagos ' + fecha + '.xlsx'\n",
    "asignacion_path = 'bases/base_asignacion.xlsx'\n",
    "\n",
    "print(base_pagos_path)\n",
    "print(asignacion_path)\n",
    "\n",
    "monoproducto = file_path + '/MONOPRODUCTO ' + fecha + '.xlsx'\n",
    "multiproducto = file_path + '/MULTIPRODUCTO ' + fecha + '.xlsx'\n",
    "reactiva = file_path + '/REACTIVA ' + fecha + '.xlsx'\n",
    "no_enviados = file_path + '/NO ENVIADOS ' + fecha + '.xlsx'\n",
    "\n",
    "mono_path = os.path.abspath(monoproducto)\n",
    "multi_path = os.path.abspath(multiproducto)\n",
    "react_path = os.path.abspath(reactiva)\n",
    "no_enviados_path = os.path.abspath(no_enviados)\n",
    "\n",
    "print(mono_path)\n",
    "print(multi_path)\n",
    "print(react_path)\n",
    "print(no_enviados_path)"
   ]
  },
  {
   "cell_type": "code",
   "execution_count": 919,
   "metadata": {},
   "outputs": [],
   "source": [
    "#################### BASE DE PAGOS ####################"
   ]
  },
  {
   "cell_type": "code",
   "execution_count": 920,
   "metadata": {},
   "outputs": [
    {
     "name": "stdout",
     "output_type": "stream",
     "text": [
      "(459, 9)\n",
      "Entidad         int64\n",
      "FECHA          object\n",
      "CODCEN          int64\n",
      "CLAVSERV        int64\n",
      "CENTROPAGO      int64\n",
      "IMPORTE       float64\n",
      "MONEDA         object\n",
      "NOMBRE         object\n",
      "ESTADO         object\n",
      "dtype: object\n"
     ]
    },
    {
     "data": {
      "text/html": [
       "<div>\n",
       "<style scoped>\n",
       "    .dataframe tbody tr th:only-of-type {\n",
       "        vertical-align: middle;\n",
       "    }\n",
       "\n",
       "    .dataframe tbody tr th {\n",
       "        vertical-align: top;\n",
       "    }\n",
       "\n",
       "    .dataframe thead th {\n",
       "        text-align: right;\n",
       "    }\n",
       "</style>\n",
       "<table border=\"1\" class=\"dataframe\">\n",
       "  <thead>\n",
       "    <tr style=\"text-align: right;\">\n",
       "      <th></th>\n",
       "      <th>Entidad</th>\n",
       "      <th>FECHA</th>\n",
       "      <th>CODCEN</th>\n",
       "      <th>CLAVSERV</th>\n",
       "      <th>CENTROPAGO</th>\n",
       "      <th>IMPORTE</th>\n",
       "      <th>MONEDA</th>\n",
       "      <th>NOMBRE</th>\n",
       "      <th>ESTADO</th>\n",
       "    </tr>\n",
       "  </thead>\n",
       "  <tbody>\n",
       "    <tr>\n",
       "      <th>0</th>\n",
       "      <td>11</td>\n",
       "      <td>2024-08-28</td>\n",
       "      <td>29251432</td>\n",
       "      <td>248</td>\n",
       "      <td>321</td>\n",
       "      <td>3496.67</td>\n",
       "      <td>PEN</td>\n",
       "      <td>EMPRESA GUIAME SE･OR DE MURUHUAY EIRL</td>\n",
       "      <td>P</td>\n",
       "    </tr>\n",
       "    <tr>\n",
       "      <th>1</th>\n",
       "      <td>11</td>\n",
       "      <td>2024-08-28</td>\n",
       "      <td>23419268</td>\n",
       "      <td>248</td>\n",
       "      <td>50</td>\n",
       "      <td>5460.00</td>\n",
       "      <td>PEN</td>\n",
       "      <td>IVAN ROBINSON VEGA PARRA</td>\n",
       "      <td>P</td>\n",
       "    </tr>\n",
       "    <tr>\n",
       "      <th>2</th>\n",
       "      <td>11</td>\n",
       "      <td>2024-08-28</td>\n",
       "      <td>24323662</td>\n",
       "      <td>248</td>\n",
       "      <td>235</td>\n",
       "      <td>549.00</td>\n",
       "      <td>PEN</td>\n",
       "      <td>MARCOS MANUEL SANCHEZ PANTOJA</td>\n",
       "      <td>P</td>\n",
       "    </tr>\n",
       "    <tr>\n",
       "      <th>3</th>\n",
       "      <td>11</td>\n",
       "      <td>2024-08-28</td>\n",
       "      <td>28447023</td>\n",
       "      <td>248</td>\n",
       "      <td>235</td>\n",
       "      <td>550.00</td>\n",
       "      <td>PEN</td>\n",
       "      <td>ROLFI FIDEL MANTARI PASTRANA</td>\n",
       "      <td>P</td>\n",
       "    </tr>\n",
       "    <tr>\n",
       "      <th>4</th>\n",
       "      <td>11</td>\n",
       "      <td>2024-08-28</td>\n",
       "      <td>26736347</td>\n",
       "      <td>248</td>\n",
       "      <td>113</td>\n",
       "      <td>2000.00</td>\n",
       "      <td>PEN</td>\n",
       "      <td>A &amp; W INDUSTRIAL SAC</td>\n",
       "      <td>P</td>\n",
       "    </tr>\n",
       "  </tbody>\n",
       "</table>\n",
       "</div>"
      ],
      "text/plain": [
       "   Entidad       FECHA    CODCEN  CLAVSERV  CENTROPAGO  IMPORTE MONEDA  \\\n",
       "0       11  2024-08-28  29251432       248         321  3496.67    PEN   \n",
       "1       11  2024-08-28  23419268       248          50  5460.00    PEN   \n",
       "2       11  2024-08-28  24323662       248         235   549.00    PEN   \n",
       "3       11  2024-08-28  28447023       248         235   550.00    PEN   \n",
       "4       11  2024-08-28  26736347       248         113  2000.00    PEN   \n",
       "\n",
       "                                  NOMBRE ESTADO  \n",
       "0  EMPRESA GUIAME SE･OR DE MURUHUAY EIRL      P  \n",
       "1               IVAN ROBINSON VEGA PARRA      P  \n",
       "2          MARCOS MANUEL SANCHEZ PANTOJA      P  \n",
       "3           ROLFI FIDEL MANTARI PASTRANA      P  \n",
       "4                   A & W INDUSTRIAL SAC      P  "
      ]
     },
     "execution_count": 920,
     "metadata": {},
     "output_type": "execute_result"
    }
   ],
   "source": [
    "df_base = pd.read_excel(base_pagos_path)\n",
    "print(df_base.shape)\n",
    "print(df_base.dtypes)\n",
    "df_base.head(5)"
   ]
  },
  {
   "cell_type": "code",
   "execution_count": 921,
   "metadata": {},
   "outputs": [
    {
     "name": "stdout",
     "output_type": "stream",
     "text": [
      "(459, 10)\n",
      "FECHA              object\n",
      "CC                 object\n",
      "CLAVSERV           object\n",
      "CENTROPAGO          int64\n",
      "IMPORTE           float64\n",
      "MONEDA             object\n",
      "NOMBRE             object\n",
      "ESTADO             object\n",
      "FECHA_ENVIO        object\n",
      "ID_RESPONSABLE     object\n",
      "dtype: object\n"
     ]
    },
    {
     "data": {
      "text/html": [
       "<div>\n",
       "<style scoped>\n",
       "    .dataframe tbody tr th:only-of-type {\n",
       "        vertical-align: middle;\n",
       "    }\n",
       "\n",
       "    .dataframe tbody tr th {\n",
       "        vertical-align: top;\n",
       "    }\n",
       "\n",
       "    .dataframe thead th {\n",
       "        text-align: right;\n",
       "    }\n",
       "</style>\n",
       "<table border=\"1\" class=\"dataframe\">\n",
       "  <thead>\n",
       "    <tr style=\"text-align: right;\">\n",
       "      <th></th>\n",
       "      <th>FECHA</th>\n",
       "      <th>CC</th>\n",
       "      <th>CLAVSERV</th>\n",
       "      <th>CENTROPAGO</th>\n",
       "      <th>IMPORTE</th>\n",
       "      <th>MONEDA</th>\n",
       "      <th>NOMBRE</th>\n",
       "      <th>ESTADO</th>\n",
       "      <th>FECHA_ENVIO</th>\n",
       "      <th>ID_RESPONSABLE</th>\n",
       "    </tr>\n",
       "  </thead>\n",
       "  <tbody>\n",
       "    <tr>\n",
       "      <th>0</th>\n",
       "      <td>2024-08-28</td>\n",
       "      <td>29251432</td>\n",
       "      <td>00248</td>\n",
       "      <td>321</td>\n",
       "      <td>3496.67</td>\n",
       "      <td>PEN</td>\n",
       "      <td>EMPRESA GUIAME SE･OR DE MURUHUAY EIRL</td>\n",
       "      <td>P</td>\n",
       "      <td>01-Sep</td>\n",
       "      <td>MIV</td>\n",
       "    </tr>\n",
       "    <tr>\n",
       "      <th>1</th>\n",
       "      <td>2024-08-28</td>\n",
       "      <td>23419268</td>\n",
       "      <td>00248</td>\n",
       "      <td>50</td>\n",
       "      <td>5460.00</td>\n",
       "      <td>PEN</td>\n",
       "      <td>IVAN ROBINSON VEGA PARRA</td>\n",
       "      <td>P</td>\n",
       "      <td>01-Sep</td>\n",
       "      <td>MIV</td>\n",
       "    </tr>\n",
       "    <tr>\n",
       "      <th>2</th>\n",
       "      <td>2024-08-28</td>\n",
       "      <td>24323662</td>\n",
       "      <td>00248</td>\n",
       "      <td>235</td>\n",
       "      <td>549.00</td>\n",
       "      <td>PEN</td>\n",
       "      <td>MARCOS MANUEL SANCHEZ PANTOJA</td>\n",
       "      <td>P</td>\n",
       "      <td>01-Sep</td>\n",
       "      <td>MIV</td>\n",
       "    </tr>\n",
       "    <tr>\n",
       "      <th>3</th>\n",
       "      <td>2024-08-28</td>\n",
       "      <td>28447023</td>\n",
       "      <td>00248</td>\n",
       "      <td>235</td>\n",
       "      <td>550.00</td>\n",
       "      <td>PEN</td>\n",
       "      <td>ROLFI FIDEL MANTARI PASTRANA</td>\n",
       "      <td>P</td>\n",
       "      <td>01-Sep</td>\n",
       "      <td>MIV</td>\n",
       "    </tr>\n",
       "    <tr>\n",
       "      <th>4</th>\n",
       "      <td>2024-08-28</td>\n",
       "      <td>26736347</td>\n",
       "      <td>00248</td>\n",
       "      <td>113</td>\n",
       "      <td>2000.00</td>\n",
       "      <td>PEN</td>\n",
       "      <td>A &amp; W INDUSTRIAL SAC</td>\n",
       "      <td>P</td>\n",
       "      <td>01-Sep</td>\n",
       "      <td>MIV</td>\n",
       "    </tr>\n",
       "  </tbody>\n",
       "</table>\n",
       "</div>"
      ],
      "text/plain": [
       "        FECHA        CC CLAVSERV  CENTROPAGO  IMPORTE MONEDA  \\\n",
       "0  2024-08-28  29251432    00248         321  3496.67    PEN   \n",
       "1  2024-08-28  23419268    00248          50  5460.00    PEN   \n",
       "2  2024-08-28  24323662    00248         235   549.00    PEN   \n",
       "3  2024-08-28  28447023    00248         235   550.00    PEN   \n",
       "4  2024-08-28  26736347    00248         113  2000.00    PEN   \n",
       "\n",
       "                                  NOMBRE ESTADO FECHA_ENVIO ID_RESPONSABLE  \n",
       "0  EMPRESA GUIAME SE･OR DE MURUHUAY EIRL      P      01-Sep            MIV  \n",
       "1               IVAN ROBINSON VEGA PARRA      P      01-Sep            MIV  \n",
       "2          MARCOS MANUEL SANCHEZ PANTOJA      P      01-Sep            MIV  \n",
       "3           ROLFI FIDEL MANTARI PASTRANA      P      01-Sep            MIV  \n",
       "4                   A & W INDUSTRIAL SAC      P      01-Sep            MIV  "
      ]
     },
     "execution_count": 921,
     "metadata": {},
     "output_type": "execute_result"
    }
   ],
   "source": [
    "fecha_formateada = pd.to_datetime('today').strftime('%d-%b')\n",
    "fecha_formateada = fecha_formateada[:3] + fecha_formateada[3:].capitalize()\n",
    "\n",
    "df_base['FECHA_ENVIO'] = fecha_formateada.replace('.', '')\n",
    "df_base['ID_RESPONSABLE'] = 'MIV'\n",
    "\n",
    "cols_base = ['FECHA', 'CODCEN', 'CLAVSERV', 'CENTROPAGO', 'IMPORTE', 'MONEDA', 'NOMBRE', 'ESTADO', 'FECHA_ENVIO', 'ID_RESPONSABLE']\n",
    "df_base = df_base[cols_base]\n",
    "df_base = df_base.rename(columns={'CODCEN': 'CC'})\n",
    "\n",
    "df_base['CC'] = df_base['CC'].astype('Int64').astype(str).str.zfill(8)\n",
    "df_base['CC'] = df_base['CC'].str.replace(' ', '').str.replace(r'\\D', '', regex=True).str[-8:]\n",
    "df_base['CC'] = df_base['CC'].str.zfill(8)\n",
    "\n",
    "df_base['CLAVSERV'] = df_base['CLAVSERV'].astype(str).str.zfill(5)\n",
    "\n",
    "print(df_base.shape)\n",
    "print(df_base.dtypes)\n",
    "df_base.head(5)"
   ]
  },
  {
   "cell_type": "code",
   "execution_count": 922,
   "metadata": {},
   "outputs": [
    {
     "data": {
      "text/plain": [
       "FECHA             0\n",
       "CC                0\n",
       "CLAVSERV          0\n",
       "CENTROPAGO        0\n",
       "IMPORTE           0\n",
       "MONEDA            0\n",
       "NOMBRE            0\n",
       "ESTADO            0\n",
       "FECHA_ENVIO       0\n",
       "ID_RESPONSABLE    0\n",
       "dtype: int64"
      ]
     },
     "execution_count": 922,
     "metadata": {},
     "output_type": "execute_result"
    }
   ],
   "source": [
    "df_base.isnull().sum()"
   ]
  },
  {
   "cell_type": "code",
   "execution_count": 923,
   "metadata": {},
   "outputs": [],
   "source": [
    "#################### ASIGNACION ####################"
   ]
  },
  {
   "cell_type": "code",
   "execution_count": 924,
   "metadata": {},
   "outputs": [],
   "source": [
    "root = tk.Tk()\n",
    "root.attributes(\"-topmost\", True)\n",
    "root.withdraw()\n",
    "\n",
    "result = messagebox.askquestion(\"Confirmación\", \"¿Cargar base de asignación?\", icon='warning')\n",
    "if result == 'yes':\n",
    "    df_asignacion = pd.read_excel(asignacion_path)\n"
   ]
  },
  {
   "cell_type": "code",
   "execution_count": 925,
   "metadata": {},
   "outputs": [
    {
     "name": "stdout",
     "output_type": "stream",
     "text": [
      "(242511, 9)\n",
      "codigo               int64\n",
      "ID_FLAG              int64\n",
      "cont_18              int64\n",
      "nombre              object\n",
      "TIPO_CARTERA        object\n",
      "TIPO_FONDO          object\n",
      "clave               object\n",
      "AGENCIA CORRECTA    object\n",
      "ID_VTA.             object\n",
      "dtype: object\n"
     ]
    },
    {
     "data": {
      "text/html": [
       "<div>\n",
       "<style scoped>\n",
       "    .dataframe tbody tr th:only-of-type {\n",
       "        vertical-align: middle;\n",
       "    }\n",
       "\n",
       "    .dataframe tbody tr th {\n",
       "        vertical-align: top;\n",
       "    }\n",
       "\n",
       "    .dataframe thead th {\n",
       "        text-align: right;\n",
       "    }\n",
       "</style>\n",
       "<table border=\"1\" class=\"dataframe\">\n",
       "  <thead>\n",
       "    <tr style=\"text-align: right;\">\n",
       "      <th></th>\n",
       "      <th>codigo</th>\n",
       "      <th>ID_FLAG</th>\n",
       "      <th>cont_18</th>\n",
       "      <th>nombre</th>\n",
       "      <th>TIPO_CARTERA</th>\n",
       "      <th>TIPO_FONDO</th>\n",
       "      <th>clave</th>\n",
       "      <th>AGENCIA CORRECTA</th>\n",
       "      <th>ID_VTA.</th>\n",
       "    </tr>\n",
       "  </thead>\n",
       "  <tbody>\n",
       "    <tr>\n",
       "      <th>0</th>\n",
       "      <td>30739481</td>\n",
       "      <td>2</td>\n",
       "      <td>1100109600055161</td>\n",
       "      <td>DINA CHOQUE FERNANDEZ</td>\n",
       "      <td>UNSECURED</td>\n",
       "      <td>NaN</td>\n",
       "      <td>BC</td>\n",
       "      <td>MORNESE MORA</td>\n",
       "      <td>-</td>\n",
       "    </tr>\n",
       "    <tr>\n",
       "      <th>1</th>\n",
       "      <td>30739481</td>\n",
       "      <td>2</td>\n",
       "      <td>1100109600057679</td>\n",
       "      <td>DINA CHOQUE FERNANDEZ</td>\n",
       "      <td>UNSECURED</td>\n",
       "      <td>NaN</td>\n",
       "      <td>BC</td>\n",
       "      <td>MORNESE MORA</td>\n",
       "      <td>-</td>\n",
       "    </tr>\n",
       "    <tr>\n",
       "      <th>2</th>\n",
       "      <td>21874900</td>\n",
       "      <td>4</td>\n",
       "      <td>1100505000360222</td>\n",
       "      <td>JULIA ANGELICA SOTO COTRINA</td>\n",
       "      <td>UNSECURED</td>\n",
       "      <td>NaN</td>\n",
       "      <td>BC</td>\n",
       "      <td>ASESCOM RJ</td>\n",
       "      <td>-</td>\n",
       "    </tr>\n",
       "    <tr>\n",
       "      <th>3</th>\n",
       "      <td>30293392</td>\n",
       "      <td>1</td>\n",
       "      <td>1101305002987960</td>\n",
       "      <td>INNOVA FASHION GROUPSAC</td>\n",
       "      <td>UNSECURED</td>\n",
       "      <td>NaN</td>\n",
       "      <td>BC</td>\n",
       "      <td>CLASA MORA</td>\n",
       "      <td>-</td>\n",
       "    </tr>\n",
       "    <tr>\n",
       "      <th>4</th>\n",
       "      <td>20687681</td>\n",
       "      <td>1</td>\n",
       "      <td>1101749600365104</td>\n",
       "      <td>ELIZABETH HAYDEE CORDOVA AMAYA</td>\n",
       "      <td>UNSECURED</td>\n",
       "      <td>NaN</td>\n",
       "      <td>BC</td>\n",
       "      <td>RodriguezAngobaldo</td>\n",
       "      <td>-</td>\n",
       "    </tr>\n",
       "  </tbody>\n",
       "</table>\n",
       "</div>"
      ],
      "text/plain": [
       "     codigo  ID_FLAG           cont_18                          nombre  \\\n",
       "0  30739481        2  1100109600055161           DINA CHOQUE FERNANDEZ   \n",
       "1  30739481        2  1100109600057679           DINA CHOQUE FERNANDEZ   \n",
       "2  21874900        4  1100505000360222     JULIA ANGELICA SOTO COTRINA   \n",
       "3  30293392        1  1101305002987960         INNOVA FASHION GROUPSAC   \n",
       "4  20687681        1  1101749600365104  ELIZABETH HAYDEE CORDOVA AMAYA   \n",
       "\n",
       "  TIPO_CARTERA TIPO_FONDO clave    AGENCIA CORRECTA ID_VTA.  \n",
       "0    UNSECURED        NaN    BC        MORNESE MORA       -  \n",
       "1    UNSECURED        NaN    BC        MORNESE MORA       -  \n",
       "2    UNSECURED        NaN    BC          ASESCOM RJ       -  \n",
       "3    UNSECURED        NaN    BC          CLASA MORA       -  \n",
       "4    UNSECURED        NaN    BC  RodriguezAngobaldo       -  "
      ]
     },
     "execution_count": 925,
     "metadata": {},
     "output_type": "execute_result"
    }
   ],
   "source": [
    "print(df_asignacion.shape)\n",
    "print(df_asignacion.dtypes)\n",
    "df_asignacion.head(5)"
   ]
  },
  {
   "cell_type": "code",
   "execution_count": 926,
   "metadata": {},
   "outputs": [],
   "source": [
    "#################### BACKUPS ####################"
   ]
  },
  {
   "cell_type": "code",
   "execution_count": 927,
   "metadata": {},
   "outputs": [
    {
     "name": "stdout",
     "output_type": "stream",
     "text": [
      "Base (459, 10)\n",
      "Asignacion (242511, 9)\n"
     ]
    }
   ],
   "source": [
    "df_base_test = df_base.copy()\n",
    "print('Base', df_base_test.shape)\n",
    "\n",
    "df_asignacion_test = df_asignacion.copy()\n",
    "print('Asignacion', df_asignacion_test.shape)"
   ]
  },
  {
   "cell_type": "code",
   "execution_count": 928,
   "metadata": {},
   "outputs": [
    {
     "data": {
      "text/plain": [
       "459"
      ]
     },
     "execution_count": 928,
     "metadata": {},
     "output_type": "execute_result"
    }
   ],
   "source": [
    "base_count = df_base_test.shape[0]\n",
    "base_count"
   ]
  },
  {
   "cell_type": "code",
   "execution_count": 929,
   "metadata": {},
   "outputs": [
    {
     "name": "stdout",
     "output_type": "stream",
     "text": [
      "(459, 17)\n",
      "FECHA              object\n",
      "CC                 object\n",
      "CLAVSERV           object\n",
      "CENTROPAGO          int64\n",
      "IMPORTE           float64\n",
      "MONEDA             object\n",
      "NOMBRE             object\n",
      "ESTADO             object\n",
      "FLAG                Int64\n",
      "CONTRATO           object\n",
      "TIPO_FONDO         object\n",
      "CARTERA            object\n",
      "NOMBRE_CLIENTE     object\n",
      "FECHA_ENVIO        object\n",
      "ID_RESPONSABLE     object\n",
      "TIPO_CARTERA       object\n",
      "AGENCIA            object\n",
      "dtype: object\n"
     ]
    },
    {
     "data": {
      "text/html": [
       "<div>\n",
       "<style scoped>\n",
       "    .dataframe tbody tr th:only-of-type {\n",
       "        vertical-align: middle;\n",
       "    }\n",
       "\n",
       "    .dataframe tbody tr th {\n",
       "        vertical-align: top;\n",
       "    }\n",
       "\n",
       "    .dataframe thead th {\n",
       "        text-align: right;\n",
       "    }\n",
       "</style>\n",
       "<table border=\"1\" class=\"dataframe\">\n",
       "  <thead>\n",
       "    <tr style=\"text-align: right;\">\n",
       "      <th></th>\n",
       "      <th>FECHA</th>\n",
       "      <th>CC</th>\n",
       "      <th>CLAVSERV</th>\n",
       "      <th>CENTROPAGO</th>\n",
       "      <th>IMPORTE</th>\n",
       "      <th>MONEDA</th>\n",
       "      <th>NOMBRE</th>\n",
       "      <th>ESTADO</th>\n",
       "      <th>FLAG</th>\n",
       "      <th>CONTRATO</th>\n",
       "      <th>TIPO_FONDO</th>\n",
       "      <th>CARTERA</th>\n",
       "      <th>NOMBRE_CLIENTE</th>\n",
       "      <th>FECHA_ENVIO</th>\n",
       "      <th>ID_RESPONSABLE</th>\n",
       "      <th>TIPO_CARTERA</th>\n",
       "      <th>AGENCIA</th>\n",
       "    </tr>\n",
       "  </thead>\n",
       "  <tbody>\n",
       "    <tr>\n",
       "      <th>0</th>\n",
       "      <td>2024-08-28</td>\n",
       "      <td>29251432</td>\n",
       "      <td>00248</td>\n",
       "      <td>321</td>\n",
       "      <td>3496.67</td>\n",
       "      <td>PEN</td>\n",
       "      <td>EMPRESA GUIAME SE･OR DE MURUHUAY EIRL</td>\n",
       "      <td>P</td>\n",
       "      <td>2</td>\n",
       "      <td>001103219600546204</td>\n",
       "      <td>REACTIVA</td>\n",
       "      <td>BC</td>\n",
       "      <td>EMPRESA GUIAME SEÐORDE MURUHUAY EIRL</td>\n",
       "      <td>01-Sep</td>\n",
       "      <td>MIV</td>\n",
       "      <td>UNSECURED</td>\n",
       "      <td>MORNESE MORA</td>\n",
       "    </tr>\n",
       "    <tr>\n",
       "      <th>2</th>\n",
       "      <td>2024-08-28</td>\n",
       "      <td>23419268</td>\n",
       "      <td>00248</td>\n",
       "      <td>50</td>\n",
       "      <td>5460.00</td>\n",
       "      <td>PEN</td>\n",
       "      <td>IVAN ROBINSON VEGA PARRA</td>\n",
       "      <td>P</td>\n",
       "      <td>&lt;NA&gt;</td>\n",
       "      <td>NaN</td>\n",
       "      <td>NULL</td>\n",
       "      <td>NaN</td>\n",
       "      <td>NaN</td>\n",
       "      <td>01-Sep</td>\n",
       "      <td>MIV</td>\n",
       "      <td>NULL</td>\n",
       "      <td>NaN</td>\n",
       "    </tr>\n",
       "    <tr>\n",
       "      <th>3</th>\n",
       "      <td>2024-08-28</td>\n",
       "      <td>24323662</td>\n",
       "      <td>00248</td>\n",
       "      <td>235</td>\n",
       "      <td>549.00</td>\n",
       "      <td>PEN</td>\n",
       "      <td>MARCOS MANUEL SANCHEZ PANTOJA</td>\n",
       "      <td>P</td>\n",
       "      <td>1</td>\n",
       "      <td>001102355002710498</td>\n",
       "      <td>NULL</td>\n",
       "      <td>KSTBC</td>\n",
       "      <td>MARCOS MANUEL SANCHEZ PANTOJA</td>\n",
       "      <td>01-Sep</td>\n",
       "      <td>MIV</td>\n",
       "      <td>UNSECURED</td>\n",
       "      <td>MORNESE MORA</td>\n",
       "    </tr>\n",
       "    <tr>\n",
       "      <th>4</th>\n",
       "      <td>2024-08-28</td>\n",
       "      <td>28447023</td>\n",
       "      <td>00248</td>\n",
       "      <td>235</td>\n",
       "      <td>550.00</td>\n",
       "      <td>PEN</td>\n",
       "      <td>ROLFI FIDEL MANTARI PASTRANA</td>\n",
       "      <td>P</td>\n",
       "      <td>1</td>\n",
       "      <td>001108149601531413</td>\n",
       "      <td>NULL</td>\n",
       "      <td>KSTBC</td>\n",
       "      <td>ROLFI FIDEL MANTARI PASTRANA</td>\n",
       "      <td>01-Sep</td>\n",
       "      <td>MIV</td>\n",
       "      <td>UNSECURED</td>\n",
       "      <td>CLASA MORA</td>\n",
       "    </tr>\n",
       "    <tr>\n",
       "      <th>5</th>\n",
       "      <td>2024-08-28</td>\n",
       "      <td>26736347</td>\n",
       "      <td>00248</td>\n",
       "      <td>113</td>\n",
       "      <td>2000.00</td>\n",
       "      <td>PEN</td>\n",
       "      <td>A &amp; W INDUSTRIAL SAC</td>\n",
       "      <td>P</td>\n",
       "      <td>2</td>\n",
       "      <td>001101039600277054</td>\n",
       "      <td>REACTIVA</td>\n",
       "      <td>BC</td>\n",
       "      <td>A &amp; W INDUSTRIAL SAC</td>\n",
       "      <td>01-Sep</td>\n",
       "      <td>MIV</td>\n",
       "      <td>UNSECURED</td>\n",
       "      <td>MORNESE MORA</td>\n",
       "    </tr>\n",
       "  </tbody>\n",
       "</table>\n",
       "</div>"
      ],
      "text/plain": [
       "        FECHA        CC CLAVSERV  CENTROPAGO  IMPORTE MONEDA  \\\n",
       "0  2024-08-28  29251432    00248         321  3496.67    PEN   \n",
       "2  2024-08-28  23419268    00248          50  5460.00    PEN   \n",
       "3  2024-08-28  24323662    00248         235   549.00    PEN   \n",
       "4  2024-08-28  28447023    00248         235   550.00    PEN   \n",
       "5  2024-08-28  26736347    00248         113  2000.00    PEN   \n",
       "\n",
       "                                  NOMBRE ESTADO  FLAG            CONTRATO  \\\n",
       "0  EMPRESA GUIAME SE･OR DE MURUHUAY EIRL      P     2  001103219600546204   \n",
       "2               IVAN ROBINSON VEGA PARRA      P  <NA>                 NaN   \n",
       "3          MARCOS MANUEL SANCHEZ PANTOJA      P     1  001102355002710498   \n",
       "4           ROLFI FIDEL MANTARI PASTRANA      P     1  001108149601531413   \n",
       "5                   A & W INDUSTRIAL SAC      P     2  001101039600277054   \n",
       "\n",
       "  TIPO_FONDO CARTERA                        NOMBRE_CLIENTE FECHA_ENVIO  \\\n",
       "0   REACTIVA      BC  EMPRESA GUIAME SEÐORDE MURUHUAY EIRL      01-Sep   \n",
       "2       NULL     NaN                                   NaN      01-Sep   \n",
       "3       NULL   KSTBC         MARCOS MANUEL SANCHEZ PANTOJA      01-Sep   \n",
       "4       NULL   KSTBC          ROLFI FIDEL MANTARI PASTRANA      01-Sep   \n",
       "5   REACTIVA      BC                  A & W INDUSTRIAL SAC      01-Sep   \n",
       "\n",
       "  ID_RESPONSABLE TIPO_CARTERA       AGENCIA  \n",
       "0            MIV    UNSECURED  MORNESE MORA  \n",
       "2            MIV         NULL           NaN  \n",
       "3            MIV    UNSECURED  MORNESE MORA  \n",
       "4            MIV    UNSECURED    CLASA MORA  \n",
       "5            MIV    UNSECURED  MORNESE MORA  "
      ]
     },
     "execution_count": 929,
     "metadata": {},
     "output_type": "execute_result"
    }
   ],
   "source": [
    "df_asignacion_test['codigo'] = df_asignacion_test['codigo'].astype('Int64').astype(str).str.zfill(8)\n",
    "\n",
    "cols_asignacion = ['codigo', 'ID_FLAG', 'cont_18', 'nombre', 'TIPO_CARTERA', 'TIPO_FONDO', 'clave', 'AGENCIA CORRECTA']\n",
    "df_base_test = df_base_test.merge(df_asignacion_test[cols_asignacion], left_on='CC', right_on='codigo', how='left')\n",
    "df_base_test = df_base_test.drop(columns=['codigo'])\n",
    "df_base_test = df_base_test.rename(columns={'ID_FLAG': 'FLAG', 'cont_18': 'CONTRATO', 'nombre': 'NOMBRE_CLIENTE', 'clave': 'CARTERA', 'AGENCIA CORRECTA': 'AGENCIA'})\n",
    "\n",
    "df_base_test.drop_duplicates(subset=['CC', 'IMPORTE', 'MONEDA', 'NOMBRE'], keep='first', inplace=True)\n",
    "\n",
    "df_base_test['TIPO_CARTERA'] = df_base_test['TIPO_CARTERA'].fillna('NULL')\n",
    "df_base_test['TIPO_FONDO'] = df_base_test['TIPO_FONDO'].fillna('NULL')\n",
    "\n",
    "df_base_test['FLAG'] = df_base_test['FLAG'].astype('Int64')\n",
    "df_base_test['CONTRATO'] = df_base_test['CONTRATO'].apply(lambda x: str(int(x)).zfill(18) if pd.notna(x) else x)\n",
    "\n",
    "cols_base_test = ['FECHA', 'CC', 'CLAVSERV', 'CENTROPAGO', 'IMPORTE', 'MONEDA', 'NOMBRE', 'ESTADO', 'FLAG', 'CONTRATO', 'TIPO_FONDO', 'CARTERA', 'NOMBRE_CLIENTE', 'FECHA_ENVIO', 'ID_RESPONSABLE', 'TIPO_CARTERA', 'AGENCIA']\n",
    "df_base_test = df_base_test[cols_base_test]\n",
    "\n",
    "print(df_base_test.shape)\n",
    "print(df_base_test.dtypes)\n",
    "df_base_test.head(5)"
   ]
  },
  {
   "cell_type": "code",
   "execution_count": 930,
   "metadata": {},
   "outputs": [
    {
     "name": "stdout",
     "output_type": "stream",
     "text": [
      "REGISTROS OK\n"
     ]
    }
   ],
   "source": [
    "if base_count == df_base_test.shape[0]:\n",
    "    print('REGISTROS OK')\n",
    "elif base_count > df_base_test.shape[0]:\n",
    "    print('Se han perdido registros')\n",
    "else:\n",
    "    print('Se han duplicado registros: ', df_base_test.shape[0] - base_count)"
   ]
  },
  {
   "cell_type": "code",
   "execution_count": 931,
   "metadata": {},
   "outputs": [
    {
     "data": {
      "text/plain": [
       "(459, 17)"
      ]
     },
     "execution_count": 931,
     "metadata": {},
     "output_type": "execute_result"
    }
   ],
   "source": [
    "df_base_test.shape"
   ]
  },
  {
   "cell_type": "code",
   "execution_count": 932,
   "metadata": {},
   "outputs": [
    {
     "data": {
      "text/plain": [
       "(29, 17)"
      ]
     },
     "execution_count": 932,
     "metadata": {},
     "output_type": "execute_result"
    }
   ],
   "source": [
    "df_base_no_flag = df_base_test[df_base_test['FLAG'].isnull()]\n",
    "df_base_no_flag.shape"
   ]
  },
  {
   "cell_type": "code",
   "execution_count": 933,
   "metadata": {},
   "outputs": [
    {
     "data": {
      "text/plain": [
       "29"
      ]
     },
     "execution_count": 933,
     "metadata": {},
     "output_type": "execute_result"
    }
   ],
   "source": [
    "no_flag_count = df_base_no_flag.shape[0]\n",
    "no_flag_count"
   ]
  },
  {
   "cell_type": "code",
   "execution_count": 934,
   "metadata": {},
   "outputs": [
    {
     "data": {
      "text/plain": [
       "430"
      ]
     },
     "execution_count": 934,
     "metadata": {},
     "output_type": "execute_result"
    }
   ],
   "source": [
    "flag_count = base_count - no_flag_count\n",
    "flag_count"
   ]
  },
  {
   "cell_type": "code",
   "execution_count": 935,
   "metadata": {},
   "outputs": [],
   "source": [
    "#################### MONOPRODUCTO ####################"
   ]
  },
  {
   "cell_type": "code",
   "execution_count": 936,
   "metadata": {},
   "outputs": [
    {
     "name": "stdout",
     "output_type": "stream",
     "text": [
      "(348, 17)\n"
     ]
    },
    {
     "data": {
      "text/html": [
       "<div>\n",
       "<style scoped>\n",
       "    .dataframe tbody tr th:only-of-type {\n",
       "        vertical-align: middle;\n",
       "    }\n",
       "\n",
       "    .dataframe tbody tr th {\n",
       "        vertical-align: top;\n",
       "    }\n",
       "\n",
       "    .dataframe thead th {\n",
       "        text-align: right;\n",
       "    }\n",
       "</style>\n",
       "<table border=\"1\" class=\"dataframe\">\n",
       "  <thead>\n",
       "    <tr style=\"text-align: right;\">\n",
       "      <th></th>\n",
       "      <th>FECHA</th>\n",
       "      <th>CC</th>\n",
       "      <th>CLAVSERV</th>\n",
       "      <th>CENTROPAGO</th>\n",
       "      <th>IMPORTE</th>\n",
       "      <th>MONEDA</th>\n",
       "      <th>NOMBRE</th>\n",
       "      <th>ESTADO</th>\n",
       "      <th>FLAG</th>\n",
       "      <th>CONTRATO</th>\n",
       "      <th>TIPO_FONDO</th>\n",
       "      <th>CARTERA</th>\n",
       "      <th>NOMBRE_CLIENTE</th>\n",
       "      <th>FECHA_ENVIO</th>\n",
       "      <th>ID_RESPONSABLE</th>\n",
       "      <th>TIPO_CARTERA</th>\n",
       "      <th>AGENCIA</th>\n",
       "    </tr>\n",
       "  </thead>\n",
       "  <tbody>\n",
       "    <tr>\n",
       "      <th>3</th>\n",
       "      <td>2024-08-28</td>\n",
       "      <td>24323662</td>\n",
       "      <td>00248</td>\n",
       "      <td>235</td>\n",
       "      <td>549.0</td>\n",
       "      <td>PEN</td>\n",
       "      <td>MARCOS MANUEL SANCHEZ PANTOJA</td>\n",
       "      <td>P</td>\n",
       "      <td>1</td>\n",
       "      <td>001102355002710498</td>\n",
       "      <td>NULL</td>\n",
       "      <td>KSTBC</td>\n",
       "      <td>MARCOS MANUEL SANCHEZ PANTOJA</td>\n",
       "      <td>01-Sep</td>\n",
       "      <td>MIV</td>\n",
       "      <td>UNSECURED</td>\n",
       "      <td>MORNESE MORA</td>\n",
       "    </tr>\n",
       "    <tr>\n",
       "      <th>4</th>\n",
       "      <td>2024-08-28</td>\n",
       "      <td>28447023</td>\n",
       "      <td>00248</td>\n",
       "      <td>235</td>\n",
       "      <td>550.0</td>\n",
       "      <td>PEN</td>\n",
       "      <td>ROLFI FIDEL MANTARI PASTRANA</td>\n",
       "      <td>P</td>\n",
       "      <td>1</td>\n",
       "      <td>001108149601531413</td>\n",
       "      <td>NULL</td>\n",
       "      <td>KSTBC</td>\n",
       "      <td>ROLFI FIDEL MANTARI PASTRANA</td>\n",
       "      <td>01-Sep</td>\n",
       "      <td>MIV</td>\n",
       "      <td>UNSECURED</td>\n",
       "      <td>CLASA MORA</td>\n",
       "    </tr>\n",
       "    <tr>\n",
       "      <th>7</th>\n",
       "      <td>2024-08-28</td>\n",
       "      <td>30016377</td>\n",
       "      <td>00248</td>\n",
       "      <td>253</td>\n",
       "      <td>3500.0</td>\n",
       "      <td>PEN</td>\n",
       "      <td>AARON ANIBAL RAMIREZ  HERRERA</td>\n",
       "      <td>P</td>\n",
       "      <td>1</td>\n",
       "      <td>001104085012680376</td>\n",
       "      <td>NULL</td>\n",
       "      <td>EXJ</td>\n",
       "      <td>AARON ANIBAL RAMIREZ HERRERA</td>\n",
       "      <td>01-Sep</td>\n",
       "      <td>MIV</td>\n",
       "      <td>UNSECURED</td>\n",
       "      <td>CLASA MORA</td>\n",
       "    </tr>\n",
       "    <tr>\n",
       "      <th>8</th>\n",
       "      <td>2024-08-28</td>\n",
       "      <td>24214222</td>\n",
       "      <td>00248</td>\n",
       "      <td>179</td>\n",
       "      <td>2500.0</td>\n",
       "      <td>PEN</td>\n",
       "      <td>BETTY ANTONIA SANCHEZ BORDA...</td>\n",
       "      <td>P</td>\n",
       "      <td>1</td>\n",
       "      <td>001107169600096613</td>\n",
       "      <td>NULL</td>\n",
       "      <td>BC</td>\n",
       "      <td>BETTY ANTONIA SANCHEZ BORDA</td>\n",
       "      <td>01-Sep</td>\n",
       "      <td>MIV</td>\n",
       "      <td>UNSECURED</td>\n",
       "      <td>CLASA MORA</td>\n",
       "    </tr>\n",
       "    <tr>\n",
       "      <th>9</th>\n",
       "      <td>2024-08-28</td>\n",
       "      <td>31294224</td>\n",
       "      <td>00248</td>\n",
       "      <td>267</td>\n",
       "      <td>750.0</td>\n",
       "      <td>PEN</td>\n",
       "      <td>CARLOS SIRLUPU MAZA 28/08/2024</td>\n",
       "      <td>P</td>\n",
       "      <td>1</td>\n",
       "      <td>001105045004419466</td>\n",
       "      <td>NULL</td>\n",
       "      <td>EXJ</td>\n",
       "      <td>CARLOS DANIEL SIRLUPU MAZA</td>\n",
       "      <td>01-Sep</td>\n",
       "      <td>MIV</td>\n",
       "      <td>UNSECURED</td>\n",
       "      <td>MORNESE MORA</td>\n",
       "    </tr>\n",
       "  </tbody>\n",
       "</table>\n",
       "</div>"
      ],
      "text/plain": [
       "        FECHA        CC CLAVSERV  CENTROPAGO  IMPORTE MONEDA  \\\n",
       "3  2024-08-28  24323662    00248         235    549.0    PEN   \n",
       "4  2024-08-28  28447023    00248         235    550.0    PEN   \n",
       "7  2024-08-28  30016377    00248         253   3500.0    PEN   \n",
       "8  2024-08-28  24214222    00248         179   2500.0    PEN   \n",
       "9  2024-08-28  31294224    00248         267    750.0    PEN   \n",
       "\n",
       "                           NOMBRE ESTADO  FLAG            CONTRATO TIPO_FONDO  \\\n",
       "3   MARCOS MANUEL SANCHEZ PANTOJA      P     1  001102355002710498       NULL   \n",
       "4    ROLFI FIDEL MANTARI PASTRANA      P     1  001108149601531413       NULL   \n",
       "7   AARON ANIBAL RAMIREZ  HERRERA      P     1  001104085012680376       NULL   \n",
       "8  BETTY ANTONIA SANCHEZ BORDA...      P     1  001107169600096613       NULL   \n",
       "9  CARLOS SIRLUPU MAZA 28/08/2024      P     1  001105045004419466       NULL   \n",
       "\n",
       "  CARTERA                 NOMBRE_CLIENTE FECHA_ENVIO ID_RESPONSABLE  \\\n",
       "3   KSTBC  MARCOS MANUEL SANCHEZ PANTOJA      01-Sep            MIV   \n",
       "4   KSTBC   ROLFI FIDEL MANTARI PASTRANA      01-Sep            MIV   \n",
       "7     EXJ   AARON ANIBAL RAMIREZ HERRERA      01-Sep            MIV   \n",
       "8      BC    BETTY ANTONIA SANCHEZ BORDA      01-Sep            MIV   \n",
       "9     EXJ     CARLOS DANIEL SIRLUPU MAZA      01-Sep            MIV   \n",
       "\n",
       "  TIPO_CARTERA       AGENCIA  \n",
       "3    UNSECURED  MORNESE MORA  \n",
       "4    UNSECURED    CLASA MORA  \n",
       "7    UNSECURED    CLASA MORA  \n",
       "8    UNSECURED    CLASA MORA  \n",
       "9    UNSECURED  MORNESE MORA  "
      ]
     },
     "execution_count": 936,
     "metadata": {},
     "output_type": "execute_result"
    }
   ],
   "source": [
    "df_mono = df_base_test[df_base_test['FLAG'] == 1]\n",
    "print(df_mono.shape)\n",
    "df_mono.head(5)"
   ]
  },
  {
   "cell_type": "code",
   "execution_count": 937,
   "metadata": {},
   "outputs": [
    {
     "data": {
      "text/plain": [
       "348"
      ]
     },
     "execution_count": 937,
     "metadata": {},
     "output_type": "execute_result"
    }
   ],
   "source": [
    "mono_count = df_mono.shape[0]\n",
    "mono_count"
   ]
  },
  {
   "cell_type": "code",
   "execution_count": 938,
   "metadata": {},
   "outputs": [
    {
     "data": {
      "text/plain": [
       "TIPO_CARTERA\n",
       "UNSECURED    326\n",
       "SECURED       22\n",
       "Name: count, dtype: int64"
      ]
     },
     "execution_count": 938,
     "metadata": {},
     "output_type": "execute_result"
    }
   ],
   "source": [
    "df_mono['TIPO_CARTERA'].value_counts()"
   ]
  },
  {
   "cell_type": "code",
   "execution_count": 939,
   "metadata": {},
   "outputs": [
    {
     "data": {
      "text/plain": [
       "TIPO_FONDO\n",
       "NULL        337\n",
       "REACTIVA     11\n",
       "Name: count, dtype: int64"
      ]
     },
     "execution_count": 939,
     "metadata": {},
     "output_type": "execute_result"
    }
   ],
   "source": [
    "df_mono['TIPO_FONDO'].value_counts()"
   ]
  },
  {
   "cell_type": "code",
   "execution_count": 940,
   "metadata": {},
   "outputs": [
    {
     "data": {
      "text/plain": [
       "TIPO_CARTERA  TIPO_FONDO\n",
       "UNSECURED     NULL          319\n",
       "SECURED       NULL           18\n",
       "UNSECURED     REACTIVA        7\n",
       "SECURED       REACTIVA        4\n",
       "Name: count, dtype: int64"
      ]
     },
     "execution_count": 940,
     "metadata": {},
     "output_type": "execute_result"
    }
   ],
   "source": [
    "df_mono[['TIPO_CARTERA', 'TIPO_FONDO']].value_counts()"
   ]
  },
  {
   "cell_type": "code",
   "execution_count": 941,
   "metadata": {},
   "outputs": [],
   "source": [
    "#################### MONO REACTIVA ####################"
   ]
  },
  {
   "cell_type": "code",
   "execution_count": 942,
   "metadata": {},
   "outputs": [
    {
     "name": "stdout",
     "output_type": "stream",
     "text": [
      "(7, 17)\n"
     ]
    },
    {
     "data": {
      "text/html": [
       "<div>\n",
       "<style scoped>\n",
       "    .dataframe tbody tr th:only-of-type {\n",
       "        vertical-align: middle;\n",
       "    }\n",
       "\n",
       "    .dataframe tbody tr th {\n",
       "        vertical-align: top;\n",
       "    }\n",
       "\n",
       "    .dataframe thead th {\n",
       "        text-align: right;\n",
       "    }\n",
       "</style>\n",
       "<table border=\"1\" class=\"dataframe\">\n",
       "  <thead>\n",
       "    <tr style=\"text-align: right;\">\n",
       "      <th></th>\n",
       "      <th>FECHA</th>\n",
       "      <th>CC</th>\n",
       "      <th>CLAVSERV</th>\n",
       "      <th>CENTROPAGO</th>\n",
       "      <th>IMPORTE</th>\n",
       "      <th>MONEDA</th>\n",
       "      <th>NOMBRE</th>\n",
       "      <th>ESTADO</th>\n",
       "      <th>FLAG</th>\n",
       "      <th>CONTRATO</th>\n",
       "      <th>TIPO_FONDO</th>\n",
       "      <th>CARTERA</th>\n",
       "      <th>NOMBRE_CLIENTE</th>\n",
       "      <th>FECHA_ENVIO</th>\n",
       "      <th>ID_RESPONSABLE</th>\n",
       "      <th>TIPO_CARTERA</th>\n",
       "      <th>AGENCIA</th>\n",
       "    </tr>\n",
       "  </thead>\n",
       "  <tbody>\n",
       "    <tr>\n",
       "      <th>0</th>\n",
       "      <td>2024-08-28</td>\n",
       "      <td>22357991</td>\n",
       "      <td>00248</td>\n",
       "      <td>260</td>\n",
       "      <td>3000.0</td>\n",
       "      <td>PEN</td>\n",
       "      <td>ANIOR IMPORT MEDIC EIRL...</td>\n",
       "      <td>P</td>\n",
       "      <td>1</td>\n",
       "      <td>001102609600335431</td>\n",
       "      <td>REACTIVA</td>\n",
       "      <td>BC</td>\n",
       "      <td>ANIOR IMPORT MEDIC EIRL</td>\n",
       "      <td>01-Sep</td>\n",
       "      <td>MIV</td>\n",
       "      <td>UNSECURED</td>\n",
       "      <td>ASESCOM RJ</td>\n",
       "    </tr>\n",
       "    <tr>\n",
       "      <th>1</th>\n",
       "      <td>2024-08-28</td>\n",
       "      <td>24748534</td>\n",
       "      <td>00248</td>\n",
       "      <td>643</td>\n",
       "      <td>4000.0</td>\n",
       "      <td>PEN</td>\n",
       "      <td>JUAN ABEL ZAVALA AGUILAR</td>\n",
       "      <td>P</td>\n",
       "      <td>1</td>\n",
       "      <td>001106439600068567</td>\n",
       "      <td>REACTIVA</td>\n",
       "      <td>BC</td>\n",
       "      <td>INVERSIONES Y MULTISERVICIOS GRISEL SAC</td>\n",
       "      <td>01-Sep</td>\n",
       "      <td>MIV</td>\n",
       "      <td>UNSECURED</td>\n",
       "      <td>CLASA MORA</td>\n",
       "    </tr>\n",
       "    <tr>\n",
       "      <th>2</th>\n",
       "      <td>2024-08-28</td>\n",
       "      <td>25625797</td>\n",
       "      <td>00248</td>\n",
       "      <td>177</td>\n",
       "      <td>500.0</td>\n",
       "      <td>PEN</td>\n",
       "      <td>MARTIN TOLENTINO ILUMINACION PROFESIONA.</td>\n",
       "      <td>P</td>\n",
       "      <td>1</td>\n",
       "      <td>001101759600228463</td>\n",
       "      <td>REACTIVA</td>\n",
       "      <td>BC</td>\n",
       "      <td>MARTIN TOLENTINO ILUMINACION PROFESIONALEIRL</td>\n",
       "      <td>01-Sep</td>\n",
       "      <td>MIV</td>\n",
       "      <td>UNSECURED</td>\n",
       "      <td>CLASA MORA</td>\n",
       "    </tr>\n",
       "    <tr>\n",
       "      <th>3</th>\n",
       "      <td>2024-08-28</td>\n",
       "      <td>26762974</td>\n",
       "      <td>00248</td>\n",
       "      <td>228</td>\n",
       "      <td>1500.0</td>\n",
       "      <td>PEN</td>\n",
       "      <td>DISTRIBUCIONES Y SERVICIOS DDYMM CONSTR,</td>\n",
       "      <td>P</td>\n",
       "      <td>1</td>\n",
       "      <td>001102289600352366</td>\n",
       "      <td>REACTIVA</td>\n",
       "      <td>BC</td>\n",
       "      <td>DISTRIBUCIONES &amp; SERVICIOS DDYMM CONSTRUYE SRL</td>\n",
       "      <td>01-Sep</td>\n",
       "      <td>MIV</td>\n",
       "      <td>UNSECURED</td>\n",
       "      <td>ASESCOM RJ</td>\n",
       "    </tr>\n",
       "    <tr>\n",
       "      <th>4</th>\n",
       "      <td>2024-08-28</td>\n",
       "      <td>26959068</td>\n",
       "      <td>00248</td>\n",
       "      <td>628</td>\n",
       "      <td>1500.0</td>\n",
       "      <td>PEN</td>\n",
       "      <td>OSCAR LLANCO INGARUCA</td>\n",
       "      <td>P</td>\n",
       "      <td>1</td>\n",
       "      <td>001106289600038682</td>\n",
       "      <td>REACTIVA</td>\n",
       "      <td>BC</td>\n",
       "      <td>OSCAR ANSELMO LLANCO INGARUCA</td>\n",
       "      <td>01-Sep</td>\n",
       "      <td>MIV</td>\n",
       "      <td>UNSECURED</td>\n",
       "      <td>ASESCOM RJ</td>\n",
       "    </tr>\n",
       "  </tbody>\n",
       "</table>\n",
       "</div>"
      ],
      "text/plain": [
       "        FECHA        CC CLAVSERV  CENTROPAGO  IMPORTE MONEDA  \\\n",
       "0  2024-08-28  22357991    00248         260   3000.0    PEN   \n",
       "1  2024-08-28  24748534    00248         643   4000.0    PEN   \n",
       "2  2024-08-28  25625797    00248         177    500.0    PEN   \n",
       "3  2024-08-28  26762974    00248         228   1500.0    PEN   \n",
       "4  2024-08-28  26959068    00248         628   1500.0    PEN   \n",
       "\n",
       "                                     NOMBRE ESTADO  FLAG            CONTRATO  \\\n",
       "0                ANIOR IMPORT MEDIC EIRL...      P     1  001102609600335431   \n",
       "1                  JUAN ABEL ZAVALA AGUILAR      P     1  001106439600068567   \n",
       "2  MARTIN TOLENTINO ILUMINACION PROFESIONA.      P     1  001101759600228463   \n",
       "3  DISTRIBUCIONES Y SERVICIOS DDYMM CONSTR,      P     1  001102289600352366   \n",
       "4                     OSCAR LLANCO INGARUCA      P     1  001106289600038682   \n",
       "\n",
       "  TIPO_FONDO CARTERA                                  NOMBRE_CLIENTE  \\\n",
       "0   REACTIVA      BC                         ANIOR IMPORT MEDIC EIRL   \n",
       "1   REACTIVA      BC         INVERSIONES Y MULTISERVICIOS GRISEL SAC   \n",
       "2   REACTIVA      BC    MARTIN TOLENTINO ILUMINACION PROFESIONALEIRL   \n",
       "3   REACTIVA      BC  DISTRIBUCIONES & SERVICIOS DDYMM CONSTRUYE SRL   \n",
       "4   REACTIVA      BC                   OSCAR ANSELMO LLANCO INGARUCA   \n",
       "\n",
       "  FECHA_ENVIO ID_RESPONSABLE TIPO_CARTERA     AGENCIA  \n",
       "0      01-Sep            MIV    UNSECURED  ASESCOM RJ  \n",
       "1      01-Sep            MIV    UNSECURED  CLASA MORA  \n",
       "2      01-Sep            MIV    UNSECURED  CLASA MORA  \n",
       "3      01-Sep            MIV    UNSECURED  ASESCOM RJ  \n",
       "4      01-Sep            MIV    UNSECURED  ASESCOM RJ  "
      ]
     },
     "execution_count": 942,
     "metadata": {},
     "output_type": "execute_result"
    }
   ],
   "source": [
    "df_reactiva = df_mono[(df_mono['TIPO_CARTERA'] == 'UNSECURED') & (df_mono['TIPO_FONDO'] != 'NULL')]\n",
    "df_reactiva.sort_values(by=['CC'], inplace=True)\n",
    "df_reactiva.reset_index(drop=True, inplace=True)\n",
    "print(df_reactiva.shape)\n",
    "df_reactiva.head(5)"
   ]
  },
  {
   "cell_type": "code",
   "execution_count": 943,
   "metadata": {},
   "outputs": [
    {
     "data": {
      "text/plain": [
       "7"
      ]
     },
     "execution_count": 943,
     "metadata": {},
     "output_type": "execute_result"
    }
   ],
   "source": [
    "reactiva_count = df_reactiva.shape[0]\n",
    "reactiva_count"
   ]
  },
  {
   "cell_type": "code",
   "execution_count": 944,
   "metadata": {},
   "outputs": [],
   "source": [
    "df_reactiva.to_excel(reactiva, index=False)"
   ]
  },
  {
   "cell_type": "code",
   "execution_count": 945,
   "metadata": {},
   "outputs": [],
   "source": [
    "#################### FIN REACTIVA ####################"
   ]
  },
  {
   "cell_type": "code",
   "execution_count": 946,
   "metadata": {},
   "outputs": [
    {
     "data": {
      "text/plain": [
       "22"
      ]
     },
     "execution_count": 946,
     "metadata": {},
     "output_type": "execute_result"
    }
   ],
   "source": [
    "df_no_mono = df_mono[(df_mono['TIPO_CARTERA'] != 'UNSECURED')]\n",
    "no_mono_count = df_no_mono.shape[0]\n",
    "no_mono_count"
   ]
  },
  {
   "cell_type": "code",
   "execution_count": 947,
   "metadata": {},
   "outputs": [
    {
     "name": "stdout",
     "output_type": "stream",
     "text": [
      "(319, 16)\n"
     ]
    },
    {
     "data": {
      "text/html": [
       "<div>\n",
       "<style scoped>\n",
       "    .dataframe tbody tr th:only-of-type {\n",
       "        vertical-align: middle;\n",
       "    }\n",
       "\n",
       "    .dataframe tbody tr th {\n",
       "        vertical-align: top;\n",
       "    }\n",
       "\n",
       "    .dataframe thead th {\n",
       "        text-align: right;\n",
       "    }\n",
       "</style>\n",
       "<table border=\"1\" class=\"dataframe\">\n",
       "  <thead>\n",
       "    <tr style=\"text-align: right;\">\n",
       "      <th></th>\n",
       "      <th>FECHA</th>\n",
       "      <th>CC</th>\n",
       "      <th>CLAVSERV</th>\n",
       "      <th>IMPORTE</th>\n",
       "      <th>MONEDA</th>\n",
       "      <th>NOMBRE</th>\n",
       "      <th>ESTADO</th>\n",
       "      <th>FLAG</th>\n",
       "      <th>CONTRATO</th>\n",
       "      <th>NOMBRE_CLIENTE</th>\n",
       "      <th>FECHA_ENVIO</th>\n",
       "      <th>ID_RESPONSABLE</th>\n",
       "      <th>TIPO_CARTERA</th>\n",
       "      <th>TIPO_FONDO</th>\n",
       "      <th>CARTERA</th>\n",
       "      <th>AGENCIA</th>\n",
       "    </tr>\n",
       "  </thead>\n",
       "  <tbody>\n",
       "    <tr>\n",
       "      <th>0</th>\n",
       "      <td>2024-08-28</td>\n",
       "      <td>06989136</td>\n",
       "      <td>00248</td>\n",
       "      <td>735.0</td>\n",
       "      <td>PEN</td>\n",
       "      <td>JORGE ROBERTO LOPEZ VINATEA..</td>\n",
       "      <td>P</td>\n",
       "      <td>1</td>\n",
       "      <td>001105045002739250</td>\n",
       "      <td>JORGE ROBERTO LOPEZ VINATEA</td>\n",
       "      <td>01-Sep</td>\n",
       "      <td>MIV</td>\n",
       "      <td>UNSECURED</td>\n",
       "      <td>NULL</td>\n",
       "      <td>KSTBC</td>\n",
       "      <td>MORNESE MORA</td>\n",
       "    </tr>\n",
       "    <tr>\n",
       "      <th>1</th>\n",
       "      <td>2024-08-28</td>\n",
       "      <td>09838775</td>\n",
       "      <td>00248</td>\n",
       "      <td>110.0</td>\n",
       "      <td>PEN</td>\n",
       "      <td>08470561*</td>\n",
       "      <td>P</td>\n",
       "      <td>1</td>\n",
       "      <td>001101745001861173</td>\n",
       "      <td>ESPERANZA ORDINOLA ZEGARRA</td>\n",
       "      <td>01-Sep</td>\n",
       "      <td>MIV</td>\n",
       "      <td>UNSECURED</td>\n",
       "      <td>NULL</td>\n",
       "      <td>EXJ</td>\n",
       "      <td>CLASA MORA</td>\n",
       "    </tr>\n",
       "    <tr>\n",
       "      <th>2</th>\n",
       "      <td>2024-08-28</td>\n",
       "      <td>11193064</td>\n",
       "      <td>00248</td>\n",
       "      <td>1000.0</td>\n",
       "      <td>PEN</td>\n",
       "      <td>CARMEN DEL PILAR CORNEJO</td>\n",
       "      <td>P</td>\n",
       "      <td>1</td>\n",
       "      <td>001105045001029721</td>\n",
       "      <td>CARMEN DEL PILAR CORNEJO TELLO</td>\n",
       "      <td>01-Sep</td>\n",
       "      <td>MIV</td>\n",
       "      <td>UNSECURED</td>\n",
       "      <td>NULL</td>\n",
       "      <td>KSTBC</td>\n",
       "      <td>ASESCOM RJ</td>\n",
       "    </tr>\n",
       "    <tr>\n",
       "      <th>3</th>\n",
       "      <td>2024-08-28</td>\n",
       "      <td>11929451</td>\n",
       "      <td>00248</td>\n",
       "      <td>96.0</td>\n",
       "      <td>PEN</td>\n",
       "      <td>YENNY ROXANA STUVA LOPEZ</td>\n",
       "      <td>P</td>\n",
       "      <td>1</td>\n",
       "      <td>001103585001566163</td>\n",
       "      <td>YENNY ROXANA STUVA LOPEZ</td>\n",
       "      <td>01-Sep</td>\n",
       "      <td>MIV</td>\n",
       "      <td>UNSECURED</td>\n",
       "      <td>NULL</td>\n",
       "      <td>KSTBC</td>\n",
       "      <td>MORNESE MORA</td>\n",
       "    </tr>\n",
       "    <tr>\n",
       "      <th>4</th>\n",
       "      <td>2024-08-28</td>\n",
       "      <td>13844240</td>\n",
       "      <td>00248</td>\n",
       "      <td>2100.0</td>\n",
       "      <td>PEN</td>\n",
       "      <td>JAIME KARLO BEDOYA MENDOZA - 29628878.</td>\n",
       "      <td>P</td>\n",
       "      <td>1</td>\n",
       "      <td>001105045003931503</td>\n",
       "      <td>JAIME KARLO BEDOYA MENDOZA</td>\n",
       "      <td>01-Sep</td>\n",
       "      <td>MIV</td>\n",
       "      <td>UNSECURED</td>\n",
       "      <td>NULL</td>\n",
       "      <td>KSTBC</td>\n",
       "      <td>ASESCOM RJ</td>\n",
       "    </tr>\n",
       "  </tbody>\n",
       "</table>\n",
       "</div>"
      ],
      "text/plain": [
       "        FECHA        CC CLAVSERV  IMPORTE MONEDA  \\\n",
       "0  2024-08-28  06989136    00248    735.0    PEN   \n",
       "1  2024-08-28  09838775    00248    110.0    PEN   \n",
       "2  2024-08-28  11193064    00248   1000.0    PEN   \n",
       "3  2024-08-28  11929451    00248     96.0    PEN   \n",
       "4  2024-08-28  13844240    00248   2100.0    PEN   \n",
       "\n",
       "                                   NOMBRE ESTADO  FLAG            CONTRATO  \\\n",
       "0           JORGE ROBERTO LOPEZ VINATEA..      P     1  001105045002739250   \n",
       "1                               08470561*      P     1  001101745001861173   \n",
       "2                CARMEN DEL PILAR CORNEJO      P     1  001105045001029721   \n",
       "3                YENNY ROXANA STUVA LOPEZ      P     1  001103585001566163   \n",
       "4  JAIME KARLO BEDOYA MENDOZA - 29628878.      P     1  001105045003931503   \n",
       "\n",
       "                   NOMBRE_CLIENTE FECHA_ENVIO ID_RESPONSABLE TIPO_CARTERA  \\\n",
       "0     JORGE ROBERTO LOPEZ VINATEA      01-Sep            MIV    UNSECURED   \n",
       "1      ESPERANZA ORDINOLA ZEGARRA      01-Sep            MIV    UNSECURED   \n",
       "2  CARMEN DEL PILAR CORNEJO TELLO      01-Sep            MIV    UNSECURED   \n",
       "3        YENNY ROXANA STUVA LOPEZ      01-Sep            MIV    UNSECURED   \n",
       "4      JAIME KARLO BEDOYA MENDOZA      01-Sep            MIV    UNSECURED   \n",
       "\n",
       "  TIPO_FONDO CARTERA       AGENCIA  \n",
       "0       NULL   KSTBC  MORNESE MORA  \n",
       "1       NULL     EXJ    CLASA MORA  \n",
       "2       NULL   KSTBC    ASESCOM RJ  \n",
       "3       NULL   KSTBC  MORNESE MORA  \n",
       "4       NULL   KSTBC    ASESCOM RJ  "
      ]
     },
     "execution_count": 947,
     "metadata": {},
     "output_type": "execute_result"
    }
   ],
   "source": [
    "df_mono = df_mono[df_mono['TIPO_CARTERA'] == 'UNSECURED']\n",
    "df_mono = df_mono[df_mono['TIPO_FONDO'] == 'NULL']\n",
    "\n",
    "cols_mono = ['FECHA', 'CC', 'CLAVSERV', 'IMPORTE', 'MONEDA', 'NOMBRE', 'ESTADO', 'FLAG', 'CONTRATO', 'NOMBRE_CLIENTE', 'FECHA_ENVIO', 'ID_RESPONSABLE', 'TIPO_CARTERA', 'TIPO_FONDO', 'CARTERA', 'AGENCIA']\n",
    "df_mono = df_mono[cols_mono]\n",
    "\n",
    "df_mono.sort_values(by=['CC'], inplace=True)\n",
    "df_mono.reset_index(drop=True, inplace=True)\n",
    "\n",
    "print(df_mono.shape)\n",
    "df_mono.head(5)"
   ]
  },
  {
   "cell_type": "code",
   "execution_count": 948,
   "metadata": {},
   "outputs": [],
   "source": [
    "df_mono.to_excel(monoproducto, index=False)"
   ]
  },
  {
   "cell_type": "code",
   "execution_count": 949,
   "metadata": {},
   "outputs": [
    {
     "data": {
      "text/plain": [
       "319"
      ]
     },
     "execution_count": 949,
     "metadata": {},
     "output_type": "execute_result"
    }
   ],
   "source": [
    "mono_count_final = df_mono.shape[0]\n",
    "mono_count_final"
   ]
  },
  {
   "cell_type": "code",
   "execution_count": 950,
   "metadata": {},
   "outputs": [
    {
     "name": "stdout",
     "output_type": "stream",
     "text": [
      "MONOPRODUCTO OK\n"
     ]
    }
   ],
   "source": [
    "if mono_count == mono_count_final + reactiva_count + no_mono_count:\n",
    "    print('MONOPRODUCTO OK')\n",
    "else:\n",
    "    print('MONOPRODUCTO ERROR')"
   ]
  },
  {
   "cell_type": "code",
   "execution_count": 951,
   "metadata": {},
   "outputs": [],
   "source": [
    "#################### FIN MONOPRODUCTO ####################"
   ]
  },
  {
   "cell_type": "code",
   "execution_count": 952,
   "metadata": {},
   "outputs": [],
   "source": [
    "#################### MULTIPRODUCTO ####################"
   ]
  },
  {
   "cell_type": "code",
   "execution_count": 953,
   "metadata": {},
   "outputs": [
    {
     "name": "stdout",
     "output_type": "stream",
     "text": [
      "(82, 17)\n"
     ]
    },
    {
     "data": {
      "text/html": [
       "<div>\n",
       "<style scoped>\n",
       "    .dataframe tbody tr th:only-of-type {\n",
       "        vertical-align: middle;\n",
       "    }\n",
       "\n",
       "    .dataframe tbody tr th {\n",
       "        vertical-align: top;\n",
       "    }\n",
       "\n",
       "    .dataframe thead th {\n",
       "        text-align: right;\n",
       "    }\n",
       "</style>\n",
       "<table border=\"1\" class=\"dataframe\">\n",
       "  <thead>\n",
       "    <tr style=\"text-align: right;\">\n",
       "      <th></th>\n",
       "      <th>FECHA</th>\n",
       "      <th>CC</th>\n",
       "      <th>CLAVSERV</th>\n",
       "      <th>CENTROPAGO</th>\n",
       "      <th>IMPORTE</th>\n",
       "      <th>MONEDA</th>\n",
       "      <th>NOMBRE</th>\n",
       "      <th>ESTADO</th>\n",
       "      <th>FLAG</th>\n",
       "      <th>CONTRATO</th>\n",
       "      <th>TIPO_FONDO</th>\n",
       "      <th>CARTERA</th>\n",
       "      <th>NOMBRE_CLIENTE</th>\n",
       "      <th>FECHA_ENVIO</th>\n",
       "      <th>ID_RESPONSABLE</th>\n",
       "      <th>TIPO_CARTERA</th>\n",
       "      <th>AGENCIA</th>\n",
       "    </tr>\n",
       "  </thead>\n",
       "  <tbody>\n",
       "    <tr>\n",
       "      <th>0</th>\n",
       "      <td>2024-08-28</td>\n",
       "      <td>29251432</td>\n",
       "      <td>00248</td>\n",
       "      <td>321</td>\n",
       "      <td>3496.67</td>\n",
       "      <td>PEN</td>\n",
       "      <td>EMPRESA GUIAME SE･OR DE MURUHUAY EIRL</td>\n",
       "      <td>P</td>\n",
       "      <td>2</td>\n",
       "      <td>001103219600546204</td>\n",
       "      <td>REACTIVA</td>\n",
       "      <td>BC</td>\n",
       "      <td>EMPRESA GUIAME SEÐORDE MURUHUAY EIRL</td>\n",
       "      <td>01-Sep</td>\n",
       "      <td>MIV</td>\n",
       "      <td>UNSECURED</td>\n",
       "      <td>MORNESE MORA</td>\n",
       "    </tr>\n",
       "    <tr>\n",
       "      <th>5</th>\n",
       "      <td>2024-08-28</td>\n",
       "      <td>26736347</td>\n",
       "      <td>00248</td>\n",
       "      <td>113</td>\n",
       "      <td>2000.00</td>\n",
       "      <td>PEN</td>\n",
       "      <td>A &amp; W INDUSTRIAL SAC</td>\n",
       "      <td>P</td>\n",
       "      <td>2</td>\n",
       "      <td>001101039600277054</td>\n",
       "      <td>REACTIVA</td>\n",
       "      <td>BC</td>\n",
       "      <td>A &amp; W INDUSTRIAL SAC</td>\n",
       "      <td>01-Sep</td>\n",
       "      <td>MIV</td>\n",
       "      <td>UNSECURED</td>\n",
       "      <td>MORNESE MORA</td>\n",
       "    </tr>\n",
       "    <tr>\n",
       "      <th>11</th>\n",
       "      <td>2024-08-28</td>\n",
       "      <td>26350069</td>\n",
       "      <td>00248</td>\n",
       "      <td>281</td>\n",
       "      <td>300.00</td>\n",
       "      <td>PEN</td>\n",
       "      <td>CARLOS AURELIO ADRIANZEN DELGADO..</td>\n",
       "      <td>P</td>\n",
       "      <td>2</td>\n",
       "      <td>001108149603189763</td>\n",
       "      <td>NULL</td>\n",
       "      <td>BC</td>\n",
       "      <td>CARLOS AURELIO ADRIANZEN DELGADO</td>\n",
       "      <td>01-Sep</td>\n",
       "      <td>MIV</td>\n",
       "      <td>UNSECURED</td>\n",
       "      <td>ASESCOM RJ</td>\n",
       "    </tr>\n",
       "    <tr>\n",
       "      <th>19</th>\n",
       "      <td>2024-08-28</td>\n",
       "      <td>21785140</td>\n",
       "      <td>00248</td>\n",
       "      <td>237</td>\n",
       "      <td>1830.00</td>\n",
       "      <td>PEN</td>\n",
       "      <td>AUGUSTO VEGA PANTOJA</td>\n",
       "      <td>P</td>\n",
       "      <td>3</td>\n",
       "      <td>001108149602931253</td>\n",
       "      <td>NULL</td>\n",
       "      <td>EXJ</td>\n",
       "      <td>AUGUSTO JOSE VEGA PANTOJA</td>\n",
       "      <td>01-Sep</td>\n",
       "      <td>MIV</td>\n",
       "      <td>UNSECURED</td>\n",
       "      <td>ASESCOM RJ</td>\n",
       "    </tr>\n",
       "    <tr>\n",
       "      <th>22</th>\n",
       "      <td>2024-08-28</td>\n",
       "      <td>30518871</td>\n",
       "      <td>00248</td>\n",
       "      <td>621</td>\n",
       "      <td>3688.00</td>\n",
       "      <td>PEN</td>\n",
       "      <td>AGROINDUSTRIAS MOKEWUA SOCIEDA</td>\n",
       "      <td>P</td>\n",
       "      <td>4</td>\n",
       "      <td>001104379601425983</td>\n",
       "      <td>NULL</td>\n",
       "      <td>KSTBC</td>\n",
       "      <td>AGROINDUSTRIAS MOKEWUA SOCIEDAD COMERCIAL DE R...</td>\n",
       "      <td>01-Sep</td>\n",
       "      <td>MIV</td>\n",
       "      <td>UNSECURED</td>\n",
       "      <td>ASESCOM RJ</td>\n",
       "    </tr>\n",
       "  </tbody>\n",
       "</table>\n",
       "</div>"
      ],
      "text/plain": [
       "         FECHA        CC CLAVSERV  CENTROPAGO  IMPORTE MONEDA  \\\n",
       "0   2024-08-28  29251432    00248         321  3496.67    PEN   \n",
       "5   2024-08-28  26736347    00248         113  2000.00    PEN   \n",
       "11  2024-08-28  26350069    00248         281   300.00    PEN   \n",
       "19  2024-08-28  21785140    00248         237  1830.00    PEN   \n",
       "22  2024-08-28  30518871    00248         621  3688.00    PEN   \n",
       "\n",
       "                                   NOMBRE ESTADO  FLAG            CONTRATO  \\\n",
       "0   EMPRESA GUIAME SE･OR DE MURUHUAY EIRL      P     2  001103219600546204   \n",
       "5                    A & W INDUSTRIAL SAC      P     2  001101039600277054   \n",
       "11     CARLOS AURELIO ADRIANZEN DELGADO..      P     2  001108149603189763   \n",
       "19                   AUGUSTO VEGA PANTOJA      P     3  001108149602931253   \n",
       "22         AGROINDUSTRIAS MOKEWUA SOCIEDA      P     4  001104379601425983   \n",
       "\n",
       "   TIPO_FONDO CARTERA                                     NOMBRE_CLIENTE  \\\n",
       "0    REACTIVA      BC               EMPRESA GUIAME SEÐORDE MURUHUAY EIRL   \n",
       "5    REACTIVA      BC                               A & W INDUSTRIAL SAC   \n",
       "11       NULL      BC                   CARLOS AURELIO ADRIANZEN DELGADO   \n",
       "19       NULL     EXJ                          AUGUSTO JOSE VEGA PANTOJA   \n",
       "22       NULL   KSTBC  AGROINDUSTRIAS MOKEWUA SOCIEDAD COMERCIAL DE R...   \n",
       "\n",
       "   FECHA_ENVIO ID_RESPONSABLE TIPO_CARTERA       AGENCIA  \n",
       "0       01-Sep            MIV    UNSECURED  MORNESE MORA  \n",
       "5       01-Sep            MIV    UNSECURED  MORNESE MORA  \n",
       "11      01-Sep            MIV    UNSECURED    ASESCOM RJ  \n",
       "19      01-Sep            MIV    UNSECURED    ASESCOM RJ  \n",
       "22      01-Sep            MIV    UNSECURED    ASESCOM RJ  "
      ]
     },
     "execution_count": 953,
     "metadata": {},
     "output_type": "execute_result"
    }
   ],
   "source": [
    "df_multi = df_base_test[df_base_test['FLAG'] > 1].copy()\n",
    "print(df_multi.shape)\n",
    "df_multi.head(5)"
   ]
  },
  {
   "cell_type": "code",
   "execution_count": 954,
   "metadata": {},
   "outputs": [
    {
     "data": {
      "text/plain": [
       "82"
      ]
     },
     "execution_count": 954,
     "metadata": {},
     "output_type": "execute_result"
    }
   ],
   "source": [
    "multi_count = df_multi.shape[0]\n",
    "multi_count"
   ]
  },
  {
   "cell_type": "code",
   "execution_count": 955,
   "metadata": {},
   "outputs": [
    {
     "data": {
      "text/plain": [
       "TIPO_CARTERA\n",
       "UNSECURED    78\n",
       "SECURED       4\n",
       "Name: count, dtype: int64"
      ]
     },
     "execution_count": 955,
     "metadata": {},
     "output_type": "execute_result"
    }
   ],
   "source": [
    "df_multi['TIPO_CARTERA'].value_counts()"
   ]
  },
  {
   "cell_type": "code",
   "execution_count": 956,
   "metadata": {},
   "outputs": [
    {
     "data": {
      "text/plain": [
       "TIPO_FONDO\n",
       "NULL        72\n",
       "REACTIVA    10\n",
       "Name: count, dtype: int64"
      ]
     },
     "execution_count": 956,
     "metadata": {},
     "output_type": "execute_result"
    }
   ],
   "source": [
    "df_multi['TIPO_FONDO'].value_counts()"
   ]
  },
  {
   "cell_type": "code",
   "execution_count": 957,
   "metadata": {},
   "outputs": [
    {
     "data": {
      "text/plain": [
       "4"
      ]
     },
     "execution_count": 957,
     "metadata": {},
     "output_type": "execute_result"
    }
   ],
   "source": [
    "df_no_multi = df_multi[(df_multi['TIPO_CARTERA'] != 'UNSECURED')]\n",
    "no_multi_count = df_no_multi.shape[0]\n",
    "no_multi_count"
   ]
  },
  {
   "cell_type": "code",
   "execution_count": 958,
   "metadata": {},
   "outputs": [
    {
     "name": "stdout",
     "output_type": "stream",
     "text": [
      "(78, 14)\n"
     ]
    },
    {
     "data": {
      "text/html": [
       "<div>\n",
       "<style scoped>\n",
       "    .dataframe tbody tr th:only-of-type {\n",
       "        vertical-align: middle;\n",
       "    }\n",
       "\n",
       "    .dataframe tbody tr th {\n",
       "        vertical-align: top;\n",
       "    }\n",
       "\n",
       "    .dataframe thead th {\n",
       "        text-align: right;\n",
       "    }\n",
       "</style>\n",
       "<table border=\"1\" class=\"dataframe\">\n",
       "  <thead>\n",
       "    <tr style=\"text-align: right;\">\n",
       "      <th></th>\n",
       "      <th>FECHA</th>\n",
       "      <th>CC</th>\n",
       "      <th>CLAVSERV</th>\n",
       "      <th>IMPORTE</th>\n",
       "      <th>MONEDA</th>\n",
       "      <th>NOMBRE</th>\n",
       "      <th>ESTADO</th>\n",
       "      <th>FLAG</th>\n",
       "      <th>CONTRATO</th>\n",
       "      <th>TIPO_FONDO</th>\n",
       "      <th>CARTERA</th>\n",
       "      <th>NOMBRE_CLIENTE</th>\n",
       "      <th>FECHA_ENVIO</th>\n",
       "      <th>ID_RESPONSABLE</th>\n",
       "    </tr>\n",
       "  </thead>\n",
       "  <tbody>\n",
       "    <tr>\n",
       "      <th>0</th>\n",
       "      <td>2024-08-28</td>\n",
       "      <td>00669822</td>\n",
       "      <td>00248</td>\n",
       "      <td>500.0</td>\n",
       "      <td>PEN</td>\n",
       "      <td>PRESTAMO28</td>\n",
       "      <td>P</td>\n",
       "      <td>2</td>\n",
       "      <td>None</td>\n",
       "      <td>NULL</td>\n",
       "      <td>None</td>\n",
       "      <td>CARLOS ESCUDERO RIOS</td>\n",
       "      <td>01-Sep</td>\n",
       "      <td>MIV</td>\n",
       "    </tr>\n",
       "    <tr>\n",
       "      <th>1</th>\n",
       "      <td>2024-08-28</td>\n",
       "      <td>11570828</td>\n",
       "      <td>00248</td>\n",
       "      <td>2500.0</td>\n",
       "      <td>PEN</td>\n",
       "      <td>GREGORIO GILMER ROSALES ROJAS</td>\n",
       "      <td>P</td>\n",
       "      <td>2</td>\n",
       "      <td>None</td>\n",
       "      <td>NULL</td>\n",
       "      <td>None</td>\n",
       "      <td>GREGORIO GILMER ROSALES ROJAS</td>\n",
       "      <td>01-Sep</td>\n",
       "      <td>MIV</td>\n",
       "    </tr>\n",
       "    <tr>\n",
       "      <th>2</th>\n",
       "      <td>2024-08-28</td>\n",
       "      <td>20062652</td>\n",
       "      <td>00248</td>\n",
       "      <td>1385.0</td>\n",
       "      <td>PEN</td>\n",
       "      <td>PEDRO ANTONIO HUAPAYA CABRERA</td>\n",
       "      <td>P</td>\n",
       "      <td>2</td>\n",
       "      <td>None</td>\n",
       "      <td>NULL</td>\n",
       "      <td>None</td>\n",
       "      <td>PEDRO ANTONIO HUAPAYA CABRERA</td>\n",
       "      <td>01-Sep</td>\n",
       "      <td>MIV</td>\n",
       "    </tr>\n",
       "    <tr>\n",
       "      <th>3</th>\n",
       "      <td>2024-08-28</td>\n",
       "      <td>20665952</td>\n",
       "      <td>00248</td>\n",
       "      <td>3500.0</td>\n",
       "      <td>PEN</td>\n",
       "      <td>JULIO CESAR ARCE CHIRINOS</td>\n",
       "      <td>P</td>\n",
       "      <td>2</td>\n",
       "      <td>None</td>\n",
       "      <td>NULL</td>\n",
       "      <td>None</td>\n",
       "      <td>JULIO CESARARCECHIRINOS</td>\n",
       "      <td>01-Sep</td>\n",
       "      <td>MIV</td>\n",
       "    </tr>\n",
       "    <tr>\n",
       "      <th>4</th>\n",
       "      <td>2024-08-28</td>\n",
       "      <td>20753079</td>\n",
       "      <td>00248</td>\n",
       "      <td>1000.0</td>\n",
       "      <td>PEN</td>\n",
       "      <td>JUAN JOSE ROMERO PACHECO-22302657</td>\n",
       "      <td>P</td>\n",
       "      <td>3</td>\n",
       "      <td>None</td>\n",
       "      <td>NULL</td>\n",
       "      <td>None</td>\n",
       "      <td>JUAN JOSE ROMERO PACHECO</td>\n",
       "      <td>01-Sep</td>\n",
       "      <td>MIV</td>\n",
       "    </tr>\n",
       "  </tbody>\n",
       "</table>\n",
       "</div>"
      ],
      "text/plain": [
       "        FECHA        CC CLAVSERV  IMPORTE MONEDA  \\\n",
       "0  2024-08-28  00669822    00248    500.0    PEN   \n",
       "1  2024-08-28  11570828    00248   2500.0    PEN   \n",
       "2  2024-08-28  20062652    00248   1385.0    PEN   \n",
       "3  2024-08-28  20665952    00248   3500.0    PEN   \n",
       "4  2024-08-28  20753079    00248   1000.0    PEN   \n",
       "\n",
       "                              NOMBRE ESTADO  FLAG CONTRATO TIPO_FONDO CARTERA  \\\n",
       "0                         PRESTAMO28      P     2     None       NULL    None   \n",
       "1      GREGORIO GILMER ROSALES ROJAS      P     2     None       NULL    None   \n",
       "2      PEDRO ANTONIO HUAPAYA CABRERA      P     2     None       NULL    None   \n",
       "3          JULIO CESAR ARCE CHIRINOS      P     2     None       NULL    None   \n",
       "4  JUAN JOSE ROMERO PACHECO-22302657      P     3     None       NULL    None   \n",
       "\n",
       "                  NOMBRE_CLIENTE FECHA_ENVIO ID_RESPONSABLE  \n",
       "0           CARLOS ESCUDERO RIOS      01-Sep            MIV  \n",
       "1  GREGORIO GILMER ROSALES ROJAS      01-Sep            MIV  \n",
       "2  PEDRO ANTONIO HUAPAYA CABRERA      01-Sep            MIV  \n",
       "3        JULIO CESARARCECHIRINOS      01-Sep            MIV  \n",
       "4       JUAN JOSE ROMERO PACHECO      01-Sep            MIV  "
      ]
     },
     "execution_count": 958,
     "metadata": {},
     "output_type": "execute_result"
    }
   ],
   "source": [
    "df_multi = df_multi[df_multi['TIPO_CARTERA'] == 'UNSECURED']\n",
    "\n",
    "df_multi['CONTRATO'] = None\n",
    "df_multi['TIPO_FONDO'] = None\n",
    "df_multi['CARTERA'] = None\n",
    "\n",
    "cols_multi = ['FECHA', 'CC', 'CLAVSERV', 'IMPORTE', 'MONEDA', 'NOMBRE', 'ESTADO', 'FLAG', 'CONTRATO', 'TIPO_FONDO', 'CARTERA', 'NOMBRE_CLIENTE', 'FECHA_ENVIO', 'ID_RESPONSABLE']\n",
    "df_multi = df_multi[cols_multi]\n",
    "\n",
    "df_multi = df_multi.drop_duplicates(subset=['CC', 'IMPORTE', 'MONEDA', 'NOMBRE'])\n",
    "\n",
    "df_multi.sort_values(by=['CC'], inplace=True)\n",
    "df_multi.reset_index(drop=True, inplace=True)\n",
    "\n",
    "print(df_multi.shape)\n",
    "df_multi.head(5)"
   ]
  },
  {
   "cell_type": "code",
   "execution_count": 959,
   "metadata": {},
   "outputs": [],
   "source": [
    "df_multi.to_excel(multiproducto, index=False)"
   ]
  },
  {
   "cell_type": "code",
   "execution_count": 960,
   "metadata": {},
   "outputs": [
    {
     "data": {
      "text/plain": [
       "78"
      ]
     },
     "execution_count": 960,
     "metadata": {},
     "output_type": "execute_result"
    }
   ],
   "source": [
    "multi_count_final = df_multi.shape[0]\n",
    "multi_count_final"
   ]
  },
  {
   "cell_type": "code",
   "execution_count": 961,
   "metadata": {},
   "outputs": [
    {
     "name": "stdout",
     "output_type": "stream",
     "text": [
      "MULTIPRODUCTO OK\n"
     ]
    }
   ],
   "source": [
    "if multi_count == multi_count_final + no_multi_count:\n",
    "    print('MULTIPRODUCTO OK')\n",
    "else:\n",
    "    print('MULTIPRODUCTO ERROR')"
   ]
  },
  {
   "cell_type": "code",
   "execution_count": 962,
   "metadata": {},
   "outputs": [],
   "source": [
    "#################### FIN MULTIPRODUCTO ####################"
   ]
  },
  {
   "cell_type": "code",
   "execution_count": 963,
   "metadata": {},
   "outputs": [],
   "source": [
    "#################### NO ENVIADOS ####################"
   ]
  },
  {
   "cell_type": "code",
   "execution_count": 964,
   "metadata": {},
   "outputs": [
    {
     "name": "stdout",
     "output_type": "stream",
     "text": [
      "No enviados: 55\n",
      "Enviados: 404\n",
      "Total: 459\n"
     ]
    }
   ],
   "source": [
    "no_eviados = no_mono_count + no_multi_count + no_flag_count\n",
    "enviados = mono_count_final + multi_count_final + reactiva_count\n",
    "\n",
    "print('No enviados:', no_eviados)\n",
    "print('Enviados:', enviados)\n",
    "print('Total:', no_eviados + enviados)"
   ]
  },
  {
   "cell_type": "code",
   "execution_count": 965,
   "metadata": {},
   "outputs": [
    {
     "name": "stdout",
     "output_type": "stream",
     "text": [
      "REGISTROS OK\n"
     ]
    }
   ],
   "source": [
    "if base_count == enviados + no_eviados:\n",
    "    print('REGISTROS OK')\n",
    "else:\n",
    "    print('REGISTROS ERROR')"
   ]
  },
  {
   "cell_type": "code",
   "execution_count": 966,
   "metadata": {},
   "outputs": [
    {
     "name": "stdout",
     "output_type": "stream",
     "text": [
      "Index(['FECHA', 'CC', 'CLAVSERV', 'CENTROPAGO', 'IMPORTE', 'MONEDA', 'NOMBRE',\n",
      "       'ESTADO', 'FLAG', 'CONTRATO', 'TIPO_FONDO', 'CARTERA', 'NOMBRE_CLIENTE',\n",
      "       'FECHA_ENVIO', 'ID_RESPONSABLE', 'TIPO_CARTERA', 'AGENCIA'],\n",
      "      dtype='object')\n",
      "Index(['FECHA', 'CC', 'CLAVSERV', 'CENTROPAGO', 'IMPORTE', 'MONEDA', 'NOMBRE',\n",
      "       'ESTADO', 'FLAG', 'CONTRATO', 'TIPO_FONDO', 'CARTERA', 'NOMBRE_CLIENTE',\n",
      "       'FECHA_ENVIO', 'ID_RESPONSABLE', 'TIPO_CARTERA', 'AGENCIA'],\n",
      "      dtype='object')\n",
      "Index(['FECHA', 'CC', 'CLAVSERV', 'CENTROPAGO', 'IMPORTE', 'MONEDA', 'NOMBRE',\n",
      "       'ESTADO', 'FLAG', 'CONTRATO', 'TIPO_FONDO', 'CARTERA', 'NOMBRE_CLIENTE',\n",
      "       'FECHA_ENVIO', 'ID_RESPONSABLE', 'TIPO_CARTERA', 'AGENCIA'],\n",
      "      dtype='object')\n"
     ]
    }
   ],
   "source": [
    "print(df_no_mono.columns)\n",
    "print(df_no_multi.columns)\n",
    "print(df_base_no_flag.columns)"
   ]
  },
  {
   "cell_type": "code",
   "execution_count": 967,
   "metadata": {},
   "outputs": [
    {
     "name": "stdout",
     "output_type": "stream",
     "text": [
      "(55, 17)\n",
      "FECHA              object\n",
      "CC                 object\n",
      "CLAVSERV           object\n",
      "CENTROPAGO          int64\n",
      "IMPORTE           float64\n",
      "MONEDA             object\n",
      "NOMBRE             object\n",
      "ESTADO             object\n",
      "FLAG               object\n",
      "CONTRATO           object\n",
      "TIPO_FONDO         object\n",
      "CARTERA            object\n",
      "NOMBRE_CLIENTE     object\n",
      "FECHA_ENVIO        object\n",
      "ID_RESPONSABLE     object\n",
      "TIPO_CARTERA       object\n",
      "AGENCIA            object\n",
      "dtype: object\n"
     ]
    },
    {
     "data": {
      "text/html": [
       "<div>\n",
       "<style scoped>\n",
       "    .dataframe tbody tr th:only-of-type {\n",
       "        vertical-align: middle;\n",
       "    }\n",
       "\n",
       "    .dataframe tbody tr th {\n",
       "        vertical-align: top;\n",
       "    }\n",
       "\n",
       "    .dataframe thead th {\n",
       "        text-align: right;\n",
       "    }\n",
       "</style>\n",
       "<table border=\"1\" class=\"dataframe\">\n",
       "  <thead>\n",
       "    <tr style=\"text-align: right;\">\n",
       "      <th></th>\n",
       "      <th>FECHA</th>\n",
       "      <th>CC</th>\n",
       "      <th>CLAVSERV</th>\n",
       "      <th>CENTROPAGO</th>\n",
       "      <th>IMPORTE</th>\n",
       "      <th>MONEDA</th>\n",
       "      <th>NOMBRE</th>\n",
       "      <th>ESTADO</th>\n",
       "      <th>FLAG</th>\n",
       "      <th>CONTRATO</th>\n",
       "      <th>TIPO_FONDO</th>\n",
       "      <th>CARTERA</th>\n",
       "      <th>NOMBRE_CLIENTE</th>\n",
       "      <th>FECHA_ENVIO</th>\n",
       "      <th>ID_RESPONSABLE</th>\n",
       "      <th>TIPO_CARTERA</th>\n",
       "      <th>AGENCIA</th>\n",
       "    </tr>\n",
       "  </thead>\n",
       "  <tbody>\n",
       "    <tr>\n",
       "      <th>0</th>\n",
       "      <td>2024-08-28</td>\n",
       "      <td>09005560</td>\n",
       "      <td>00248</td>\n",
       "      <td>106</td>\n",
       "      <td>3000.0</td>\n",
       "      <td>PEN</td>\n",
       "      <td>CELIA NAVARRO MENDIZABAL</td>\n",
       "      <td>P</td>\n",
       "      <td>1</td>\n",
       "      <td>001107279600317792</td>\n",
       "      <td>NULL</td>\n",
       "      <td>BC</td>\n",
       "      <td>CELIA NAVARRO MENDIZABAL</td>\n",
       "      <td>01-Sep</td>\n",
       "      <td>MIV</td>\n",
       "      <td>SECURED</td>\n",
       "      <td>SIN AGENCIA</td>\n",
       "    </tr>\n",
       "    <tr>\n",
       "      <th>1</th>\n",
       "      <td>2024-08-28</td>\n",
       "      <td>20176809</td>\n",
       "      <td>00248</td>\n",
       "      <td>847</td>\n",
       "      <td>9423.0</td>\n",
       "      <td>PEN</td>\n",
       "      <td>GIOVANNI ALEJANDRO MARTINEZ LA TORRE</td>\n",
       "      <td>P</td>\n",
       "      <td></td>\n",
       "      <td>None</td>\n",
       "      <td>None</td>\n",
       "      <td>NaN</td>\n",
       "      <td>NaN</td>\n",
       "      <td>01-Sep</td>\n",
       "      <td>MIV</td>\n",
       "      <td>None</td>\n",
       "      <td>NaN</td>\n",
       "    </tr>\n",
       "    <tr>\n",
       "      <th>2</th>\n",
       "      <td>2024-08-28</td>\n",
       "      <td>20593175</td>\n",
       "      <td>00248</td>\n",
       "      <td>348</td>\n",
       "      <td>300000.0</td>\n",
       "      <td>PEN</td>\n",
       "      <td>DESTILERIA NAYLAMP EIRL-</td>\n",
       "      <td>P</td>\n",
       "      <td>1</td>\n",
       "      <td>001104029600110163</td>\n",
       "      <td>NULL</td>\n",
       "      <td>BC</td>\n",
       "      <td>DESTILERIA NAYLAMP EIRL</td>\n",
       "      <td>01-Sep</td>\n",
       "      <td>MIV</td>\n",
       "      <td>SECURED</td>\n",
       "      <td>SIN AGENCIA</td>\n",
       "    </tr>\n",
       "    <tr>\n",
       "      <th>3</th>\n",
       "      <td>2024-08-28</td>\n",
       "      <td>20689141</td>\n",
       "      <td>00248</td>\n",
       "      <td>242</td>\n",
       "      <td>6000.0</td>\n",
       "      <td>PEN</td>\n",
       "      <td>LUZZ VILCAA LOPEZZ</td>\n",
       "      <td>P</td>\n",
       "      <td>1</td>\n",
       "      <td>001102429600050129</td>\n",
       "      <td>NULL</td>\n",
       "      <td>BC</td>\n",
       "      <td>LUZ AMPARO VILCA LOPEZ</td>\n",
       "      <td>01-Sep</td>\n",
       "      <td>MIV</td>\n",
       "      <td>SECURED</td>\n",
       "      <td>SIN AGENCIA</td>\n",
       "    </tr>\n",
       "    <tr>\n",
       "      <th>4</th>\n",
       "      <td>2024-08-28</td>\n",
       "      <td>20708611</td>\n",
       "      <td>00248</td>\n",
       "      <td>314</td>\n",
       "      <td>6686.0</td>\n",
       "      <td>PEN</td>\n",
       "      <td>PAGO TC 6879</td>\n",
       "      <td>P</td>\n",
       "      <td></td>\n",
       "      <td>None</td>\n",
       "      <td>None</td>\n",
       "      <td>NaN</td>\n",
       "      <td>NaN</td>\n",
       "      <td>01-Sep</td>\n",
       "      <td>MIV</td>\n",
       "      <td>None</td>\n",
       "      <td>NaN</td>\n",
       "    </tr>\n",
       "  </tbody>\n",
       "</table>\n",
       "</div>"
      ],
      "text/plain": [
       "        FECHA        CC CLAVSERV  CENTROPAGO   IMPORTE MONEDA  \\\n",
       "0  2024-08-28  09005560    00248         106    3000.0    PEN   \n",
       "1  2024-08-28  20176809    00248         847    9423.0    PEN   \n",
       "2  2024-08-28  20593175    00248         348  300000.0    PEN   \n",
       "3  2024-08-28  20689141    00248         242    6000.0    PEN   \n",
       "4  2024-08-28  20708611    00248         314    6686.0    PEN   \n",
       "\n",
       "                                 NOMBRE ESTADO FLAG            CONTRATO  \\\n",
       "0              CELIA NAVARRO MENDIZABAL      P    1  001107279600317792   \n",
       "1  GIOVANNI ALEJANDRO MARTINEZ LA TORRE      P                     None   \n",
       "2              DESTILERIA NAYLAMP EIRL-      P    1  001104029600110163   \n",
       "3                    LUZZ VILCAA LOPEZZ      P    1  001102429600050129   \n",
       "4                          PAGO TC 6879      P                     None   \n",
       "\n",
       "  TIPO_FONDO CARTERA            NOMBRE_CLIENTE FECHA_ENVIO ID_RESPONSABLE  \\\n",
       "0       NULL      BC  CELIA NAVARRO MENDIZABAL      01-Sep            MIV   \n",
       "1       None     NaN                       NaN      01-Sep            MIV   \n",
       "2       NULL      BC   DESTILERIA NAYLAMP EIRL      01-Sep            MIV   \n",
       "3       NULL      BC    LUZ AMPARO VILCA LOPEZ      01-Sep            MIV   \n",
       "4       None     NaN                       NaN      01-Sep            MIV   \n",
       "\n",
       "  TIPO_CARTERA      AGENCIA  \n",
       "0      SECURED  SIN AGENCIA  \n",
       "1         None          NaN  \n",
       "2      SECURED  SIN AGENCIA  \n",
       "3      SECURED  SIN AGENCIA  \n",
       "4         None          NaN  "
      ]
     },
     "execution_count": 967,
     "metadata": {},
     "output_type": "execute_result"
    }
   ],
   "source": [
    "df_no_enviados = pd.concat([df_no_mono, df_no_multi, df_base_no_flag])\n",
    "df_no_enviados['FLAG'] = df_no_enviados['FLAG'].astype('Int64').fillna(0)\n",
    "\n",
    "df_no_enviados['CONTRATO'] = df_no_enviados.apply(lambda x: None if x['FLAG'] != 1 else x['CONTRATO'], axis=1)\n",
    "df_no_enviados['TIPO_FONDO'] = df_no_enviados.apply(lambda x: None if x['FLAG'] != 1 else x['TIPO_FONDO'], axis=1)\n",
    "df_no_enviados['TIPO_CARTERA'] = df_no_enviados.apply(lambda x: None if x['FLAG'] != 1 else x['TIPO_CARTERA'], axis=1)\n",
    "\n",
    "df_no_enviados['FLAG'] = df_no_enviados['FLAG'].astype(str).str.replace('0', '', regex=True)\n",
    "\n",
    "df_no_enviados.sort_values(by=['CC'], inplace=True)\n",
    "df_no_enviados.reset_index(drop=True, inplace=True)\n",
    "\n",
    "print(df_no_enviados.shape)\n",
    "print(df_no_enviados.dtypes)\n",
    "df_no_enviados.head(5)"
   ]
  },
  {
   "cell_type": "code",
   "execution_count": 968,
   "metadata": {},
   "outputs": [
    {
     "name": "stdout",
     "output_type": "stream",
     "text": [
      "NO ENVIADOS OK\n"
     ]
    }
   ],
   "source": [
    "if no_eviados == df_no_enviados.shape[0]:\n",
    "    print('NO ENVIADOS OK')\n",
    "else:\n",
    "    print('NO ENVIADOS ERROR')"
   ]
  },
  {
   "cell_type": "code",
   "execution_count": 969,
   "metadata": {},
   "outputs": [],
   "source": [
    "df_no_enviados.to_excel(no_enviados_path, index=False)"
   ]
  },
  {
   "cell_type": "code",
   "execution_count": 970,
   "metadata": {},
   "outputs": [],
   "source": [
    "#################### FORMATO EXCEL ####################"
   ]
  },
  {
   "cell_type": "code",
   "execution_count": 971,
   "metadata": {},
   "outputs": [],
   "source": [
    "import openpyxl as op\n",
    "from openpyxl.styles import Font, PatternFill, Alignment\n",
    "\n",
    "def format_excel(file_path: str, validator: str) -> None:\n",
    "    workbook = op.load_workbook(file_path)\n",
    "    sheet = workbook.active\n",
    "    \n",
    "    # Definir estilos generales\n",
    "    general_font = Font(name='Calibri', size=11)\n",
    "    header_font = Font(name='Calibri', size=11, bold=True, color='FFFFFF')\n",
    "    alignment_center = Alignment(horizontal='center', vertical='center')\n",
    "    \n",
    "    # Definir estilos específicos\n",
    "    header_font_white = Font(name='Calibri', size=11, bold=True, color='000000')\n",
    "    header_fill_blue = PatternFill(start_color='002060', end_color='002060', fill_type='solid')\n",
    "    header_fill_yellow = PatternFill(start_color='FFD965', end_color='FFD965', fill_type='solid')\n",
    "    header_fill_green = PatternFill(start_color='C4D79B', end_color='C4D79B', fill_type='solid')\n",
    "    header_fill_orange = PatternFill(start_color='FABF8F', end_color='FABF8F', fill_type='solid')\n",
    "    \n",
    "    # Aplicar estilos generales a todas las celdas\n",
    "    for row in sheet.iter_rows():\n",
    "        for cell in row:\n",
    "            cell.font = general_font\n",
    "    \n",
    "    # Aplicar estilos al encabezado (fila 1)\n",
    "    for cell in sheet[1]:\n",
    "        cell.font = header_font\n",
    "        cell.alignment = alignment_center\n",
    "    \n",
    "    # Aplicar estilos específicos según el validador\n",
    "    if validator == 'mono':\n",
    "        for col in range(1, 10):  # Columnas A-I\n",
    "            sheet.cell(row=1, column=col).fill = header_fill_blue\n",
    "        for col in range(10, 14):  # Columnas J-M\n",
    "            sheet.cell(row=1, column=col).fill = header_fill_yellow\n",
    "            sheet.cell(row=1, column=col).font = header_font_white\n",
    "        for col in range(14, 16):  # Columnas N-O\n",
    "            sheet.cell(row=1, column=col).fill = header_fill_green\n",
    "            sheet.cell(row=1, column=col).font = header_font_white\n",
    "        for col in range(16, 17):  # Columna P\n",
    "            sheet.cell(row=1, column=col).fill = header_fill_orange\n",
    "            sheet.cell(row=1, column=col).font = header_font_white\n",
    "    \n",
    "    elif validator == 'multi':\n",
    "        for col in range(1, 10):  # Columnas A-I\n",
    "            sheet.cell(row=1, column=col).fill = header_fill_blue\n",
    "        for col in range(10, 12):  # Columnas J-K\n",
    "            sheet.cell(row=1, column=col).fill = header_fill_green\n",
    "            sheet.cell(row=1, column=col).font = header_font_white\n",
    "        for col in range(12, 15):  # Columnas L-N\n",
    "            sheet.cell(row=1, column=col).fill = header_fill_yellow\n",
    "            sheet.cell(row=1, column=col).font = header_font_white\n",
    "    \n",
    "    elif validator == 'instruccion':\n",
    "        for col in range(1, 11): # Columnas A-J\n",
    "            sheet.cell(row=1, column=col).fill = header_fill_blue\n",
    "        for col in range(11, 13): # Columnas K-L\n",
    "            sheet.cell(row=1, column=col).fill = header_fill_green\n",
    "            sheet.cell(row=1, column=col).font = header_font_white\n",
    "        for col in range(13, 17):  # Columnas M-P\n",
    "            sheet.cell(row=1, column=col).fill = header_fill_yellow\n",
    "            sheet.cell(row=1, column=col).font = header_font_white\n",
    "        for col in range(17, 18):  # Columna Q\n",
    "            sheet.cell(row=1, column=col).fill = header_fill_orange\n",
    "            sheet.cell(row=1, column=col).font = header_font_white\n",
    "    \n",
    "    workbook.save(file_path)"
   ]
  },
  {
   "cell_type": "code",
   "execution_count": 972,
   "metadata": {},
   "outputs": [],
   "source": [
    "format_excel(mono_path, \"mono\")\n",
    "format_excel(multi_path, \"multi\")\n",
    "format_excel(react_path, \"instruccion\")\n",
    "format_excel(no_enviados_path, \"instruccion\")\n",
    "\n",
    "os.startfile(mono_path)\n",
    "os.startfile(multi_path)\n",
    "os.startfile(react_path)\n",
    "os.startfile(no_enviados_path)"
   ]
  },
  {
   "cell_type": "code",
   "execution_count": 973,
   "metadata": {},
   "outputs": [],
   "source": [
    "#################### AGENCIAS ####################"
   ]
  },
  {
   "cell_type": "code",
   "execution_count": null,
   "metadata": {},
   "outputs": [],
   "source": []
  }
 ],
 "metadata": {
  "kernelspec": {
   "display_name": "Python 3",
   "language": "python",
   "name": "python3"
  },
  "language_info": {
   "codemirror_mode": {
    "name": "ipython",
    "version": 3
   },
   "file_extension": ".py",
   "mimetype": "text/x-python",
   "name": "python",
   "nbconvert_exporter": "python",
   "pygments_lexer": "ipython3",
   "version": "3.11.5"
  }
 },
 "nbformat": 4,
 "nbformat_minor": 2
}
