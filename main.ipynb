{
 "cells": [
  {
   "cell_type": "code",
   "execution_count": 1,
   "metadata": {},
   "outputs": [],
   "source": [
    "from datetime import datetime\n",
    "from tkinter import messagebox\n",
    "import tkinter as tk\n",
    "import pandas as pd\n",
    "import locale\n",
    "import warnings\n",
    "import os\n",
    "\n",
    "locale.setlocale(locale.LC_TIME, 'es_ES.UTF-8')\n",
    "warnings.filterwarnings(\"ignore\")"
   ]
  },
  {
   "cell_type": "code",
   "execution_count": 2,
   "metadata": {},
   "outputs": [
    {
     "data": {
      "text/plain": [
       "'03.09.2024'"
      ]
     },
     "execution_count": 2,
     "metadata": {},
     "output_type": "execute_result"
    }
   ],
   "source": [
    "def get_file_name() -> list[str]:\n",
    "    file_list = []\n",
    "    for file in os.listdir('bases/pagos/'):\n",
    "        if file.endswith('.xlsx') and 'Base Pagos' in file:\n",
    "            file_list.append(file)\n",
    "    return file_list\n",
    "\n",
    "def get_last_date(dates_list: list[datetime]) -> datetime:\n",
    "    last_date = dates_list[0]\n",
    "    for date in dates_list:\n",
    "        if date > last_date:\n",
    "            last_date = date\n",
    "    return last_date\n",
    "\n",
    "def get_date(file_list: list[str]) -> str:\n",
    "    dates_list = []\n",
    "    for file in file_list:\n",
    "        fecha_list =  file.split(' ')[-1].split('.')[:3]\n",
    "        dates_list.append(datetime.strptime(fecha_list[0] + '.' + fecha_list[1] + '.' + fecha_list[2], '%d.%m.%Y'))\n",
    "    return get_last_date(dates_list).strftime('%d.%m.%Y')\n",
    "\n",
    "fecha = get_date(get_file_name())\n",
    "fecha"
   ]
  },
  {
   "cell_type": "code",
   "execution_count": 3,
   "metadata": {},
   "outputs": [
    {
     "name": "stdout",
     "output_type": "stream",
     "text": [
      "La carpeta ya existe: reporte\\2024.09.04\n"
     ]
    },
    {
     "data": {
      "text/plain": [
       "'reporte\\\\2024.09.04'"
      ]
     },
     "execution_count": 3,
     "metadata": {},
     "output_type": "execute_result"
    }
   ],
   "source": [
    "def validar_o_crear_carpeta() -> str:\n",
    "    fecha_hoy = datetime.today().strftime('%Y.%m.%d')\n",
    "    \n",
    "    carpeta_reporte = 'reporte'\n",
    "    \n",
    "    carpeta_hoy = os.path.join(carpeta_reporte, fecha_hoy)\n",
    "    \n",
    "    if not os.path.exists(carpeta_hoy):\n",
    "        os.makedirs(carpeta_hoy)\n",
    "        print(f'Carpeta creada: {carpeta_hoy}')\n",
    "    else:\n",
    "        print(f'La carpeta ya existe: {carpeta_hoy}')\n",
    "    \n",
    "    return carpeta_hoy\n",
    "\n",
    "file_path = validar_o_crear_carpeta()\n",
    "file_path"
   ]
  },
  {
   "cell_type": "code",
   "execution_count": 4,
   "metadata": {},
   "outputs": [
    {
     "name": "stdout",
     "output_type": "stream",
     "text": [
      "bases/pagos/Base Pagos 03.09.2024.xlsx\n",
      "bases/asignacion/base_asignacion.xlsx\n",
      "c:\\Users\\miria\\Documents\\BBVA\\GitHub\\base-pagos\\reporte\\2024.09.04\\MONOPRODUCTO 03.09.2024.xlsx\n",
      "c:\\Users\\miria\\Documents\\BBVA\\GitHub\\base-pagos\\reporte\\2024.09.04\\MULTIPRODUCTO 03.09.2024.xlsx\n",
      "c:\\Users\\miria\\Documents\\BBVA\\GitHub\\base-pagos\\reporte\\2024.09.04\\REACTIVA 03.09.2024.xlsx\n",
      "c:\\Users\\miria\\Documents\\BBVA\\GitHub\\base-pagos\\reporte\\2024.09.04\\NO ENVIADOS 03.09.2024.xlsx\n",
      "c:\\Users\\miria\\Documents\\BBVA\\GitHub\\base-pagos\\reporte\\2024.09.04\\ENVIADOS 03.09.2024.xlsx\n"
     ]
    }
   ],
   "source": [
    "base_pagos_path = 'bases/pagos/Base Pagos ' + fecha + '.xlsx'\n",
    "asignacion_path = 'bases/asignacion/base_asignacion.xlsx'\n",
    "\n",
    "print(base_pagos_path)\n",
    "print(asignacion_path)\n",
    "\n",
    "monoproducto = file_path + '/MONOPRODUCTO ' + fecha + '.xlsx'\n",
    "multiproducto = file_path + '/MULTIPRODUCTO ' + fecha + '.xlsx'\n",
    "reactiva = file_path + '/REACTIVA ' + fecha + '.xlsx'\n",
    "no_enviados = file_path + '/NO ENVIADOS ' + fecha + '.xlsx'\n",
    "si_enviados = file_path + '/ENVIADOS ' + fecha + '.xlsx'\n",
    "\n",
    "mono_path = os.path.abspath(monoproducto)\n",
    "multi_path = os.path.abspath(multiproducto)\n",
    "react_path = os.path.abspath(reactiva)\n",
    "no_enviados_path = os.path.abspath(no_enviados)\n",
    "enviados_path = os.path.abspath(si_enviados)\n",
    "\n",
    "print(mono_path)\n",
    "print(multi_path)\n",
    "print(react_path)\n",
    "print(no_enviados_path)\n",
    "print(enviados_path)"
   ]
  },
  {
   "cell_type": "code",
   "execution_count": 5,
   "metadata": {},
   "outputs": [],
   "source": [
    "#################### BASE DE PAGOS ####################"
   ]
  },
  {
   "cell_type": "code",
   "execution_count": 6,
   "metadata": {},
   "outputs": [
    {
     "name": "stdout",
     "output_type": "stream",
     "text": [
      "(153, 9)\n",
      "Entidad         int64\n",
      "FECHA          object\n",
      "CODCEN          int64\n",
      "CLAVSERV        int64\n",
      "CENTROPAGO      int64\n",
      "IMPORTE       float64\n",
      "MONEDA         object\n",
      "NOMBRE         object\n",
      "ESTADO         object\n",
      "dtype: object\n"
     ]
    },
    {
     "data": {
      "text/html": [
       "<div>\n",
       "<style scoped>\n",
       "    .dataframe tbody tr th:only-of-type {\n",
       "        vertical-align: middle;\n",
       "    }\n",
       "\n",
       "    .dataframe tbody tr th {\n",
       "        vertical-align: top;\n",
       "    }\n",
       "\n",
       "    .dataframe thead th {\n",
       "        text-align: right;\n",
       "    }\n",
       "</style>\n",
       "<table border=\"1\" class=\"dataframe\">\n",
       "  <thead>\n",
       "    <tr style=\"text-align: right;\">\n",
       "      <th></th>\n",
       "      <th>Entidad</th>\n",
       "      <th>FECHA</th>\n",
       "      <th>CODCEN</th>\n",
       "      <th>CLAVSERV</th>\n",
       "      <th>CENTROPAGO</th>\n",
       "      <th>IMPORTE</th>\n",
       "      <th>MONEDA</th>\n",
       "      <th>NOMBRE</th>\n",
       "      <th>ESTADO</th>\n",
       "    </tr>\n",
       "  </thead>\n",
       "  <tbody>\n",
       "    <tr>\n",
       "      <th>0</th>\n",
       "      <td>11</td>\n",
       "      <td>2024-09-03</td>\n",
       "      <td>28343712</td>\n",
       "      <td>248</td>\n",
       "      <td>235</td>\n",
       "      <td>1331.52</td>\n",
       "      <td>PEN</td>\n",
       "      <td>FABIO SEBASTIAN CASTELLARES ROMERO</td>\n",
       "      <td>P</td>\n",
       "    </tr>\n",
       "    <tr>\n",
       "      <th>1</th>\n",
       "      <td>11</td>\n",
       "      <td>2024-09-03</td>\n",
       "      <td>20414784</td>\n",
       "      <td>248</td>\n",
       "      <td>291</td>\n",
       "      <td>819.33</td>\n",
       "      <td>PEN</td>\n",
       "      <td>001102915001612854</td>\n",
       "      <td>P</td>\n",
       "    </tr>\n",
       "    <tr>\n",
       "      <th>2</th>\n",
       "      <td>11</td>\n",
       "      <td>2024-09-03</td>\n",
       "      <td>20992021</td>\n",
       "      <td>248</td>\n",
       "      <td>107</td>\n",
       "      <td>356.00</td>\n",
       "      <td>PEN</td>\n",
       "      <td>CARLOS ALBERTO CHAMBILLA BENSON,,</td>\n",
       "      <td>P</td>\n",
       "    </tr>\n",
       "    <tr>\n",
       "      <th>3</th>\n",
       "      <td>11</td>\n",
       "      <td>2024-09-03</td>\n",
       "      <td>27720511</td>\n",
       "      <td>248</td>\n",
       "      <td>113</td>\n",
       "      <td>1300.00</td>\n",
       "      <td>PEN</td>\n",
       "      <td>ADRIANA RUIZ NOLORBE</td>\n",
       "      <td>P</td>\n",
       "    </tr>\n",
       "    <tr>\n",
       "      <th>4</th>\n",
       "      <td>11</td>\n",
       "      <td>2024-09-03</td>\n",
       "      <td>30981582</td>\n",
       "      <td>248</td>\n",
       "      <td>143</td>\n",
       "      <td>1114.00</td>\n",
       "      <td>PEN</td>\n",
       "      <td>BETY LUCI CORDOVA ZACARIAS  . .</td>\n",
       "      <td>P</td>\n",
       "    </tr>\n",
       "  </tbody>\n",
       "</table>\n",
       "</div>"
      ],
      "text/plain": [
       "   Entidad       FECHA    CODCEN  CLAVSERV  CENTROPAGO  IMPORTE MONEDA  \\\n",
       "0       11  2024-09-03  28343712       248         235  1331.52    PEN   \n",
       "1       11  2024-09-03  20414784       248         291   819.33    PEN   \n",
       "2       11  2024-09-03  20992021       248         107   356.00    PEN   \n",
       "3       11  2024-09-03  27720511       248         113  1300.00    PEN   \n",
       "4       11  2024-09-03  30981582       248         143  1114.00    PEN   \n",
       "\n",
       "                               NOMBRE ESTADO  \n",
       "0  FABIO SEBASTIAN CASTELLARES ROMERO      P  \n",
       "1                  001102915001612854      P  \n",
       "2   CARLOS ALBERTO CHAMBILLA BENSON,,      P  \n",
       "3                ADRIANA RUIZ NOLORBE      P  \n",
       "4     BETY LUCI CORDOVA ZACARIAS  . .      P  "
      ]
     },
     "execution_count": 6,
     "metadata": {},
     "output_type": "execute_result"
    }
   ],
   "source": [
    "df_base = pd.read_excel(base_pagos_path)\n",
    "print(df_base.shape)\n",
    "print(df_base.dtypes)\n",
    "df_base.head(5)"
   ]
  },
  {
   "cell_type": "code",
   "execution_count": 7,
   "metadata": {},
   "outputs": [
    {
     "name": "stdout",
     "output_type": "stream",
     "text": [
      "(153, 10)\n",
      "FECHA              object\n",
      "CC                 object\n",
      "CLAVSERV           object\n",
      "CENTROPAGO          int64\n",
      "IMPORTE           float64\n",
      "MONEDA             object\n",
      "NOMBRE             object\n",
      "ESTADO             object\n",
      "FECHA_ENVIO        object\n",
      "ID_RESPONSABLE     object\n",
      "dtype: object\n"
     ]
    },
    {
     "data": {
      "text/html": [
       "<div>\n",
       "<style scoped>\n",
       "    .dataframe tbody tr th:only-of-type {\n",
       "        vertical-align: middle;\n",
       "    }\n",
       "\n",
       "    .dataframe tbody tr th {\n",
       "        vertical-align: top;\n",
       "    }\n",
       "\n",
       "    .dataframe thead th {\n",
       "        text-align: right;\n",
       "    }\n",
       "</style>\n",
       "<table border=\"1\" class=\"dataframe\">\n",
       "  <thead>\n",
       "    <tr style=\"text-align: right;\">\n",
       "      <th></th>\n",
       "      <th>FECHA</th>\n",
       "      <th>CC</th>\n",
       "      <th>CLAVSERV</th>\n",
       "      <th>CENTROPAGO</th>\n",
       "      <th>IMPORTE</th>\n",
       "      <th>MONEDA</th>\n",
       "      <th>NOMBRE</th>\n",
       "      <th>ESTADO</th>\n",
       "      <th>FECHA_ENVIO</th>\n",
       "      <th>ID_RESPONSABLE</th>\n",
       "    </tr>\n",
       "  </thead>\n",
       "  <tbody>\n",
       "    <tr>\n",
       "      <th>0</th>\n",
       "      <td>2024-09-03</td>\n",
       "      <td>28343712</td>\n",
       "      <td>00248</td>\n",
       "      <td>235</td>\n",
       "      <td>1331.52</td>\n",
       "      <td>PEN</td>\n",
       "      <td>FABIO SEBASTIAN CASTELLARES ROMERO</td>\n",
       "      <td>P</td>\n",
       "      <td>04-Sep</td>\n",
       "      <td>MIV</td>\n",
       "    </tr>\n",
       "    <tr>\n",
       "      <th>1</th>\n",
       "      <td>2024-09-03</td>\n",
       "      <td>20414784</td>\n",
       "      <td>00248</td>\n",
       "      <td>291</td>\n",
       "      <td>819.33</td>\n",
       "      <td>PEN</td>\n",
       "      <td>001102915001612854</td>\n",
       "      <td>P</td>\n",
       "      <td>04-Sep</td>\n",
       "      <td>MIV</td>\n",
       "    </tr>\n",
       "    <tr>\n",
       "      <th>2</th>\n",
       "      <td>2024-09-03</td>\n",
       "      <td>20992021</td>\n",
       "      <td>00248</td>\n",
       "      <td>107</td>\n",
       "      <td>356.00</td>\n",
       "      <td>PEN</td>\n",
       "      <td>CARLOS ALBERTO CHAMBILLA BENSON,,</td>\n",
       "      <td>P</td>\n",
       "      <td>04-Sep</td>\n",
       "      <td>MIV</td>\n",
       "    </tr>\n",
       "    <tr>\n",
       "      <th>3</th>\n",
       "      <td>2024-09-03</td>\n",
       "      <td>27720511</td>\n",
       "      <td>00248</td>\n",
       "      <td>113</td>\n",
       "      <td>1300.00</td>\n",
       "      <td>PEN</td>\n",
       "      <td>ADRIANA RUIZ NOLORBE</td>\n",
       "      <td>P</td>\n",
       "      <td>04-Sep</td>\n",
       "      <td>MIV</td>\n",
       "    </tr>\n",
       "    <tr>\n",
       "      <th>4</th>\n",
       "      <td>2024-09-03</td>\n",
       "      <td>30981582</td>\n",
       "      <td>00248</td>\n",
       "      <td>143</td>\n",
       "      <td>1114.00</td>\n",
       "      <td>PEN</td>\n",
       "      <td>BETY LUCI CORDOVA ZACARIAS  . .</td>\n",
       "      <td>P</td>\n",
       "      <td>04-Sep</td>\n",
       "      <td>MIV</td>\n",
       "    </tr>\n",
       "  </tbody>\n",
       "</table>\n",
       "</div>"
      ],
      "text/plain": [
       "        FECHA        CC CLAVSERV  CENTROPAGO  IMPORTE MONEDA  \\\n",
       "0  2024-09-03  28343712    00248         235  1331.52    PEN   \n",
       "1  2024-09-03  20414784    00248         291   819.33    PEN   \n",
       "2  2024-09-03  20992021    00248         107   356.00    PEN   \n",
       "3  2024-09-03  27720511    00248         113  1300.00    PEN   \n",
       "4  2024-09-03  30981582    00248         143  1114.00    PEN   \n",
       "\n",
       "                               NOMBRE ESTADO FECHA_ENVIO ID_RESPONSABLE  \n",
       "0  FABIO SEBASTIAN CASTELLARES ROMERO      P      04-Sep            MIV  \n",
       "1                  001102915001612854      P      04-Sep            MIV  \n",
       "2   CARLOS ALBERTO CHAMBILLA BENSON,,      P      04-Sep            MIV  \n",
       "3                ADRIANA RUIZ NOLORBE      P      04-Sep            MIV  \n",
       "4     BETY LUCI CORDOVA ZACARIAS  . .      P      04-Sep            MIV  "
      ]
     },
     "execution_count": 7,
     "metadata": {},
     "output_type": "execute_result"
    }
   ],
   "source": [
    "fecha_formateada = pd.to_datetime('today').strftime('%d-%b')\n",
    "fecha_formateada = fecha_formateada[:3] + fecha_formateada[3:].capitalize()\n",
    "\n",
    "df_base['FECHA_ENVIO'] = fecha_formateada.replace('.', '')\n",
    "df_base['ID_RESPONSABLE'] = 'MIV'\n",
    "\n",
    "cols_base = ['FECHA', 'CODCEN', 'CLAVSERV', 'CENTROPAGO', 'IMPORTE', 'MONEDA', 'NOMBRE', 'ESTADO', 'FECHA_ENVIO', 'ID_RESPONSABLE']\n",
    "df_base = df_base[cols_base]\n",
    "df_base = df_base.rename(columns={'CODCEN': 'CC'})\n",
    "\n",
    "df_base['CC'] = df_base['CC'].astype('Int64').astype(str).str.zfill(8)\n",
    "df_base['CC'] = df_base['CC'].str.replace(' ', '').str.replace(r'\\D', '', regex=True).str[-8:]\n",
    "df_base['CC'] = df_base['CC'].str.zfill(8)\n",
    "\n",
    "df_base['CLAVSERV'] = df_base['CLAVSERV'].astype(str).str.zfill(5)\n",
    "\n",
    "print(df_base.shape)\n",
    "print(df_base.dtypes)\n",
    "df_base.head(5)"
   ]
  },
  {
   "cell_type": "code",
   "execution_count": 8,
   "metadata": {},
   "outputs": [
    {
     "data": {
      "text/plain": [
       "FECHA             0\n",
       "CC                0\n",
       "CLAVSERV          0\n",
       "CENTROPAGO        0\n",
       "IMPORTE           0\n",
       "MONEDA            0\n",
       "NOMBRE            0\n",
       "ESTADO            0\n",
       "FECHA_ENVIO       0\n",
       "ID_RESPONSABLE    0\n",
       "dtype: int64"
      ]
     },
     "execution_count": 8,
     "metadata": {},
     "output_type": "execute_result"
    }
   ],
   "source": [
    "df_base.isnull().sum()"
   ]
  },
  {
   "cell_type": "code",
   "execution_count": 9,
   "metadata": {},
   "outputs": [],
   "source": [
    "#################### ASIGNACION ####################"
   ]
  },
  {
   "cell_type": "code",
   "execution_count": 10,
   "metadata": {},
   "outputs": [],
   "source": [
    "root = tk.Tk()\n",
    "root.attributes(\"-topmost\", True)\n",
    "root.withdraw()\n",
    "\n",
    "result = messagebox.askquestion(\"Confirmación\", \"¿Cargar base de asignación?\", icon='warning')\n",
    "if result == 'yes':\n",
    "    df_asignacion = pd.read_excel(asignacion_path)\n"
   ]
  },
  {
   "cell_type": "code",
   "execution_count": 11,
   "metadata": {},
   "outputs": [
    {
     "name": "stdout",
     "output_type": "stream",
     "text": [
      "(242511, 9)\n",
      "codigo               int64\n",
      "ID_FLAG              int64\n",
      "cont_18              int64\n",
      "nombre              object\n",
      "TIPO_CARTERA        object\n",
      "TIPO_FONDO          object\n",
      "clave               object\n",
      "AGENCIA CORRECTA    object\n",
      "ID_VTA.             object\n",
      "dtype: object\n"
     ]
    },
    {
     "data": {
      "text/html": [
       "<div>\n",
       "<style scoped>\n",
       "    .dataframe tbody tr th:only-of-type {\n",
       "        vertical-align: middle;\n",
       "    }\n",
       "\n",
       "    .dataframe tbody tr th {\n",
       "        vertical-align: top;\n",
       "    }\n",
       "\n",
       "    .dataframe thead th {\n",
       "        text-align: right;\n",
       "    }\n",
       "</style>\n",
       "<table border=\"1\" class=\"dataframe\">\n",
       "  <thead>\n",
       "    <tr style=\"text-align: right;\">\n",
       "      <th></th>\n",
       "      <th>codigo</th>\n",
       "      <th>ID_FLAG</th>\n",
       "      <th>cont_18</th>\n",
       "      <th>nombre</th>\n",
       "      <th>TIPO_CARTERA</th>\n",
       "      <th>TIPO_FONDO</th>\n",
       "      <th>clave</th>\n",
       "      <th>AGENCIA CORRECTA</th>\n",
       "      <th>ID_VTA.</th>\n",
       "    </tr>\n",
       "  </thead>\n",
       "  <tbody>\n",
       "    <tr>\n",
       "      <th>0</th>\n",
       "      <td>30739481</td>\n",
       "      <td>2</td>\n",
       "      <td>1100109600055161</td>\n",
       "      <td>DINA CHOQUE FERNANDEZ</td>\n",
       "      <td>UNSECURED</td>\n",
       "      <td>NaN</td>\n",
       "      <td>BC</td>\n",
       "      <td>MORNESE MORA</td>\n",
       "      <td>-</td>\n",
       "    </tr>\n",
       "    <tr>\n",
       "      <th>1</th>\n",
       "      <td>30739481</td>\n",
       "      <td>2</td>\n",
       "      <td>1100109600057679</td>\n",
       "      <td>DINA CHOQUE FERNANDEZ</td>\n",
       "      <td>UNSECURED</td>\n",
       "      <td>NaN</td>\n",
       "      <td>BC</td>\n",
       "      <td>MORNESE MORA</td>\n",
       "      <td>-</td>\n",
       "    </tr>\n",
       "    <tr>\n",
       "      <th>2</th>\n",
       "      <td>21874900</td>\n",
       "      <td>4</td>\n",
       "      <td>1100505000360222</td>\n",
       "      <td>JULIA ANGELICA SOTO COTRINA</td>\n",
       "      <td>UNSECURED</td>\n",
       "      <td>NaN</td>\n",
       "      <td>BC</td>\n",
       "      <td>ASESCOM RJ</td>\n",
       "      <td>-</td>\n",
       "    </tr>\n",
       "    <tr>\n",
       "      <th>3</th>\n",
       "      <td>30293392</td>\n",
       "      <td>1</td>\n",
       "      <td>1101305002987960</td>\n",
       "      <td>INNOVA FASHION GROUPSAC</td>\n",
       "      <td>UNSECURED</td>\n",
       "      <td>NaN</td>\n",
       "      <td>BC</td>\n",
       "      <td>CLASA MORA</td>\n",
       "      <td>-</td>\n",
       "    </tr>\n",
       "    <tr>\n",
       "      <th>4</th>\n",
       "      <td>20687681</td>\n",
       "      <td>1</td>\n",
       "      <td>1101749600365104</td>\n",
       "      <td>ELIZABETH HAYDEE CORDOVA AMAYA</td>\n",
       "      <td>UNSECURED</td>\n",
       "      <td>NaN</td>\n",
       "      <td>BC</td>\n",
       "      <td>RodriguezAngobaldo</td>\n",
       "      <td>-</td>\n",
       "    </tr>\n",
       "  </tbody>\n",
       "</table>\n",
       "</div>"
      ],
      "text/plain": [
       "     codigo  ID_FLAG           cont_18                          nombre  \\\n",
       "0  30739481        2  1100109600055161           DINA CHOQUE FERNANDEZ   \n",
       "1  30739481        2  1100109600057679           DINA CHOQUE FERNANDEZ   \n",
       "2  21874900        4  1100505000360222     JULIA ANGELICA SOTO COTRINA   \n",
       "3  30293392        1  1101305002987960         INNOVA FASHION GROUPSAC   \n",
       "4  20687681        1  1101749600365104  ELIZABETH HAYDEE CORDOVA AMAYA   \n",
       "\n",
       "  TIPO_CARTERA TIPO_FONDO clave    AGENCIA CORRECTA ID_VTA.  \n",
       "0    UNSECURED        NaN    BC        MORNESE MORA       -  \n",
       "1    UNSECURED        NaN    BC        MORNESE MORA       -  \n",
       "2    UNSECURED        NaN    BC          ASESCOM RJ       -  \n",
       "3    UNSECURED        NaN    BC          CLASA MORA       -  \n",
       "4    UNSECURED        NaN    BC  RodriguezAngobaldo       -  "
      ]
     },
     "execution_count": 11,
     "metadata": {},
     "output_type": "execute_result"
    }
   ],
   "source": [
    "print(df_asignacion.shape)\n",
    "print(df_asignacion.dtypes)\n",
    "df_asignacion.head(5)"
   ]
  },
  {
   "cell_type": "code",
   "execution_count": 12,
   "metadata": {},
   "outputs": [],
   "source": [
    "#################### BACKUPS ####################"
   ]
  },
  {
   "cell_type": "code",
   "execution_count": 13,
   "metadata": {},
   "outputs": [
    {
     "name": "stdout",
     "output_type": "stream",
     "text": [
      "Base (153, 10)\n",
      "Asignacion (242511, 9)\n"
     ]
    }
   ],
   "source": [
    "df_base_test = df_base.copy()\n",
    "print('Base', df_base_test.shape)\n",
    "\n",
    "df_asignacion_test = df_asignacion.copy()\n",
    "print('Asignacion', df_asignacion_test.shape)"
   ]
  },
  {
   "cell_type": "code",
   "execution_count": 14,
   "metadata": {},
   "outputs": [
    {
     "data": {
      "text/plain": [
       "153"
      ]
     },
     "execution_count": 14,
     "metadata": {},
     "output_type": "execute_result"
    }
   ],
   "source": [
    "base_count = df_base_test.shape[0]\n",
    "base_count"
   ]
  },
  {
   "cell_type": "code",
   "execution_count": 15,
   "metadata": {},
   "outputs": [],
   "source": [
    "def actualizar_tipo_cartera(grupo: pd.DataFrame) -> pd.DataFrame:\n",
    "    if 'UNSECURED' in grupo['TIPO_CARTERA'].values:\n",
    "        grupo['TIPO_CARTERA'] = 'UNSECURED'\n",
    "    return grupo"
   ]
  },
  {
   "cell_type": "code",
   "execution_count": 16,
   "metadata": {},
   "outputs": [
    {
     "name": "stdout",
     "output_type": "stream",
     "text": [
      "(153, 17)\n",
      "FECHA              object\n",
      "CC                 object\n",
      "CLAVSERV           object\n",
      "CENTROPAGO          int64\n",
      "IMPORTE           float64\n",
      "MONEDA             object\n",
      "NOMBRE             object\n",
      "ESTADO             object\n",
      "FLAG                Int64\n",
      "CONTRATO           object\n",
      "TIPO_FONDO         object\n",
      "CARTERA            object\n",
      "NOMBRE_CLIENTE     object\n",
      "FECHA_ENVIO        object\n",
      "ID_RESPONSABLE     object\n",
      "TIPO_CARTERA       object\n",
      "AGENCIA            object\n",
      "dtype: object\n"
     ]
    },
    {
     "data": {
      "text/html": [
       "<div>\n",
       "<style scoped>\n",
       "    .dataframe tbody tr th:only-of-type {\n",
       "        vertical-align: middle;\n",
       "    }\n",
       "\n",
       "    .dataframe tbody tr th {\n",
       "        vertical-align: top;\n",
       "    }\n",
       "\n",
       "    .dataframe thead th {\n",
       "        text-align: right;\n",
       "    }\n",
       "</style>\n",
       "<table border=\"1\" class=\"dataframe\">\n",
       "  <thead>\n",
       "    <tr style=\"text-align: right;\">\n",
       "      <th></th>\n",
       "      <th>FECHA</th>\n",
       "      <th>CC</th>\n",
       "      <th>CLAVSERV</th>\n",
       "      <th>CENTROPAGO</th>\n",
       "      <th>IMPORTE</th>\n",
       "      <th>MONEDA</th>\n",
       "      <th>NOMBRE</th>\n",
       "      <th>ESTADO</th>\n",
       "      <th>FLAG</th>\n",
       "      <th>CONTRATO</th>\n",
       "      <th>TIPO_FONDO</th>\n",
       "      <th>CARTERA</th>\n",
       "      <th>NOMBRE_CLIENTE</th>\n",
       "      <th>FECHA_ENVIO</th>\n",
       "      <th>ID_RESPONSABLE</th>\n",
       "      <th>TIPO_CARTERA</th>\n",
       "      <th>AGENCIA</th>\n",
       "    </tr>\n",
       "  </thead>\n",
       "  <tbody>\n",
       "    <tr>\n",
       "      <th>0</th>\n",
       "      <td>2024-09-03</td>\n",
       "      <td>00996548</td>\n",
       "      <td>00248</td>\n",
       "      <td>222</td>\n",
       "      <td>1050.0</td>\n",
       "      <td>PEN</td>\n",
       "      <td>EDWIN EMILIANO JAUREGUI GONGORA</td>\n",
       "      <td>P</td>\n",
       "      <td>1</td>\n",
       "      <td>001107859600162485</td>\n",
       "      <td>NULL</td>\n",
       "      <td>KSTBC</td>\n",
       "      <td>EDWIN EMILIANO JAUREGUI GONGORA</td>\n",
       "      <td>04-Sep</td>\n",
       "      <td>MIV</td>\n",
       "      <td>UNSECURED</td>\n",
       "      <td>CLASA MORA</td>\n",
       "    </tr>\n",
       "    <tr>\n",
       "      <th>1</th>\n",
       "      <td>2024-09-03</td>\n",
       "      <td>03376699</td>\n",
       "      <td>00248</td>\n",
       "      <td>110</td>\n",
       "      <td>2496.0</td>\n",
       "      <td>PEN</td>\n",
       "      <td>VERONICA HILDA HAGUE MARROU - 06722637</td>\n",
       "      <td>P</td>\n",
       "      <td>3</td>\n",
       "      <td>001103525001621897</td>\n",
       "      <td>NULL</td>\n",
       "      <td>EXJ</td>\n",
       "      <td>VERONICA HILDA HAGUE MARROU</td>\n",
       "      <td>04-Sep</td>\n",
       "      <td>MIV</td>\n",
       "      <td>UNSECURED</td>\n",
       "      <td>ASESCOM RJ</td>\n",
       "    </tr>\n",
       "    <tr>\n",
       "      <th>10</th>\n",
       "      <td>2024-09-03</td>\n",
       "      <td>04101561</td>\n",
       "      <td>00248</td>\n",
       "      <td>87</td>\n",
       "      <td>2630.0</td>\n",
       "      <td>PEN</td>\n",
       "      <td>SANTOS MORAN CISNERON2</td>\n",
       "      <td>P</td>\n",
       "      <td>1</td>\n",
       "      <td>001102745001992697</td>\n",
       "      <td>NULL</td>\n",
       "      <td>KSTBC</td>\n",
       "      <td>SANTOS MORAN CISNERON</td>\n",
       "      <td>04-Sep</td>\n",
       "      <td>MIV</td>\n",
       "      <td>UNSECURED</td>\n",
       "      <td>CLASA MORA</td>\n",
       "    </tr>\n",
       "    <tr>\n",
       "      <th>11</th>\n",
       "      <td>2024-09-03</td>\n",
       "      <td>11176313</td>\n",
       "      <td>00248</td>\n",
       "      <td>324</td>\n",
       "      <td>500.0</td>\n",
       "      <td>PEN</td>\n",
       "      <td>ROCIO DEL PILAR LOPEZ BERTHA</td>\n",
       "      <td>P</td>\n",
       "      <td>1</td>\n",
       "      <td>001108149601126470</td>\n",
       "      <td>NULL</td>\n",
       "      <td>KSTBC</td>\n",
       "      <td>ROCIO DEL PILAR LOPEZ BERTHA</td>\n",
       "      <td>04-Sep</td>\n",
       "      <td>MIV</td>\n",
       "      <td>UNSECURED</td>\n",
       "      <td>CLASA MORA</td>\n",
       "    </tr>\n",
       "    <tr>\n",
       "      <th>12</th>\n",
       "      <td>2024-09-03</td>\n",
       "      <td>11216870</td>\n",
       "      <td>00248</td>\n",
       "      <td>333</td>\n",
       "      <td>3700.0</td>\n",
       "      <td>PEN</td>\n",
       "      <td>EDA ISABEL PAUCAR JAUREGUI 06892232</td>\n",
       "      <td>P</td>\n",
       "      <td>1</td>\n",
       "      <td>001103595001034256</td>\n",
       "      <td>NULL</td>\n",
       "      <td>KSTBC</td>\n",
       "      <td>EDA ISABEL PAUCAR JAUREGUI</td>\n",
       "      <td>04-Sep</td>\n",
       "      <td>MIV</td>\n",
       "      <td>UNSECURED</td>\n",
       "      <td>CLASA MORA</td>\n",
       "    </tr>\n",
       "  </tbody>\n",
       "</table>\n",
       "</div>"
      ],
      "text/plain": [
       "         FECHA        CC CLAVSERV  CENTROPAGO  IMPORTE MONEDA  \\\n",
       "0   2024-09-03  00996548    00248         222   1050.0    PEN   \n",
       "1   2024-09-03  03376699    00248         110   2496.0    PEN   \n",
       "10  2024-09-03  04101561    00248          87   2630.0    PEN   \n",
       "11  2024-09-03  11176313    00248         324    500.0    PEN   \n",
       "12  2024-09-03  11216870    00248         333   3700.0    PEN   \n",
       "\n",
       "                                    NOMBRE ESTADO  FLAG            CONTRATO  \\\n",
       "0          EDWIN EMILIANO JAUREGUI GONGORA      P     1  001107859600162485   \n",
       "1   VERONICA HILDA HAGUE MARROU - 06722637      P     3  001103525001621897   \n",
       "10                  SANTOS MORAN CISNERON2      P     1  001102745001992697   \n",
       "11            ROCIO DEL PILAR LOPEZ BERTHA      P     1  001108149601126470   \n",
       "12     EDA ISABEL PAUCAR JAUREGUI 06892232      P     1  001103595001034256   \n",
       "\n",
       "   TIPO_FONDO CARTERA                   NOMBRE_CLIENTE FECHA_ENVIO  \\\n",
       "0        NULL   KSTBC  EDWIN EMILIANO JAUREGUI GONGORA      04-Sep   \n",
       "1        NULL     EXJ      VERONICA HILDA HAGUE MARROU      04-Sep   \n",
       "10       NULL   KSTBC            SANTOS MORAN CISNERON      04-Sep   \n",
       "11       NULL   KSTBC     ROCIO DEL PILAR LOPEZ BERTHA      04-Sep   \n",
       "12       NULL   KSTBC       EDA ISABEL PAUCAR JAUREGUI      04-Sep   \n",
       "\n",
       "   ID_RESPONSABLE TIPO_CARTERA     AGENCIA  \n",
       "0             MIV    UNSECURED  CLASA MORA  \n",
       "1             MIV    UNSECURED  ASESCOM RJ  \n",
       "10            MIV    UNSECURED  CLASA MORA  \n",
       "11            MIV    UNSECURED  CLASA MORA  \n",
       "12            MIV    UNSECURED  CLASA MORA  "
      ]
     },
     "execution_count": 16,
     "metadata": {},
     "output_type": "execute_result"
    }
   ],
   "source": [
    "df_asignacion_test['codigo'] = df_asignacion_test['codigo'].astype('Int64').astype(str).str.zfill(8)\n",
    "\n",
    "cols_asignacion = ['codigo', 'ID_FLAG', 'cont_18', 'nombre', 'TIPO_CARTERA', 'TIPO_FONDO', 'clave', 'AGENCIA CORRECTA']\n",
    "df_base_test = df_base_test.merge(df_asignacion_test[cols_asignacion], left_on='CC', right_on='codigo', how='left')\n",
    "df_base_test = df_base_test.drop(columns=['codigo'])\n",
    "df_base_test = df_base_test.rename(columns={'ID_FLAG': 'FLAG', 'cont_18': 'CONTRATO', 'nombre': 'NOMBRE_CLIENTE', 'clave': 'CARTERA', 'AGENCIA CORRECTA': 'AGENCIA'})\n",
    "df_base_test.sort_values(by=['TIPO_CARTERA'], ascending=False, inplace=True)\n",
    "df_base_test.sort_values(by=['CC'], ascending=True, inplace=True)\n",
    "\n",
    "filtro = (df_base_test['FLAG'] != 1) & (df_base_test['FLAG'].notna())\n",
    "df_base_filtro = df_base_test.loc[filtro].groupby('CC').apply(actualizar_tipo_cartera).reset_index(drop=True)\n",
    "df_base_test = df_base_test.merge(df_base_filtro[['CC', 'TIPO_CARTERA']], on='CC', how='left', suffixes=('', '_y'))\n",
    "df_base_test['TIPO_CARTERA_FINAL'] = df_base_test['TIPO_CARTERA_y'].fillna(df_base_test['TIPO_CARTERA'])\n",
    "df_base_test = df_base_test.drop(columns=['TIPO_CARTERA', 'TIPO_CARTERA_y'])\n",
    "df_base_test = df_base_test.rename(columns={'TIPO_CARTERA_FINAL': 'TIPO_CARTERA'})\n",
    "#26497246\n",
    "df_base_test.drop_duplicates(subset=['CC', 'IMPORTE', 'MONEDA', 'NOMBRE'], keep='first', inplace=True)\n",
    "\n",
    "df_base_test['TIPO_CARTERA'] = df_base_test['TIPO_CARTERA'].fillna('NULL')\n",
    "df_base_test['TIPO_FONDO'] = df_base_test['TIPO_FONDO'].fillna('NULL')\n",
    "\n",
    "df_base_test['FLAG'] = df_base_test['FLAG'].astype('Int64')\n",
    "df_base_test['CONTRATO'] = df_base_test['CONTRATO'].apply(lambda x: str(int(x)).zfill(18) if pd.notna(x) else x)\n",
    "\n",
    "cols_base_test = ['FECHA', 'CC', 'CLAVSERV', 'CENTROPAGO', 'IMPORTE', 'MONEDA', 'NOMBRE', 'ESTADO', 'FLAG', 'CONTRATO', 'TIPO_FONDO', 'CARTERA', 'NOMBRE_CLIENTE', 'FECHA_ENVIO', 'ID_RESPONSABLE', 'TIPO_CARTERA', 'AGENCIA']\n",
    "df_base_test = df_base_test[cols_base_test]\n",
    "\n",
    "print(df_base_test.shape)\n",
    "print(df_base_test.dtypes)\n",
    "df_base_test.head(5)"
   ]
  },
  {
   "cell_type": "code",
   "execution_count": 17,
   "metadata": {},
   "outputs": [
    {
     "name": "stdout",
     "output_type": "stream",
     "text": [
      "REGISTROS OK\n"
     ]
    }
   ],
   "source": [
    "if base_count == df_base_test.shape[0]:\n",
    "    print('REGISTROS OK')\n",
    "elif base_count > df_base_test.shape[0]:\n",
    "    print('Se han perdido registros')\n",
    "else:\n",
    "    print('Se han duplicado registros: ', df_base_test.shape[0] - base_count)"
   ]
  },
  {
   "cell_type": "code",
   "execution_count": 18,
   "metadata": {},
   "outputs": [
    {
     "data": {
      "text/plain": [
       "(153, 17)"
      ]
     },
     "execution_count": 18,
     "metadata": {},
     "output_type": "execute_result"
    }
   ],
   "source": [
    "df_base_test.shape"
   ]
  },
  {
   "cell_type": "code",
   "execution_count": 19,
   "metadata": {},
   "outputs": [
    {
     "data": {
      "text/plain": [
       "(49, 17)"
      ]
     },
     "execution_count": 19,
     "metadata": {},
     "output_type": "execute_result"
    }
   ],
   "source": [
    "df_base_no_flag = df_base_test[df_base_test['FLAG'].isnull()]\n",
    "df_base_no_flag.shape"
   ]
  },
  {
   "cell_type": "code",
   "execution_count": 20,
   "metadata": {},
   "outputs": [
    {
     "data": {
      "text/plain": [
       "49"
      ]
     },
     "execution_count": 20,
     "metadata": {},
     "output_type": "execute_result"
    }
   ],
   "source": [
    "no_flag_count = df_base_no_flag.shape[0]\n",
    "no_flag_count"
   ]
  },
  {
   "cell_type": "code",
   "execution_count": 21,
   "metadata": {},
   "outputs": [
    {
     "data": {
      "text/plain": [
       "104"
      ]
     },
     "execution_count": 21,
     "metadata": {},
     "output_type": "execute_result"
    }
   ],
   "source": [
    "flag_count = base_count - no_flag_count\n",
    "flag_count"
   ]
  },
  {
   "cell_type": "code",
   "execution_count": 22,
   "metadata": {},
   "outputs": [],
   "source": [
    "#################### MONOPRODUCTO ####################"
   ]
  },
  {
   "cell_type": "code",
   "execution_count": 23,
   "metadata": {},
   "outputs": [
    {
     "name": "stdout",
     "output_type": "stream",
     "text": [
      "(80, 17)\n"
     ]
    },
    {
     "data": {
      "text/html": [
       "<div>\n",
       "<style scoped>\n",
       "    .dataframe tbody tr th:only-of-type {\n",
       "        vertical-align: middle;\n",
       "    }\n",
       "\n",
       "    .dataframe tbody tr th {\n",
       "        vertical-align: top;\n",
       "    }\n",
       "\n",
       "    .dataframe thead th {\n",
       "        text-align: right;\n",
       "    }\n",
       "</style>\n",
       "<table border=\"1\" class=\"dataframe\">\n",
       "  <thead>\n",
       "    <tr style=\"text-align: right;\">\n",
       "      <th></th>\n",
       "      <th>FECHA</th>\n",
       "      <th>CC</th>\n",
       "      <th>CLAVSERV</th>\n",
       "      <th>CENTROPAGO</th>\n",
       "      <th>IMPORTE</th>\n",
       "      <th>MONEDA</th>\n",
       "      <th>NOMBRE</th>\n",
       "      <th>ESTADO</th>\n",
       "      <th>FLAG</th>\n",
       "      <th>CONTRATO</th>\n",
       "      <th>TIPO_FONDO</th>\n",
       "      <th>CARTERA</th>\n",
       "      <th>NOMBRE_CLIENTE</th>\n",
       "      <th>FECHA_ENVIO</th>\n",
       "      <th>ID_RESPONSABLE</th>\n",
       "      <th>TIPO_CARTERA</th>\n",
       "      <th>AGENCIA</th>\n",
       "    </tr>\n",
       "  </thead>\n",
       "  <tbody>\n",
       "    <tr>\n",
       "      <th>0</th>\n",
       "      <td>2024-09-03</td>\n",
       "      <td>00996548</td>\n",
       "      <td>00248</td>\n",
       "      <td>222</td>\n",
       "      <td>1050.0</td>\n",
       "      <td>PEN</td>\n",
       "      <td>EDWIN EMILIANO JAUREGUI GONGORA</td>\n",
       "      <td>P</td>\n",
       "      <td>1</td>\n",
       "      <td>001107859600162485</td>\n",
       "      <td>NULL</td>\n",
       "      <td>KSTBC</td>\n",
       "      <td>EDWIN EMILIANO JAUREGUI GONGORA</td>\n",
       "      <td>04-Sep</td>\n",
       "      <td>MIV</td>\n",
       "      <td>UNSECURED</td>\n",
       "      <td>CLASA MORA</td>\n",
       "    </tr>\n",
       "    <tr>\n",
       "      <th>10</th>\n",
       "      <td>2024-09-03</td>\n",
       "      <td>04101561</td>\n",
       "      <td>00248</td>\n",
       "      <td>87</td>\n",
       "      <td>2630.0</td>\n",
       "      <td>PEN</td>\n",
       "      <td>SANTOS MORAN CISNERON2</td>\n",
       "      <td>P</td>\n",
       "      <td>1</td>\n",
       "      <td>001102745001992697</td>\n",
       "      <td>NULL</td>\n",
       "      <td>KSTBC</td>\n",
       "      <td>SANTOS MORAN CISNERON</td>\n",
       "      <td>04-Sep</td>\n",
       "      <td>MIV</td>\n",
       "      <td>UNSECURED</td>\n",
       "      <td>CLASA MORA</td>\n",
       "    </tr>\n",
       "    <tr>\n",
       "      <th>11</th>\n",
       "      <td>2024-09-03</td>\n",
       "      <td>11176313</td>\n",
       "      <td>00248</td>\n",
       "      <td>324</td>\n",
       "      <td>500.0</td>\n",
       "      <td>PEN</td>\n",
       "      <td>ROCIO DEL PILAR LOPEZ BERTHA</td>\n",
       "      <td>P</td>\n",
       "      <td>1</td>\n",
       "      <td>001108149601126470</td>\n",
       "      <td>NULL</td>\n",
       "      <td>KSTBC</td>\n",
       "      <td>ROCIO DEL PILAR LOPEZ BERTHA</td>\n",
       "      <td>04-Sep</td>\n",
       "      <td>MIV</td>\n",
       "      <td>UNSECURED</td>\n",
       "      <td>CLASA MORA</td>\n",
       "    </tr>\n",
       "    <tr>\n",
       "      <th>12</th>\n",
       "      <td>2024-09-03</td>\n",
       "      <td>11216870</td>\n",
       "      <td>00248</td>\n",
       "      <td>333</td>\n",
       "      <td>3700.0</td>\n",
       "      <td>PEN</td>\n",
       "      <td>EDA ISABEL PAUCAR JAUREGUI 06892232</td>\n",
       "      <td>P</td>\n",
       "      <td>1</td>\n",
       "      <td>001103595001034256</td>\n",
       "      <td>NULL</td>\n",
       "      <td>KSTBC</td>\n",
       "      <td>EDA ISABEL PAUCAR JAUREGUI</td>\n",
       "      <td>04-Sep</td>\n",
       "      <td>MIV</td>\n",
       "      <td>UNSECURED</td>\n",
       "      <td>CLASA MORA</td>\n",
       "    </tr>\n",
       "    <tr>\n",
       "      <th>14</th>\n",
       "      <td>2024-09-03</td>\n",
       "      <td>13361975</td>\n",
       "      <td>00248</td>\n",
       "      <td>83</td>\n",
       "      <td>1200.0</td>\n",
       "      <td>PEN</td>\n",
       "      <td>DANIA MARIETA SARDON SANCHEZ.....</td>\n",
       "      <td>P</td>\n",
       "      <td>1</td>\n",
       "      <td>001102009600556058</td>\n",
       "      <td>NULL</td>\n",
       "      <td>BC</td>\n",
       "      <td>DANIA MARIETA SARDON SANCHEZ</td>\n",
       "      <td>04-Sep</td>\n",
       "      <td>MIV</td>\n",
       "      <td>SECURED</td>\n",
       "      <td>SIN AGENCIA</td>\n",
       "    </tr>\n",
       "  </tbody>\n",
       "</table>\n",
       "</div>"
      ],
      "text/plain": [
       "         FECHA        CC CLAVSERV  CENTROPAGO  IMPORTE MONEDA  \\\n",
       "0   2024-09-03  00996548    00248         222   1050.0    PEN   \n",
       "10  2024-09-03  04101561    00248          87   2630.0    PEN   \n",
       "11  2024-09-03  11176313    00248         324    500.0    PEN   \n",
       "12  2024-09-03  11216870    00248         333   3700.0    PEN   \n",
       "14  2024-09-03  13361975    00248          83   1200.0    PEN   \n",
       "\n",
       "                                 NOMBRE ESTADO  FLAG            CONTRATO  \\\n",
       "0       EDWIN EMILIANO JAUREGUI GONGORA      P     1  001107859600162485   \n",
       "10               SANTOS MORAN CISNERON2      P     1  001102745001992697   \n",
       "11         ROCIO DEL PILAR LOPEZ BERTHA      P     1  001108149601126470   \n",
       "12  EDA ISABEL PAUCAR JAUREGUI 06892232      P     1  001103595001034256   \n",
       "14    DANIA MARIETA SARDON SANCHEZ.....      P     1  001102009600556058   \n",
       "\n",
       "   TIPO_FONDO CARTERA                   NOMBRE_CLIENTE FECHA_ENVIO  \\\n",
       "0        NULL   KSTBC  EDWIN EMILIANO JAUREGUI GONGORA      04-Sep   \n",
       "10       NULL   KSTBC            SANTOS MORAN CISNERON      04-Sep   \n",
       "11       NULL   KSTBC     ROCIO DEL PILAR LOPEZ BERTHA      04-Sep   \n",
       "12       NULL   KSTBC       EDA ISABEL PAUCAR JAUREGUI      04-Sep   \n",
       "14       NULL      BC     DANIA MARIETA SARDON SANCHEZ      04-Sep   \n",
       "\n",
       "   ID_RESPONSABLE TIPO_CARTERA      AGENCIA  \n",
       "0             MIV    UNSECURED   CLASA MORA  \n",
       "10            MIV    UNSECURED   CLASA MORA  \n",
       "11            MIV    UNSECURED   CLASA MORA  \n",
       "12            MIV    UNSECURED   CLASA MORA  \n",
       "14            MIV      SECURED  SIN AGENCIA  "
      ]
     },
     "execution_count": 23,
     "metadata": {},
     "output_type": "execute_result"
    }
   ],
   "source": [
    "df_mono = df_base_test[df_base_test['FLAG'] == 1]\n",
    "print(df_mono.shape)\n",
    "df_mono.head(5)"
   ]
  },
  {
   "cell_type": "code",
   "execution_count": 24,
   "metadata": {},
   "outputs": [
    {
     "data": {
      "text/plain": [
       "80"
      ]
     },
     "execution_count": 24,
     "metadata": {},
     "output_type": "execute_result"
    }
   ],
   "source": [
    "mono_count = df_mono.shape[0]\n",
    "mono_count"
   ]
  },
  {
   "cell_type": "code",
   "execution_count": 25,
   "metadata": {},
   "outputs": [
    {
     "data": {
      "text/plain": [
       "TIPO_CARTERA\n",
       "UNSECURED    76\n",
       "SECURED       3\n",
       "NULL          1\n",
       "Name: count, dtype: int64"
      ]
     },
     "execution_count": 25,
     "metadata": {},
     "output_type": "execute_result"
    }
   ],
   "source": [
    "df_mono['TIPO_CARTERA'].value_counts()"
   ]
  },
  {
   "cell_type": "code",
   "execution_count": 26,
   "metadata": {},
   "outputs": [
    {
     "data": {
      "text/plain": [
       "TIPO_FONDO\n",
       "NULL        76\n",
       "REACTIVA     4\n",
       "Name: count, dtype: int64"
      ]
     },
     "execution_count": 26,
     "metadata": {},
     "output_type": "execute_result"
    }
   ],
   "source": [
    "df_mono['TIPO_FONDO'].value_counts()"
   ]
  },
  {
   "cell_type": "code",
   "execution_count": 27,
   "metadata": {},
   "outputs": [
    {
     "data": {
      "text/plain": [
       "TIPO_CARTERA  TIPO_FONDO\n",
       "UNSECURED     NULL          74\n",
       "SECURED       REACTIVA       2\n",
       "UNSECURED     REACTIVA       2\n",
       "NULL          NULL           1\n",
       "SECURED       NULL           1\n",
       "Name: count, dtype: int64"
      ]
     },
     "execution_count": 27,
     "metadata": {},
     "output_type": "execute_result"
    }
   ],
   "source": [
    "df_mono[['TIPO_CARTERA', 'TIPO_FONDO']].value_counts()"
   ]
  },
  {
   "cell_type": "code",
   "execution_count": 28,
   "metadata": {},
   "outputs": [],
   "source": [
    "#################### MONO REACTIVA ####################"
   ]
  },
  {
   "cell_type": "code",
   "execution_count": 29,
   "metadata": {},
   "outputs": [
    {
     "name": "stdout",
     "output_type": "stream",
     "text": [
      "(2, 17)\n"
     ]
    },
    {
     "data": {
      "text/html": [
       "<div>\n",
       "<style scoped>\n",
       "    .dataframe tbody tr th:only-of-type {\n",
       "        vertical-align: middle;\n",
       "    }\n",
       "\n",
       "    .dataframe tbody tr th {\n",
       "        vertical-align: top;\n",
       "    }\n",
       "\n",
       "    .dataframe thead th {\n",
       "        text-align: right;\n",
       "    }\n",
       "</style>\n",
       "<table border=\"1\" class=\"dataframe\">\n",
       "  <thead>\n",
       "    <tr style=\"text-align: right;\">\n",
       "      <th></th>\n",
       "      <th>FECHA</th>\n",
       "      <th>CC</th>\n",
       "      <th>CLAVSERV</th>\n",
       "      <th>CENTROPAGO</th>\n",
       "      <th>IMPORTE</th>\n",
       "      <th>MONEDA</th>\n",
       "      <th>NOMBRE</th>\n",
       "      <th>ESTADO</th>\n",
       "      <th>FLAG</th>\n",
       "      <th>CONTRATO</th>\n",
       "      <th>TIPO_FONDO</th>\n",
       "      <th>CARTERA</th>\n",
       "      <th>NOMBRE_CLIENTE</th>\n",
       "      <th>FECHA_ENVIO</th>\n",
       "      <th>ID_RESPONSABLE</th>\n",
       "      <th>TIPO_CARTERA</th>\n",
       "      <th>AGENCIA</th>\n",
       "    </tr>\n",
       "  </thead>\n",
       "  <tbody>\n",
       "    <tr>\n",
       "      <th>0</th>\n",
       "      <td>2024-09-03</td>\n",
       "      <td>20426327</td>\n",
       "      <td>00248</td>\n",
       "      <td>232</td>\n",
       "      <td>2000.0</td>\n",
       "      <td>PEN</td>\n",
       "      <td>EDWIN SATURNINO CJURO HUARAC 04636799</td>\n",
       "      <td>P</td>\n",
       "      <td>1</td>\n",
       "      <td>001102329600469532</td>\n",
       "      <td>REACTIVA</td>\n",
       "      <td>BC</td>\n",
       "      <td>EDWIN SATURNINO CJURO HUACAC</td>\n",
       "      <td>04-Sep</td>\n",
       "      <td>MIV</td>\n",
       "      <td>UNSECURED</td>\n",
       "      <td>CLASA MORA</td>\n",
       "    </tr>\n",
       "    <tr>\n",
       "      <th>1</th>\n",
       "      <td>2024-09-03</td>\n",
       "      <td>21705624</td>\n",
       "      <td>00248</td>\n",
       "      <td>879</td>\n",
       "      <td>70000.0</td>\n",
       "      <td>PEN</td>\n",
       "      <td>TECNA PERU SAC</td>\n",
       "      <td>P</td>\n",
       "      <td>1</td>\n",
       "      <td>001103569600133903</td>\n",
       "      <td>REACTIVA</td>\n",
       "      <td>BC</td>\n",
       "      <td>TECNA PERU SAC</td>\n",
       "      <td>04-Sep</td>\n",
       "      <td>MIV</td>\n",
       "      <td>UNSECURED</td>\n",
       "      <td>ASESCOM RJ</td>\n",
       "    </tr>\n",
       "  </tbody>\n",
       "</table>\n",
       "</div>"
      ],
      "text/plain": [
       "        FECHA        CC CLAVSERV  CENTROPAGO  IMPORTE MONEDA  \\\n",
       "0  2024-09-03  20426327    00248         232   2000.0    PEN   \n",
       "1  2024-09-03  21705624    00248         879  70000.0    PEN   \n",
       "\n",
       "                                  NOMBRE ESTADO  FLAG            CONTRATO  \\\n",
       "0  EDWIN SATURNINO CJURO HUARAC 04636799      P     1  001102329600469532   \n",
       "1                         TECNA PERU SAC      P     1  001103569600133903   \n",
       "\n",
       "  TIPO_FONDO CARTERA                NOMBRE_CLIENTE FECHA_ENVIO ID_RESPONSABLE  \\\n",
       "0   REACTIVA      BC  EDWIN SATURNINO CJURO HUACAC      04-Sep            MIV   \n",
       "1   REACTIVA      BC                TECNA PERU SAC      04-Sep            MIV   \n",
       "\n",
       "  TIPO_CARTERA     AGENCIA  \n",
       "0    UNSECURED  CLASA MORA  \n",
       "1    UNSECURED  ASESCOM RJ  "
      ]
     },
     "execution_count": 29,
     "metadata": {},
     "output_type": "execute_result"
    }
   ],
   "source": [
    "df_reactiva = df_mono[(df_mono['TIPO_CARTERA'] == 'UNSECURED') & (df_mono['TIPO_FONDO'] != 'NULL')]\n",
    "df_reactiva.sort_values(by=['CC'], inplace=True)\n",
    "df_reactiva.reset_index(drop=True, inplace=True)\n",
    "print(df_reactiva.shape)\n",
    "df_reactiva.head(5)"
   ]
  },
  {
   "cell_type": "code",
   "execution_count": 30,
   "metadata": {},
   "outputs": [
    {
     "data": {
      "text/plain": [
       "2"
      ]
     },
     "execution_count": 30,
     "metadata": {},
     "output_type": "execute_result"
    }
   ],
   "source": [
    "reactiva_count = df_reactiva.shape[0]\n",
    "reactiva_count"
   ]
  },
  {
   "cell_type": "code",
   "execution_count": 31,
   "metadata": {},
   "outputs": [],
   "source": [
    "df_reactiva.to_excel(reactiva, index=False)"
   ]
  },
  {
   "cell_type": "code",
   "execution_count": 32,
   "metadata": {},
   "outputs": [],
   "source": [
    "#################### FIN REACTIVA ####################"
   ]
  },
  {
   "cell_type": "code",
   "execution_count": 33,
   "metadata": {},
   "outputs": [
    {
     "data": {
      "text/plain": [
       "4"
      ]
     },
     "execution_count": 33,
     "metadata": {},
     "output_type": "execute_result"
    }
   ],
   "source": [
    "df_no_mono = df_mono[(df_mono['TIPO_CARTERA'] != 'UNSECURED')]\n",
    "no_mono_count = df_no_mono.shape[0]\n",
    "no_mono_count"
   ]
  },
  {
   "cell_type": "code",
   "execution_count": 34,
   "metadata": {},
   "outputs": [
    {
     "name": "stdout",
     "output_type": "stream",
     "text": [
      "(74, 16)\n"
     ]
    },
    {
     "data": {
      "text/html": [
       "<div>\n",
       "<style scoped>\n",
       "    .dataframe tbody tr th:only-of-type {\n",
       "        vertical-align: middle;\n",
       "    }\n",
       "\n",
       "    .dataframe tbody tr th {\n",
       "        vertical-align: top;\n",
       "    }\n",
       "\n",
       "    .dataframe thead th {\n",
       "        text-align: right;\n",
       "    }\n",
       "</style>\n",
       "<table border=\"1\" class=\"dataframe\">\n",
       "  <thead>\n",
       "    <tr style=\"text-align: right;\">\n",
       "      <th></th>\n",
       "      <th>FECHA</th>\n",
       "      <th>CC</th>\n",
       "      <th>CLAVSERV</th>\n",
       "      <th>IMPORTE</th>\n",
       "      <th>MONEDA</th>\n",
       "      <th>NOMBRE</th>\n",
       "      <th>ESTADO</th>\n",
       "      <th>FLAG</th>\n",
       "      <th>CONTRATO</th>\n",
       "      <th>NOMBRE_CLIENTE</th>\n",
       "      <th>FECHA_ENVIO</th>\n",
       "      <th>ID_RESPONSABLE</th>\n",
       "      <th>TIPO_CARTERA</th>\n",
       "      <th>TIPO_FONDO</th>\n",
       "      <th>CARTERA</th>\n",
       "      <th>AGENCIA</th>\n",
       "    </tr>\n",
       "  </thead>\n",
       "  <tbody>\n",
       "    <tr>\n",
       "      <th>0</th>\n",
       "      <td>2024-09-03</td>\n",
       "      <td>00996548</td>\n",
       "      <td>00248</td>\n",
       "      <td>1050.0</td>\n",
       "      <td>PEN</td>\n",
       "      <td>EDWIN EMILIANO JAUREGUI GONGORA</td>\n",
       "      <td>P</td>\n",
       "      <td>1</td>\n",
       "      <td>001107859600162485</td>\n",
       "      <td>EDWIN EMILIANO JAUREGUI GONGORA</td>\n",
       "      <td>04-Sep</td>\n",
       "      <td>MIV</td>\n",
       "      <td>UNSECURED</td>\n",
       "      <td>NULL</td>\n",
       "      <td>KSTBC</td>\n",
       "      <td>CLASA MORA</td>\n",
       "    </tr>\n",
       "    <tr>\n",
       "      <th>1</th>\n",
       "      <td>2024-09-03</td>\n",
       "      <td>04101561</td>\n",
       "      <td>00248</td>\n",
       "      <td>2630.0</td>\n",
       "      <td>PEN</td>\n",
       "      <td>SANTOS MORAN CISNERON2</td>\n",
       "      <td>P</td>\n",
       "      <td>1</td>\n",
       "      <td>001102745001992697</td>\n",
       "      <td>SANTOS MORAN CISNERON</td>\n",
       "      <td>04-Sep</td>\n",
       "      <td>MIV</td>\n",
       "      <td>UNSECURED</td>\n",
       "      <td>NULL</td>\n",
       "      <td>KSTBC</td>\n",
       "      <td>CLASA MORA</td>\n",
       "    </tr>\n",
       "    <tr>\n",
       "      <th>2</th>\n",
       "      <td>2024-09-03</td>\n",
       "      <td>11176313</td>\n",
       "      <td>00248</td>\n",
       "      <td>500.0</td>\n",
       "      <td>PEN</td>\n",
       "      <td>ROCIO DEL PILAR LOPEZ BERTHA</td>\n",
       "      <td>P</td>\n",
       "      <td>1</td>\n",
       "      <td>001108149601126470</td>\n",
       "      <td>ROCIO DEL PILAR LOPEZ BERTHA</td>\n",
       "      <td>04-Sep</td>\n",
       "      <td>MIV</td>\n",
       "      <td>UNSECURED</td>\n",
       "      <td>NULL</td>\n",
       "      <td>KSTBC</td>\n",
       "      <td>CLASA MORA</td>\n",
       "    </tr>\n",
       "    <tr>\n",
       "      <th>3</th>\n",
       "      <td>2024-09-03</td>\n",
       "      <td>11216870</td>\n",
       "      <td>00248</td>\n",
       "      <td>3700.0</td>\n",
       "      <td>PEN</td>\n",
       "      <td>EDA ISABEL PAUCAR JAUREGUI 06892232</td>\n",
       "      <td>P</td>\n",
       "      <td>1</td>\n",
       "      <td>001103595001034256</td>\n",
       "      <td>EDA ISABEL PAUCAR JAUREGUI</td>\n",
       "      <td>04-Sep</td>\n",
       "      <td>MIV</td>\n",
       "      <td>UNSECURED</td>\n",
       "      <td>NULL</td>\n",
       "      <td>KSTBC</td>\n",
       "      <td>CLASA MORA</td>\n",
       "    </tr>\n",
       "    <tr>\n",
       "      <th>4</th>\n",
       "      <td>2024-09-03</td>\n",
       "      <td>14839020</td>\n",
       "      <td>00248</td>\n",
       "      <td>200.0</td>\n",
       "      <td>PEN</td>\n",
       "      <td>10279544 - OLGA PEZET OLIVA</td>\n",
       "      <td>P</td>\n",
       "      <td>1</td>\n",
       "      <td>001101905001003212</td>\n",
       "      <td>OLGA NATIVIDAD PEZET OLIVA</td>\n",
       "      <td>04-Sep</td>\n",
       "      <td>MIV</td>\n",
       "      <td>UNSECURED</td>\n",
       "      <td>NULL</td>\n",
       "      <td>KSTBC</td>\n",
       "      <td>CLASA MORA</td>\n",
       "    </tr>\n",
       "  </tbody>\n",
       "</table>\n",
       "</div>"
      ],
      "text/plain": [
       "        FECHA        CC CLAVSERV  IMPORTE MONEDA  \\\n",
       "0  2024-09-03  00996548    00248   1050.0    PEN   \n",
       "1  2024-09-03  04101561    00248   2630.0    PEN   \n",
       "2  2024-09-03  11176313    00248    500.0    PEN   \n",
       "3  2024-09-03  11216870    00248   3700.0    PEN   \n",
       "4  2024-09-03  14839020    00248    200.0    PEN   \n",
       "\n",
       "                                NOMBRE ESTADO  FLAG            CONTRATO  \\\n",
       "0      EDWIN EMILIANO JAUREGUI GONGORA      P     1  001107859600162485   \n",
       "1               SANTOS MORAN CISNERON2      P     1  001102745001992697   \n",
       "2         ROCIO DEL PILAR LOPEZ BERTHA      P     1  001108149601126470   \n",
       "3  EDA ISABEL PAUCAR JAUREGUI 06892232      P     1  001103595001034256   \n",
       "4          10279544 - OLGA PEZET OLIVA      P     1  001101905001003212   \n",
       "\n",
       "                    NOMBRE_CLIENTE FECHA_ENVIO ID_RESPONSABLE TIPO_CARTERA  \\\n",
       "0  EDWIN EMILIANO JAUREGUI GONGORA      04-Sep            MIV    UNSECURED   \n",
       "1            SANTOS MORAN CISNERON      04-Sep            MIV    UNSECURED   \n",
       "2     ROCIO DEL PILAR LOPEZ BERTHA      04-Sep            MIV    UNSECURED   \n",
       "3       EDA ISABEL PAUCAR JAUREGUI      04-Sep            MIV    UNSECURED   \n",
       "4       OLGA NATIVIDAD PEZET OLIVA      04-Sep            MIV    UNSECURED   \n",
       "\n",
       "  TIPO_FONDO CARTERA     AGENCIA  \n",
       "0       NULL   KSTBC  CLASA MORA  \n",
       "1       NULL   KSTBC  CLASA MORA  \n",
       "2       NULL   KSTBC  CLASA MORA  \n",
       "3       NULL   KSTBC  CLASA MORA  \n",
       "4       NULL   KSTBC  CLASA MORA  "
      ]
     },
     "execution_count": 34,
     "metadata": {},
     "output_type": "execute_result"
    }
   ],
   "source": [
    "df_mono = df_mono[df_mono['TIPO_CARTERA'] == 'UNSECURED']\n",
    "df_mono = df_mono[df_mono['TIPO_FONDO'] == 'NULL']\n",
    "\n",
    "cols_mono = ['FECHA', 'CC', 'CLAVSERV', 'IMPORTE', 'MONEDA', 'NOMBRE', 'ESTADO', 'FLAG', 'CONTRATO', 'NOMBRE_CLIENTE', 'FECHA_ENVIO', 'ID_RESPONSABLE', 'TIPO_CARTERA', 'TIPO_FONDO', 'CARTERA', 'AGENCIA']\n",
    "df_mono = df_mono[cols_mono]\n",
    "\n",
    "df_mono.sort_values(by=['CC'], inplace=True)\n",
    "df_mono.reset_index(drop=True, inplace=True)\n",
    "\n",
    "print(df_mono.shape)\n",
    "df_mono.head(5)"
   ]
  },
  {
   "cell_type": "code",
   "execution_count": 35,
   "metadata": {},
   "outputs": [],
   "source": [
    "df_mono.to_excel(monoproducto, index=False)"
   ]
  },
  {
   "cell_type": "code",
   "execution_count": 36,
   "metadata": {},
   "outputs": [
    {
     "data": {
      "text/plain": [
       "74"
      ]
     },
     "execution_count": 36,
     "metadata": {},
     "output_type": "execute_result"
    }
   ],
   "source": [
    "mono_count_final = df_mono.shape[0]\n",
    "mono_count_final"
   ]
  },
  {
   "cell_type": "code",
   "execution_count": 37,
   "metadata": {},
   "outputs": [
    {
     "name": "stdout",
     "output_type": "stream",
     "text": [
      "MONOPRODUCTO OK\n"
     ]
    }
   ],
   "source": [
    "if mono_count == mono_count_final + reactiva_count + no_mono_count:\n",
    "    print('MONOPRODUCTO OK')\n",
    "else:\n",
    "    print('MONOPRODUCTO ERROR')"
   ]
  },
  {
   "cell_type": "code",
   "execution_count": 38,
   "metadata": {},
   "outputs": [],
   "source": [
    "#################### FIN MONOPRODUCTO ####################"
   ]
  },
  {
   "cell_type": "code",
   "execution_count": 39,
   "metadata": {},
   "outputs": [],
   "source": [
    "#################### MULTIPRODUCTO ####################"
   ]
  },
  {
   "cell_type": "code",
   "execution_count": 40,
   "metadata": {},
   "outputs": [
    {
     "name": "stdout",
     "output_type": "stream",
     "text": [
      "(24, 17)\n"
     ]
    },
    {
     "data": {
      "text/html": [
       "<div>\n",
       "<style scoped>\n",
       "    .dataframe tbody tr th:only-of-type {\n",
       "        vertical-align: middle;\n",
       "    }\n",
       "\n",
       "    .dataframe tbody tr th {\n",
       "        vertical-align: top;\n",
       "    }\n",
       "\n",
       "    .dataframe thead th {\n",
       "        text-align: right;\n",
       "    }\n",
       "</style>\n",
       "<table border=\"1\" class=\"dataframe\">\n",
       "  <thead>\n",
       "    <tr style=\"text-align: right;\">\n",
       "      <th></th>\n",
       "      <th>FECHA</th>\n",
       "      <th>CC</th>\n",
       "      <th>CLAVSERV</th>\n",
       "      <th>CENTROPAGO</th>\n",
       "      <th>IMPORTE</th>\n",
       "      <th>MONEDA</th>\n",
       "      <th>NOMBRE</th>\n",
       "      <th>ESTADO</th>\n",
       "      <th>FLAG</th>\n",
       "      <th>CONTRATO</th>\n",
       "      <th>TIPO_FONDO</th>\n",
       "      <th>CARTERA</th>\n",
       "      <th>NOMBRE_CLIENTE</th>\n",
       "      <th>FECHA_ENVIO</th>\n",
       "      <th>ID_RESPONSABLE</th>\n",
       "      <th>TIPO_CARTERA</th>\n",
       "      <th>AGENCIA</th>\n",
       "    </tr>\n",
       "  </thead>\n",
       "  <tbody>\n",
       "    <tr>\n",
       "      <th>1</th>\n",
       "      <td>2024-09-03</td>\n",
       "      <td>03376699</td>\n",
       "      <td>00248</td>\n",
       "      <td>110</td>\n",
       "      <td>2496.0</td>\n",
       "      <td>PEN</td>\n",
       "      <td>VERONICA HILDA HAGUE MARROU - 06722637</td>\n",
       "      <td>P</td>\n",
       "      <td>3</td>\n",
       "      <td>001103525001621897</td>\n",
       "      <td>NULL</td>\n",
       "      <td>EXJ</td>\n",
       "      <td>VERONICA HILDA HAGUE MARROU</td>\n",
       "      <td>04-Sep</td>\n",
       "      <td>MIV</td>\n",
       "      <td>UNSECURED</td>\n",
       "      <td>ASESCOM RJ</td>\n",
       "    </tr>\n",
       "    <tr>\n",
       "      <th>24</th>\n",
       "      <td>2024-09-03</td>\n",
       "      <td>20597258</td>\n",
       "      <td>00248</td>\n",
       "      <td>368</td>\n",
       "      <td>1000.0</td>\n",
       "      <td>PEN</td>\n",
       "      <td>LARA OTAZU ANA MARIA</td>\n",
       "      <td>P</td>\n",
       "      <td>2</td>\n",
       "      <td>001102619600041719</td>\n",
       "      <td>NULL</td>\n",
       "      <td>EXJ</td>\n",
       "      <td>ANA MARIA LARA OTAZU</td>\n",
       "      <td>04-Sep</td>\n",
       "      <td>MIV</td>\n",
       "      <td>UNSECURED</td>\n",
       "      <td>ASESCOM RJ</td>\n",
       "    </tr>\n",
       "    <tr>\n",
       "      <th>34</th>\n",
       "      <td>2024-09-03</td>\n",
       "      <td>21389157</td>\n",
       "      <td>00248</td>\n",
       "      <td>345</td>\n",
       "      <td>50.0</td>\n",
       "      <td>PEN</td>\n",
       "      <td>ANTONIO GUILLERMO TAICO URBINA</td>\n",
       "      <td>P</td>\n",
       "      <td>2</td>\n",
       "      <td>001103675001496814</td>\n",
       "      <td>NULL</td>\n",
       "      <td>KSTBC</td>\n",
       "      <td>ANTONIO GUILLERMO TAICO URBINA</td>\n",
       "      <td>04-Sep</td>\n",
       "      <td>MIV</td>\n",
       "      <td>UNSECURED</td>\n",
       "      <td>CLASA MORA</td>\n",
       "    </tr>\n",
       "    <tr>\n",
       "      <th>44</th>\n",
       "      <td>2024-09-03</td>\n",
       "      <td>21916504</td>\n",
       "      <td>00248</td>\n",
       "      <td>272</td>\n",
       "      <td>1795.0</td>\n",
       "      <td>PEN</td>\n",
       "      <td>CHRISTIAN RAFAEL URBINA CARRILO</td>\n",
       "      <td>P</td>\n",
       "      <td>3</td>\n",
       "      <td>001108319601381503</td>\n",
       "      <td>NULL</td>\n",
       "      <td>EXJ</td>\n",
       "      <td>CHRISTIAN RAFAEL URBINA CARRILLO</td>\n",
       "      <td>04-Sep</td>\n",
       "      <td>MIV</td>\n",
       "      <td>UNSECURED</td>\n",
       "      <td>MORNESE MORA</td>\n",
       "    </tr>\n",
       "    <tr>\n",
       "      <th>55</th>\n",
       "      <td>2024-09-03</td>\n",
       "      <td>22338444</td>\n",
       "      <td>00248</td>\n",
       "      <td>108</td>\n",
       "      <td>1200.0</td>\n",
       "      <td>PEN</td>\n",
       "      <td>MARCO ANTONIO TEROBEO TAPIA</td>\n",
       "      <td>P</td>\n",
       "      <td>2</td>\n",
       "      <td>001101089600055199</td>\n",
       "      <td>NULL</td>\n",
       "      <td>BC</td>\n",
       "      <td>MARCO ANTONIO TOROBEO TAPIA</td>\n",
       "      <td>04-Sep</td>\n",
       "      <td>MIV</td>\n",
       "      <td>SECURED</td>\n",
       "      <td>SIN AGENCIA</td>\n",
       "    </tr>\n",
       "  </tbody>\n",
       "</table>\n",
       "</div>"
      ],
      "text/plain": [
       "         FECHA        CC CLAVSERV  CENTROPAGO  IMPORTE MONEDA  \\\n",
       "1   2024-09-03  03376699    00248         110   2496.0    PEN   \n",
       "24  2024-09-03  20597258    00248         368   1000.0    PEN   \n",
       "34  2024-09-03  21389157    00248         345     50.0    PEN   \n",
       "44  2024-09-03  21916504    00248         272   1795.0    PEN   \n",
       "55  2024-09-03  22338444    00248         108   1200.0    PEN   \n",
       "\n",
       "                                    NOMBRE ESTADO  FLAG            CONTRATO  \\\n",
       "1   VERONICA HILDA HAGUE MARROU - 06722637      P     3  001103525001621897   \n",
       "24                    LARA OTAZU ANA MARIA      P     2  001102619600041719   \n",
       "34          ANTONIO GUILLERMO TAICO URBINA      P     2  001103675001496814   \n",
       "44         CHRISTIAN RAFAEL URBINA CARRILO      P     3  001108319601381503   \n",
       "55             MARCO ANTONIO TEROBEO TAPIA      P     2  001101089600055199   \n",
       "\n",
       "   TIPO_FONDO CARTERA                    NOMBRE_CLIENTE FECHA_ENVIO  \\\n",
       "1        NULL     EXJ       VERONICA HILDA HAGUE MARROU      04-Sep   \n",
       "24       NULL     EXJ              ANA MARIA LARA OTAZU      04-Sep   \n",
       "34       NULL   KSTBC    ANTONIO GUILLERMO TAICO URBINA      04-Sep   \n",
       "44       NULL     EXJ  CHRISTIAN RAFAEL URBINA CARRILLO      04-Sep   \n",
       "55       NULL      BC       MARCO ANTONIO TOROBEO TAPIA      04-Sep   \n",
       "\n",
       "   ID_RESPONSABLE TIPO_CARTERA       AGENCIA  \n",
       "1             MIV    UNSECURED    ASESCOM RJ  \n",
       "24            MIV    UNSECURED    ASESCOM RJ  \n",
       "34            MIV    UNSECURED    CLASA MORA  \n",
       "44            MIV    UNSECURED  MORNESE MORA  \n",
       "55            MIV      SECURED   SIN AGENCIA  "
      ]
     },
     "execution_count": 40,
     "metadata": {},
     "output_type": "execute_result"
    }
   ],
   "source": [
    "df_multi = df_base_test[df_base_test['FLAG'] > 1].copy()\n",
    "print(df_multi.shape)\n",
    "df_multi.head(5)"
   ]
  },
  {
   "cell_type": "code",
   "execution_count": 41,
   "metadata": {},
   "outputs": [
    {
     "data": {
      "text/plain": [
       "24"
      ]
     },
     "execution_count": 41,
     "metadata": {},
     "output_type": "execute_result"
    }
   ],
   "source": [
    "multi_count = df_multi.shape[0]\n",
    "multi_count"
   ]
  },
  {
   "cell_type": "code",
   "execution_count": 42,
   "metadata": {},
   "outputs": [
    {
     "data": {
      "text/plain": [
       "TIPO_CARTERA\n",
       "UNSECURED    21\n",
       "SECURED       3\n",
       "Name: count, dtype: int64"
      ]
     },
     "execution_count": 42,
     "metadata": {},
     "output_type": "execute_result"
    }
   ],
   "source": [
    "df_multi['TIPO_CARTERA'].value_counts()"
   ]
  },
  {
   "cell_type": "code",
   "execution_count": 43,
   "metadata": {},
   "outputs": [
    {
     "data": {
      "text/plain": [
       "TIPO_FONDO\n",
       "NULL        23\n",
       "REACTIVA     1\n",
       "Name: count, dtype: int64"
      ]
     },
     "execution_count": 43,
     "metadata": {},
     "output_type": "execute_result"
    }
   ],
   "source": [
    "df_multi['TIPO_FONDO'].value_counts()"
   ]
  },
  {
   "cell_type": "code",
   "execution_count": 44,
   "metadata": {},
   "outputs": [
    {
     "data": {
      "text/plain": [
       "3"
      ]
     },
     "execution_count": 44,
     "metadata": {},
     "output_type": "execute_result"
    }
   ],
   "source": [
    "df_no_multi = df_multi[(df_multi['TIPO_CARTERA'] != 'UNSECURED')]\n",
    "no_multi_count = df_no_multi.shape[0]\n",
    "no_multi_count"
   ]
  },
  {
   "cell_type": "code",
   "execution_count": 45,
   "metadata": {},
   "outputs": [
    {
     "name": "stdout",
     "output_type": "stream",
     "text": [
      "(21, 14)\n"
     ]
    },
    {
     "data": {
      "text/html": [
       "<div>\n",
       "<style scoped>\n",
       "    .dataframe tbody tr th:only-of-type {\n",
       "        vertical-align: middle;\n",
       "    }\n",
       "\n",
       "    .dataframe tbody tr th {\n",
       "        vertical-align: top;\n",
       "    }\n",
       "\n",
       "    .dataframe thead th {\n",
       "        text-align: right;\n",
       "    }\n",
       "</style>\n",
       "<table border=\"1\" class=\"dataframe\">\n",
       "  <thead>\n",
       "    <tr style=\"text-align: right;\">\n",
       "      <th></th>\n",
       "      <th>FECHA</th>\n",
       "      <th>CC</th>\n",
       "      <th>CLAVSERV</th>\n",
       "      <th>IMPORTE</th>\n",
       "      <th>MONEDA</th>\n",
       "      <th>NOMBRE</th>\n",
       "      <th>ESTADO</th>\n",
       "      <th>FLAG</th>\n",
       "      <th>CONTRATO</th>\n",
       "      <th>TIPO_FONDO</th>\n",
       "      <th>CARTERA</th>\n",
       "      <th>NOMBRE_CLIENTE</th>\n",
       "      <th>FECHA_ENVIO</th>\n",
       "      <th>ID_RESPONSABLE</th>\n",
       "    </tr>\n",
       "  </thead>\n",
       "  <tbody>\n",
       "    <tr>\n",
       "      <th>0</th>\n",
       "      <td>2024-09-03</td>\n",
       "      <td>03376699</td>\n",
       "      <td>00248</td>\n",
       "      <td>2496.00</td>\n",
       "      <td>PEN</td>\n",
       "      <td>VERONICA HILDA HAGUE MARROU - 06722637</td>\n",
       "      <td>P</td>\n",
       "      <td>3</td>\n",
       "      <td>None</td>\n",
       "      <td>None</td>\n",
       "      <td>None</td>\n",
       "      <td>VERONICA HILDA HAGUE MARROU</td>\n",
       "      <td>04-Sep</td>\n",
       "      <td>MIV</td>\n",
       "    </tr>\n",
       "    <tr>\n",
       "      <th>1</th>\n",
       "      <td>2024-09-03</td>\n",
       "      <td>20597258</td>\n",
       "      <td>00248</td>\n",
       "      <td>1000.00</td>\n",
       "      <td>PEN</td>\n",
       "      <td>LARA OTAZU ANA MARIA</td>\n",
       "      <td>P</td>\n",
       "      <td>2</td>\n",
       "      <td>None</td>\n",
       "      <td>None</td>\n",
       "      <td>None</td>\n",
       "      <td>ANA MARIA LARA OTAZU</td>\n",
       "      <td>04-Sep</td>\n",
       "      <td>MIV</td>\n",
       "    </tr>\n",
       "    <tr>\n",
       "      <th>2</th>\n",
       "      <td>2024-09-03</td>\n",
       "      <td>21389157</td>\n",
       "      <td>00248</td>\n",
       "      <td>50.00</td>\n",
       "      <td>PEN</td>\n",
       "      <td>ANTONIO GUILLERMO TAICO URBINA</td>\n",
       "      <td>P</td>\n",
       "      <td>2</td>\n",
       "      <td>None</td>\n",
       "      <td>None</td>\n",
       "      <td>None</td>\n",
       "      <td>ANTONIO GUILLERMO TAICO URBINA</td>\n",
       "      <td>04-Sep</td>\n",
       "      <td>MIV</td>\n",
       "    </tr>\n",
       "    <tr>\n",
       "      <th>3</th>\n",
       "      <td>2024-09-03</td>\n",
       "      <td>21916504</td>\n",
       "      <td>00248</td>\n",
       "      <td>1795.00</td>\n",
       "      <td>PEN</td>\n",
       "      <td>CHRISTIAN RAFAEL URBINA CARRILO</td>\n",
       "      <td>P</td>\n",
       "      <td>3</td>\n",
       "      <td>None</td>\n",
       "      <td>None</td>\n",
       "      <td>None</td>\n",
       "      <td>CHRISTIAN RAFAEL URBINA CARRILLO</td>\n",
       "      <td>04-Sep</td>\n",
       "      <td>MIV</td>\n",
       "    </tr>\n",
       "    <tr>\n",
       "      <th>4</th>\n",
       "      <td>2024-09-03</td>\n",
       "      <td>22345922</td>\n",
       "      <td>00248</td>\n",
       "      <td>58.19</td>\n",
       "      <td>PEN</td>\n",
       "      <td>001104085013323046</td>\n",
       "      <td>P</td>\n",
       "      <td>2</td>\n",
       "      <td>None</td>\n",
       "      <td>None</td>\n",
       "      <td>None</td>\n",
       "      <td>FREDY ROLANDOCASIANOLEON</td>\n",
       "      <td>04-Sep</td>\n",
       "      <td>MIV</td>\n",
       "    </tr>\n",
       "  </tbody>\n",
       "</table>\n",
       "</div>"
      ],
      "text/plain": [
       "        FECHA        CC CLAVSERV  IMPORTE MONEDA  \\\n",
       "0  2024-09-03  03376699    00248  2496.00    PEN   \n",
       "1  2024-09-03  20597258    00248  1000.00    PEN   \n",
       "2  2024-09-03  21389157    00248    50.00    PEN   \n",
       "3  2024-09-03  21916504    00248  1795.00    PEN   \n",
       "4  2024-09-03  22345922    00248    58.19    PEN   \n",
       "\n",
       "                                   NOMBRE ESTADO  FLAG CONTRATO TIPO_FONDO  \\\n",
       "0  VERONICA HILDA HAGUE MARROU - 06722637      P     3     None       None   \n",
       "1                    LARA OTAZU ANA MARIA      P     2     None       None   \n",
       "2          ANTONIO GUILLERMO TAICO URBINA      P     2     None       None   \n",
       "3         CHRISTIAN RAFAEL URBINA CARRILO      P     3     None       None   \n",
       "4                      001104085013323046      P     2     None       None   \n",
       "\n",
       "  CARTERA                    NOMBRE_CLIENTE FECHA_ENVIO ID_RESPONSABLE  \n",
       "0    None       VERONICA HILDA HAGUE MARROU      04-Sep            MIV  \n",
       "1    None              ANA MARIA LARA OTAZU      04-Sep            MIV  \n",
       "2    None    ANTONIO GUILLERMO TAICO URBINA      04-Sep            MIV  \n",
       "3    None  CHRISTIAN RAFAEL URBINA CARRILLO      04-Sep            MIV  \n",
       "4    None          FREDY ROLANDOCASIANOLEON      04-Sep            MIV  "
      ]
     },
     "execution_count": 45,
     "metadata": {},
     "output_type": "execute_result"
    }
   ],
   "source": [
    "df_multi = df_multi[df_multi['TIPO_CARTERA'] == 'UNSECURED']\n",
    "\n",
    "df_multi['CONTRATO'] = None\n",
    "df_multi['TIPO_FONDO'] = None\n",
    "df_multi['CARTERA'] = None\n",
    "\n",
    "cols_multi = ['FECHA', 'CC', 'CLAVSERV', 'IMPORTE', 'MONEDA', 'NOMBRE', 'ESTADO', 'FLAG', 'CONTRATO', 'TIPO_FONDO', 'CARTERA', 'NOMBRE_CLIENTE', 'FECHA_ENVIO', 'ID_RESPONSABLE']\n",
    "df_multi = df_multi[cols_multi]\n",
    "\n",
    "df_multi = df_multi.drop_duplicates(subset=['CC', 'IMPORTE', 'MONEDA', 'NOMBRE'])\n",
    "\n",
    "df_multi.sort_values(by=['CC'], inplace=True)\n",
    "df_multi.reset_index(drop=True, inplace=True)\n",
    "\n",
    "print(df_multi.shape)\n",
    "df_multi.head(5)"
   ]
  },
  {
   "cell_type": "code",
   "execution_count": 46,
   "metadata": {},
   "outputs": [],
   "source": [
    "df_multi.to_excel(multiproducto, index=False)"
   ]
  },
  {
   "cell_type": "code",
   "execution_count": 47,
   "metadata": {},
   "outputs": [
    {
     "data": {
      "text/plain": [
       "21"
      ]
     },
     "execution_count": 47,
     "metadata": {},
     "output_type": "execute_result"
    }
   ],
   "source": [
    "multi_count_final = df_multi.shape[0]\n",
    "multi_count_final"
   ]
  },
  {
   "cell_type": "code",
   "execution_count": 48,
   "metadata": {},
   "outputs": [
    {
     "name": "stdout",
     "output_type": "stream",
     "text": [
      "MULTIPRODUCTO OK\n"
     ]
    }
   ],
   "source": [
    "if multi_count == multi_count_final + no_multi_count:\n",
    "    print('MULTIPRODUCTO OK')\n",
    "else:\n",
    "    print('MULTIPRODUCTO ERROR')"
   ]
  },
  {
   "cell_type": "code",
   "execution_count": 49,
   "metadata": {},
   "outputs": [],
   "source": [
    "#################### FIN MULTIPRODUCTO ####################"
   ]
  },
  {
   "cell_type": "code",
   "execution_count": 50,
   "metadata": {},
   "outputs": [],
   "source": [
    "#################### NO ENVIADOS ####################"
   ]
  },
  {
   "cell_type": "code",
   "execution_count": 51,
   "metadata": {},
   "outputs": [
    {
     "name": "stdout",
     "output_type": "stream",
     "text": [
      "No enviados: 56\n",
      "Enviados: 97\n",
      "Total: 153\n"
     ]
    }
   ],
   "source": [
    "no_eviados = no_mono_count + no_multi_count + no_flag_count\n",
    "enviados = mono_count_final + multi_count_final + reactiva_count\n",
    "\n",
    "print('No enviados:', no_eviados)\n",
    "print('Enviados:', enviados)\n",
    "print('Total:', no_eviados + enviados)"
   ]
  },
  {
   "cell_type": "code",
   "execution_count": 52,
   "metadata": {},
   "outputs": [
    {
     "name": "stdout",
     "output_type": "stream",
     "text": [
      "REGISTROS OK\n"
     ]
    }
   ],
   "source": [
    "if base_count == enviados + no_eviados:\n",
    "    print('REGISTROS OK')\n",
    "else:\n",
    "    print('REGISTROS ERROR')"
   ]
  },
  {
   "cell_type": "code",
   "execution_count": 53,
   "metadata": {},
   "outputs": [
    {
     "name": "stdout",
     "output_type": "stream",
     "text": [
      "Index(['FECHA', 'CC', 'CLAVSERV', 'CENTROPAGO', 'IMPORTE', 'MONEDA', 'NOMBRE',\n",
      "       'ESTADO', 'FLAG', 'CONTRATO', 'TIPO_FONDO', 'CARTERA', 'NOMBRE_CLIENTE',\n",
      "       'FECHA_ENVIO', 'ID_RESPONSABLE', 'TIPO_CARTERA', 'AGENCIA'],\n",
      "      dtype='object')\n",
      "Index(['FECHA', 'CC', 'CLAVSERV', 'CENTROPAGO', 'IMPORTE', 'MONEDA', 'NOMBRE',\n",
      "       'ESTADO', 'FLAG', 'CONTRATO', 'TIPO_FONDO', 'CARTERA', 'NOMBRE_CLIENTE',\n",
      "       'FECHA_ENVIO', 'ID_RESPONSABLE', 'TIPO_CARTERA', 'AGENCIA'],\n",
      "      dtype='object')\n",
      "Index(['FECHA', 'CC', 'CLAVSERV', 'CENTROPAGO', 'IMPORTE', 'MONEDA', 'NOMBRE',\n",
      "       'ESTADO', 'FLAG', 'CONTRATO', 'TIPO_FONDO', 'CARTERA', 'NOMBRE_CLIENTE',\n",
      "       'FECHA_ENVIO', 'ID_RESPONSABLE', 'TIPO_CARTERA', 'AGENCIA'],\n",
      "      dtype='object')\n"
     ]
    }
   ],
   "source": [
    "print(df_no_mono.columns)\n",
    "print(df_no_multi.columns)\n",
    "print(df_base_no_flag.columns)"
   ]
  },
  {
   "cell_type": "code",
   "execution_count": 54,
   "metadata": {},
   "outputs": [
    {
     "name": "stdout",
     "output_type": "stream",
     "text": [
      "(56, 17)\n",
      "FECHA              object\n",
      "CC                 object\n",
      "CLAVSERV           object\n",
      "CENTROPAGO          int64\n",
      "IMPORTE           float64\n",
      "MONEDA             object\n",
      "NOMBRE             object\n",
      "ESTADO             object\n",
      "FLAG               object\n",
      "CONTRATO           object\n",
      "TIPO_FONDO         object\n",
      "CARTERA            object\n",
      "NOMBRE_CLIENTE     object\n",
      "FECHA_ENVIO        object\n",
      "ID_RESPONSABLE     object\n",
      "TIPO_CARTERA       object\n",
      "AGENCIA            object\n",
      "dtype: object\n"
     ]
    },
    {
     "data": {
      "text/html": [
       "<div>\n",
       "<style scoped>\n",
       "    .dataframe tbody tr th:only-of-type {\n",
       "        vertical-align: middle;\n",
       "    }\n",
       "\n",
       "    .dataframe tbody tr th {\n",
       "        vertical-align: top;\n",
       "    }\n",
       "\n",
       "    .dataframe thead th {\n",
       "        text-align: right;\n",
       "    }\n",
       "</style>\n",
       "<table border=\"1\" class=\"dataframe\">\n",
       "  <thead>\n",
       "    <tr style=\"text-align: right;\">\n",
       "      <th></th>\n",
       "      <th>FECHA</th>\n",
       "      <th>CC</th>\n",
       "      <th>CLAVSERV</th>\n",
       "      <th>CENTROPAGO</th>\n",
       "      <th>IMPORTE</th>\n",
       "      <th>MONEDA</th>\n",
       "      <th>NOMBRE</th>\n",
       "      <th>ESTADO</th>\n",
       "      <th>FLAG</th>\n",
       "      <th>CONTRATO</th>\n",
       "      <th>TIPO_FONDO</th>\n",
       "      <th>CARTERA</th>\n",
       "      <th>NOMBRE_CLIENTE</th>\n",
       "      <th>FECHA_ENVIO</th>\n",
       "      <th>ID_RESPONSABLE</th>\n",
       "      <th>TIPO_CARTERA</th>\n",
       "      <th>AGENCIA</th>\n",
       "    </tr>\n",
       "  </thead>\n",
       "  <tbody>\n",
       "    <tr>\n",
       "      <th>0</th>\n",
       "      <td>2024-09-03</td>\n",
       "      <td>11224490</td>\n",
       "      <td>00248</td>\n",
       "      <td>250</td>\n",
       "      <td>1385.00</td>\n",
       "      <td>PEN</td>\n",
       "      <td>JUAN MILTON MUÑOZ RIOS/26684543 TC</td>\n",
       "      <td>P</td>\n",
       "      <td></td>\n",
       "      <td>None</td>\n",
       "      <td>None</td>\n",
       "      <td>NaN</td>\n",
       "      <td>NaN</td>\n",
       "      <td>04-Sep</td>\n",
       "      <td>MIV</td>\n",
       "      <td>None</td>\n",
       "      <td>NaN</td>\n",
       "    </tr>\n",
       "    <tr>\n",
       "      <th>1</th>\n",
       "      <td>2024-09-03</td>\n",
       "      <td>13361975</td>\n",
       "      <td>00248</td>\n",
       "      <td>83</td>\n",
       "      <td>1200.00</td>\n",
       "      <td>PEN</td>\n",
       "      <td>DANIA MARIETA SARDON SANCHEZ.....</td>\n",
       "      <td>P</td>\n",
       "      <td>1</td>\n",
       "      <td>001102009600556058</td>\n",
       "      <td>NULL</td>\n",
       "      <td>BC</td>\n",
       "      <td>DANIA MARIETA SARDON SANCHEZ</td>\n",
       "      <td>04-Sep</td>\n",
       "      <td>MIV</td>\n",
       "      <td>SECURED</td>\n",
       "      <td>SIN AGENCIA</td>\n",
       "    </tr>\n",
       "    <tr>\n",
       "      <th>2</th>\n",
       "      <td>2024-09-03</td>\n",
       "      <td>14353666</td>\n",
       "      <td>00248</td>\n",
       "      <td>247</td>\n",
       "      <td>12586.97</td>\n",
       "      <td>PEN</td>\n",
       "      <td>EXT JUD 001102475001818843</td>\n",
       "      <td>P</td>\n",
       "      <td></td>\n",
       "      <td>None</td>\n",
       "      <td>None</td>\n",
       "      <td>NaN</td>\n",
       "      <td>NaN</td>\n",
       "      <td>04-Sep</td>\n",
       "      <td>MIV</td>\n",
       "      <td>None</td>\n",
       "      <td>NaN</td>\n",
       "    </tr>\n",
       "    <tr>\n",
       "      <th>3</th>\n",
       "      <td>2024-09-03</td>\n",
       "      <td>20414784</td>\n",
       "      <td>00248</td>\n",
       "      <td>291</td>\n",
       "      <td>819.33</td>\n",
       "      <td>PEN</td>\n",
       "      <td>001102915001612854</td>\n",
       "      <td>P</td>\n",
       "      <td></td>\n",
       "      <td>None</td>\n",
       "      <td>None</td>\n",
       "      <td>NaN</td>\n",
       "      <td>NaN</td>\n",
       "      <td>04-Sep</td>\n",
       "      <td>MIV</td>\n",
       "      <td>None</td>\n",
       "      <td>NaN</td>\n",
       "    </tr>\n",
       "    <tr>\n",
       "      <th>4</th>\n",
       "      <td>2024-09-03</td>\n",
       "      <td>21236576</td>\n",
       "      <td>00248</td>\n",
       "      <td>275</td>\n",
       "      <td>200.00</td>\n",
       "      <td>PEN</td>\n",
       "      <td>MIGUEL GARRO ZULOAGA,</td>\n",
       "      <td>P</td>\n",
       "      <td></td>\n",
       "      <td>None</td>\n",
       "      <td>None</td>\n",
       "      <td>NaN</td>\n",
       "      <td>NaN</td>\n",
       "      <td>04-Sep</td>\n",
       "      <td>MIV</td>\n",
       "      <td>None</td>\n",
       "      <td>NaN</td>\n",
       "    </tr>\n",
       "  </tbody>\n",
       "</table>\n",
       "</div>"
      ],
      "text/plain": [
       "        FECHA        CC CLAVSERV  CENTROPAGO   IMPORTE MONEDA  \\\n",
       "0  2024-09-03  11224490    00248         250   1385.00    PEN   \n",
       "1  2024-09-03  13361975    00248          83   1200.00    PEN   \n",
       "2  2024-09-03  14353666    00248         247  12586.97    PEN   \n",
       "3  2024-09-03  20414784    00248         291    819.33    PEN   \n",
       "4  2024-09-03  21236576    00248         275    200.00    PEN   \n",
       "\n",
       "                               NOMBRE ESTADO FLAG            CONTRATO  \\\n",
       "0  JUAN MILTON MUÑOZ RIOS/26684543 TC      P                     None   \n",
       "1   DANIA MARIETA SARDON SANCHEZ.....      P    1  001102009600556058   \n",
       "2          EXT JUD 001102475001818843      P                     None   \n",
       "3                  001102915001612854      P                     None   \n",
       "4               MIGUEL GARRO ZULOAGA,      P                     None   \n",
       "\n",
       "  TIPO_FONDO CARTERA                NOMBRE_CLIENTE FECHA_ENVIO ID_RESPONSABLE  \\\n",
       "0       None     NaN                           NaN      04-Sep            MIV   \n",
       "1       NULL      BC  DANIA MARIETA SARDON SANCHEZ      04-Sep            MIV   \n",
       "2       None     NaN                           NaN      04-Sep            MIV   \n",
       "3       None     NaN                           NaN      04-Sep            MIV   \n",
       "4       None     NaN                           NaN      04-Sep            MIV   \n",
       "\n",
       "  TIPO_CARTERA      AGENCIA  \n",
       "0         None          NaN  \n",
       "1      SECURED  SIN AGENCIA  \n",
       "2         None          NaN  \n",
       "3         None          NaN  \n",
       "4         None          NaN  "
      ]
     },
     "execution_count": 54,
     "metadata": {},
     "output_type": "execute_result"
    }
   ],
   "source": [
    "df_no_enviados = pd.concat([df_no_mono, df_no_multi, df_base_no_flag])\n",
    "df_no_enviados['FLAG'] = df_no_enviados['FLAG'].astype('Int64').fillna(0)\n",
    "\n",
    "df_no_enviados['CONTRATO'] = df_no_enviados.apply(lambda x: None if x['FLAG'] != 1 else x['CONTRATO'], axis=1)\n",
    "df_no_enviados['TIPO_FONDO'] = df_no_enviados.apply(lambda x: None if x['FLAG'] != 1 else x['TIPO_FONDO'], axis=1)\n",
    "df_no_enviados['TIPO_CARTERA'] = df_no_enviados.apply(lambda x: None if x['FLAG'] != 1 else x['TIPO_CARTERA'], axis=1)\n",
    "\n",
    "df_no_enviados['FLAG'] = df_no_enviados['FLAG'].apply(lambda x: '' if x == 0 else x)\n",
    "\n",
    "df_no_enviados.sort_values(by=['CC'], inplace=True)\n",
    "df_no_enviados.reset_index(drop=True, inplace=True)\n",
    "\n",
    "print(df_no_enviados.shape)\n",
    "print(df_no_enviados.dtypes)\n",
    "df_no_enviados.head(5)"
   ]
  },
  {
   "cell_type": "code",
   "execution_count": 55,
   "metadata": {},
   "outputs": [
    {
     "name": "stdout",
     "output_type": "stream",
     "text": [
      "NO ENVIADOS OK\n"
     ]
    }
   ],
   "source": [
    "if no_eviados == df_no_enviados.shape[0]:\n",
    "    print('NO ENVIADOS OK')\n",
    "else:\n",
    "    print('NO ENVIADOS ERROR')"
   ]
  },
  {
   "cell_type": "code",
   "execution_count": 56,
   "metadata": {},
   "outputs": [],
   "source": [
    "df_no_enviados.to_excel(no_enviados, index=False)"
   ]
  },
  {
   "cell_type": "code",
   "execution_count": 57,
   "metadata": {},
   "outputs": [],
   "source": [
    "#################### FORMATO EXCEL ####################"
   ]
  },
  {
   "cell_type": "code",
   "execution_count": 58,
   "metadata": {},
   "outputs": [],
   "source": [
    "import openpyxl as op\n",
    "from openpyxl.styles import Font, PatternFill, Alignment\n",
    "\n",
    "def format_excel(file_path: str, validator: str) -> None:\n",
    "    workbook = op.load_workbook(file_path)\n",
    "    sheet = workbook.active\n",
    "    \n",
    "    # Definir estilos generales\n",
    "    general_font = Font(name='Calibri', size=11)\n",
    "    header_font = Font(name='Calibri', size=11, bold=True, color='FFFFFF')\n",
    "    alignment_center = Alignment(horizontal='center', vertical='center')\n",
    "    \n",
    "    # Definir estilos específicos\n",
    "    header_font_white = Font(name='Calibri', size=11, bold=True, color='000000')\n",
    "    header_fill_blue = PatternFill(start_color='002060', end_color='002060', fill_type='solid')\n",
    "    header_fill_yellow = PatternFill(start_color='FFD965', end_color='FFD965', fill_type='solid')\n",
    "    header_fill_green = PatternFill(start_color='C4D79B', end_color='C4D79B', fill_type='solid')\n",
    "    header_fill_orange = PatternFill(start_color='FABF8F', end_color='FABF8F', fill_type='solid')\n",
    "    \n",
    "    # Aplicar estilos generales a todas las celdas\n",
    "    for row in sheet.iter_rows():\n",
    "        for cell in row:\n",
    "            cell.font = general_font\n",
    "    \n",
    "    # Aplicar estilos al encabezado (fila 1)\n",
    "    for cell in sheet[1]:\n",
    "        cell.font = header_font\n",
    "        cell.alignment = alignment_center\n",
    "    \n",
    "    # Aplicar estilos específicos según el validador\n",
    "    if validator == 'mono':\n",
    "        for col in range(1, 10):  # Columnas A-I\n",
    "            sheet.cell(row=1, column=col).fill = header_fill_blue\n",
    "        for col in range(10, 14):  # Columnas J-M\n",
    "            sheet.cell(row=1, column=col).fill = header_fill_yellow\n",
    "            sheet.cell(row=1, column=col).font = header_font_white\n",
    "        for col in range(14, 16):  # Columnas N-O\n",
    "            sheet.cell(row=1, column=col).fill = header_fill_green\n",
    "            sheet.cell(row=1, column=col).font = header_font_white\n",
    "        for col in range(16, 17):  # Columna P\n",
    "            sheet.cell(row=1, column=col).fill = header_fill_orange\n",
    "            sheet.cell(row=1, column=col).font = header_font_white\n",
    "    \n",
    "    elif validator == 'multi':\n",
    "        for col in range(1, 10):  # Columnas A-I\n",
    "            sheet.cell(row=1, column=col).fill = header_fill_blue\n",
    "        for col in range(10, 12):  # Columnas J-K\n",
    "            sheet.cell(row=1, column=col).fill = header_fill_green\n",
    "            sheet.cell(row=1, column=col).font = header_font_white\n",
    "        for col in range(12, 15):  # Columnas L-N\n",
    "            sheet.cell(row=1, column=col).fill = header_fill_yellow\n",
    "            sheet.cell(row=1, column=col).font = header_font_white\n",
    "    \n",
    "    elif validator == 'multi_final':\n",
    "        for col in range(1, 10):  # Columnas A-I\n",
    "            sheet.cell(row=1, column=col).fill = header_fill_blue\n",
    "        for col in range(10, 12):  # Columnas J-K\n",
    "            sheet.cell(row=1, column=col).fill = header_fill_green\n",
    "            sheet.cell(row=1, column=col).font = header_font_white\n",
    "        for col in range(12, 16):  # Columnas L-P\n",
    "            sheet.cell(row=1, column=col).fill = header_fill_yellow\n",
    "            sheet.cell(row=1, column=col).font = header_font_white\n",
    "        for col in range(16, 17):  # Columna P\n",
    "            sheet.cell(row=1, column=col).fill = header_fill_orange\n",
    "            sheet.cell(row=1, column=col).font = header_font_white\n",
    "    \n",
    "    elif validator == 'instruccion':\n",
    "        for col in range(1, 11): # Columnas A-J\n",
    "            sheet.cell(row=1, column=col).fill = header_fill_blue\n",
    "        for col in range(11, 13): # Columnas K-L\n",
    "            sheet.cell(row=1, column=col).fill = header_fill_green\n",
    "            sheet.cell(row=1, column=col).font = header_font_white\n",
    "        for col in range(13, 17):  # Columnas M-P\n",
    "            sheet.cell(row=1, column=col).fill = header_fill_yellow\n",
    "            sheet.cell(row=1, column=col).font = header_font_white\n",
    "        for col in range(17, 18):  # Columna Q\n",
    "            sheet.cell(row=1, column=col).fill = header_fill_orange\n",
    "            sheet.cell(row=1, column=col).font = header_font_white\n",
    "    \n",
    "    workbook.save(file_path)"
   ]
  },
  {
   "cell_type": "code",
   "execution_count": 59,
   "metadata": {},
   "outputs": [],
   "source": [
    "format_excel(mono_path, \"mono\")\n",
    "format_excel(multi_path, \"multi\")\n",
    "format_excel(react_path, \"instruccion\")\n",
    "format_excel(no_enviados_path, \"instruccion\")\n",
    "\n",
    "os.startfile(mono_path)\n",
    "os.startfile(multi_path)\n",
    "os.startfile(react_path)        \n",
    "os.startfile(no_enviados_path)"
   ]
  },
  {
   "cell_type": "code",
   "execution_count": 60,
   "metadata": {},
   "outputs": [],
   "source": [
    "#################### AGENCIAS ####################"
   ]
  },
  {
   "cell_type": "code",
   "execution_count": 61,
   "metadata": {},
   "outputs": [
    {
     "ename": "NameError",
     "evalue": "name 'x' is not defined",
     "output_type": "error",
     "traceback": [
      "\u001b[1;31m---------------------------------------------------------------------------\u001b[0m",
      "\u001b[1;31mNameError\u001b[0m                                 Traceback (most recent call last)",
      "Cell \u001b[1;32mIn[61], line 1\u001b[0m\n\u001b[1;32m----> 1\u001b[0m \u001b[43mx\u001b[49m\n",
      "\u001b[1;31mNameError\u001b[0m: name 'x' is not defined"
     ]
    }
   ],
   "source": [
    "x"
   ]
  },
  {
   "cell_type": "code",
   "execution_count": null,
   "metadata": {},
   "outputs": [],
   "source": [
    "df_1 = pd.read_excel(file_path+'/multi_agencias/RJ.xlsx')\n",
    "df_2 = pd.read_excel(file_path+'/multi_agencias/CLASA.xlsx')\n",
    "df_3 = pd.read_excel(file_path+'/multi_agencias/MORNESE.xlsx')\n",
    "\n",
    "\n",
    "df_1 = df_1[cols_multi]\n",
    "df_2 = df_2[cols_multi]\n",
    "df_3 = df_3[cols_multi]\n",
    "\n",
    "df_1['AGENCIA'] = 'ASESCOM RJ'\n",
    "df_2['AGENCIA'] = 'CLASA MORA'\n",
    "df_3['AGENCIA'] = 'MORNESE MORA'"
   ]
  },
  {
   "cell_type": "code",
   "execution_count": null,
   "metadata": {},
   "outputs": [],
   "source": [
    "df_agencias = pd.concat([df_1, df_2, df_3])\n",
    "df_agencias.dropna(subset=['CONTRATO'], inplace=True)\n",
    "df_agencias['CONTRATO'] = df_agencias['CONTRATO'].apply(lambda x: str(int(x)).zfill(18) if len(x)==18 else None)\n",
    "df_agencias.dropna(subset=['CONTRATO'], inplace=True)\n",
    "df_agencias.reset_index(drop=True, inplace=True)\n",
    "\n",
    "print(df_agencias.shape)\n",
    "print(df_agencias.dtypes)\n",
    "df_agencias.head(5)"
   ]
  },
  {
   "cell_type": "code",
   "execution_count": null,
   "metadata": {},
   "outputs": [],
   "source": [
    "df_multi = pd.read_excel(multi_path)\n",
    "df_multi['AGENCIA'] = 'NULL'\n",
    "print(df_multi.shape)\n",
    "df_multi.head(5)"
   ]
  },
  {
   "cell_type": "code",
   "execution_count": null,
   "metadata": {},
   "outputs": [],
   "source": [
    "df_multi_final = pd.concat([df_multi, df_agencias])\n",
    "\n",
    "df_multi_final['CC'] = df_multi_final['CC'].astype('Int64').astype(str).str.zfill(8)\n",
    "df_multi_final.drop(columns=['TIPO_FONDO', 'CARTERA'], inplace=True)\n",
    "df_multi_final.sort_values(by=['CC', 'CONTRATO'], inplace=True)\n",
    "\n",
    "df_multi_final.drop_duplicates(subset=['CC', 'IMPORTE', 'MONEDA', 'NOMBRE'], keep='first', inplace=True)\n",
    "df_multi_final.reset_index(drop=True, inplace=True)\n",
    "\n",
    "df_asignacion_test['codigo'] = df_asignacion_test['codigo'].astype('Int64').astype(str).str.zfill(8)\n",
    "df_asignacion_test['cont_18'] = df_asignacion_test['cont_18'].apply(lambda x: str(int(x)).zfill(18) if pd.notna(x) else x)\n",
    "\n",
    "cols_asignacion = ['cont_18', 'TIPO_FONDO', 'clave', 'TIPO_CARTERA', 'AGENCIA CORRECTA']\n",
    "df_multi_final = df_multi_final.merge(df_asignacion_test[cols_asignacion], left_on='CONTRATO', right_on='cont_18', how='left')\n",
    "\n",
    "df_multi_final = df_multi_final.drop(columns=['cont_18'])\n",
    "\n",
    "df_multi_final = df_multi_final.rename(columns={'clave': 'CARTERA'})\n",
    "\n",
    "df_multi_final['CONTRATO'] = df_multi_final['CONTRATO'].fillna('NULL')\n",
    "df_multi_final['TIPO_FONDO'] = df_multi_final['TIPO_FONDO'].fillna('NULL')\n",
    "df_multi_final['CARTERA'] = df_multi_final['CARTERA'].fillna('NULL')\n",
    "df_multi_final['TIPO_CARTERA'] = df_multi_final['TIPO_CARTERA'].fillna('NULL')\n",
    "df_multi_final['AGENCIA CORRECTA'] = df_multi_final['AGENCIA CORRECTA'].fillna('NULL')\n",
    "df_multi_final['CLAVSERV'] = df_multi_final['CLAVSERV'].astype(str).str.zfill(5)\n",
    "\n",
    "df_multi_final['AGENCIA CORRECTA'] = df_multi_final.apply(lambda row: row['AGENCIA CORRECTA'] if row['AGENCIA CORRECTA'] == row['AGENCIA'] else f\"{row['AGENCIA']}/{row['AGENCIA CORRECTA']}\", axis=1)\n",
    "\n",
    "df_multi_final = df_multi_final.drop(columns=['AGENCIA'])\n",
    "df_multi_final.rename(columns={'AGENCIA CORRECTA': 'AGENCIA'}, inplace=True)\n",
    "\n",
    "cols_multi_final = ['FECHA', 'CC', 'CLAVSERV', 'IMPORTE', 'MONEDA', 'NOMBRE', 'ESTADO', 'FLAG', 'CONTRATO', 'TIPO_FONDO', 'CARTERA', 'NOMBRE_CLIENTE', 'FECHA_ENVIO', 'ID_RESPONSABLE', 'TIPO_CARTERA', 'AGENCIA']\n",
    "df_multi_final = df_multi_final[cols_multi_final]\n",
    "df_multi_final.reset_index(drop=True, inplace=True)\n",
    "\n",
    "print(df_multi_final.shape)\n",
    "print(df_multi_final.dtypes)\n",
    "df_multi_final.head(5)"
   ]
  },
  {
   "cell_type": "code",
   "execution_count": null,
   "metadata": {},
   "outputs": [],
   "source": [
    "df_no_enviados_multi = df_multi_final[(df_multi_final['CONTRATO'] == 'NULL') | (df_multi_final['TIPO_CARTERA'] != 'UNSECURED')]\n",
    "df_no_enviados_multi"
   ]
  },
  {
   "cell_type": "code",
   "execution_count": null,
   "metadata": {},
   "outputs": [],
   "source": [
    "df_reactivas_multi = df_multi_final[(df_multi_final['TIPO_CARTERA'] == 'UNSECURED') & (df_multi_final['TIPO_FONDO'] != 'NULL')]\n",
    "df_reactivas_multi"
   ]
  },
  {
   "cell_type": "code",
   "execution_count": null,
   "metadata": {},
   "outputs": [],
   "source": [
    "df_multi_final = df_multi_final[(df_multi_final['CONTRATO'] != 'NULL') & (df_multi_final['TIPO_CARTERA'] == 'UNSECURED') & (df_multi_final['TIPO_FONDO'] == 'NULL')]\n",
    "df_multi_final.to_excel(multiproducto, index=False)\n",
    "\n",
    "print(df_multi_final.shape)\n",
    "df_multi_final.head(5)"
   ]
  },
  {
   "cell_type": "code",
   "execution_count": null,
   "metadata": {},
   "outputs": [],
   "source": [
    "df_no_enviados_final = pd.concat([df_no_enviados, df_no_enviados_multi])\n",
    "\n",
    "df_no_enviados_final['CONTRATO'] = df_no_enviados_final['CONTRATO'].fillna('NULL')\n",
    "df_no_enviados_final['TIPO_FONDO'] = df_no_enviados_final['TIPO_FONDO'].fillna('NULL')\n",
    "df_no_enviados_final['CARTERA'] = df_no_enviados_final['CARTERA'].fillna('NULL')\n",
    "df_no_enviados_final['TIPO_CARTERA'] = df_no_enviados_final['TIPO_CARTERA'].fillna('NULL')\n",
    "df_no_enviados_final['NOMBRE_CLIENTE'] = df_no_enviados_final['NOMBRE_CLIENTE'].fillna('NULL')\n",
    "df_no_enviados_final['AGENCIA'] = df_no_enviados_final['AGENCIA'].fillna('NULL')\n",
    "df_no_enviados_final['CLAVSERV'] = df_no_enviados_final['CLAVSERV'].apply(lambda x: str(int(x)).zfill(5))\n",
    "\n",
    "df_no_enviados_final.to_excel(no_enviados, index=False)\n",
    "\n",
    "print(df_no_enviados_final.shape)\n",
    "df_no_enviados_final.head(5)"
   ]
  },
  {
   "cell_type": "code",
   "execution_count": null,
   "metadata": {},
   "outputs": [],
   "source": [
    "df_reactiva_final = pd.concat([df_reactiva, df_reactivas_multi])\n",
    "df_reactiva_final.to_excel(reactiva, index=False)\n",
    "\n",
    "print(df_reactiva_final.shape)\n",
    "df_reactiva_final.head(5)"
   ]
  },
  {
   "cell_type": "code",
   "execution_count": null,
   "metadata": {},
   "outputs": [],
   "source": [
    "df_enviados = pd.concat([df_mono, df_multi_final])\n",
    "\n",
    "print(df_enviados.shape)\n",
    "df_enviados.head(5)"
   ]
  },
  {
   "cell_type": "code",
   "execution_count": null,
   "metadata": {},
   "outputs": [],
   "source": [
    "df_base_test_final = df_base_test[['CC', 'CENTROPAGO', 'IMPORTE', 'MONEDA', 'NOMBRE']]\n",
    "\n",
    "df_base_test_final['KEY'] = df_base_test_final['CC'].astype(str) + df_base_test_final['IMPORTE'].astype(str) + df_base_test_final['MONEDA'] + df_base_test_final['NOMBRE']\n",
    "df_enviados['KEY'] = df_enviados['CC'].astype(str) + df_enviados['IMPORTE'].astype(str) + df_enviados['MONEDA'] + df_enviados['NOMBRE']\n",
    "\n",
    "df_enviados_final = df_enviados.merge(df_base_test_final[['KEY', 'CENTROPAGO']], on='KEY', how='left')\n",
    "df_enviados_final.drop(columns=['KEY'], inplace=True)\n",
    "df_enviados_final['CLAVSERV'] = df_enviados_final['CLAVSERV'].apply(lambda x: str(int(x)).zfill(5))\n",
    "df_enviados_final.sort_values(by=['FLAG','CC'], inplace=True)\n",
    "df_enviados_final.reset_index(drop=True, inplace=True)\n",
    "\n",
    "cols_enviados = ['FECHA', 'CC', 'CLAVSERV', 'CENTROPAGO', 'IMPORTE', 'MONEDA', 'NOMBRE', 'ESTADO', 'FLAG', 'CONTRATO', 'TIPO_FONDO', 'CARTERA', 'NOMBRE_CLIENTE', 'FECHA_ENVIO', 'ID_RESPONSABLE', 'TIPO_CARTERA', 'AGENCIA']\n",
    "df_enviados_final = df_enviados_final[cols_enviados]\n",
    "df_enviados_final.to_excel(si_enviados, index=False)\n",
    "\n",
    "print(df_enviados_final.shape)\n",
    "df_enviados_final.head(5)"
   ]
  },
  {
   "cell_type": "code",
   "execution_count": null,
   "metadata": {},
   "outputs": [],
   "source": [
    "format_excel(multi_path, \"multi_final\")\n",
    "format_excel(react_path, \"instruccion\")\n",
    "format_excel(no_enviados_path, \"instruccion\")\n",
    "format_excel(enviados_path, \"instruccion\")\n",
    "\n",
    "os.startfile(multi_path)\n",
    "os.startfile(react_path)        \n",
    "os.startfile(no_enviados_path)\n",
    "os.startfile(enviados_path)"
   ]
  }
 ],
 "metadata": {
  "kernelspec": {
   "display_name": "Python 3",
   "language": "python",
   "name": "python3"
  },
  "language_info": {
   "codemirror_mode": {
    "name": "ipython",
    "version": 3
   },
   "file_extension": ".py",
   "mimetype": "text/x-python",
   "name": "python",
   "nbconvert_exporter": "python",
   "pygments_lexer": "ipython3",
   "version": "3.10.9"
  }
 },
 "nbformat": 4,
 "nbformat_minor": 2
}
