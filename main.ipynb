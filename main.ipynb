{
 "cells": [
  {
   "cell_type": "code",
   "execution_count": 342,
   "metadata": {},
   "outputs": [],
   "source": [
    "from datetime import datetime\n",
    "import pandas as pd\n",
    "import locale\n",
    "import warnings\n",
    "import os\n",
    "\n",
    "locale.setlocale(locale.LC_TIME, 'es_ES.UTF-8')\n",
    "warnings.filterwarnings(\"ignore\")"
   ]
  },
  {
   "cell_type": "code",
   "execution_count": 343,
   "metadata": {},
   "outputs": [
    {
     "data": {
      "text/plain": [
       "'23.08.2024'"
      ]
     },
     "execution_count": 343,
     "metadata": {},
     "output_type": "execute_result"
    }
   ],
   "source": [
    "def get_file_name() -> list[str]:\n",
    "    file_list = []\n",
    "    for file in os.listdir():\n",
    "        if file.endswith('.xlsx') and 'Base Pagos' in file:\n",
    "            file_list.append(file)\n",
    "    return file_list\n",
    "\n",
    "def get_last_date(dates_list: list[datetime]) -> datetime:\n",
    "    last_date = dates_list[0]\n",
    "    for date in dates_list:\n",
    "        if date > last_date:\n",
    "            last_date = date\n",
    "    return last_date\n",
    "\n",
    "def get_date(file_list: list[str]) -> str:\n",
    "    dates_list = []\n",
    "    for file in file_list:\n",
    "        fecha_list =  file.split(' ')[-1].split('.')[:3]\n",
    "        dates_list.append(datetime.strptime(fecha_list[0] + '.' + fecha_list[1] + '.' + fecha_list[2], '%d.%m.%Y'))\n",
    "    return get_last_date(dates_list).strftime('%d.%m.%Y')\n",
    "\n",
    "fecha = get_date(get_file_name())\n",
    "fecha"
   ]
  },
  {
   "cell_type": "code",
   "execution_count": 344,
   "metadata": {},
   "outputs": [
    {
     "name": "stdout",
     "output_type": "stream",
     "text": [
      "La carpeta ya existe: reporte\\2024.08.26\n"
     ]
    },
    {
     "data": {
      "text/plain": [
       "'reporte\\\\2024.08.26'"
      ]
     },
     "execution_count": 344,
     "metadata": {},
     "output_type": "execute_result"
    }
   ],
   "source": [
    "def validar_o_crear_carpeta() -> str:\n",
    "    fecha_hoy = datetime.today().strftime('%Y.%m.%d')\n",
    "    \n",
    "    carpeta_reporte = 'reporte'\n",
    "    \n",
    "    carpeta_hoy = os.path.join(carpeta_reporte, fecha_hoy)\n",
    "    \n",
    "    if not os.path.exists(carpeta_hoy):\n",
    "        os.makedirs(carpeta_hoy)\n",
    "        print(f'Carpeta creada: {carpeta_hoy}')\n",
    "    else:\n",
    "        print(f'La carpeta ya existe: {carpeta_hoy}')\n",
    "    \n",
    "    return carpeta_hoy\n",
    "\n",
    "file_path = validar_o_crear_carpeta()\n",
    "file_path"
   ]
  },
  {
   "cell_type": "code",
   "execution_count": 487,
   "metadata": {},
   "outputs": [
    {
     "name": "stdout",
     "output_type": "stream",
     "text": [
      "Base Pagos 23.08.2024.xlsx\n",
      "base_asignacion_20240813.xlsx\n",
      "c:\\Users\\miria\\Documents\\BBVA\\GitHub\\base-pagos\\reporte\\2024.08.26\\MONOPRODUCTO 23.08.2024.xlsx\n",
      "c:\\Users\\miria\\Documents\\BBVA\\GitHub\\base-pagos\\reporte\\2024.08.26\\MULTIPRODUCTO 23.08.2024.xlsx\n",
      "c:\\Users\\miria\\Documents\\BBVA\\GitHub\\base-pagos\\reporte\\2024.08.26\\REACTIVA 23.08.2024.xlsx\n",
      "c:\\Users\\miria\\Documents\\BBVA\\GitHub\\base-pagos\\reporte\\2024.08.26\\NO ENVIADOS 23.08.2024.xlsx\n"
     ]
    }
   ],
   "source": [
    "base_pagos_path = 'Base Pagos ' + fecha + '.xlsx'\n",
    "asignacion_path = 'base_asignacion_20240813.xlsx'\n",
    "\n",
    "print(base_pagos_path)\n",
    "print(asignacion_path)\n",
    "\n",
    "monoproducto = file_path + '/MONOPRODUCTO ' + fecha + '.xlsx'\n",
    "multiproducto = file_path + '/MULTIPRODUCTO ' + fecha + '.xlsx'\n",
    "reactiva = file_path + '/REACTIVA ' + fecha + '.xlsx'\n",
    "no_enviados = file_path + '/NO ENVIADOS ' + fecha + '.xlsx'\n",
    "\n",
    "mono_path = os.path.abspath(monoproducto)\n",
    "multi_path = os.path.abspath(multiproducto)\n",
    "react_path = os.path.abspath(reactiva)\n",
    "no_enviados_path = os.path.abspath(no_enviados)\n",
    "\n",
    "print(mono_path)\n",
    "print(multi_path)\n",
    "print(react_path)\n",
    "print(no_enviados_path)"
   ]
  },
  {
   "cell_type": "code",
   "execution_count": 347,
   "metadata": {},
   "outputs": [],
   "source": [
    "#################### BASE DE PAGOS ####################"
   ]
  },
  {
   "cell_type": "code",
   "execution_count": 348,
   "metadata": {},
   "outputs": [
    {
     "name": "stdout",
     "output_type": "stream",
     "text": [
      "(289, 9)\n",
      "Entidad         int64\n",
      "FECHA          object\n",
      "CODCEN          int64\n",
      "CLAVSERV        int64\n",
      "CENTROPAGO      int64\n",
      "IMPORTE       float64\n",
      "MONEDA         object\n",
      "NOMBRE         object\n",
      "ESTADO         object\n",
      "dtype: object\n"
     ]
    },
    {
     "data": {
      "text/html": [
       "<div>\n",
       "<style scoped>\n",
       "    .dataframe tbody tr th:only-of-type {\n",
       "        vertical-align: middle;\n",
       "    }\n",
       "\n",
       "    .dataframe tbody tr th {\n",
       "        vertical-align: top;\n",
       "    }\n",
       "\n",
       "    .dataframe thead th {\n",
       "        text-align: right;\n",
       "    }\n",
       "</style>\n",
       "<table border=\"1\" class=\"dataframe\">\n",
       "  <thead>\n",
       "    <tr style=\"text-align: right;\">\n",
       "      <th></th>\n",
       "      <th>Entidad</th>\n",
       "      <th>FECHA</th>\n",
       "      <th>CODCEN</th>\n",
       "      <th>CLAVSERV</th>\n",
       "      <th>CENTROPAGO</th>\n",
       "      <th>IMPORTE</th>\n",
       "      <th>MONEDA</th>\n",
       "      <th>NOMBRE</th>\n",
       "      <th>ESTADO</th>\n",
       "    </tr>\n",
       "  </thead>\n",
       "  <tbody>\n",
       "    <tr>\n",
       "      <th>0</th>\n",
       "      <td>11</td>\n",
       "      <td>2024-08-23</td>\n",
       "      <td>27853752</td>\n",
       "      <td>248</td>\n",
       "      <td>257</td>\n",
       "      <td>835.0</td>\n",
       "      <td>PEN</td>\n",
       "      <td>EMILIANO FEDERICO OSCCO PEZUA</td>\n",
       "      <td>P</td>\n",
       "    </tr>\n",
       "    <tr>\n",
       "      <th>1</th>\n",
       "      <td>11</td>\n",
       "      <td>2024-08-23</td>\n",
       "      <td>25003473</td>\n",
       "      <td>248</td>\n",
       "      <td>368</td>\n",
       "      <td>40.0</td>\n",
       "      <td>PEN</td>\n",
       "      <td>..L</td>\n",
       "      <td>P</td>\n",
       "    </tr>\n",
       "    <tr>\n",
       "      <th>2</th>\n",
       "      <td>11</td>\n",
       "      <td>2024-08-23</td>\n",
       "      <td>26798182</td>\n",
       "      <td>248</td>\n",
       "      <td>442</td>\n",
       "      <td>1200.0</td>\n",
       "      <td>PEN</td>\n",
       "      <td>]</td>\n",
       "      <td>P</td>\n",
       "    </tr>\n",
       "    <tr>\n",
       "      <th>3</th>\n",
       "      <td>11</td>\n",
       "      <td>2024-08-23</td>\n",
       "      <td>24989851</td>\n",
       "      <td>248</td>\n",
       "      <td>368</td>\n",
       "      <td>400.0</td>\n",
       "      <td>PEN</td>\n",
       "      <td>A...</td>\n",
       "      <td>P</td>\n",
       "    </tr>\n",
       "    <tr>\n",
       "      <th>4</th>\n",
       "      <td>11</td>\n",
       "      <td>2024-08-23</td>\n",
       "      <td>21285186</td>\n",
       "      <td>248</td>\n",
       "      <td>321</td>\n",
       "      <td>200.0</td>\n",
       "      <td>PEN</td>\n",
       "      <td>ADA MIRIAM NIEVA SINCHE</td>\n",
       "      <td>P</td>\n",
       "    </tr>\n",
       "  </tbody>\n",
       "</table>\n",
       "</div>"
      ],
      "text/plain": [
       "   Entidad       FECHA    CODCEN  CLAVSERV  CENTROPAGO  IMPORTE MONEDA  \\\n",
       "0       11  2024-08-23  27853752       248         257    835.0    PEN   \n",
       "1       11  2024-08-23  25003473       248         368     40.0    PEN   \n",
       "2       11  2024-08-23  26798182       248         442   1200.0    PEN   \n",
       "3       11  2024-08-23  24989851       248         368    400.0    PEN   \n",
       "4       11  2024-08-23  21285186       248         321    200.0    PEN   \n",
       "\n",
       "                          NOMBRE ESTADO  \n",
       "0  EMILIANO FEDERICO OSCCO PEZUA      P  \n",
       "1                            ..L      P  \n",
       "2                              ]      P  \n",
       "3                           A...      P  \n",
       "4        ADA MIRIAM NIEVA SINCHE      P  "
      ]
     },
     "execution_count": 348,
     "metadata": {},
     "output_type": "execute_result"
    }
   ],
   "source": [
    "df_base = pd.read_excel(base_pagos_path)\n",
    "print(df_base.shape)\n",
    "print(df_base.dtypes)\n",
    "df_base.head(5)"
   ]
  },
  {
   "cell_type": "code",
   "execution_count": 349,
   "metadata": {},
   "outputs": [
    {
     "name": "stdout",
     "output_type": "stream",
     "text": [
      "(289, 11)\n",
      "Entidad             int64\n",
      "FECHA              object\n",
      "CC                 object\n",
      "CLAVSERV           object\n",
      "CENTROPAGO          int64\n",
      "IMPORTE           float64\n",
      "MONEDA             object\n",
      "NOMBRE             object\n",
      "ESTADO             object\n",
      "FECHA_ENVIO        object\n",
      "ID_RESPONSABLE     object\n",
      "dtype: object\n"
     ]
    },
    {
     "data": {
      "text/html": [
       "<div>\n",
       "<style scoped>\n",
       "    .dataframe tbody tr th:only-of-type {\n",
       "        vertical-align: middle;\n",
       "    }\n",
       "\n",
       "    .dataframe tbody tr th {\n",
       "        vertical-align: top;\n",
       "    }\n",
       "\n",
       "    .dataframe thead th {\n",
       "        text-align: right;\n",
       "    }\n",
       "</style>\n",
       "<table border=\"1\" class=\"dataframe\">\n",
       "  <thead>\n",
       "    <tr style=\"text-align: right;\">\n",
       "      <th></th>\n",
       "      <th>Entidad</th>\n",
       "      <th>FECHA</th>\n",
       "      <th>CC</th>\n",
       "      <th>CLAVSERV</th>\n",
       "      <th>CENTROPAGO</th>\n",
       "      <th>IMPORTE</th>\n",
       "      <th>MONEDA</th>\n",
       "      <th>NOMBRE</th>\n",
       "      <th>ESTADO</th>\n",
       "      <th>FECHA_ENVIO</th>\n",
       "      <th>ID_RESPONSABLE</th>\n",
       "    </tr>\n",
       "  </thead>\n",
       "  <tbody>\n",
       "    <tr>\n",
       "      <th>0</th>\n",
       "      <td>11</td>\n",
       "      <td>2024-08-23</td>\n",
       "      <td>27853752</td>\n",
       "      <td>00248</td>\n",
       "      <td>257</td>\n",
       "      <td>835.0</td>\n",
       "      <td>PEN</td>\n",
       "      <td>EMILIANO FEDERICO OSCCO PEZUA</td>\n",
       "      <td>P</td>\n",
       "      <td>26-Ago</td>\n",
       "      <td>MIV</td>\n",
       "    </tr>\n",
       "    <tr>\n",
       "      <th>1</th>\n",
       "      <td>11</td>\n",
       "      <td>2024-08-23</td>\n",
       "      <td>25003473</td>\n",
       "      <td>00248</td>\n",
       "      <td>368</td>\n",
       "      <td>40.0</td>\n",
       "      <td>PEN</td>\n",
       "      <td>..L</td>\n",
       "      <td>P</td>\n",
       "      <td>26-Ago</td>\n",
       "      <td>MIV</td>\n",
       "    </tr>\n",
       "    <tr>\n",
       "      <th>2</th>\n",
       "      <td>11</td>\n",
       "      <td>2024-08-23</td>\n",
       "      <td>26798182</td>\n",
       "      <td>00248</td>\n",
       "      <td>442</td>\n",
       "      <td>1200.0</td>\n",
       "      <td>PEN</td>\n",
       "      <td>]</td>\n",
       "      <td>P</td>\n",
       "      <td>26-Ago</td>\n",
       "      <td>MIV</td>\n",
       "    </tr>\n",
       "    <tr>\n",
       "      <th>3</th>\n",
       "      <td>11</td>\n",
       "      <td>2024-08-23</td>\n",
       "      <td>24989851</td>\n",
       "      <td>00248</td>\n",
       "      <td>368</td>\n",
       "      <td>400.0</td>\n",
       "      <td>PEN</td>\n",
       "      <td>A...</td>\n",
       "      <td>P</td>\n",
       "      <td>26-Ago</td>\n",
       "      <td>MIV</td>\n",
       "    </tr>\n",
       "    <tr>\n",
       "      <th>4</th>\n",
       "      <td>11</td>\n",
       "      <td>2024-08-23</td>\n",
       "      <td>21285186</td>\n",
       "      <td>00248</td>\n",
       "      <td>321</td>\n",
       "      <td>200.0</td>\n",
       "      <td>PEN</td>\n",
       "      <td>ADA MIRIAM NIEVA SINCHE</td>\n",
       "      <td>P</td>\n",
       "      <td>26-Ago</td>\n",
       "      <td>MIV</td>\n",
       "    </tr>\n",
       "  </tbody>\n",
       "</table>\n",
       "</div>"
      ],
      "text/plain": [
       "   Entidad       FECHA        CC CLAVSERV  CENTROPAGO  IMPORTE MONEDA  \\\n",
       "0       11  2024-08-23  27853752    00248         257    835.0    PEN   \n",
       "1       11  2024-08-23  25003473    00248         368     40.0    PEN   \n",
       "2       11  2024-08-23  26798182    00248         442   1200.0    PEN   \n",
       "3       11  2024-08-23  24989851    00248         368    400.0    PEN   \n",
       "4       11  2024-08-23  21285186    00248         321    200.0    PEN   \n",
       "\n",
       "                          NOMBRE ESTADO FECHA_ENVIO ID_RESPONSABLE  \n",
       "0  EMILIANO FEDERICO OSCCO PEZUA      P      26-Ago            MIV  \n",
       "1                            ..L      P      26-Ago            MIV  \n",
       "2                              ]      P      26-Ago            MIV  \n",
       "3                           A...      P      26-Ago            MIV  \n",
       "4        ADA MIRIAM NIEVA SINCHE      P      26-Ago            MIV  "
      ]
     },
     "execution_count": 349,
     "metadata": {},
     "output_type": "execute_result"
    }
   ],
   "source": [
    "fecha_formateada = pd.to_datetime('today').strftime('%d-%b')\n",
    "fecha_formateada = fecha_formateada[:3] + fecha_formateada[3:].capitalize()\n",
    "\n",
    "df_base['FECHA_ENVIO'] = fecha_formateada.replace('.', '')\n",
    "df_base['ID_RESPONSABLE'] = 'MIV'\n",
    "\n",
    "cols_base = ['Entidad', 'FECHA', 'CODCEN', 'CLAVSERV', 'CENTROPAGO', 'IMPORTE', 'MONEDA', 'NOMBRE', 'ESTADO', 'FECHA_ENVIO', 'ID_RESPONSABLE']\n",
    "df_base = df_base[cols_base]\n",
    "df_base = df_base.rename(columns={'CODCEN': 'CC'})\n",
    "\n",
    "df_base['CC'] = df_base['CC'].astype('Int64').astype(str).str.zfill(8)\n",
    "df_base['CC'] = df_base['CC'].str.replace(' ', '').str.replace(r'\\D', '', regex=True).str[-8:]\n",
    "df_base['CC'] = df_base['CC'].str.zfill(8)\n",
    "\n",
    "df_base['CLAVSERV'] = df_base['CLAVSERV'].astype(str).str.zfill(5)\n",
    "\n",
    "print(df_base.shape)\n",
    "print(df_base.dtypes)\n",
    "df_base.head(5)"
   ]
  },
  {
   "cell_type": "code",
   "execution_count": 350,
   "metadata": {},
   "outputs": [
    {
     "data": {
      "text/plain": [
       "Entidad           0\n",
       "FECHA             0\n",
       "CC                0\n",
       "CLAVSERV          0\n",
       "CENTROPAGO        0\n",
       "IMPORTE           0\n",
       "MONEDA            0\n",
       "NOMBRE            0\n",
       "ESTADO            0\n",
       "FECHA_ENVIO       0\n",
       "ID_RESPONSABLE    0\n",
       "dtype: int64"
      ]
     },
     "execution_count": 350,
     "metadata": {},
     "output_type": "execute_result"
    }
   ],
   "source": [
    "df_base.isnull().sum()"
   ]
  },
  {
   "cell_type": "code",
   "execution_count": 351,
   "metadata": {},
   "outputs": [],
   "source": [
    "#################### ASIGNACION ####################"
   ]
  },
  {
   "cell_type": "code",
   "execution_count": 283,
   "metadata": {},
   "outputs": [
    {
     "name": "stdout",
     "output_type": "stream",
     "text": [
      "(242511, 40)\n",
      "codigo                        int64\n",
      "contrato                      int64\n",
      "cont_18                       int64\n",
      "nombre                       object\n",
      "clave                        object\n",
      "producto                     object\n",
      "DiasVenc                      int64\n",
      "moneda                       object\n",
      "capital                     float64\n",
      "liqtotal                    float64\n",
      "agencia                      object\n",
      "Camp                        float64\n",
      "Gestor                       object\n",
      "numdoc                       object\n",
      "oficina                      object\n",
      "territorio                   object\n",
      "Tramo                        object\n",
      "codoficina                    int64\n",
      "CAPITAL_SOLES               float64\n",
      "IMP_CAMPAÑA                 float64\n",
      "TIPO_FONDO                   object\n",
      "FLAG_HONRADO                  int64\n",
      "TIPO_CARTERA                 object\n",
      "DESC_TRAMO                   object\n",
      "Hibrido                      object\n",
      "ESTUDIO ABOGADO              object\n",
      "FECHA_MORA                   object\n",
      "ID_CASTIGO                   object\n",
      "ID_VTA.                      object\n",
      "ID_GARANT                    object\n",
      "ID_CONDONACION MORA_TEMP     object\n",
      "ID_FRACCIONADO               object\n",
      "ID_KOBSA_P.CANCELACION       object\n",
      "ID_REPORTE_CANC              object\n",
      "ID_CARTERA                   object\n",
      "ID_FLAG                       int64\n",
      "OBSERVACION                  object\n",
      "AGENCIA CORRECTA             object\n",
      "PAG LEGAL                    object\n",
      "PAG. INTER                   object\n",
      "dtype: object\n"
     ]
    },
    {
     "data": {
      "text/html": [
       "<div>\n",
       "<style scoped>\n",
       "    .dataframe tbody tr th:only-of-type {\n",
       "        vertical-align: middle;\n",
       "    }\n",
       "\n",
       "    .dataframe tbody tr th {\n",
       "        vertical-align: top;\n",
       "    }\n",
       "\n",
       "    .dataframe thead th {\n",
       "        text-align: right;\n",
       "    }\n",
       "</style>\n",
       "<table border=\"1\" class=\"dataframe\">\n",
       "  <thead>\n",
       "    <tr style=\"text-align: right;\">\n",
       "      <th></th>\n",
       "      <th>codigo</th>\n",
       "      <th>contrato</th>\n",
       "      <th>cont_18</th>\n",
       "      <th>nombre</th>\n",
       "      <th>clave</th>\n",
       "      <th>producto</th>\n",
       "      <th>DiasVenc</th>\n",
       "      <th>moneda</th>\n",
       "      <th>capital</th>\n",
       "      <th>liqtotal</th>\n",
       "      <th>...</th>\n",
       "      <th>ID_CONDONACION MORA_TEMP</th>\n",
       "      <th>ID_FRACCIONADO</th>\n",
       "      <th>ID_KOBSA_P.CANCELACION</th>\n",
       "      <th>ID_REPORTE_CANC</th>\n",
       "      <th>ID_CARTERA</th>\n",
       "      <th>ID_FLAG</th>\n",
       "      <th>OBSERVACION</th>\n",
       "      <th>AGENCIA CORRECTA</th>\n",
       "      <th>PAG LEGAL</th>\n",
       "      <th>PAG. INTER</th>\n",
       "    </tr>\n",
       "  </thead>\n",
       "  <tbody>\n",
       "    <tr>\n",
       "      <th>0</th>\n",
       "      <td>30739481</td>\n",
       "      <td>110010629600055161</td>\n",
       "      <td>1100109600055161</td>\n",
       "      <td>DINA CHOQUE FERNANDEZ</td>\n",
       "      <td>BC</td>\n",
       "      <td>PRÉSTAMOS PYMES</td>\n",
       "      <td>257</td>\n",
       "      <td>PEN</td>\n",
       "      <td>76663.97</td>\n",
       "      <td>108418.69</td>\n",
       "      <td>...</td>\n",
       "      <td>-</td>\n",
       "      <td>-</td>\n",
       "      <td>-</td>\n",
       "      <td>-</td>\n",
       "      <td>STOCK</td>\n",
       "      <td>2</td>\n",
       "      <td>PAGO LEGAL AGOSTO // SE CORRIGIO</td>\n",
       "      <td>MORNESE MORA</td>\n",
       "      <td>1</td>\n",
       "      <td>-</td>\n",
       "    </tr>\n",
       "    <tr>\n",
       "      <th>1</th>\n",
       "      <td>30739481</td>\n",
       "      <td>110010619600057679</td>\n",
       "      <td>1100109600057679</td>\n",
       "      <td>DINA CHOQUE FERNANDEZ</td>\n",
       "      <td>BC</td>\n",
       "      <td>PRÉSTAMOS PYMES</td>\n",
       "      <td>268</td>\n",
       "      <td>PEN</td>\n",
       "      <td>177075.30</td>\n",
       "      <td>256680.65</td>\n",
       "      <td>...</td>\n",
       "      <td>-</td>\n",
       "      <td>-</td>\n",
       "      <td>-</td>\n",
       "      <td>-</td>\n",
       "      <td>STOCK</td>\n",
       "      <td>2</td>\n",
       "      <td>PAGO LEGAL AGOSTO // SE CORRIGIO</td>\n",
       "      <td>MORNESE MORA</td>\n",
       "      <td>1</td>\n",
       "      <td>-</td>\n",
       "    </tr>\n",
       "    <tr>\n",
       "      <th>2</th>\n",
       "      <td>21874900</td>\n",
       "      <td>110050295000360222</td>\n",
       "      <td>1100505000360222</td>\n",
       "      <td>JULIA ANGELICA SOTO COTRINA</td>\n",
       "      <td>BC</td>\n",
       "      <td>TARJETAS PYMES</td>\n",
       "      <td>307</td>\n",
       "      <td>PEN</td>\n",
       "      <td>23986.04</td>\n",
       "      <td>36966.81</td>\n",
       "      <td>...</td>\n",
       "      <td>-</td>\n",
       "      <td>-</td>\n",
       "      <td>-</td>\n",
       "      <td>-</td>\n",
       "      <td>STOCK</td>\n",
       "      <td>4</td>\n",
       "      <td>PAGO INTERBANCARIO // SE CORRIGIO</td>\n",
       "      <td>ASESCOM RJ</td>\n",
       "      <td>-</td>\n",
       "      <td>1</td>\n",
       "    </tr>\n",
       "    <tr>\n",
       "      <th>3</th>\n",
       "      <td>30293392</td>\n",
       "      <td>110130235002987960</td>\n",
       "      <td>1101305002987960</td>\n",
       "      <td>INNOVA FASHION GROUPSAC</td>\n",
       "      <td>BC</td>\n",
       "      <td>TARJETAS PYMES</td>\n",
       "      <td>215</td>\n",
       "      <td>PEN</td>\n",
       "      <td>142100.58</td>\n",
       "      <td>200698.07</td>\n",
       "      <td>...</td>\n",
       "      <td>-</td>\n",
       "      <td>-</td>\n",
       "      <td>-</td>\n",
       "      <td>-</td>\n",
       "      <td>STOCK</td>\n",
       "      <td>1</td>\n",
       "      <td>PAGO INTERBANCARIO // SE CORRIGIO</td>\n",
       "      <td>CLASA MORA</td>\n",
       "      <td>-</td>\n",
       "      <td>1</td>\n",
       "    </tr>\n",
       "    <tr>\n",
       "      <th>4</th>\n",
       "      <td>20687681</td>\n",
       "      <td>110174079600365104</td>\n",
       "      <td>1101749600365104</td>\n",
       "      <td>ELIZABETH HAYDEE CORDOVA AMAYA</td>\n",
       "      <td>BC</td>\n",
       "      <td>PRÉSTAMOS PYMES</td>\n",
       "      <td>356</td>\n",
       "      <td>PEN</td>\n",
       "      <td>200151.61</td>\n",
       "      <td>309435.56</td>\n",
       "      <td>...</td>\n",
       "      <td>-</td>\n",
       "      <td>1</td>\n",
       "      <td>-</td>\n",
       "      <td>-</td>\n",
       "      <td>STOCK</td>\n",
       "      <td>1</td>\n",
       "      <td>MARCA FRACCIONADO RETORNAR AGENCIA // SE CORRIGIO</td>\n",
       "      <td>RodriguezAngobaldo</td>\n",
       "      <td>-</td>\n",
       "      <td>-</td>\n",
       "    </tr>\n",
       "  </tbody>\n",
       "</table>\n",
       "<p>5 rows × 40 columns</p>\n",
       "</div>"
      ],
      "text/plain": [
       "     codigo            contrato           cont_18  \\\n",
       "0  30739481  110010629600055161  1100109600055161   \n",
       "1  30739481  110010619600057679  1100109600057679   \n",
       "2  21874900  110050295000360222  1100505000360222   \n",
       "3  30293392  110130235002987960  1101305002987960   \n",
       "4  20687681  110174079600365104  1101749600365104   \n",
       "\n",
       "                           nombre clave         producto  DiasVenc moneda  \\\n",
       "0           DINA CHOQUE FERNANDEZ    BC  PRÉSTAMOS PYMES       257    PEN   \n",
       "1           DINA CHOQUE FERNANDEZ    BC  PRÉSTAMOS PYMES       268    PEN   \n",
       "2     JULIA ANGELICA SOTO COTRINA    BC   TARJETAS PYMES       307    PEN   \n",
       "3         INNOVA FASHION GROUPSAC    BC   TARJETAS PYMES       215    PEN   \n",
       "4  ELIZABETH HAYDEE CORDOVA AMAYA    BC  PRÉSTAMOS PYMES       356    PEN   \n",
       "\n",
       "     capital   liqtotal  ... ID_CONDONACION MORA_TEMP  ID_FRACCIONADO  \\\n",
       "0   76663.97  108418.69  ...                        -               -   \n",
       "1  177075.30  256680.65  ...                        -               -   \n",
       "2   23986.04   36966.81  ...                        -               -   \n",
       "3  142100.58  200698.07  ...                        -               -   \n",
       "4  200151.61  309435.56  ...                        -               1   \n",
       "\n",
       "  ID_KOBSA_P.CANCELACION ID_REPORTE_CANC ID_CARTERA ID_FLAG  \\\n",
       "0                      -               -      STOCK       2   \n",
       "1                      -               -      STOCK       2   \n",
       "2                      -               -      STOCK       4   \n",
       "3                      -               -      STOCK       1   \n",
       "4                      -               -      STOCK       1   \n",
       "\n",
       "                                         OBSERVACION    AGENCIA CORRECTA  \\\n",
       "0                   PAGO LEGAL AGOSTO // SE CORRIGIO        MORNESE MORA   \n",
       "1                   PAGO LEGAL AGOSTO // SE CORRIGIO        MORNESE MORA   \n",
       "2                  PAGO INTERBANCARIO // SE CORRIGIO          ASESCOM RJ   \n",
       "3                  PAGO INTERBANCARIO // SE CORRIGIO          CLASA MORA   \n",
       "4  MARCA FRACCIONADO RETORNAR AGENCIA // SE CORRIGIO  RodriguezAngobaldo   \n",
       "\n",
       "   PAG LEGAL  PAG. INTER  \n",
       "0          1           -  \n",
       "1          1           -  \n",
       "2          -           1  \n",
       "3          -           1  \n",
       "4          -           -  \n",
       "\n",
       "[5 rows x 40 columns]"
      ]
     },
     "execution_count": 283,
     "metadata": {},
     "output_type": "execute_result"
    }
   ],
   "source": [
    "df_asignacion = pd.read_excel(asignacion_path)\n",
    "print(df_asignacion.shape)\n",
    "print(df_asignacion.dtypes)\n",
    "df_asignacion.head(5)"
   ]
  },
  {
   "cell_type": "code",
   "execution_count": 352,
   "metadata": {},
   "outputs": [],
   "source": [
    "#################### BACKUPS ####################"
   ]
  },
  {
   "cell_type": "code",
   "execution_count": 469,
   "metadata": {},
   "outputs": [
    {
     "name": "stdout",
     "output_type": "stream",
     "text": [
      "Base (289, 11)\n",
      "Asignacion (242511, 40)\n"
     ]
    }
   ],
   "source": [
    "df_base_test = df_base.copy()\n",
    "print('Base', df_base_test.shape)\n",
    "\n",
    "df_asignacion_test = df_asignacion.copy()\n",
    "print('Asignacion', df_asignacion_test.shape)"
   ]
  },
  {
   "cell_type": "code",
   "execution_count": 470,
   "metadata": {},
   "outputs": [
    {
     "data": {
      "text/plain": [
       "289"
      ]
     },
     "execution_count": 470,
     "metadata": {},
     "output_type": "execute_result"
    }
   ],
   "source": [
    "base_count = df_base_test.shape[0]\n",
    "base_count"
   ]
  },
  {
   "cell_type": "code",
   "execution_count": 471,
   "metadata": {},
   "outputs": [
    {
     "name": "stdout",
     "output_type": "stream",
     "text": [
      "(289, 19)\n",
      "ENTIDAD            object\n",
      "FECHA              object\n",
      "CC                 object\n",
      "CLAVSERV           object\n",
      "CENTROPAGO          int64\n",
      "IMPORTE           float64\n",
      "MONEDA             object\n",
      "NOMBRE             object\n",
      "ESTADO             object\n",
      "FLAG                Int64\n",
      "CONTRATO           object\n",
      "NOMBRE_CLIENTE     object\n",
      "FECHA_ENVIO        object\n",
      "ID_RESPONSABLE     object\n",
      "TIPO_CARTERA       object\n",
      "TIPO_FONDO         object\n",
      "CARTERA            object\n",
      "AGENCIA            object\n",
      "ID_VTA             object\n",
      "dtype: object\n"
     ]
    },
    {
     "data": {
      "text/html": [
       "<div>\n",
       "<style scoped>\n",
       "    .dataframe tbody tr th:only-of-type {\n",
       "        vertical-align: middle;\n",
       "    }\n",
       "\n",
       "    .dataframe tbody tr th {\n",
       "        vertical-align: top;\n",
       "    }\n",
       "\n",
       "    .dataframe thead th {\n",
       "        text-align: right;\n",
       "    }\n",
       "</style>\n",
       "<table border=\"1\" class=\"dataframe\">\n",
       "  <thead>\n",
       "    <tr style=\"text-align: right;\">\n",
       "      <th></th>\n",
       "      <th>ENTIDAD</th>\n",
       "      <th>FECHA</th>\n",
       "      <th>CC</th>\n",
       "      <th>CLAVSERV</th>\n",
       "      <th>CENTROPAGO</th>\n",
       "      <th>IMPORTE</th>\n",
       "      <th>MONEDA</th>\n",
       "      <th>NOMBRE</th>\n",
       "      <th>ESTADO</th>\n",
       "      <th>FLAG</th>\n",
       "      <th>CONTRATO</th>\n",
       "      <th>NOMBRE_CLIENTE</th>\n",
       "      <th>FECHA_ENVIO</th>\n",
       "      <th>ID_RESPONSABLE</th>\n",
       "      <th>TIPO_CARTERA</th>\n",
       "      <th>TIPO_FONDO</th>\n",
       "      <th>CARTERA</th>\n",
       "      <th>AGENCIA</th>\n",
       "      <th>ID_VTA</th>\n",
       "    </tr>\n",
       "  </thead>\n",
       "  <tbody>\n",
       "    <tr>\n",
       "      <th>0</th>\n",
       "      <td>0011</td>\n",
       "      <td>2024-08-23</td>\n",
       "      <td>27853752</td>\n",
       "      <td>00248</td>\n",
       "      <td>257</td>\n",
       "      <td>835.0</td>\n",
       "      <td>PEN</td>\n",
       "      <td>EMILIANO FEDERICO OSCCO PEZUA</td>\n",
       "      <td>P</td>\n",
       "      <td>1</td>\n",
       "      <td>001101839600385171</td>\n",
       "      <td>EMILIANO FEDERICO OSCCO PEZUA</td>\n",
       "      <td>26-Ago</td>\n",
       "      <td>MIV</td>\n",
       "      <td>UNSECURED</td>\n",
       "      <td>NULL</td>\n",
       "      <td>KSTBC</td>\n",
       "      <td>MORNESE MORA</td>\n",
       "      <td>-</td>\n",
       "    </tr>\n",
       "    <tr>\n",
       "      <th>1</th>\n",
       "      <td>0011</td>\n",
       "      <td>2024-08-23</td>\n",
       "      <td>25003473</td>\n",
       "      <td>00248</td>\n",
       "      <td>368</td>\n",
       "      <td>40.0</td>\n",
       "      <td>PEN</td>\n",
       "      <td>..L</td>\n",
       "      <td>P</td>\n",
       "      <td>1</td>\n",
       "      <td>001109395000374390</td>\n",
       "      <td>MARIO JEFFREY MORI FERNANDEZ</td>\n",
       "      <td>26-Ago</td>\n",
       "      <td>MIV</td>\n",
       "      <td>UNSECURED</td>\n",
       "      <td>NULL</td>\n",
       "      <td>EXJ</td>\n",
       "      <td>MORNESE MORA</td>\n",
       "      <td>-</td>\n",
       "    </tr>\n",
       "    <tr>\n",
       "      <th>2</th>\n",
       "      <td>0011</td>\n",
       "      <td>2024-08-23</td>\n",
       "      <td>26798182</td>\n",
       "      <td>00248</td>\n",
       "      <td>442</td>\n",
       "      <td>1200.0</td>\n",
       "      <td>PEN</td>\n",
       "      <td>]</td>\n",
       "      <td>P</td>\n",
       "      <td>1</td>\n",
       "      <td>001103485000711084</td>\n",
       "      <td>ROBERTO FARROÐAN SANTISTEBAN</td>\n",
       "      <td>26-Ago</td>\n",
       "      <td>MIV</td>\n",
       "      <td>UNSECURED</td>\n",
       "      <td>NULL</td>\n",
       "      <td>EXJ</td>\n",
       "      <td>ASESCOM RJ</td>\n",
       "      <td>-</td>\n",
       "    </tr>\n",
       "    <tr>\n",
       "      <th>3</th>\n",
       "      <td>0011</td>\n",
       "      <td>2024-08-23</td>\n",
       "      <td>24989851</td>\n",
       "      <td>00248</td>\n",
       "      <td>368</td>\n",
       "      <td>400.0</td>\n",
       "      <td>PEN</td>\n",
       "      <td>A...</td>\n",
       "      <td>P</td>\n",
       "      <td>1</td>\n",
       "      <td>001108149602973630</td>\n",
       "      <td>JOHAN YVAN REVILLA LUNA</td>\n",
       "      <td>26-Ago</td>\n",
       "      <td>MIV</td>\n",
       "      <td>UNSECURED</td>\n",
       "      <td>NULL</td>\n",
       "      <td>KSTBC</td>\n",
       "      <td>MORNESE MORA</td>\n",
       "      <td>-</td>\n",
       "    </tr>\n",
       "    <tr>\n",
       "      <th>4</th>\n",
       "      <td>0011</td>\n",
       "      <td>2024-08-23</td>\n",
       "      <td>21285186</td>\n",
       "      <td>00248</td>\n",
       "      <td>321</td>\n",
       "      <td>200.0</td>\n",
       "      <td>PEN</td>\n",
       "      <td>ADA MIRIAM NIEVA SINCHE</td>\n",
       "      <td>P</td>\n",
       "      <td>2</td>\n",
       "      <td>001103215002499247</td>\n",
       "      <td>ADA MIRIAM NIEVA SINCHE</td>\n",
       "      <td>26-Ago</td>\n",
       "      <td>MIV</td>\n",
       "      <td>UNSECURED</td>\n",
       "      <td>NULL</td>\n",
       "      <td>KSTBC</td>\n",
       "      <td>MORNESE MORA</td>\n",
       "      <td>-</td>\n",
       "    </tr>\n",
       "  </tbody>\n",
       "</table>\n",
       "</div>"
      ],
      "text/plain": [
       "  ENTIDAD       FECHA        CC CLAVSERV  CENTROPAGO  IMPORTE MONEDA  \\\n",
       "0    0011  2024-08-23  27853752    00248         257    835.0    PEN   \n",
       "1    0011  2024-08-23  25003473    00248         368     40.0    PEN   \n",
       "2    0011  2024-08-23  26798182    00248         442   1200.0    PEN   \n",
       "3    0011  2024-08-23  24989851    00248         368    400.0    PEN   \n",
       "4    0011  2024-08-23  21285186    00248         321    200.0    PEN   \n",
       "\n",
       "                          NOMBRE ESTADO  FLAG            CONTRATO  \\\n",
       "0  EMILIANO FEDERICO OSCCO PEZUA      P     1  001101839600385171   \n",
       "1                            ..L      P     1  001109395000374390   \n",
       "2                              ]      P     1  001103485000711084   \n",
       "3                           A...      P     1  001108149602973630   \n",
       "4        ADA MIRIAM NIEVA SINCHE      P     2  001103215002499247   \n",
       "\n",
       "                  NOMBRE_CLIENTE FECHA_ENVIO ID_RESPONSABLE TIPO_CARTERA  \\\n",
       "0  EMILIANO FEDERICO OSCCO PEZUA      26-Ago            MIV    UNSECURED   \n",
       "1   MARIO JEFFREY MORI FERNANDEZ      26-Ago            MIV    UNSECURED   \n",
       "2   ROBERTO FARROÐAN SANTISTEBAN      26-Ago            MIV    UNSECURED   \n",
       "3        JOHAN YVAN REVILLA LUNA      26-Ago            MIV    UNSECURED   \n",
       "4        ADA MIRIAM NIEVA SINCHE      26-Ago            MIV    UNSECURED   \n",
       "\n",
       "  TIPO_FONDO CARTERA       AGENCIA ID_VTA  \n",
       "0       NULL   KSTBC  MORNESE MORA      -  \n",
       "1       NULL     EXJ  MORNESE MORA      -  \n",
       "2       NULL     EXJ    ASESCOM RJ      -  \n",
       "3       NULL   KSTBC  MORNESE MORA      -  \n",
       "4       NULL   KSTBC  MORNESE MORA      -  "
      ]
     },
     "execution_count": 471,
     "metadata": {},
     "output_type": "execute_result"
    }
   ],
   "source": [
    "df_asignacion_test['codigo'] = df_asignacion_test['codigo'].astype('Int64').astype(str).str.zfill(8)\n",
    "\n",
    "cols_asignacion = ['codigo', 'ID_FLAG', 'cont_18', 'nombre', 'TIPO_CARTERA', 'TIPO_FONDO', 'clave', 'AGENCIA CORRECTA', 'ID_VTA.']\n",
    "df_base_test = df_base_test.merge(df_asignacion_test[cols_asignacion], left_on='CC', right_on='codigo', how='left')\n",
    "df_base_test = df_base_test.drop(columns=['codigo'])\n",
    "df_base_test = df_base_test.rename(columns={'Entidad':'ENTIDAD', 'ID_FLAG': 'FLAG', 'cont_18': 'CONTRATO', 'nombre': 'NOMBRE_CLIENTE', 'clave': 'CARTERA', 'AGENCIA CORRECTA': 'AGENCIA', 'ID_VTA.': 'ID_VTA'})\n",
    "\n",
    "df_base_test.drop_duplicates(subset=['CC', 'IMPORTE', 'MONEDA', 'NOMBRE'], keep='first', inplace=True)\n",
    "\n",
    "df_base_test['TIPO_CARTERA'] = df_base_test['TIPO_CARTERA'].fillna('NULL')\n",
    "df_base_test['TIPO_FONDO'] = df_base_test['TIPO_FONDO'].fillna('NULL')\n",
    "\n",
    "df_base_test['FLAG'] = df_base_test['FLAG'].astype('Int64')\n",
    "df_base_test['CONTRATO'] = df_base_test['CONTRATO'].apply(lambda x: str(int(x)).zfill(18) if pd.notna(x) else x)\n",
    "df_base_test['ENTIDAD'] = df_base_test['ENTIDAD'].astype('Int64').astype(str).str.zfill(4)\n",
    "\n",
    "cols_base_test = ['ENTIDAD', 'FECHA', 'CC', 'CLAVSERV', 'CENTROPAGO', 'IMPORTE', 'MONEDA', 'NOMBRE', 'ESTADO', 'FLAG', 'CONTRATO', 'NOMBRE_CLIENTE', 'FECHA_ENVIO', 'ID_RESPONSABLE', 'TIPO_CARTERA', 'TIPO_FONDO', 'CARTERA', 'AGENCIA', 'ID_VTA']\n",
    "df_base_test = df_base_test[cols_base_test]\n",
    "\n",
    "print(df_base_test.shape)\n",
    "print(df_base_test.dtypes)\n",
    "df_base_test.head(5)"
   ]
  },
  {
   "cell_type": "code",
   "execution_count": 472,
   "metadata": {},
   "outputs": [
    {
     "name": "stdout",
     "output_type": "stream",
     "text": [
      "REGISTROS OK\n"
     ]
    }
   ],
   "source": [
    "if base_count == df_base_test.shape[0]:\n",
    "    print('REGISTROS OK')\n",
    "elif base_count > df_base_test.shape[0]:\n",
    "    print('Se han perdido registros')\n",
    "else:\n",
    "    print('Se han duplicado registros: ', df_base_test.shape[0] - base_count)"
   ]
  },
  {
   "cell_type": "code",
   "execution_count": 473,
   "metadata": {},
   "outputs": [
    {
     "data": {
      "text/plain": [
       "(289, 19)"
      ]
     },
     "execution_count": 473,
     "metadata": {},
     "output_type": "execute_result"
    }
   ],
   "source": [
    "df_base_test.shape"
   ]
  },
  {
   "cell_type": "code",
   "execution_count": 474,
   "metadata": {},
   "outputs": [
    {
     "data": {
      "text/plain": [
       "(11, 19)"
      ]
     },
     "execution_count": 474,
     "metadata": {},
     "output_type": "execute_result"
    }
   ],
   "source": [
    "df_base_no_flag = df_base_test[df_base_test['FLAG'].isnull()]\n",
    "df_base_no_flag.shape"
   ]
  },
  {
   "cell_type": "code",
   "execution_count": 475,
   "metadata": {},
   "outputs": [
    {
     "data": {
      "text/plain": [
       "11"
      ]
     },
     "execution_count": 475,
     "metadata": {},
     "output_type": "execute_result"
    }
   ],
   "source": [
    "no_flag_count = df_base_no_flag.shape[0]\n",
    "no_flag_count"
   ]
  },
  {
   "cell_type": "code",
   "execution_count": 476,
   "metadata": {},
   "outputs": [
    {
     "data": {
      "text/plain": [
       "278"
      ]
     },
     "execution_count": 476,
     "metadata": {},
     "output_type": "execute_result"
    }
   ],
   "source": [
    "flag_count = base_count - no_flag_count\n",
    "flag_count"
   ]
  },
  {
   "cell_type": "code",
   "execution_count": 365,
   "metadata": {},
   "outputs": [],
   "source": [
    "#################### MONOPRODUCTO ####################"
   ]
  },
  {
   "cell_type": "code",
   "execution_count": 427,
   "metadata": {},
   "outputs": [
    {
     "name": "stdout",
     "output_type": "stream",
     "text": [
      "(238, 19)\n"
     ]
    },
    {
     "data": {
      "text/html": [
       "<div>\n",
       "<style scoped>\n",
       "    .dataframe tbody tr th:only-of-type {\n",
       "        vertical-align: middle;\n",
       "    }\n",
       "\n",
       "    .dataframe tbody tr th {\n",
       "        vertical-align: top;\n",
       "    }\n",
       "\n",
       "    .dataframe thead th {\n",
       "        text-align: right;\n",
       "    }\n",
       "</style>\n",
       "<table border=\"1\" class=\"dataframe\">\n",
       "  <thead>\n",
       "    <tr style=\"text-align: right;\">\n",
       "      <th></th>\n",
       "      <th>ENTIDAD</th>\n",
       "      <th>FECHA</th>\n",
       "      <th>CC</th>\n",
       "      <th>CLAVSERV</th>\n",
       "      <th>CENTROPAGO</th>\n",
       "      <th>IMPORTE</th>\n",
       "      <th>MONEDA</th>\n",
       "      <th>NOMBRE</th>\n",
       "      <th>ESTADO</th>\n",
       "      <th>FLAG</th>\n",
       "      <th>CONTRATO</th>\n",
       "      <th>NOMBRE_CLIENTE</th>\n",
       "      <th>FECHA_ENVIO</th>\n",
       "      <th>ID_RESPONSABLE</th>\n",
       "      <th>TIPO_CARTERA</th>\n",
       "      <th>TIPO_FONDO</th>\n",
       "      <th>CARTERA</th>\n",
       "      <th>AGENCIA</th>\n",
       "      <th>ID_VTA</th>\n",
       "    </tr>\n",
       "  </thead>\n",
       "  <tbody>\n",
       "    <tr>\n",
       "      <th>0</th>\n",
       "      <td>0011</td>\n",
       "      <td>2024-08-23</td>\n",
       "      <td>27853752</td>\n",
       "      <td>00248</td>\n",
       "      <td>257</td>\n",
       "      <td>835.0</td>\n",
       "      <td>PEN</td>\n",
       "      <td>EMILIANO FEDERICO OSCCO PEZUA</td>\n",
       "      <td>P</td>\n",
       "      <td>1</td>\n",
       "      <td>001101839600385171</td>\n",
       "      <td>EMILIANO FEDERICO OSCCO PEZUA</td>\n",
       "      <td>26-Ago</td>\n",
       "      <td>MIV</td>\n",
       "      <td>UNSECURED</td>\n",
       "      <td>NULL</td>\n",
       "      <td>KSTBC</td>\n",
       "      <td>MORNESE MORA</td>\n",
       "      <td>-</td>\n",
       "    </tr>\n",
       "    <tr>\n",
       "      <th>1</th>\n",
       "      <td>0011</td>\n",
       "      <td>2024-08-23</td>\n",
       "      <td>25003473</td>\n",
       "      <td>00248</td>\n",
       "      <td>368</td>\n",
       "      <td>40.0</td>\n",
       "      <td>PEN</td>\n",
       "      <td>..L</td>\n",
       "      <td>P</td>\n",
       "      <td>1</td>\n",
       "      <td>001109395000374390</td>\n",
       "      <td>MARIO JEFFREY MORI FERNANDEZ</td>\n",
       "      <td>26-Ago</td>\n",
       "      <td>MIV</td>\n",
       "      <td>UNSECURED</td>\n",
       "      <td>NULL</td>\n",
       "      <td>EXJ</td>\n",
       "      <td>MORNESE MORA</td>\n",
       "      <td>-</td>\n",
       "    </tr>\n",
       "    <tr>\n",
       "      <th>2</th>\n",
       "      <td>0011</td>\n",
       "      <td>2024-08-23</td>\n",
       "      <td>26798182</td>\n",
       "      <td>00248</td>\n",
       "      <td>442</td>\n",
       "      <td>1200.0</td>\n",
       "      <td>PEN</td>\n",
       "      <td>]</td>\n",
       "      <td>P</td>\n",
       "      <td>1</td>\n",
       "      <td>001103485000711084</td>\n",
       "      <td>ROBERTO FARROÐAN SANTISTEBAN</td>\n",
       "      <td>26-Ago</td>\n",
       "      <td>MIV</td>\n",
       "      <td>UNSECURED</td>\n",
       "      <td>NULL</td>\n",
       "      <td>EXJ</td>\n",
       "      <td>ASESCOM RJ</td>\n",
       "      <td>-</td>\n",
       "    </tr>\n",
       "    <tr>\n",
       "      <th>3</th>\n",
       "      <td>0011</td>\n",
       "      <td>2024-08-23</td>\n",
       "      <td>24989851</td>\n",
       "      <td>00248</td>\n",
       "      <td>368</td>\n",
       "      <td>400.0</td>\n",
       "      <td>PEN</td>\n",
       "      <td>A...</td>\n",
       "      <td>P</td>\n",
       "      <td>1</td>\n",
       "      <td>001108149602973630</td>\n",
       "      <td>JOHAN YVAN REVILLA LUNA</td>\n",
       "      <td>26-Ago</td>\n",
       "      <td>MIV</td>\n",
       "      <td>UNSECURED</td>\n",
       "      <td>NULL</td>\n",
       "      <td>KSTBC</td>\n",
       "      <td>MORNESE MORA</td>\n",
       "      <td>-</td>\n",
       "    </tr>\n",
       "    <tr>\n",
       "      <th>8</th>\n",
       "      <td>0011</td>\n",
       "      <td>2024-08-23</td>\n",
       "      <td>23020176</td>\n",
       "      <td>00248</td>\n",
       "      <td>847</td>\n",
       "      <td>600.0</td>\n",
       "      <td>PEN</td>\n",
       "      <td>ALBERT SANTIE BARRANTES ALVA</td>\n",
       "      <td>P</td>\n",
       "      <td>1</td>\n",
       "      <td>001105045005177180</td>\n",
       "      <td>ALBERT SANTIEBARRANTESALVA</td>\n",
       "      <td>26-Ago</td>\n",
       "      <td>MIV</td>\n",
       "      <td>UNSECURED</td>\n",
       "      <td>NULL</td>\n",
       "      <td>EXJ</td>\n",
       "      <td>ASESCOM RJ</td>\n",
       "      <td>-</td>\n",
       "    </tr>\n",
       "  </tbody>\n",
       "</table>\n",
       "</div>"
      ],
      "text/plain": [
       "  ENTIDAD       FECHA        CC CLAVSERV  CENTROPAGO  IMPORTE MONEDA  \\\n",
       "0    0011  2024-08-23  27853752    00248         257    835.0    PEN   \n",
       "1    0011  2024-08-23  25003473    00248         368     40.0    PEN   \n",
       "2    0011  2024-08-23  26798182    00248         442   1200.0    PEN   \n",
       "3    0011  2024-08-23  24989851    00248         368    400.0    PEN   \n",
       "8    0011  2024-08-23  23020176    00248         847    600.0    PEN   \n",
       "\n",
       "                          NOMBRE ESTADO  FLAG            CONTRATO  \\\n",
       "0  EMILIANO FEDERICO OSCCO PEZUA      P     1  001101839600385171   \n",
       "1                            ..L      P     1  001109395000374390   \n",
       "2                              ]      P     1  001103485000711084   \n",
       "3                           A...      P     1  001108149602973630   \n",
       "8   ALBERT SANTIE BARRANTES ALVA      P     1  001105045005177180   \n",
       "\n",
       "                  NOMBRE_CLIENTE FECHA_ENVIO ID_RESPONSABLE TIPO_CARTERA  \\\n",
       "0  EMILIANO FEDERICO OSCCO PEZUA      26-Ago            MIV    UNSECURED   \n",
       "1   MARIO JEFFREY MORI FERNANDEZ      26-Ago            MIV    UNSECURED   \n",
       "2   ROBERTO FARROÐAN SANTISTEBAN      26-Ago            MIV    UNSECURED   \n",
       "3        JOHAN YVAN REVILLA LUNA      26-Ago            MIV    UNSECURED   \n",
       "8     ALBERT SANTIEBARRANTESALVA      26-Ago            MIV    UNSECURED   \n",
       "\n",
       "  TIPO_FONDO CARTERA       AGENCIA ID_VTA  \n",
       "0       NULL   KSTBC  MORNESE MORA      -  \n",
       "1       NULL     EXJ  MORNESE MORA      -  \n",
       "2       NULL     EXJ    ASESCOM RJ      -  \n",
       "3       NULL   KSTBC  MORNESE MORA      -  \n",
       "8       NULL     EXJ    ASESCOM RJ      -  "
      ]
     },
     "execution_count": 427,
     "metadata": {},
     "output_type": "execute_result"
    }
   ],
   "source": [
    "df_mono = df_base_test[df_base_test['FLAG'] == 1]\n",
    "print(df_mono.shape)\n",
    "df_mono.head(5)"
   ]
  },
  {
   "cell_type": "code",
   "execution_count": 428,
   "metadata": {},
   "outputs": [
    {
     "data": {
      "text/plain": [
       "238"
      ]
     },
     "execution_count": 428,
     "metadata": {},
     "output_type": "execute_result"
    }
   ],
   "source": [
    "mono_count = df_mono.shape[0]\n",
    "mono_count"
   ]
  },
  {
   "cell_type": "code",
   "execution_count": 429,
   "metadata": {},
   "outputs": [
    {
     "data": {
      "text/plain": [
       "TIPO_CARTERA\n",
       "UNSECURED    228\n",
       "SECURED        7\n",
       "NULL           3\n",
       "Name: count, dtype: int64"
      ]
     },
     "execution_count": 429,
     "metadata": {},
     "output_type": "execute_result"
    }
   ],
   "source": [
    "df_mono['TIPO_CARTERA'].value_counts()"
   ]
  },
  {
   "cell_type": "code",
   "execution_count": 430,
   "metadata": {},
   "outputs": [
    {
     "data": {
      "text/plain": [
       "TIPO_FONDO\n",
       "NULL        232\n",
       "REACTIVA      6\n",
       "Name: count, dtype: int64"
      ]
     },
     "execution_count": 430,
     "metadata": {},
     "output_type": "execute_result"
    }
   ],
   "source": [
    "df_mono['TIPO_FONDO'].value_counts()"
   ]
  },
  {
   "cell_type": "code",
   "execution_count": 431,
   "metadata": {},
   "outputs": [
    {
     "data": {
      "text/plain": [
       "TIPO_CARTERA  TIPO_FONDO\n",
       "UNSECURED     NULL          224\n",
       "SECURED       NULL            5\n",
       "UNSECURED     REACTIVA        4\n",
       "NULL          NULL            3\n",
       "SECURED       REACTIVA        2\n",
       "Name: count, dtype: int64"
      ]
     },
     "execution_count": 431,
     "metadata": {},
     "output_type": "execute_result"
    }
   ],
   "source": [
    "df_mono[['TIPO_CARTERA', 'TIPO_FONDO']].value_counts()"
   ]
  },
  {
   "cell_type": "code",
   "execution_count": 433,
   "metadata": {},
   "outputs": [],
   "source": [
    "#################### MONO REACTIVA ####################"
   ]
  },
  {
   "cell_type": "code",
   "execution_count": 432,
   "metadata": {},
   "outputs": [
    {
     "name": "stdout",
     "output_type": "stream",
     "text": [
      "(4, 16)\n"
     ]
    },
    {
     "data": {
      "text/html": [
       "<div>\n",
       "<style scoped>\n",
       "    .dataframe tbody tr th:only-of-type {\n",
       "        vertical-align: middle;\n",
       "    }\n",
       "\n",
       "    .dataframe tbody tr th {\n",
       "        vertical-align: top;\n",
       "    }\n",
       "\n",
       "    .dataframe thead th {\n",
       "        text-align: right;\n",
       "    }\n",
       "</style>\n",
       "<table border=\"1\" class=\"dataframe\">\n",
       "  <thead>\n",
       "    <tr style=\"text-align: right;\">\n",
       "      <th></th>\n",
       "      <th>FECHA</th>\n",
       "      <th>CC</th>\n",
       "      <th>CLAVSERV</th>\n",
       "      <th>IMPORTE</th>\n",
       "      <th>MONEDA</th>\n",
       "      <th>NOMBRE</th>\n",
       "      <th>ESTADO</th>\n",
       "      <th>FLAG</th>\n",
       "      <th>CONTRATO</th>\n",
       "      <th>NOMBRE_CLIENTE</th>\n",
       "      <th>FECHA_ENVIO</th>\n",
       "      <th>ID_RESPONSABLE</th>\n",
       "      <th>TIPO_CARTERA</th>\n",
       "      <th>TIPO_FONDO</th>\n",
       "      <th>CARTERA</th>\n",
       "      <th>AGENCIA</th>\n",
       "    </tr>\n",
       "  </thead>\n",
       "  <tbody>\n",
       "    <tr>\n",
       "      <th>17</th>\n",
       "      <td>2024-08-23</td>\n",
       "      <td>23533740</td>\n",
       "      <td>00248</td>\n",
       "      <td>13000.0</td>\n",
       "      <td>PEN</td>\n",
       "      <td>AMERICA TRADING CENTER SAC///////</td>\n",
       "      <td>P</td>\n",
       "      <td>1</td>\n",
       "      <td>001101449600212843</td>\n",
       "      <td>AMERICA TRADING CENTER SAC</td>\n",
       "      <td>26-Ago</td>\n",
       "      <td>MIV</td>\n",
       "      <td>UNSECURED</td>\n",
       "      <td>REACTIVA</td>\n",
       "      <td>BC</td>\n",
       "      <td>MORNESE MORA</td>\n",
       "    </tr>\n",
       "    <tr>\n",
       "      <th>59</th>\n",
       "      <td>2024-08-23</td>\n",
       "      <td>25019714</td>\n",
       "      <td>00248</td>\n",
       "      <td>3000.0</td>\n",
       "      <td>PEN</td>\n",
       "      <td>CORPORACION BIOQUIMICA DEL SUR SAC</td>\n",
       "      <td>P</td>\n",
       "      <td>1</td>\n",
       "      <td>001106099600037771</td>\n",
       "      <td>CORPORACION BIOQUIMICA DEL SUR SAC</td>\n",
       "      <td>26-Ago</td>\n",
       "      <td>MIV</td>\n",
       "      <td>UNSECURED</td>\n",
       "      <td>REACTIVA</td>\n",
       "      <td>KSTBC</td>\n",
       "      <td>CLASA MORA</td>\n",
       "    </tr>\n",
       "    <tr>\n",
       "      <th>146</th>\n",
       "      <td>2024-08-23</td>\n",
       "      <td>28131889</td>\n",
       "      <td>00248</td>\n",
       "      <td>30000.0</td>\n",
       "      <td>PEN</td>\n",
       "      <td>INVERSIONES TURISTICAS RC SAC</td>\n",
       "      <td>P</td>\n",
       "      <td>1</td>\n",
       "      <td>001102499600941935</td>\n",
       "      <td>INVERSIONES TURISTICAS RC SAC</td>\n",
       "      <td>26-Ago</td>\n",
       "      <td>MIV</td>\n",
       "      <td>UNSECURED</td>\n",
       "      <td>REACTIVA</td>\n",
       "      <td>BC</td>\n",
       "      <td>CLASA MORA</td>\n",
       "    </tr>\n",
       "    <tr>\n",
       "      <th>296</th>\n",
       "      <td>2024-08-23</td>\n",
       "      <td>25876560</td>\n",
       "      <td>00248</td>\n",
       "      <td>800.0</td>\n",
       "      <td>PEN</td>\n",
       "      <td>TECNOLOGIA Y SUMINISTROS GARCIA EIRL.</td>\n",
       "      <td>P</td>\n",
       "      <td>1</td>\n",
       "      <td>001103069601019184</td>\n",
       "      <td>TEGNOLOGIA Y SUMINISTROS GARCIA EIRL</td>\n",
       "      <td>26-Ago</td>\n",
       "      <td>MIV</td>\n",
       "      <td>UNSECURED</td>\n",
       "      <td>REACTIVA</td>\n",
       "      <td>KSTBC</td>\n",
       "      <td>ASESCOM RJ</td>\n",
       "    </tr>\n",
       "  </tbody>\n",
       "</table>\n",
       "</div>"
      ],
      "text/plain": [
       "          FECHA        CC CLAVSERV  IMPORTE MONEDA  \\\n",
       "17   2024-08-23  23533740    00248  13000.0    PEN   \n",
       "59   2024-08-23  25019714    00248   3000.0    PEN   \n",
       "146  2024-08-23  28131889    00248  30000.0    PEN   \n",
       "296  2024-08-23  25876560    00248    800.0    PEN   \n",
       "\n",
       "                                    NOMBRE ESTADO  FLAG            CONTRATO  \\\n",
       "17       AMERICA TRADING CENTER SAC///////      P     1  001101449600212843   \n",
       "59      CORPORACION BIOQUIMICA DEL SUR SAC      P     1  001106099600037771   \n",
       "146          INVERSIONES TURISTICAS RC SAC      P     1  001102499600941935   \n",
       "296  TECNOLOGIA Y SUMINISTROS GARCIA EIRL.      P     1  001103069601019184   \n",
       "\n",
       "                           NOMBRE_CLIENTE FECHA_ENVIO ID_RESPONSABLE  \\\n",
       "17             AMERICA TRADING CENTER SAC      26-Ago            MIV   \n",
       "59     CORPORACION BIOQUIMICA DEL SUR SAC      26-Ago            MIV   \n",
       "146         INVERSIONES TURISTICAS RC SAC      26-Ago            MIV   \n",
       "296  TEGNOLOGIA Y SUMINISTROS GARCIA EIRL      26-Ago            MIV   \n",
       "\n",
       "    TIPO_CARTERA TIPO_FONDO CARTERA       AGENCIA  \n",
       "17     UNSECURED   REACTIVA      BC  MORNESE MORA  \n",
       "59     UNSECURED   REACTIVA   KSTBC    CLASA MORA  \n",
       "146    UNSECURED   REACTIVA      BC    CLASA MORA  \n",
       "296    UNSECURED   REACTIVA   KSTBC    ASESCOM RJ  "
      ]
     },
     "execution_count": 432,
     "metadata": {},
     "output_type": "execute_result"
    }
   ],
   "source": [
    "df_reactiva = df_mono[(df_mono['TIPO_CARTERA'] == 'UNSECURED') & (df_mono['TIPO_FONDO'] == 'REACTIVA')]\n",
    "df_reactiva.drop(columns=['ENTIDAD', 'CENTROPAGO', 'ID_VTA'], inplace=True)\n",
    "print(df_reactiva.shape)\n",
    "df_reactiva.head(5)"
   ]
  },
  {
   "cell_type": "code",
   "execution_count": 434,
   "metadata": {},
   "outputs": [
    {
     "data": {
      "text/plain": [
       "4"
      ]
     },
     "execution_count": 434,
     "metadata": {},
     "output_type": "execute_result"
    }
   ],
   "source": [
    "reactiva_count = df_reactiva.shape[0]\n",
    "reactiva_count"
   ]
  },
  {
   "cell_type": "code",
   "execution_count": 435,
   "metadata": {},
   "outputs": [],
   "source": [
    "df_reactiva.to_excel(reactiva, index=False)"
   ]
  },
  {
   "cell_type": "code",
   "execution_count": 436,
   "metadata": {},
   "outputs": [],
   "source": [
    "#################### FIN REACTIVA ####################"
   ]
  },
  {
   "cell_type": "code",
   "execution_count": 437,
   "metadata": {},
   "outputs": [
    {
     "data": {
      "text/plain": [
       "10"
      ]
     },
     "execution_count": 437,
     "metadata": {},
     "output_type": "execute_result"
    }
   ],
   "source": [
    "df_no_mono = df_mono[(df_mono['TIPO_CARTERA'] != 'UNSECURED')]\n",
    "no_mono_count = df_no_mono.shape[0]\n",
    "no_mono_count"
   ]
  },
  {
   "cell_type": "code",
   "execution_count": 442,
   "metadata": {},
   "outputs": [
    {
     "name": "stdout",
     "output_type": "stream",
     "text": [
      "(224, 19)\n"
     ]
    }
   ],
   "source": [
    "df_mono = df_mono[df_mono['TIPO_CARTERA'] == 'UNSECURED']\n",
    "df_mono = df_mono[df_mono['TIPO_FONDO'] == 'NULL']\n",
    "print(df_mono.shape)"
   ]
  },
  {
   "cell_type": "code",
   "execution_count": 443,
   "metadata": {},
   "outputs": [],
   "source": [
    "df_mono['CONTRATO'] = df_mono['CONTRATO'].astype(str).str.zfill(18)"
   ]
  },
  {
   "cell_type": "code",
   "execution_count": 444,
   "metadata": {},
   "outputs": [
    {
     "name": "stdout",
     "output_type": "stream",
     "text": [
      "(224, 16)\n"
     ]
    },
    {
     "data": {
      "text/html": [
       "<div>\n",
       "<style scoped>\n",
       "    .dataframe tbody tr th:only-of-type {\n",
       "        vertical-align: middle;\n",
       "    }\n",
       "\n",
       "    .dataframe tbody tr th {\n",
       "        vertical-align: top;\n",
       "    }\n",
       "\n",
       "    .dataframe thead th {\n",
       "        text-align: right;\n",
       "    }\n",
       "</style>\n",
       "<table border=\"1\" class=\"dataframe\">\n",
       "  <thead>\n",
       "    <tr style=\"text-align: right;\">\n",
       "      <th></th>\n",
       "      <th>FECHA</th>\n",
       "      <th>CC</th>\n",
       "      <th>CLAVSERV</th>\n",
       "      <th>IMPORTE</th>\n",
       "      <th>MONEDA</th>\n",
       "      <th>NOMBRE</th>\n",
       "      <th>ESTADO</th>\n",
       "      <th>FLAG</th>\n",
       "      <th>CONTRATO</th>\n",
       "      <th>NOMBRE_CLIENTE</th>\n",
       "      <th>FECHA_ENVIO</th>\n",
       "      <th>ID_RESPONSABLE</th>\n",
       "      <th>TIPO_CARTERA</th>\n",
       "      <th>TIPO_FONDO</th>\n",
       "      <th>CARTERA</th>\n",
       "      <th>AGENCIA</th>\n",
       "    </tr>\n",
       "  </thead>\n",
       "  <tbody>\n",
       "    <tr>\n",
       "      <th>0</th>\n",
       "      <td>2024-08-23</td>\n",
       "      <td>27853752</td>\n",
       "      <td>00248</td>\n",
       "      <td>835.0</td>\n",
       "      <td>PEN</td>\n",
       "      <td>EMILIANO FEDERICO OSCCO PEZUA</td>\n",
       "      <td>P</td>\n",
       "      <td>1</td>\n",
       "      <td>001101839600385171</td>\n",
       "      <td>EMILIANO FEDERICO OSCCO PEZUA</td>\n",
       "      <td>26-Ago</td>\n",
       "      <td>MIV</td>\n",
       "      <td>UNSECURED</td>\n",
       "      <td>NULL</td>\n",
       "      <td>KSTBC</td>\n",
       "      <td>MORNESE MORA</td>\n",
       "    </tr>\n",
       "    <tr>\n",
       "      <th>1</th>\n",
       "      <td>2024-08-23</td>\n",
       "      <td>25003473</td>\n",
       "      <td>00248</td>\n",
       "      <td>40.0</td>\n",
       "      <td>PEN</td>\n",
       "      <td>..L</td>\n",
       "      <td>P</td>\n",
       "      <td>1</td>\n",
       "      <td>001109395000374390</td>\n",
       "      <td>MARIO JEFFREY MORI FERNANDEZ</td>\n",
       "      <td>26-Ago</td>\n",
       "      <td>MIV</td>\n",
       "      <td>UNSECURED</td>\n",
       "      <td>NULL</td>\n",
       "      <td>EXJ</td>\n",
       "      <td>MORNESE MORA</td>\n",
       "    </tr>\n",
       "    <tr>\n",
       "      <th>2</th>\n",
       "      <td>2024-08-23</td>\n",
       "      <td>26798182</td>\n",
       "      <td>00248</td>\n",
       "      <td>1200.0</td>\n",
       "      <td>PEN</td>\n",
       "      <td>]</td>\n",
       "      <td>P</td>\n",
       "      <td>1</td>\n",
       "      <td>001103485000711084</td>\n",
       "      <td>ROBERTO FARROÐAN SANTISTEBAN</td>\n",
       "      <td>26-Ago</td>\n",
       "      <td>MIV</td>\n",
       "      <td>UNSECURED</td>\n",
       "      <td>NULL</td>\n",
       "      <td>EXJ</td>\n",
       "      <td>ASESCOM RJ</td>\n",
       "    </tr>\n",
       "    <tr>\n",
       "      <th>3</th>\n",
       "      <td>2024-08-23</td>\n",
       "      <td>24989851</td>\n",
       "      <td>00248</td>\n",
       "      <td>400.0</td>\n",
       "      <td>PEN</td>\n",
       "      <td>A...</td>\n",
       "      <td>P</td>\n",
       "      <td>1</td>\n",
       "      <td>001108149602973630</td>\n",
       "      <td>JOHAN YVAN REVILLA LUNA</td>\n",
       "      <td>26-Ago</td>\n",
       "      <td>MIV</td>\n",
       "      <td>UNSECURED</td>\n",
       "      <td>NULL</td>\n",
       "      <td>KSTBC</td>\n",
       "      <td>MORNESE MORA</td>\n",
       "    </tr>\n",
       "    <tr>\n",
       "      <th>8</th>\n",
       "      <td>2024-08-23</td>\n",
       "      <td>23020176</td>\n",
       "      <td>00248</td>\n",
       "      <td>600.0</td>\n",
       "      <td>PEN</td>\n",
       "      <td>ALBERT SANTIE BARRANTES ALVA</td>\n",
       "      <td>P</td>\n",
       "      <td>1</td>\n",
       "      <td>001105045005177180</td>\n",
       "      <td>ALBERT SANTIEBARRANTESALVA</td>\n",
       "      <td>26-Ago</td>\n",
       "      <td>MIV</td>\n",
       "      <td>UNSECURED</td>\n",
       "      <td>NULL</td>\n",
       "      <td>EXJ</td>\n",
       "      <td>ASESCOM RJ</td>\n",
       "    </tr>\n",
       "  </tbody>\n",
       "</table>\n",
       "</div>"
      ],
      "text/plain": [
       "        FECHA        CC CLAVSERV  IMPORTE MONEDA  \\\n",
       "0  2024-08-23  27853752    00248    835.0    PEN   \n",
       "1  2024-08-23  25003473    00248     40.0    PEN   \n",
       "2  2024-08-23  26798182    00248   1200.0    PEN   \n",
       "3  2024-08-23  24989851    00248    400.0    PEN   \n",
       "8  2024-08-23  23020176    00248    600.0    PEN   \n",
       "\n",
       "                          NOMBRE ESTADO  FLAG            CONTRATO  \\\n",
       "0  EMILIANO FEDERICO OSCCO PEZUA      P     1  001101839600385171   \n",
       "1                            ..L      P     1  001109395000374390   \n",
       "2                              ]      P     1  001103485000711084   \n",
       "3                           A...      P     1  001108149602973630   \n",
       "8   ALBERT SANTIE BARRANTES ALVA      P     1  001105045005177180   \n",
       "\n",
       "                  NOMBRE_CLIENTE FECHA_ENVIO ID_RESPONSABLE TIPO_CARTERA  \\\n",
       "0  EMILIANO FEDERICO OSCCO PEZUA      26-Ago            MIV    UNSECURED   \n",
       "1   MARIO JEFFREY MORI FERNANDEZ      26-Ago            MIV    UNSECURED   \n",
       "2   ROBERTO FARROÐAN SANTISTEBAN      26-Ago            MIV    UNSECURED   \n",
       "3        JOHAN YVAN REVILLA LUNA      26-Ago            MIV    UNSECURED   \n",
       "8     ALBERT SANTIEBARRANTESALVA      26-Ago            MIV    UNSECURED   \n",
       "\n",
       "  TIPO_FONDO CARTERA       AGENCIA  \n",
       "0       NULL   KSTBC  MORNESE MORA  \n",
       "1       NULL     EXJ  MORNESE MORA  \n",
       "2       NULL     EXJ    ASESCOM RJ  \n",
       "3       NULL   KSTBC  MORNESE MORA  \n",
       "8       NULL     EXJ    ASESCOM RJ  "
      ]
     },
     "execution_count": 444,
     "metadata": {},
     "output_type": "execute_result"
    }
   ],
   "source": [
    "df_mono.drop(columns=['ENTIDAD', 'CENTROPAGO', 'ID_VTA'], inplace=True)\n",
    "print(df_mono.shape)\n",
    "df_mono.head(5)"
   ]
  },
  {
   "cell_type": "code",
   "execution_count": 445,
   "metadata": {},
   "outputs": [],
   "source": [
    "df_mono.to_excel(monoproducto, index=False)"
   ]
  },
  {
   "cell_type": "code",
   "execution_count": 447,
   "metadata": {},
   "outputs": [
    {
     "data": {
      "text/plain": [
       "224"
      ]
     },
     "execution_count": 447,
     "metadata": {},
     "output_type": "execute_result"
    }
   ],
   "source": [
    "mono_count_final = df_mono.shape[0]\n",
    "mono_count_final"
   ]
  },
  {
   "cell_type": "code",
   "execution_count": 449,
   "metadata": {},
   "outputs": [
    {
     "name": "stdout",
     "output_type": "stream",
     "text": [
      "MONOPRODUCTO OK\n"
     ]
    }
   ],
   "source": [
    "if mono_count == mono_count_final + reactiva_count + no_mono_count:\n",
    "    print('MONOPRODUCTO OK')\n",
    "else:\n",
    "    print('MONOPRODUCTO ERROR')"
   ]
  },
  {
   "cell_type": "code",
   "execution_count": 450,
   "metadata": {},
   "outputs": [],
   "source": [
    "#################### FIN MONOPRODUCTO ####################"
   ]
  },
  {
   "cell_type": "code",
   "execution_count": 451,
   "metadata": {},
   "outputs": [],
   "source": [
    "#################### MULTIPRODUCTO ####################"
   ]
  },
  {
   "cell_type": "code",
   "execution_count": 452,
   "metadata": {},
   "outputs": [
    {
     "name": "stdout",
     "output_type": "stream",
     "text": [
      "(40, 19)\n"
     ]
    },
    {
     "data": {
      "text/html": [
       "<div>\n",
       "<style scoped>\n",
       "    .dataframe tbody tr th:only-of-type {\n",
       "        vertical-align: middle;\n",
       "    }\n",
       "\n",
       "    .dataframe tbody tr th {\n",
       "        vertical-align: top;\n",
       "    }\n",
       "\n",
       "    .dataframe thead th {\n",
       "        text-align: right;\n",
       "    }\n",
       "</style>\n",
       "<table border=\"1\" class=\"dataframe\">\n",
       "  <thead>\n",
       "    <tr style=\"text-align: right;\">\n",
       "      <th></th>\n",
       "      <th>ENTIDAD</th>\n",
       "      <th>FECHA</th>\n",
       "      <th>CC</th>\n",
       "      <th>CLAVSERV</th>\n",
       "      <th>CENTROPAGO</th>\n",
       "      <th>IMPORTE</th>\n",
       "      <th>MONEDA</th>\n",
       "      <th>NOMBRE</th>\n",
       "      <th>ESTADO</th>\n",
       "      <th>FLAG</th>\n",
       "      <th>CONTRATO</th>\n",
       "      <th>NOMBRE_CLIENTE</th>\n",
       "      <th>FECHA_ENVIO</th>\n",
       "      <th>ID_RESPONSABLE</th>\n",
       "      <th>TIPO_CARTERA</th>\n",
       "      <th>TIPO_FONDO</th>\n",
       "      <th>CARTERA</th>\n",
       "      <th>AGENCIA</th>\n",
       "      <th>ID_VTA</th>\n",
       "    </tr>\n",
       "  </thead>\n",
       "  <tbody>\n",
       "    <tr>\n",
       "      <th>4</th>\n",
       "      <td>0011</td>\n",
       "      <td>2024-08-23</td>\n",
       "      <td>21285186</td>\n",
       "      <td>00248</td>\n",
       "      <td>321</td>\n",
       "      <td>200.0</td>\n",
       "      <td>PEN</td>\n",
       "      <td>ADA MIRIAM NIEVA SINCHE</td>\n",
       "      <td>P</td>\n",
       "      <td>2</td>\n",
       "      <td>001103215002499247</td>\n",
       "      <td>ADA MIRIAM NIEVA SINCHE</td>\n",
       "      <td>26-Ago</td>\n",
       "      <td>MIV</td>\n",
       "      <td>UNSECURED</td>\n",
       "      <td>NULL</td>\n",
       "      <td>KSTBC</td>\n",
       "      <td>MORNESE MORA</td>\n",
       "      <td>-</td>\n",
       "    </tr>\n",
       "    <tr>\n",
       "      <th>6</th>\n",
       "      <td>0011</td>\n",
       "      <td>2024-08-23</td>\n",
       "      <td>21285186</td>\n",
       "      <td>00248</td>\n",
       "      <td>321</td>\n",
       "      <td>220.0</td>\n",
       "      <td>PEN</td>\n",
       "      <td>ADA MIRIAM NIEVA SINCHE.</td>\n",
       "      <td>P</td>\n",
       "      <td>2</td>\n",
       "      <td>001103215002499247</td>\n",
       "      <td>ADA MIRIAM NIEVA SINCHE</td>\n",
       "      <td>26-Ago</td>\n",
       "      <td>MIV</td>\n",
       "      <td>UNSECURED</td>\n",
       "      <td>NULL</td>\n",
       "      <td>KSTBC</td>\n",
       "      <td>MORNESE MORA</td>\n",
       "      <td>-</td>\n",
       "    </tr>\n",
       "    <tr>\n",
       "      <th>18</th>\n",
       "      <td>0011</td>\n",
       "      <td>2024-08-23</td>\n",
       "      <td>26501114</td>\n",
       "      <td>00248</td>\n",
       "      <td>797</td>\n",
       "      <td>1000.0</td>\n",
       "      <td>PEN</td>\n",
       "      <td>AMPLIA TECNOLOGIA</td>\n",
       "      <td>P</td>\n",
       "      <td>2</td>\n",
       "      <td>001103109600894903</td>\n",
       "      <td>AMPLIA TECNOLOGIA SOCIEDAD ANONIMA CERRADA</td>\n",
       "      <td>26-Ago</td>\n",
       "      <td>MIV</td>\n",
       "      <td>UNSECURED</td>\n",
       "      <td>NULL</td>\n",
       "      <td>EXJ</td>\n",
       "      <td>CLASA MORA</td>\n",
       "      <td>-</td>\n",
       "    </tr>\n",
       "    <tr>\n",
       "      <th>27</th>\n",
       "      <td>0011</td>\n",
       "      <td>2024-08-23</td>\n",
       "      <td>22914580</td>\n",
       "      <td>00248</td>\n",
       "      <td>106</td>\n",
       "      <td>6000.0</td>\n",
       "      <td>PEN</td>\n",
       "      <td>ARGOS CONSULTING GROUP SAC 1588</td>\n",
       "      <td>P</td>\n",
       "      <td>2</td>\n",
       "      <td>001101065000681588</td>\n",
       "      <td>ARGOS CONSULTING GROUP SAC</td>\n",
       "      <td>26-Ago</td>\n",
       "      <td>MIV</td>\n",
       "      <td>UNSECURED</td>\n",
       "      <td>NULL</td>\n",
       "      <td>BC</td>\n",
       "      <td>ASESCOM RJ</td>\n",
       "      <td>-</td>\n",
       "    </tr>\n",
       "    <tr>\n",
       "      <th>29</th>\n",
       "      <td>0011</td>\n",
       "      <td>2024-08-23</td>\n",
       "      <td>22914580</td>\n",
       "      <td>00248</td>\n",
       "      <td>106</td>\n",
       "      <td>1000.0</td>\n",
       "      <td>PEN</td>\n",
       "      <td>ARGOS CONSULTING GROUP SAC 0589</td>\n",
       "      <td>P</td>\n",
       "      <td>2</td>\n",
       "      <td>001101065000681588</td>\n",
       "      <td>ARGOS CONSULTING GROUP SAC</td>\n",
       "      <td>26-Ago</td>\n",
       "      <td>MIV</td>\n",
       "      <td>UNSECURED</td>\n",
       "      <td>NULL</td>\n",
       "      <td>BC</td>\n",
       "      <td>ASESCOM RJ</td>\n",
       "      <td>-</td>\n",
       "    </tr>\n",
       "  </tbody>\n",
       "</table>\n",
       "</div>"
      ],
      "text/plain": [
       "   ENTIDAD       FECHA        CC CLAVSERV  CENTROPAGO  IMPORTE MONEDA  \\\n",
       "4     0011  2024-08-23  21285186    00248         321    200.0    PEN   \n",
       "6     0011  2024-08-23  21285186    00248         321    220.0    PEN   \n",
       "18    0011  2024-08-23  26501114    00248         797   1000.0    PEN   \n",
       "27    0011  2024-08-23  22914580    00248         106   6000.0    PEN   \n",
       "29    0011  2024-08-23  22914580    00248         106   1000.0    PEN   \n",
       "\n",
       "                             NOMBRE ESTADO  FLAG            CONTRATO  \\\n",
       "4           ADA MIRIAM NIEVA SINCHE      P     2  001103215002499247   \n",
       "6          ADA MIRIAM NIEVA SINCHE.      P     2  001103215002499247   \n",
       "18                AMPLIA TECNOLOGIA      P     2  001103109600894903   \n",
       "27  ARGOS CONSULTING GROUP SAC 1588      P     2  001101065000681588   \n",
       "29  ARGOS CONSULTING GROUP SAC 0589      P     2  001101065000681588   \n",
       "\n",
       "                                NOMBRE_CLIENTE FECHA_ENVIO ID_RESPONSABLE  \\\n",
       "4                      ADA MIRIAM NIEVA SINCHE      26-Ago            MIV   \n",
       "6                      ADA MIRIAM NIEVA SINCHE      26-Ago            MIV   \n",
       "18  AMPLIA TECNOLOGIA SOCIEDAD ANONIMA CERRADA      26-Ago            MIV   \n",
       "27                  ARGOS CONSULTING GROUP SAC      26-Ago            MIV   \n",
       "29                  ARGOS CONSULTING GROUP SAC      26-Ago            MIV   \n",
       "\n",
       "   TIPO_CARTERA TIPO_FONDO CARTERA       AGENCIA ID_VTA  \n",
       "4     UNSECURED       NULL   KSTBC  MORNESE MORA      -  \n",
       "6     UNSECURED       NULL   KSTBC  MORNESE MORA      -  \n",
       "18    UNSECURED       NULL     EXJ    CLASA MORA      -  \n",
       "27    UNSECURED       NULL      BC    ASESCOM RJ      -  \n",
       "29    UNSECURED       NULL      BC    ASESCOM RJ      -  "
      ]
     },
     "execution_count": 452,
     "metadata": {},
     "output_type": "execute_result"
    }
   ],
   "source": [
    "df_multi = df_base_test[df_base_test['FLAG'] > 1].copy()\n",
    "print(df_multi.shape)\n",
    "df_multi.head(5)"
   ]
  },
  {
   "cell_type": "code",
   "execution_count": 453,
   "metadata": {},
   "outputs": [
    {
     "data": {
      "text/plain": [
       "40"
      ]
     },
     "execution_count": 453,
     "metadata": {},
     "output_type": "execute_result"
    }
   ],
   "source": [
    "multi_count = df_multi.shape[0]\n",
    "multi_count"
   ]
  },
  {
   "cell_type": "code",
   "execution_count": 454,
   "metadata": {},
   "outputs": [
    {
     "data": {
      "text/plain": [
       "TIPO_CARTERA\n",
       "UNSECURED    40\n",
       "Name: count, dtype: int64"
      ]
     },
     "execution_count": 454,
     "metadata": {},
     "output_type": "execute_result"
    }
   ],
   "source": [
    "df_multi['TIPO_CARTERA'].value_counts()"
   ]
  },
  {
   "cell_type": "code",
   "execution_count": 455,
   "metadata": {},
   "outputs": [
    {
     "data": {
      "text/plain": [
       "TIPO_FONDO\n",
       "NULL        39\n",
       "REACTIVA     1\n",
       "Name: count, dtype: int64"
      ]
     },
     "execution_count": 455,
     "metadata": {},
     "output_type": "execute_result"
    }
   ],
   "source": [
    "df_multi['TIPO_FONDO'].value_counts()"
   ]
  },
  {
   "cell_type": "code",
   "execution_count": 456,
   "metadata": {},
   "outputs": [
    {
     "data": {
      "text/plain": [
       "0"
      ]
     },
     "execution_count": 456,
     "metadata": {},
     "output_type": "execute_result"
    }
   ],
   "source": [
    "df_no_multi = df_multi[(df_multi['TIPO_CARTERA'] != 'UNSECURED')]\n",
    "no_multi_count = df_no_multi.shape[0]\n",
    "no_multi_count"
   ]
  },
  {
   "cell_type": "code",
   "execution_count": 457,
   "metadata": {},
   "outputs": [
    {
     "name": "stdout",
     "output_type": "stream",
     "text": [
      "(40, 14)\n"
     ]
    },
    {
     "data": {
      "text/html": [
       "<div>\n",
       "<style scoped>\n",
       "    .dataframe tbody tr th:only-of-type {\n",
       "        vertical-align: middle;\n",
       "    }\n",
       "\n",
       "    .dataframe tbody tr th {\n",
       "        vertical-align: top;\n",
       "    }\n",
       "\n",
       "    .dataframe thead th {\n",
       "        text-align: right;\n",
       "    }\n",
       "</style>\n",
       "<table border=\"1\" class=\"dataframe\">\n",
       "  <thead>\n",
       "    <tr style=\"text-align: right;\">\n",
       "      <th></th>\n",
       "      <th>FECHA</th>\n",
       "      <th>CC</th>\n",
       "      <th>CLAVSERV</th>\n",
       "      <th>IMPORTE</th>\n",
       "      <th>MONEDA</th>\n",
       "      <th>NOMBRE</th>\n",
       "      <th>ESTADO</th>\n",
       "      <th>FLAG</th>\n",
       "      <th>CONTRATO</th>\n",
       "      <th>TIPO_FONDO</th>\n",
       "      <th>CARTERA</th>\n",
       "      <th>NOMBRE_CLIENTE</th>\n",
       "      <th>FECHA_ENVIO</th>\n",
       "      <th>ID_RESPONSABLE</th>\n",
       "    </tr>\n",
       "  </thead>\n",
       "  <tbody>\n",
       "    <tr>\n",
       "      <th>4</th>\n",
       "      <td>2024-08-23</td>\n",
       "      <td>21285186</td>\n",
       "      <td>00248</td>\n",
       "      <td>200.0</td>\n",
       "      <td>PEN</td>\n",
       "      <td>ADA MIRIAM NIEVA SINCHE</td>\n",
       "      <td>P</td>\n",
       "      <td>2</td>\n",
       "      <td>None</td>\n",
       "      <td>None</td>\n",
       "      <td>None</td>\n",
       "      <td>ADA MIRIAM NIEVA SINCHE</td>\n",
       "      <td>26-Ago</td>\n",
       "      <td>MIV</td>\n",
       "    </tr>\n",
       "    <tr>\n",
       "      <th>6</th>\n",
       "      <td>2024-08-23</td>\n",
       "      <td>21285186</td>\n",
       "      <td>00248</td>\n",
       "      <td>220.0</td>\n",
       "      <td>PEN</td>\n",
       "      <td>ADA MIRIAM NIEVA SINCHE.</td>\n",
       "      <td>P</td>\n",
       "      <td>2</td>\n",
       "      <td>None</td>\n",
       "      <td>None</td>\n",
       "      <td>None</td>\n",
       "      <td>ADA MIRIAM NIEVA SINCHE</td>\n",
       "      <td>26-Ago</td>\n",
       "      <td>MIV</td>\n",
       "    </tr>\n",
       "    <tr>\n",
       "      <th>18</th>\n",
       "      <td>2024-08-23</td>\n",
       "      <td>26501114</td>\n",
       "      <td>00248</td>\n",
       "      <td>1000.0</td>\n",
       "      <td>PEN</td>\n",
       "      <td>AMPLIA TECNOLOGIA</td>\n",
       "      <td>P</td>\n",
       "      <td>2</td>\n",
       "      <td>None</td>\n",
       "      <td>None</td>\n",
       "      <td>None</td>\n",
       "      <td>AMPLIA TECNOLOGIA SOCIEDAD ANONIMA CERRADA</td>\n",
       "      <td>26-Ago</td>\n",
       "      <td>MIV</td>\n",
       "    </tr>\n",
       "    <tr>\n",
       "      <th>27</th>\n",
       "      <td>2024-08-23</td>\n",
       "      <td>22914580</td>\n",
       "      <td>00248</td>\n",
       "      <td>6000.0</td>\n",
       "      <td>PEN</td>\n",
       "      <td>ARGOS CONSULTING GROUP SAC 1588</td>\n",
       "      <td>P</td>\n",
       "      <td>2</td>\n",
       "      <td>None</td>\n",
       "      <td>None</td>\n",
       "      <td>None</td>\n",
       "      <td>ARGOS CONSULTING GROUP SAC</td>\n",
       "      <td>26-Ago</td>\n",
       "      <td>MIV</td>\n",
       "    </tr>\n",
       "    <tr>\n",
       "      <th>29</th>\n",
       "      <td>2024-08-23</td>\n",
       "      <td>22914580</td>\n",
       "      <td>00248</td>\n",
       "      <td>1000.0</td>\n",
       "      <td>PEN</td>\n",
       "      <td>ARGOS CONSULTING GROUP SAC 0589</td>\n",
       "      <td>P</td>\n",
       "      <td>2</td>\n",
       "      <td>None</td>\n",
       "      <td>None</td>\n",
       "      <td>None</td>\n",
       "      <td>ARGOS CONSULTING GROUP SAC</td>\n",
       "      <td>26-Ago</td>\n",
       "      <td>MIV</td>\n",
       "    </tr>\n",
       "  </tbody>\n",
       "</table>\n",
       "</div>"
      ],
      "text/plain": [
       "         FECHA        CC CLAVSERV  IMPORTE MONEDA  \\\n",
       "4   2024-08-23  21285186    00248    200.0    PEN   \n",
       "6   2024-08-23  21285186    00248    220.0    PEN   \n",
       "18  2024-08-23  26501114    00248   1000.0    PEN   \n",
       "27  2024-08-23  22914580    00248   6000.0    PEN   \n",
       "29  2024-08-23  22914580    00248   1000.0    PEN   \n",
       "\n",
       "                             NOMBRE ESTADO  FLAG CONTRATO TIPO_FONDO CARTERA  \\\n",
       "4           ADA MIRIAM NIEVA SINCHE      P     2     None       None    None   \n",
       "6          ADA MIRIAM NIEVA SINCHE.      P     2     None       None    None   \n",
       "18                AMPLIA TECNOLOGIA      P     2     None       None    None   \n",
       "27  ARGOS CONSULTING GROUP SAC 1588      P     2     None       None    None   \n",
       "29  ARGOS CONSULTING GROUP SAC 0589      P     2     None       None    None   \n",
       "\n",
       "                                NOMBRE_CLIENTE FECHA_ENVIO ID_RESPONSABLE  \n",
       "4                      ADA MIRIAM NIEVA SINCHE      26-Ago            MIV  \n",
       "6                      ADA MIRIAM NIEVA SINCHE      26-Ago            MIV  \n",
       "18  AMPLIA TECNOLOGIA SOCIEDAD ANONIMA CERRADA      26-Ago            MIV  \n",
       "27                  ARGOS CONSULTING GROUP SAC      26-Ago            MIV  \n",
       "29                  ARGOS CONSULTING GROUP SAC      26-Ago            MIV  "
      ]
     },
     "execution_count": 457,
     "metadata": {},
     "output_type": "execute_result"
    }
   ],
   "source": [
    "df_multi = df_multi[df_multi['TIPO_CARTERA'] == 'UNSECURED']\n",
    "\n",
    "df_multi['CONTRATO'] = None\n",
    "df_multi['TIPO_FONDO'] = None\n",
    "df_multi['CARTERA'] = None\n",
    "\n",
    "df_multi = df_multi.drop(columns=['TIPO_CARTERA', 'AGENCIA'])\n",
    "df_multi = df_multi.drop_duplicates(subset=['CC', 'IMPORTE', 'MONEDA', 'NOMBRE'])\n",
    "\n",
    "cols_multi = ['FECHA', 'CC', 'CLAVSERV', 'IMPORTE', 'MONEDA', 'NOMBRE', 'ESTADO', 'FLAG', 'CONTRATO', 'TIPO_FONDO', 'CARTERA', 'NOMBRE_CLIENTE', 'FECHA_ENVIO', 'ID_RESPONSABLE']\n",
    "df_multi = df_multi[cols_multi]\n",
    "\n",
    "print(df_multi.shape)\n",
    "df_multi.head(5)"
   ]
  },
  {
   "cell_type": "code",
   "execution_count": 458,
   "metadata": {},
   "outputs": [],
   "source": [
    "df_multi.to_excel(multiproducto, index=False)"
   ]
  },
  {
   "cell_type": "code",
   "execution_count": 459,
   "metadata": {},
   "outputs": [
    {
     "data": {
      "text/plain": [
       "40"
      ]
     },
     "execution_count": 459,
     "metadata": {},
     "output_type": "execute_result"
    }
   ],
   "source": [
    "multi_count_final = df_multi.shape[0]\n",
    "multi_count_final"
   ]
  },
  {
   "cell_type": "code",
   "execution_count": 460,
   "metadata": {},
   "outputs": [
    {
     "name": "stdout",
     "output_type": "stream",
     "text": [
      "MULTIPRODUCTO OK\n"
     ]
    }
   ],
   "source": [
    "if multi_count == multi_count_final + no_multi_count:\n",
    "    print('MULTIPRODUCTO OK')\n",
    "else:\n",
    "    print('MULTIPRODUCTO ERROR')"
   ]
  },
  {
   "cell_type": "code",
   "execution_count": 461,
   "metadata": {},
   "outputs": [],
   "source": [
    "#################### FIN MULTIPRODUCTO ####################"
   ]
  },
  {
   "cell_type": "code",
   "execution_count": 464,
   "metadata": {},
   "outputs": [],
   "source": [
    "#################### NO ENVIADOS ####################"
   ]
  },
  {
   "cell_type": "code",
   "execution_count": 477,
   "metadata": {},
   "outputs": [
    {
     "name": "stdout",
     "output_type": "stream",
     "text": [
      "No enviados: 21\n",
      "Enviados: 268\n",
      "Total: 289\n"
     ]
    }
   ],
   "source": [
    "no_eviados = no_mono_count + no_multi_count + no_flag_count\n",
    "enviados = mono_count_final + multi_count_final + reactiva_count\n",
    "\n",
    "print('No enviados:', no_eviados)\n",
    "print('Enviados:', enviados)\n",
    "print('Total:', no_eviados + enviados)"
   ]
  },
  {
   "cell_type": "code",
   "execution_count": 478,
   "metadata": {},
   "outputs": [
    {
     "name": "stdout",
     "output_type": "stream",
     "text": [
      "REGISTROS OK\n"
     ]
    }
   ],
   "source": [
    "if base_count == enviados + no_eviados:\n",
    "    print('REGISTROS OK')\n",
    "else:\n",
    "    print('REGISTROS ERROR')"
   ]
  },
  {
   "cell_type": "code",
   "execution_count": 479,
   "metadata": {},
   "outputs": [],
   "source": [
    "cols_no_enviados = ['ENTIDAD', 'FECHA', 'CC', 'CLAVSERV', 'CENTROPAGO', 'IMPORTE', 'MONEDA', 'NOMBRE', 'ESTADO', 'FLAG', 'TIPO_FONDO', 'TIPO_CARTERA', 'CONTRATO', 'ID_VTA']"
   ]
  },
  {
   "cell_type": "code",
   "execution_count": 481,
   "metadata": {},
   "outputs": [
    {
     "name": "stdout",
     "output_type": "stream",
     "text": [
      "Index(['ENTIDAD', 'FECHA', 'CC', 'CLAVSERV', 'CENTROPAGO', 'IMPORTE', 'MONEDA',\n",
      "       'NOMBRE', 'ESTADO', 'FLAG', 'TIPO_FONDO', 'TIPO_CARTERA', 'CONTRATO',\n",
      "       'ID_VTA'],\n",
      "      dtype='object')\n",
      "Index(['ENTIDAD', 'FECHA', 'CC', 'CLAVSERV', 'CENTROPAGO', 'IMPORTE', 'MONEDA',\n",
      "       'NOMBRE', 'ESTADO', 'FLAG', 'TIPO_FONDO', 'TIPO_CARTERA', 'CONTRATO',\n",
      "       'ID_VTA'],\n",
      "      dtype='object')\n",
      "Index(['ENTIDAD', 'FECHA', 'CC', 'CLAVSERV', 'CENTROPAGO', 'IMPORTE', 'MONEDA',\n",
      "       'NOMBRE', 'ESTADO', 'FLAG', 'TIPO_FONDO', 'TIPO_CARTERA', 'CONTRATO',\n",
      "       'ID_VTA'],\n",
      "      dtype='object')\n"
     ]
    }
   ],
   "source": [
    "df_no_mono = df_no_mono[cols_no_enviados]\n",
    "df_no_multi = df_no_multi[cols_no_enviados]\n",
    "df_base_no_flag = df_base_no_flag[cols_no_enviados]\n",
    "\n",
    "print(df_no_mono.columns)\n",
    "print(df_no_multi.columns)\n",
    "print(df_base_no_flag.columns)"
   ]
  },
  {
   "cell_type": "code",
   "execution_count": 483,
   "metadata": {},
   "outputs": [
    {
     "name": "stdout",
     "output_type": "stream",
     "text": [
      "(21, 14)\n",
      "ENTIDAD          object\n",
      "FECHA            object\n",
      "CC               object\n",
      "CLAVSERV         object\n",
      "CENTROPAGO        int64\n",
      "IMPORTE         float64\n",
      "MONEDA           object\n",
      "NOMBRE           object\n",
      "ESTADO           object\n",
      "FLAG              Int64\n",
      "TIPO_FONDO       object\n",
      "TIPO_CARTERA     object\n",
      "CONTRATO         object\n",
      "ID_VTA           object\n",
      "dtype: object\n"
     ]
    },
    {
     "data": {
      "text/html": [
       "<div>\n",
       "<style scoped>\n",
       "    .dataframe tbody tr th:only-of-type {\n",
       "        vertical-align: middle;\n",
       "    }\n",
       "\n",
       "    .dataframe tbody tr th {\n",
       "        vertical-align: top;\n",
       "    }\n",
       "\n",
       "    .dataframe thead th {\n",
       "        text-align: right;\n",
       "    }\n",
       "</style>\n",
       "<table border=\"1\" class=\"dataframe\">\n",
       "  <thead>\n",
       "    <tr style=\"text-align: right;\">\n",
       "      <th></th>\n",
       "      <th>ENTIDAD</th>\n",
       "      <th>FECHA</th>\n",
       "      <th>CC</th>\n",
       "      <th>CLAVSERV</th>\n",
       "      <th>CENTROPAGO</th>\n",
       "      <th>IMPORTE</th>\n",
       "      <th>MONEDA</th>\n",
       "      <th>NOMBRE</th>\n",
       "      <th>ESTADO</th>\n",
       "      <th>FLAG</th>\n",
       "      <th>TIPO_FONDO</th>\n",
       "      <th>TIPO_CARTERA</th>\n",
       "      <th>CONTRATO</th>\n",
       "      <th>ID_VTA</th>\n",
       "    </tr>\n",
       "  </thead>\n",
       "  <tbody>\n",
       "    <tr>\n",
       "      <th>11</th>\n",
       "      <td>0011</td>\n",
       "      <td>2024-08-23</td>\n",
       "      <td>21854138</td>\n",
       "      <td>00248</td>\n",
       "      <td>360</td>\n",
       "      <td>35000.0</td>\n",
       "      <td>PEN</td>\n",
       "      <td>ALEX YURI PEREZ PEREZ</td>\n",
       "      <td>P</td>\n",
       "      <td>1</td>\n",
       "      <td>NULL</td>\n",
       "      <td>SECURED</td>\n",
       "      <td>None</td>\n",
       "      <td>-</td>\n",
       "    </tr>\n",
       "    <tr>\n",
       "      <th>47</th>\n",
       "      <td>0011</td>\n",
       "      <td>2024-08-23</td>\n",
       "      <td>23066381</td>\n",
       "      <td>00248</td>\n",
       "      <td>178</td>\n",
       "      <td>2900.0</td>\n",
       "      <td>PEN</td>\n",
       "      <td>BRUNO ESPOSITO MARSAN DNI 25677934</td>\n",
       "      <td>P</td>\n",
       "      <td>1</td>\n",
       "      <td>NULL</td>\n",
       "      <td>SECURED</td>\n",
       "      <td>None</td>\n",
       "      <td>-</td>\n",
       "    </tr>\n",
       "    <tr>\n",
       "      <th>61</th>\n",
       "      <td>0011</td>\n",
       "      <td>2024-08-23</td>\n",
       "      <td>23080142</td>\n",
       "      <td>00248</td>\n",
       "      <td>140</td>\n",
       "      <td>2000.0</td>\n",
       "      <td>PEN</td>\n",
       "      <td>CREACIONES CARISA SAC,</td>\n",
       "      <td>P</td>\n",
       "      <td>1</td>\n",
       "      <td>REACTIVA</td>\n",
       "      <td>SECURED</td>\n",
       "      <td>None</td>\n",
       "      <td>-</td>\n",
       "    </tr>\n",
       "    <tr>\n",
       "      <th>78</th>\n",
       "      <td>0011</td>\n",
       "      <td>2024-08-23</td>\n",
       "      <td>21328758</td>\n",
       "      <td>00248</td>\n",
       "      <td>249</td>\n",
       "      <td>4000.0</td>\n",
       "      <td>PEN</td>\n",
       "      <td>DELIA JANNET ROJAS CASTILLO,</td>\n",
       "      <td>P</td>\n",
       "      <td>1</td>\n",
       "      <td>NULL</td>\n",
       "      <td>SECURED</td>\n",
       "      <td>None</td>\n",
       "      <td>-</td>\n",
       "    </tr>\n",
       "    <tr>\n",
       "      <th>90</th>\n",
       "      <td>0011</td>\n",
       "      <td>2024-08-23</td>\n",
       "      <td>22011704</td>\n",
       "      <td>00248</td>\n",
       "      <td>232</td>\n",
       "      <td>82.0</td>\n",
       "      <td>PEN</td>\n",
       "      <td>DNI 00495489</td>\n",
       "      <td>P</td>\n",
       "      <td>1</td>\n",
       "      <td>NULL</td>\n",
       "      <td>NULL</td>\n",
       "      <td>None</td>\n",
       "      <td>-</td>\n",
       "    </tr>\n",
       "  </tbody>\n",
       "</table>\n",
       "</div>"
      ],
      "text/plain": [
       "   ENTIDAD       FECHA        CC CLAVSERV  CENTROPAGO  IMPORTE MONEDA  \\\n",
       "11    0011  2024-08-23  21854138    00248         360  35000.0    PEN   \n",
       "47    0011  2024-08-23  23066381    00248         178   2900.0    PEN   \n",
       "61    0011  2024-08-23  23080142    00248         140   2000.0    PEN   \n",
       "78    0011  2024-08-23  21328758    00248         249   4000.0    PEN   \n",
       "90    0011  2024-08-23  22011704    00248         232     82.0    PEN   \n",
       "\n",
       "                                NOMBRE ESTADO  FLAG TIPO_FONDO TIPO_CARTERA  \\\n",
       "11               ALEX YURI PEREZ PEREZ      P     1       NULL      SECURED   \n",
       "47  BRUNO ESPOSITO MARSAN DNI 25677934      P     1       NULL      SECURED   \n",
       "61              CREACIONES CARISA SAC,      P     1   REACTIVA      SECURED   \n",
       "78        DELIA JANNET ROJAS CASTILLO,      P     1       NULL      SECURED   \n",
       "90                        DNI 00495489      P     1       NULL         NULL   \n",
       "\n",
       "   CONTRATO ID_VTA  \n",
       "11     None      -  \n",
       "47     None      -  \n",
       "61     None      -  \n",
       "78     None      -  \n",
       "90     None      -  "
      ]
     },
     "execution_count": 483,
     "metadata": {},
     "output_type": "execute_result"
    }
   ],
   "source": [
    "df_no_enviados = pd.concat([df_no_mono, df_no_multi, df_base_no_flag])\n",
    "df_no_enviados['CONTRATO'] = None\n",
    "print(df_no_enviados.shape)\n",
    "print(df_no_enviados.dtypes)\n",
    "df_no_enviados.head(5)"
   ]
  },
  {
   "cell_type": "code",
   "execution_count": 485,
   "metadata": {},
   "outputs": [
    {
     "name": "stdout",
     "output_type": "stream",
     "text": [
      "NO ENVIADOS OK\n"
     ]
    }
   ],
   "source": [
    "if no_eviados == df_no_enviados.shape[0]:\n",
    "    print('NO ENVIADOS OK')\n",
    "else:\n",
    "    print('NO ENVIADOS ERROR')"
   ]
  },
  {
   "cell_type": "code",
   "execution_count": 495,
   "metadata": {},
   "outputs": [],
   "source": [
    "df_no_enviados.to_excel(no_enviados_path, index=False)"
   ]
  },
  {
   "cell_type": "code",
   "execution_count": 496,
   "metadata": {},
   "outputs": [],
   "source": [
    "#################### FORMATO EXCEL ####################"
   ]
  },
  {
   "cell_type": "code",
   "execution_count": 499,
   "metadata": {},
   "outputs": [],
   "source": [
    "import openpyxl as op\n",
    "from openpyxl.styles import Font, PatternFill, Alignment\n",
    "\n",
    "def format_excel(file_path: str, validator: str) -> None:\n",
    "    workbook = op.load_workbook(file_path)\n",
    "    sheet = workbook.active\n",
    "    \n",
    "    # Definir estilos generales\n",
    "    general_font = Font(name='Calibri', size=11)\n",
    "    header_font = Font(name='Calibri', size=11, bold=True, color='FFFFFF')\n",
    "    alignment_center = Alignment(horizontal='center', vertical='center')\n",
    "    \n",
    "    # Definir estilos específicos\n",
    "    header_font_white = Font(name='Calibri', size=11, bold=True, color='000000')\n",
    "    header_fill_blue = PatternFill(start_color='002060', end_color='002060', fill_type='solid')\n",
    "    header_fill_yellow = PatternFill(start_color='FFD965', end_color='FFD965', fill_type='solid')\n",
    "    header_fill_green = PatternFill(start_color='C4D79B', end_color='C4D79B', fill_type='solid')\n",
    "    header_fill_orange = PatternFill(start_color='FABF8F', end_color='FABF8F', fill_type='solid')\n",
    "    \n",
    "    # Aplicar estilos generales a todas las celdas\n",
    "    for row in sheet.iter_rows():\n",
    "        for cell in row:\n",
    "            cell.font = general_font\n",
    "    \n",
    "    # Aplicar estilos al encabezado (fila 1)\n",
    "    for cell in sheet[1]:\n",
    "        cell.font = header_font\n",
    "        cell.alignment = alignment_center\n",
    "    \n",
    "    # Aplicar estilos específicos según el validador\n",
    "    if validator == 'mono':\n",
    "        for col in range(1, 10):  # Columnas A-I\n",
    "            sheet.cell(row=1, column=col).fill = header_fill_blue\n",
    "        for col in range(10, 14):  # Columnas J-M\n",
    "            sheet.cell(row=1, column=col).fill = header_fill_yellow\n",
    "            sheet.cell(row=1, column=col).font = header_font_white\n",
    "        for col in range(14, 16):  # Columnas N-O\n",
    "            sheet.cell(row=1, column=col).fill = header_fill_green\n",
    "            sheet.cell(row=1, column=col).font = header_font_white\n",
    "        for col in range(16, 17):  # Columna P\n",
    "            sheet.cell(row=1, column=col).fill = header_fill_orange\n",
    "            sheet.cell(row=1, column=col).font = header_font_white\n",
    "    \n",
    "    elif validator == 'multi':\n",
    "        for col in range(1, 10):  # Columnas A-I\n",
    "            sheet.cell(row=1, column=col).fill = header_fill_blue\n",
    "        for col in range(10, 12):  # Columnas J-K\n",
    "            sheet.cell(row=1, column=col).fill = header_fill_green\n",
    "            sheet.cell(row=1, column=col).font = header_font_white\n",
    "        for col in range(12, 15):  # Columnas L-N\n",
    "            sheet.cell(row=1, column=col).fill = header_fill_yellow\n",
    "            sheet.cell(row=1, column=col).font = header_font_white\n",
    "    \n",
    "    elif validator == 'react':\n",
    "        for col in range(1, 10):  # Columnas A-I\n",
    "            sheet.cell(row=1, column=col).fill = header_fill_blue\n",
    "        for col in range(10, 14):  # Columnas J-M\n",
    "            sheet.cell(row=1, column=col).fill = header_fill_yellow\n",
    "            sheet.cell(row=1, column=col).font = header_font_white\n",
    "        for col in range(14, 16):  # Columnas N-O\n",
    "            sheet.cell(row=1, column=col).fill = header_fill_green\n",
    "            sheet.cell(row=1, column=col).font = header_font_white\n",
    "        for col in range(16, 17):  # Columna P\n",
    "            sheet.cell(row=1, column=col).fill = header_fill_orange\n",
    "            sheet.cell(row=1, column=col).font = header_font_white\n",
    "    \n",
    "    elif validator == 'no_env':\n",
    "        for col in range(1, 11): # Columnas A-J\n",
    "            sheet.cell(row=1, column=col).fill = header_fill_blue\n",
    "        for col in range(11, 15): # Columnas K-N\n",
    "            sheet.cell(row=1, column=col).fill = header_fill_yellow\n",
    "            sheet.cell(row=1, column=col).font = header_font_white\n",
    "    \n",
    "    workbook.save(file_path)"
   ]
  },
  {
   "cell_type": "code",
   "execution_count": 500,
   "metadata": {},
   "outputs": [],
   "source": [
    "format_excel(mono_path, \"mono\")\n",
    "format_excel(multi_path, \"multi\")\n",
    "format_excel(react_path, \"react\")\n",
    "format_excel(no_enviados_path, \"no_env\")\n",
    "\n",
    "os.startfile(mono_path)\n",
    "os.startfile(multi_path)\n",
    "os.startfile(react_path)\n",
    "os.startfile(no_enviados_path)"
   ]
  }
 ],
 "metadata": {
  "kernelspec": {
   "display_name": "Python 3",
   "language": "python",
   "name": "python3"
  },
  "language_info": {
   "codemirror_mode": {
    "name": "ipython",
    "version": 3
   },
   "file_extension": ".py",
   "mimetype": "text/x-python",
   "name": "python",
   "nbconvert_exporter": "python",
   "pygments_lexer": "ipython3",
   "version": "3.11.5"
  }
 },
 "nbformat": 4,
 "nbformat_minor": 2
}
