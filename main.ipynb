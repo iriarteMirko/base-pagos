{
 "cells": [
  {
   "cell_type": "code",
   "execution_count": 91,
   "metadata": {},
   "outputs": [],
   "source": [
    "from datetime import datetime\n",
    "import pandas as pd\n",
    "import locale\n",
    "import warnings\n",
    "import os\n",
    "\n",
    "locale.setlocale(locale.LC_TIME, 'es_ES.UTF-8')\n",
    "warnings.filterwarnings(\"ignore\")"
   ]
  },
  {
   "cell_type": "code",
   "execution_count": 92,
   "metadata": {},
   "outputs": [
    {
     "data": {
      "text/plain": [
       "'27.08.2024'"
      ]
     },
     "execution_count": 92,
     "metadata": {},
     "output_type": "execute_result"
    }
   ],
   "source": [
    "def get_file_name() -> list[str]:\n",
    "    file_list = []\n",
    "    for file in os.listdir():\n",
    "        if file.endswith('.xlsx') and 'Base Pagos' in file:\n",
    "            file_list.append(file)\n",
    "    return file_list\n",
    "\n",
    "def get_last_date(dates_list: list[datetime]) -> datetime:\n",
    "    last_date = dates_list[0]\n",
    "    for date in dates_list:\n",
    "        if date > last_date:\n",
    "            last_date = date\n",
    "    return last_date\n",
    "\n",
    "def get_date(file_list: list[str]) -> str:\n",
    "    dates_list = []\n",
    "    for file in file_list:\n",
    "        fecha_list =  file.split(' ')[-1].split('.')[:3]\n",
    "        dates_list.append(datetime.strptime(fecha_list[0] + '.' + fecha_list[1] + '.' + fecha_list[2], '%d.%m.%Y'))\n",
    "    return get_last_date(dates_list).strftime('%d.%m.%Y')\n",
    "\n",
    "fecha = get_date(get_file_name())\n",
    "fecha"
   ]
  },
  {
   "cell_type": "code",
   "execution_count": 93,
   "metadata": {},
   "outputs": [
    {
     "name": "stdout",
     "output_type": "stream",
     "text": [
      "La carpeta ya existe: reporte\\2024.08.28\n"
     ]
    },
    {
     "data": {
      "text/plain": [
       "'reporte\\\\2024.08.28'"
      ]
     },
     "execution_count": 93,
     "metadata": {},
     "output_type": "execute_result"
    }
   ],
   "source": [
    "def validar_o_crear_carpeta() -> str:\n",
    "    fecha_hoy = datetime.today().strftime('%Y.%m.%d')\n",
    "    \n",
    "    carpeta_reporte = 'reporte'\n",
    "    \n",
    "    carpeta_hoy = os.path.join(carpeta_reporte, fecha_hoy)\n",
    "    \n",
    "    if not os.path.exists(carpeta_hoy):\n",
    "        os.makedirs(carpeta_hoy)\n",
    "        print(f'Carpeta creada: {carpeta_hoy}')\n",
    "    else:\n",
    "        print(f'La carpeta ya existe: {carpeta_hoy}')\n",
    "    \n",
    "    return carpeta_hoy\n",
    "\n",
    "file_path = validar_o_crear_carpeta()\n",
    "file_path"
   ]
  },
  {
   "cell_type": "code",
   "execution_count": 94,
   "metadata": {},
   "outputs": [
    {
     "name": "stdout",
     "output_type": "stream",
     "text": [
      "Base Pagos 27.08.2024.xlsx\n",
      "base_asignacion_20240813.xlsx\n",
      "c:\\Users\\miria\\Documents\\Mirko\\BBVA\\GitHub\\base-pagos\\reporte\\2024.08.28\\MONOPRODUCTO 27.08.2024.xlsx\n",
      "c:\\Users\\miria\\Documents\\Mirko\\BBVA\\GitHub\\base-pagos\\reporte\\2024.08.28\\MULTIPRODUCTO 27.08.2024.xlsx\n",
      "c:\\Users\\miria\\Documents\\Mirko\\BBVA\\GitHub\\base-pagos\\reporte\\2024.08.28\\REACTIVA 27.08.2024.xlsx\n",
      "c:\\Users\\miria\\Documents\\Mirko\\BBVA\\GitHub\\base-pagos\\reporte\\2024.08.28\\NO ENVIADOS 27.08.2024.xlsx\n"
     ]
    }
   ],
   "source": [
    "base_pagos_path = 'Base Pagos ' + fecha + '.xlsx'\n",
    "asignacion_path = 'base_asignacion_20240813.xlsx'\n",
    "\n",
    "print(base_pagos_path)\n",
    "print(asignacion_path)\n",
    "\n",
    "monoproducto = file_path + '/MONOPRODUCTO ' + fecha + '.xlsx'\n",
    "multiproducto = file_path + '/MULTIPRODUCTO ' + fecha + '.xlsx'\n",
    "reactiva = file_path + '/REACTIVA ' + fecha + '.xlsx'\n",
    "no_enviados = file_path + '/NO ENVIADOS ' + fecha + '.xlsx'\n",
    "\n",
    "mono_path = os.path.abspath(monoproducto)\n",
    "multi_path = os.path.abspath(multiproducto)\n",
    "react_path = os.path.abspath(reactiva)\n",
    "no_enviados_path = os.path.abspath(no_enviados)\n",
    "\n",
    "print(mono_path)\n",
    "print(multi_path)\n",
    "print(react_path)\n",
    "print(no_enviados_path)"
   ]
  },
  {
   "cell_type": "code",
   "execution_count": 95,
   "metadata": {},
   "outputs": [],
   "source": [
    "#################### BASE DE PAGOS ####################"
   ]
  },
  {
   "cell_type": "code",
   "execution_count": 96,
   "metadata": {},
   "outputs": [
    {
     "name": "stdout",
     "output_type": "stream",
     "text": [
      "(435, 9)\n",
      "Entidad         int64\n",
      "FECHA          object\n",
      "CODCEN          int64\n",
      "CLAVSERV        int64\n",
      "CENTROPAGO      int64\n",
      "IMPORTE       float64\n",
      "MONEDA         object\n",
      "NOMBRE         object\n",
      "ESTADO         object\n",
      "dtype: object\n"
     ]
    },
    {
     "data": {
      "text/html": [
       "<div>\n",
       "<style scoped>\n",
       "    .dataframe tbody tr th:only-of-type {\n",
       "        vertical-align: middle;\n",
       "    }\n",
       "\n",
       "    .dataframe tbody tr th {\n",
       "        vertical-align: top;\n",
       "    }\n",
       "\n",
       "    .dataframe thead th {\n",
       "        text-align: right;\n",
       "    }\n",
       "</style>\n",
       "<table border=\"1\" class=\"dataframe\">\n",
       "  <thead>\n",
       "    <tr style=\"text-align: right;\">\n",
       "      <th></th>\n",
       "      <th>Entidad</th>\n",
       "      <th>FECHA</th>\n",
       "      <th>CODCEN</th>\n",
       "      <th>CLAVSERV</th>\n",
       "      <th>CENTROPAGO</th>\n",
       "      <th>IMPORTE</th>\n",
       "      <th>MONEDA</th>\n",
       "      <th>NOMBRE</th>\n",
       "      <th>ESTADO</th>\n",
       "    </tr>\n",
       "  </thead>\n",
       "  <tbody>\n",
       "    <tr>\n",
       "      <th>0</th>\n",
       "      <td>11</td>\n",
       "      <td>2024-08-27</td>\n",
       "      <td>23307614</td>\n",
       "      <td>248</td>\n",
       "      <td>849</td>\n",
       "      <td>500.0</td>\n",
       "      <td>PEN</td>\n",
       "      <td>-VICTOR RAUL VELASQUEZ CENTENO</td>\n",
       "      <td>P</td>\n",
       "    </tr>\n",
       "    <tr>\n",
       "      <th>1</th>\n",
       "      <td>11</td>\n",
       "      <td>2024-08-27</td>\n",
       "      <td>28256566</td>\n",
       "      <td>248</td>\n",
       "      <td>843</td>\n",
       "      <td>2000.0</td>\n",
       "      <td>PEN</td>\n",
       "      <td>-MARLON ERNESTO ZAVALA ALVAREZ.</td>\n",
       "      <td>P</td>\n",
       "    </tr>\n",
       "    <tr>\n",
       "      <th>2</th>\n",
       "      <td>11</td>\n",
       "      <td>2024-08-27</td>\n",
       "      <td>29572732</td>\n",
       "      <td>248</td>\n",
       "      <td>14</td>\n",
       "      <td>900.0</td>\n",
       "      <td>PEN</td>\n",
       "      <td>ABEL QUISPE SULLCA</td>\n",
       "      <td>P</td>\n",
       "    </tr>\n",
       "    <tr>\n",
       "      <th>3</th>\n",
       "      <td>11</td>\n",
       "      <td>2024-08-27</td>\n",
       "      <td>27204708</td>\n",
       "      <td>248</td>\n",
       "      <td>195</td>\n",
       "      <td>186.0</td>\n",
       "      <td>PEN</td>\n",
       "      <td>ABRAHAM ALBERTO SEMINARIO SAN MARTIN</td>\n",
       "      <td>P</td>\n",
       "    </tr>\n",
       "    <tr>\n",
       "      <th>4</th>\n",
       "      <td>11</td>\n",
       "      <td>2024-08-27</td>\n",
       "      <td>27204708</td>\n",
       "      <td>248</td>\n",
       "      <td>195</td>\n",
       "      <td>1178.0</td>\n",
       "      <td>PEN</td>\n",
       "      <td>ABRAHAM ALBERTO SEMINARIO SAN MARTIN.</td>\n",
       "      <td>P</td>\n",
       "    </tr>\n",
       "  </tbody>\n",
       "</table>\n",
       "</div>"
      ],
      "text/plain": [
       "   Entidad       FECHA    CODCEN  CLAVSERV  CENTROPAGO  IMPORTE MONEDA  \\\n",
       "0       11  2024-08-27  23307614       248         849    500.0    PEN   \n",
       "1       11  2024-08-27  28256566       248         843   2000.0    PEN   \n",
       "2       11  2024-08-27  29572732       248          14    900.0    PEN   \n",
       "3       11  2024-08-27  27204708       248         195    186.0    PEN   \n",
       "4       11  2024-08-27  27204708       248         195   1178.0    PEN   \n",
       "\n",
       "                                  NOMBRE ESTADO  \n",
       "0         -VICTOR RAUL VELASQUEZ CENTENO      P  \n",
       "1        -MARLON ERNESTO ZAVALA ALVAREZ.      P  \n",
       "2                     ABEL QUISPE SULLCA      P  \n",
       "3   ABRAHAM ALBERTO SEMINARIO SAN MARTIN      P  \n",
       "4  ABRAHAM ALBERTO SEMINARIO SAN MARTIN.      P  "
      ]
     },
     "execution_count": 96,
     "metadata": {},
     "output_type": "execute_result"
    }
   ],
   "source": [
    "df_base = pd.read_excel(base_pagos_path)\n",
    "print(df_base.shape)\n",
    "print(df_base.dtypes)\n",
    "df_base.head(5)"
   ]
  },
  {
   "cell_type": "code",
   "execution_count": 97,
   "metadata": {},
   "outputs": [
    {
     "name": "stdout",
     "output_type": "stream",
     "text": [
      "(435, 11)\n",
      "Entidad             int64\n",
      "FECHA              object\n",
      "CC                 object\n",
      "CLAVSERV           object\n",
      "CENTROPAGO          int64\n",
      "IMPORTE           float64\n",
      "MONEDA             object\n",
      "NOMBRE             object\n",
      "ESTADO             object\n",
      "FECHA_ENVIO        object\n",
      "ID_RESPONSABLE     object\n",
      "dtype: object\n"
     ]
    },
    {
     "data": {
      "text/html": [
       "<div>\n",
       "<style scoped>\n",
       "    .dataframe tbody tr th:only-of-type {\n",
       "        vertical-align: middle;\n",
       "    }\n",
       "\n",
       "    .dataframe tbody tr th {\n",
       "        vertical-align: top;\n",
       "    }\n",
       "\n",
       "    .dataframe thead th {\n",
       "        text-align: right;\n",
       "    }\n",
       "</style>\n",
       "<table border=\"1\" class=\"dataframe\">\n",
       "  <thead>\n",
       "    <tr style=\"text-align: right;\">\n",
       "      <th></th>\n",
       "      <th>Entidad</th>\n",
       "      <th>FECHA</th>\n",
       "      <th>CC</th>\n",
       "      <th>CLAVSERV</th>\n",
       "      <th>CENTROPAGO</th>\n",
       "      <th>IMPORTE</th>\n",
       "      <th>MONEDA</th>\n",
       "      <th>NOMBRE</th>\n",
       "      <th>ESTADO</th>\n",
       "      <th>FECHA_ENVIO</th>\n",
       "      <th>ID_RESPONSABLE</th>\n",
       "    </tr>\n",
       "  </thead>\n",
       "  <tbody>\n",
       "    <tr>\n",
       "      <th>0</th>\n",
       "      <td>11</td>\n",
       "      <td>2024-08-27</td>\n",
       "      <td>23307614</td>\n",
       "      <td>00248</td>\n",
       "      <td>849</td>\n",
       "      <td>500.0</td>\n",
       "      <td>PEN</td>\n",
       "      <td>-VICTOR RAUL VELASQUEZ CENTENO</td>\n",
       "      <td>P</td>\n",
       "      <td>28-Ago</td>\n",
       "      <td>MIV</td>\n",
       "    </tr>\n",
       "    <tr>\n",
       "      <th>1</th>\n",
       "      <td>11</td>\n",
       "      <td>2024-08-27</td>\n",
       "      <td>28256566</td>\n",
       "      <td>00248</td>\n",
       "      <td>843</td>\n",
       "      <td>2000.0</td>\n",
       "      <td>PEN</td>\n",
       "      <td>-MARLON ERNESTO ZAVALA ALVAREZ.</td>\n",
       "      <td>P</td>\n",
       "      <td>28-Ago</td>\n",
       "      <td>MIV</td>\n",
       "    </tr>\n",
       "    <tr>\n",
       "      <th>2</th>\n",
       "      <td>11</td>\n",
       "      <td>2024-08-27</td>\n",
       "      <td>29572732</td>\n",
       "      <td>00248</td>\n",
       "      <td>14</td>\n",
       "      <td>900.0</td>\n",
       "      <td>PEN</td>\n",
       "      <td>ABEL QUISPE SULLCA</td>\n",
       "      <td>P</td>\n",
       "      <td>28-Ago</td>\n",
       "      <td>MIV</td>\n",
       "    </tr>\n",
       "    <tr>\n",
       "      <th>3</th>\n",
       "      <td>11</td>\n",
       "      <td>2024-08-27</td>\n",
       "      <td>27204708</td>\n",
       "      <td>00248</td>\n",
       "      <td>195</td>\n",
       "      <td>186.0</td>\n",
       "      <td>PEN</td>\n",
       "      <td>ABRAHAM ALBERTO SEMINARIO SAN MARTIN</td>\n",
       "      <td>P</td>\n",
       "      <td>28-Ago</td>\n",
       "      <td>MIV</td>\n",
       "    </tr>\n",
       "    <tr>\n",
       "      <th>4</th>\n",
       "      <td>11</td>\n",
       "      <td>2024-08-27</td>\n",
       "      <td>27204708</td>\n",
       "      <td>00248</td>\n",
       "      <td>195</td>\n",
       "      <td>1178.0</td>\n",
       "      <td>PEN</td>\n",
       "      <td>ABRAHAM ALBERTO SEMINARIO SAN MARTIN.</td>\n",
       "      <td>P</td>\n",
       "      <td>28-Ago</td>\n",
       "      <td>MIV</td>\n",
       "    </tr>\n",
       "  </tbody>\n",
       "</table>\n",
       "</div>"
      ],
      "text/plain": [
       "   Entidad       FECHA        CC CLAVSERV  CENTROPAGO  IMPORTE MONEDA  \\\n",
       "0       11  2024-08-27  23307614    00248         849    500.0    PEN   \n",
       "1       11  2024-08-27  28256566    00248         843   2000.0    PEN   \n",
       "2       11  2024-08-27  29572732    00248          14    900.0    PEN   \n",
       "3       11  2024-08-27  27204708    00248         195    186.0    PEN   \n",
       "4       11  2024-08-27  27204708    00248         195   1178.0    PEN   \n",
       "\n",
       "                                  NOMBRE ESTADO FECHA_ENVIO ID_RESPONSABLE  \n",
       "0         -VICTOR RAUL VELASQUEZ CENTENO      P      28-Ago            MIV  \n",
       "1        -MARLON ERNESTO ZAVALA ALVAREZ.      P      28-Ago            MIV  \n",
       "2                     ABEL QUISPE SULLCA      P      28-Ago            MIV  \n",
       "3   ABRAHAM ALBERTO SEMINARIO SAN MARTIN      P      28-Ago            MIV  \n",
       "4  ABRAHAM ALBERTO SEMINARIO SAN MARTIN.      P      28-Ago            MIV  "
      ]
     },
     "execution_count": 97,
     "metadata": {},
     "output_type": "execute_result"
    }
   ],
   "source": [
    "fecha_formateada = pd.to_datetime('today').strftime('%d-%b')\n",
    "fecha_formateada = fecha_formateada[:3] + fecha_formateada[3:].capitalize()\n",
    "\n",
    "df_base['FECHA_ENVIO'] = fecha_formateada.replace('.', '')\n",
    "df_base['ID_RESPONSABLE'] = 'MIV'\n",
    "\n",
    "cols_base = ['Entidad', 'FECHA', 'CODCEN', 'CLAVSERV', 'CENTROPAGO', 'IMPORTE', 'MONEDA', 'NOMBRE', 'ESTADO', 'FECHA_ENVIO', 'ID_RESPONSABLE']\n",
    "df_base = df_base[cols_base]\n",
    "df_base = df_base.rename(columns={'CODCEN': 'CC'})\n",
    "\n",
    "df_base['CC'] = df_base['CC'].astype('Int64').astype(str).str.zfill(8)\n",
    "df_base['CC'] = df_base['CC'].str.replace(' ', '').str.replace(r'\\D', '', regex=True).str[-8:]\n",
    "df_base['CC'] = df_base['CC'].str.zfill(8)\n",
    "\n",
    "df_base['CLAVSERV'] = df_base['CLAVSERV'].astype(str).str.zfill(5)\n",
    "\n",
    "print(df_base.shape)\n",
    "print(df_base.dtypes)\n",
    "df_base.head(5)"
   ]
  },
  {
   "cell_type": "code",
   "execution_count": 98,
   "metadata": {},
   "outputs": [
    {
     "data": {
      "text/plain": [
       "Entidad           0\n",
       "FECHA             0\n",
       "CC                0\n",
       "CLAVSERV          0\n",
       "CENTROPAGO        0\n",
       "IMPORTE           0\n",
       "MONEDA            0\n",
       "NOMBRE            0\n",
       "ESTADO            0\n",
       "FECHA_ENVIO       0\n",
       "ID_RESPONSABLE    0\n",
       "dtype: int64"
      ]
     },
     "execution_count": 98,
     "metadata": {},
     "output_type": "execute_result"
    }
   ],
   "source": [
    "df_base.isnull().sum()"
   ]
  },
  {
   "cell_type": "code",
   "execution_count": 99,
   "metadata": {},
   "outputs": [],
   "source": [
    "#################### ASIGNACION ####################"
   ]
  },
  {
   "cell_type": "code",
   "execution_count": 100,
   "metadata": {},
   "outputs": [
    {
     "name": "stdout",
     "output_type": "stream",
     "text": [
      "(242511, 40)\n",
      "codigo                        int64\n",
      "contrato                      int64\n",
      "cont_18                       int64\n",
      "nombre                       object\n",
      "clave                        object\n",
      "producto                     object\n",
      "DiasVenc                      int64\n",
      "moneda                       object\n",
      "capital                     float64\n",
      "liqtotal                    float64\n",
      "agencia                      object\n",
      "Camp                        float64\n",
      "Gestor                       object\n",
      "numdoc                       object\n",
      "oficina                      object\n",
      "territorio                   object\n",
      "Tramo                        object\n",
      "codoficina                    int64\n",
      "CAPITAL_SOLES               float64\n",
      "IMP_CAMPAÑA                 float64\n",
      "TIPO_FONDO                   object\n",
      "FLAG_HONRADO                  int64\n",
      "TIPO_CARTERA                 object\n",
      "DESC_TRAMO                   object\n",
      "Hibrido                      object\n",
      "ESTUDIO ABOGADO              object\n",
      "FECHA_MORA                   object\n",
      "ID_CASTIGO                   object\n",
      "ID_VTA.                      object\n",
      "ID_GARANT                    object\n",
      "ID_CONDONACION MORA_TEMP     object\n",
      "ID_FRACCIONADO               object\n",
      "ID_KOBSA_P.CANCELACION       object\n",
      "ID_REPORTE_CANC              object\n",
      "ID_CARTERA                   object\n",
      "ID_FLAG                       int64\n",
      "OBSERVACION                  object\n",
      "AGENCIA CORRECTA             object\n",
      "PAG LEGAL                    object\n",
      "PAG. INTER                   object\n",
      "dtype: object\n"
     ]
    },
    {
     "data": {
      "text/html": [
       "<div>\n",
       "<style scoped>\n",
       "    .dataframe tbody tr th:only-of-type {\n",
       "        vertical-align: middle;\n",
       "    }\n",
       "\n",
       "    .dataframe tbody tr th {\n",
       "        vertical-align: top;\n",
       "    }\n",
       "\n",
       "    .dataframe thead th {\n",
       "        text-align: right;\n",
       "    }\n",
       "</style>\n",
       "<table border=\"1\" class=\"dataframe\">\n",
       "  <thead>\n",
       "    <tr style=\"text-align: right;\">\n",
       "      <th></th>\n",
       "      <th>codigo</th>\n",
       "      <th>contrato</th>\n",
       "      <th>cont_18</th>\n",
       "      <th>nombre</th>\n",
       "      <th>clave</th>\n",
       "      <th>producto</th>\n",
       "      <th>DiasVenc</th>\n",
       "      <th>moneda</th>\n",
       "      <th>capital</th>\n",
       "      <th>liqtotal</th>\n",
       "      <th>...</th>\n",
       "      <th>ID_CONDONACION MORA_TEMP</th>\n",
       "      <th>ID_FRACCIONADO</th>\n",
       "      <th>ID_KOBSA_P.CANCELACION</th>\n",
       "      <th>ID_REPORTE_CANC</th>\n",
       "      <th>ID_CARTERA</th>\n",
       "      <th>ID_FLAG</th>\n",
       "      <th>OBSERVACION</th>\n",
       "      <th>AGENCIA CORRECTA</th>\n",
       "      <th>PAG LEGAL</th>\n",
       "      <th>PAG. INTER</th>\n",
       "    </tr>\n",
       "  </thead>\n",
       "  <tbody>\n",
       "    <tr>\n",
       "      <th>0</th>\n",
       "      <td>30739481</td>\n",
       "      <td>110010629600055161</td>\n",
       "      <td>1100109600055161</td>\n",
       "      <td>DINA CHOQUE FERNANDEZ</td>\n",
       "      <td>BC</td>\n",
       "      <td>PRÉSTAMOS PYMES</td>\n",
       "      <td>257</td>\n",
       "      <td>PEN</td>\n",
       "      <td>76663.97</td>\n",
       "      <td>108418.69</td>\n",
       "      <td>...</td>\n",
       "      <td>-</td>\n",
       "      <td>-</td>\n",
       "      <td>-</td>\n",
       "      <td>-</td>\n",
       "      <td>STOCK</td>\n",
       "      <td>2</td>\n",
       "      <td>PAGO LEGAL AGOSTO // SE CORRIGIO</td>\n",
       "      <td>MORNESE MORA</td>\n",
       "      <td>1</td>\n",
       "      <td>-</td>\n",
       "    </tr>\n",
       "    <tr>\n",
       "      <th>1</th>\n",
       "      <td>30739481</td>\n",
       "      <td>110010619600057679</td>\n",
       "      <td>1100109600057679</td>\n",
       "      <td>DINA CHOQUE FERNANDEZ</td>\n",
       "      <td>BC</td>\n",
       "      <td>PRÉSTAMOS PYMES</td>\n",
       "      <td>268</td>\n",
       "      <td>PEN</td>\n",
       "      <td>177075.30</td>\n",
       "      <td>256680.65</td>\n",
       "      <td>...</td>\n",
       "      <td>-</td>\n",
       "      <td>-</td>\n",
       "      <td>-</td>\n",
       "      <td>-</td>\n",
       "      <td>STOCK</td>\n",
       "      <td>2</td>\n",
       "      <td>PAGO LEGAL AGOSTO // SE CORRIGIO</td>\n",
       "      <td>MORNESE MORA</td>\n",
       "      <td>1</td>\n",
       "      <td>-</td>\n",
       "    </tr>\n",
       "    <tr>\n",
       "      <th>2</th>\n",
       "      <td>21874900</td>\n",
       "      <td>110050295000360222</td>\n",
       "      <td>1100505000360222</td>\n",
       "      <td>JULIA ANGELICA SOTO COTRINA</td>\n",
       "      <td>BC</td>\n",
       "      <td>TARJETAS PYMES</td>\n",
       "      <td>307</td>\n",
       "      <td>PEN</td>\n",
       "      <td>23986.04</td>\n",
       "      <td>36966.81</td>\n",
       "      <td>...</td>\n",
       "      <td>-</td>\n",
       "      <td>-</td>\n",
       "      <td>-</td>\n",
       "      <td>-</td>\n",
       "      <td>STOCK</td>\n",
       "      <td>4</td>\n",
       "      <td>PAGO INTERBANCARIO // SE CORRIGIO</td>\n",
       "      <td>ASESCOM RJ</td>\n",
       "      <td>-</td>\n",
       "      <td>1</td>\n",
       "    </tr>\n",
       "    <tr>\n",
       "      <th>3</th>\n",
       "      <td>30293392</td>\n",
       "      <td>110130235002987960</td>\n",
       "      <td>1101305002987960</td>\n",
       "      <td>INNOVA FASHION GROUPSAC</td>\n",
       "      <td>BC</td>\n",
       "      <td>TARJETAS PYMES</td>\n",
       "      <td>215</td>\n",
       "      <td>PEN</td>\n",
       "      <td>142100.58</td>\n",
       "      <td>200698.07</td>\n",
       "      <td>...</td>\n",
       "      <td>-</td>\n",
       "      <td>-</td>\n",
       "      <td>-</td>\n",
       "      <td>-</td>\n",
       "      <td>STOCK</td>\n",
       "      <td>1</td>\n",
       "      <td>PAGO INTERBANCARIO // SE CORRIGIO</td>\n",
       "      <td>CLASA MORA</td>\n",
       "      <td>-</td>\n",
       "      <td>1</td>\n",
       "    </tr>\n",
       "    <tr>\n",
       "      <th>4</th>\n",
       "      <td>20687681</td>\n",
       "      <td>110174079600365104</td>\n",
       "      <td>1101749600365104</td>\n",
       "      <td>ELIZABETH HAYDEE CORDOVA AMAYA</td>\n",
       "      <td>BC</td>\n",
       "      <td>PRÉSTAMOS PYMES</td>\n",
       "      <td>356</td>\n",
       "      <td>PEN</td>\n",
       "      <td>200151.61</td>\n",
       "      <td>309435.56</td>\n",
       "      <td>...</td>\n",
       "      <td>-</td>\n",
       "      <td>1</td>\n",
       "      <td>-</td>\n",
       "      <td>-</td>\n",
       "      <td>STOCK</td>\n",
       "      <td>1</td>\n",
       "      <td>MARCA FRACCIONADO RETORNAR AGENCIA // SE CORRIGIO</td>\n",
       "      <td>RodriguezAngobaldo</td>\n",
       "      <td>-</td>\n",
       "      <td>-</td>\n",
       "    </tr>\n",
       "  </tbody>\n",
       "</table>\n",
       "<p>5 rows × 40 columns</p>\n",
       "</div>"
      ],
      "text/plain": [
       "     codigo            contrato           cont_18  \\\n",
       "0  30739481  110010629600055161  1100109600055161   \n",
       "1  30739481  110010619600057679  1100109600057679   \n",
       "2  21874900  110050295000360222  1100505000360222   \n",
       "3  30293392  110130235002987960  1101305002987960   \n",
       "4  20687681  110174079600365104  1101749600365104   \n",
       "\n",
       "                           nombre clave         producto  DiasVenc moneda  \\\n",
       "0           DINA CHOQUE FERNANDEZ    BC  PRÉSTAMOS PYMES       257    PEN   \n",
       "1           DINA CHOQUE FERNANDEZ    BC  PRÉSTAMOS PYMES       268    PEN   \n",
       "2     JULIA ANGELICA SOTO COTRINA    BC   TARJETAS PYMES       307    PEN   \n",
       "3         INNOVA FASHION GROUPSAC    BC   TARJETAS PYMES       215    PEN   \n",
       "4  ELIZABETH HAYDEE CORDOVA AMAYA    BC  PRÉSTAMOS PYMES       356    PEN   \n",
       "\n",
       "     capital   liqtotal  ... ID_CONDONACION MORA_TEMP  ID_FRACCIONADO  \\\n",
       "0   76663.97  108418.69  ...                        -               -   \n",
       "1  177075.30  256680.65  ...                        -               -   \n",
       "2   23986.04   36966.81  ...                        -               -   \n",
       "3  142100.58  200698.07  ...                        -               -   \n",
       "4  200151.61  309435.56  ...                        -               1   \n",
       "\n",
       "  ID_KOBSA_P.CANCELACION ID_REPORTE_CANC ID_CARTERA ID_FLAG  \\\n",
       "0                      -               -      STOCK       2   \n",
       "1                      -               -      STOCK       2   \n",
       "2                      -               -      STOCK       4   \n",
       "3                      -               -      STOCK       1   \n",
       "4                      -               -      STOCK       1   \n",
       "\n",
       "                                         OBSERVACION    AGENCIA CORRECTA  \\\n",
       "0                   PAGO LEGAL AGOSTO // SE CORRIGIO        MORNESE MORA   \n",
       "1                   PAGO LEGAL AGOSTO // SE CORRIGIO        MORNESE MORA   \n",
       "2                  PAGO INTERBANCARIO // SE CORRIGIO          ASESCOM RJ   \n",
       "3                  PAGO INTERBANCARIO // SE CORRIGIO          CLASA MORA   \n",
       "4  MARCA FRACCIONADO RETORNAR AGENCIA // SE CORRIGIO  RodriguezAngobaldo   \n",
       "\n",
       "   PAG LEGAL  PAG. INTER  \n",
       "0          1           -  \n",
       "1          1           -  \n",
       "2          -           1  \n",
       "3          -           1  \n",
       "4          -           -  \n",
       "\n",
       "[5 rows x 40 columns]"
      ]
     },
     "execution_count": 100,
     "metadata": {},
     "output_type": "execute_result"
    }
   ],
   "source": [
    "if not os.path.exists('temp_asignacion_'+ fecha +'.txt'):\n",
    "    df_asignacion = pd.read_excel(asignacion_path)\n",
    "    with open('temp_asignacion_'+ fecha +'.txt', 'w') as file:\n",
    "        file.close()\n",
    "\n",
    "print(df_asignacion.shape)\n",
    "print(df_asignacion.dtypes)\n",
    "df_asignacion.head(5)"
   ]
  },
  {
   "cell_type": "code",
   "execution_count": 101,
   "metadata": {},
   "outputs": [],
   "source": [
    "#################### BACKUPS ####################"
   ]
  },
  {
   "cell_type": "code",
   "execution_count": 102,
   "metadata": {},
   "outputs": [
    {
     "name": "stdout",
     "output_type": "stream",
     "text": [
      "Base (435, 11)\n",
      "Asignacion (242511, 40)\n"
     ]
    }
   ],
   "source": [
    "df_base_test = df_base.copy()\n",
    "print('Base', df_base_test.shape)\n",
    "\n",
    "df_asignacion_test = df_asignacion.copy()\n",
    "print('Asignacion', df_asignacion_test.shape)"
   ]
  },
  {
   "cell_type": "code",
   "execution_count": 103,
   "metadata": {},
   "outputs": [
    {
     "data": {
      "text/plain": [
       "435"
      ]
     },
     "execution_count": 103,
     "metadata": {},
     "output_type": "execute_result"
    }
   ],
   "source": [
    "base_count = df_base_test.shape[0]\n",
    "base_count"
   ]
  },
  {
   "cell_type": "code",
   "execution_count": 104,
   "metadata": {},
   "outputs": [
    {
     "name": "stdout",
     "output_type": "stream",
     "text": [
      "(435, 19)\n",
      "ENTIDAD            object\n",
      "FECHA              object\n",
      "CC                 object\n",
      "CLAVSERV           object\n",
      "CENTROPAGO          int64\n",
      "IMPORTE           float64\n",
      "MONEDA             object\n",
      "NOMBRE             object\n",
      "ESTADO             object\n",
      "FLAG                Int64\n",
      "CONTRATO           object\n",
      "NOMBRE_CLIENTE     object\n",
      "FECHA_ENVIO        object\n",
      "ID_RESPONSABLE     object\n",
      "TIPO_CARTERA       object\n",
      "TIPO_FONDO         object\n",
      "CARTERA            object\n",
      "AGENCIA            object\n",
      "ID_VTA             object\n",
      "dtype: object\n"
     ]
    },
    {
     "data": {
      "text/html": [
       "<div>\n",
       "<style scoped>\n",
       "    .dataframe tbody tr th:only-of-type {\n",
       "        vertical-align: middle;\n",
       "    }\n",
       "\n",
       "    .dataframe tbody tr th {\n",
       "        vertical-align: top;\n",
       "    }\n",
       "\n",
       "    .dataframe thead th {\n",
       "        text-align: right;\n",
       "    }\n",
       "</style>\n",
       "<table border=\"1\" class=\"dataframe\">\n",
       "  <thead>\n",
       "    <tr style=\"text-align: right;\">\n",
       "      <th></th>\n",
       "      <th>ENTIDAD</th>\n",
       "      <th>FECHA</th>\n",
       "      <th>CC</th>\n",
       "      <th>CLAVSERV</th>\n",
       "      <th>CENTROPAGO</th>\n",
       "      <th>IMPORTE</th>\n",
       "      <th>MONEDA</th>\n",
       "      <th>NOMBRE</th>\n",
       "      <th>ESTADO</th>\n",
       "      <th>FLAG</th>\n",
       "      <th>CONTRATO</th>\n",
       "      <th>NOMBRE_CLIENTE</th>\n",
       "      <th>FECHA_ENVIO</th>\n",
       "      <th>ID_RESPONSABLE</th>\n",
       "      <th>TIPO_CARTERA</th>\n",
       "      <th>TIPO_FONDO</th>\n",
       "      <th>CARTERA</th>\n",
       "      <th>AGENCIA</th>\n",
       "      <th>ID_VTA</th>\n",
       "    </tr>\n",
       "  </thead>\n",
       "  <tbody>\n",
       "    <tr>\n",
       "      <th>0</th>\n",
       "      <td>0011</td>\n",
       "      <td>2024-08-27</td>\n",
       "      <td>23307614</td>\n",
       "      <td>00248</td>\n",
       "      <td>849</td>\n",
       "      <td>500.0</td>\n",
       "      <td>PEN</td>\n",
       "      <td>-VICTOR RAUL VELASQUEZ CENTENO</td>\n",
       "      <td>P</td>\n",
       "      <td>1</td>\n",
       "      <td>001101379600154101</td>\n",
       "      <td>VICTOR RAUL VELASQUEZ CENTENO</td>\n",
       "      <td>28-Ago</td>\n",
       "      <td>MIV</td>\n",
       "      <td>NULL</td>\n",
       "      <td>NULL</td>\n",
       "      <td>CDT</td>\n",
       "      <td>SIN AGENCIA</td>\n",
       "      <td>-</td>\n",
       "    </tr>\n",
       "    <tr>\n",
       "      <th>1</th>\n",
       "      <td>0011</td>\n",
       "      <td>2024-08-27</td>\n",
       "      <td>28256566</td>\n",
       "      <td>00248</td>\n",
       "      <td>843</td>\n",
       "      <td>2000.0</td>\n",
       "      <td>PEN</td>\n",
       "      <td>-MARLON ERNESTO ZAVALA ALVAREZ.</td>\n",
       "      <td>P</td>\n",
       "      <td>1</td>\n",
       "      <td>001109005000817850</td>\n",
       "      <td>MARLON ERNESTO ZAVALA ALVAREZ</td>\n",
       "      <td>28-Ago</td>\n",
       "      <td>MIV</td>\n",
       "      <td>UNSECURED</td>\n",
       "      <td>NULL</td>\n",
       "      <td>EXJ</td>\n",
       "      <td>MORNESE MORA</td>\n",
       "      <td>-</td>\n",
       "    </tr>\n",
       "    <tr>\n",
       "      <th>2</th>\n",
       "      <td>0011</td>\n",
       "      <td>2024-08-27</td>\n",
       "      <td>29572732</td>\n",
       "      <td>00248</td>\n",
       "      <td>14</td>\n",
       "      <td>900.0</td>\n",
       "      <td>PEN</td>\n",
       "      <td>ABEL QUISPE SULLCA</td>\n",
       "      <td>P</td>\n",
       "      <td>1</td>\n",
       "      <td>001100145000366666</td>\n",
       "      <td>ABEL QUISPE SULLCA</td>\n",
       "      <td>28-Ago</td>\n",
       "      <td>MIV</td>\n",
       "      <td>UNSECURED</td>\n",
       "      <td>NULL</td>\n",
       "      <td>EXJ</td>\n",
       "      <td>MORNESE MORA</td>\n",
       "      <td>-</td>\n",
       "    </tr>\n",
       "    <tr>\n",
       "      <th>3</th>\n",
       "      <td>0011</td>\n",
       "      <td>2024-08-27</td>\n",
       "      <td>27204708</td>\n",
       "      <td>00248</td>\n",
       "      <td>195</td>\n",
       "      <td>186.0</td>\n",
       "      <td>PEN</td>\n",
       "      <td>ABRAHAM ALBERTO SEMINARIO SAN MARTIN</td>\n",
       "      <td>P</td>\n",
       "      <td>2</td>\n",
       "      <td>001101955001801884</td>\n",
       "      <td>ABRAHAM ALBERTO SEMINARIO SAN MARTIN</td>\n",
       "      <td>28-Ago</td>\n",
       "      <td>MIV</td>\n",
       "      <td>UNSECURED</td>\n",
       "      <td>NULL</td>\n",
       "      <td>KSTBC</td>\n",
       "      <td>MORNESE MORA</td>\n",
       "      <td>-</td>\n",
       "    </tr>\n",
       "    <tr>\n",
       "      <th>5</th>\n",
       "      <td>0011</td>\n",
       "      <td>2024-08-27</td>\n",
       "      <td>27204708</td>\n",
       "      <td>00248</td>\n",
       "      <td>195</td>\n",
       "      <td>1178.0</td>\n",
       "      <td>PEN</td>\n",
       "      <td>ABRAHAM ALBERTO SEMINARIO SAN MARTIN.</td>\n",
       "      <td>P</td>\n",
       "      <td>2</td>\n",
       "      <td>001101955001801884</td>\n",
       "      <td>ABRAHAM ALBERTO SEMINARIO SAN MARTIN</td>\n",
       "      <td>28-Ago</td>\n",
       "      <td>MIV</td>\n",
       "      <td>UNSECURED</td>\n",
       "      <td>NULL</td>\n",
       "      <td>KSTBC</td>\n",
       "      <td>MORNESE MORA</td>\n",
       "      <td>-</td>\n",
       "    </tr>\n",
       "  </tbody>\n",
       "</table>\n",
       "</div>"
      ],
      "text/plain": [
       "  ENTIDAD       FECHA        CC CLAVSERV  CENTROPAGO  IMPORTE MONEDA  \\\n",
       "0    0011  2024-08-27  23307614    00248         849    500.0    PEN   \n",
       "1    0011  2024-08-27  28256566    00248         843   2000.0    PEN   \n",
       "2    0011  2024-08-27  29572732    00248          14    900.0    PEN   \n",
       "3    0011  2024-08-27  27204708    00248         195    186.0    PEN   \n",
       "5    0011  2024-08-27  27204708    00248         195   1178.0    PEN   \n",
       "\n",
       "                                  NOMBRE ESTADO  FLAG            CONTRATO  \\\n",
       "0         -VICTOR RAUL VELASQUEZ CENTENO      P     1  001101379600154101   \n",
       "1        -MARLON ERNESTO ZAVALA ALVAREZ.      P     1  001109005000817850   \n",
       "2                     ABEL QUISPE SULLCA      P     1  001100145000366666   \n",
       "3   ABRAHAM ALBERTO SEMINARIO SAN MARTIN      P     2  001101955001801884   \n",
       "5  ABRAHAM ALBERTO SEMINARIO SAN MARTIN.      P     2  001101955001801884   \n",
       "\n",
       "                         NOMBRE_CLIENTE FECHA_ENVIO ID_RESPONSABLE  \\\n",
       "0         VICTOR RAUL VELASQUEZ CENTENO      28-Ago            MIV   \n",
       "1         MARLON ERNESTO ZAVALA ALVAREZ      28-Ago            MIV   \n",
       "2                    ABEL QUISPE SULLCA      28-Ago            MIV   \n",
       "3  ABRAHAM ALBERTO SEMINARIO SAN MARTIN      28-Ago            MIV   \n",
       "5  ABRAHAM ALBERTO SEMINARIO SAN MARTIN      28-Ago            MIV   \n",
       "\n",
       "  TIPO_CARTERA TIPO_FONDO CARTERA       AGENCIA ID_VTA  \n",
       "0         NULL       NULL     CDT   SIN AGENCIA      -  \n",
       "1    UNSECURED       NULL     EXJ  MORNESE MORA      -  \n",
       "2    UNSECURED       NULL     EXJ  MORNESE MORA      -  \n",
       "3    UNSECURED       NULL   KSTBC  MORNESE MORA      -  \n",
       "5    UNSECURED       NULL   KSTBC  MORNESE MORA      -  "
      ]
     },
     "execution_count": 104,
     "metadata": {},
     "output_type": "execute_result"
    }
   ],
   "source": [
    "df_asignacion_test['codigo'] = df_asignacion_test['codigo'].astype('Int64').astype(str).str.zfill(8)\n",
    "\n",
    "cols_asignacion = ['codigo', 'ID_FLAG', 'cont_18', 'nombre', 'TIPO_CARTERA', 'TIPO_FONDO', 'clave', 'AGENCIA CORRECTA', 'ID_VTA.']\n",
    "df_base_test = df_base_test.merge(df_asignacion_test[cols_asignacion], left_on='CC', right_on='codigo', how='left')\n",
    "df_base_test = df_base_test.drop(columns=['codigo'])\n",
    "df_base_test = df_base_test.rename(columns={'Entidad':'ENTIDAD', 'ID_FLAG': 'FLAG', 'cont_18': 'CONTRATO', 'nombre': 'NOMBRE_CLIENTE', 'clave': 'CARTERA', 'AGENCIA CORRECTA': 'AGENCIA', 'ID_VTA.': 'ID_VTA'})\n",
    "\n",
    "df_base_test.drop_duplicates(subset=['CC', 'IMPORTE', 'MONEDA', 'NOMBRE'], keep='first', inplace=True)\n",
    "\n",
    "df_base_test['TIPO_CARTERA'] = df_base_test['TIPO_CARTERA'].fillna('NULL')\n",
    "df_base_test['TIPO_FONDO'] = df_base_test['TIPO_FONDO'].fillna('NULL')\n",
    "\n",
    "df_base_test['FLAG'] = df_base_test['FLAG'].astype('Int64')\n",
    "df_base_test['CONTRATO'] = df_base_test['CONTRATO'].apply(lambda x: str(int(x)).zfill(18) if pd.notna(x) else x)\n",
    "df_base_test['ENTIDAD'] = df_base_test['ENTIDAD'].astype('Int64').astype(str).str.zfill(4)\n",
    "\n",
    "cols_base_test = ['ENTIDAD', 'FECHA', 'CC', 'CLAVSERV', 'CENTROPAGO', 'IMPORTE', 'MONEDA', 'NOMBRE', 'ESTADO', 'FLAG', 'CONTRATO', 'NOMBRE_CLIENTE', 'FECHA_ENVIO', 'ID_RESPONSABLE', 'TIPO_CARTERA', 'TIPO_FONDO', 'CARTERA', 'AGENCIA', 'ID_VTA']\n",
    "df_base_test = df_base_test[cols_base_test]\n",
    "\n",
    "print(df_base_test.shape)\n",
    "print(df_base_test.dtypes)\n",
    "df_base_test.head(5)"
   ]
  },
  {
   "cell_type": "code",
   "execution_count": 105,
   "metadata": {},
   "outputs": [
    {
     "name": "stdout",
     "output_type": "stream",
     "text": [
      "REGISTROS OK\n"
     ]
    }
   ],
   "source": [
    "if base_count == df_base_test.shape[0]:\n",
    "    print('REGISTROS OK')\n",
    "elif base_count > df_base_test.shape[0]:\n",
    "    print('Se han perdido registros')\n",
    "else:\n",
    "    print('Se han duplicado registros: ', df_base_test.shape[0] - base_count)"
   ]
  },
  {
   "cell_type": "code",
   "execution_count": 106,
   "metadata": {},
   "outputs": [
    {
     "data": {
      "text/plain": [
       "(435, 19)"
      ]
     },
     "execution_count": 106,
     "metadata": {},
     "output_type": "execute_result"
    }
   ],
   "source": [
    "df_base_test.shape"
   ]
  },
  {
   "cell_type": "code",
   "execution_count": 107,
   "metadata": {},
   "outputs": [
    {
     "data": {
      "text/plain": [
       "(21, 19)"
      ]
     },
     "execution_count": 107,
     "metadata": {},
     "output_type": "execute_result"
    }
   ],
   "source": [
    "df_base_no_flag = df_base_test[df_base_test['FLAG'].isnull()]\n",
    "df_base_no_flag.shape"
   ]
  },
  {
   "cell_type": "code",
   "execution_count": 108,
   "metadata": {},
   "outputs": [
    {
     "data": {
      "text/plain": [
       "21"
      ]
     },
     "execution_count": 108,
     "metadata": {},
     "output_type": "execute_result"
    }
   ],
   "source": [
    "no_flag_count = df_base_no_flag.shape[0]\n",
    "no_flag_count"
   ]
  },
  {
   "cell_type": "code",
   "execution_count": 109,
   "metadata": {},
   "outputs": [
    {
     "data": {
      "text/plain": [
       "414"
      ]
     },
     "execution_count": 109,
     "metadata": {},
     "output_type": "execute_result"
    }
   ],
   "source": [
    "flag_count = base_count - no_flag_count\n",
    "flag_count"
   ]
  },
  {
   "cell_type": "code",
   "execution_count": 110,
   "metadata": {},
   "outputs": [],
   "source": [
    "#################### MONOPRODUCTO ####################"
   ]
  },
  {
   "cell_type": "code",
   "execution_count": 111,
   "metadata": {},
   "outputs": [
    {
     "name": "stdout",
     "output_type": "stream",
     "text": [
      "(324, 19)\n"
     ]
    },
    {
     "data": {
      "text/html": [
       "<div>\n",
       "<style scoped>\n",
       "    .dataframe tbody tr th:only-of-type {\n",
       "        vertical-align: middle;\n",
       "    }\n",
       "\n",
       "    .dataframe tbody tr th {\n",
       "        vertical-align: top;\n",
       "    }\n",
       "\n",
       "    .dataframe thead th {\n",
       "        text-align: right;\n",
       "    }\n",
       "</style>\n",
       "<table border=\"1\" class=\"dataframe\">\n",
       "  <thead>\n",
       "    <tr style=\"text-align: right;\">\n",
       "      <th></th>\n",
       "      <th>ENTIDAD</th>\n",
       "      <th>FECHA</th>\n",
       "      <th>CC</th>\n",
       "      <th>CLAVSERV</th>\n",
       "      <th>CENTROPAGO</th>\n",
       "      <th>IMPORTE</th>\n",
       "      <th>MONEDA</th>\n",
       "      <th>NOMBRE</th>\n",
       "      <th>ESTADO</th>\n",
       "      <th>FLAG</th>\n",
       "      <th>CONTRATO</th>\n",
       "      <th>NOMBRE_CLIENTE</th>\n",
       "      <th>FECHA_ENVIO</th>\n",
       "      <th>ID_RESPONSABLE</th>\n",
       "      <th>TIPO_CARTERA</th>\n",
       "      <th>TIPO_FONDO</th>\n",
       "      <th>CARTERA</th>\n",
       "      <th>AGENCIA</th>\n",
       "      <th>ID_VTA</th>\n",
       "    </tr>\n",
       "  </thead>\n",
       "  <tbody>\n",
       "    <tr>\n",
       "      <th>0</th>\n",
       "      <td>0011</td>\n",
       "      <td>2024-08-27</td>\n",
       "      <td>23307614</td>\n",
       "      <td>00248</td>\n",
       "      <td>849</td>\n",
       "      <td>500.0</td>\n",
       "      <td>PEN</td>\n",
       "      <td>-VICTOR RAUL VELASQUEZ CENTENO</td>\n",
       "      <td>P</td>\n",
       "      <td>1</td>\n",
       "      <td>001101379600154101</td>\n",
       "      <td>VICTOR RAUL VELASQUEZ CENTENO</td>\n",
       "      <td>28-Ago</td>\n",
       "      <td>MIV</td>\n",
       "      <td>NULL</td>\n",
       "      <td>NULL</td>\n",
       "      <td>CDT</td>\n",
       "      <td>SIN AGENCIA</td>\n",
       "      <td>-</td>\n",
       "    </tr>\n",
       "    <tr>\n",
       "      <th>1</th>\n",
       "      <td>0011</td>\n",
       "      <td>2024-08-27</td>\n",
       "      <td>28256566</td>\n",
       "      <td>00248</td>\n",
       "      <td>843</td>\n",
       "      <td>2000.0</td>\n",
       "      <td>PEN</td>\n",
       "      <td>-MARLON ERNESTO ZAVALA ALVAREZ.</td>\n",
       "      <td>P</td>\n",
       "      <td>1</td>\n",
       "      <td>001109005000817850</td>\n",
       "      <td>MARLON ERNESTO ZAVALA ALVAREZ</td>\n",
       "      <td>28-Ago</td>\n",
       "      <td>MIV</td>\n",
       "      <td>UNSECURED</td>\n",
       "      <td>NULL</td>\n",
       "      <td>EXJ</td>\n",
       "      <td>MORNESE MORA</td>\n",
       "      <td>-</td>\n",
       "    </tr>\n",
       "    <tr>\n",
       "      <th>2</th>\n",
       "      <td>0011</td>\n",
       "      <td>2024-08-27</td>\n",
       "      <td>29572732</td>\n",
       "      <td>00248</td>\n",
       "      <td>14</td>\n",
       "      <td>900.0</td>\n",
       "      <td>PEN</td>\n",
       "      <td>ABEL QUISPE SULLCA</td>\n",
       "      <td>P</td>\n",
       "      <td>1</td>\n",
       "      <td>001100145000366666</td>\n",
       "      <td>ABEL QUISPE SULLCA</td>\n",
       "      <td>28-Ago</td>\n",
       "      <td>MIV</td>\n",
       "      <td>UNSECURED</td>\n",
       "      <td>NULL</td>\n",
       "      <td>EXJ</td>\n",
       "      <td>MORNESE MORA</td>\n",
       "      <td>-</td>\n",
       "    </tr>\n",
       "    <tr>\n",
       "      <th>7</th>\n",
       "      <td>0011</td>\n",
       "      <td>2024-08-27</td>\n",
       "      <td>27393417</td>\n",
       "      <td>00248</td>\n",
       "      <td>304</td>\n",
       "      <td>700.0</td>\n",
       "      <td>PEN</td>\n",
       "      <td>ABRIL MIHANU HOYOS PANDURO</td>\n",
       "      <td>P</td>\n",
       "      <td>1</td>\n",
       "      <td>001103175001197105</td>\n",
       "      <td>ABRIL MIHANU HOYOS PANDURO</td>\n",
       "      <td>28-Ago</td>\n",
       "      <td>MIV</td>\n",
       "      <td>UNSECURED</td>\n",
       "      <td>NULL</td>\n",
       "      <td>EXJ</td>\n",
       "      <td>MORNESE MORA</td>\n",
       "      <td>-</td>\n",
       "    </tr>\n",
       "    <tr>\n",
       "      <th>8</th>\n",
       "      <td>0011</td>\n",
       "      <td>2024-08-27</td>\n",
       "      <td>30106214</td>\n",
       "      <td>00248</td>\n",
       "      <td>234</td>\n",
       "      <td>13500.0</td>\n",
       "      <td>PEN</td>\n",
       "      <td>ACEROS Y VIDRIERIA DAKI SAC</td>\n",
       "      <td>P</td>\n",
       "      <td>1</td>\n",
       "      <td>001103239600179989</td>\n",
       "      <td>ACEROS Y VIDRIERIA DAKI SAC</td>\n",
       "      <td>28-Ago</td>\n",
       "      <td>MIV</td>\n",
       "      <td>UNSECURED</td>\n",
       "      <td>NULL</td>\n",
       "      <td>KSTBC</td>\n",
       "      <td>ASESCOM RJ</td>\n",
       "      <td>-</td>\n",
       "    </tr>\n",
       "  </tbody>\n",
       "</table>\n",
       "</div>"
      ],
      "text/plain": [
       "  ENTIDAD       FECHA        CC CLAVSERV  CENTROPAGO  IMPORTE MONEDA  \\\n",
       "0    0011  2024-08-27  23307614    00248         849    500.0    PEN   \n",
       "1    0011  2024-08-27  28256566    00248         843   2000.0    PEN   \n",
       "2    0011  2024-08-27  29572732    00248          14    900.0    PEN   \n",
       "7    0011  2024-08-27  27393417    00248         304    700.0    PEN   \n",
       "8    0011  2024-08-27  30106214    00248         234  13500.0    PEN   \n",
       "\n",
       "                            NOMBRE ESTADO  FLAG            CONTRATO  \\\n",
       "0   -VICTOR RAUL VELASQUEZ CENTENO      P     1  001101379600154101   \n",
       "1  -MARLON ERNESTO ZAVALA ALVAREZ.      P     1  001109005000817850   \n",
       "2               ABEL QUISPE SULLCA      P     1  001100145000366666   \n",
       "7       ABRIL MIHANU HOYOS PANDURO      P     1  001103175001197105   \n",
       "8      ACEROS Y VIDRIERIA DAKI SAC      P     1  001103239600179989   \n",
       "\n",
       "                  NOMBRE_CLIENTE FECHA_ENVIO ID_RESPONSABLE TIPO_CARTERA  \\\n",
       "0  VICTOR RAUL VELASQUEZ CENTENO      28-Ago            MIV         NULL   \n",
       "1  MARLON ERNESTO ZAVALA ALVAREZ      28-Ago            MIV    UNSECURED   \n",
       "2             ABEL QUISPE SULLCA      28-Ago            MIV    UNSECURED   \n",
       "7     ABRIL MIHANU HOYOS PANDURO      28-Ago            MIV    UNSECURED   \n",
       "8    ACEROS Y VIDRIERIA DAKI SAC      28-Ago            MIV    UNSECURED   \n",
       "\n",
       "  TIPO_FONDO CARTERA       AGENCIA ID_VTA  \n",
       "0       NULL     CDT   SIN AGENCIA      -  \n",
       "1       NULL     EXJ  MORNESE MORA      -  \n",
       "2       NULL     EXJ  MORNESE MORA      -  \n",
       "7       NULL     EXJ  MORNESE MORA      -  \n",
       "8       NULL   KSTBC    ASESCOM RJ      -  "
      ]
     },
     "execution_count": 111,
     "metadata": {},
     "output_type": "execute_result"
    }
   ],
   "source": [
    "df_mono = df_base_test[df_base_test['FLAG'] == 1]\n",
    "print(df_mono.shape)\n",
    "df_mono.head(5)"
   ]
  },
  {
   "cell_type": "code",
   "execution_count": 112,
   "metadata": {},
   "outputs": [
    {
     "data": {
      "text/plain": [
       "324"
      ]
     },
     "execution_count": 112,
     "metadata": {},
     "output_type": "execute_result"
    }
   ],
   "source": [
    "mono_count = df_mono.shape[0]\n",
    "mono_count"
   ]
  },
  {
   "cell_type": "code",
   "execution_count": 113,
   "metadata": {},
   "outputs": [
    {
     "data": {
      "text/plain": [
       "TIPO_CARTERA\n",
       "UNSECURED    309\n",
       "SECURED       14\n",
       "NULL           1\n",
       "Name: count, dtype: int64"
      ]
     },
     "execution_count": 113,
     "metadata": {},
     "output_type": "execute_result"
    }
   ],
   "source": [
    "df_mono['TIPO_CARTERA'].value_counts()"
   ]
  },
  {
   "cell_type": "code",
   "execution_count": 114,
   "metadata": {},
   "outputs": [
    {
     "data": {
      "text/plain": [
       "TIPO_FONDO\n",
       "NULL        316\n",
       "REACTIVA      8\n",
       "Name: count, dtype: int64"
      ]
     },
     "execution_count": 114,
     "metadata": {},
     "output_type": "execute_result"
    }
   ],
   "source": [
    "df_mono['TIPO_FONDO'].value_counts()"
   ]
  },
  {
   "cell_type": "code",
   "execution_count": 115,
   "metadata": {},
   "outputs": [
    {
     "data": {
      "text/plain": [
       "TIPO_CARTERA  TIPO_FONDO\n",
       "UNSECURED     NULL          303\n",
       "SECURED       NULL           12\n",
       "UNSECURED     REACTIVA        6\n",
       "SECURED       REACTIVA        2\n",
       "NULL          NULL            1\n",
       "Name: count, dtype: int64"
      ]
     },
     "execution_count": 115,
     "metadata": {},
     "output_type": "execute_result"
    }
   ],
   "source": [
    "df_mono[['TIPO_CARTERA', 'TIPO_FONDO']].value_counts()"
   ]
  },
  {
   "cell_type": "code",
   "execution_count": 116,
   "metadata": {},
   "outputs": [],
   "source": [
    "#################### MONO REACTIVA ####################"
   ]
  },
  {
   "cell_type": "code",
   "execution_count": 117,
   "metadata": {},
   "outputs": [
    {
     "name": "stdout",
     "output_type": "stream",
     "text": [
      "(6, 16)\n"
     ]
    },
    {
     "data": {
      "text/html": [
       "<div>\n",
       "<style scoped>\n",
       "    .dataframe tbody tr th:only-of-type {\n",
       "        vertical-align: middle;\n",
       "    }\n",
       "\n",
       "    .dataframe tbody tr th {\n",
       "        vertical-align: top;\n",
       "    }\n",
       "\n",
       "    .dataframe thead th {\n",
       "        text-align: right;\n",
       "    }\n",
       "</style>\n",
       "<table border=\"1\" class=\"dataframe\">\n",
       "  <thead>\n",
       "    <tr style=\"text-align: right;\">\n",
       "      <th></th>\n",
       "      <th>FECHA</th>\n",
       "      <th>CC</th>\n",
       "      <th>CLAVSERV</th>\n",
       "      <th>IMPORTE</th>\n",
       "      <th>MONEDA</th>\n",
       "      <th>NOMBRE</th>\n",
       "      <th>ESTADO</th>\n",
       "      <th>FLAG</th>\n",
       "      <th>CONTRATO</th>\n",
       "      <th>NOMBRE_CLIENTE</th>\n",
       "      <th>FECHA_ENVIO</th>\n",
       "      <th>ID_RESPONSABLE</th>\n",
       "      <th>TIPO_CARTERA</th>\n",
       "      <th>TIPO_FONDO</th>\n",
       "      <th>CARTERA</th>\n",
       "      <th>AGENCIA</th>\n",
       "    </tr>\n",
       "  </thead>\n",
       "  <tbody>\n",
       "    <tr>\n",
       "      <th>84</th>\n",
       "      <td>2024-08-27</td>\n",
       "      <td>26404201</td>\n",
       "      <td>00248</td>\n",
       "      <td>2000.00</td>\n",
       "      <td>PEN</td>\n",
       "      <td>COINGEMA INDUSTRIAL SAC,,,</td>\n",
       "      <td>P</td>\n",
       "      <td>1</td>\n",
       "      <td>001101419600146593</td>\n",
       "      <td>COINGEMA INDUSTRIALSAC</td>\n",
       "      <td>28-Ago</td>\n",
       "      <td>MIV</td>\n",
       "      <td>UNSECURED</td>\n",
       "      <td>REACTIVA</td>\n",
       "      <td>BC</td>\n",
       "      <td>CLASA MORA</td>\n",
       "    </tr>\n",
       "    <tr>\n",
       "      <th>149</th>\n",
       "      <td>2024-08-27</td>\n",
       "      <td>27692222</td>\n",
       "      <td>00248</td>\n",
       "      <td>1000.00</td>\n",
       "      <td>PEN</td>\n",
       "      <td>EMPAISLA   EIRL</td>\n",
       "      <td>P</td>\n",
       "      <td>1</td>\n",
       "      <td>001101279600250750</td>\n",
       "      <td>EMPAISLA EIRL</td>\n",
       "      <td>28-Ago</td>\n",
       "      <td>MIV</td>\n",
       "      <td>UNSECURED</td>\n",
       "      <td>REACTIVA</td>\n",
       "      <td>BC</td>\n",
       "      <td>ASESCOM RJ</td>\n",
       "    </tr>\n",
       "    <tr>\n",
       "      <th>162</th>\n",
       "      <td>2024-08-27</td>\n",
       "      <td>24860259</td>\n",
       "      <td>00248</td>\n",
       "      <td>5000.00</td>\n",
       "      <td>PEN</td>\n",
       "      <td>FIBRAART PERU SAC</td>\n",
       "      <td>P</td>\n",
       "      <td>1</td>\n",
       "      <td>001101399600235560</td>\n",
       "      <td>FIBRAART PERU SAC</td>\n",
       "      <td>28-Ago</td>\n",
       "      <td>MIV</td>\n",
       "      <td>UNSECURED</td>\n",
       "      <td>REACTIVA</td>\n",
       "      <td>KSTBC</td>\n",
       "      <td>MORNESE MORA</td>\n",
       "    </tr>\n",
       "    <tr>\n",
       "      <th>194</th>\n",
       "      <td>2024-08-27</td>\n",
       "      <td>25448033</td>\n",
       "      <td>00248</td>\n",
       "      <td>10268.05</td>\n",
       "      <td>PEN</td>\n",
       "      <td>HUGO. MARCIAL AGUILAR. LIMA</td>\n",
       "      <td>P</td>\n",
       "      <td>1</td>\n",
       "      <td>001102209600865254</td>\n",
       "      <td>HUGO MARCIAL AGUILAR LIMA</td>\n",
       "      <td>28-Ago</td>\n",
       "      <td>MIV</td>\n",
       "      <td>UNSECURED</td>\n",
       "      <td>REACTIVA</td>\n",
       "      <td>EXJ</td>\n",
       "      <td>ASESCOM RJ</td>\n",
       "    </tr>\n",
       "    <tr>\n",
       "      <th>349</th>\n",
       "      <td>2024-08-27</td>\n",
       "      <td>22250963</td>\n",
       "      <td>00248</td>\n",
       "      <td>4000.00</td>\n",
       "      <td>PEN</td>\n",
       "      <td>MARIZA MERY MALLMA LIMACO  27/08/2024</td>\n",
       "      <td>P</td>\n",
       "      <td>1</td>\n",
       "      <td>001102359601000437</td>\n",
       "      <td>MARIZA MERY MALLMA LIMACO</td>\n",
       "      <td>28-Ago</td>\n",
       "      <td>MIV</td>\n",
       "      <td>UNSECURED</td>\n",
       "      <td>REACTIVA</td>\n",
       "      <td>BC</td>\n",
       "      <td>CLASA MORA</td>\n",
       "    </tr>\n",
       "  </tbody>\n",
       "</table>\n",
       "</div>"
      ],
      "text/plain": [
       "          FECHA        CC CLAVSERV   IMPORTE MONEDA  \\\n",
       "84   2024-08-27  26404201    00248   2000.00    PEN   \n",
       "149  2024-08-27  27692222    00248   1000.00    PEN   \n",
       "162  2024-08-27  24860259    00248   5000.00    PEN   \n",
       "194  2024-08-27  25448033    00248  10268.05    PEN   \n",
       "349  2024-08-27  22250963    00248   4000.00    PEN   \n",
       "\n",
       "                                    NOMBRE ESTADO  FLAG            CONTRATO  \\\n",
       "84              COINGEMA INDUSTRIAL SAC,,,      P     1  001101419600146593   \n",
       "149                        EMPAISLA   EIRL      P     1  001101279600250750   \n",
       "162                      FIBRAART PERU SAC      P     1  001101399600235560   \n",
       "194            HUGO. MARCIAL AGUILAR. LIMA      P     1  001102209600865254   \n",
       "349  MARIZA MERY MALLMA LIMACO  27/08/2024      P     1  001102359601000437   \n",
       "\n",
       "                NOMBRE_CLIENTE FECHA_ENVIO ID_RESPONSABLE TIPO_CARTERA  \\\n",
       "84      COINGEMA INDUSTRIALSAC      28-Ago            MIV    UNSECURED   \n",
       "149              EMPAISLA EIRL      28-Ago            MIV    UNSECURED   \n",
       "162          FIBRAART PERU SAC      28-Ago            MIV    UNSECURED   \n",
       "194  HUGO MARCIAL AGUILAR LIMA      28-Ago            MIV    UNSECURED   \n",
       "349  MARIZA MERY MALLMA LIMACO      28-Ago            MIV    UNSECURED   \n",
       "\n",
       "    TIPO_FONDO CARTERA       AGENCIA  \n",
       "84    REACTIVA      BC    CLASA MORA  \n",
       "149   REACTIVA      BC    ASESCOM RJ  \n",
       "162   REACTIVA   KSTBC  MORNESE MORA  \n",
       "194   REACTIVA     EXJ    ASESCOM RJ  \n",
       "349   REACTIVA      BC    CLASA MORA  "
      ]
     },
     "execution_count": 117,
     "metadata": {},
     "output_type": "execute_result"
    }
   ],
   "source": [
    "df_reactiva = df_mono[(df_mono['TIPO_CARTERA'] == 'UNSECURED') & (df_mono['TIPO_FONDO'] == 'REACTIVA')]\n",
    "df_reactiva.drop(columns=['ENTIDAD', 'CENTROPAGO', 'ID_VTA'], inplace=True)\n",
    "print(df_reactiva.shape)\n",
    "df_reactiva.head(5)"
   ]
  },
  {
   "cell_type": "code",
   "execution_count": 118,
   "metadata": {},
   "outputs": [
    {
     "data": {
      "text/plain": [
       "6"
      ]
     },
     "execution_count": 118,
     "metadata": {},
     "output_type": "execute_result"
    }
   ],
   "source": [
    "reactiva_count = df_reactiva.shape[0]\n",
    "reactiva_count"
   ]
  },
  {
   "cell_type": "code",
   "execution_count": 119,
   "metadata": {},
   "outputs": [],
   "source": [
    "df_reactiva.to_excel(reactiva, index=False)"
   ]
  },
  {
   "cell_type": "code",
   "execution_count": 120,
   "metadata": {},
   "outputs": [],
   "source": [
    "#################### FIN REACTIVA ####################"
   ]
  },
  {
   "cell_type": "code",
   "execution_count": 121,
   "metadata": {},
   "outputs": [
    {
     "data": {
      "text/plain": [
       "15"
      ]
     },
     "execution_count": 121,
     "metadata": {},
     "output_type": "execute_result"
    }
   ],
   "source": [
    "df_no_mono = df_mono[(df_mono['TIPO_CARTERA'] != 'UNSECURED')]\n",
    "no_mono_count = df_no_mono.shape[0]\n",
    "no_mono_count"
   ]
  },
  {
   "cell_type": "code",
   "execution_count": 122,
   "metadata": {},
   "outputs": [
    {
     "name": "stdout",
     "output_type": "stream",
     "text": [
      "(303, 19)\n"
     ]
    }
   ],
   "source": [
    "df_mono = df_mono[df_mono['TIPO_CARTERA'] == 'UNSECURED']\n",
    "df_mono = df_mono[df_mono['TIPO_FONDO'] == 'NULL']\n",
    "print(df_mono.shape)"
   ]
  },
  {
   "cell_type": "code",
   "execution_count": 123,
   "metadata": {},
   "outputs": [],
   "source": [
    "df_mono['CONTRATO'] = df_mono['CONTRATO'].astype(str).str.zfill(18)"
   ]
  },
  {
   "cell_type": "code",
   "execution_count": 124,
   "metadata": {},
   "outputs": [
    {
     "name": "stdout",
     "output_type": "stream",
     "text": [
      "(303, 16)\n"
     ]
    },
    {
     "data": {
      "text/html": [
       "<div>\n",
       "<style scoped>\n",
       "    .dataframe tbody tr th:only-of-type {\n",
       "        vertical-align: middle;\n",
       "    }\n",
       "\n",
       "    .dataframe tbody tr th {\n",
       "        vertical-align: top;\n",
       "    }\n",
       "\n",
       "    .dataframe thead th {\n",
       "        text-align: right;\n",
       "    }\n",
       "</style>\n",
       "<table border=\"1\" class=\"dataframe\">\n",
       "  <thead>\n",
       "    <tr style=\"text-align: right;\">\n",
       "      <th></th>\n",
       "      <th>FECHA</th>\n",
       "      <th>CC</th>\n",
       "      <th>CLAVSERV</th>\n",
       "      <th>IMPORTE</th>\n",
       "      <th>MONEDA</th>\n",
       "      <th>NOMBRE</th>\n",
       "      <th>ESTADO</th>\n",
       "      <th>FLAG</th>\n",
       "      <th>CONTRATO</th>\n",
       "      <th>NOMBRE_CLIENTE</th>\n",
       "      <th>FECHA_ENVIO</th>\n",
       "      <th>ID_RESPONSABLE</th>\n",
       "      <th>TIPO_CARTERA</th>\n",
       "      <th>TIPO_FONDO</th>\n",
       "      <th>CARTERA</th>\n",
       "      <th>AGENCIA</th>\n",
       "    </tr>\n",
       "  </thead>\n",
       "  <tbody>\n",
       "    <tr>\n",
       "      <th>1</th>\n",
       "      <td>2024-08-27</td>\n",
       "      <td>28256566</td>\n",
       "      <td>00248</td>\n",
       "      <td>2000.0</td>\n",
       "      <td>PEN</td>\n",
       "      <td>-MARLON ERNESTO ZAVALA ALVAREZ.</td>\n",
       "      <td>P</td>\n",
       "      <td>1</td>\n",
       "      <td>001109005000817850</td>\n",
       "      <td>MARLON ERNESTO ZAVALA ALVAREZ</td>\n",
       "      <td>28-Ago</td>\n",
       "      <td>MIV</td>\n",
       "      <td>UNSECURED</td>\n",
       "      <td>NULL</td>\n",
       "      <td>EXJ</td>\n",
       "      <td>MORNESE MORA</td>\n",
       "    </tr>\n",
       "    <tr>\n",
       "      <th>2</th>\n",
       "      <td>2024-08-27</td>\n",
       "      <td>29572732</td>\n",
       "      <td>00248</td>\n",
       "      <td>900.0</td>\n",
       "      <td>PEN</td>\n",
       "      <td>ABEL QUISPE SULLCA</td>\n",
       "      <td>P</td>\n",
       "      <td>1</td>\n",
       "      <td>001100145000366666</td>\n",
       "      <td>ABEL QUISPE SULLCA</td>\n",
       "      <td>28-Ago</td>\n",
       "      <td>MIV</td>\n",
       "      <td>UNSECURED</td>\n",
       "      <td>NULL</td>\n",
       "      <td>EXJ</td>\n",
       "      <td>MORNESE MORA</td>\n",
       "    </tr>\n",
       "    <tr>\n",
       "      <th>7</th>\n",
       "      <td>2024-08-27</td>\n",
       "      <td>27393417</td>\n",
       "      <td>00248</td>\n",
       "      <td>700.0</td>\n",
       "      <td>PEN</td>\n",
       "      <td>ABRIL MIHANU HOYOS PANDURO</td>\n",
       "      <td>P</td>\n",
       "      <td>1</td>\n",
       "      <td>001103175001197105</td>\n",
       "      <td>ABRIL MIHANU HOYOS PANDURO</td>\n",
       "      <td>28-Ago</td>\n",
       "      <td>MIV</td>\n",
       "      <td>UNSECURED</td>\n",
       "      <td>NULL</td>\n",
       "      <td>EXJ</td>\n",
       "      <td>MORNESE MORA</td>\n",
       "    </tr>\n",
       "    <tr>\n",
       "      <th>8</th>\n",
       "      <td>2024-08-27</td>\n",
       "      <td>30106214</td>\n",
       "      <td>00248</td>\n",
       "      <td>13500.0</td>\n",
       "      <td>PEN</td>\n",
       "      <td>ACEROS Y VIDRIERIA DAKI SAC</td>\n",
       "      <td>P</td>\n",
       "      <td>1</td>\n",
       "      <td>001103239600179989</td>\n",
       "      <td>ACEROS Y VIDRIERIA DAKI SAC</td>\n",
       "      <td>28-Ago</td>\n",
       "      <td>MIV</td>\n",
       "      <td>UNSECURED</td>\n",
       "      <td>NULL</td>\n",
       "      <td>KSTBC</td>\n",
       "      <td>ASESCOM RJ</td>\n",
       "    </tr>\n",
       "    <tr>\n",
       "      <th>9</th>\n",
       "      <td>2024-08-27</td>\n",
       "      <td>21557284</td>\n",
       "      <td>00248</td>\n",
       "      <td>2717.0</td>\n",
       "      <td>PEN</td>\n",
       "      <td>ADELA CARIDAD RUIZ ARCE</td>\n",
       "      <td>P</td>\n",
       "      <td>1</td>\n",
       "      <td>001103019601222187</td>\n",
       "      <td>ADELA CARIDAD RUIZ ARCE</td>\n",
       "      <td>28-Ago</td>\n",
       "      <td>MIV</td>\n",
       "      <td>UNSECURED</td>\n",
       "      <td>NULL</td>\n",
       "      <td>KSTBC</td>\n",
       "      <td>ASESCOM RJ</td>\n",
       "    </tr>\n",
       "  </tbody>\n",
       "</table>\n",
       "</div>"
      ],
      "text/plain": [
       "        FECHA        CC CLAVSERV  IMPORTE MONEDA  \\\n",
       "1  2024-08-27  28256566    00248   2000.0    PEN   \n",
       "2  2024-08-27  29572732    00248    900.0    PEN   \n",
       "7  2024-08-27  27393417    00248    700.0    PEN   \n",
       "8  2024-08-27  30106214    00248  13500.0    PEN   \n",
       "9  2024-08-27  21557284    00248   2717.0    PEN   \n",
       "\n",
       "                            NOMBRE ESTADO  FLAG            CONTRATO  \\\n",
       "1  -MARLON ERNESTO ZAVALA ALVAREZ.      P     1  001109005000817850   \n",
       "2               ABEL QUISPE SULLCA      P     1  001100145000366666   \n",
       "7       ABRIL MIHANU HOYOS PANDURO      P     1  001103175001197105   \n",
       "8      ACEROS Y VIDRIERIA DAKI SAC      P     1  001103239600179989   \n",
       "9          ADELA CARIDAD RUIZ ARCE      P     1  001103019601222187   \n",
       "\n",
       "                  NOMBRE_CLIENTE FECHA_ENVIO ID_RESPONSABLE TIPO_CARTERA  \\\n",
       "1  MARLON ERNESTO ZAVALA ALVAREZ      28-Ago            MIV    UNSECURED   \n",
       "2             ABEL QUISPE SULLCA      28-Ago            MIV    UNSECURED   \n",
       "7     ABRIL MIHANU HOYOS PANDURO      28-Ago            MIV    UNSECURED   \n",
       "8    ACEROS Y VIDRIERIA DAKI SAC      28-Ago            MIV    UNSECURED   \n",
       "9        ADELA CARIDAD RUIZ ARCE      28-Ago            MIV    UNSECURED   \n",
       "\n",
       "  TIPO_FONDO CARTERA       AGENCIA  \n",
       "1       NULL     EXJ  MORNESE MORA  \n",
       "2       NULL     EXJ  MORNESE MORA  \n",
       "7       NULL     EXJ  MORNESE MORA  \n",
       "8       NULL   KSTBC    ASESCOM RJ  \n",
       "9       NULL   KSTBC    ASESCOM RJ  "
      ]
     },
     "execution_count": 124,
     "metadata": {},
     "output_type": "execute_result"
    }
   ],
   "source": [
    "df_mono.drop(columns=['ENTIDAD', 'CENTROPAGO', 'ID_VTA'], inplace=True)\n",
    "print(df_mono.shape)\n",
    "df_mono.head(5)"
   ]
  },
  {
   "cell_type": "code",
   "execution_count": 125,
   "metadata": {},
   "outputs": [],
   "source": [
    "df_mono.to_excel(monoproducto, index=False)"
   ]
  },
  {
   "cell_type": "code",
   "execution_count": 126,
   "metadata": {},
   "outputs": [
    {
     "data": {
      "text/plain": [
       "303"
      ]
     },
     "execution_count": 126,
     "metadata": {},
     "output_type": "execute_result"
    }
   ],
   "source": [
    "mono_count_final = df_mono.shape[0]\n",
    "mono_count_final"
   ]
  },
  {
   "cell_type": "code",
   "execution_count": 127,
   "metadata": {},
   "outputs": [
    {
     "name": "stdout",
     "output_type": "stream",
     "text": [
      "MONOPRODUCTO OK\n"
     ]
    }
   ],
   "source": [
    "if mono_count == mono_count_final + reactiva_count + no_mono_count:\n",
    "    print('MONOPRODUCTO OK')\n",
    "else:\n",
    "    print('MONOPRODUCTO ERROR')"
   ]
  },
  {
   "cell_type": "code",
   "execution_count": 128,
   "metadata": {},
   "outputs": [],
   "source": [
    "#################### FIN MONOPRODUCTO ####################"
   ]
  },
  {
   "cell_type": "code",
   "execution_count": 129,
   "metadata": {},
   "outputs": [],
   "source": [
    "#################### MULTIPRODUCTO ####################"
   ]
  },
  {
   "cell_type": "code",
   "execution_count": 130,
   "metadata": {},
   "outputs": [
    {
     "name": "stdout",
     "output_type": "stream",
     "text": [
      "(90, 19)\n"
     ]
    },
    {
     "data": {
      "text/html": [
       "<div>\n",
       "<style scoped>\n",
       "    .dataframe tbody tr th:only-of-type {\n",
       "        vertical-align: middle;\n",
       "    }\n",
       "\n",
       "    .dataframe tbody tr th {\n",
       "        vertical-align: top;\n",
       "    }\n",
       "\n",
       "    .dataframe thead th {\n",
       "        text-align: right;\n",
       "    }\n",
       "</style>\n",
       "<table border=\"1\" class=\"dataframe\">\n",
       "  <thead>\n",
       "    <tr style=\"text-align: right;\">\n",
       "      <th></th>\n",
       "      <th>ENTIDAD</th>\n",
       "      <th>FECHA</th>\n",
       "      <th>CC</th>\n",
       "      <th>CLAVSERV</th>\n",
       "      <th>CENTROPAGO</th>\n",
       "      <th>IMPORTE</th>\n",
       "      <th>MONEDA</th>\n",
       "      <th>NOMBRE</th>\n",
       "      <th>ESTADO</th>\n",
       "      <th>FLAG</th>\n",
       "      <th>CONTRATO</th>\n",
       "      <th>NOMBRE_CLIENTE</th>\n",
       "      <th>FECHA_ENVIO</th>\n",
       "      <th>ID_RESPONSABLE</th>\n",
       "      <th>TIPO_CARTERA</th>\n",
       "      <th>TIPO_FONDO</th>\n",
       "      <th>CARTERA</th>\n",
       "      <th>AGENCIA</th>\n",
       "      <th>ID_VTA</th>\n",
       "    </tr>\n",
       "  </thead>\n",
       "  <tbody>\n",
       "    <tr>\n",
       "      <th>3</th>\n",
       "      <td>0011</td>\n",
       "      <td>2024-08-27</td>\n",
       "      <td>27204708</td>\n",
       "      <td>00248</td>\n",
       "      <td>195</td>\n",
       "      <td>186.0</td>\n",
       "      <td>PEN</td>\n",
       "      <td>ABRAHAM ALBERTO SEMINARIO SAN MARTIN</td>\n",
       "      <td>P</td>\n",
       "      <td>2</td>\n",
       "      <td>001101955001801884</td>\n",
       "      <td>ABRAHAM ALBERTO SEMINARIO SAN MARTIN</td>\n",
       "      <td>28-Ago</td>\n",
       "      <td>MIV</td>\n",
       "      <td>UNSECURED</td>\n",
       "      <td>NULL</td>\n",
       "      <td>KSTBC</td>\n",
       "      <td>MORNESE MORA</td>\n",
       "      <td>-</td>\n",
       "    </tr>\n",
       "    <tr>\n",
       "      <th>5</th>\n",
       "      <td>0011</td>\n",
       "      <td>2024-08-27</td>\n",
       "      <td>27204708</td>\n",
       "      <td>00248</td>\n",
       "      <td>195</td>\n",
       "      <td>1178.0</td>\n",
       "      <td>PEN</td>\n",
       "      <td>ABRAHAM ALBERTO SEMINARIO SAN MARTIN.</td>\n",
       "      <td>P</td>\n",
       "      <td>2</td>\n",
       "      <td>001101955001801884</td>\n",
       "      <td>ABRAHAM ALBERTO SEMINARIO SAN MARTIN</td>\n",
       "      <td>28-Ago</td>\n",
       "      <td>MIV</td>\n",
       "      <td>UNSECURED</td>\n",
       "      <td>NULL</td>\n",
       "      <td>KSTBC</td>\n",
       "      <td>MORNESE MORA</td>\n",
       "      <td>-</td>\n",
       "    </tr>\n",
       "    <tr>\n",
       "      <th>17</th>\n",
       "      <td>0011</td>\n",
       "      <td>2024-08-27</td>\n",
       "      <td>30434144</td>\n",
       "      <td>00248</td>\n",
       "      <td>900</td>\n",
       "      <td>1484.0</td>\n",
       "      <td>PEN</td>\n",
       "      <td>ALVARADO CASTRO FRESCIA</td>\n",
       "      <td>P</td>\n",
       "      <td>2</td>\n",
       "      <td>001108149603038528</td>\n",
       "      <td>FRESCIA LISET ALVARADO CASTRO</td>\n",
       "      <td>28-Ago</td>\n",
       "      <td>MIV</td>\n",
       "      <td>UNSECURED</td>\n",
       "      <td>NULL</td>\n",
       "      <td>EXJ</td>\n",
       "      <td>MORNESE MORA</td>\n",
       "      <td>-</td>\n",
       "    </tr>\n",
       "    <tr>\n",
       "      <th>19</th>\n",
       "      <td>0011</td>\n",
       "      <td>2024-08-27</td>\n",
       "      <td>30434144</td>\n",
       "      <td>00248</td>\n",
       "      <td>900</td>\n",
       "      <td>2166.0</td>\n",
       "      <td>PEN</td>\n",
       "      <td>ALVARADO CASTRO FRESCIA.</td>\n",
       "      <td>P</td>\n",
       "      <td>2</td>\n",
       "      <td>001108149603038528</td>\n",
       "      <td>FRESCIA LISET ALVARADO CASTRO</td>\n",
       "      <td>28-Ago</td>\n",
       "      <td>MIV</td>\n",
       "      <td>UNSECURED</td>\n",
       "      <td>NULL</td>\n",
       "      <td>EXJ</td>\n",
       "      <td>MORNESE MORA</td>\n",
       "      <td>-</td>\n",
       "    </tr>\n",
       "    <tr>\n",
       "      <th>22</th>\n",
       "      <td>0011</td>\n",
       "      <td>2024-08-27</td>\n",
       "      <td>22918561</td>\n",
       "      <td>00248</td>\n",
       "      <td>270</td>\n",
       "      <td>300.0</td>\n",
       "      <td>PEN</td>\n",
       "      <td>ANA LUZ VIVAS AGURTO TC</td>\n",
       "      <td>P</td>\n",
       "      <td>2</td>\n",
       "      <td>001102709600217948</td>\n",
       "      <td>ANA LUZ VIVAS AGURTO</td>\n",
       "      <td>28-Ago</td>\n",
       "      <td>MIV</td>\n",
       "      <td>UNSECURED</td>\n",
       "      <td>NULL</td>\n",
       "      <td>EXJ</td>\n",
       "      <td>ASESCOM RJ</td>\n",
       "      <td>-</td>\n",
       "    </tr>\n",
       "  </tbody>\n",
       "</table>\n",
       "</div>"
      ],
      "text/plain": [
       "   ENTIDAD       FECHA        CC CLAVSERV  CENTROPAGO  IMPORTE MONEDA  \\\n",
       "3     0011  2024-08-27  27204708    00248         195    186.0    PEN   \n",
       "5     0011  2024-08-27  27204708    00248         195   1178.0    PEN   \n",
       "17    0011  2024-08-27  30434144    00248         900   1484.0    PEN   \n",
       "19    0011  2024-08-27  30434144    00248         900   2166.0    PEN   \n",
       "22    0011  2024-08-27  22918561    00248         270    300.0    PEN   \n",
       "\n",
       "                                   NOMBRE ESTADO  FLAG            CONTRATO  \\\n",
       "3    ABRAHAM ALBERTO SEMINARIO SAN MARTIN      P     2  001101955001801884   \n",
       "5   ABRAHAM ALBERTO SEMINARIO SAN MARTIN.      P     2  001101955001801884   \n",
       "17                ALVARADO CASTRO FRESCIA      P     2  001108149603038528   \n",
       "19               ALVARADO CASTRO FRESCIA.      P     2  001108149603038528   \n",
       "22                ANA LUZ VIVAS AGURTO TC      P     2  001102709600217948   \n",
       "\n",
       "                          NOMBRE_CLIENTE FECHA_ENVIO ID_RESPONSABLE  \\\n",
       "3   ABRAHAM ALBERTO SEMINARIO SAN MARTIN      28-Ago            MIV   \n",
       "5   ABRAHAM ALBERTO SEMINARIO SAN MARTIN      28-Ago            MIV   \n",
       "17         FRESCIA LISET ALVARADO CASTRO      28-Ago            MIV   \n",
       "19         FRESCIA LISET ALVARADO CASTRO      28-Ago            MIV   \n",
       "22                  ANA LUZ VIVAS AGURTO      28-Ago            MIV   \n",
       "\n",
       "   TIPO_CARTERA TIPO_FONDO CARTERA       AGENCIA ID_VTA  \n",
       "3     UNSECURED       NULL   KSTBC  MORNESE MORA      -  \n",
       "5     UNSECURED       NULL   KSTBC  MORNESE MORA      -  \n",
       "17    UNSECURED       NULL     EXJ  MORNESE MORA      -  \n",
       "19    UNSECURED       NULL     EXJ  MORNESE MORA      -  \n",
       "22    UNSECURED       NULL     EXJ    ASESCOM RJ      -  "
      ]
     },
     "execution_count": 130,
     "metadata": {},
     "output_type": "execute_result"
    }
   ],
   "source": [
    "df_multi = df_base_test[df_base_test['FLAG'] > 1].copy()\n",
    "print(df_multi.shape)\n",
    "df_multi.head(5)"
   ]
  },
  {
   "cell_type": "code",
   "execution_count": 131,
   "metadata": {},
   "outputs": [
    {
     "data": {
      "text/plain": [
       "90"
      ]
     },
     "execution_count": 131,
     "metadata": {},
     "output_type": "execute_result"
    }
   ],
   "source": [
    "multi_count = df_multi.shape[0]\n",
    "multi_count"
   ]
  },
  {
   "cell_type": "code",
   "execution_count": 132,
   "metadata": {},
   "outputs": [
    {
     "data": {
      "text/plain": [
       "TIPO_CARTERA\n",
       "UNSECURED    78\n",
       "SECURED      12\n",
       "Name: count, dtype: int64"
      ]
     },
     "execution_count": 132,
     "metadata": {},
     "output_type": "execute_result"
    }
   ],
   "source": [
    "df_multi['TIPO_CARTERA'].value_counts()"
   ]
  },
  {
   "cell_type": "code",
   "execution_count": 133,
   "metadata": {},
   "outputs": [
    {
     "data": {
      "text/plain": [
       "TIPO_FONDO\n",
       "NULL        82\n",
       "REACTIVA     8\n",
       "Name: count, dtype: int64"
      ]
     },
     "execution_count": 133,
     "metadata": {},
     "output_type": "execute_result"
    }
   ],
   "source": [
    "df_multi['TIPO_FONDO'].value_counts()"
   ]
  },
  {
   "cell_type": "code",
   "execution_count": 134,
   "metadata": {},
   "outputs": [
    {
     "data": {
      "text/plain": [
       "12"
      ]
     },
     "execution_count": 134,
     "metadata": {},
     "output_type": "execute_result"
    }
   ],
   "source": [
    "df_no_multi = df_multi[(df_multi['TIPO_CARTERA'] != 'UNSECURED')]\n",
    "no_multi_count = df_no_multi.shape[0]\n",
    "no_multi_count"
   ]
  },
  {
   "cell_type": "code",
   "execution_count": 135,
   "metadata": {},
   "outputs": [
    {
     "name": "stdout",
     "output_type": "stream",
     "text": [
      "(78, 14)\n"
     ]
    },
    {
     "data": {
      "text/html": [
       "<div>\n",
       "<style scoped>\n",
       "    .dataframe tbody tr th:only-of-type {\n",
       "        vertical-align: middle;\n",
       "    }\n",
       "\n",
       "    .dataframe tbody tr th {\n",
       "        vertical-align: top;\n",
       "    }\n",
       "\n",
       "    .dataframe thead th {\n",
       "        text-align: right;\n",
       "    }\n",
       "</style>\n",
       "<table border=\"1\" class=\"dataframe\">\n",
       "  <thead>\n",
       "    <tr style=\"text-align: right;\">\n",
       "      <th></th>\n",
       "      <th>FECHA</th>\n",
       "      <th>CC</th>\n",
       "      <th>CLAVSERV</th>\n",
       "      <th>IMPORTE</th>\n",
       "      <th>MONEDA</th>\n",
       "      <th>NOMBRE</th>\n",
       "      <th>ESTADO</th>\n",
       "      <th>FLAG</th>\n",
       "      <th>CONTRATO</th>\n",
       "      <th>TIPO_FONDO</th>\n",
       "      <th>CARTERA</th>\n",
       "      <th>NOMBRE_CLIENTE</th>\n",
       "      <th>FECHA_ENVIO</th>\n",
       "      <th>ID_RESPONSABLE</th>\n",
       "    </tr>\n",
       "  </thead>\n",
       "  <tbody>\n",
       "    <tr>\n",
       "      <th>3</th>\n",
       "      <td>2024-08-27</td>\n",
       "      <td>27204708</td>\n",
       "      <td>00248</td>\n",
       "      <td>186.0</td>\n",
       "      <td>PEN</td>\n",
       "      <td>ABRAHAM ALBERTO SEMINARIO SAN MARTIN</td>\n",
       "      <td>P</td>\n",
       "      <td>2</td>\n",
       "      <td>None</td>\n",
       "      <td>None</td>\n",
       "      <td>None</td>\n",
       "      <td>ABRAHAM ALBERTO SEMINARIO SAN MARTIN</td>\n",
       "      <td>28-Ago</td>\n",
       "      <td>MIV</td>\n",
       "    </tr>\n",
       "    <tr>\n",
       "      <th>5</th>\n",
       "      <td>2024-08-27</td>\n",
       "      <td>27204708</td>\n",
       "      <td>00248</td>\n",
       "      <td>1178.0</td>\n",
       "      <td>PEN</td>\n",
       "      <td>ABRAHAM ALBERTO SEMINARIO SAN MARTIN.</td>\n",
       "      <td>P</td>\n",
       "      <td>2</td>\n",
       "      <td>None</td>\n",
       "      <td>None</td>\n",
       "      <td>None</td>\n",
       "      <td>ABRAHAM ALBERTO SEMINARIO SAN MARTIN</td>\n",
       "      <td>28-Ago</td>\n",
       "      <td>MIV</td>\n",
       "    </tr>\n",
       "    <tr>\n",
       "      <th>17</th>\n",
       "      <td>2024-08-27</td>\n",
       "      <td>30434144</td>\n",
       "      <td>00248</td>\n",
       "      <td>1484.0</td>\n",
       "      <td>PEN</td>\n",
       "      <td>ALVARADO CASTRO FRESCIA</td>\n",
       "      <td>P</td>\n",
       "      <td>2</td>\n",
       "      <td>None</td>\n",
       "      <td>None</td>\n",
       "      <td>None</td>\n",
       "      <td>FRESCIA LISET ALVARADO CASTRO</td>\n",
       "      <td>28-Ago</td>\n",
       "      <td>MIV</td>\n",
       "    </tr>\n",
       "    <tr>\n",
       "      <th>19</th>\n",
       "      <td>2024-08-27</td>\n",
       "      <td>30434144</td>\n",
       "      <td>00248</td>\n",
       "      <td>2166.0</td>\n",
       "      <td>PEN</td>\n",
       "      <td>ALVARADO CASTRO FRESCIA.</td>\n",
       "      <td>P</td>\n",
       "      <td>2</td>\n",
       "      <td>None</td>\n",
       "      <td>None</td>\n",
       "      <td>None</td>\n",
       "      <td>FRESCIA LISET ALVARADO CASTRO</td>\n",
       "      <td>28-Ago</td>\n",
       "      <td>MIV</td>\n",
       "    </tr>\n",
       "    <tr>\n",
       "      <th>22</th>\n",
       "      <td>2024-08-27</td>\n",
       "      <td>22918561</td>\n",
       "      <td>00248</td>\n",
       "      <td>300.0</td>\n",
       "      <td>PEN</td>\n",
       "      <td>ANA LUZ VIVAS AGURTO TC</td>\n",
       "      <td>P</td>\n",
       "      <td>2</td>\n",
       "      <td>None</td>\n",
       "      <td>None</td>\n",
       "      <td>None</td>\n",
       "      <td>ANA LUZ VIVAS AGURTO</td>\n",
       "      <td>28-Ago</td>\n",
       "      <td>MIV</td>\n",
       "    </tr>\n",
       "  </tbody>\n",
       "</table>\n",
       "</div>"
      ],
      "text/plain": [
       "         FECHA        CC CLAVSERV  IMPORTE MONEDA  \\\n",
       "3   2024-08-27  27204708    00248    186.0    PEN   \n",
       "5   2024-08-27  27204708    00248   1178.0    PEN   \n",
       "17  2024-08-27  30434144    00248   1484.0    PEN   \n",
       "19  2024-08-27  30434144    00248   2166.0    PEN   \n",
       "22  2024-08-27  22918561    00248    300.0    PEN   \n",
       "\n",
       "                                   NOMBRE ESTADO  FLAG CONTRATO TIPO_FONDO  \\\n",
       "3    ABRAHAM ALBERTO SEMINARIO SAN MARTIN      P     2     None       None   \n",
       "5   ABRAHAM ALBERTO SEMINARIO SAN MARTIN.      P     2     None       None   \n",
       "17                ALVARADO CASTRO FRESCIA      P     2     None       None   \n",
       "19               ALVARADO CASTRO FRESCIA.      P     2     None       None   \n",
       "22                ANA LUZ VIVAS AGURTO TC      P     2     None       None   \n",
       "\n",
       "   CARTERA                        NOMBRE_CLIENTE FECHA_ENVIO ID_RESPONSABLE  \n",
       "3     None  ABRAHAM ALBERTO SEMINARIO SAN MARTIN      28-Ago            MIV  \n",
       "5     None  ABRAHAM ALBERTO SEMINARIO SAN MARTIN      28-Ago            MIV  \n",
       "17    None         FRESCIA LISET ALVARADO CASTRO      28-Ago            MIV  \n",
       "19    None         FRESCIA LISET ALVARADO CASTRO      28-Ago            MIV  \n",
       "22    None                  ANA LUZ VIVAS AGURTO      28-Ago            MIV  "
      ]
     },
     "execution_count": 135,
     "metadata": {},
     "output_type": "execute_result"
    }
   ],
   "source": [
    "df_multi = df_multi[df_multi['TIPO_CARTERA'] == 'UNSECURED']\n",
    "\n",
    "df_multi['CONTRATO'] = None\n",
    "df_multi['TIPO_FONDO'] = None\n",
    "df_multi['CARTERA'] = None\n",
    "\n",
    "df_multi = df_multi.drop(columns=['TIPO_CARTERA', 'AGENCIA'])\n",
    "df_multi = df_multi.drop_duplicates(subset=['CC', 'IMPORTE', 'MONEDA', 'NOMBRE'])\n",
    "\n",
    "cols_multi = ['FECHA', 'CC', 'CLAVSERV', 'IMPORTE', 'MONEDA', 'NOMBRE', 'ESTADO', 'FLAG', 'CONTRATO', 'TIPO_FONDO', 'CARTERA', 'NOMBRE_CLIENTE', 'FECHA_ENVIO', 'ID_RESPONSABLE']\n",
    "df_multi = df_multi[cols_multi]\n",
    "\n",
    "print(df_multi.shape)\n",
    "df_multi.head(5)"
   ]
  },
  {
   "cell_type": "code",
   "execution_count": 136,
   "metadata": {},
   "outputs": [],
   "source": [
    "df_multi.to_excel(multiproducto, index=False)"
   ]
  },
  {
   "cell_type": "code",
   "execution_count": 137,
   "metadata": {},
   "outputs": [
    {
     "data": {
      "text/plain": [
       "78"
      ]
     },
     "execution_count": 137,
     "metadata": {},
     "output_type": "execute_result"
    }
   ],
   "source": [
    "multi_count_final = df_multi.shape[0]\n",
    "multi_count_final"
   ]
  },
  {
   "cell_type": "code",
   "execution_count": 138,
   "metadata": {},
   "outputs": [
    {
     "name": "stdout",
     "output_type": "stream",
     "text": [
      "MULTIPRODUCTO OK\n"
     ]
    }
   ],
   "source": [
    "if multi_count == multi_count_final + no_multi_count:\n",
    "    print('MULTIPRODUCTO OK')\n",
    "else:\n",
    "    print('MULTIPRODUCTO ERROR')"
   ]
  },
  {
   "cell_type": "code",
   "execution_count": 139,
   "metadata": {},
   "outputs": [],
   "source": [
    "#################### FIN MULTIPRODUCTO ####################"
   ]
  },
  {
   "cell_type": "code",
   "execution_count": 140,
   "metadata": {},
   "outputs": [],
   "source": [
    "#################### NO ENVIADOS ####################"
   ]
  },
  {
   "cell_type": "code",
   "execution_count": 141,
   "metadata": {},
   "outputs": [
    {
     "name": "stdout",
     "output_type": "stream",
     "text": [
      "No enviados: 48\n",
      "Enviados: 387\n",
      "Total: 435\n"
     ]
    }
   ],
   "source": [
    "no_eviados = no_mono_count + no_multi_count + no_flag_count\n",
    "enviados = mono_count_final + multi_count_final + reactiva_count\n",
    "\n",
    "print('No enviados:', no_eviados)\n",
    "print('Enviados:', enviados)\n",
    "print('Total:', no_eviados + enviados)"
   ]
  },
  {
   "cell_type": "code",
   "execution_count": 142,
   "metadata": {},
   "outputs": [
    {
     "name": "stdout",
     "output_type": "stream",
     "text": [
      "REGISTROS OK\n"
     ]
    }
   ],
   "source": [
    "if base_count == enviados + no_eviados:\n",
    "    print('REGISTROS OK')\n",
    "else:\n",
    "    print('REGISTROS ERROR')"
   ]
  },
  {
   "cell_type": "code",
   "execution_count": 143,
   "metadata": {},
   "outputs": [],
   "source": [
    "cols_no_enviados = ['ENTIDAD', 'FECHA', 'CC', 'CLAVSERV', 'CENTROPAGO', 'IMPORTE', 'MONEDA', 'NOMBRE', 'ESTADO', 'FLAG', 'TIPO_FONDO', 'TIPO_CARTERA', 'CONTRATO', 'ID_VTA']"
   ]
  },
  {
   "cell_type": "code",
   "execution_count": 144,
   "metadata": {},
   "outputs": [
    {
     "name": "stdout",
     "output_type": "stream",
     "text": [
      "Index(['ENTIDAD', 'FECHA', 'CC', 'CLAVSERV', 'CENTROPAGO', 'IMPORTE', 'MONEDA',\n",
      "       'NOMBRE', 'ESTADO', 'FLAG', 'TIPO_FONDO', 'TIPO_CARTERA', 'CONTRATO',\n",
      "       'ID_VTA'],\n",
      "      dtype='object')\n",
      "Index(['ENTIDAD', 'FECHA', 'CC', 'CLAVSERV', 'CENTROPAGO', 'IMPORTE', 'MONEDA',\n",
      "       'NOMBRE', 'ESTADO', 'FLAG', 'TIPO_FONDO', 'TIPO_CARTERA', 'CONTRATO',\n",
      "       'ID_VTA'],\n",
      "      dtype='object')\n",
      "Index(['ENTIDAD', 'FECHA', 'CC', 'CLAVSERV', 'CENTROPAGO', 'IMPORTE', 'MONEDA',\n",
      "       'NOMBRE', 'ESTADO', 'FLAG', 'TIPO_FONDO', 'TIPO_CARTERA', 'CONTRATO',\n",
      "       'ID_VTA'],\n",
      "      dtype='object')\n"
     ]
    }
   ],
   "source": [
    "df_no_mono = df_no_mono[cols_no_enviados]\n",
    "df_no_multi = df_no_multi[cols_no_enviados]\n",
    "df_base_no_flag = df_base_no_flag[cols_no_enviados]\n",
    "\n",
    "print(df_no_mono.columns)\n",
    "print(df_no_multi.columns)\n",
    "print(df_base_no_flag.columns)"
   ]
  },
  {
   "cell_type": "code",
   "execution_count": 145,
   "metadata": {},
   "outputs": [
    {
     "name": "stdout",
     "output_type": "stream",
     "text": [
      "(48, 14)\n",
      "ENTIDAD          object\n",
      "FECHA            object\n",
      "CC               object\n",
      "CLAVSERV         object\n",
      "CENTROPAGO        int64\n",
      "IMPORTE         float64\n",
      "MONEDA           object\n",
      "NOMBRE           object\n",
      "ESTADO           object\n",
      "FLAG              Int64\n",
      "TIPO_FONDO       object\n",
      "TIPO_CARTERA     object\n",
      "CONTRATO         object\n",
      "ID_VTA           object\n",
      "dtype: object\n"
     ]
    },
    {
     "data": {
      "text/html": [
       "<div>\n",
       "<style scoped>\n",
       "    .dataframe tbody tr th:only-of-type {\n",
       "        vertical-align: middle;\n",
       "    }\n",
       "\n",
       "    .dataframe tbody tr th {\n",
       "        vertical-align: top;\n",
       "    }\n",
       "\n",
       "    .dataframe thead th {\n",
       "        text-align: right;\n",
       "    }\n",
       "</style>\n",
       "<table border=\"1\" class=\"dataframe\">\n",
       "  <thead>\n",
       "    <tr style=\"text-align: right;\">\n",
       "      <th></th>\n",
       "      <th>ENTIDAD</th>\n",
       "      <th>FECHA</th>\n",
       "      <th>CC</th>\n",
       "      <th>CLAVSERV</th>\n",
       "      <th>CENTROPAGO</th>\n",
       "      <th>IMPORTE</th>\n",
       "      <th>MONEDA</th>\n",
       "      <th>NOMBRE</th>\n",
       "      <th>ESTADO</th>\n",
       "      <th>FLAG</th>\n",
       "      <th>TIPO_FONDO</th>\n",
       "      <th>TIPO_CARTERA</th>\n",
       "      <th>CONTRATO</th>\n",
       "      <th>ID_VTA</th>\n",
       "    </tr>\n",
       "  </thead>\n",
       "  <tbody>\n",
       "    <tr>\n",
       "      <th>0</th>\n",
       "      <td>0011</td>\n",
       "      <td>2024-08-27</td>\n",
       "      <td>23307614</td>\n",
       "      <td>00248</td>\n",
       "      <td>849</td>\n",
       "      <td>500.00</td>\n",
       "      <td>PEN</td>\n",
       "      <td>-VICTOR RAUL VELASQUEZ CENTENO</td>\n",
       "      <td>P</td>\n",
       "      <td>1</td>\n",
       "      <td>NULL</td>\n",
       "      <td>NULL</td>\n",
       "      <td>None</td>\n",
       "      <td>-</td>\n",
       "    </tr>\n",
       "    <tr>\n",
       "      <th>21</th>\n",
       "      <td>0011</td>\n",
       "      <td>2024-08-27</td>\n",
       "      <td>28123703</td>\n",
       "      <td>00248</td>\n",
       "      <td>156</td>\n",
       "      <td>20000.00</td>\n",
       "      <td>PEN</td>\n",
       "      <td>AMITEL CORP SAC .</td>\n",
       "      <td>P</td>\n",
       "      <td>1</td>\n",
       "      <td>NULL</td>\n",
       "      <td>SECURED</td>\n",
       "      <td>None</td>\n",
       "      <td>-</td>\n",
       "    </tr>\n",
       "    <tr>\n",
       "      <th>66</th>\n",
       "      <td>0011</td>\n",
       "      <td>2024-08-27</td>\n",
       "      <td>25994829</td>\n",
       "      <td>00248</td>\n",
       "      <td>361</td>\n",
       "      <td>2000.00</td>\n",
       "      <td>PEN</td>\n",
       "      <td>CASA FLAVIA SRL</td>\n",
       "      <td>P</td>\n",
       "      <td>1</td>\n",
       "      <td>REACTIVA</td>\n",
       "      <td>SECURED</td>\n",
       "      <td>None</td>\n",
       "      <td>-</td>\n",
       "    </tr>\n",
       "    <tr>\n",
       "      <th>88</th>\n",
       "      <td>0011</td>\n",
       "      <td>2024-08-27</td>\n",
       "      <td>27335710</td>\n",
       "      <td>00248</td>\n",
       "      <td>133</td>\n",
       "      <td>32781.55</td>\n",
       "      <td>PEN</td>\n",
       "      <td>CORPORACION DURANSA SAC ...</td>\n",
       "      <td>P</td>\n",
       "      <td>1</td>\n",
       "      <td>NULL</td>\n",
       "      <td>SECURED</td>\n",
       "      <td>None</td>\n",
       "      <td>-</td>\n",
       "    </tr>\n",
       "    <tr>\n",
       "      <th>199</th>\n",
       "      <td>0011</td>\n",
       "      <td>2024-08-27</td>\n",
       "      <td>30154284</td>\n",
       "      <td>00248</td>\n",
       "      <td>235</td>\n",
       "      <td>25000.00</td>\n",
       "      <td>PEN</td>\n",
       "      <td>INVERS. INMOV. CONSTRUCTORA DEL CENTRO</td>\n",
       "      <td>P</td>\n",
       "      <td>1</td>\n",
       "      <td>NULL</td>\n",
       "      <td>SECURED</td>\n",
       "      <td>None</td>\n",
       "      <td>-</td>\n",
       "    </tr>\n",
       "  </tbody>\n",
       "</table>\n",
       "</div>"
      ],
      "text/plain": [
       "    ENTIDAD       FECHA        CC CLAVSERV  CENTROPAGO   IMPORTE MONEDA  \\\n",
       "0      0011  2024-08-27  23307614    00248         849    500.00    PEN   \n",
       "21     0011  2024-08-27  28123703    00248         156  20000.00    PEN   \n",
       "66     0011  2024-08-27  25994829    00248         361   2000.00    PEN   \n",
       "88     0011  2024-08-27  27335710    00248         133  32781.55    PEN   \n",
       "199    0011  2024-08-27  30154284    00248         235  25000.00    PEN   \n",
       "\n",
       "                                     NOMBRE ESTADO  FLAG TIPO_FONDO  \\\n",
       "0            -VICTOR RAUL VELASQUEZ CENTENO      P     1       NULL   \n",
       "21                        AMITEL CORP SAC .      P     1       NULL   \n",
       "66                          CASA FLAVIA SRL      P     1   REACTIVA   \n",
       "88              CORPORACION DURANSA SAC ...      P     1       NULL   \n",
       "199  INVERS. INMOV. CONSTRUCTORA DEL CENTRO      P     1       NULL   \n",
       "\n",
       "    TIPO_CARTERA CONTRATO ID_VTA  \n",
       "0           NULL     None      -  \n",
       "21       SECURED     None      -  \n",
       "66       SECURED     None      -  \n",
       "88       SECURED     None      -  \n",
       "199      SECURED     None      -  "
      ]
     },
     "execution_count": 145,
     "metadata": {},
     "output_type": "execute_result"
    }
   ],
   "source": [
    "df_no_enviados = pd.concat([df_no_mono, df_no_multi, df_base_no_flag])\n",
    "df_no_enviados['CONTRATO'] = None\n",
    "print(df_no_enviados.shape)\n",
    "print(df_no_enviados.dtypes)\n",
    "df_no_enviados.head(5)"
   ]
  },
  {
   "cell_type": "code",
   "execution_count": 146,
   "metadata": {},
   "outputs": [
    {
     "name": "stdout",
     "output_type": "stream",
     "text": [
      "NO ENVIADOS OK\n"
     ]
    }
   ],
   "source": [
    "if no_eviados == df_no_enviados.shape[0]:\n",
    "    print('NO ENVIADOS OK')\n",
    "else:\n",
    "    print('NO ENVIADOS ERROR')"
   ]
  },
  {
   "cell_type": "code",
   "execution_count": 147,
   "metadata": {},
   "outputs": [],
   "source": [
    "df_no_enviados.to_excel(no_enviados_path, index=False)"
   ]
  },
  {
   "cell_type": "code",
   "execution_count": 148,
   "metadata": {},
   "outputs": [],
   "source": [
    "#################### FORMATO EXCEL ####################"
   ]
  },
  {
   "cell_type": "code",
   "execution_count": 149,
   "metadata": {},
   "outputs": [],
   "source": [
    "import openpyxl as op\n",
    "from openpyxl.styles import Font, PatternFill, Alignment\n",
    "\n",
    "def format_excel(file_path: str, validator: str) -> None:\n",
    "    workbook = op.load_workbook(file_path)\n",
    "    sheet = workbook.active\n",
    "    \n",
    "    # Definir estilos generales\n",
    "    general_font = Font(name='Calibri', size=11)\n",
    "    header_font = Font(name='Calibri', size=11, bold=True, color='FFFFFF')\n",
    "    alignment_center = Alignment(horizontal='center', vertical='center')\n",
    "    \n",
    "    # Definir estilos específicos\n",
    "    header_font_white = Font(name='Calibri', size=11, bold=True, color='000000')\n",
    "    header_fill_blue = PatternFill(start_color='002060', end_color='002060', fill_type='solid')\n",
    "    header_fill_yellow = PatternFill(start_color='FFD965', end_color='FFD965', fill_type='solid')\n",
    "    header_fill_green = PatternFill(start_color='C4D79B', end_color='C4D79B', fill_type='solid')\n",
    "    header_fill_orange = PatternFill(start_color='FABF8F', end_color='FABF8F', fill_type='solid')\n",
    "    \n",
    "    # Aplicar estilos generales a todas las celdas\n",
    "    for row in sheet.iter_rows():\n",
    "        for cell in row:\n",
    "            cell.font = general_font\n",
    "    \n",
    "    # Aplicar estilos al encabezado (fila 1)\n",
    "    for cell in sheet[1]:\n",
    "        cell.font = header_font\n",
    "        cell.alignment = alignment_center\n",
    "    \n",
    "    # Aplicar estilos específicos según el validador\n",
    "    if validator == 'mono':\n",
    "        for col in range(1, 10):  # Columnas A-I\n",
    "            sheet.cell(row=1, column=col).fill = header_fill_blue\n",
    "        for col in range(10, 14):  # Columnas J-M\n",
    "            sheet.cell(row=1, column=col).fill = header_fill_yellow\n",
    "            sheet.cell(row=1, column=col).font = header_font_white\n",
    "        for col in range(14, 16):  # Columnas N-O\n",
    "            sheet.cell(row=1, column=col).fill = header_fill_green\n",
    "            sheet.cell(row=1, column=col).font = header_font_white\n",
    "        for col in range(16, 17):  # Columna P\n",
    "            sheet.cell(row=1, column=col).fill = header_fill_orange\n",
    "            sheet.cell(row=1, column=col).font = header_font_white\n",
    "    \n",
    "    elif validator == 'multi':\n",
    "        for col in range(1, 10):  # Columnas A-I\n",
    "            sheet.cell(row=1, column=col).fill = header_fill_blue\n",
    "        for col in range(10, 12):  # Columnas J-K\n",
    "            sheet.cell(row=1, column=col).fill = header_fill_green\n",
    "            sheet.cell(row=1, column=col).font = header_font_white\n",
    "        for col in range(12, 15):  # Columnas L-N\n",
    "            sheet.cell(row=1, column=col).fill = header_fill_yellow\n",
    "            sheet.cell(row=1, column=col).font = header_font_white\n",
    "    \n",
    "    elif validator == 'react':\n",
    "        for col in range(1, 10):  # Columnas A-I\n",
    "            sheet.cell(row=1, column=col).fill = header_fill_blue\n",
    "        for col in range(10, 14):  # Columnas J-M\n",
    "            sheet.cell(row=1, column=col).fill = header_fill_yellow\n",
    "            sheet.cell(row=1, column=col).font = header_font_white\n",
    "        for col in range(14, 16):  # Columnas N-O\n",
    "            sheet.cell(row=1, column=col).fill = header_fill_green\n",
    "            sheet.cell(row=1, column=col).font = header_font_white\n",
    "        for col in range(16, 17):  # Columna P\n",
    "            sheet.cell(row=1, column=col).fill = header_fill_orange\n",
    "            sheet.cell(row=1, column=col).font = header_font_white\n",
    "    \n",
    "    elif validator == 'no_env':\n",
    "        for col in range(1, 11): # Columnas A-J\n",
    "            sheet.cell(row=1, column=col).fill = header_fill_blue\n",
    "        for col in range(11, 15): # Columnas K-N\n",
    "            sheet.cell(row=1, column=col).fill = header_fill_yellow\n",
    "            sheet.cell(row=1, column=col).font = header_font_white\n",
    "    \n",
    "    workbook.save(file_path)"
   ]
  },
  {
   "cell_type": "code",
   "execution_count": 150,
   "metadata": {},
   "outputs": [],
   "source": [
    "format_excel(mono_path, \"mono\")\n",
    "format_excel(multi_path, \"multi\")\n",
    "format_excel(react_path, \"react\")\n",
    "format_excel(no_enviados_path, \"no_env\")\n",
    "\n",
    "os.startfile(mono_path)\n",
    "os.startfile(multi_path)\n",
    "os.startfile(react_path)\n",
    "os.startfile(no_enviados_path)"
   ]
  }
 ],
 "metadata": {
  "kernelspec": {
   "display_name": "Python 3",
   "language": "python",
   "name": "python3"
  },
  "language_info": {
   "codemirror_mode": {
    "name": "ipython",
    "version": 3
   },
   "file_extension": ".py",
   "mimetype": "text/x-python",
   "name": "python",
   "nbconvert_exporter": "python",
   "pygments_lexer": "ipython3",
   "version": "3.12.4"
  }
 },
 "nbformat": 4,
 "nbformat_minor": 2
}
