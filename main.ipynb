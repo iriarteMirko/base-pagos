{
 "cells": [
  {
   "cell_type": "code",
   "execution_count": null,
   "metadata": {},
   "outputs": [],
   "source": [
    "from datetime import datetime\n",
    "from tkinter import messagebox\n",
    "import tkinter as tk\n",
    "import pandas as pd\n",
    "import locale\n",
    "import warnings\n",
    "import os\n",
    "\n",
    "locale.setlocale(locale.LC_TIME, 'es_ES.UTF-8')\n",
    "warnings.filterwarnings(\"ignore\")"
   ]
  },
  {
   "cell_type": "code",
   "execution_count": null,
   "metadata": {},
   "outputs": [],
   "source": [
    "def get_file_name() -> list[str]:\n",
    "    file_list = []\n",
    "    for file in os.listdir():\n",
    "        if file.endswith('.xlsx') and 'Base Pagos' in file:\n",
    "            file_list.append(file)\n",
    "    return file_list\n",
    "\n",
    "def get_last_date(dates_list: list[datetime]) -> datetime:\n",
    "    last_date = dates_list[0]\n",
    "    for date in dates_list:\n",
    "        if date > last_date:\n",
    "            last_date = date\n",
    "    return last_date\n",
    "\n",
    "def get_date(file_list: list[str]) -> str:\n",
    "    dates_list = []\n",
    "    for file in file_list:\n",
    "        fecha_list =  file.split(' ')[-1].split('.')[:3]\n",
    "        dates_list.append(datetime.strptime(fecha_list[0] + '.' + fecha_list[1] + '.' + fecha_list[2], '%d.%m.%Y'))\n",
    "    return get_last_date(dates_list).strftime('%d.%m.%Y')\n",
    "\n",
    "fecha = get_date(get_file_name())\n",
    "fecha"
   ]
  },
  {
   "cell_type": "code",
   "execution_count": null,
   "metadata": {},
   "outputs": [],
   "source": [
    "def validar_o_crear_carpeta() -> str:\n",
    "    fecha_hoy = datetime.today().strftime('%Y.%m.%d')\n",
    "    \n",
    "    carpeta_reporte = 'reporte'\n",
    "    \n",
    "    carpeta_hoy = os.path.join(carpeta_reporte, fecha_hoy)\n",
    "    \n",
    "    if not os.path.exists(carpeta_hoy):\n",
    "        os.makedirs(carpeta_hoy)\n",
    "        print(f'Carpeta creada: {carpeta_hoy}')\n",
    "    else:\n",
    "        print(f'La carpeta ya existe: {carpeta_hoy}')\n",
    "    \n",
    "    return carpeta_hoy\n",
    "\n",
    "file_path = validar_o_crear_carpeta()\n",
    "file_path"
   ]
  },
  {
   "cell_type": "code",
   "execution_count": null,
   "metadata": {},
   "outputs": [],
   "source": [
    "# PARA OPTIMIZAR BASE DE ASIGNACION\n",
    "#cols_asignacion = ['codigo', 'ID_FLAG', 'cont_18', 'nombre', 'TIPO_CARTERA', 'TIPO_FONDO', 'clave', 'AGENCIA CORRECTA', 'ID_VTA.']\n",
    "#df_asignacion_test['cont_18'] = df_asignacion_test['cont_18'].apply(lambda x: str(int(x)).zfill(18) if pd.notna(x) else x)\n",
    "#df_asignacion_test['codigo'] = df_asignacion_test['codigo'].astype('Int64').astype(str).str.zfill(8)\n",
    "#df_asignacion_test[cols_asignacion].to_excel('base_asignacion.xlsx', index=False)"
   ]
  },
  {
   "cell_type": "code",
   "execution_count": null,
   "metadata": {},
   "outputs": [],
   "source": [
    "base_pagos_path = 'Base Pagos ' + fecha + '.xlsx'\n",
    "asignacion_path = 'base_asignacion.xlsx'\n",
    "\n",
    "print(base_pagos_path)\n",
    "print(asignacion_path)\n",
    "\n",
    "monoproducto = file_path + '/MONOPRODUCTO ' + fecha + '.xlsx'\n",
    "multiproducto = file_path + '/MULTIPRODUCTO ' + fecha + '.xlsx'\n",
    "reactiva = file_path + '/REACTIVA ' + fecha + '.xlsx'\n",
    "no_enviados = file_path + '/NO ENVIADOS ' + fecha + '.xlsx'\n",
    "\n",
    "mono_path = os.path.abspath(monoproducto)\n",
    "multi_path = os.path.abspath(multiproducto)\n",
    "react_path = os.path.abspath(reactiva)\n",
    "no_enviados_path = os.path.abspath(no_enviados)\n",
    "\n",
    "print(mono_path)\n",
    "print(multi_path)\n",
    "print(react_path)\n",
    "print(no_enviados_path)"
   ]
  },
  {
   "cell_type": "code",
   "execution_count": null,
   "metadata": {},
   "outputs": [],
   "source": [
    "#################### BASE DE PAGOS ####################"
   ]
  },
  {
   "cell_type": "code",
   "execution_count": null,
   "metadata": {},
   "outputs": [],
   "source": [
    "df_base = pd.read_excel(base_pagos_path)\n",
    "print(df_base.shape)\n",
    "print(df_base.dtypes)\n",
    "df_base.head(5)"
   ]
  },
  {
   "cell_type": "code",
   "execution_count": null,
   "metadata": {},
   "outputs": [],
   "source": [
    "fecha_formateada = pd.to_datetime('today').strftime('%d-%b')\n",
    "fecha_formateada = fecha_formateada[:3] + fecha_formateada[3:].capitalize()\n",
    "\n",
    "df_base['FECHA_ENVIO'] = fecha_formateada.replace('.', '')\n",
    "df_base['ID_RESPONSABLE'] = 'MIV'\n",
    "\n",
    "cols_base = ['Entidad', 'FECHA', 'CODCEN', 'CLAVSERV', 'CENTROPAGO', 'IMPORTE', 'MONEDA', 'NOMBRE', 'ESTADO', 'FECHA_ENVIO', 'ID_RESPONSABLE']\n",
    "df_base = df_base[cols_base]\n",
    "df_base = df_base.rename(columns={'CODCEN': 'CC'})\n",
    "\n",
    "df_base['CC'] = df_base['CC'].astype('Int64').astype(str).str.zfill(8)\n",
    "df_base['CC'] = df_base['CC'].str.replace(' ', '').str.replace(r'\\D', '', regex=True).str[-8:]\n",
    "df_base['CC'] = df_base['CC'].str.zfill(8)\n",
    "\n",
    "df_base['CLAVSERV'] = df_base['CLAVSERV'].astype(str).str.zfill(5)\n",
    "\n",
    "print(df_base.shape)\n",
    "print(df_base.dtypes)\n",
    "df_base.head(5)"
   ]
  },
  {
   "cell_type": "code",
   "execution_count": null,
   "metadata": {},
   "outputs": [],
   "source": [
    "df_base.isnull().sum()"
   ]
  },
  {
   "cell_type": "code",
   "execution_count": null,
   "metadata": {},
   "outputs": [],
   "source": [
    "#################### ASIGNACION ####################"
   ]
  },
  {
   "cell_type": "code",
   "execution_count": null,
   "metadata": {},
   "outputs": [],
   "source": [
    "root = tk.Tk()\n",
    "root.attributes(\"-topmost\", True)\n",
    "root.withdraw()\n",
    "\n",
    "result = messagebox.askquestion(\"Confirmación\", \"¿Cargar base de asignación?\", icon='warning')\n",
    "if result == 'yes':\n",
    "    df_asignacion = pd.read_excel(asignacion_path)\n"
   ]
  },
  {
   "cell_type": "code",
   "execution_count": null,
   "metadata": {},
   "outputs": [],
   "source": [
    "print(df_asignacion.shape)\n",
    "print(df_asignacion.dtypes)\n",
    "df_asignacion.head(5)"
   ]
  },
  {
   "cell_type": "code",
   "execution_count": null,
   "metadata": {},
   "outputs": [],
   "source": [
    "#################### BACKUPS ####################"
   ]
  },
  {
   "cell_type": "code",
   "execution_count": null,
   "metadata": {},
   "outputs": [],
   "source": [
    "df_base_test = df_base.copy()\n",
    "print('Base', df_base_test.shape)\n",
    "\n",
    "df_asignacion_test = df_asignacion.copy()\n",
    "print('Asignacion', df_asignacion_test.shape)"
   ]
  },
  {
   "cell_type": "code",
   "execution_count": null,
   "metadata": {},
   "outputs": [],
   "source": [
    "base_count = df_base_test.shape[0]\n",
    "base_count"
   ]
  },
  {
   "cell_type": "code",
   "execution_count": null,
   "metadata": {},
   "outputs": [],
   "source": [
    "df_asignacion_test['codigo'] = df_asignacion_test['codigo'].astype('Int64').astype(str).str.zfill(8)\n",
    "\n",
    "cols_asignacion = ['codigo', 'ID_FLAG', 'cont_18', 'nombre', 'TIPO_CARTERA', 'TIPO_FONDO', 'clave', 'AGENCIA CORRECTA', 'ID_VTA.']\n",
    "df_base_test = df_base_test.merge(df_asignacion_test[cols_asignacion], left_on='CC', right_on='codigo', how='left')\n",
    "df_base_test = df_base_test.drop(columns=['codigo'])\n",
    "df_base_test = df_base_test.rename(columns={'Entidad':'ENTIDAD', 'ID_FLAG': 'FLAG', 'cont_18': 'CONTRATO', 'nombre': 'NOMBRE_CLIENTE', 'clave': 'CARTERA', 'AGENCIA CORRECTA': 'AGENCIA', 'ID_VTA.': 'ID_VTA'})\n",
    "\n",
    "df_base_test.drop_duplicates(subset=['CC', 'IMPORTE', 'MONEDA', 'NOMBRE'], keep='first', inplace=True)\n",
    "\n",
    "df_base_test['TIPO_CARTERA'] = df_base_test['TIPO_CARTERA'].fillna('NULL')\n",
    "df_base_test['TIPO_FONDO'] = df_base_test['TIPO_FONDO'].fillna('NULL')\n",
    "\n",
    "df_base_test['FLAG'] = df_base_test['FLAG'].astype('Int64')\n",
    "df_base_test['CONTRATO'] = df_base_test['CONTRATO'].apply(lambda x: str(int(x)).zfill(18) if pd.notna(x) else x)\n",
    "df_base_test['ENTIDAD'] = df_base_test['ENTIDAD'].astype('Int64').astype(str).str.zfill(4)\n",
    "\n",
    "cols_base_test = ['ENTIDAD', 'FECHA', 'CC', 'CLAVSERV', 'CENTROPAGO', 'IMPORTE', 'MONEDA', 'NOMBRE', 'ESTADO', 'FLAG', 'CONTRATO', 'NOMBRE_CLIENTE', 'FECHA_ENVIO', 'ID_RESPONSABLE', 'TIPO_CARTERA', 'TIPO_FONDO', 'CARTERA', 'AGENCIA', 'ID_VTA']\n",
    "df_base_test = df_base_test[cols_base_test]\n",
    "\n",
    "print(df_base_test.shape)\n",
    "print(df_base_test.dtypes)\n",
    "df_base_test.head(5)"
   ]
  },
  {
   "cell_type": "code",
   "execution_count": null,
   "metadata": {},
   "outputs": [],
   "source": [
    "if base_count == df_base_test.shape[0]:\n",
    "    print('REGISTROS OK')\n",
    "elif base_count > df_base_test.shape[0]:\n",
    "    print('Se han perdido registros')\n",
    "else:\n",
    "    print('Se han duplicado registros: ', df_base_test.shape[0] - base_count)"
   ]
  },
  {
   "cell_type": "code",
   "execution_count": null,
   "metadata": {},
   "outputs": [],
   "source": [
    "df_base_test.shape"
   ]
  },
  {
   "cell_type": "code",
   "execution_count": null,
   "metadata": {},
   "outputs": [],
   "source": [
    "df_base_no_flag = df_base_test[df_base_test['FLAG'].isnull()]\n",
    "df_base_no_flag.shape"
   ]
  },
  {
   "cell_type": "code",
   "execution_count": null,
   "metadata": {},
   "outputs": [],
   "source": [
    "no_flag_count = df_base_no_flag.shape[0]\n",
    "no_flag_count"
   ]
  },
  {
   "cell_type": "code",
   "execution_count": null,
   "metadata": {},
   "outputs": [],
   "source": [
    "flag_count = base_count - no_flag_count\n",
    "flag_count"
   ]
  },
  {
   "cell_type": "code",
   "execution_count": null,
   "metadata": {},
   "outputs": [],
   "source": [
    "#################### MONOPRODUCTO ####################"
   ]
  },
  {
   "cell_type": "code",
   "execution_count": null,
   "metadata": {},
   "outputs": [],
   "source": [
    "df_mono = df_base_test[df_base_test['FLAG'] == 1]\n",
    "print(df_mono.shape)\n",
    "df_mono.head(5)"
   ]
  },
  {
   "cell_type": "code",
   "execution_count": null,
   "metadata": {},
   "outputs": [],
   "source": [
    "mono_count = df_mono.shape[0]\n",
    "mono_count"
   ]
  },
  {
   "cell_type": "code",
   "execution_count": null,
   "metadata": {},
   "outputs": [],
   "source": [
    "df_mono['TIPO_CARTERA'].value_counts()"
   ]
  },
  {
   "cell_type": "code",
   "execution_count": null,
   "metadata": {},
   "outputs": [],
   "source": [
    "df_mono['TIPO_FONDO'].value_counts()"
   ]
  },
  {
   "cell_type": "code",
   "execution_count": null,
   "metadata": {},
   "outputs": [],
   "source": [
    "df_mono[['TIPO_CARTERA', 'TIPO_FONDO']].value_counts()"
   ]
  },
  {
   "cell_type": "code",
   "execution_count": null,
   "metadata": {},
   "outputs": [],
   "source": [
    "#################### MONO REACTIVA ####################"
   ]
  },
  {
   "cell_type": "code",
   "execution_count": null,
   "metadata": {},
   "outputs": [],
   "source": [
    "df_reactiva = df_mono[(df_mono['TIPO_CARTERA'] == 'UNSECURED') & (df_mono['TIPO_FONDO'] == 'REACTIVA')]\n",
    "df_reactiva.drop(columns=['ENTIDAD', 'CENTROPAGO', 'ID_VTA'], inplace=True)\n",
    "df_reactiva.sort_values(by=['CC'], inplace=True)\n",
    "df_reactiva.reset_index(drop=True, inplace=True)\n",
    "print(df_reactiva.shape)\n",
    "df_reactiva.head(5)"
   ]
  },
  {
   "cell_type": "code",
   "execution_count": null,
   "metadata": {},
   "outputs": [],
   "source": [
    "reactiva_count = df_reactiva.shape[0]\n",
    "reactiva_count"
   ]
  },
  {
   "cell_type": "code",
   "execution_count": null,
   "metadata": {},
   "outputs": [],
   "source": [
    "df_reactiva.to_excel(reactiva, index=False)"
   ]
  },
  {
   "cell_type": "code",
   "execution_count": null,
   "metadata": {},
   "outputs": [],
   "source": [
    "#################### FIN REACTIVA ####################"
   ]
  },
  {
   "cell_type": "code",
   "execution_count": null,
   "metadata": {},
   "outputs": [],
   "source": [
    "df_no_mono = df_mono[(df_mono['TIPO_CARTERA'] != 'UNSECURED')]\n",
    "no_mono_count = df_no_mono.shape[0]\n",
    "no_mono_count"
   ]
  },
  {
   "cell_type": "code",
   "execution_count": null,
   "metadata": {},
   "outputs": [],
   "source": [
    "df_mono = df_mono[df_mono['TIPO_CARTERA'] == 'UNSECURED']\n",
    "df_mono = df_mono[df_mono['TIPO_FONDO'] == 'NULL']\n",
    "print(df_mono.shape)"
   ]
  },
  {
   "cell_type": "code",
   "execution_count": null,
   "metadata": {},
   "outputs": [],
   "source": [
    "df_mono['CONTRATO'] = df_mono['CONTRATO'].astype(str).str.zfill(18)"
   ]
  },
  {
   "cell_type": "code",
   "execution_count": null,
   "metadata": {},
   "outputs": [],
   "source": [
    "df_mono.drop(columns=['ENTIDAD', 'CENTROPAGO', 'ID_VTA'], inplace=True)\n",
    "\n",
    "\n",
    "\n",
    "print(df_mono.shape)\n",
    "df_mono.head(5)"
   ]
  },
  {
   "cell_type": "code",
   "execution_count": null,
   "metadata": {},
   "outputs": [],
   "source": [
    "df_mono.to_excel(monoproducto, index=False)"
   ]
  },
  {
   "cell_type": "code",
   "execution_count": null,
   "metadata": {},
   "outputs": [],
   "source": [
    "mono_count_final = df_mono.shape[0]\n",
    "mono_count_final"
   ]
  },
  {
   "cell_type": "code",
   "execution_count": null,
   "metadata": {},
   "outputs": [],
   "source": [
    "if mono_count == mono_count_final + reactiva_count + no_mono_count:\n",
    "    print('MONOPRODUCTO OK')\n",
    "else:\n",
    "    print('MONOPRODUCTO ERROR')"
   ]
  },
  {
   "cell_type": "code",
   "execution_count": null,
   "metadata": {},
   "outputs": [],
   "source": [
    "#################### FIN MONOPRODUCTO ####################"
   ]
  },
  {
   "cell_type": "code",
   "execution_count": null,
   "metadata": {},
   "outputs": [],
   "source": [
    "#################### MULTIPRODUCTO ####################"
   ]
  },
  {
   "cell_type": "code",
   "execution_count": null,
   "metadata": {},
   "outputs": [],
   "source": [
    "df_multi = df_base_test[df_base_test['FLAG'] > 1].copy()\n",
    "print(df_multi.shape)\n",
    "df_multi.head(5)"
   ]
  },
  {
   "cell_type": "code",
   "execution_count": null,
   "metadata": {},
   "outputs": [],
   "source": [
    "multi_count = df_multi.shape[0]\n",
    "multi_count"
   ]
  },
  {
   "cell_type": "code",
   "execution_count": null,
   "metadata": {},
   "outputs": [],
   "source": [
    "df_multi['TIPO_CARTERA'].value_counts()"
   ]
  },
  {
   "cell_type": "code",
   "execution_count": null,
   "metadata": {},
   "outputs": [],
   "source": [
    "df_multi['TIPO_FONDO'].value_counts()"
   ]
  },
  {
   "cell_type": "code",
   "execution_count": null,
   "metadata": {},
   "outputs": [],
   "source": [
    "df_no_multi = df_multi[(df_multi['TIPO_CARTERA'] != 'UNSECURED')]\n",
    "no_multi_count = df_no_multi.shape[0]\n",
    "no_multi_count"
   ]
  },
  {
   "cell_type": "code",
   "execution_count": null,
   "metadata": {},
   "outputs": [],
   "source": [
    "df_multi = df_multi[df_multi['TIPO_CARTERA'] == 'UNSECURED']\n",
    "\n",
    "df_multi['CONTRATO'] = None\n",
    "#df_multi['TIPO_FONDO'] = None\n",
    "df_multi['CARTERA'] = None\n",
    "\n",
    "df_multi = df_multi.drop(columns=['TIPO_CARTERA', 'AGENCIA'])\n",
    "df_multi = df_multi.drop_duplicates(subset=['CC', 'IMPORTE', 'MONEDA', 'NOMBRE'])\n",
    "\n",
    "cols_multi = ['FECHA', 'CC', 'CLAVSERV', 'IMPORTE', 'MONEDA', 'NOMBRE', 'ESTADO', 'FLAG', 'CONTRATO', 'TIPO_FONDO', 'CARTERA', 'NOMBRE_CLIENTE', 'FECHA_ENVIO', 'ID_RESPONSABLE']\n",
    "df_multi = df_multi[cols_multi]\n",
    "\n",
    "df_multi.sort_values(by=['CC'], inplace=True)\n",
    "df_multi.reset_index(drop=True, inplace=True)\n",
    "\n",
    "print(df_multi.shape)\n",
    "df_multi.head(5)"
   ]
  },
  {
   "cell_type": "code",
   "execution_count": null,
   "metadata": {},
   "outputs": [],
   "source": [
    "df_multi.to_excel(multiproducto, index=False)"
   ]
  },
  {
   "cell_type": "code",
   "execution_count": null,
   "metadata": {},
   "outputs": [],
   "source": [
    "multi_count_final = df_multi.shape[0]\n",
    "multi_count_final"
   ]
  },
  {
   "cell_type": "code",
   "execution_count": null,
   "metadata": {},
   "outputs": [],
   "source": [
    "if multi_count == multi_count_final + no_multi_count:\n",
    "    print('MULTIPRODUCTO OK')\n",
    "else:\n",
    "    print('MULTIPRODUCTO ERROR')"
   ]
  },
  {
   "cell_type": "code",
   "execution_count": null,
   "metadata": {},
   "outputs": [],
   "source": [
    "#################### FIN MULTIPRODUCTO ####################"
   ]
  },
  {
   "cell_type": "code",
   "execution_count": null,
   "metadata": {},
   "outputs": [],
   "source": [
    "#################### NO ENVIADOS ####################"
   ]
  },
  {
   "cell_type": "code",
   "execution_count": null,
   "metadata": {},
   "outputs": [],
   "source": [
    "no_eviados = no_mono_count + no_multi_count + no_flag_count\n",
    "enviados = mono_count_final + multi_count_final + reactiva_count\n",
    "\n",
    "print('No enviados:', no_eviados)\n",
    "print('Enviados:', enviados)\n",
    "print('Total:', no_eviados + enviados)"
   ]
  },
  {
   "cell_type": "code",
   "execution_count": null,
   "metadata": {},
   "outputs": [],
   "source": [
    "if base_count == enviados + no_eviados:\n",
    "    print('REGISTROS OK')\n",
    "else:\n",
    "    print('REGISTROS ERROR')"
   ]
  },
  {
   "cell_type": "code",
   "execution_count": null,
   "metadata": {},
   "outputs": [],
   "source": [
    "cols_no_enviados = ['ENTIDAD', 'FECHA', 'CC', 'CLAVSERV', 'CENTROPAGO', 'IMPORTE', 'MONEDA', 'NOMBRE', 'ESTADO', 'FLAG', 'TIPO_FONDO', 'TIPO_CARTERA', 'CONTRATO', 'ID_VTA']"
   ]
  },
  {
   "cell_type": "code",
   "execution_count": null,
   "metadata": {},
   "outputs": [],
   "source": [
    "df_no_mono = df_no_mono[cols_no_enviados]\n",
    "df_no_multi = df_no_multi[cols_no_enviados]\n",
    "df_base_no_flag = df_base_no_flag[cols_no_enviados]\n",
    "\n",
    "print(df_no_mono.columns)\n",
    "print(df_no_multi.columns)\n",
    "print(df_base_no_flag.columns)"
   ]
  },
  {
   "cell_type": "code",
   "execution_count": null,
   "metadata": {},
   "outputs": [],
   "source": [
    "df_no_enviados = pd.concat([df_no_mono, df_no_multi, df_base_no_flag])\n",
    "df_no_enviados['CONTRATO'] = None\n",
    "\n",
    "df_no_enviados.sort_values(by=['CC'], inplace=True)\n",
    "df_no_enviados.reset_index(drop=True, inplace=True)\n",
    "\n",
    "print(df_no_enviados.shape)\n",
    "print(df_no_enviados.dtypes)\n",
    "df_no_enviados.head(5)"
   ]
  },
  {
   "cell_type": "code",
   "execution_count": null,
   "metadata": {},
   "outputs": [],
   "source": [
    "if no_eviados == df_no_enviados.shape[0]:\n",
    "    print('NO ENVIADOS OK')\n",
    "else:\n",
    "    print('NO ENVIADOS ERROR')"
   ]
  },
  {
   "cell_type": "code",
   "execution_count": null,
   "metadata": {},
   "outputs": [],
   "source": [
    "df_no_enviados.to_excel(no_enviados_path, index=False)"
   ]
  },
  {
   "cell_type": "code",
   "execution_count": null,
   "metadata": {},
   "outputs": [],
   "source": [
    "#################### FORMATO EXCEL ####################"
   ]
  },
  {
   "cell_type": "code",
   "execution_count": null,
   "metadata": {},
   "outputs": [],
   "source": [
    "import openpyxl as op\n",
    "from openpyxl.styles import Font, PatternFill, Alignment\n",
    "\n",
    "def format_excel(file_path: str, validator: str) -> None:\n",
    "    workbook = op.load_workbook(file_path)\n",
    "    sheet = workbook.active\n",
    "    \n",
    "    # Definir estilos generales\n",
    "    general_font = Font(name='Calibri', size=11)\n",
    "    header_font = Font(name='Calibri', size=11, bold=True, color='FFFFFF')\n",
    "    alignment_center = Alignment(horizontal='center', vertical='center')\n",
    "    \n",
    "    # Definir estilos específicos\n",
    "    header_font_white = Font(name='Calibri', size=11, bold=True, color='000000')\n",
    "    header_fill_blue = PatternFill(start_color='002060', end_color='002060', fill_type='solid')\n",
    "    header_fill_yellow = PatternFill(start_color='FFD965', end_color='FFD965', fill_type='solid')\n",
    "    header_fill_green = PatternFill(start_color='C4D79B', end_color='C4D79B', fill_type='solid')\n",
    "    header_fill_orange = PatternFill(start_color='FABF8F', end_color='FABF8F', fill_type='solid')\n",
    "    \n",
    "    # Aplicar estilos generales a todas las celdas\n",
    "    for row in sheet.iter_rows():\n",
    "        for cell in row:\n",
    "            cell.font = general_font\n",
    "    \n",
    "    # Aplicar estilos al encabezado (fila 1)\n",
    "    for cell in sheet[1]:\n",
    "        cell.font = header_font\n",
    "        cell.alignment = alignment_center\n",
    "    \n",
    "    # Aplicar estilos específicos según el validador\n",
    "    if validator == 'mono':\n",
    "        for col in range(1, 10):  # Columnas A-I\n",
    "            sheet.cell(row=1, column=col).fill = header_fill_blue\n",
    "        for col in range(10, 14):  # Columnas J-M\n",
    "            sheet.cell(row=1, column=col).fill = header_fill_yellow\n",
    "            sheet.cell(row=1, column=col).font = header_font_white\n",
    "        for col in range(14, 16):  # Columnas N-O\n",
    "            sheet.cell(row=1, column=col).fill = header_fill_green\n",
    "            sheet.cell(row=1, column=col).font = header_font_white\n",
    "        for col in range(16, 17):  # Columna P\n",
    "            sheet.cell(row=1, column=col).fill = header_fill_orange\n",
    "            sheet.cell(row=1, column=col).font = header_font_white\n",
    "    \n",
    "    elif validator == 'multi':\n",
    "        for col in range(1, 10):  # Columnas A-I\n",
    "            sheet.cell(row=1, column=col).fill = header_fill_blue\n",
    "        for col in range(10, 12):  # Columnas J-K\n",
    "            sheet.cell(row=1, column=col).fill = header_fill_green\n",
    "            sheet.cell(row=1, column=col).font = header_font_white\n",
    "        for col in range(12, 15):  # Columnas L-N\n",
    "            sheet.cell(row=1, column=col).fill = header_fill_yellow\n",
    "            sheet.cell(row=1, column=col).font = header_font_white\n",
    "    \n",
    "    elif validator == 'react':\n",
    "        for col in range(1, 10):  # Columnas A-I\n",
    "            sheet.cell(row=1, column=col).fill = header_fill_blue\n",
    "        for col in range(10, 14):  # Columnas J-M\n",
    "            sheet.cell(row=1, column=col).fill = header_fill_yellow\n",
    "            sheet.cell(row=1, column=col).font = header_font_white\n",
    "        for col in range(14, 16):  # Columnas N-O\n",
    "            sheet.cell(row=1, column=col).fill = header_fill_green\n",
    "            sheet.cell(row=1, column=col).font = header_font_white\n",
    "        for col in range(16, 17):  # Columna P\n",
    "            sheet.cell(row=1, column=col).fill = header_fill_orange\n",
    "            sheet.cell(row=1, column=col).font = header_font_white\n",
    "    \n",
    "    elif validator == 'no_env':\n",
    "        for col in range(1, 11): # Columnas A-J\n",
    "            sheet.cell(row=1, column=col).fill = header_fill_blue\n",
    "        for col in range(11, 15): # Columnas K-N\n",
    "            sheet.cell(row=1, column=col).fill = header_fill_yellow\n",
    "            sheet.cell(row=1, column=col).font = header_font_white\n",
    "    \n",
    "    workbook.save(file_path)"
   ]
  },
  {
   "cell_type": "code",
   "execution_count": null,
   "metadata": {},
   "outputs": [],
   "source": [
    "format_excel(mono_path, \"mono\")\n",
    "format_excel(multi_path, \"multi\")\n",
    "format_excel(react_path, \"react\")\n",
    "format_excel(no_enviados_path, \"no_env\")\n",
    "\n",
    "os.startfile(mono_path)\n",
    "os.startfile(multi_path)\n",
    "os.startfile(react_path)\n",
    "os.startfile(no_enviados_path)"
   ]
  }
 ],
 "metadata": {
  "kernelspec": {
   "display_name": "Python 3",
   "language": "python",
   "name": "python3"
  },
  "language_info": {
   "codemirror_mode": {
    "name": "ipython",
    "version": 3
   },
   "file_extension": ".py",
   "mimetype": "text/x-python",
   "name": "python",
   "nbconvert_exporter": "python",
   "pygments_lexer": "ipython3",
   "version": "3.12.4"
  }
 },
 "nbformat": 4,
 "nbformat_minor": 2
}
