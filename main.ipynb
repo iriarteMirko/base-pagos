{
 "cells": [
  {
   "cell_type": "code",
   "execution_count": null,
   "metadata": {},
   "outputs": [],
   "source": [
    "from datetime import datetime\n",
    "import pandas as pd\n",
    "import os\n",
    "import warnings\n",
    "\n",
    "warnings.filterwarnings(\"ignore\")"
   ]
  },
  {
   "cell_type": "code",
   "execution_count": null,
   "metadata": {},
   "outputs": [],
   "source": [
    "hoy = datetime.now().strftime(\"%d.%m.%Y\")\n",
    "ayer = datetime.now() - pd.DateOffset(days=1)\n",
    "ayer = ayer.strftime(\"%d.%m.%Y\")\n",
    "\n",
    "print(\"Hoy: \", hoy)\n",
    "print(\"Ayer: \", ayer)"
   ]
  },
  {
   "cell_type": "code",
   "execution_count": null,
   "metadata": {},
   "outputs": [],
   "source": [
    "base_pagos_path = \"Base Pagos \" + ayer + \".xlsx\"  \n",
    "asignacion_path = \"base_asignacion_20240809.xlsx\"\n",
    "monoproducto = \"monoproducto/MONOPRODUCTO \" + hoy + \".xlsx\"\n",
    "multiproducto = \"multiproducto/MULTIPRODUCTO \" + hoy + \".xlsx\"\n",
    "reactiva = \"reactiva/REACTIVA \" + hoy + \".xlsx\""
   ]
  },
  {
   "cell_type": "code",
   "execution_count": null,
   "metadata": {},
   "outputs": [],
   "source": [
    "df_base = pd.read_excel(base_pagos_path)\n",
    "print(df_base.shape)\n",
    "print(df_base.dtypes)\n",
    "df_base.head(5)"
   ]
  },
  {
   "cell_type": "code",
   "execution_count": null,
   "metadata": {},
   "outputs": [],
   "source": [
    "df_base['FECHA_ENVIO'] = pd.to_datetime('today').strftime('%d-%b')\n",
    "df_base['ID_RESPONSABLE'] = 'MIV'\n",
    "\n",
    "cols_base = ['FECHA', 'CODCEN', 'CLAVSERV', 'IMPORTE', 'MONEDA', 'NOMBRE', 'ESTADO', 'FECHA_ENVIO', 'ID_RESPONSABLE']\n",
    "df_base = df_base[cols_base]\n",
    "df_base = df_base.rename(columns={'CODCEN': 'CC'})\n",
    "\n",
    "df_base['CC'] = df_base['CC'].astype(\"Int64\").astype(str).str.zfill(8)\n",
    "df_base['CC'] = df_base['CC'].str.replace(' ', '').str.replace(r'\\D', '', regex=True).str[-8:]\n",
    "df_base['CC'] = df_base['CC'].str.zfill(8)\n",
    "\n",
    "df_base['CLAVSERV'] = df_base[\"CLAVSERV\"].astype(str).str.zfill(5)\n",
    "\n",
    "print(df_base.shape)\n",
    "print(df_base.dtypes)\n",
    "df_base.head(5)"
   ]
  },
  {
   "cell_type": "code",
   "execution_count": null,
   "metadata": {},
   "outputs": [],
   "source": [
    "df_base.isnull().sum()"
   ]
  },
  {
   "cell_type": "code",
   "execution_count": null,
   "metadata": {},
   "outputs": [],
   "source": [
    "#################### ASIGNACION ####################"
   ]
  },
  {
   "cell_type": "code",
   "execution_count": null,
   "metadata": {},
   "outputs": [],
   "source": [
    "df_asignacion = pd.read_excel(asignacion_path)\n",
    "print(df_asignacion.shape)\n",
    "print(df_asignacion.dtypes)\n",
    "df_asignacion.head(5)"
   ]
  },
  {
   "cell_type": "code",
   "execution_count": null,
   "metadata": {},
   "outputs": [],
   "source": [
    "#################### COPIAS ####################"
   ]
  },
  {
   "cell_type": "code",
   "execution_count": null,
   "metadata": {},
   "outputs": [],
   "source": [
    "df_base_test = df_base.copy()\n",
    "print(\"Base\", df_base_test.shape)\n",
    "\n",
    "df_asignacion_test = df_asignacion.copy()\n",
    "print(\"Asignacion\", df_asignacion_test.shape)"
   ]
  },
  {
   "cell_type": "code",
   "execution_count": null,
   "metadata": {},
   "outputs": [],
   "source": [
    "df_asignacion_test['codigo'] = df_asignacion_test['codigo'].astype(\"Int64\").astype(str).str.zfill(8)\n",
    "\n",
    "cols_asignacion = ['codigo', 'ID_FLAG', 'cont_18', 'nombre', 'TIPO_CARTERA', 'TIPO_FONDO', 'clave', 'AGENCIA CORRECTA']\n",
    "df_base_test = df_base_test.merge(df_asignacion_test[cols_asignacion], left_on='CC', right_on='codigo', how='left')\n",
    "df_base_test = df_base_test.drop(columns=['codigo'])\n",
    "df_base_test = df_base_test.rename(columns={'ID_FLAG': 'FLAG', 'cont_18': 'CONTRATO', 'nombre': 'NOMBRE_CLIENTE', 'clave': 'CARTERA', 'AGENCIA CORRECTA': 'AGENCIA'})\n",
    "\n",
    "df_base_test[\"TIPO_CARTERA\"] = df_base_test[\"TIPO_CARTERA\"].fillna(\"NULL\")\n",
    "df_base_test[\"TIPO_FONDO\"] = df_base_test[\"TIPO_FONDO\"].fillna(\"NULL\")\n",
    "\n",
    "df_base_test[\"FLAG\"] = df_base_test[\"FLAG\"].astype(\"Int64\")\n",
    "df_base_test[\"CONTRATO\"] = df_base_test[\"CONTRATO\"].apply(lambda x: str(int(x)).zfill(18) if pd.notna(x) else x)\n",
    "\n",
    "cols_base_test = ['FECHA', 'CC', 'CLAVSERV', 'IMPORTE', 'MONEDA', 'NOMBRE', 'ESTADO', 'FLAG', 'CONTRATO', 'NOMBRE_CLIENTE', 'FECHA_ENVIO', 'ID_RESPONSABLE', 'TIPO_CARTERA', 'TIPO_FONDO', 'CARTERA', 'AGENCIA']\n",
    "df_base_test = df_base_test[cols_base_test]\n",
    "\n",
    "print(df_base_test.shape)\n",
    "print(df_base_test.dtypes)\n",
    "df_base_test.head(5)"
   ]
  },
  {
   "cell_type": "code",
   "execution_count": null,
   "metadata": {},
   "outputs": [],
   "source": [
    "#################### MONOPRODUCTO ####################"
   ]
  },
  {
   "cell_type": "code",
   "execution_count": null,
   "metadata": {},
   "outputs": [],
   "source": [
    "df_mono = df_base_test[df_base_test[\"FLAG\"] == 1]\n",
    "print(df_mono.shape)\n",
    "df_mono.head(5)"
   ]
  },
  {
   "cell_type": "code",
   "execution_count": null,
   "metadata": {},
   "outputs": [],
   "source": [
    "df_mono[\"TIPO_CARTERA\"].value_counts()"
   ]
  },
  {
   "cell_type": "code",
   "execution_count": null,
   "metadata": {},
   "outputs": [],
   "source": [
    "df_mono[\"TIPO_FONDO\"].value_counts()"
   ]
  },
  {
   "cell_type": "code",
   "execution_count": null,
   "metadata": {},
   "outputs": [],
   "source": [
    "df_mono[[\"TIPO_CARTERA\", \"TIPO_FONDO\"]].value_counts()"
   ]
  },
  {
   "cell_type": "code",
   "execution_count": null,
   "metadata": {},
   "outputs": [],
   "source": [
    "#################### MONO REACTIVA ####################"
   ]
  },
  {
   "cell_type": "code",
   "execution_count": null,
   "metadata": {},
   "outputs": [],
   "source": [
    "df_reactiva = df_mono[(df_mono[\"TIPO_CARTERA\"] == \"UNSECURED\") & (df_mono[\"TIPO_FONDO\"] == \"REACTIVA\")]\n",
    "print(df_reactiva.shape)\n",
    "df_reactiva.head(5)"
   ]
  },
  {
   "cell_type": "code",
   "execution_count": null,
   "metadata": {},
   "outputs": [],
   "source": [
    "df_reactiva.to_excel(reactiva, index=False)"
   ]
  },
  {
   "cell_type": "code",
   "execution_count": null,
   "metadata": {},
   "outputs": [],
   "source": [
    "#################### FIN REACTIVA ####################"
   ]
  },
  {
   "cell_type": "code",
   "execution_count": null,
   "metadata": {},
   "outputs": [],
   "source": [
    "df_mono = df_mono[df_mono[\"TIPO_CARTERA\"] == \"UNSECURED\"]\n",
    "df_mono = df_mono[df_mono[\"TIPO_FONDO\"] == \"NULL\"]\n",
    "print(df_mono.shape)"
   ]
  },
  {
   "cell_type": "code",
   "execution_count": null,
   "metadata": {},
   "outputs": [],
   "source": [
    "df_mono[\"CONTRATO\"] = df_mono[\"CONTRATO\"].astype(str).str.zfill(18)"
   ]
  },
  {
   "cell_type": "code",
   "execution_count": null,
   "metadata": {},
   "outputs": [],
   "source": [
    "df_mono.to_excel(monoproducto, index=False)"
   ]
  },
  {
   "cell_type": "code",
   "execution_count": null,
   "metadata": {},
   "outputs": [],
   "source": [
    "#################### FIN MONOPRODUCTO ####################"
   ]
  },
  {
   "cell_type": "code",
   "execution_count": null,
   "metadata": {},
   "outputs": [],
   "source": [
    "#################### MULTIPRODUCTO ####################"
   ]
  },
  {
   "cell_type": "code",
   "execution_count": null,
   "metadata": {},
   "outputs": [],
   "source": [
    "df_multi = df_base_test[df_base_test[\"FLAG\"] > 1].copy()\n",
    "print(df_multi.shape)\n",
    "df_multi.head(5)"
   ]
  },
  {
   "cell_type": "code",
   "execution_count": null,
   "metadata": {},
   "outputs": [],
   "source": [
    "df_multi = df_multi[df_multi[\"TIPO_CARTERA\"] == \"UNSECURED\"]\n",
    "df_multi = df_multi[df_multi[\"MONEDA\"] == \"PEN\"]\n",
    "\n",
    "df_multi[\"CONTRATO\"] = None\n",
    "df_multi[\"TIPO_FONDO\"] = None\n",
    "df_multi[\"CARTERA\"] = None\n",
    "df_multi = df_multi.drop(columns=['TIPO_CARTERA', 'AGENCIA'])\n",
    "df_multi = df_multi.drop_duplicates()\n",
    "\n",
    "cols_multi = ['FECHA', 'CC', 'CLAVSERV', 'IMPORTE', 'MONEDA', 'NOMBRE', 'ESTADO', 'FLAG', 'CONTRATO', 'TIPO_FONDO', 'CARTERA', 'NOMBRE_CLIENTE', 'FECHA_ENVIO', 'ID_RESPONSABLE']\n",
    "df_multi = df_multi[cols_multi]\n",
    "\n",
    "print(df_multi.shape)\n",
    "df_multi.head(5)"
   ]
  },
  {
   "cell_type": "code",
   "execution_count": null,
   "metadata": {},
   "outputs": [],
   "source": [
    "df_multi.to_excel(multiproducto, index=False)"
   ]
  },
  {
   "cell_type": "code",
   "execution_count": null,
   "metadata": {},
   "outputs": [],
   "source": [
    "#################### FIN MULTIPRODUCTO ####################"
   ]
  },
  {
   "cell_type": "code",
   "execution_count": null,
   "metadata": {},
   "outputs": [],
   "source": [
    "#################### ABRIR ARCHIVOS ####################"
   ]
  },
  {
   "cell_type": "code",
   "execution_count": null,
   "metadata": {},
   "outputs": [],
   "source": [
    "os.startfile(os.path.abspath(monoproducto))\n",
    "os.startfile(os.path.abspath(multiproducto))\n",
    "os.startfile(os.path.abspath(reactiva))"
   ]
  },
  {
   "cell_type": "code",
   "execution_count": null,
   "metadata": {},
   "outputs": [],
   "source": [
    "#################### FIN ####################"
   ]
  }
 ],
 "metadata": {
  "kernelspec": {
   "display_name": "Python 3",
   "language": "python",
   "name": "python3"
  },
  "language_info": {
   "codemirror_mode": {
    "name": "ipython",
    "version": 3
   },
   "file_extension": ".py",
   "mimetype": "text/x-python",
   "name": "python",
   "nbconvert_exporter": "python",
   "pygments_lexer": "ipython3",
   "version": "3.10.9"
  }
 },
 "nbformat": 4,
 "nbformat_minor": 2
}
