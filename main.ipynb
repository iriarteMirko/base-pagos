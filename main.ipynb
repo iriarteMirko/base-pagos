{
 "cells": [
  {
   "cell_type": "code",
   "execution_count": 380,
   "metadata": {},
   "outputs": [],
   "source": [
    "from datetime import datetime\n",
    "from tkinter import messagebox\n",
    "import tkinter as tk\n",
    "import pandas as pd\n",
    "import locale\n",
    "import warnings\n",
    "import os\n",
    "\n",
    "locale.setlocale(locale.LC_TIME, 'es_ES.UTF-8')\n",
    "warnings.filterwarnings(\"ignore\")"
   ]
  },
  {
   "cell_type": "code",
   "execution_count": 381,
   "metadata": {},
   "outputs": [
    {
     "data": {
      "text/plain": [
       "'02.09.2024'"
      ]
     },
     "execution_count": 381,
     "metadata": {},
     "output_type": "execute_result"
    }
   ],
   "source": [
    "def get_file_name() -> list[str]:\n",
    "    file_list = []\n",
    "    for file in os.listdir('bases/'):\n",
    "        if file.endswith('.xlsx') and 'Base Pagos' in file:\n",
    "            file_list.append(file)\n",
    "    return file_list\n",
    "\n",
    "def get_last_date(dates_list: list[datetime]) -> datetime:\n",
    "    last_date = dates_list[0]\n",
    "    for date in dates_list:\n",
    "        if date > last_date:\n",
    "            last_date = date\n",
    "    return last_date\n",
    "\n",
    "def get_date(file_list: list[str]) -> str:\n",
    "    dates_list = []\n",
    "    for file in file_list:\n",
    "        fecha_list =  file.split(' ')[-1].split('.')[:3]\n",
    "        dates_list.append(datetime.strptime(fecha_list[0] + '.' + fecha_list[1] + '.' + fecha_list[2], '%d.%m.%Y'))\n",
    "    return get_last_date(dates_list).strftime('%d.%m.%Y')\n",
    "\n",
    "fecha = get_date(get_file_name())\n",
    "fecha"
   ]
  },
  {
   "cell_type": "code",
   "execution_count": 382,
   "metadata": {},
   "outputs": [
    {
     "name": "stdout",
     "output_type": "stream",
     "text": [
      "La carpeta ya existe: reporte\\2024.09.03\n"
     ]
    },
    {
     "data": {
      "text/plain": [
       "'reporte\\\\2024.09.03'"
      ]
     },
     "execution_count": 382,
     "metadata": {},
     "output_type": "execute_result"
    }
   ],
   "source": [
    "def validar_o_crear_carpeta() -> str:\n",
    "    fecha_hoy = datetime.today().strftime('%Y.%m.%d')\n",
    "    \n",
    "    carpeta_reporte = 'reporte'\n",
    "    \n",
    "    carpeta_hoy = os.path.join(carpeta_reporte, fecha_hoy)\n",
    "    \n",
    "    if not os.path.exists(carpeta_hoy):\n",
    "        os.makedirs(carpeta_hoy)\n",
    "        print(f'Carpeta creada: {carpeta_hoy}')\n",
    "    else:\n",
    "        print(f'La carpeta ya existe: {carpeta_hoy}')\n",
    "    \n",
    "    return carpeta_hoy\n",
    "\n",
    "file_path = validar_o_crear_carpeta()\n",
    "file_path"
   ]
  },
  {
   "cell_type": "code",
   "execution_count": 383,
   "metadata": {},
   "outputs": [
    {
     "name": "stdout",
     "output_type": "stream",
     "text": [
      "bases/Base Pagos 02.09.2024.xlsx\n",
      "bases/base_asignacion.xlsx\n",
      "c:\\Users\\miria\\Documents\\Mirko\\BBVA\\GitHub\\base-pagos\\reporte\\2024.09.03\\MONOPRODUCTO 02.09.2024.xlsx\n",
      "c:\\Users\\miria\\Documents\\Mirko\\BBVA\\GitHub\\base-pagos\\reporte\\2024.09.03\\MULTIPRODUCTO 02.09.2024.xlsx\n",
      "c:\\Users\\miria\\Documents\\Mirko\\BBVA\\GitHub\\base-pagos\\reporte\\2024.09.03\\REACTIVA 02.09.2024.xlsx\n",
      "c:\\Users\\miria\\Documents\\Mirko\\BBVA\\GitHub\\base-pagos\\reporte\\2024.09.03\\NO ENVIADOS 02.09.2024.xlsx\n"
     ]
    }
   ],
   "source": [
    "base_pagos_path = 'bases/Base Pagos ' + fecha + '.xlsx'\n",
    "asignacion_path = 'bases/base_asignacion.xlsx'\n",
    "\n",
    "print(base_pagos_path)\n",
    "print(asignacion_path)\n",
    "\n",
    "monoproducto = file_path + '/MONOPRODUCTO ' + fecha + '.xlsx'\n",
    "multiproducto = file_path + '/MULTIPRODUCTO ' + fecha + '.xlsx'\n",
    "reactiva = file_path + '/REACTIVA ' + fecha + '.xlsx'\n",
    "no_enviados = file_path + '/NO ENVIADOS ' + fecha + '.xlsx'\n",
    "\n",
    "mono_path = os.path.abspath(monoproducto)\n",
    "multi_path = os.path.abspath(multiproducto)\n",
    "react_path = os.path.abspath(reactiva)\n",
    "no_enviados_path = os.path.abspath(no_enviados)\n",
    "\n",
    "print(mono_path)\n",
    "print(multi_path)\n",
    "print(react_path)\n",
    "print(no_enviados_path)"
   ]
  },
  {
   "cell_type": "code",
   "execution_count": 384,
   "metadata": {},
   "outputs": [],
   "source": [
    "#################### BASE DE PAGOS ####################"
   ]
  },
  {
   "cell_type": "code",
   "execution_count": 385,
   "metadata": {},
   "outputs": [
    {
     "name": "stdout",
     "output_type": "stream",
     "text": [
      "(114, 9)\n",
      "Entidad         int64\n",
      "FECHA          object\n",
      "CODCEN          int64\n",
      "CLAVSERV        int64\n",
      "CENTROPAGO      int64\n",
      "IMPORTE       float64\n",
      "MONEDA         object\n",
      "NOMBRE         object\n",
      "ESTADO         object\n",
      "dtype: object\n"
     ]
    },
    {
     "data": {
      "text/html": [
       "<div>\n",
       "<style scoped>\n",
       "    .dataframe tbody tr th:only-of-type {\n",
       "        vertical-align: middle;\n",
       "    }\n",
       "\n",
       "    .dataframe tbody tr th {\n",
       "        vertical-align: top;\n",
       "    }\n",
       "\n",
       "    .dataframe thead th {\n",
       "        text-align: right;\n",
       "    }\n",
       "</style>\n",
       "<table border=\"1\" class=\"dataframe\">\n",
       "  <thead>\n",
       "    <tr style=\"text-align: right;\">\n",
       "      <th></th>\n",
       "      <th>Entidad</th>\n",
       "      <th>FECHA</th>\n",
       "      <th>CODCEN</th>\n",
       "      <th>CLAVSERV</th>\n",
       "      <th>CENTROPAGO</th>\n",
       "      <th>IMPORTE</th>\n",
       "      <th>MONEDA</th>\n",
       "      <th>NOMBRE</th>\n",
       "      <th>ESTADO</th>\n",
       "    </tr>\n",
       "  </thead>\n",
       "  <tbody>\n",
       "    <tr>\n",
       "      <th>0</th>\n",
       "      <td>11</td>\n",
       "      <td>2024-08-31</td>\n",
       "      <td>24693403</td>\n",
       "      <td>248</td>\n",
       "      <td>832</td>\n",
       "      <td>3000.00</td>\n",
       "      <td>PEN</td>\n",
       "      <td>-OMAR NICEFORO VENTURA CUEVA</td>\n",
       "      <td>P</td>\n",
       "    </tr>\n",
       "    <tr>\n",
       "      <th>1</th>\n",
       "      <td>11</td>\n",
       "      <td>2024-08-31</td>\n",
       "      <td>26255158</td>\n",
       "      <td>248</td>\n",
       "      <td>879</td>\n",
       "      <td>500.00</td>\n",
       "      <td>PEN</td>\n",
       "      <td>CARLOS GUILLERMO MU･OZ MAZUELOS 01/08/24</td>\n",
       "      <td>P</td>\n",
       "    </tr>\n",
       "    <tr>\n",
       "      <th>2</th>\n",
       "      <td>11</td>\n",
       "      <td>2024-08-31</td>\n",
       "      <td>21044214</td>\n",
       "      <td>248</td>\n",
       "      <td>970</td>\n",
       "      <td>200.00</td>\n",
       "      <td>PEN</td>\n",
       "      <td>CARMEN ISABEL GIRALDO AYALA....</td>\n",
       "      <td>P</td>\n",
       "    </tr>\n",
       "    <tr>\n",
       "      <th>3</th>\n",
       "      <td>11</td>\n",
       "      <td>2024-09-02</td>\n",
       "      <td>26731386</td>\n",
       "      <td>248</td>\n",
       "      <td>597</td>\n",
       "      <td>8000.00</td>\n",
       "      <td>PEN</td>\n",
       "      <td>BERTHA UNTIVEROS SUAREZ  45766607</td>\n",
       "      <td>P</td>\n",
       "    </tr>\n",
       "    <tr>\n",
       "      <th>4</th>\n",
       "      <td>11</td>\n",
       "      <td>2024-09-02</td>\n",
       "      <td>24153942</td>\n",
       "      <td>248</td>\n",
       "      <td>123</td>\n",
       "      <td>231.51</td>\n",
       "      <td>PEN</td>\n",
       "      <td>001101835002240287/</td>\n",
       "      <td>P</td>\n",
       "    </tr>\n",
       "  </tbody>\n",
       "</table>\n",
       "</div>"
      ],
      "text/plain": [
       "   Entidad       FECHA    CODCEN  CLAVSERV  CENTROPAGO  IMPORTE MONEDA  \\\n",
       "0       11  2024-08-31  24693403       248         832  3000.00    PEN   \n",
       "1       11  2024-08-31  26255158       248         879   500.00    PEN   \n",
       "2       11  2024-08-31  21044214       248         970   200.00    PEN   \n",
       "3       11  2024-09-02  26731386       248         597  8000.00    PEN   \n",
       "4       11  2024-09-02  24153942       248         123   231.51    PEN   \n",
       "\n",
       "                                     NOMBRE ESTADO  \n",
       "0              -OMAR NICEFORO VENTURA CUEVA      P  \n",
       "1  CARLOS GUILLERMO MU･OZ MAZUELOS 01/08/24      P  \n",
       "2           CARMEN ISABEL GIRALDO AYALA....      P  \n",
       "3         BERTHA UNTIVEROS SUAREZ  45766607      P  \n",
       "4                       001101835002240287/      P  "
      ]
     },
     "execution_count": 385,
     "metadata": {},
     "output_type": "execute_result"
    }
   ],
   "source": [
    "df_base = pd.read_excel(base_pagos_path)\n",
    "print(df_base.shape)\n",
    "print(df_base.dtypes)\n",
    "df_base.head(5)"
   ]
  },
  {
   "cell_type": "code",
   "execution_count": 386,
   "metadata": {},
   "outputs": [
    {
     "name": "stdout",
     "output_type": "stream",
     "text": [
      "(114, 10)\n",
      "FECHA              object\n",
      "CC                 object\n",
      "CLAVSERV           object\n",
      "CENTROPAGO          int64\n",
      "IMPORTE           float64\n",
      "MONEDA             object\n",
      "NOMBRE             object\n",
      "ESTADO             object\n",
      "FECHA_ENVIO        object\n",
      "ID_RESPONSABLE     object\n",
      "dtype: object\n"
     ]
    },
    {
     "data": {
      "text/html": [
       "<div>\n",
       "<style scoped>\n",
       "    .dataframe tbody tr th:only-of-type {\n",
       "        vertical-align: middle;\n",
       "    }\n",
       "\n",
       "    .dataframe tbody tr th {\n",
       "        vertical-align: top;\n",
       "    }\n",
       "\n",
       "    .dataframe thead th {\n",
       "        text-align: right;\n",
       "    }\n",
       "</style>\n",
       "<table border=\"1\" class=\"dataframe\">\n",
       "  <thead>\n",
       "    <tr style=\"text-align: right;\">\n",
       "      <th></th>\n",
       "      <th>FECHA</th>\n",
       "      <th>CC</th>\n",
       "      <th>CLAVSERV</th>\n",
       "      <th>CENTROPAGO</th>\n",
       "      <th>IMPORTE</th>\n",
       "      <th>MONEDA</th>\n",
       "      <th>NOMBRE</th>\n",
       "      <th>ESTADO</th>\n",
       "      <th>FECHA_ENVIO</th>\n",
       "      <th>ID_RESPONSABLE</th>\n",
       "    </tr>\n",
       "  </thead>\n",
       "  <tbody>\n",
       "    <tr>\n",
       "      <th>0</th>\n",
       "      <td>2024-08-31</td>\n",
       "      <td>24693403</td>\n",
       "      <td>00248</td>\n",
       "      <td>832</td>\n",
       "      <td>3000.00</td>\n",
       "      <td>PEN</td>\n",
       "      <td>-OMAR NICEFORO VENTURA CUEVA</td>\n",
       "      <td>P</td>\n",
       "      <td>03-Sep</td>\n",
       "      <td>MIV</td>\n",
       "    </tr>\n",
       "    <tr>\n",
       "      <th>1</th>\n",
       "      <td>2024-08-31</td>\n",
       "      <td>26255158</td>\n",
       "      <td>00248</td>\n",
       "      <td>879</td>\n",
       "      <td>500.00</td>\n",
       "      <td>PEN</td>\n",
       "      <td>CARLOS GUILLERMO MU･OZ MAZUELOS 01/08/24</td>\n",
       "      <td>P</td>\n",
       "      <td>03-Sep</td>\n",
       "      <td>MIV</td>\n",
       "    </tr>\n",
       "    <tr>\n",
       "      <th>2</th>\n",
       "      <td>2024-08-31</td>\n",
       "      <td>21044214</td>\n",
       "      <td>00248</td>\n",
       "      <td>970</td>\n",
       "      <td>200.00</td>\n",
       "      <td>PEN</td>\n",
       "      <td>CARMEN ISABEL GIRALDO AYALA....</td>\n",
       "      <td>P</td>\n",
       "      <td>03-Sep</td>\n",
       "      <td>MIV</td>\n",
       "    </tr>\n",
       "    <tr>\n",
       "      <th>3</th>\n",
       "      <td>2024-09-02</td>\n",
       "      <td>26731386</td>\n",
       "      <td>00248</td>\n",
       "      <td>597</td>\n",
       "      <td>8000.00</td>\n",
       "      <td>PEN</td>\n",
       "      <td>BERTHA UNTIVEROS SUAREZ  45766607</td>\n",
       "      <td>P</td>\n",
       "      <td>03-Sep</td>\n",
       "      <td>MIV</td>\n",
       "    </tr>\n",
       "    <tr>\n",
       "      <th>4</th>\n",
       "      <td>2024-09-02</td>\n",
       "      <td>24153942</td>\n",
       "      <td>00248</td>\n",
       "      <td>123</td>\n",
       "      <td>231.51</td>\n",
       "      <td>PEN</td>\n",
       "      <td>001101835002240287/</td>\n",
       "      <td>P</td>\n",
       "      <td>03-Sep</td>\n",
       "      <td>MIV</td>\n",
       "    </tr>\n",
       "  </tbody>\n",
       "</table>\n",
       "</div>"
      ],
      "text/plain": [
       "        FECHA        CC CLAVSERV  CENTROPAGO  IMPORTE MONEDA  \\\n",
       "0  2024-08-31  24693403    00248         832  3000.00    PEN   \n",
       "1  2024-08-31  26255158    00248         879   500.00    PEN   \n",
       "2  2024-08-31  21044214    00248         970   200.00    PEN   \n",
       "3  2024-09-02  26731386    00248         597  8000.00    PEN   \n",
       "4  2024-09-02  24153942    00248         123   231.51    PEN   \n",
       "\n",
       "                                     NOMBRE ESTADO FECHA_ENVIO ID_RESPONSABLE  \n",
       "0              -OMAR NICEFORO VENTURA CUEVA      P      03-Sep            MIV  \n",
       "1  CARLOS GUILLERMO MU･OZ MAZUELOS 01/08/24      P      03-Sep            MIV  \n",
       "2           CARMEN ISABEL GIRALDO AYALA....      P      03-Sep            MIV  \n",
       "3         BERTHA UNTIVEROS SUAREZ  45766607      P      03-Sep            MIV  \n",
       "4                       001101835002240287/      P      03-Sep            MIV  "
      ]
     },
     "execution_count": 386,
     "metadata": {},
     "output_type": "execute_result"
    }
   ],
   "source": [
    "fecha_formateada = pd.to_datetime('today').strftime('%d-%b')\n",
    "fecha_formateada = fecha_formateada[:3] + fecha_formateada[3:].capitalize()\n",
    "\n",
    "df_base['FECHA_ENVIO'] = fecha_formateada.replace('.', '')\n",
    "df_base['ID_RESPONSABLE'] = 'MIV'\n",
    "\n",
    "cols_base = ['FECHA', 'CODCEN', 'CLAVSERV', 'CENTROPAGO', 'IMPORTE', 'MONEDA', 'NOMBRE', 'ESTADO', 'FECHA_ENVIO', 'ID_RESPONSABLE']\n",
    "df_base = df_base[cols_base]\n",
    "df_base = df_base.rename(columns={'CODCEN': 'CC'})\n",
    "\n",
    "df_base['CC'] = df_base['CC'].astype('Int64').astype(str).str.zfill(8)\n",
    "df_base['CC'] = df_base['CC'].str.replace(' ', '').str.replace(r'\\D', '', regex=True).str[-8:]\n",
    "df_base['CC'] = df_base['CC'].str.zfill(8)\n",
    "\n",
    "df_base['CLAVSERV'] = df_base['CLAVSERV'].astype(str).str.zfill(5)\n",
    "\n",
    "print(df_base.shape)\n",
    "print(df_base.dtypes)\n",
    "df_base.head(5)"
   ]
  },
  {
   "cell_type": "code",
   "execution_count": 387,
   "metadata": {},
   "outputs": [
    {
     "data": {
      "text/plain": [
       "FECHA             0\n",
       "CC                0\n",
       "CLAVSERV          0\n",
       "CENTROPAGO        0\n",
       "IMPORTE           0\n",
       "MONEDA            0\n",
       "NOMBRE            0\n",
       "ESTADO            0\n",
       "FECHA_ENVIO       0\n",
       "ID_RESPONSABLE    0\n",
       "dtype: int64"
      ]
     },
     "execution_count": 387,
     "metadata": {},
     "output_type": "execute_result"
    }
   ],
   "source": [
    "df_base.isnull().sum()"
   ]
  },
  {
   "cell_type": "code",
   "execution_count": 388,
   "metadata": {},
   "outputs": [],
   "source": [
    "#################### ASIGNACION ####################"
   ]
  },
  {
   "cell_type": "code",
   "execution_count": 389,
   "metadata": {},
   "outputs": [],
   "source": [
    "root = tk.Tk()\n",
    "root.attributes(\"-topmost\", True)\n",
    "root.withdraw()\n",
    "\n",
    "result = messagebox.askquestion(\"Confirmación\", \"¿Cargar base de asignación?\", icon='warning')\n",
    "if result == 'yes':\n",
    "    df_asignacion = pd.read_excel(asignacion_path)\n"
   ]
  },
  {
   "cell_type": "code",
   "execution_count": 390,
   "metadata": {},
   "outputs": [
    {
     "name": "stdout",
     "output_type": "stream",
     "text": [
      "(242511, 9)\n",
      "codigo               int64\n",
      "ID_FLAG              int64\n",
      "cont_18              int64\n",
      "nombre              object\n",
      "TIPO_CARTERA        object\n",
      "TIPO_FONDO          object\n",
      "clave               object\n",
      "AGENCIA CORRECTA    object\n",
      "ID_VTA.             object\n",
      "dtype: object\n"
     ]
    },
    {
     "data": {
      "text/html": [
       "<div>\n",
       "<style scoped>\n",
       "    .dataframe tbody tr th:only-of-type {\n",
       "        vertical-align: middle;\n",
       "    }\n",
       "\n",
       "    .dataframe tbody tr th {\n",
       "        vertical-align: top;\n",
       "    }\n",
       "\n",
       "    .dataframe thead th {\n",
       "        text-align: right;\n",
       "    }\n",
       "</style>\n",
       "<table border=\"1\" class=\"dataframe\">\n",
       "  <thead>\n",
       "    <tr style=\"text-align: right;\">\n",
       "      <th></th>\n",
       "      <th>codigo</th>\n",
       "      <th>ID_FLAG</th>\n",
       "      <th>cont_18</th>\n",
       "      <th>nombre</th>\n",
       "      <th>TIPO_CARTERA</th>\n",
       "      <th>TIPO_FONDO</th>\n",
       "      <th>clave</th>\n",
       "      <th>AGENCIA CORRECTA</th>\n",
       "      <th>ID_VTA.</th>\n",
       "    </tr>\n",
       "  </thead>\n",
       "  <tbody>\n",
       "    <tr>\n",
       "      <th>0</th>\n",
       "      <td>30739481</td>\n",
       "      <td>2</td>\n",
       "      <td>1100109600055161</td>\n",
       "      <td>DINA CHOQUE FERNANDEZ</td>\n",
       "      <td>UNSECURED</td>\n",
       "      <td>NaN</td>\n",
       "      <td>BC</td>\n",
       "      <td>MORNESE MORA</td>\n",
       "      <td>-</td>\n",
       "    </tr>\n",
       "    <tr>\n",
       "      <th>1</th>\n",
       "      <td>30739481</td>\n",
       "      <td>2</td>\n",
       "      <td>1100109600057679</td>\n",
       "      <td>DINA CHOQUE FERNANDEZ</td>\n",
       "      <td>UNSECURED</td>\n",
       "      <td>NaN</td>\n",
       "      <td>BC</td>\n",
       "      <td>MORNESE MORA</td>\n",
       "      <td>-</td>\n",
       "    </tr>\n",
       "    <tr>\n",
       "      <th>2</th>\n",
       "      <td>21874900</td>\n",
       "      <td>4</td>\n",
       "      <td>1100505000360222</td>\n",
       "      <td>JULIA ANGELICA SOTO COTRINA</td>\n",
       "      <td>UNSECURED</td>\n",
       "      <td>NaN</td>\n",
       "      <td>BC</td>\n",
       "      <td>ASESCOM RJ</td>\n",
       "      <td>-</td>\n",
       "    </tr>\n",
       "    <tr>\n",
       "      <th>3</th>\n",
       "      <td>30293392</td>\n",
       "      <td>1</td>\n",
       "      <td>1101305002987960</td>\n",
       "      <td>INNOVA FASHION GROUPSAC</td>\n",
       "      <td>UNSECURED</td>\n",
       "      <td>NaN</td>\n",
       "      <td>BC</td>\n",
       "      <td>CLASA MORA</td>\n",
       "      <td>-</td>\n",
       "    </tr>\n",
       "    <tr>\n",
       "      <th>4</th>\n",
       "      <td>20687681</td>\n",
       "      <td>1</td>\n",
       "      <td>1101749600365104</td>\n",
       "      <td>ELIZABETH HAYDEE CORDOVA AMAYA</td>\n",
       "      <td>UNSECURED</td>\n",
       "      <td>NaN</td>\n",
       "      <td>BC</td>\n",
       "      <td>RodriguezAngobaldo</td>\n",
       "      <td>-</td>\n",
       "    </tr>\n",
       "  </tbody>\n",
       "</table>\n",
       "</div>"
      ],
      "text/plain": [
       "     codigo  ID_FLAG           cont_18                          nombre  \\\n",
       "0  30739481        2  1100109600055161           DINA CHOQUE FERNANDEZ   \n",
       "1  30739481        2  1100109600057679           DINA CHOQUE FERNANDEZ   \n",
       "2  21874900        4  1100505000360222     JULIA ANGELICA SOTO COTRINA   \n",
       "3  30293392        1  1101305002987960         INNOVA FASHION GROUPSAC   \n",
       "4  20687681        1  1101749600365104  ELIZABETH HAYDEE CORDOVA AMAYA   \n",
       "\n",
       "  TIPO_CARTERA TIPO_FONDO clave    AGENCIA CORRECTA ID_VTA.  \n",
       "0    UNSECURED        NaN    BC        MORNESE MORA       -  \n",
       "1    UNSECURED        NaN    BC        MORNESE MORA       -  \n",
       "2    UNSECURED        NaN    BC          ASESCOM RJ       -  \n",
       "3    UNSECURED        NaN    BC          CLASA MORA       -  \n",
       "4    UNSECURED        NaN    BC  RodriguezAngobaldo       -  "
      ]
     },
     "execution_count": 390,
     "metadata": {},
     "output_type": "execute_result"
    }
   ],
   "source": [
    "print(df_asignacion.shape)\n",
    "print(df_asignacion.dtypes)\n",
    "df_asignacion.head(5)"
   ]
  },
  {
   "cell_type": "code",
   "execution_count": 391,
   "metadata": {},
   "outputs": [],
   "source": [
    "#################### BACKUPS ####################"
   ]
  },
  {
   "cell_type": "code",
   "execution_count": 392,
   "metadata": {},
   "outputs": [
    {
     "name": "stdout",
     "output_type": "stream",
     "text": [
      "Base (114, 10)\n",
      "Asignacion (242511, 9)\n"
     ]
    }
   ],
   "source": [
    "df_base_test = df_base.copy()\n",
    "print('Base', df_base_test.shape)\n",
    "\n",
    "df_asignacion_test = df_asignacion.copy()\n",
    "print('Asignacion', df_asignacion_test.shape)"
   ]
  },
  {
   "cell_type": "code",
   "execution_count": 393,
   "metadata": {},
   "outputs": [
    {
     "data": {
      "text/plain": [
       "114"
      ]
     },
     "execution_count": 393,
     "metadata": {},
     "output_type": "execute_result"
    }
   ],
   "source": [
    "base_count = df_base_test.shape[0]\n",
    "base_count"
   ]
  },
  {
   "cell_type": "code",
   "execution_count": 394,
   "metadata": {},
   "outputs": [],
   "source": [
    "def actualizar_tipo_cartera(grupo: pd.DataFrame) -> pd.DataFrame:\n",
    "    if 'UNSECURED' in grupo['TIPO_CARTERA'].values:\n",
    "        grupo['TIPO_CARTERA'] = 'UNSECURED'\n",
    "    return grupo"
   ]
  },
  {
   "cell_type": "code",
   "execution_count": 395,
   "metadata": {},
   "outputs": [
    {
     "name": "stdout",
     "output_type": "stream",
     "text": [
      "(114, 17)\n",
      "FECHA              object\n",
      "CC                 object\n",
      "CLAVSERV           object\n",
      "CENTROPAGO          int64\n",
      "IMPORTE           float64\n",
      "MONEDA             object\n",
      "NOMBRE             object\n",
      "ESTADO             object\n",
      "FLAG                Int64\n",
      "CONTRATO           object\n",
      "TIPO_FONDO         object\n",
      "CARTERA            object\n",
      "NOMBRE_CLIENTE     object\n",
      "FECHA_ENVIO        object\n",
      "ID_RESPONSABLE     object\n",
      "TIPO_CARTERA       object\n",
      "AGENCIA            object\n",
      "dtype: object\n"
     ]
    },
    {
     "data": {
      "text/html": [
       "<div>\n",
       "<style scoped>\n",
       "    .dataframe tbody tr th:only-of-type {\n",
       "        vertical-align: middle;\n",
       "    }\n",
       "\n",
       "    .dataframe tbody tr th {\n",
       "        vertical-align: top;\n",
       "    }\n",
       "\n",
       "    .dataframe thead th {\n",
       "        text-align: right;\n",
       "    }\n",
       "</style>\n",
       "<table border=\"1\" class=\"dataframe\">\n",
       "  <thead>\n",
       "    <tr style=\"text-align: right;\">\n",
       "      <th></th>\n",
       "      <th>FECHA</th>\n",
       "      <th>CC</th>\n",
       "      <th>CLAVSERV</th>\n",
       "      <th>CENTROPAGO</th>\n",
       "      <th>IMPORTE</th>\n",
       "      <th>MONEDA</th>\n",
       "      <th>NOMBRE</th>\n",
       "      <th>ESTADO</th>\n",
       "      <th>FLAG</th>\n",
       "      <th>CONTRATO</th>\n",
       "      <th>TIPO_FONDO</th>\n",
       "      <th>CARTERA</th>\n",
       "      <th>NOMBRE_CLIENTE</th>\n",
       "      <th>FECHA_ENVIO</th>\n",
       "      <th>ID_RESPONSABLE</th>\n",
       "      <th>TIPO_CARTERA</th>\n",
       "      <th>AGENCIA</th>\n",
       "    </tr>\n",
       "  </thead>\n",
       "  <tbody>\n",
       "    <tr>\n",
       "      <th>0</th>\n",
       "      <td>2024-09-02</td>\n",
       "      <td>01836935</td>\n",
       "      <td>00248</td>\n",
       "      <td>142</td>\n",
       "      <td>1000.0</td>\n",
       "      <td>PEN</td>\n",
       "      <td>MARCIAL AUGUSTO SOLIS VASQUEZ.....</td>\n",
       "      <td>P</td>\n",
       "      <td>1</td>\n",
       "      <td>001101759600256572</td>\n",
       "      <td>NULL</td>\n",
       "      <td>KSTBC</td>\n",
       "      <td>MARCIAL AUGUSTO SOLIS VASQUEZ</td>\n",
       "      <td>03-Sep</td>\n",
       "      <td>MIV</td>\n",
       "      <td>UNSECURED</td>\n",
       "      <td>CLASA MORA</td>\n",
       "    </tr>\n",
       "    <tr>\n",
       "      <th>1</th>\n",
       "      <td>2024-09-02</td>\n",
       "      <td>04101561</td>\n",
       "      <td>00248</td>\n",
       "      <td>87</td>\n",
       "      <td>2000.0</td>\n",
       "      <td>PEN</td>\n",
       "      <td>SANTOS MORAN CISNERON1</td>\n",
       "      <td>P</td>\n",
       "      <td>1</td>\n",
       "      <td>001102745001992697</td>\n",
       "      <td>NULL</td>\n",
       "      <td>KSTBC</td>\n",
       "      <td>SANTOS MORAN CISNERON</td>\n",
       "      <td>03-Sep</td>\n",
       "      <td>MIV</td>\n",
       "      <td>UNSECURED</td>\n",
       "      <td>CLASA MORA</td>\n",
       "    </tr>\n",
       "    <tr>\n",
       "      <th>2</th>\n",
       "      <td>2024-08-31</td>\n",
       "      <td>09839518</td>\n",
       "      <td>00248</td>\n",
       "      <td>215</td>\n",
       "      <td>1500.0</td>\n",
       "      <td>PEN</td>\n",
       "      <td>ROBERTO ELEODORO VELASQUEZ MORALES.</td>\n",
       "      <td>P</td>\n",
       "      <td>1</td>\n",
       "      <td>001102155001157281</td>\n",
       "      <td>NULL</td>\n",
       "      <td>BC</td>\n",
       "      <td>ROBERTO ELEODORO VELASQUEZ MORALES</td>\n",
       "      <td>03-Sep</td>\n",
       "      <td>MIV</td>\n",
       "      <td>SECURED</td>\n",
       "      <td>SIN AGENCIA</td>\n",
       "    </tr>\n",
       "    <tr>\n",
       "      <th>3</th>\n",
       "      <td>2024-08-31</td>\n",
       "      <td>20157603</td>\n",
       "      <td>00248</td>\n",
       "      <td>164</td>\n",
       "      <td>100.0</td>\n",
       "      <td>PEN</td>\n",
       "      <td>LUIS ARMANDO FIERRE TRUJILLO</td>\n",
       "      <td>P</td>\n",
       "      <td>1</td>\n",
       "      <td>001104085006185487</td>\n",
       "      <td>NULL</td>\n",
       "      <td>EXJ</td>\n",
       "      <td>LUIS ARMANDO FIERRO TRUJILLO</td>\n",
       "      <td>03-Sep</td>\n",
       "      <td>MIV</td>\n",
       "      <td>UNSECURED</td>\n",
       "      <td>CLASA MORA</td>\n",
       "    </tr>\n",
       "    <tr>\n",
       "      <th>4</th>\n",
       "      <td>2024-09-02</td>\n",
       "      <td>20275065</td>\n",
       "      <td>00248</td>\n",
       "      <td>127</td>\n",
       "      <td>150.0</td>\n",
       "      <td>PEN</td>\n",
       "      <td>MARIA EUGENIA SALAZAR SALVATIERRA</td>\n",
       "      <td>P</td>\n",
       "      <td>2</td>\n",
       "      <td>001104085009944508</td>\n",
       "      <td>NULL</td>\n",
       "      <td>KSTBC</td>\n",
       "      <td>MARIA EUGENIA SALAZAR SALVATIERRA</td>\n",
       "      <td>03-Sep</td>\n",
       "      <td>MIV</td>\n",
       "      <td>UNSECURED</td>\n",
       "      <td>MORNESE MORA</td>\n",
       "    </tr>\n",
       "  </tbody>\n",
       "</table>\n",
       "</div>"
      ],
      "text/plain": [
       "        FECHA        CC CLAVSERV  CENTROPAGO  IMPORTE MONEDA  \\\n",
       "0  2024-09-02  01836935    00248         142   1000.0    PEN   \n",
       "1  2024-09-02  04101561    00248          87   2000.0    PEN   \n",
       "2  2024-08-31  09839518    00248         215   1500.0    PEN   \n",
       "3  2024-08-31  20157603    00248         164    100.0    PEN   \n",
       "4  2024-09-02  20275065    00248         127    150.0    PEN   \n",
       "\n",
       "                                NOMBRE ESTADO  FLAG            CONTRATO  \\\n",
       "0   MARCIAL AUGUSTO SOLIS VASQUEZ.....      P     1  001101759600256572   \n",
       "1               SANTOS MORAN CISNERON1      P     1  001102745001992697   \n",
       "2  ROBERTO ELEODORO VELASQUEZ MORALES.      P     1  001102155001157281   \n",
       "3         LUIS ARMANDO FIERRE TRUJILLO      P     1  001104085006185487   \n",
       "4    MARIA EUGENIA SALAZAR SALVATIERRA      P     2  001104085009944508   \n",
       "\n",
       "  TIPO_FONDO CARTERA                      NOMBRE_CLIENTE FECHA_ENVIO  \\\n",
       "0       NULL   KSTBC       MARCIAL AUGUSTO SOLIS VASQUEZ      03-Sep   \n",
       "1       NULL   KSTBC               SANTOS MORAN CISNERON      03-Sep   \n",
       "2       NULL      BC  ROBERTO ELEODORO VELASQUEZ MORALES      03-Sep   \n",
       "3       NULL     EXJ        LUIS ARMANDO FIERRO TRUJILLO      03-Sep   \n",
       "4       NULL   KSTBC   MARIA EUGENIA SALAZAR SALVATIERRA      03-Sep   \n",
       "\n",
       "  ID_RESPONSABLE TIPO_CARTERA       AGENCIA  \n",
       "0            MIV    UNSECURED    CLASA MORA  \n",
       "1            MIV    UNSECURED    CLASA MORA  \n",
       "2            MIV      SECURED   SIN AGENCIA  \n",
       "3            MIV    UNSECURED    CLASA MORA  \n",
       "4            MIV    UNSECURED  MORNESE MORA  "
      ]
     },
     "execution_count": 395,
     "metadata": {},
     "output_type": "execute_result"
    }
   ],
   "source": [
    "df_asignacion_test['codigo'] = df_asignacion_test['codigo'].astype('Int64').astype(str).str.zfill(8)\n",
    "\n",
    "cols_asignacion = ['codigo', 'ID_FLAG', 'cont_18', 'nombre', 'TIPO_CARTERA', 'TIPO_FONDO', 'clave', 'AGENCIA CORRECTA']\n",
    "df_base_test = df_base_test.merge(df_asignacion_test[cols_asignacion], left_on='CC', right_on='codigo', how='left')\n",
    "df_base_test = df_base_test.drop(columns=['codigo'])\n",
    "df_base_test = df_base_test.rename(columns={'ID_FLAG': 'FLAG', 'cont_18': 'CONTRATO', 'nombre': 'NOMBRE_CLIENTE', 'clave': 'CARTERA', 'AGENCIA CORRECTA': 'AGENCIA'})\n",
    "df_base_test.sort_values(by=['TIPO_CARTERA'], ascending=False, inplace=True)\n",
    "df_base_test.sort_values(by=['CC'], ascending=True, inplace=True)\n",
    "\n",
    "filtro = (df_base_test['FLAG'] != 1) & (df_base_test['FLAG'].notna())\n",
    "df_base_filtro = df_base_test.loc[filtro].groupby('CC').apply(actualizar_tipo_cartera).reset_index(drop=True)\n",
    "df_base_test = df_base_test.merge(df_base_filtro[['CC', 'TIPO_CARTERA']], on='CC', how='left', suffixes=('', '_y'))\n",
    "df_base_test['TIPO_CARTERA_FINAL'] = df_base_test['TIPO_CARTERA_y'].fillna(df_base_test['TIPO_CARTERA'])\n",
    "df_base_test = df_base_test.drop(columns=['TIPO_CARTERA', 'TIPO_CARTERA_y'])\n",
    "df_base_test = df_base_test.rename(columns={'TIPO_CARTERA_FINAL': 'TIPO_CARTERA'})\n",
    "#26497246\n",
    "df_base_test.drop_duplicates(subset=['CC', 'IMPORTE', 'MONEDA', 'NOMBRE'], keep='first', inplace=True)\n",
    "\n",
    "df_base_test['TIPO_CARTERA'] = df_base_test['TIPO_CARTERA'].fillna('NULL')\n",
    "df_base_test['TIPO_FONDO'] = df_base_test['TIPO_FONDO'].fillna('NULL')\n",
    "\n",
    "df_base_test['FLAG'] = df_base_test['FLAG'].astype('Int64')\n",
    "df_base_test['CONTRATO'] = df_base_test['CONTRATO'].apply(lambda x: str(int(x)).zfill(18) if pd.notna(x) else x)\n",
    "\n",
    "cols_base_test = ['FECHA', 'CC', 'CLAVSERV', 'CENTROPAGO', 'IMPORTE', 'MONEDA', 'NOMBRE', 'ESTADO', 'FLAG', 'CONTRATO', 'TIPO_FONDO', 'CARTERA', 'NOMBRE_CLIENTE', 'FECHA_ENVIO', 'ID_RESPONSABLE', 'TIPO_CARTERA', 'AGENCIA']\n",
    "df_base_test = df_base_test[cols_base_test]\n",
    "\n",
    "print(df_base_test.shape)\n",
    "print(df_base_test.dtypes)\n",
    "df_base_test.head(5)"
   ]
  },
  {
   "cell_type": "code",
   "execution_count": 397,
   "metadata": {},
   "outputs": [
    {
     "name": "stdout",
     "output_type": "stream",
     "text": [
      "REGISTROS OK\n"
     ]
    }
   ],
   "source": [
    "if base_count == df_base_test.shape[0]:\n",
    "    print('REGISTROS OK')\n",
    "elif base_count > df_base_test.shape[0]:\n",
    "    print('Se han perdido registros')\n",
    "else:\n",
    "    print('Se han duplicado registros: ', df_base_test.shape[0] - base_count)"
   ]
  },
  {
   "cell_type": "code",
   "execution_count": 398,
   "metadata": {},
   "outputs": [
    {
     "data": {
      "text/plain": [
       "(114, 17)"
      ]
     },
     "execution_count": 398,
     "metadata": {},
     "output_type": "execute_result"
    }
   ],
   "source": [
    "df_base_test.shape"
   ]
  },
  {
   "cell_type": "code",
   "execution_count": 399,
   "metadata": {},
   "outputs": [
    {
     "data": {
      "text/plain": [
       "(12, 17)"
      ]
     },
     "execution_count": 399,
     "metadata": {},
     "output_type": "execute_result"
    }
   ],
   "source": [
    "df_base_no_flag = df_base_test[df_base_test['FLAG'].isnull()]\n",
    "df_base_no_flag.shape"
   ]
  },
  {
   "cell_type": "code",
   "execution_count": 400,
   "metadata": {},
   "outputs": [
    {
     "data": {
      "text/plain": [
       "12"
      ]
     },
     "execution_count": 400,
     "metadata": {},
     "output_type": "execute_result"
    }
   ],
   "source": [
    "no_flag_count = df_base_no_flag.shape[0]\n",
    "no_flag_count"
   ]
  },
  {
   "cell_type": "code",
   "execution_count": 401,
   "metadata": {},
   "outputs": [
    {
     "data": {
      "text/plain": [
       "102"
      ]
     },
     "execution_count": 401,
     "metadata": {},
     "output_type": "execute_result"
    }
   ],
   "source": [
    "flag_count = base_count - no_flag_count\n",
    "flag_count"
   ]
  },
  {
   "cell_type": "code",
   "execution_count": 402,
   "metadata": {},
   "outputs": [],
   "source": [
    "#################### MONOPRODUCTO ####################"
   ]
  },
  {
   "cell_type": "code",
   "execution_count": 403,
   "metadata": {},
   "outputs": [
    {
     "name": "stdout",
     "output_type": "stream",
     "text": [
      "(85, 17)\n"
     ]
    },
    {
     "data": {
      "text/html": [
       "<div>\n",
       "<style scoped>\n",
       "    .dataframe tbody tr th:only-of-type {\n",
       "        vertical-align: middle;\n",
       "    }\n",
       "\n",
       "    .dataframe tbody tr th {\n",
       "        vertical-align: top;\n",
       "    }\n",
       "\n",
       "    .dataframe thead th {\n",
       "        text-align: right;\n",
       "    }\n",
       "</style>\n",
       "<table border=\"1\" class=\"dataframe\">\n",
       "  <thead>\n",
       "    <tr style=\"text-align: right;\">\n",
       "      <th></th>\n",
       "      <th>FECHA</th>\n",
       "      <th>CC</th>\n",
       "      <th>CLAVSERV</th>\n",
       "      <th>CENTROPAGO</th>\n",
       "      <th>IMPORTE</th>\n",
       "      <th>MONEDA</th>\n",
       "      <th>NOMBRE</th>\n",
       "      <th>ESTADO</th>\n",
       "      <th>FLAG</th>\n",
       "      <th>CONTRATO</th>\n",
       "      <th>TIPO_FONDO</th>\n",
       "      <th>CARTERA</th>\n",
       "      <th>NOMBRE_CLIENTE</th>\n",
       "      <th>FECHA_ENVIO</th>\n",
       "      <th>ID_RESPONSABLE</th>\n",
       "      <th>TIPO_CARTERA</th>\n",
       "      <th>AGENCIA</th>\n",
       "    </tr>\n",
       "  </thead>\n",
       "  <tbody>\n",
       "    <tr>\n",
       "      <th>0</th>\n",
       "      <td>2024-09-02</td>\n",
       "      <td>01836935</td>\n",
       "      <td>00248</td>\n",
       "      <td>142</td>\n",
       "      <td>1000.0</td>\n",
       "      <td>PEN</td>\n",
       "      <td>MARCIAL AUGUSTO SOLIS VASQUEZ.....</td>\n",
       "      <td>P</td>\n",
       "      <td>1</td>\n",
       "      <td>001101759600256572</td>\n",
       "      <td>NULL</td>\n",
       "      <td>KSTBC</td>\n",
       "      <td>MARCIAL AUGUSTO SOLIS VASQUEZ</td>\n",
       "      <td>03-Sep</td>\n",
       "      <td>MIV</td>\n",
       "      <td>UNSECURED</td>\n",
       "      <td>CLASA MORA</td>\n",
       "    </tr>\n",
       "    <tr>\n",
       "      <th>1</th>\n",
       "      <td>2024-09-02</td>\n",
       "      <td>04101561</td>\n",
       "      <td>00248</td>\n",
       "      <td>87</td>\n",
       "      <td>2000.0</td>\n",
       "      <td>PEN</td>\n",
       "      <td>SANTOS MORAN CISNERON1</td>\n",
       "      <td>P</td>\n",
       "      <td>1</td>\n",
       "      <td>001102745001992697</td>\n",
       "      <td>NULL</td>\n",
       "      <td>KSTBC</td>\n",
       "      <td>SANTOS MORAN CISNERON</td>\n",
       "      <td>03-Sep</td>\n",
       "      <td>MIV</td>\n",
       "      <td>UNSECURED</td>\n",
       "      <td>CLASA MORA</td>\n",
       "    </tr>\n",
       "    <tr>\n",
       "      <th>2</th>\n",
       "      <td>2024-08-31</td>\n",
       "      <td>09839518</td>\n",
       "      <td>00248</td>\n",
       "      <td>215</td>\n",
       "      <td>1500.0</td>\n",
       "      <td>PEN</td>\n",
       "      <td>ROBERTO ELEODORO VELASQUEZ MORALES.</td>\n",
       "      <td>P</td>\n",
       "      <td>1</td>\n",
       "      <td>001102155001157281</td>\n",
       "      <td>NULL</td>\n",
       "      <td>BC</td>\n",
       "      <td>ROBERTO ELEODORO VELASQUEZ MORALES</td>\n",
       "      <td>03-Sep</td>\n",
       "      <td>MIV</td>\n",
       "      <td>SECURED</td>\n",
       "      <td>SIN AGENCIA</td>\n",
       "    </tr>\n",
       "    <tr>\n",
       "      <th>3</th>\n",
       "      <td>2024-08-31</td>\n",
       "      <td>20157603</td>\n",
       "      <td>00248</td>\n",
       "      <td>164</td>\n",
       "      <td>100.0</td>\n",
       "      <td>PEN</td>\n",
       "      <td>LUIS ARMANDO FIERRE TRUJILLO</td>\n",
       "      <td>P</td>\n",
       "      <td>1</td>\n",
       "      <td>001104085006185487</td>\n",
       "      <td>NULL</td>\n",
       "      <td>EXJ</td>\n",
       "      <td>LUIS ARMANDO FIERRO TRUJILLO</td>\n",
       "      <td>03-Sep</td>\n",
       "      <td>MIV</td>\n",
       "      <td>UNSECURED</td>\n",
       "      <td>CLASA MORA</td>\n",
       "    </tr>\n",
       "    <tr>\n",
       "      <th>8</th>\n",
       "      <td>2024-09-02</td>\n",
       "      <td>20303444</td>\n",
       "      <td>00248</td>\n",
       "      <td>327</td>\n",
       "      <td>1000.0</td>\n",
       "      <td>PEN</td>\n",
       "      <td>PRESTAMO 001108319601418288 MARIA VEINTE</td>\n",
       "      <td>P</td>\n",
       "      <td>1</td>\n",
       "      <td>001108319601418288</td>\n",
       "      <td>NULL</td>\n",
       "      <td>KSTBC</td>\n",
       "      <td>MARIA DEL CARMEN VEINTIMILLA RUIZ</td>\n",
       "      <td>03-Sep</td>\n",
       "      <td>MIV</td>\n",
       "      <td>UNSECURED</td>\n",
       "      <td>CLASA MORA</td>\n",
       "    </tr>\n",
       "  </tbody>\n",
       "</table>\n",
       "</div>"
      ],
      "text/plain": [
       "        FECHA        CC CLAVSERV  CENTROPAGO  IMPORTE MONEDA  \\\n",
       "0  2024-09-02  01836935    00248         142   1000.0    PEN   \n",
       "1  2024-09-02  04101561    00248          87   2000.0    PEN   \n",
       "2  2024-08-31  09839518    00248         215   1500.0    PEN   \n",
       "3  2024-08-31  20157603    00248         164    100.0    PEN   \n",
       "8  2024-09-02  20303444    00248         327   1000.0    PEN   \n",
       "\n",
       "                                     NOMBRE ESTADO  FLAG            CONTRATO  \\\n",
       "0        MARCIAL AUGUSTO SOLIS VASQUEZ.....      P     1  001101759600256572   \n",
       "1                    SANTOS MORAN CISNERON1      P     1  001102745001992697   \n",
       "2       ROBERTO ELEODORO VELASQUEZ MORALES.      P     1  001102155001157281   \n",
       "3              LUIS ARMANDO FIERRE TRUJILLO      P     1  001104085006185487   \n",
       "8  PRESTAMO 001108319601418288 MARIA VEINTE      P     1  001108319601418288   \n",
       "\n",
       "  TIPO_FONDO CARTERA                      NOMBRE_CLIENTE FECHA_ENVIO  \\\n",
       "0       NULL   KSTBC       MARCIAL AUGUSTO SOLIS VASQUEZ      03-Sep   \n",
       "1       NULL   KSTBC               SANTOS MORAN CISNERON      03-Sep   \n",
       "2       NULL      BC  ROBERTO ELEODORO VELASQUEZ MORALES      03-Sep   \n",
       "3       NULL     EXJ        LUIS ARMANDO FIERRO TRUJILLO      03-Sep   \n",
       "8       NULL   KSTBC   MARIA DEL CARMEN VEINTIMILLA RUIZ      03-Sep   \n",
       "\n",
       "  ID_RESPONSABLE TIPO_CARTERA      AGENCIA  \n",
       "0            MIV    UNSECURED   CLASA MORA  \n",
       "1            MIV    UNSECURED   CLASA MORA  \n",
       "2            MIV      SECURED  SIN AGENCIA  \n",
       "3            MIV    UNSECURED   CLASA MORA  \n",
       "8            MIV    UNSECURED   CLASA MORA  "
      ]
     },
     "execution_count": 403,
     "metadata": {},
     "output_type": "execute_result"
    }
   ],
   "source": [
    "df_mono = df_base_test[df_base_test['FLAG'] == 1]\n",
    "print(df_mono.shape)\n",
    "df_mono.head(5)"
   ]
  },
  {
   "cell_type": "code",
   "execution_count": 404,
   "metadata": {},
   "outputs": [
    {
     "data": {
      "text/plain": [
       "85"
      ]
     },
     "execution_count": 404,
     "metadata": {},
     "output_type": "execute_result"
    }
   ],
   "source": [
    "mono_count = df_mono.shape[0]\n",
    "mono_count"
   ]
  },
  {
   "cell_type": "code",
   "execution_count": 405,
   "metadata": {},
   "outputs": [
    {
     "data": {
      "text/plain": [
       "TIPO_CARTERA\n",
       "UNSECURED    70\n",
       "SECURED      14\n",
       "NULL          1\n",
       "Name: count, dtype: int64"
      ]
     },
     "execution_count": 405,
     "metadata": {},
     "output_type": "execute_result"
    }
   ],
   "source": [
    "df_mono['TIPO_CARTERA'].value_counts()"
   ]
  },
  {
   "cell_type": "code",
   "execution_count": 406,
   "metadata": {},
   "outputs": [
    {
     "data": {
      "text/plain": [
       "TIPO_FONDO\n",
       "NULL        77\n",
       "REACTIVA     8\n",
       "Name: count, dtype: int64"
      ]
     },
     "execution_count": 406,
     "metadata": {},
     "output_type": "execute_result"
    }
   ],
   "source": [
    "df_mono['TIPO_FONDO'].value_counts()"
   ]
  },
  {
   "cell_type": "code",
   "execution_count": 407,
   "metadata": {},
   "outputs": [
    {
     "data": {
      "text/plain": [
       "TIPO_CARTERA  TIPO_FONDO\n",
       "UNSECURED     NULL          65\n",
       "SECURED       NULL          11\n",
       "UNSECURED     REACTIVA       5\n",
       "SECURED       REACTIVA       3\n",
       "NULL          NULL           1\n",
       "Name: count, dtype: int64"
      ]
     },
     "execution_count": 407,
     "metadata": {},
     "output_type": "execute_result"
    }
   ],
   "source": [
    "df_mono[['TIPO_CARTERA', 'TIPO_FONDO']].value_counts()"
   ]
  },
  {
   "cell_type": "code",
   "execution_count": 408,
   "metadata": {},
   "outputs": [],
   "source": [
    "#################### MONO REACTIVA ####################"
   ]
  },
  {
   "cell_type": "code",
   "execution_count": 409,
   "metadata": {},
   "outputs": [
    {
     "name": "stdout",
     "output_type": "stream",
     "text": [
      "(5, 17)\n"
     ]
    },
    {
     "data": {
      "text/html": [
       "<div>\n",
       "<style scoped>\n",
       "    .dataframe tbody tr th:only-of-type {\n",
       "        vertical-align: middle;\n",
       "    }\n",
       "\n",
       "    .dataframe tbody tr th {\n",
       "        vertical-align: top;\n",
       "    }\n",
       "\n",
       "    .dataframe thead th {\n",
       "        text-align: right;\n",
       "    }\n",
       "</style>\n",
       "<table border=\"1\" class=\"dataframe\">\n",
       "  <thead>\n",
       "    <tr style=\"text-align: right;\">\n",
       "      <th></th>\n",
       "      <th>FECHA</th>\n",
       "      <th>CC</th>\n",
       "      <th>CLAVSERV</th>\n",
       "      <th>CENTROPAGO</th>\n",
       "      <th>IMPORTE</th>\n",
       "      <th>MONEDA</th>\n",
       "      <th>NOMBRE</th>\n",
       "      <th>ESTADO</th>\n",
       "      <th>FLAG</th>\n",
       "      <th>CONTRATO</th>\n",
       "      <th>TIPO_FONDO</th>\n",
       "      <th>CARTERA</th>\n",
       "      <th>NOMBRE_CLIENTE</th>\n",
       "      <th>FECHA_ENVIO</th>\n",
       "      <th>ID_RESPONSABLE</th>\n",
       "      <th>TIPO_CARTERA</th>\n",
       "      <th>AGENCIA</th>\n",
       "    </tr>\n",
       "  </thead>\n",
       "  <tbody>\n",
       "    <tr>\n",
       "      <th>0</th>\n",
       "      <td>2024-09-02</td>\n",
       "      <td>22673977</td>\n",
       "      <td>00248</td>\n",
       "      <td>370</td>\n",
       "      <td>1000.00</td>\n",
       "      <td>PEN</td>\n",
       "      <td>C Y C MADERAS Y SERVICIOS GENERALES SAC</td>\n",
       "      <td>P</td>\n",
       "      <td>1</td>\n",
       "      <td>001102339600153034</td>\n",
       "      <td>REACTIVA</td>\n",
       "      <td>KSTBC</td>\n",
       "      <td>C Y C MADERAS Y SERVICIOS GENERALES SAC</td>\n",
       "      <td>03-Sep</td>\n",
       "      <td>MIV</td>\n",
       "      <td>UNSECURED</td>\n",
       "      <td>MORNESE MORA</td>\n",
       "    </tr>\n",
       "    <tr>\n",
       "      <th>1</th>\n",
       "      <td>2024-09-02</td>\n",
       "      <td>24173081</td>\n",
       "      <td>00248</td>\n",
       "      <td>301</td>\n",
       "      <td>2000.00</td>\n",
       "      <td>PEN</td>\n",
       "      <td>CAUDAL INVERSIONES EIRL,,,</td>\n",
       "      <td>P</td>\n",
       "      <td>1</td>\n",
       "      <td>001103019601138895</td>\n",
       "      <td>REACTIVA</td>\n",
       "      <td>BC</td>\n",
       "      <td>CAUDAL INVERSIONES EIRL</td>\n",
       "      <td>03-Sep</td>\n",
       "      <td>MIV</td>\n",
       "      <td>UNSECURED</td>\n",
       "      <td>CLASA MORA</td>\n",
       "    </tr>\n",
       "    <tr>\n",
       "      <th>2</th>\n",
       "      <td>2024-09-02</td>\n",
       "      <td>25887699</td>\n",
       "      <td>00248</td>\n",
       "      <td>30</td>\n",
       "      <td>2242.69</td>\n",
       "      <td>PEN</td>\n",
       "      <td>CUNA GUARDERIA JARDIN ESTRELLITAS EIRL</td>\n",
       "      <td>P</td>\n",
       "      <td>1</td>\n",
       "      <td>001100309600046722</td>\n",
       "      <td>REACTIVA</td>\n",
       "      <td>KSTBC</td>\n",
       "      <td>CUNA GUARDERIA JARDIN ESTRELLITAS EIRL</td>\n",
       "      <td>03-Sep</td>\n",
       "      <td>MIV</td>\n",
       "      <td>UNSECURED</td>\n",
       "      <td>CLASA MORA</td>\n",
       "    </tr>\n",
       "    <tr>\n",
       "      <th>3</th>\n",
       "      <td>2024-08-31</td>\n",
       "      <td>28589314</td>\n",
       "      <td>00248</td>\n",
       "      <td>321</td>\n",
       "      <td>400.00</td>\n",
       "      <td>PEN</td>\n",
       "      <td>SERVICIOS MINEROS</td>\n",
       "      <td>P</td>\n",
       "      <td>1</td>\n",
       "      <td>001103219600540265</td>\n",
       "      <td>REACTIVA</td>\n",
       "      <td>EXJ</td>\n",
       "      <td>SERVICIOS MINEROS DEL CENTRO SAC</td>\n",
       "      <td>03-Sep</td>\n",
       "      <td>MIV</td>\n",
       "      <td>UNSECURED</td>\n",
       "      <td>ASESCOM RJ</td>\n",
       "    </tr>\n",
       "    <tr>\n",
       "      <th>4</th>\n",
       "      <td>2024-09-02</td>\n",
       "      <td>28978925</td>\n",
       "      <td>00248</td>\n",
       "      <td>143</td>\n",
       "      <td>5000.00</td>\n",
       "      <td>PEN</td>\n",
       "      <td>ARIANA AG  EIRL .-,'</td>\n",
       "      <td>P</td>\n",
       "      <td>1</td>\n",
       "      <td>001102529600107303</td>\n",
       "      <td>REACTIVA</td>\n",
       "      <td>EXJ</td>\n",
       "      <td>ARIANA AG EIRL</td>\n",
       "      <td>03-Sep</td>\n",
       "      <td>MIV</td>\n",
       "      <td>UNSECURED</td>\n",
       "      <td>ASESCOM RJ</td>\n",
       "    </tr>\n",
       "  </tbody>\n",
       "</table>\n",
       "</div>"
      ],
      "text/plain": [
       "        FECHA        CC CLAVSERV  CENTROPAGO  IMPORTE MONEDA  \\\n",
       "0  2024-09-02  22673977    00248         370  1000.00    PEN   \n",
       "1  2024-09-02  24173081    00248         301  2000.00    PEN   \n",
       "2  2024-09-02  25887699    00248          30  2242.69    PEN   \n",
       "3  2024-08-31  28589314    00248         321   400.00    PEN   \n",
       "4  2024-09-02  28978925    00248         143  5000.00    PEN   \n",
       "\n",
       "                                    NOMBRE ESTADO  FLAG            CONTRATO  \\\n",
       "0  C Y C MADERAS Y SERVICIOS GENERALES SAC      P     1  001102339600153034   \n",
       "1               CAUDAL INVERSIONES EIRL,,,      P     1  001103019601138895   \n",
       "2   CUNA GUARDERIA JARDIN ESTRELLITAS EIRL      P     1  001100309600046722   \n",
       "3                        SERVICIOS MINEROS      P     1  001103219600540265   \n",
       "4                     ARIANA AG  EIRL .-,'      P     1  001102529600107303   \n",
       "\n",
       "  TIPO_FONDO CARTERA                           NOMBRE_CLIENTE FECHA_ENVIO  \\\n",
       "0   REACTIVA   KSTBC  C Y C MADERAS Y SERVICIOS GENERALES SAC      03-Sep   \n",
       "1   REACTIVA      BC                  CAUDAL INVERSIONES EIRL      03-Sep   \n",
       "2   REACTIVA   KSTBC   CUNA GUARDERIA JARDIN ESTRELLITAS EIRL      03-Sep   \n",
       "3   REACTIVA     EXJ         SERVICIOS MINEROS DEL CENTRO SAC      03-Sep   \n",
       "4   REACTIVA     EXJ                           ARIANA AG EIRL      03-Sep   \n",
       "\n",
       "  ID_RESPONSABLE TIPO_CARTERA       AGENCIA  \n",
       "0            MIV    UNSECURED  MORNESE MORA  \n",
       "1            MIV    UNSECURED    CLASA MORA  \n",
       "2            MIV    UNSECURED    CLASA MORA  \n",
       "3            MIV    UNSECURED    ASESCOM RJ  \n",
       "4            MIV    UNSECURED    ASESCOM RJ  "
      ]
     },
     "execution_count": 409,
     "metadata": {},
     "output_type": "execute_result"
    }
   ],
   "source": [
    "df_reactiva = df_mono[(df_mono['TIPO_CARTERA'] == 'UNSECURED') & (df_mono['TIPO_FONDO'] != 'NULL')]\n",
    "df_reactiva.sort_values(by=['CC'], inplace=True)\n",
    "df_reactiva.reset_index(drop=True, inplace=True)\n",
    "print(df_reactiva.shape)\n",
    "df_reactiva.head(5)"
   ]
  },
  {
   "cell_type": "code",
   "execution_count": 410,
   "metadata": {},
   "outputs": [
    {
     "data": {
      "text/plain": [
       "5"
      ]
     },
     "execution_count": 410,
     "metadata": {},
     "output_type": "execute_result"
    }
   ],
   "source": [
    "reactiva_count = df_reactiva.shape[0]\n",
    "reactiva_count"
   ]
  },
  {
   "cell_type": "code",
   "execution_count": 411,
   "metadata": {},
   "outputs": [],
   "source": [
    "df_reactiva.to_excel(reactiva, index=False)"
   ]
  },
  {
   "cell_type": "code",
   "execution_count": 412,
   "metadata": {},
   "outputs": [],
   "source": [
    "#################### FIN REACTIVA ####################"
   ]
  },
  {
   "cell_type": "code",
   "execution_count": 413,
   "metadata": {},
   "outputs": [
    {
     "data": {
      "text/plain": [
       "15"
      ]
     },
     "execution_count": 413,
     "metadata": {},
     "output_type": "execute_result"
    }
   ],
   "source": [
    "df_no_mono = df_mono[(df_mono['TIPO_CARTERA'] != 'UNSECURED')]\n",
    "no_mono_count = df_no_mono.shape[0]\n",
    "no_mono_count"
   ]
  },
  {
   "cell_type": "code",
   "execution_count": 414,
   "metadata": {},
   "outputs": [
    {
     "name": "stdout",
     "output_type": "stream",
     "text": [
      "(65, 16)\n"
     ]
    },
    {
     "data": {
      "text/html": [
       "<div>\n",
       "<style scoped>\n",
       "    .dataframe tbody tr th:only-of-type {\n",
       "        vertical-align: middle;\n",
       "    }\n",
       "\n",
       "    .dataframe tbody tr th {\n",
       "        vertical-align: top;\n",
       "    }\n",
       "\n",
       "    .dataframe thead th {\n",
       "        text-align: right;\n",
       "    }\n",
       "</style>\n",
       "<table border=\"1\" class=\"dataframe\">\n",
       "  <thead>\n",
       "    <tr style=\"text-align: right;\">\n",
       "      <th></th>\n",
       "      <th>FECHA</th>\n",
       "      <th>CC</th>\n",
       "      <th>CLAVSERV</th>\n",
       "      <th>IMPORTE</th>\n",
       "      <th>MONEDA</th>\n",
       "      <th>NOMBRE</th>\n",
       "      <th>ESTADO</th>\n",
       "      <th>FLAG</th>\n",
       "      <th>CONTRATO</th>\n",
       "      <th>NOMBRE_CLIENTE</th>\n",
       "      <th>FECHA_ENVIO</th>\n",
       "      <th>ID_RESPONSABLE</th>\n",
       "      <th>TIPO_CARTERA</th>\n",
       "      <th>TIPO_FONDO</th>\n",
       "      <th>CARTERA</th>\n",
       "      <th>AGENCIA</th>\n",
       "    </tr>\n",
       "  </thead>\n",
       "  <tbody>\n",
       "    <tr>\n",
       "      <th>0</th>\n",
       "      <td>2024-09-02</td>\n",
       "      <td>01836935</td>\n",
       "      <td>00248</td>\n",
       "      <td>1000.0</td>\n",
       "      <td>PEN</td>\n",
       "      <td>MARCIAL AUGUSTO SOLIS VASQUEZ.....</td>\n",
       "      <td>P</td>\n",
       "      <td>1</td>\n",
       "      <td>001101759600256572</td>\n",
       "      <td>MARCIAL AUGUSTO SOLIS VASQUEZ</td>\n",
       "      <td>03-Sep</td>\n",
       "      <td>MIV</td>\n",
       "      <td>UNSECURED</td>\n",
       "      <td>NULL</td>\n",
       "      <td>KSTBC</td>\n",
       "      <td>CLASA MORA</td>\n",
       "    </tr>\n",
       "    <tr>\n",
       "      <th>1</th>\n",
       "      <td>2024-09-02</td>\n",
       "      <td>04101561</td>\n",
       "      <td>00248</td>\n",
       "      <td>2000.0</td>\n",
       "      <td>PEN</td>\n",
       "      <td>SANTOS MORAN CISNERON1</td>\n",
       "      <td>P</td>\n",
       "      <td>1</td>\n",
       "      <td>001102745001992697</td>\n",
       "      <td>SANTOS MORAN CISNERON</td>\n",
       "      <td>03-Sep</td>\n",
       "      <td>MIV</td>\n",
       "      <td>UNSECURED</td>\n",
       "      <td>NULL</td>\n",
       "      <td>KSTBC</td>\n",
       "      <td>CLASA MORA</td>\n",
       "    </tr>\n",
       "    <tr>\n",
       "      <th>2</th>\n",
       "      <td>2024-08-31</td>\n",
       "      <td>20157603</td>\n",
       "      <td>00248</td>\n",
       "      <td>100.0</td>\n",
       "      <td>PEN</td>\n",
       "      <td>LUIS ARMANDO FIERRE TRUJILLO</td>\n",
       "      <td>P</td>\n",
       "      <td>1</td>\n",
       "      <td>001104085006185487</td>\n",
       "      <td>LUIS ARMANDO FIERRO TRUJILLO</td>\n",
       "      <td>03-Sep</td>\n",
       "      <td>MIV</td>\n",
       "      <td>UNSECURED</td>\n",
       "      <td>NULL</td>\n",
       "      <td>EXJ</td>\n",
       "      <td>CLASA MORA</td>\n",
       "    </tr>\n",
       "    <tr>\n",
       "      <th>3</th>\n",
       "      <td>2024-09-02</td>\n",
       "      <td>20303444</td>\n",
       "      <td>00248</td>\n",
       "      <td>1000.0</td>\n",
       "      <td>PEN</td>\n",
       "      <td>PRESTAMO 001108319601418288 MARIA VEINTE</td>\n",
       "      <td>P</td>\n",
       "      <td>1</td>\n",
       "      <td>001108319601418288</td>\n",
       "      <td>MARIA DEL CARMEN VEINTIMILLA RUIZ</td>\n",
       "      <td>03-Sep</td>\n",
       "      <td>MIV</td>\n",
       "      <td>UNSECURED</td>\n",
       "      <td>NULL</td>\n",
       "      <td>KSTBC</td>\n",
       "      <td>CLASA MORA</td>\n",
       "    </tr>\n",
       "    <tr>\n",
       "      <th>4</th>\n",
       "      <td>2024-08-31</td>\n",
       "      <td>20558875</td>\n",
       "      <td>00248</td>\n",
       "      <td>150.0</td>\n",
       "      <td>PEN</td>\n",
       "      <td>AMERICO WILLY AREVALO SALDA･A.......</td>\n",
       "      <td>P</td>\n",
       "      <td>1</td>\n",
       "      <td>001103015003510296</td>\n",
       "      <td>AMERICO WILLY AREVALO SALDANA</td>\n",
       "      <td>03-Sep</td>\n",
       "      <td>MIV</td>\n",
       "      <td>UNSECURED</td>\n",
       "      <td>NULL</td>\n",
       "      <td>KSTBC</td>\n",
       "      <td>ASESCOM RJ</td>\n",
       "    </tr>\n",
       "  </tbody>\n",
       "</table>\n",
       "</div>"
      ],
      "text/plain": [
       "        FECHA        CC CLAVSERV  IMPORTE MONEDA  \\\n",
       "0  2024-09-02  01836935    00248   1000.0    PEN   \n",
       "1  2024-09-02  04101561    00248   2000.0    PEN   \n",
       "2  2024-08-31  20157603    00248    100.0    PEN   \n",
       "3  2024-09-02  20303444    00248   1000.0    PEN   \n",
       "4  2024-08-31  20558875    00248    150.0    PEN   \n",
       "\n",
       "                                     NOMBRE ESTADO  FLAG            CONTRATO  \\\n",
       "0        MARCIAL AUGUSTO SOLIS VASQUEZ.....      P     1  001101759600256572   \n",
       "1                    SANTOS MORAN CISNERON1      P     1  001102745001992697   \n",
       "2              LUIS ARMANDO FIERRE TRUJILLO      P     1  001104085006185487   \n",
       "3  PRESTAMO 001108319601418288 MARIA VEINTE      P     1  001108319601418288   \n",
       "4      AMERICO WILLY AREVALO SALDA･A.......      P     1  001103015003510296   \n",
       "\n",
       "                      NOMBRE_CLIENTE FECHA_ENVIO ID_RESPONSABLE TIPO_CARTERA  \\\n",
       "0      MARCIAL AUGUSTO SOLIS VASQUEZ      03-Sep            MIV    UNSECURED   \n",
       "1              SANTOS MORAN CISNERON      03-Sep            MIV    UNSECURED   \n",
       "2       LUIS ARMANDO FIERRO TRUJILLO      03-Sep            MIV    UNSECURED   \n",
       "3  MARIA DEL CARMEN VEINTIMILLA RUIZ      03-Sep            MIV    UNSECURED   \n",
       "4      AMERICO WILLY AREVALO SALDANA      03-Sep            MIV    UNSECURED   \n",
       "\n",
       "  TIPO_FONDO CARTERA     AGENCIA  \n",
       "0       NULL   KSTBC  CLASA MORA  \n",
       "1       NULL   KSTBC  CLASA MORA  \n",
       "2       NULL     EXJ  CLASA MORA  \n",
       "3       NULL   KSTBC  CLASA MORA  \n",
       "4       NULL   KSTBC  ASESCOM RJ  "
      ]
     },
     "execution_count": 414,
     "metadata": {},
     "output_type": "execute_result"
    }
   ],
   "source": [
    "df_mono = df_mono[df_mono['TIPO_CARTERA'] == 'UNSECURED']\n",
    "df_mono = df_mono[df_mono['TIPO_FONDO'] == 'NULL']\n",
    "\n",
    "cols_mono = ['FECHA', 'CC', 'CLAVSERV', 'IMPORTE', 'MONEDA', 'NOMBRE', 'ESTADO', 'FLAG', 'CONTRATO', 'NOMBRE_CLIENTE', 'FECHA_ENVIO', 'ID_RESPONSABLE', 'TIPO_CARTERA', 'TIPO_FONDO', 'CARTERA', 'AGENCIA']\n",
    "df_mono = df_mono[cols_mono]\n",
    "\n",
    "df_mono.sort_values(by=['CC'], inplace=True)\n",
    "df_mono.reset_index(drop=True, inplace=True)\n",
    "\n",
    "print(df_mono.shape)\n",
    "df_mono.head(5)"
   ]
  },
  {
   "cell_type": "code",
   "execution_count": 415,
   "metadata": {},
   "outputs": [],
   "source": [
    "df_mono.to_excel(monoproducto, index=False)"
   ]
  },
  {
   "cell_type": "code",
   "execution_count": 416,
   "metadata": {},
   "outputs": [
    {
     "data": {
      "text/plain": [
       "65"
      ]
     },
     "execution_count": 416,
     "metadata": {},
     "output_type": "execute_result"
    }
   ],
   "source": [
    "mono_count_final = df_mono.shape[0]\n",
    "mono_count_final"
   ]
  },
  {
   "cell_type": "code",
   "execution_count": 417,
   "metadata": {},
   "outputs": [
    {
     "name": "stdout",
     "output_type": "stream",
     "text": [
      "MONOPRODUCTO OK\n"
     ]
    }
   ],
   "source": [
    "if mono_count == mono_count_final + reactiva_count + no_mono_count:\n",
    "    print('MONOPRODUCTO OK')\n",
    "else:\n",
    "    print('MONOPRODUCTO ERROR')"
   ]
  },
  {
   "cell_type": "code",
   "execution_count": 418,
   "metadata": {},
   "outputs": [],
   "source": [
    "#################### FIN MONOPRODUCTO ####################"
   ]
  },
  {
   "cell_type": "code",
   "execution_count": 419,
   "metadata": {},
   "outputs": [],
   "source": [
    "#################### MULTIPRODUCTO ####################"
   ]
  },
  {
   "cell_type": "code",
   "execution_count": 420,
   "metadata": {},
   "outputs": [
    {
     "name": "stdout",
     "output_type": "stream",
     "text": [
      "(17, 17)\n"
     ]
    },
    {
     "data": {
      "text/html": [
       "<div>\n",
       "<style scoped>\n",
       "    .dataframe tbody tr th:only-of-type {\n",
       "        vertical-align: middle;\n",
       "    }\n",
       "\n",
       "    .dataframe tbody tr th {\n",
       "        vertical-align: top;\n",
       "    }\n",
       "\n",
       "    .dataframe thead th {\n",
       "        text-align: right;\n",
       "    }\n",
       "</style>\n",
       "<table border=\"1\" class=\"dataframe\">\n",
       "  <thead>\n",
       "    <tr style=\"text-align: right;\">\n",
       "      <th></th>\n",
       "      <th>FECHA</th>\n",
       "      <th>CC</th>\n",
       "      <th>CLAVSERV</th>\n",
       "      <th>CENTROPAGO</th>\n",
       "      <th>IMPORTE</th>\n",
       "      <th>MONEDA</th>\n",
       "      <th>NOMBRE</th>\n",
       "      <th>ESTADO</th>\n",
       "      <th>FLAG</th>\n",
       "      <th>CONTRATO</th>\n",
       "      <th>TIPO_FONDO</th>\n",
       "      <th>CARTERA</th>\n",
       "      <th>NOMBRE_CLIENTE</th>\n",
       "      <th>FECHA_ENVIO</th>\n",
       "      <th>ID_RESPONSABLE</th>\n",
       "      <th>TIPO_CARTERA</th>\n",
       "      <th>AGENCIA</th>\n",
       "    </tr>\n",
       "  </thead>\n",
       "  <tbody>\n",
       "    <tr>\n",
       "      <th>4</th>\n",
       "      <td>2024-09-02</td>\n",
       "      <td>20275065</td>\n",
       "      <td>00248</td>\n",
       "      <td>127</td>\n",
       "      <td>150.0</td>\n",
       "      <td>PEN</td>\n",
       "      <td>MARIA EUGENIA SALAZAR SALVATIERRA</td>\n",
       "      <td>P</td>\n",
       "      <td>2</td>\n",
       "      <td>001104085009944508</td>\n",
       "      <td>NULL</td>\n",
       "      <td>KSTBC</td>\n",
       "      <td>MARIA EUGENIA SALAZAR SALVATIERRA</td>\n",
       "      <td>03-Sep</td>\n",
       "      <td>MIV</td>\n",
       "      <td>UNSECURED</td>\n",
       "      <td>MORNESE MORA</td>\n",
       "    </tr>\n",
       "    <tr>\n",
       "      <th>21</th>\n",
       "      <td>2024-09-02</td>\n",
       "      <td>21298267</td>\n",
       "      <td>00248</td>\n",
       "      <td>231</td>\n",
       "      <td>2000.0</td>\n",
       "      <td>PEN</td>\n",
       "      <td>BRUNO ARMANDO BACA G.</td>\n",
       "      <td>P</td>\n",
       "      <td>2</td>\n",
       "      <td>001105045002450188</td>\n",
       "      <td>NULL</td>\n",
       "      <td>KSTBC</td>\n",
       "      <td>BRUNO ARMANDO BACA GOMEZ</td>\n",
       "      <td>03-Sep</td>\n",
       "      <td>MIV</td>\n",
       "      <td>UNSECURED</td>\n",
       "      <td>CLASA MORA</td>\n",
       "    </tr>\n",
       "    <tr>\n",
       "      <th>40</th>\n",
       "      <td>2024-09-02</td>\n",
       "      <td>22312384</td>\n",
       "      <td>00248</td>\n",
       "      <td>857</td>\n",
       "      <td>2814.0</td>\n",
       "      <td>PEN</td>\n",
       "      <td>AIMEE LESLIE JIMENEZ ARAUJO.</td>\n",
       "      <td>P</td>\n",
       "      <td>2</td>\n",
       "      <td>001101339600216458</td>\n",
       "      <td>NULL</td>\n",
       "      <td>EXJ</td>\n",
       "      <td>AIMEE LESLIE JIMENEZ ARAUJO</td>\n",
       "      <td>03-Sep</td>\n",
       "      <td>MIV</td>\n",
       "      <td>UNSECURED</td>\n",
       "      <td>CLASA MORA</td>\n",
       "    </tr>\n",
       "    <tr>\n",
       "      <th>52</th>\n",
       "      <td>2024-08-31</td>\n",
       "      <td>22826478</td>\n",
       "      <td>00248</td>\n",
       "      <td>281</td>\n",
       "      <td>5500.0</td>\n",
       "      <td>PEN</td>\n",
       "      <td>42388743</td>\n",
       "      <td>P</td>\n",
       "      <td>2</td>\n",
       "      <td>001108149603537931</td>\n",
       "      <td>NULL</td>\n",
       "      <td>KSTBC</td>\n",
       "      <td>MARLO ALBERTO PEREZ JIMENEZ</td>\n",
       "      <td>03-Sep</td>\n",
       "      <td>MIV</td>\n",
       "      <td>UNSECURED</td>\n",
       "      <td>CLASA MORA</td>\n",
       "    </tr>\n",
       "    <tr>\n",
       "      <th>64</th>\n",
       "      <td>2024-09-02</td>\n",
       "      <td>24038303</td>\n",
       "      <td>00248</td>\n",
       "      <td>50</td>\n",
       "      <td>6000.0</td>\n",
       "      <td>PEN</td>\n",
       "      <td>LADRILLERIA PARANAGUA SU SRL</td>\n",
       "      <td>P</td>\n",
       "      <td>2</td>\n",
       "      <td>001103019601140385</td>\n",
       "      <td>REACTIVA</td>\n",
       "      <td>BC</td>\n",
       "      <td>LADRILLERA PARANAGUASU SRL</td>\n",
       "      <td>03-Sep</td>\n",
       "      <td>MIV</td>\n",
       "      <td>SECURED</td>\n",
       "      <td>SIN AGENCIA</td>\n",
       "    </tr>\n",
       "  </tbody>\n",
       "</table>\n",
       "</div>"
      ],
      "text/plain": [
       "         FECHA        CC CLAVSERV  CENTROPAGO  IMPORTE MONEDA  \\\n",
       "4   2024-09-02  20275065    00248         127    150.0    PEN   \n",
       "21  2024-09-02  21298267    00248         231   2000.0    PEN   \n",
       "40  2024-09-02  22312384    00248         857   2814.0    PEN   \n",
       "52  2024-08-31  22826478    00248         281   5500.0    PEN   \n",
       "64  2024-09-02  24038303    00248          50   6000.0    PEN   \n",
       "\n",
       "                               NOMBRE ESTADO  FLAG            CONTRATO  \\\n",
       "4   MARIA EUGENIA SALAZAR SALVATIERRA      P     2  001104085009944508   \n",
       "21              BRUNO ARMANDO BACA G.      P     2  001105045002450188   \n",
       "40       AIMEE LESLIE JIMENEZ ARAUJO.      P     2  001101339600216458   \n",
       "52                           42388743      P     2  001108149603537931   \n",
       "64       LADRILLERIA PARANAGUA SU SRL      P     2  001103019601140385   \n",
       "\n",
       "   TIPO_FONDO CARTERA                     NOMBRE_CLIENTE FECHA_ENVIO  \\\n",
       "4        NULL   KSTBC  MARIA EUGENIA SALAZAR SALVATIERRA      03-Sep   \n",
       "21       NULL   KSTBC           BRUNO ARMANDO BACA GOMEZ      03-Sep   \n",
       "40       NULL     EXJ        AIMEE LESLIE JIMENEZ ARAUJO      03-Sep   \n",
       "52       NULL   KSTBC        MARLO ALBERTO PEREZ JIMENEZ      03-Sep   \n",
       "64   REACTIVA      BC         LADRILLERA PARANAGUASU SRL      03-Sep   \n",
       "\n",
       "   ID_RESPONSABLE TIPO_CARTERA       AGENCIA  \n",
       "4             MIV    UNSECURED  MORNESE MORA  \n",
       "21            MIV    UNSECURED    CLASA MORA  \n",
       "40            MIV    UNSECURED    CLASA MORA  \n",
       "52            MIV    UNSECURED    CLASA MORA  \n",
       "64            MIV      SECURED   SIN AGENCIA  "
      ]
     },
     "execution_count": 420,
     "metadata": {},
     "output_type": "execute_result"
    }
   ],
   "source": [
    "df_multi = df_base_test[df_base_test['FLAG'] > 1].copy()\n",
    "print(df_multi.shape)\n",
    "df_multi.head(5)"
   ]
  },
  {
   "cell_type": "code",
   "execution_count": 421,
   "metadata": {},
   "outputs": [
    {
     "data": {
      "text/plain": [
       "17"
      ]
     },
     "execution_count": 421,
     "metadata": {},
     "output_type": "execute_result"
    }
   ],
   "source": [
    "multi_count = df_multi.shape[0]\n",
    "multi_count"
   ]
  },
  {
   "cell_type": "code",
   "execution_count": 422,
   "metadata": {},
   "outputs": [
    {
     "data": {
      "text/plain": [
       "TIPO_CARTERA\n",
       "UNSECURED    12\n",
       "SECURED       5\n",
       "Name: count, dtype: int64"
      ]
     },
     "execution_count": 422,
     "metadata": {},
     "output_type": "execute_result"
    }
   ],
   "source": [
    "df_multi['TIPO_CARTERA'].value_counts()"
   ]
  },
  {
   "cell_type": "code",
   "execution_count": 423,
   "metadata": {},
   "outputs": [
    {
     "data": {
      "text/plain": [
       "TIPO_FONDO\n",
       "NULL        14\n",
       "REACTIVA     3\n",
       "Name: count, dtype: int64"
      ]
     },
     "execution_count": 423,
     "metadata": {},
     "output_type": "execute_result"
    }
   ],
   "source": [
    "df_multi['TIPO_FONDO'].value_counts()"
   ]
  },
  {
   "cell_type": "code",
   "execution_count": 424,
   "metadata": {},
   "outputs": [
    {
     "data": {
      "text/plain": [
       "5"
      ]
     },
     "execution_count": 424,
     "metadata": {},
     "output_type": "execute_result"
    }
   ],
   "source": [
    "df_no_multi = df_multi[(df_multi['TIPO_CARTERA'] != 'UNSECURED')]\n",
    "no_multi_count = df_no_multi.shape[0]\n",
    "no_multi_count"
   ]
  },
  {
   "cell_type": "code",
   "execution_count": 425,
   "metadata": {},
   "outputs": [
    {
     "name": "stdout",
     "output_type": "stream",
     "text": [
      "(12, 14)\n"
     ]
    },
    {
     "data": {
      "text/html": [
       "<div>\n",
       "<style scoped>\n",
       "    .dataframe tbody tr th:only-of-type {\n",
       "        vertical-align: middle;\n",
       "    }\n",
       "\n",
       "    .dataframe tbody tr th {\n",
       "        vertical-align: top;\n",
       "    }\n",
       "\n",
       "    .dataframe thead th {\n",
       "        text-align: right;\n",
       "    }\n",
       "</style>\n",
       "<table border=\"1\" class=\"dataframe\">\n",
       "  <thead>\n",
       "    <tr style=\"text-align: right;\">\n",
       "      <th></th>\n",
       "      <th>FECHA</th>\n",
       "      <th>CC</th>\n",
       "      <th>CLAVSERV</th>\n",
       "      <th>IMPORTE</th>\n",
       "      <th>MONEDA</th>\n",
       "      <th>NOMBRE</th>\n",
       "      <th>ESTADO</th>\n",
       "      <th>FLAG</th>\n",
       "      <th>CONTRATO</th>\n",
       "      <th>TIPO_FONDO</th>\n",
       "      <th>CARTERA</th>\n",
       "      <th>NOMBRE_CLIENTE</th>\n",
       "      <th>FECHA_ENVIO</th>\n",
       "      <th>ID_RESPONSABLE</th>\n",
       "    </tr>\n",
       "  </thead>\n",
       "  <tbody>\n",
       "    <tr>\n",
       "      <th>0</th>\n",
       "      <td>2024-09-02</td>\n",
       "      <td>20275065</td>\n",
       "      <td>00248</td>\n",
       "      <td>150.0</td>\n",
       "      <td>PEN</td>\n",
       "      <td>MARIA EUGENIA SALAZAR SALVATIERRA</td>\n",
       "      <td>P</td>\n",
       "      <td>2</td>\n",
       "      <td>None</td>\n",
       "      <td>None</td>\n",
       "      <td>None</td>\n",
       "      <td>MARIA EUGENIA SALAZAR SALVATIERRA</td>\n",
       "      <td>03-Sep</td>\n",
       "      <td>MIV</td>\n",
       "    </tr>\n",
       "    <tr>\n",
       "      <th>1</th>\n",
       "      <td>2024-09-02</td>\n",
       "      <td>21298267</td>\n",
       "      <td>00248</td>\n",
       "      <td>2000.0</td>\n",
       "      <td>PEN</td>\n",
       "      <td>BRUNO ARMANDO BACA G.</td>\n",
       "      <td>P</td>\n",
       "      <td>2</td>\n",
       "      <td>None</td>\n",
       "      <td>None</td>\n",
       "      <td>None</td>\n",
       "      <td>BRUNO ARMANDO BACA GOMEZ</td>\n",
       "      <td>03-Sep</td>\n",
       "      <td>MIV</td>\n",
       "    </tr>\n",
       "    <tr>\n",
       "      <th>2</th>\n",
       "      <td>2024-09-02</td>\n",
       "      <td>22312384</td>\n",
       "      <td>00248</td>\n",
       "      <td>2814.0</td>\n",
       "      <td>PEN</td>\n",
       "      <td>AIMEE LESLIE JIMENEZ ARAUJO.</td>\n",
       "      <td>P</td>\n",
       "      <td>2</td>\n",
       "      <td>None</td>\n",
       "      <td>None</td>\n",
       "      <td>None</td>\n",
       "      <td>AIMEE LESLIE JIMENEZ ARAUJO</td>\n",
       "      <td>03-Sep</td>\n",
       "      <td>MIV</td>\n",
       "    </tr>\n",
       "    <tr>\n",
       "      <th>3</th>\n",
       "      <td>2024-08-31</td>\n",
       "      <td>22826478</td>\n",
       "      <td>00248</td>\n",
       "      <td>5500.0</td>\n",
       "      <td>PEN</td>\n",
       "      <td>42388743</td>\n",
       "      <td>P</td>\n",
       "      <td>2</td>\n",
       "      <td>None</td>\n",
       "      <td>None</td>\n",
       "      <td>None</td>\n",
       "      <td>MARLO ALBERTO PEREZ JIMENEZ</td>\n",
       "      <td>03-Sep</td>\n",
       "      <td>MIV</td>\n",
       "    </tr>\n",
       "    <tr>\n",
       "      <th>4</th>\n",
       "      <td>2024-09-02</td>\n",
       "      <td>24207146</td>\n",
       "      <td>00248</td>\n",
       "      <td>800.0</td>\n",
       "      <td>PEN</td>\n",
       "      <td>EVELYN MENDOZA ROSALES,,</td>\n",
       "      <td>P</td>\n",
       "      <td>2</td>\n",
       "      <td>None</td>\n",
       "      <td>None</td>\n",
       "      <td>None</td>\n",
       "      <td>EVELYN JASMIN MENDOZA ROSALES</td>\n",
       "      <td>03-Sep</td>\n",
       "      <td>MIV</td>\n",
       "    </tr>\n",
       "  </tbody>\n",
       "</table>\n",
       "</div>"
      ],
      "text/plain": [
       "        FECHA        CC CLAVSERV  IMPORTE MONEDA  \\\n",
       "0  2024-09-02  20275065    00248    150.0    PEN   \n",
       "1  2024-09-02  21298267    00248   2000.0    PEN   \n",
       "2  2024-09-02  22312384    00248   2814.0    PEN   \n",
       "3  2024-08-31  22826478    00248   5500.0    PEN   \n",
       "4  2024-09-02  24207146    00248    800.0    PEN   \n",
       "\n",
       "                              NOMBRE ESTADO  FLAG CONTRATO TIPO_FONDO CARTERA  \\\n",
       "0  MARIA EUGENIA SALAZAR SALVATIERRA      P     2     None       None    None   \n",
       "1              BRUNO ARMANDO BACA G.      P     2     None       None    None   \n",
       "2       AIMEE LESLIE JIMENEZ ARAUJO.      P     2     None       None    None   \n",
       "3                           42388743      P     2     None       None    None   \n",
       "4           EVELYN MENDOZA ROSALES,,      P     2     None       None    None   \n",
       "\n",
       "                      NOMBRE_CLIENTE FECHA_ENVIO ID_RESPONSABLE  \n",
       "0  MARIA EUGENIA SALAZAR SALVATIERRA      03-Sep            MIV  \n",
       "1           BRUNO ARMANDO BACA GOMEZ      03-Sep            MIV  \n",
       "2        AIMEE LESLIE JIMENEZ ARAUJO      03-Sep            MIV  \n",
       "3        MARLO ALBERTO PEREZ JIMENEZ      03-Sep            MIV  \n",
       "4      EVELYN JASMIN MENDOZA ROSALES      03-Sep            MIV  "
      ]
     },
     "execution_count": 425,
     "metadata": {},
     "output_type": "execute_result"
    }
   ],
   "source": [
    "df_multi = df_multi[df_multi['TIPO_CARTERA'] == 'UNSECURED']\n",
    "\n",
    "df_multi['CONTRATO'] = None\n",
    "df_multi['TIPO_FONDO'] = None\n",
    "df_multi['CARTERA'] = None\n",
    "\n",
    "cols_multi = ['FECHA', 'CC', 'CLAVSERV', 'IMPORTE', 'MONEDA', 'NOMBRE', 'ESTADO', 'FLAG', 'CONTRATO', 'TIPO_FONDO', 'CARTERA', 'NOMBRE_CLIENTE', 'FECHA_ENVIO', 'ID_RESPONSABLE']\n",
    "df_multi = df_multi[cols_multi]\n",
    "\n",
    "df_multi = df_multi.drop_duplicates(subset=['CC', 'IMPORTE', 'MONEDA', 'NOMBRE'])\n",
    "\n",
    "df_multi.sort_values(by=['CC'], inplace=True)\n",
    "df_multi.reset_index(drop=True, inplace=True)\n",
    "\n",
    "print(df_multi.shape)\n",
    "df_multi.head(5)"
   ]
  },
  {
   "cell_type": "code",
   "execution_count": 426,
   "metadata": {},
   "outputs": [],
   "source": [
    "df_multi.to_excel(multiproducto, index=False)"
   ]
  },
  {
   "cell_type": "code",
   "execution_count": 427,
   "metadata": {},
   "outputs": [
    {
     "data": {
      "text/plain": [
       "12"
      ]
     },
     "execution_count": 427,
     "metadata": {},
     "output_type": "execute_result"
    }
   ],
   "source": [
    "multi_count_final = df_multi.shape[0]\n",
    "multi_count_final"
   ]
  },
  {
   "cell_type": "code",
   "execution_count": 428,
   "metadata": {},
   "outputs": [
    {
     "name": "stdout",
     "output_type": "stream",
     "text": [
      "MULTIPRODUCTO OK\n"
     ]
    }
   ],
   "source": [
    "if multi_count == multi_count_final + no_multi_count:\n",
    "    print('MULTIPRODUCTO OK')\n",
    "else:\n",
    "    print('MULTIPRODUCTO ERROR')"
   ]
  },
  {
   "cell_type": "code",
   "execution_count": 429,
   "metadata": {},
   "outputs": [],
   "source": [
    "#################### FIN MULTIPRODUCTO ####################"
   ]
  },
  {
   "cell_type": "code",
   "execution_count": 430,
   "metadata": {},
   "outputs": [],
   "source": [
    "#################### NO ENVIADOS ####################"
   ]
  },
  {
   "cell_type": "code",
   "execution_count": 431,
   "metadata": {},
   "outputs": [
    {
     "name": "stdout",
     "output_type": "stream",
     "text": [
      "No enviados: 32\n",
      "Enviados: 82\n",
      "Total: 114\n"
     ]
    }
   ],
   "source": [
    "no_eviados = no_mono_count + no_multi_count + no_flag_count\n",
    "enviados = mono_count_final + multi_count_final + reactiva_count\n",
    "\n",
    "print('No enviados:', no_eviados)\n",
    "print('Enviados:', enviados)\n",
    "print('Total:', no_eviados + enviados)"
   ]
  },
  {
   "cell_type": "code",
   "execution_count": 432,
   "metadata": {},
   "outputs": [
    {
     "name": "stdout",
     "output_type": "stream",
     "text": [
      "REGISTROS OK\n"
     ]
    }
   ],
   "source": [
    "if base_count == enviados + no_eviados:\n",
    "    print('REGISTROS OK')\n",
    "else:\n",
    "    print('REGISTROS ERROR')"
   ]
  },
  {
   "cell_type": "code",
   "execution_count": 433,
   "metadata": {},
   "outputs": [
    {
     "name": "stdout",
     "output_type": "stream",
     "text": [
      "Index(['FECHA', 'CC', 'CLAVSERV', 'CENTROPAGO', 'IMPORTE', 'MONEDA', 'NOMBRE',\n",
      "       'ESTADO', 'FLAG', 'CONTRATO', 'TIPO_FONDO', 'CARTERA', 'NOMBRE_CLIENTE',\n",
      "       'FECHA_ENVIO', 'ID_RESPONSABLE', 'TIPO_CARTERA', 'AGENCIA'],\n",
      "      dtype='object')\n",
      "Index(['FECHA', 'CC', 'CLAVSERV', 'CENTROPAGO', 'IMPORTE', 'MONEDA', 'NOMBRE',\n",
      "       'ESTADO', 'FLAG', 'CONTRATO', 'TIPO_FONDO', 'CARTERA', 'NOMBRE_CLIENTE',\n",
      "       'FECHA_ENVIO', 'ID_RESPONSABLE', 'TIPO_CARTERA', 'AGENCIA'],\n",
      "      dtype='object')\n",
      "Index(['FECHA', 'CC', 'CLAVSERV', 'CENTROPAGO', 'IMPORTE', 'MONEDA', 'NOMBRE',\n",
      "       'ESTADO', 'FLAG', 'CONTRATO', 'TIPO_FONDO', 'CARTERA', 'NOMBRE_CLIENTE',\n",
      "       'FECHA_ENVIO', 'ID_RESPONSABLE', 'TIPO_CARTERA', 'AGENCIA'],\n",
      "      dtype='object')\n"
     ]
    }
   ],
   "source": [
    "print(df_no_mono.columns)\n",
    "print(df_no_multi.columns)\n",
    "print(df_base_no_flag.columns)"
   ]
  },
  {
   "cell_type": "code",
   "execution_count": 434,
   "metadata": {},
   "outputs": [
    {
     "name": "stdout",
     "output_type": "stream",
     "text": [
      "(32, 17)\n",
      "FECHA              object\n",
      "CC                 object\n",
      "CLAVSERV           object\n",
      "CENTROPAGO          int64\n",
      "IMPORTE           float64\n",
      "MONEDA             object\n",
      "NOMBRE             object\n",
      "ESTADO             object\n",
      "FLAG               object\n",
      "CONTRATO           object\n",
      "TIPO_FONDO         object\n",
      "CARTERA            object\n",
      "NOMBRE_CLIENTE     object\n",
      "FECHA_ENVIO        object\n",
      "ID_RESPONSABLE     object\n",
      "TIPO_CARTERA       object\n",
      "AGENCIA            object\n",
      "dtype: object\n"
     ]
    },
    {
     "data": {
      "text/html": [
       "<div>\n",
       "<style scoped>\n",
       "    .dataframe tbody tr th:only-of-type {\n",
       "        vertical-align: middle;\n",
       "    }\n",
       "\n",
       "    .dataframe tbody tr th {\n",
       "        vertical-align: top;\n",
       "    }\n",
       "\n",
       "    .dataframe thead th {\n",
       "        text-align: right;\n",
       "    }\n",
       "</style>\n",
       "<table border=\"1\" class=\"dataframe\">\n",
       "  <thead>\n",
       "    <tr style=\"text-align: right;\">\n",
       "      <th></th>\n",
       "      <th>FECHA</th>\n",
       "      <th>CC</th>\n",
       "      <th>CLAVSERV</th>\n",
       "      <th>CENTROPAGO</th>\n",
       "      <th>IMPORTE</th>\n",
       "      <th>MONEDA</th>\n",
       "      <th>NOMBRE</th>\n",
       "      <th>ESTADO</th>\n",
       "      <th>FLAG</th>\n",
       "      <th>CONTRATO</th>\n",
       "      <th>TIPO_FONDO</th>\n",
       "      <th>CARTERA</th>\n",
       "      <th>NOMBRE_CLIENTE</th>\n",
       "      <th>FECHA_ENVIO</th>\n",
       "      <th>ID_RESPONSABLE</th>\n",
       "      <th>TIPO_CARTERA</th>\n",
       "      <th>AGENCIA</th>\n",
       "    </tr>\n",
       "  </thead>\n",
       "  <tbody>\n",
       "    <tr>\n",
       "      <th>0</th>\n",
       "      <td>2024-08-31</td>\n",
       "      <td>09839518</td>\n",
       "      <td>00248</td>\n",
       "      <td>215</td>\n",
       "      <td>1500.0</td>\n",
       "      <td>PEN</td>\n",
       "      <td>ROBERTO ELEODORO VELASQUEZ MORALES.</td>\n",
       "      <td>P</td>\n",
       "      <td>1</td>\n",
       "      <td>001102155001157281</td>\n",
       "      <td>NULL</td>\n",
       "      <td>BC</td>\n",
       "      <td>ROBERTO ELEODORO VELASQUEZ MORALES</td>\n",
       "      <td>03-Sep</td>\n",
       "      <td>MIV</td>\n",
       "      <td>SECURED</td>\n",
       "      <td>SIN AGENCIA</td>\n",
       "    </tr>\n",
       "    <tr>\n",
       "      <th>1</th>\n",
       "      <td>2024-09-02</td>\n",
       "      <td>20613626</td>\n",
       "      <td>00248</td>\n",
       "      <td>136</td>\n",
       "      <td>10000.0</td>\n",
       "      <td>PEN</td>\n",
       "      <td>MARIA PATRICIA CERNA MONJE.</td>\n",
       "      <td>P</td>\n",
       "      <td>1</td>\n",
       "      <td>001104869600914554</td>\n",
       "      <td>NULL</td>\n",
       "      <td>BC</td>\n",
       "      <td>MARIA PATRICIA CERNA MONJE</td>\n",
       "      <td>03-Sep</td>\n",
       "      <td>MIV</td>\n",
       "      <td>SECURED</td>\n",
       "      <td>SIN AGENCIA</td>\n",
       "    </tr>\n",
       "    <tr>\n",
       "      <th>2</th>\n",
       "      <td>2024-09-02</td>\n",
       "      <td>20935081</td>\n",
       "      <td>00248</td>\n",
       "      <td>358</td>\n",
       "      <td>75.0</td>\n",
       "      <td>PEN</td>\n",
       "      <td>001104085006730582</td>\n",
       "      <td>P</td>\n",
       "      <td></td>\n",
       "      <td>None</td>\n",
       "      <td>None</td>\n",
       "      <td>NaN</td>\n",
       "      <td>NaN</td>\n",
       "      <td>03-Sep</td>\n",
       "      <td>MIV</td>\n",
       "      <td>None</td>\n",
       "      <td>NaN</td>\n",
       "    </tr>\n",
       "    <tr>\n",
       "      <th>3</th>\n",
       "      <td>2024-08-31</td>\n",
       "      <td>20982291</td>\n",
       "      <td>00248</td>\n",
       "      <td>177</td>\n",
       "      <td>2500.0</td>\n",
       "      <td>PEN</td>\n",
       "      <td>JORGE ARMANDO GARCIA BARRIOS,1/</td>\n",
       "      <td>P</td>\n",
       "      <td>1</td>\n",
       "      <td>001108319601006834</td>\n",
       "      <td>NULL</td>\n",
       "      <td>BC</td>\n",
       "      <td>JORGE ARMANDO GARCIA BARRIOS</td>\n",
       "      <td>03-Sep</td>\n",
       "      <td>MIV</td>\n",
       "      <td>SECURED</td>\n",
       "      <td>SIN AGENCIA</td>\n",
       "    </tr>\n",
       "    <tr>\n",
       "      <th>4</th>\n",
       "      <td>2024-09-02</td>\n",
       "      <td>21403390</td>\n",
       "      <td>00249</td>\n",
       "      <td>148</td>\n",
       "      <td>3000.0</td>\n",
       "      <td>USD</td>\n",
       "      <td>IZQUIERDO &amp; CASAFRAN CA CONSTRUCCIONES,,</td>\n",
       "      <td>P</td>\n",
       "      <td>1</td>\n",
       "      <td>001103979600067823</td>\n",
       "      <td>NULL</td>\n",
       "      <td>BC</td>\n",
       "      <td>IZQUIERDO &amp; CASAFRANCA CONSTRUCCIONES METALICA...</td>\n",
       "      <td>03-Sep</td>\n",
       "      <td>MIV</td>\n",
       "      <td>SECURED</td>\n",
       "      <td>SIN AGENCIA</td>\n",
       "    </tr>\n",
       "  </tbody>\n",
       "</table>\n",
       "</div>"
      ],
      "text/plain": [
       "        FECHA        CC CLAVSERV  CENTROPAGO  IMPORTE MONEDA  \\\n",
       "0  2024-08-31  09839518    00248         215   1500.0    PEN   \n",
       "1  2024-09-02  20613626    00248         136  10000.0    PEN   \n",
       "2  2024-09-02  20935081    00248         358     75.0    PEN   \n",
       "3  2024-08-31  20982291    00248         177   2500.0    PEN   \n",
       "4  2024-09-02  21403390    00249         148   3000.0    USD   \n",
       "\n",
       "                                     NOMBRE ESTADO FLAG            CONTRATO  \\\n",
       "0       ROBERTO ELEODORO VELASQUEZ MORALES.      P    1  001102155001157281   \n",
       "1               MARIA PATRICIA CERNA MONJE.      P    1  001104869600914554   \n",
       "2                        001104085006730582      P                     None   \n",
       "3           JORGE ARMANDO GARCIA BARRIOS,1/      P    1  001108319601006834   \n",
       "4  IZQUIERDO & CASAFRAN CA CONSTRUCCIONES,,      P    1  001103979600067823   \n",
       "\n",
       "  TIPO_FONDO CARTERA                                     NOMBRE_CLIENTE  \\\n",
       "0       NULL      BC                 ROBERTO ELEODORO VELASQUEZ MORALES   \n",
       "1       NULL      BC                         MARIA PATRICIA CERNA MONJE   \n",
       "2       None     NaN                                                NaN   \n",
       "3       NULL      BC                       JORGE ARMANDO GARCIA BARRIOS   \n",
       "4       NULL      BC  IZQUIERDO & CASAFRANCA CONSTRUCCIONES METALICA...   \n",
       "\n",
       "  FECHA_ENVIO ID_RESPONSABLE TIPO_CARTERA      AGENCIA  \n",
       "0      03-Sep            MIV      SECURED  SIN AGENCIA  \n",
       "1      03-Sep            MIV      SECURED  SIN AGENCIA  \n",
       "2      03-Sep            MIV         None          NaN  \n",
       "3      03-Sep            MIV      SECURED  SIN AGENCIA  \n",
       "4      03-Sep            MIV      SECURED  SIN AGENCIA  "
      ]
     },
     "execution_count": 434,
     "metadata": {},
     "output_type": "execute_result"
    }
   ],
   "source": [
    "df_no_enviados = pd.concat([df_no_mono, df_no_multi, df_base_no_flag])\n",
    "df_no_enviados['FLAG'] = df_no_enviados['FLAG'].astype('Int64').fillna(0)\n",
    "\n",
    "df_no_enviados['CONTRATO'] = df_no_enviados.apply(lambda x: None if x['FLAG'] != 1 else x['CONTRATO'], axis=1)\n",
    "df_no_enviados['TIPO_FONDO'] = df_no_enviados.apply(lambda x: None if x['FLAG'] != 1 else x['TIPO_FONDO'], axis=1)\n",
    "df_no_enviados['TIPO_CARTERA'] = df_no_enviados.apply(lambda x: None if x['FLAG'] != 1 else x['TIPO_CARTERA'], axis=1)\n",
    "\n",
    "df_no_enviados['FLAG'] = df_no_enviados['FLAG'].apply(lambda x: '' if x == 0 else x)\n",
    "\n",
    "df_no_enviados.sort_values(by=['CC'], inplace=True)\n",
    "df_no_enviados.reset_index(drop=True, inplace=True)\n",
    "\n",
    "print(df_no_enviados.shape)\n",
    "print(df_no_enviados.dtypes)\n",
    "df_no_enviados.head(5)"
   ]
  },
  {
   "cell_type": "code",
   "execution_count": 435,
   "metadata": {},
   "outputs": [
    {
     "name": "stdout",
     "output_type": "stream",
     "text": [
      "NO ENVIADOS OK\n"
     ]
    }
   ],
   "source": [
    "if no_eviados == df_no_enviados.shape[0]:\n",
    "    print('NO ENVIADOS OK')\n",
    "else:\n",
    "    print('NO ENVIADOS ERROR')"
   ]
  },
  {
   "cell_type": "code",
   "execution_count": 436,
   "metadata": {},
   "outputs": [],
   "source": [
    "df_no_enviados.to_excel(no_enviados_path, index=False)"
   ]
  },
  {
   "cell_type": "code",
   "execution_count": 437,
   "metadata": {},
   "outputs": [],
   "source": [
    "#################### FORMATO EXCEL ####################"
   ]
  },
  {
   "cell_type": "code",
   "execution_count": 438,
   "metadata": {},
   "outputs": [],
   "source": [
    "import openpyxl as op\n",
    "from openpyxl.styles import Font, PatternFill, Alignment\n",
    "\n",
    "def format_excel(file_path: str, validator: str) -> None:\n",
    "    workbook = op.load_workbook(file_path)\n",
    "    sheet = workbook.active\n",
    "    \n",
    "    # Definir estilos generales\n",
    "    general_font = Font(name='Calibri', size=11)\n",
    "    header_font = Font(name='Calibri', size=11, bold=True, color='FFFFFF')\n",
    "    alignment_center = Alignment(horizontal='center', vertical='center')\n",
    "    \n",
    "    # Definir estilos específicos\n",
    "    header_font_white = Font(name='Calibri', size=11, bold=True, color='000000')\n",
    "    header_fill_blue = PatternFill(start_color='002060', end_color='002060', fill_type='solid')\n",
    "    header_fill_yellow = PatternFill(start_color='FFD965', end_color='FFD965', fill_type='solid')\n",
    "    header_fill_green = PatternFill(start_color='C4D79B', end_color='C4D79B', fill_type='solid')\n",
    "    header_fill_orange = PatternFill(start_color='FABF8F', end_color='FABF8F', fill_type='solid')\n",
    "    \n",
    "    # Aplicar estilos generales a todas las celdas\n",
    "    for row in sheet.iter_rows():\n",
    "        for cell in row:\n",
    "            cell.font = general_font\n",
    "    \n",
    "    # Aplicar estilos al encabezado (fila 1)\n",
    "    for cell in sheet[1]:\n",
    "        cell.font = header_font\n",
    "        cell.alignment = alignment_center\n",
    "    \n",
    "    # Aplicar estilos específicos según el validador\n",
    "    if validator == 'mono':\n",
    "        for col in range(1, 10):  # Columnas A-I\n",
    "            sheet.cell(row=1, column=col).fill = header_fill_blue\n",
    "        for col in range(10, 14):  # Columnas J-M\n",
    "            sheet.cell(row=1, column=col).fill = header_fill_yellow\n",
    "            sheet.cell(row=1, column=col).font = header_font_white\n",
    "        for col in range(14, 16):  # Columnas N-O\n",
    "            sheet.cell(row=1, column=col).fill = header_fill_green\n",
    "            sheet.cell(row=1, column=col).font = header_font_white\n",
    "        for col in range(16, 17):  # Columna P\n",
    "            sheet.cell(row=1, column=col).fill = header_fill_orange\n",
    "            sheet.cell(row=1, column=col).font = header_font_white\n",
    "    \n",
    "    elif validator == 'multi':\n",
    "        for col in range(1, 10):  # Columnas A-I\n",
    "            sheet.cell(row=1, column=col).fill = header_fill_blue\n",
    "        for col in range(10, 12):  # Columnas J-K\n",
    "            sheet.cell(row=1, column=col).fill = header_fill_green\n",
    "            sheet.cell(row=1, column=col).font = header_font_white\n",
    "        for col in range(12, 15):  # Columnas L-N\n",
    "            sheet.cell(row=1, column=col).fill = header_fill_yellow\n",
    "            sheet.cell(row=1, column=col).font = header_font_white\n",
    "    \n",
    "    elif validator == 'instruccion':\n",
    "        for col in range(1, 11): # Columnas A-J\n",
    "            sheet.cell(row=1, column=col).fill = header_fill_blue\n",
    "        for col in range(11, 13): # Columnas K-L\n",
    "            sheet.cell(row=1, column=col).fill = header_fill_green\n",
    "            sheet.cell(row=1, column=col).font = header_font_white\n",
    "        for col in range(13, 17):  # Columnas M-P\n",
    "            sheet.cell(row=1, column=col).fill = header_fill_yellow\n",
    "            sheet.cell(row=1, column=col).font = header_font_white\n",
    "        for col in range(17, 18):  # Columna Q\n",
    "            sheet.cell(row=1, column=col).fill = header_fill_orange\n",
    "            sheet.cell(row=1, column=col).font = header_font_white\n",
    "    \n",
    "    workbook.save(file_path)"
   ]
  },
  {
   "cell_type": "code",
   "execution_count": 439,
   "metadata": {},
   "outputs": [],
   "source": [
    "format_excel(mono_path, \"mono\")\n",
    "format_excel(multi_path, \"multi\")\n",
    "format_excel(react_path, \"instruccion\")\n",
    "format_excel(no_enviados_path, \"instruccion\")\n",
    "\n",
    "os.startfile(mono_path)\n",
    "os.startfile(multi_path)\n",
    "os.startfile(react_path)        \n",
    "os.startfile(no_enviados_path)"
   ]
  },
  {
   "cell_type": "code",
   "execution_count": 440,
   "metadata": {},
   "outputs": [],
   "source": [
    "#################### AGENCIAS ####################"
   ]
  },
  {
   "cell_type": "code",
   "execution_count": 441,
   "metadata": {},
   "outputs": [],
   "source": [
    "#df_1 = pd.read_excel('agencias/RJ.xlsx')\n",
    "#df_2 = pd.read_excel('agencias/CLASA.xlsx')\n",
    "#df_3 = pd.read_excel('agencias/MORNESE.xlsx')\n",
    "\n",
    "#df_1['AGENCIA'] = df_1['AGENCIA'].fillna('ASESCOM RJ')\n",
    "#df_2['AGENCIA'] = df_2['AGENCIA'].fillna('CLASA MORA')\n",
    "#df_3['AGENCIA'] = df_3['AGENCIA'].fillna('MORNESE MORA')\n",
    "\n",
    "#df_1['CONTRATO'] = df_1['CONTRATO'].fillna('sin contrato')\n",
    "#df_2['CONTRATO'] = df_2['CONTRATO'].fillna('sin contrato')\n",
    "#df_3['CONTRATO'] = df_3['CONTRATO'].fillna('sin contrato')\n"
   ]
  },
  {
   "cell_type": "code",
   "execution_count": 442,
   "metadata": {},
   "outputs": [],
   "source": [
    "#df_test = pd.read_excel('reporte/2024.09.03/MULTIPRODUCTO 02.09.2024.xlsx')\n",
    "#print(df_test.shape)\n",
    "#df_test.head(5)"
   ]
  },
  {
   "cell_type": "code",
   "execution_count": 443,
   "metadata": {},
   "outputs": [
    {
     "ename": "NameError",
     "evalue": "name 'df_test' is not defined",
     "output_type": "error",
     "traceback": [
      "\u001b[1;31m---------------------------------------------------------------------------\u001b[0m",
      "\u001b[1;31mNameError\u001b[0m                                 Traceback (most recent call last)",
      "Cell \u001b[1;32mIn[443], line 3\u001b[0m\n\u001b[0;32m      1\u001b[0m \u001b[38;5;66;03m#df_asignacion_test['codigo'] = df_asignacion_test['codigo'].astype('Int64').astype(str).str.zfill(8)\u001b[39;00m\n\u001b[0;32m      2\u001b[0m df_asignacion_test[\u001b[38;5;124m'\u001b[39m\u001b[38;5;124mcont_18\u001b[39m\u001b[38;5;124m'\u001b[39m] \u001b[38;5;241m=\u001b[39m df_asignacion_test[\u001b[38;5;124m'\u001b[39m\u001b[38;5;124mcont_18\u001b[39m\u001b[38;5;124m'\u001b[39m]\u001b[38;5;241m.\u001b[39mapply(\u001b[38;5;28;01mlambda\u001b[39;00m x: \u001b[38;5;28mstr\u001b[39m(\u001b[38;5;28mint\u001b[39m(x))\u001b[38;5;241m.\u001b[39mzfill(\u001b[38;5;241m18\u001b[39m) \u001b[38;5;28;01mif\u001b[39;00m pd\u001b[38;5;241m.\u001b[39mnotna(x) \u001b[38;5;28;01melse\u001b[39;00m x)\n\u001b[1;32m----> 3\u001b[0m df_test[\u001b[38;5;124m'\u001b[39m\u001b[38;5;124mCONTRATO\u001b[39m\u001b[38;5;124m'\u001b[39m] \u001b[38;5;241m=\u001b[39m \u001b[43mdf_test\u001b[49m[\u001b[38;5;124m'\u001b[39m\u001b[38;5;124mCONTRATO\u001b[39m\u001b[38;5;124m'\u001b[39m]\u001b[38;5;241m.\u001b[39mapply(\u001b[38;5;28;01mlambda\u001b[39;00m x: \u001b[38;5;28mstr\u001b[39m(\u001b[38;5;28mint\u001b[39m(x))\u001b[38;5;241m.\u001b[39mzfill(\u001b[38;5;241m18\u001b[39m) \u001b[38;5;28;01mif\u001b[39;00m pd\u001b[38;5;241m.\u001b[39mnotna(x) \u001b[38;5;28;01melse\u001b[39;00m x)\n\u001b[0;32m      5\u001b[0m df_test \u001b[38;5;241m=\u001b[39m df_test\u001b[38;5;241m.\u001b[39mdrop(columns\u001b[38;5;241m=\u001b[39m[\u001b[38;5;124m'\u001b[39m\u001b[38;5;124mTIPO_FONDO\u001b[39m\u001b[38;5;124m'\u001b[39m, \u001b[38;5;124m'\u001b[39m\u001b[38;5;124mCARTERA\u001b[39m\u001b[38;5;124m'\u001b[39m])\n\u001b[0;32m      7\u001b[0m cols_asignacion \u001b[38;5;241m=\u001b[39m [\u001b[38;5;124m'\u001b[39m\u001b[38;5;124mcont_18\u001b[39m\u001b[38;5;124m'\u001b[39m, \u001b[38;5;124m'\u001b[39m\u001b[38;5;124mTIPO_FONDO\u001b[39m\u001b[38;5;124m'\u001b[39m, \u001b[38;5;124m'\u001b[39m\u001b[38;5;124mclave\u001b[39m\u001b[38;5;124m'\u001b[39m, \u001b[38;5;124m'\u001b[39m\u001b[38;5;124mTIPO_CARTERA\u001b[39m\u001b[38;5;124m'\u001b[39m, \u001b[38;5;124m'\u001b[39m\u001b[38;5;124mAGENCIA CORRECTA\u001b[39m\u001b[38;5;124m'\u001b[39m]\n",
      "\u001b[1;31mNameError\u001b[0m: name 'df_test' is not defined"
     ]
    }
   ],
   "source": [
    "#df_asignacion_test['codigo'] = df_asignacion_test['codigo'].astype('Int64').astype(str).str.zfill(8)\n",
    "df_asignacion_test['cont_18'] = df_asignacion_test['cont_18'].apply(lambda x: str(int(x)).zfill(18) if pd.notna(x) else x)\n",
    "df_test['CONTRATO'] = df_test['CONTRATO'].apply(lambda x: str(int(x)).zfill(18) if pd.notna(x) else x)\n",
    "\n",
    "df_test = df_test.drop(columns=['TIPO_FONDO', 'CARTERA'])\n",
    "\n",
    "cols_asignacion = ['cont_18', 'TIPO_FONDO', 'clave', 'TIPO_CARTERA', 'AGENCIA CORRECTA']\n",
    "df_test = df_test.merge(df_asignacion_test[cols_asignacion], left_on='CONTRATO', right_on='cont_18', how='left')\n",
    "\n",
    "df_test = df_test.drop(columns=['cont_18'])\n",
    "\n",
    "df_test = df_test.rename(columns={'clave': 'CARTERA', 'AGENCIA CORRECTA': 'AGENCIA'})\n",
    "\n",
    "cols_multi_final = ['FECHA', 'CC', 'CLAVSERV', 'IMPORTE', 'MONEDA', 'NOMBRE', 'ESTADO', 'FLAG', 'CONTRATO', 'TIPO_FONDO', 'CARTERA', 'NOMBRE_CLIENTE', 'FECHA_ENVIO', 'ID_RESPONSABLE', 'TIPO_CARTERA', 'AGENCIA']\n",
    "df_test = df_test[cols_multi_final]\n",
    "\n",
    "print(df_test.shape)\n",
    "print(df_test.dtypes)\n",
    "df_test.head(25)"
   ]
  },
  {
   "cell_type": "code",
   "execution_count": null,
   "metadata": {},
   "outputs": [],
   "source": [
    "#df_test.to_excel('reporte/2024.09.03/MULTIPRODUCTO 02.09.2024_FINAL.xlsx', index=False)"
   ]
  },
  {
   "cell_type": "code",
   "execution_count": null,
   "metadata": {},
   "outputs": [],
   "source": [
    "#format_excel('reporte/2024.09.03/MULTIPRODUCTO 02.09.2024_FINAL.xlsx', \"multi\")"
   ]
  }
 ],
 "metadata": {
  "kernelspec": {
   "display_name": "Python 3",
   "language": "python",
   "name": "python3"
  },
  "language_info": {
   "codemirror_mode": {
    "name": "ipython",
    "version": 3
   },
   "file_extension": ".py",
   "mimetype": "text/x-python",
   "name": "python",
   "nbconvert_exporter": "python",
   "pygments_lexer": "ipython3",
   "version": "3.10.9"
  }
 },
 "nbformat": 4,
 "nbformat_minor": 2
}
