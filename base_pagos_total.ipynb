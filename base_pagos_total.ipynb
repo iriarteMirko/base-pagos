{
 "cells": [
  {
   "cell_type": "code",
   "execution_count": 1,
   "metadata": {},
   "outputs": [],
   "source": [
    "import pandas as pd\n",
    "import warnings\n",
    "\n",
    "warnings.filterwarnings(\"ignore\")"
   ]
  },
  {
   "cell_type": "code",
   "execution_count": 2,
   "metadata": {},
   "outputs": [],
   "source": [
    "pagos_efect = \"BasePagos_Efectividades_20240912.xlsx\"\n",
    "df_pagos = pd.read_excel(pagos_efect, sheet_name=\"BD\")"
   ]
  },
  {
   "cell_type": "code",
   "execution_count": null,
   "metadata": {},
   "outputs": [],
   "source": [
    "df_pagos_test = df_pagos.copy()\n",
    "print(df_pagos_test.shape)\n",
    "\n",
    "cols =  [\"fecha\", \"periodo\", \"dia\", \"Dia_Util\", \"codcent\", \"contrato\", \"clave\", \"CapitalSoles\", \"PagoTotalSoles\", \"PagoEfectTotalSoles\", \"PagoEfectTotalSolesAgencia\", \"PagoEfectTotalSolesAgenciaCont\", \"Agencia\", \"desc_tramo\", \"foco\"]\n",
    "df_pagos_test = df_pagos_test[cols]\n",
    "print(df_pagos_test.shape)\n",
    "\n",
    "df_pagos_test = df_pagos_test[df_pagos_test[\"PagoEfectTotalSolesAgenciaCont\"]!=0]\n",
    "print(df_pagos_test.shape)\n",
    "\n",
    "print(df_pagos_test.value_counts(\"desc_tramo\"))\n",
    "\n",
    "def marca_kst(row):\n",
    "    if row[\"clave\"] == \"KSTBC\":\n",
    "        if row[\"desc_tramo\"] in [\"< 01 año\", \"De 90 a 180 dias\", \"< 02 años\"]:\n",
    "            return \"KSTBC\"\n",
    "        else:\n",
    "            return \"KSTBC_2\"\n",
    "    return \"\"\n",
    "\n",
    "df_pagos_test[\"MARCA KST\"] = df_pagos_test.apply(marca_kst, axis=1)\n",
    "print(df_pagos_test.value_counts(\"MARCA KST\"))\n",
    "\n",
    "df_pagos_test[\"codcent\"] = df_pagos_test[\"codcent\"].astype(str)\n",
    "df_pagos_test[\"contrato\"] = df_pagos_test[\"contrato\"].astype(str).str.zfill(20)\n",
    "df_pagos_test[\"cont_18\"] = df_pagos_test[\"contrato\"].apply(lambda x: x[:8] + x[-10:])\n",
    "\n",
    "cols =  [\"fecha\", \"periodo\", \"dia\", \"Dia_Util\", \"codcent\", \"contrato\", \"cont_18\", \"clave\", \"CapitalSoles\", \"PagoTotalSoles\", \"PagoEfectTotalSoles\", \"PagoEfectTotalSolesAgencia\", \"PagoEfectTotalSolesAgenciaCont\", \"Agencia\", \"foco\", \"MARCA KST\"]\n",
    "df_pagos_test = df_pagos_test[cols]\n",
    "print(df_pagos_test.shape)"
   ]
  },
  {
   "cell_type": "code",
   "execution_count": 13,
   "metadata": {},
   "outputs": [],
   "source": [
    "df_pagos_test.to_excel(\"BASE_PAGOS_AGENCIAS_SEPTIEMBRE.xlsx\", index=False)"
   ]
  }
 ],
 "metadata": {
  "kernelspec": {
   "display_name": "Python 3",
   "language": "python",
   "name": "python3"
  },
  "language_info": {
   "codemirror_mode": {
    "name": "ipython",
    "version": 3
   },
   "file_extension": ".py",
   "mimetype": "text/x-python",
   "name": "python",
   "nbconvert_exporter": "python",
   "pygments_lexer": "ipython3",
   "version": "3.11.5"
  }
 },
 "nbformat": 4,
 "nbformat_minor": 2
}
