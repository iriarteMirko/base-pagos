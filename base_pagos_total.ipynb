{
 "cells": [
  {
   "cell_type": "code",
   "execution_count": 28,
   "metadata": {},
   "outputs": [],
   "source": [
    "import pandas as pd\n",
    "import warnings\n",
    "\n",
    "warnings.filterwarnings(\"ignore\")"
   ]
  },
  {
   "cell_type": "code",
   "execution_count": 53,
   "metadata": {},
   "outputs": [],
   "source": [
    "pagos_efect_2 = \"BasePagos_Efectividades_20240823_Contrato.xlsx\"\n",
    "df_pagos_2 = pd.read_excel(pagos_efect_2, sheet_name=\"BD\")"
   ]
  },
  {
   "cell_type": "code",
   "execution_count": 42,
   "metadata": {},
   "outputs": [],
   "source": [
    "pagos_efect = \"BasePagos_Efectividades_20240731_Contrato.xlsx\"\n",
    "df_pagos = pd.read_excel(pagos_efect, sheet_name=\"BD\")"
   ]
  },
  {
   "cell_type": "code",
   "execution_count": 55,
   "metadata": {},
   "outputs": [
    {
     "name": "stdout",
     "output_type": "stream",
     "text": [
      "(237104, 99)\n",
      "fecha                    int64\n",
      "periodo                  int64\n",
      "dia                      int64\n",
      "Dia_Util                 int64\n",
      "codcent                  int64\n",
      "                        ...   \n",
      "CLASIF_ANT             float64\n",
      "AMBITO_RCD              object\n",
      "SEGMENTO_RIESGO         object\n",
      "RANGO_CAPITAL_SOLES     object\n",
      "ENTIDAD_KST             object\n",
      "Length: 99, dtype: object\n"
     ]
    },
    {
     "data": {
      "text/html": [
       "<div>\n",
       "<style scoped>\n",
       "    .dataframe tbody tr th:only-of-type {\n",
       "        vertical-align: middle;\n",
       "    }\n",
       "\n",
       "    .dataframe tbody tr th {\n",
       "        vertical-align: top;\n",
       "    }\n",
       "\n",
       "    .dataframe thead th {\n",
       "        text-align: right;\n",
       "    }\n",
       "</style>\n",
       "<table border=\"1\" class=\"dataframe\">\n",
       "  <thead>\n",
       "    <tr style=\"text-align: right;\">\n",
       "      <th></th>\n",
       "      <th>fecha</th>\n",
       "      <th>periodo</th>\n",
       "      <th>dia</th>\n",
       "      <th>Dia_Util</th>\n",
       "      <th>codcent</th>\n",
       "      <th>clave</th>\n",
       "      <th>Agencia</th>\n",
       "      <th>CodAgenciaDist</th>\n",
       "      <th>foco</th>\n",
       "      <th>contrato</th>\n",
       "      <th>...</th>\n",
       "      <th>Ticket_prom_pago</th>\n",
       "      <th>GASTO_MENSUAL</th>\n",
       "      <th>PROV_ACTUAL</th>\n",
       "      <th>AHORRO</th>\n",
       "      <th>AMBITO</th>\n",
       "      <th>CLASIF_ANT</th>\n",
       "      <th>AMBITO_RCD</th>\n",
       "      <th>SEGMENTO_RIESGO</th>\n",
       "      <th>RANGO_CAPITAL_SOLES</th>\n",
       "      <th>ENTIDAD_KST</th>\n",
       "    </tr>\n",
       "  </thead>\n",
       "  <tbody>\n",
       "    <tr>\n",
       "      <th>0</th>\n",
       "      <td>20240731</td>\n",
       "      <td>202407</td>\n",
       "      <td>31</td>\n",
       "      <td>22</td>\n",
       "      <td>28009053</td>\n",
       "      <td>KSTBC</td>\n",
       "      <td>ASESCOM RJ</td>\n",
       "      <td>80</td>\n",
       "      <td>NaN</td>\n",
       "      <td>110010659600027826</td>\n",
       "      <td>...</td>\n",
       "      <td>NaN</td>\n",
       "      <td>NaN</td>\n",
       "      <td>NaN</td>\n",
       "      <td>NaN</td>\n",
       "      <td>NaN</td>\n",
       "      <td>NaN</td>\n",
       "      <td>NaN</td>\n",
       "      <td>OTRO</td>\n",
       "      <td>D.&gt;50,000</td>\n",
       "      <td>BC</td>\n",
       "    </tr>\n",
       "    <tr>\n",
       "      <th>1</th>\n",
       "      <td>20240731</td>\n",
       "      <td>202407</td>\n",
       "      <td>31</td>\n",
       "      <td>22</td>\n",
       "      <td>26970240</td>\n",
       "      <td>KSTBC</td>\n",
       "      <td>ASESCOM RJ</td>\n",
       "      <td>80</td>\n",
       "      <td>NaN</td>\n",
       "      <td>110814199600812206</td>\n",
       "      <td>...</td>\n",
       "      <td>NaN</td>\n",
       "      <td>NaN</td>\n",
       "      <td>NaN</td>\n",
       "      <td>NaN</td>\n",
       "      <td>NaN</td>\n",
       "      <td>NaN</td>\n",
       "      <td>NaN</td>\n",
       "      <td>OTRO</td>\n",
       "      <td>B.&gt;5000</td>\n",
       "      <td>EXJ</td>\n",
       "    </tr>\n",
       "    <tr>\n",
       "      <th>2</th>\n",
       "      <td>20240731</td>\n",
       "      <td>202407</td>\n",
       "      <td>31</td>\n",
       "      <td>22</td>\n",
       "      <td>26761542</td>\n",
       "      <td>KSTBC</td>\n",
       "      <td>ASESCOM RJ</td>\n",
       "      <td>80</td>\n",
       "      <td>NaN</td>\n",
       "      <td>110704439601914985</td>\n",
       "      <td>...</td>\n",
       "      <td>NaN</td>\n",
       "      <td>NaN</td>\n",
       "      <td>NaN</td>\n",
       "      <td>NaN</td>\n",
       "      <td>NaN</td>\n",
       "      <td>NaN</td>\n",
       "      <td>NaN</td>\n",
       "      <td>OTRO</td>\n",
       "      <td>A.&lt;5000</td>\n",
       "      <td>EXJ</td>\n",
       "    </tr>\n",
       "  </tbody>\n",
       "</table>\n",
       "<p>3 rows × 99 columns</p>\n",
       "</div>"
      ],
      "text/plain": [
       "      fecha  periodo  dia  Dia_Util   codcent  clave     Agencia  \\\n",
       "0  20240731   202407   31        22  28009053  KSTBC  ASESCOM RJ   \n",
       "1  20240731   202407   31        22  26970240  KSTBC  ASESCOM RJ   \n",
       "2  20240731   202407   31        22  26761542  KSTBC  ASESCOM RJ   \n",
       "\n",
       "   CodAgenciaDist foco            contrato  ...  Ticket_prom_pago  \\\n",
       "0              80  NaN  110010659600027826  ...               NaN   \n",
       "1              80  NaN  110814199600812206  ...               NaN   \n",
       "2              80  NaN  110704439601914985  ...               NaN   \n",
       "\n",
       "   GASTO_MENSUAL  PROV_ACTUAL  AHORRO  AMBITO  CLASIF_ANT  AMBITO_RCD  \\\n",
       "0            NaN          NaN     NaN     NaN         NaN         NaN   \n",
       "1            NaN          NaN     NaN     NaN         NaN         NaN   \n",
       "2            NaN          NaN     NaN     NaN         NaN         NaN   \n",
       "\n",
       "   SEGMENTO_RIESGO  RANGO_CAPITAL_SOLES  ENTIDAD_KST  \n",
       "0             OTRO            D.>50,000           BC  \n",
       "1             OTRO              B.>5000          EXJ  \n",
       "2             OTRO              A.<5000          EXJ  \n",
       "\n",
       "[3 rows x 99 columns]"
      ]
     },
     "execution_count": 55,
     "metadata": {},
     "output_type": "execute_result"
    }
   ],
   "source": [
    "df_pagos_test = df_pagos.copy()\n",
    "print(df_pagos_test.shape)\n",
    "print(df_pagos_test.dtypes)\n",
    "df_pagos_test.head(3)"
   ]
  },
  {
   "cell_type": "code",
   "execution_count": 56,
   "metadata": {},
   "outputs": [
    {
     "data": {
      "text/plain": [
       "Index(['fecha', 'periodo', 'dia', 'Dia_Util', 'codcent', 'clave', 'Agencia',\n",
       "       'CodAgenciaDist', 'foco', 'contrato', 'META', 'flag_exclusion_findemes',\n",
       "       'oficina', 'MaxDA', 'NUM', 'CapitalSoles', 'PagoTotalSoles',\n",
       "       'PagoTotalDistribuida', 'PagoEfectTotalSoles',\n",
       "       'PagoEfectTotalSolesAgencia', 'PagoEfectTotalSolesAgenciaCont', 'tramo',\n",
       "       'desc_tramo', 'Gestionado_Total', 'Gestionado_Total_SinDiscador',\n",
       "       'Directo_Total', 'Indirecto_Total', 'NoContacto_Total', 'PDP_Total',\n",
       "       'Gestionado_call', 'Gestionado_call_SinDiscador', 'Contacto_Call',\n",
       "       'Directo_Call', 'Indirecto_Call', 'NoContacto_Call', 'PDP_Call',\n",
       "       'Gestionado_Campo', 'Contacto_Campo', 'Directo_Campo',\n",
       "       'Indirecto_Campo', 'NoContacto_Campo', 'PDP_Campo', 'PDPCumplida',\n",
       "       'GestIndirectaPositiva', 'GestIndirecta', 'GestDirectaPositiva',\n",
       "       'ClienteAlDia', 'Gestionado2_Total', 'Gestionado2_Total_SinDiscador',\n",
       "       'Directo2_Total', 'Directo3_Total', 'Indirecto2_Total',\n",
       "       'Indirecto3_Total', 'NoContacto2_Total', 'NoContacto3_Total',\n",
       "       'PDP2_Total', 'PDPCumplida_Total', 'Gestionado2_Call',\n",
       "       'Gestionado2_Call_SinDiscador', 'Contacto2_Call', 'Directo2_Call',\n",
       "       'Directo3_Call', 'Indirecto2_Call', 'Indirecto3_Call',\n",
       "       'NoContacto2_Call', 'NoContacto3_Call', 'PDP2_Call', 'PDPCumplida_Call',\n",
       "       'Gestionado2_Campo', 'Contacto2_Campo', 'Directo2_Campo',\n",
       "       'Directo3_Campo', 'Indirecto2_Campo', 'Indirecto3_Campo',\n",
       "       'NoContacto2_Campo', 'NoContacto3_Campo', 'PDP2_Campo',\n",
       "       'PDPCumplida_Campo', 'Flag_Capital', 'segmento', 'ZONA', 'Efectividad',\n",
       "       'Cobertura', 'Intensidad', 'PDP', 'PDP_Cumplida', 'Tasa_Cierre',\n",
       "       'Contacto_Efectivo', 'Contacto_Total', 'Ticket_prom_pago',\n",
       "       'GASTO_MENSUAL', 'PROV_ACTUAL', 'AHORRO', 'AMBITO', 'CLASIF_ANT',\n",
       "       'AMBITO_RCD', 'SEGMENTO_RIESGO', 'RANGO_CAPITAL_SOLES', 'ENTIDAD_KST'],\n",
       "      dtype='object')"
      ]
     },
     "execution_count": 56,
     "metadata": {},
     "output_type": "execute_result"
    }
   ],
   "source": [
    "df_pagos_test.columns"
   ]
  },
  {
   "cell_type": "code",
   "execution_count": 44,
   "metadata": {},
   "outputs": [
    {
     "name": "stdout",
     "output_type": "stream",
     "text": [
      "(237104, 15)\n"
     ]
    }
   ],
   "source": [
    "cols =  [\"fecha\", \"periodo\", \"dia\", \"Dia_Util\", \"codcent\", \"contrato\", \"clave\", \"CapitalSoles\", \"PagoTotalSoles\", \"PagoEfectTotalSoles\", \"PagoEfectTotalSolesAgencia\", \"PagoEfectTotalSolesAgenciaCont\", \"Agencia\", \"desc_tramo\", \"foco\", , \"reactiva\"]\n",
    "df_pagos_test = df_pagos_test[cols]\n",
    "print(df_pagos_test.shape)"
   ]
  },
  {
   "cell_type": "code",
   "execution_count": 45,
   "metadata": {},
   "outputs": [
    {
     "name": "stdout",
     "output_type": "stream",
     "text": [
      "(6812, 15)\n"
     ]
    }
   ],
   "source": [
    "df_pagos_test = df_pagos_test[df_pagos_test[\"PagoEfectTotalSolesAgenciaCont\"]!=0]\n",
    "print(df_pagos_test.shape)"
   ]
  },
  {
   "cell_type": "code",
   "execution_count": 46,
   "metadata": {},
   "outputs": [
    {
     "data": {
      "text/plain": [
       "desc_tramo\n",
       "< 01 año             2944\n",
       "De 90 a 180 dias     2263\n",
       "< 02 años             912\n",
       "> 03 años             341\n",
       "< 03 años             232\n",
       "De 181 a 365 dias     112\n",
       "> 365 dias              8\n",
       "Name: count, dtype: int64"
      ]
     },
     "execution_count": 46,
     "metadata": {},
     "output_type": "execute_result"
    }
   ],
   "source": [
    "df_pagos_test.value_counts(\"desc_tramo\")"
   ]
  },
  {
   "cell_type": "code",
   "execution_count": 47,
   "metadata": {},
   "outputs": [
    {
     "data": {
      "text/plain": [
       "MARCA KST\n",
       "KSTBC      3499\n",
       "           2747\n",
       "KSTBC_2     566\n",
       "Name: count, dtype: int64"
      ]
     },
     "execution_count": 47,
     "metadata": {},
     "output_type": "execute_result"
    }
   ],
   "source": [
    "def marca_kst(row):\n",
    "    if row[\"clave\"] == \"KSTBC\":\n",
    "        if row[\"desc_tramo\"] in [\"< 01 año\", \"De 90 a 180 dias\", \"< 02 años\"]:\n",
    "            return \"KSTBC\"\n",
    "        else:\n",
    "            return \"KSTBC_2\"\n",
    "    return \"\"\n",
    "\n",
    "df_pagos_test[\"MARCA KST\"] = df_pagos_test.apply(marca_kst, axis=1)\n",
    "df_pagos_test.value_counts(\"MARCA KST\")"
   ]
  },
  {
   "cell_type": "code",
   "execution_count": 48,
   "metadata": {},
   "outputs": [
    {
     "data": {
      "text/plain": [
       "fecha                               int64\n",
       "periodo                             int64\n",
       "dia                                 int64\n",
       "Dia_Util                            int64\n",
       "codcent                             int64\n",
       "contrato                            int64\n",
       "clave                              object\n",
       "CapitalSoles                      float64\n",
       "PagoTotalSoles                    float64\n",
       "PagoEfectTotalSoles               float64\n",
       "PagoEfectTotalSolesAgencia        float64\n",
       "PagoEfectTotalSolesAgenciaCont    float64\n",
       "Agencia                            object\n",
       "desc_tramo                         object\n",
       "foco                               object\n",
       "MARCA KST                          object\n",
       "dtype: object"
      ]
     },
     "execution_count": 48,
     "metadata": {},
     "output_type": "execute_result"
    }
   ],
   "source": [
    "df_pagos_test.dtypes"
   ]
  },
  {
   "cell_type": "code",
   "execution_count": 49,
   "metadata": {},
   "outputs": [],
   "source": [
    "df_pagos_test[\"codcent\"] = df_pagos_test[\"codcent\"].astype(str)\n",
    "df_pagos_test[\"contrato\"] = df_pagos_test[\"contrato\"].astype(str).str.zfill(20)\n",
    "df_pagos_test[\"cont_18\"] = df_pagos_test[\"contrato\"].apply(lambda x: x[:8] + x[-10:])"
   ]
  },
  {
   "cell_type": "code",
   "execution_count": 50,
   "metadata": {},
   "outputs": [
    {
     "data": {
      "text/html": [
       "<div>\n",
       "<style scoped>\n",
       "    .dataframe tbody tr th:only-of-type {\n",
       "        vertical-align: middle;\n",
       "    }\n",
       "\n",
       "    .dataframe tbody tr th {\n",
       "        vertical-align: top;\n",
       "    }\n",
       "\n",
       "    .dataframe thead th {\n",
       "        text-align: right;\n",
       "    }\n",
       "</style>\n",
       "<table border=\"1\" class=\"dataframe\">\n",
       "  <thead>\n",
       "    <tr style=\"text-align: right;\">\n",
       "      <th></th>\n",
       "      <th>fecha</th>\n",
       "      <th>periodo</th>\n",
       "      <th>dia</th>\n",
       "      <th>Dia_Util</th>\n",
       "      <th>codcent</th>\n",
       "      <th>contrato</th>\n",
       "      <th>clave</th>\n",
       "      <th>CapitalSoles</th>\n",
       "      <th>PagoTotalSoles</th>\n",
       "      <th>PagoEfectTotalSoles</th>\n",
       "      <th>PagoEfectTotalSolesAgencia</th>\n",
       "      <th>PagoEfectTotalSolesAgenciaCont</th>\n",
       "      <th>Agencia</th>\n",
       "      <th>desc_tramo</th>\n",
       "      <th>foco</th>\n",
       "      <th>MARCA KST</th>\n",
       "      <th>cont_18</th>\n",
       "    </tr>\n",
       "  </thead>\n",
       "  <tbody>\n",
       "    <tr>\n",
       "      <th>4</th>\n",
       "      <td>20240731</td>\n",
       "      <td>202407</td>\n",
       "      <td>31</td>\n",
       "      <td>22</td>\n",
       "      <td>21561480</td>\n",
       "      <td>00110504895001812973</td>\n",
       "      <td>KSTBC</td>\n",
       "      <td>3367.33</td>\n",
       "      <td>1280.0</td>\n",
       "      <td>1280.0</td>\n",
       "      <td>1280.0</td>\n",
       "      <td>1280.0</td>\n",
       "      <td>MORNESE MORA</td>\n",
       "      <td>&lt; 01 año</td>\n",
       "      <td>NaN</td>\n",
       "      <td>KSTBC</td>\n",
       "      <td>001105045001812973</td>\n",
       "    </tr>\n",
       "    <tr>\n",
       "      <th>95</th>\n",
       "      <td>20240731</td>\n",
       "      <td>202407</td>\n",
       "      <td>31</td>\n",
       "      <td>22</td>\n",
       "      <td>26674575</td>\n",
       "      <td>00110215159600366307</td>\n",
       "      <td>EXJ</td>\n",
       "      <td>25170.04</td>\n",
       "      <td>20000.0</td>\n",
       "      <td>20000.0</td>\n",
       "      <td>20000.0</td>\n",
       "      <td>20000.0</td>\n",
       "      <td>ASESCOM RJ</td>\n",
       "      <td>De 90 a 180 dias</td>\n",
       "      <td>NaN</td>\n",
       "      <td></td>\n",
       "      <td>001102159600366307</td>\n",
       "    </tr>\n",
       "    <tr>\n",
       "      <th>104</th>\n",
       "      <td>20240731</td>\n",
       "      <td>202407</td>\n",
       "      <td>31</td>\n",
       "      <td>22</td>\n",
       "      <td>25379627</td>\n",
       "      <td>00110504815002406731</td>\n",
       "      <td>KSTBC</td>\n",
       "      <td>998.31</td>\n",
       "      <td>300.0</td>\n",
       "      <td>300.0</td>\n",
       "      <td>300.0</td>\n",
       "      <td>300.0</td>\n",
       "      <td>MORNESE MORA</td>\n",
       "      <td>&lt; 01 año</td>\n",
       "      <td>NaN</td>\n",
       "      <td>KSTBC</td>\n",
       "      <td>001105045002406731</td>\n",
       "    </tr>\n",
       "  </tbody>\n",
       "</table>\n",
       "</div>"
      ],
      "text/plain": [
       "        fecha  periodo  dia  Dia_Util   codcent              contrato  clave  \\\n",
       "4    20240731   202407   31        22  21561480  00110504895001812973  KSTBC   \n",
       "95   20240731   202407   31        22  26674575  00110215159600366307    EXJ   \n",
       "104  20240731   202407   31        22  25379627  00110504815002406731  KSTBC   \n",
       "\n",
       "     CapitalSoles  PagoTotalSoles  PagoEfectTotalSoles  \\\n",
       "4         3367.33          1280.0               1280.0   \n",
       "95       25170.04         20000.0              20000.0   \n",
       "104        998.31           300.0                300.0   \n",
       "\n",
       "     PagoEfectTotalSolesAgencia  PagoEfectTotalSolesAgenciaCont       Agencia  \\\n",
       "4                        1280.0                          1280.0  MORNESE MORA   \n",
       "95                      20000.0                         20000.0    ASESCOM RJ   \n",
       "104                       300.0                           300.0  MORNESE MORA   \n",
       "\n",
       "           desc_tramo foco MARCA KST             cont_18  \n",
       "4            < 01 año  NaN     KSTBC  001105045001812973  \n",
       "95   De 90 a 180 dias  NaN            001102159600366307  \n",
       "104          < 01 año  NaN     KSTBC  001105045002406731  "
      ]
     },
     "execution_count": 50,
     "metadata": {},
     "output_type": "execute_result"
    }
   ],
   "source": [
    "df_pagos_test.head(3)"
   ]
  },
  {
   "cell_type": "code",
   "execution_count": 51,
   "metadata": {},
   "outputs": [
    {
     "name": "stdout",
     "output_type": "stream",
     "text": [
      "(6812, 16)\n"
     ]
    }
   ],
   "source": [
    "cols =  [\"fecha\", \"periodo\", \"dia\", \"Dia_Util\", \"codcent\", \"contrato\", \"cont_18\", \"clave\", \"CapitalSoles\", \"PagoTotalSoles\", \"PagoEfectTotalSoles\", \"PagoEfectTotalSolesAgencia\", \"PagoEfectTotalSolesAgenciaCont\", \"Agencia\", \"foco\", \"MARCA KST\", \"reactiva\"]\n",
    "df_pagos_test = df_pagos_test[cols]\n",
    "print(df_pagos_test.shape)"
   ]
  },
  {
   "cell_type": "code",
   "execution_count": 52,
   "metadata": {},
   "outputs": [],
   "source": [
    "df_pagos_test.to_excel(\"JULIO31.xlsx\", index=False)"
   ]
  }
 ],
 "metadata": {
  "kernelspec": {
   "display_name": "Python 3",
   "language": "python",
   "name": "python3"
  },
  "language_info": {
   "codemirror_mode": {
    "name": "ipython",
    "version": 3
   },
   "file_extension": ".py",
   "mimetype": "text/x-python",
   "name": "python",
   "nbconvert_exporter": "python",
   "pygments_lexer": "ipython3",
   "version": "3.12.4"
  }
 },
 "nbformat": 4,
 "nbformat_minor": 2
}
