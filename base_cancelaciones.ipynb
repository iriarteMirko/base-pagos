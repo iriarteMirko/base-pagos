{
 "cells": [
  {
   "cell_type": "code",
   "execution_count": null,
   "metadata": {},
   "outputs": [],
   "source": [
    "import pandas as pd\n",
    "import numpy as np\n",
    "import tkinter as tk\n",
    "import warnings\n",
    "import os\n",
    "from tkinter import messagebox\n",
    "from datetime import datetime\n",
    "import calendar\n",
    "\n",
    "warnings.filterwarnings('ignore')\n",
    "\n",
    "def obtener_fecha(mes_anterior=False):\n",
    "    hoy = datetime.now()\n",
    "    \n",
    "    if mes_anterior:\n",
    "        if hoy.month == 1:\n",
    "            mes = 12\n",
    "            año = hoy.year - 1\n",
    "        else:\n",
    "            mes = hoy.month - 1\n",
    "            año = hoy.year\n",
    "    else:\n",
    "        mes = hoy.month\n",
    "        año = hoy.year\n",
    "    \n",
    "    mes_nombre = calendar.month_abbr[mes].upper()[:3] # ENE\n",
    "    mes_año = f\"{mes_nombre}{str(año)[2:]}\" # ENE24\n",
    "    fecha = f\"{año}{str(mes).zfill(2)}\" # 202401\n",
    "    \n",
    "    return mes_año, fecha\n",
    "\n",
    "mes_año, fecha = obtener_fecha(mes_anterior=True)\n",
    "\n",
    "asignacion_path = f'bases/asignacion/{fecha}/base_asignacion_20241002.xlsx'\n",
    "recupero_path = f'bases/recupero/{fecha}/Recupero_{fecha}.xlsx'\n",
    "cancelaciones_path = f'bases/cancelaciones/{fecha}/Cancelaciones {mes_año}.xlsx'\n",
    "\n",
    "final_path = os.path.abspath(cancelaciones_path)\n",
    "\n",
    "print('Base Asignacion:', asignacion_path)\n",
    "print('Base Recupero:',recupero_path)\n",
    "print('Base Cancelaciones:', cancelaciones_path)"
   ]
  },
  {
   "cell_type": "code",
   "execution_count": null,
   "metadata": {},
   "outputs": [],
   "source": [
    "def clean_columns(columns_list: list[str]) -> list[str]:\n",
    "    return [column.strip().replace('.', '').replace(' ', '_').upper() for column in columns_list]"
   ]
  },
  {
   "cell_type": "code",
   "execution_count": null,
   "metadata": {},
   "outputs": [],
   "source": [
    "root = tk.Tk()\n",
    "root.attributes('-topmost', True)\n",
    "root.withdraw()\n",
    "\n",
    "result = messagebox.askquestion('Confirmación', '¿Cargar stock recupero?', icon='warning')\n",
    "if result == 'yes':\n",
    "    df_recupero = pd.read_excel(recupero_path, sheet_name='BASE')\n",
    "    print('Base Recupero:', df_recupero.shape)\n",
    "\n",
    "root.destroy()"
   ]
  },
  {
   "cell_type": "code",
   "execution_count": null,
   "metadata": {},
   "outputs": [],
   "source": [
    "root = tk.Tk()\n",
    "root.attributes('-topmost', True)\n",
    "root.withdraw()\n",
    "\n",
    "result = messagebox.askquestion('Confirmación', '¿Cargar base asignacion?', icon='warning')\n",
    "if result == 'yes':\n",
    "    df_asignacion = pd.read_excel(asignacion_path, sheet_name='Hoja1')\n",
    "    print('Base Asignación:', df_asignacion.shape)\n",
    "\n",
    "root.destroy()"
   ]
  },
  {
   "cell_type": "code",
   "execution_count": null,
   "metadata": {},
   "outputs": [],
   "source": [
    "df_asignacion_test = df_asignacion.copy()\n",
    "df_asignacion_test.columns = clean_columns(df_asignacion_test.columns)\n",
    "df_recupero_test = df_recupero.copy()\n",
    "df_recupero_test.columns = clean_columns(df_recupero_test.columns)"
   ]
  },
  {
   "cell_type": "code",
   "execution_count": null,
   "metadata": {},
   "outputs": [],
   "source": [
    "df_asignacion_test['CODIGO'] = df_asignacion_test['CODIGO'].astype('Int64').astype(str).str.zfill(8)\n",
    "df_asignacion_test['CONT_18'] = df_asignacion_test['CONT_18'].apply(lambda x: str(int(x)).zfill(18) if pd.notna(x) else x)\n",
    "\n",
    "df_asignacion_test['TIPO_FONDO'].replace({'REACTIVA_KST': 'REACTIVA'}, inplace=True)\n",
    "df_asignacion_test['TIPO_FONDO'].fillna('NULL', inplace=True)\n",
    "\n",
    "df_asignacion_test['CAMP'] = df_asignacion_test['CAMP'].str.extract(r'(\\d+)%').astype(float)\n",
    "df_asignacion_test['CAMP'].fillna(0, inplace=True)\n",
    "\n",
    "df_asignacion_test['IMPORTE_CAMP'] = df_asignacion_test.apply(lambda x: x['CAPITAL'] if x['TIPO_FONDO'] in ['REACTIVA', 'FAE', 'CRECER'] else x['CAPITAL']*x['CAMP']/100, axis=1)\n",
    "\n",
    "cols_asignacion = ['CODIGO', 'CONT_18', 'CLAVE', 'IMPORTE_CAMP', 'TIPO_FONDO']\n",
    "df_asignacion_test = df_asignacion_test[cols_asignacion]\n",
    "\n",
    "\n",
    "print('Base Asignación:', df_asignacion_test.shape)\n",
    "df_asignacion_test.head(5)"
   ]
  },
  {
   "cell_type": "code",
   "execution_count": null,
   "metadata": {},
   "outputs": [],
   "source": [
    "df_recupero_test.rename(columns={'CODCENTRAL': 'CODIGO', 'CONT_SAE': 'CONT_18', 'ENTIDAD': 'CLAVE'}, inplace=True)\n",
    "\n",
    "df_recupero_test = df_recupero_test[df_recupero_test['BANCA'] == 'MINORISTA']\n",
    "df_recupero_test = df_recupero_test[df_recupero_test['TIPO_CARTERA'] != 'SECURED']\n",
    "\n",
    "df_recupero_test['CLAVE'] = df_recupero_test['CLAVE'].replace('KST', 'KSTBC')\n",
    "\n",
    "df_recupero_test['CODIGO'] = df_recupero_test['CODIGO'].astype('Int64').astype(str).str.zfill(8)\n",
    "df_recupero_test['CONT_18'] = df_recupero_test['CONT_18'].apply(lambda x: str(int(x)).zfill(18) if pd.notna(x) else x)\n",
    "\n",
    "df_recupero_test['LIQUIDO'].fillna(0, inplace=True)\n",
    "df_recupero_test['TRANSACCION_REFINANCIADO'].fillna(0, inplace=True)\n",
    "df_recupero_test['TOTAL'] = df_recupero_test['LIQUIDO'] + df_recupero_test['TRANSACCION_REFINANCIADO']\n",
    "\n",
    "df_grouped = df_recupero_test.groupby('CONT_18')['TOTAL'].sum().reset_index()\n",
    "\n",
    "df_recupero_test = df_recupero_test.drop_duplicates(subset='CONT_18', keep='last')\n",
    "df_recupero_test = df_recupero_test.merge(df_grouped, on='CONT_18', suffixes=('', '_sum'))\n",
    "\n",
    "df_recupero_test['TOTAL'] = df_recupero_test['TOTAL_sum']\n",
    "df_recupero_test.drop(columns='TOTAL_sum', inplace=True)\n",
    "\n",
    "df_recupero_test.sort_values(['CODIGO', 'CONT_18', 'CLAVE', 'TOTAL'], inplace=True)\n",
    "df_recupero_test.reset_index(drop=True, inplace=True)\n",
    "\n",
    "cols_recupero = ['CODIGO', 'CONT_18', 'CLAVE', 'TOTAL']\n",
    "df_recupero_test = df_recupero_test[cols_recupero]\n",
    "\n",
    "print('Base Recupero:', df_recupero_test.shape)\n",
    "df_recupero_test.head(5)"
   ]
  },
  {
   "cell_type": "code",
   "execution_count": null,
   "metadata": {},
   "outputs": [],
   "source": [
    "df_cancelaciones = df_recupero_test.merge(df_asignacion_test[['CONT_18', 'IMPORTE_CAMP', 'TIPO_FONDO']], on='CONT_18', how='left')\n",
    "df_cancelaciones['CUMPLE'] = np.where(df_cancelaciones['TOTAL'] >= df_cancelaciones['IMPORTE_CAMP'], 'SI', 'NO')\n",
    "df_cancelaciones['TOTAL'] = df_cancelaciones['TOTAL'].round(2)\n",
    "df_cancelaciones['IMPORTE_CAMP'] = df_cancelaciones['IMPORTE_CAMP'].round(2)\n",
    "\n",
    "df_cancelaciones = df_cancelaciones[df_cancelaciones['CUMPLE'] == 'SI']\n",
    "\n",
    "df_cancelaciones.rename(columns={'TOTAL': 'IMPORTE_SUMA', 'IMPORTE_CAMP': 'IMPORTE_MINIMO'}, inplace=True)\n",
    "df_cancelaciones = df_cancelaciones[['CODIGO', 'CONT_18', 'CLAVE', 'IMPORTE_SUMA', 'IMPORTE_MINIMO', 'CUMPLE', 'TIPO_FONDO']]\n",
    "\n",
    "df_cancelaciones.sort_values(['IMPORTE_SUMA'], ascending=False, inplace=True)\n",
    "df_cancelaciones.reset_index(drop=True, inplace=True)\n",
    "df_cancelaciones.to_excel(final_path, index=False, sheet_name=f'CANCELACIONES {mes_año}')\n",
    "\n",
    "df_cancelaciones.head(5)"
   ]
  },
  {
   "cell_type": "code",
   "execution_count": null,
   "metadata": {},
   "outputs": [],
   "source": [
    "os.startfile(final_path)"
   ]
  }
 ],
 "metadata": {
  "kernelspec": {
   "display_name": "Python 3",
   "language": "python",
   "name": "python3"
  },
  "language_info": {
   "codemirror_mode": {
    "name": "ipython",
    "version": 3
   },
   "file_extension": ".py",
   "mimetype": "text/x-python",
   "name": "python",
   "nbconvert_exporter": "python",
   "pygments_lexer": "ipython3",
   "version": "3.11.5"
  }
 },
 "nbformat": 4,
 "nbformat_minor": 2
}
