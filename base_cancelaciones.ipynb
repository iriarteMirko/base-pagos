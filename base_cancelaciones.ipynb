{
 "cells": [
  {
   "cell_type": "code",
   "execution_count": null,
   "metadata": {},
   "outputs": [],
   "source": [
    "import pandas as pd\n",
    "import tkinter as tk\n",
    "import warnings\n",
    "import os\n",
    "from tkinter import messagebox\n",
    "from datetime import datetime\n",
    "import calendar\n",
    "\n",
    "warnings.filterwarnings('ignore')\n",
    "\n",
    "def obtener_fecha(mes_anterior=False):\n",
    "    hoy = datetime.now()\n",
    "    \n",
    "    if mes_anterior:\n",
    "        if hoy.month == 1:\n",
    "            mes = 12\n",
    "            año = hoy.year - 1\n",
    "        else:\n",
    "            mes = hoy.month - 1\n",
    "            año = hoy.year\n",
    "    else:\n",
    "        mes = hoy.month\n",
    "        año = hoy.year\n",
    "    \n",
    "    mes_nombre = calendar.month_abbr[mes].upper()[:3] # ENE\n",
    "    mes_año = f\"{mes_nombre}{str(año)[2:]}\" # ENE24\n",
    "    fecha = f\"{año}{str(mes).zfill(2)}\" # 202401\n",
    "    \n",
    "    return mes_año, fecha\n",
    "\n",
    "mes_año, fecha = obtener_fecha(mes_anterior=True)\n",
    "\n",
    "mes_año_2, fecha_2 = obtener_fecha()\n",
    "\n",
    "asignacion_path = f'bases/asignacion/{fecha}/base_asignacion_{mes_año}.xlsx'\n",
    "efectividades_path = f'bases/efectividades/{fecha}/BasePagos_Efectividades_20241031_Contrato.xlsx'\n",
    "cancelaciones_path = f'bases/cancelaciones/{fecha_2}/Base_Cancelaciones_{mes_año_2}.xlsx'\n",
    "\n",
    "final_path = os.path.abspath(cancelaciones_path)\n",
    "\n",
    "print('Base Asignacion:', asignacion_path)\n",
    "print('Base Efectividades:',efectividades_path)\n",
    "print('Base Cancelaciones:', cancelaciones_path)"
   ]
  },
  {
   "cell_type": "code",
   "execution_count": null,
   "metadata": {},
   "outputs": [],
   "source": []
  },
  {
   "cell_type": "code",
   "execution_count": null,
   "metadata": {},
   "outputs": [],
   "source": []
  },
  {
   "cell_type": "code",
   "execution_count": null,
   "metadata": {},
   "outputs": [],
   "source": []
  },
  {
   "cell_type": "code",
   "execution_count": null,
   "metadata": {},
   "outputs": [],
   "source": []
  },
  {
   "cell_type": "code",
   "execution_count": null,
   "metadata": {},
   "outputs": [],
   "source": []
  }
 ],
 "metadata": {
  "kernelspec": {
   "display_name": "Python 3",
   "language": "python",
   "name": "python3"
  },
  "language_info": {
   "codemirror_mode": {
    "name": "ipython",
    "version": 3
   },
   "file_extension": ".py",
   "mimetype": "text/x-python",
   "name": "python",
   "nbconvert_exporter": "python",
   "pygments_lexer": "ipython3",
   "version": "3.12.4"
  }
 },
 "nbformat": 4,
 "nbformat_minor": 2
}
